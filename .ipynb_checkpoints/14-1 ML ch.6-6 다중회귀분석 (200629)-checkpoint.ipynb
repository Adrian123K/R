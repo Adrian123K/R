{
 "cells": [
  {
   "cell_type": "markdown",
   "metadata": {},
   "source": [
    "# <b> ■ 회귀분석 </b>\n",
    "    1. 단순 회귀분석\n",
    "        - 단순 회귀분석 이론 \n",
    "        - 단순 회귀분석 실습1 : 애벌레 사료와 탄닌 함유량과의 관계\n",
    "        - 단순 회귀분석 실습2 : 우주 왕복선 챌린저 폭파원인\n",
    "        - 상관관계 ( 다중회귀 -> 다중공선성(multicolinearity)\n",
    "        - 자동화 스크립트 개선 ( 산포도 그래프 + 회귀직선 추가 )            \n",
    "    2. 다중 회귀분석\n",
    "        "
   ]
  },
  {
   "cell_type": "markdown",
   "metadata": {},
   "source": [
    "## ■ <b> 다중회귀분석</b>\n",
    "```\n",
    "    단순선형회귀분석 -> 목적이 하나의 독립변수만을 가지고 종속변수를 예측하기 위한 회귀모형을 만들기 위한 것\n",
    "    다중회귀분석 -> 목적이 여러개의 독립변수들을 가지고 종속변수를 예측하기 위한 회귀모형을 만들기 위한 것\n",
    "```\n",
    "```\n",
    "    질문1. 집 값에 영향을 미치는 요소가 여러 독립 변수들 중 무엇?\n",
    "```\n",
    "\n",
    "![다중회귀식](http://cfile259.uf.daum.net/image/9923BA3E5EF897C425BDC1)"
   ]
  },
  {
   "cell_type": "markdown",
   "metadata": {},
   "source": [
    "### □ <b>다중선형 회귀식을 이해하기 위한 사전 지식</b>\n",
    "```\n",
    "        1. 전치행렬 : 행과 열을 교환하여 얻은 행렬\n",
    "        2. 단위행렬 : 주 대각선의 원소가 모두 1이며 나머지 원소는 모두 0인 정사각 행렬\n",
    "        3. 역행렬 : 원래 행렬과 곱했을때 단위행렬이 되는 행렬\n",
    "```\n",
    "![역행렬](http://cfile263.uf.daum.net/image/99DB88335A0BB5441C52A3)\n",
    "```\n",
    "        4. 의사역행렬(Pseudo inverse matrix) \n",
    "            역행렬은 정방행렬일 때만 구할 수 있다. 따라서 직사각행렬일 때는 역행렬을 구할 수 없으므로 의사역행렬을 구해야한다\n",
    "            - 정방행렬\n",
    "```\n",
    "$$B=\\begin{pmatrix} a & b \\\\  c & d \\\\  \\end{pmatrix}$$\n",
    "$$B^{-1}={{1}\\over{ad-bc}}\\begin{pmatrix} d & -b \\\\ -c & a \\\\ \\end{pmatrix}$$\n",
    "```\n",
    "            - 비 정방행렬\n",
    "```\n",
    "$$A=\\begin{pmatrix} x_{11} & x_{12} & x_{13} & x_{14} \\\\ x_{21} & x_{22} & x_{23} & x_{24} \\\\ x_{31} & x_{32} & x_{33} & x_{34} \\\\ \\end{pmatrix}$$\n",
    "$$A \\cdot A^{T} : 정방행렬　　det(A)≠0　일　때　역행렬이　존재$$"
   ]
  },
  {
   "cell_type": "markdown",
   "metadata": {},
   "source": [
    "### ※ 문제255. 아래의 행렬을 r로 구현하고 아래의 행렬의 전치행렬을 구하시오\n",
    "$$ \\begin{pmatrix}\n",
    "    1 & 2 \\\\\n",
    "    3 & 4 \\\\\n",
    "    5 & 6 \\\\\n",
    "    \\end{pmatrix}$$"
   ]
  },
  {
   "cell_type": "code",
   "execution_count": 1,
   "metadata": {
    "ExecuteTime": {
     "end_time": "2020-06-29T01:06:01.445489Z",
     "start_time": "2020-06-29T01:06:01.374Z"
    }
   },
   "outputs": [
    {
     "data": {
      "text/html": [
       "<table>\n",
       "<tbody>\n",
       "\t<tr><td>1</td><td>2</td><td>3</td></tr>\n",
       "\t<tr><td>4</td><td>5</td><td>6</td></tr>\n",
       "</tbody>\n",
       "</table>\n"
      ],
      "text/latex": [
       "\\begin{tabular}{lll}\n",
       "\t 1 & 2 & 3\\\\\n",
       "\t 4 & 5 & 6\\\\\n",
       "\\end{tabular}\n"
      ],
      "text/markdown": [
       "\n",
       "| 1 | 2 | 3 |\n",
       "| 4 | 5 | 6 |\n",
       "\n"
      ],
      "text/plain": [
       "     [,1] [,2] [,3]\n",
       "[1,] 1    2    3   \n",
       "[2,] 4    5    6   "
      ]
     },
     "metadata": {},
     "output_type": "display_data"
    }
   ],
   "source": [
    "A <- matrix(c(1,2,3,4,5,6), nrow = 3, ncol = 2, byrow=T)\n",
    "A\n",
    "t(A)"
   ]
  },
  {
   "cell_type": "markdown",
   "metadata": {},
   "source": [
    "### ※ 문제256. 아래의 행렬의 곱을 구현하시오\n",
    "$$ \\begin{pmatrix}\n",
    "    1 & 2 & 3 \\\\\n",
    "    2 & 3 & 4 \\\\\n",
    "    \\end{pmatrix}*\n",
    "    \\begin{pmatrix}\n",
    "    1 & 0 & 0 \\\\\n",
    "    0 & 1 & 0 \\\\\n",
    "    0 & 0 & 1 \\\\\n",
    "    \\end{pmatrix} $$"
   ]
  },
  {
   "cell_type": "code",
   "execution_count": 7,
   "metadata": {
    "ExecuteTime": {
     "end_time": "2020-06-29T01:16:33.836829Z",
     "start_time": "2020-06-29T01:16:33.802Z"
    }
   },
   "outputs": [
    {
     "data": {
      "text/html": [
       "<table>\n",
       "<tbody>\n",
       "\t<tr><td>1</td><td>2</td><td>3</td></tr>\n",
       "\t<tr><td>2</td><td>3</td><td>4</td></tr>\n",
       "</tbody>\n",
       "</table>\n"
      ],
      "text/latex": [
       "\\begin{tabular}{lll}\n",
       "\t 1 & 2 & 3\\\\\n",
       "\t 2 & 3 & 4\\\\\n",
       "\\end{tabular}\n"
      ],
      "text/markdown": [
       "\n",
       "| 1 | 2 | 3 |\n",
       "| 2 | 3 | 4 |\n",
       "\n"
      ],
      "text/plain": [
       "     [,1] [,2] [,3]\n",
       "[1,] 1    2    3   \n",
       "[2,] 2    3    4   "
      ]
     },
     "metadata": {},
     "output_type": "display_data"
    }
   ],
   "source": [
    "b <- matrix(c(1,2,3,2,3,4),nrow=2,ncol=3, byrow=T)\n",
    "i <- diag(3)\n",
    "b%*%i"
   ]
  },
  {
   "cell_type": "markdown",
   "metadata": {},
   "source": [
    "### ※ 문제257. 역행렬구하기\n",
    "$$\\begin{pmatrix}\n",
    "    1 & 2 \\\\\n",
    "    3 & 4 \\\\\n",
    "    \\end{pmatrix}\n",
    "    \\begin{pmatrix}\n",
    "    x_{11} & x_{12} \\\\\n",
    "    x_{21} & x_{22} \\\\\n",
    "    \\end{pmatrix}=\\begin{pmatrix}\n",
    "    1 & 0 \\\\\n",
    "    0 & 1 \\\\\n",
    "    \\end{pmatrix}$$"
   ]
  },
  {
   "cell_type": "code",
   "execution_count": 8,
   "metadata": {
    "ExecuteTime": {
     "end_time": "2020-06-29T01:42:07.175695Z",
     "start_time": "2020-06-29T01:42:07.040Z"
    }
   },
   "outputs": [
    {
     "data": {
      "text/html": [
       "<table>\n",
       "<tbody>\n",
       "\t<tr><td>-2.0</td><td> 1.0</td></tr>\n",
       "\t<tr><td> 1.5</td><td>-0.5</td></tr>\n",
       "</tbody>\n",
       "</table>\n"
      ],
      "text/latex": [
       "\\begin{tabular}{ll}\n",
       "\t -2.0 &  1.0\\\\\n",
       "\t  1.5 & -0.5\\\\\n",
       "\\end{tabular}\n"
      ],
      "text/markdown": [
       "\n",
       "| -2.0 |  1.0 |\n",
       "|  1.5 | -0.5 |\n",
       "\n"
      ],
      "text/plain": [
       "     [,1] [,2]\n",
       "[1,] -2.0  1.0\n",
       "[2,]  1.5 -0.5"
      ]
     },
     "metadata": {},
     "output_type": "display_data"
    },
    {
     "data": {
      "text/html": [
       "<table>\n",
       "<tbody>\n",
       "\t<tr><td>1</td><td>0</td></tr>\n",
       "\t<tr><td>0</td><td>1</td></tr>\n",
       "</tbody>\n",
       "</table>\n"
      ],
      "text/latex": [
       "\\begin{tabular}{ll}\n",
       "\t 1 & 0\\\\\n",
       "\t 0 & 1\\\\\n",
       "\\end{tabular}\n"
      ],
      "text/markdown": [
       "\n",
       "| 1 | 0 |\n",
       "| 0 | 1 |\n",
       "\n"
      ],
      "text/plain": [
       "     [,1] [,2]\n",
       "[1,] 1    0   \n",
       "[2,] 0    1   "
      ]
     },
     "metadata": {},
     "output_type": "display_data"
    }
   ],
   "source": [
    "A <- matrix(c(1,2,3,4),nrow=2,ncol=2, byrow=T)\n",
    "solve(A)\n",
    "round(A %*% solve(A))"
   ]
  },
  {
   "cell_type": "markdown",
   "metadata": {},
   "source": [
    "### ※ 문제258. 의사역행렬로 구한 다중 회귀식의 회귀 계수를 구하는 함수를 책 264페이지를 보고 구현하시오\n",
    "$$ Y= X\\beta + \\epsilon,　　　　　 \\hat{\\beta}=(X^{T}X)^{-1}X^{T}Y$$"
   ]
  },
  {
   "cell_type": "code",
   "execution_count": 12,
   "metadata": {
    "ExecuteTime": {
     "end_time": "2020-06-29T02:10:13.370708Z",
     "start_time": "2020-06-29T02:10:13.344Z"
    }
   },
   "outputs": [],
   "source": [
    "reg <- function(y, x){\n",
    "    x <- as.matrix(x)\n",
    "    x <- cbind(intercept=1,x)\n",
    "    b <- solve(t(x)%*%x)%*%t(x)%*%y\n",
    "    colnames(b) <- 'estimate'\n",
    "    print(b)\n",
    "}"
   ]
  },
  {
   "cell_type": "markdown",
   "metadata": {},
   "source": [
    "    단순회귀분석 예시 : 챌린저호의 폭파원인 -> 온도, O형 링의 파손수 만 사용해서 분석\n",
    "    다중회귀분석 예시 :          ~         -> 비행기번호, 압력 다 사용해서 분석"
   ]
  },
  {
   "cell_type": "markdown",
   "metadata": {},
   "source": [
    "### ※ 문제259. O형링 폭파 원인에 가장 영향을 미친 요소가 온도, 비행기 번호, 압력인지 위에서 만든 reg 함수로 알아내시오"
   ]
  },
  {
   "cell_type": "code",
   "execution_count": 13,
   "metadata": {
    "ExecuteTime": {
     "end_time": "2020-06-29T02:10:15.165993Z",
     "start_time": "2020-06-29T02:10:15.133Z"
    }
   },
   "outputs": [
    {
     "name": "stdout",
     "output_type": "stream",
     "text": [
      "                         estimate\n",
      "intercept             3.527093383\n",
      "temperature          -0.051385940\n",
      "field_check_pressure  0.001757009\n",
      "flight_num            0.014292843\n"
     ]
    }
   ],
   "source": [
    "launch <- read.csv('challenger.csv',head=T)\n",
    "lnch2 <- launch[,-1]\n",
    "reg(y=launch$distress_ct,lnch2)"
   ]
  },
  {
   "cell_type": "markdown",
   "metadata": {},
   "source": [
    "```\n",
    "    O형링 파손에 영향을 주는 가장 큰 독립변수 : temperature -0.051385940\n",
    "    그 다음 변수 : flight_num 0.014292843\n",
    "```\n",
    "$$ \\hat{y}=3.527093383 - 0.051385940\\cdot X_{1} + 0.001577009\\cdot X_{2} + 0.014292843\\cdot X_{3} $$\n",
    "```\n",
    "    온도만 가지고 단순회귀식을 도출해보면\n",
    "```\n",
    "$$ \\hat{y}=3.70 - 0.048\\cdot x_{1}$$\n",
    "```\n",
    "     ea          temp(Ｆ)\n",
    "    2.21          31Ｆ\n",
    "    0.82          60Ｆ\n",
    "    0.34          70Ｆ\n",
    "```\n",
    "    화씨 30도에서 발사하는 것이 화씨 60도에서 발사하는 것 보다 3배 더 위험\n",
    "    화씨 70도에서 발사하는 것보다 7-8배 위험"
   ]
  },
  {
   "cell_type": "markdown",
   "metadata": {},
   "source": [
    "### ※ 문제260. 스마트폰 만족감(종속변수)에 영향을 미치는 요소 중 가장 영향력이 있는 독립변수는 무엇인가?"
   ]
  },
  {
   "cell_type": "code",
   "execution_count": 14,
   "metadata": {
    "ExecuteTime": {
     "end_time": "2020-06-29T02:22:30.489196Z",
     "start_time": "2020-06-29T02:22:30.440Z"
    }
   },
   "outputs": [
    {
     "data": {
      "text/html": [
       "<table>\n",
       "<thead><tr><th scope=col>외관</th><th scope=col>편의성</th><th scope=col>유용성</th><th scope=col>만족감</th></tr></thead>\n",
       "<tbody>\n",
       "\t<tr><td> 0.92028</td><td> 2.26322</td><td> 2.49969</td><td>5.00    </td></tr>\n",
       "\t<tr><td> 0.35472</td><td> 0.11779</td><td> 1.02933</td><td>3.00    </td></tr>\n",
       "\t<tr><td>-0.51868</td><td> 0.20008</td><td>-0.28899</td><td>3.00    </td></tr>\n",
       "\t<tr><td> 1.27550</td><td> 0.16089</td><td> 0.72871</td><td>4.33    </td></tr>\n",
       "\t<tr><td> 1.25506</td><td>-1.83269</td><td> 0.31254</td><td>3.33    </td></tr>\n",
       "\t<tr><td>-0.49746</td><td>-0.96887</td><td> 0.07472</td><td>4.00    </td></tr>\n",
       "</tbody>\n",
       "</table>\n"
      ],
      "text/latex": [
       "\\begin{tabular}{r|llll}\n",
       " 외관 & 편의성 & 유용성 & 만족감\\\\\n",
       "\\hline\n",
       "\t  0.92028 &  2.26322 &  2.49969 & 5.00    \\\\\n",
       "\t  0.35472 &  0.11779 &  1.02933 & 3.00    \\\\\n",
       "\t -0.51868 &  0.20008 & -0.28899 & 3.00    \\\\\n",
       "\t  1.27550 &  0.16089 &  0.72871 & 4.33    \\\\\n",
       "\t  1.25506 & -1.83269 &  0.31254 & 3.33    \\\\\n",
       "\t -0.49746 & -0.96887 &  0.07472 & 4.00    \\\\\n",
       "\\end{tabular}\n"
      ],
      "text/markdown": [
       "\n",
       "| 외관 | 편의성 | 유용성 | 만족감 |\n",
       "|---|---|---|---|\n",
       "|  0.92028 |  2.26322 |  2.49969 | 5.00     |\n",
       "|  0.35472 |  0.11779 |  1.02933 | 3.00     |\n",
       "| -0.51868 |  0.20008 | -0.28899 | 3.00     |\n",
       "|  1.27550 |  0.16089 |  0.72871 | 4.33     |\n",
       "|  1.25506 | -1.83269 |  0.31254 | 3.33     |\n",
       "| -0.49746 | -0.96887 |  0.07472 | 4.00     |\n",
       "\n"
      ],
      "text/plain": [
       "  외관     편의성   유용성   만족감\n",
       "1  0.92028  2.26322  2.49969 5.00  \n",
       "2  0.35472  0.11779  1.02933 3.00  \n",
       "3 -0.51868  0.20008 -0.28899 3.00  \n",
       "4  1.27550  0.16089  0.72871 4.33  \n",
       "5  1.25506 -1.83269  0.31254 3.33  \n",
       "6 -0.49746 -0.96887  0.07472 4.00  "
      ]
     },
     "metadata": {},
     "output_type": "display_data"
    },
    {
     "name": "stdout",
     "output_type": "stream",
     "text": [
      "           estimate\n",
      "intercept 3.5136006\n",
      "외관      0.2694261\n",
      "편의성    0.2105249\n",
      "유용성    0.1623154\n"
     ]
    }
   ],
   "source": [
    "smp <- read.csv('multi_hg.csv',head=T)\n",
    "head(smp)\n",
    "reg(smp$만족감,smp[,1:3]) # 외관"
   ]
  },
  {
   "cell_type": "markdown",
   "metadata": {},
   "source": [
    "### ※ 문제261. 회귀함수 lm을 이용해서 스마트폰 만족감의 회귀계수를 구하시오"
   ]
  },
  {
   "cell_type": "code",
   "execution_count": 15,
   "metadata": {
    "ExecuteTime": {
     "end_time": "2020-06-29T02:54:12.955332Z",
     "start_time": "2020-06-29T02:54:12.855Z"
    }
   },
   "outputs": [
    {
     "data": {
      "text/plain": [
       "\n",
       "Call:\n",
       "lm(formula = 만족감 ~ 외관 + 편의성 + 유용성, data = smp)\n",
       "\n",
       "Coefficients:\n",
       "(Intercept)         외관       편의성       유용성  \n",
       "     3.5136       0.2694       0.2105       0.1623  \n"
      ]
     },
     "metadata": {},
     "output_type": "display_data"
    }
   ],
   "source": [
    "attach(smp)\n",
    "smp_model <- lm(만족감~외관+편의성+유용성,data=smp)\n",
    "smp_model"
   ]
  },
  {
   "cell_type": "markdown",
   "metadata": {},
   "source": [
    "## ■ <b>회귀에서 정규화를 해야하는 경우</b>\n",
    "### ※ 보험회사의 의료비에 따른 보험비용 산정에 대한 예\n",
    "    1. 정규화를 하는 경우\n",
    "        보험 비용에 가장 영향을 크게 미치는 변수가 무엇인지 확인할 때\n",
    "        종속 변수와 독립변수의 영향도를 확인하고 싶을 때\n",
    "        \n",
    "    2. 정규화를 안해야하는 경우\n",
    "        나이가 한 살 더 늘어날 때 보험료가 얼마나 인상되어야 하는지 예측할 때\n",
    "        부양가족이 한 명 더 늘어날 때 보험료가 얼마나 인상되어야 하는지 예측할 때\n",
    "        \n",
    "    회귀식을 해석해서 정확한 보험료를 예측해야한다면 정규화를 하지 않는다\n",
    "\n",
    "## ■ <b>표준화와 정규화의 차이</b>\n",
    "```\n",
    "    1. 표준화 : 평균 0, 표준편차 1인 데이터 분포로 구성\n",
    "        ex) scale 함수\n",
    "    2. 정규화 : min/max 정규화, 데이터를 0~1 사이의 숫자로 변환\n",
    "        ML에서는 표준화보다 정규화가 더 좋은 결과가 나와서 더 선호\n",
    "```"
   ]
  },
  {
   "cell_type": "markdown",
   "metadata": {},
   "source": [
    "### ※ 문제262. (점심시간 문제) 미국 대학교 입학에 가장 크게 영향을 미치는 요소가 무엇인지 알아내시오"
   ]
  },
  {
   "cell_type": "code",
   "execution_count": 16,
   "metadata": {
    "ExecuteTime": {
     "end_time": "2020-06-29T03:03:58.946769Z",
     "start_time": "2020-06-29T03:03:58.891Z"
    },
    "scrolled": true
   },
   "outputs": [
    {
     "data": {
      "text/html": [
       "<table>\n",
       "<thead><tr><th scope=col>X</th><th scope=col>academic</th><th scope=col>sports</th><th scope=col>music</th><th scope=col>acceptance</th></tr></thead>\n",
       "<tbody>\n",
       "\t<tr><td>1       </td><td>230.1   </td><td>37.8    </td><td>62.90909</td><td>81.85185</td></tr>\n",
       "\t<tr><td>2       </td><td> 44.5   </td><td>39.3    </td><td>41.00000</td><td>38.51852</td></tr>\n",
       "\t<tr><td>3       </td><td> 17.2   </td><td>45.9    </td><td>63.00000</td><td>34.44444</td></tr>\n",
       "\t<tr><td>4       </td><td>151.5   </td><td>41.3    </td><td>68.51852</td><td>68.51852</td></tr>\n",
       "\t<tr><td>5       </td><td>180.8   </td><td>10.8    </td><td>53.09091</td><td>47.77778</td></tr>\n",
       "\t<tr><td>6       </td><td>  8.7   </td><td>48.9    </td><td>68.18182</td><td>26.66667</td></tr>\n",
       "</tbody>\n",
       "</table>\n"
      ],
      "text/latex": [
       "\\begin{tabular}{r|lllll}\n",
       " X & academic & sports & music & acceptance\\\\\n",
       "\\hline\n",
       "\t 1        & 230.1    & 37.8     & 62.90909 & 81.85185\\\\\n",
       "\t 2        &  44.5    & 39.3     & 41.00000 & 38.51852\\\\\n",
       "\t 3        &  17.2    & 45.9     & 63.00000 & 34.44444\\\\\n",
       "\t 4        & 151.5    & 41.3     & 68.51852 & 68.51852\\\\\n",
       "\t 5        & 180.8    & 10.8     & 53.09091 & 47.77778\\\\\n",
       "\t 6        &   8.7    & 48.9     & 68.18182 & 26.66667\\\\\n",
       "\\end{tabular}\n"
      ],
      "text/markdown": [
       "\n",
       "| X | academic | sports | music | acceptance |\n",
       "|---|---|---|---|---|\n",
       "| 1        | 230.1    | 37.8     | 62.90909 | 81.85185 |\n",
       "| 2        |  44.5    | 39.3     | 41.00000 | 38.51852 |\n",
       "| 3        |  17.2    | 45.9     | 63.00000 | 34.44444 |\n",
       "| 4        | 151.5    | 41.3     | 68.51852 | 68.51852 |\n",
       "| 5        | 180.8    | 10.8     | 53.09091 | 47.77778 |\n",
       "| 6        |   8.7    | 48.9     | 68.18182 | 26.66667 |\n",
       "\n"
      ],
      "text/plain": [
       "  X academic sports music    acceptance\n",
       "1 1 230.1    37.8   62.90909 81.85185  \n",
       "2 2  44.5    39.3   41.00000 38.51852  \n",
       "3 3  17.2    45.9   63.00000 34.44444  \n",
       "4 4 151.5    41.3   68.51852 68.51852  \n",
       "5 5 180.8    10.8   53.09091 47.77778  \n",
       "6 6   8.7    48.9   68.18182 26.66667  "
      ]
     },
     "metadata": {},
     "output_type": "display_data"
    },
    {
     "name": "stdout",
     "output_type": "stream",
     "text": [
      "                estimate\n",
      "intercept  -5.146439e-13\n",
      "academic   -6.473988e-15\n",
      "sports     -3.275505e-14\n",
      "music      -3.948231e-15\n",
      "acceptance  1.000000e+00\n"
     ]
    },
    {
     "data": {
      "text/plain": [
       "\n",
       "Call:\n",
       "lm(formula = acceptance ~ academic + sports + music, data = subj)\n",
       "\n",
       "Coefficients:\n",
       "(Intercept)     academic       sports        music  \n",
       "    11.4903       0.1558       0.5727       0.1046  \n"
      ]
     },
     "metadata": {},
     "output_type": "display_data"
    }
   ],
   "source": [
    "subj <- read.csv('sports.csv',head=T)\n",
    "head(subj)\n",
    "reg(y=subj$acceptance,x=subj[,-1])\n",
    "lm(acceptance~academic+sports+music,data=subj) # sports"
   ]
  },
  {
   "cell_type": "markdown",
   "metadata": {},
   "source": [
    "    * 정규화 여부에 따른 데이터 분석\n",
    "        1. 정규화를 했을 때 -> academic이 sports 보다 더 영향력이 높다\n",
    "        2. 정규화를 안했을 때 -> sports가 academic보다 더 높다\n",
    "```\n",
    "    종속변수에 더 영향력이 있는 독립변수를 알아내려면 정규화\n",
    "    전부 0~1 사이의 데이터로 변경하고 독립변수의 영향도를 비교\n",
    "```\n",
    "```\n",
    "    영향력 분석이 아니라 단지 sports 점수가 1점 올라갈 때 acceptance 점수가 몇 점 올라가는지 확인할 때는 정규화하지 않고 수행\n",
    "```"
   ]
  },
  {
   "cell_type": "markdown",
   "metadata": {},
   "source": [
    "## ■ <b>다중회귀분석 실습 (미국 국민의 의료비 데이터 회귀분석)</b>"
   ]
  },
  {
   "cell_type": "markdown",
   "metadata": {},
   "source": [
    "### ※ 문제263. 정규화를 하고 회귀계수(기울기)를 구하시오"
   ]
  },
  {
   "cell_type": "code",
   "execution_count": 24,
   "metadata": {
    "ExecuteTime": {
     "end_time": "2020-06-29T05:13:35.478937Z",
     "start_time": "2020-06-29T05:13:35.346Z"
    },
    "scrolled": true
   },
   "outputs": [
    {
     "data": {
      "text/html": [
       "<table>\n",
       "<thead><tr><th scope=col>age</th><th scope=col>sex</th><th scope=col>bmi</th><th scope=col>children</th><th scope=col>smoker</th><th scope=col>region</th><th scope=col>expenses</th></tr></thead>\n",
       "<tbody>\n",
       "\t<tr><td>19       </td><td>female   </td><td>27.9     </td><td>0        </td><td>yes      </td><td>southwest</td><td>16884.92 </td></tr>\n",
       "\t<tr><td>18       </td><td>male     </td><td>33.8     </td><td>1        </td><td>no       </td><td>southeast</td><td> 1725.55 </td></tr>\n",
       "\t<tr><td>28       </td><td>male     </td><td>33.0     </td><td>3        </td><td>no       </td><td>southeast</td><td> 4449.46 </td></tr>\n",
       "\t<tr><td>33       </td><td>male     </td><td>22.7     </td><td>0        </td><td>no       </td><td>northwest</td><td>21984.47 </td></tr>\n",
       "\t<tr><td>32       </td><td>male     </td><td>28.9     </td><td>0        </td><td>no       </td><td>northwest</td><td> 3866.86 </td></tr>\n",
       "\t<tr><td>31       </td><td>female   </td><td>25.7     </td><td>0        </td><td>no       </td><td>southeast</td><td> 3756.62 </td></tr>\n",
       "</tbody>\n",
       "</table>\n"
      ],
      "text/latex": [
       "\\begin{tabular}{r|lllllll}\n",
       " age & sex & bmi & children & smoker & region & expenses\\\\\n",
       "\\hline\n",
       "\t 19        & female    & 27.9      & 0         & yes       & southwest & 16884.92 \\\\\n",
       "\t 18        & male      & 33.8      & 1         & no        & southeast &  1725.55 \\\\\n",
       "\t 28        & male      & 33.0      & 3         & no        & southeast &  4449.46 \\\\\n",
       "\t 33        & male      & 22.7      & 0         & no        & northwest & 21984.47 \\\\\n",
       "\t 32        & male      & 28.9      & 0         & no        & northwest &  3866.86 \\\\\n",
       "\t 31        & female    & 25.7      & 0         & no        & southeast &  3756.62 \\\\\n",
       "\\end{tabular}\n"
      ],
      "text/markdown": [
       "\n",
       "| age | sex | bmi | children | smoker | region | expenses |\n",
       "|---|---|---|---|---|---|---|\n",
       "| 19        | female    | 27.9      | 0         | yes       | southwest | 16884.92  |\n",
       "| 18        | male      | 33.8      | 1         | no        | southeast |  1725.55  |\n",
       "| 28        | male      | 33.0      | 3         | no        | southeast |  4449.46  |\n",
       "| 33        | male      | 22.7      | 0         | no        | northwest | 21984.47  |\n",
       "| 32        | male      | 28.9      | 0         | no        | northwest |  3866.86  |\n",
       "| 31        | female    | 25.7      | 0         | no        | southeast |  3756.62  |\n",
       "\n"
      ],
      "text/plain": [
       "  age sex    bmi  children smoker region    expenses\n",
       "1 19  female 27.9 0        yes    southwest 16884.92\n",
       "2 18  male   33.8 1        no     southeast  1725.55\n",
       "3 28  male   33.0 3        no     southeast  4449.46\n",
       "4 33  male   22.7 0        no     northwest 21984.47\n",
       "5 32  male   28.9 0        no     northwest  3866.86\n",
       "6 31  female 25.7 0        no     southeast  3756.62"
      ]
     },
     "metadata": {},
     "output_type": "display_data"
    },
    {
     "data": {
      "text/html": [
       "<dl class=dl-horizontal>\n",
       "\t<dt>age</dt>\n",
       "\t\t<dd>0</dd>\n",
       "\t<dt>sex</dt>\n",
       "\t\t<dd>0</dd>\n",
       "\t<dt>bmi</dt>\n",
       "\t\t<dd>0</dd>\n",
       "\t<dt>children</dt>\n",
       "\t\t<dd>0</dd>\n",
       "\t<dt>smoker</dt>\n",
       "\t\t<dd>0</dd>\n",
       "\t<dt>region</dt>\n",
       "\t\t<dd>0</dd>\n",
       "\t<dt>expenses</dt>\n",
       "\t\t<dd>0</dd>\n",
       "</dl>\n"
      ],
      "text/latex": [
       "\\begin{description*}\n",
       "\\item[age] 0\n",
       "\\item[sex] 0\n",
       "\\item[bmi] 0\n",
       "\\item[children] 0\n",
       "\\item[smoker] 0\n",
       "\\item[region] 0\n",
       "\\item[expenses] 0\n",
       "\\end{description*}\n"
      ],
      "text/markdown": [
       "age\n",
       ":   0sex\n",
       ":   0bmi\n",
       ":   0children\n",
       ":   0smoker\n",
       ":   0region\n",
       ":   0expenses\n",
       ":   0\n",
       "\n"
      ],
      "text/plain": [
       "     age      sex      bmi children   smoker   region expenses \n",
       "       0        0        0        0        0        0        0 "
      ]
     },
     "metadata": {},
     "output_type": "display_data"
    },
    {
     "data": {
      "image/png": "[encoded data removed]",
      "text/plain": [
       "Plot with title \"Histogram of insurance$expenses\""
      ]
     },
     "metadata": {},
     "output_type": "display_data"
    }
   ],
   "source": [
    "insurance <- read.csv(\"insurance.csv\")\n",
    "head(insurance) \n",
    "\n",
    "colSums(is.na(insurance)) # 결측치 확인\n",
    "\n",
    "hist(insurance$expenses)"
   ]
  },
  {
   "cell_type": "code",
   "execution_count": 25,
   "metadata": {
    "ExecuteTime": {
     "end_time": "2020-06-29T05:18:12.416384Z",
     "start_time": "2020-06-29T05:18:12.371Z"
    }
   },
   "outputs": [
    {
     "data": {
      "text/html": [
       "<table>\n",
       "<thead><tr><th></th><th scope=col>age</th><th scope=col>bmi</th><th scope=col>children</th><th scope=col>expenses</th></tr></thead>\n",
       "<tbody>\n",
       "\t<tr><th scope=row>age</th><td>1.0000000 </td><td>0.10934101</td><td>0.04246900</td><td>0.29900819</td></tr>\n",
       "\t<tr><th scope=row>bmi</th><td>0.1093410 </td><td>1.00000000</td><td>0.01264471</td><td>0.19857626</td></tr>\n",
       "\t<tr><th scope=row>children</th><td>0.0424690 </td><td>0.01264471</td><td>1.00000000</td><td>0.06799823</td></tr>\n",
       "\t<tr><th scope=row>expenses</th><td>0.2990082 </td><td>0.19857626</td><td>0.06799823</td><td>1.00000000</td></tr>\n",
       "</tbody>\n",
       "</table>\n"
      ],
      "text/latex": [
       "\\begin{tabular}{r|llll}\n",
       "  & age & bmi & children & expenses\\\\\n",
       "\\hline\n",
       "\tage & 1.0000000  & 0.10934101 & 0.04246900 & 0.29900819\\\\\n",
       "\tbmi & 0.1093410  & 1.00000000 & 0.01264471 & 0.19857626\\\\\n",
       "\tchildren & 0.0424690  & 0.01264471 & 1.00000000 & 0.06799823\\\\\n",
       "\texpenses & 0.2990082  & 0.19857626 & 0.06799823 & 1.00000000\\\\\n",
       "\\end{tabular}\n"
      ],
      "text/markdown": [
       "\n",
       "| <!--/--> | age | bmi | children | expenses |\n",
       "|---|---|---|---|---|\n",
       "| age | 1.0000000  | 0.10934101 | 0.04246900 | 0.29900819 |\n",
       "| bmi | 0.1093410  | 1.00000000 | 0.01264471 | 0.19857626 |\n",
       "| children | 0.0424690  | 0.01264471 | 1.00000000 | 0.06799823 |\n",
       "| expenses | 0.2990082  | 0.19857626 | 0.06799823 | 1.00000000 |\n",
       "\n"
      ],
      "text/plain": [
       "         age       bmi        children   expenses  \n",
       "age      1.0000000 0.10934101 0.04246900 0.29900819\n",
       "bmi      0.1093410 1.00000000 0.01264471 0.19857626\n",
       "children 0.0424690 0.01264471 1.00000000 0.06799823\n",
       "expenses 0.2990082 0.19857626 0.06799823 1.00000000"
      ]
     },
     "metadata": {},
     "output_type": "display_data"
    }
   ],
   "source": [
    "normalize <- function(x) {\n",
    "  return ( (x-min(x)) / (max(x) - min(x))  ) }\n",
    "\n",
    "insurance_n  <- as.data.frame(lapply(insurance[,c(1,3,4,7)]  ,normalize))\n",
    "\n",
    "cor( insurance[    , c(\"age\",\"bmi\",\"children\",\"expenses\")] ) \n"
   ]
  },
  {
   "cell_type": "markdown",
   "metadata": {},
   "source": [
    "#### <b>어떤 상관관계도 강하지 않은 것으로 볼 수 있지만 일부 눈에 띄는 연관성이 있음</b>\n",
    "    age와 bmi는 약한 양의 상관관계를 보이고 있어서 나이가 들수록 몸무게가 증가하는 경향\n",
    "    age와 expenses를 보면 양의 상관관계를 보이고 있어서 나이가 들수록 의료비가 증가하는 경향\n",
    "```\n",
    "    psych 패키지를 이용해서 위의 상관관계를 시각화할 수 있다\n",
    "```"
   ]
  },
  {
   "cell_type": "code",
   "execution_count": 29,
   "metadata": {
    "ExecuteTime": {
     "end_time": "2020-06-29T05:22:39.738391Z",
     "start_time": "2020-06-29T05:22:30.836Z"
    }
   },
   "outputs": [
    {
     "name": "stderr",
     "output_type": "stream",
     "text": [
      "Installing package into 'C:/Users/knitwill/Documents/R/win-library/3.6'\n",
      "(as 'lib' is unspecified)\n",
      "Warning message:\n",
      "\"dependency 'mnormt' is not available\""
     ]
    },
    {
     "name": "stdout",
     "output_type": "stream",
     "text": [
      "package 'psych' successfully unpacked and MD5 sums checked\n",
      "\n",
      "The downloaded binary packages are in\n",
      "\tC:\\Users\\knitwill\\AppData\\Local\\Temp\\RtmpCeSBAV\\downloaded_packages\n"
     ]
    },
    {
     "name": "stderr",
     "output_type": "stream",
     "text": [
      "Warning message:\n",
      "\"package 'psych' was built under R version 3.6.3\""
     ]
    },
    {
     "ename": "ERROR",
     "evalue": "Error: package or namespace load failed for 'psych' in loadNamespace(j <- i[[1L]], c(lib.loc, .libPaths()), versionCheck = vI[[j]]):\n there is no package called 'mnormt'\n",
     "output_type": "error",
     "traceback": [
      "Error: package or namespace load failed for 'psych' in loadNamespace(j <- i[[1L]], c(lib.loc, .libPaths()), versionCheck = vI[[j]]):\n there is no package called 'mnormt'\nTraceback:\n",
      "1. library(psych)",
      "2. tryCatch({\n .     attr(package, \"LibPath\") <- which.lib.loc\n .     ns <- loadNamespace(package, lib.loc)\n .     env <- attachNamespace(ns, pos = pos, deps, exclude, include.only)\n . }, error = function(e) {\n .     P <- if (!is.null(cc <- conditionCall(e))) \n .         paste(\" in\", deparse(cc)[1L])\n .     else \"\"\n .     msg <- gettextf(\"package or namespace load failed for %s%s:\\n %s\", \n .         sQuote(package), P, conditionMessage(e))\n .     if (logical.return) \n .         message(paste(\"Error:\", msg), domain = NA)\n .     else stop(msg, call. = FALSE, domain = NA)\n . })",
      "3. tryCatchList(expr, classes, parentenv, handlers)",
      "4. tryCatchOne(expr, names, parentenv, handlers[[1L]])",
      "5. value[[3L]](cond)",
      "6. stop(msg, call. = FALSE, domain = NA)"
     ]
    }
   ],
   "source": [
    "install.packages('psych')\n",
    "library(psych)"
   ]
  },
  {
   "cell_type": "code",
   "execution_count": 30,
   "metadata": {
    "ExecuteTime": {
     "end_time": "2020-06-29T05:28:38.013581Z",
     "start_time": "2020-06-29T05:28:37.975Z"
    }
   },
   "outputs": [
    {
     "ename": "ERROR",
     "evalue": "Error in pairs.panels(insurance[c(\"age\", \"bmi\", \"children\", \"expenses\")]): 함수 \"pairs.panels\"를 찾을 수 없습니다\n",
     "output_type": "error",
     "traceback": [
      "Error in pairs.panels(insurance[c(\"age\", \"bmi\", \"children\", \"expenses\")]): 함수 \"pairs.panels\"를 찾을 수 없습니다\nTraceback:\n"
     ]
    }
   ],
   "source": [
    "pairs.panels(insurance[c('age','bmi','children','expenses')])"
   ]
  },
  {
   "cell_type": "markdown",
   "metadata": {},
   "source": [
    "#### <b> 산포도에 있는 달걀 모양의 객체는 상관관계 타원형 -> 상관관계의 강도를 시각화 타원형 중심에 있는 점은 x, y축 변수에 대한 평균값 지점을 나타낸다 </b>\n",
    "    타원이 늘어질수록 : 강한 상관관계\n",
    "    타원이 둥글수록 : 약한 상관관계\n",
    "    \n",
    "#### <b> 산포도 행렬 그래프에 그려진 곡선 -> 뢰스곡선(loess curve) x축과 y축 사이에 일반적인 관계</b>\n",
    "#### <b> 독립변수들의 상관관계를 통해 알 수 있는 점\n",
    "    1. 나이가 많을 수록 의료비가 더 많이든다.\n",
    "    2. 나이가 많을 수록 bmi(비만지수)가 더 높아진다.\n",
    "    3. 중년 무렵에 부양가족수가 최고점이 된다."
   ]
  },
  {
   "cell_type": "code",
   "execution_count": 22,
   "metadata": {
    "ExecuteTime": {
     "end_time": "2020-06-29T05:08:18.066150Z",
     "start_time": "2020-06-29T05:08:17.924Z"
    }
   },
   "outputs": [
    {
     "data": {
      "text/html": [
       "<table>\n",
       "<thead><tr><th scope=col>age</th><th scope=col>sex</th><th scope=col>bmi</th><th scope=col>children</th><th scope=col>smoker</th><th scope=col>region</th><th scope=col>expenses</th></tr></thead>\n",
       "<tbody>\n",
       "\t<tr><td>19       </td><td>female   </td><td>27.9     </td><td>0        </td><td>yes      </td><td>southwest</td><td>16884.92 </td></tr>\n",
       "\t<tr><td>18       </td><td>male     </td><td>33.8     </td><td>1        </td><td>no       </td><td>southeast</td><td> 1725.55 </td></tr>\n",
       "\t<tr><td>28       </td><td>male     </td><td>33.0     </td><td>3        </td><td>no       </td><td>southeast</td><td> 4449.46 </td></tr>\n",
       "\t<tr><td>33       </td><td>male     </td><td>22.7     </td><td>0        </td><td>no       </td><td>northwest</td><td>21984.47 </td></tr>\n",
       "\t<tr><td>32       </td><td>male     </td><td>28.9     </td><td>0        </td><td>no       </td><td>northwest</td><td> 3866.86 </td></tr>\n",
       "\t<tr><td>31       </td><td>female   </td><td>25.7     </td><td>0        </td><td>no       </td><td>southeast</td><td> 3756.62 </td></tr>\n",
       "</tbody>\n",
       "</table>\n"
      ],
      "text/latex": [
       "\\begin{tabular}{r|lllllll}\n",
       " age & sex & bmi & children & smoker & region & expenses\\\\\n",
       "\\hline\n",
       "\t 19        & female    & 27.9      & 0         & yes       & southwest & 16884.92 \\\\\n",
       "\t 18        & male      & 33.8      & 1         & no        & southeast &  1725.55 \\\\\n",
       "\t 28        & male      & 33.0      & 3         & no        & southeast &  4449.46 \\\\\n",
       "\t 33        & male      & 22.7      & 0         & no        & northwest & 21984.47 \\\\\n",
       "\t 32        & male      & 28.9      & 0         & no        & northwest &  3866.86 \\\\\n",
       "\t 31        & female    & 25.7      & 0         & no        & southeast &  3756.62 \\\\\n",
       "\\end{tabular}\n"
      ],
      "text/markdown": [
       "\n",
       "| age | sex | bmi | children | smoker | region | expenses |\n",
       "|---|---|---|---|---|---|---|\n",
       "| 19        | female    | 27.9      | 0         | yes       | southwest | 16884.92  |\n",
       "| 18        | male      | 33.8      | 1         | no        | southeast |  1725.55  |\n",
       "| 28        | male      | 33.0      | 3         | no        | southeast |  4449.46  |\n",
       "| 33        | male      | 22.7      | 0         | no        | northwest | 21984.47  |\n",
       "| 32        | male      | 28.9      | 0         | no        | northwest |  3866.86  |\n",
       "| 31        | female    | 25.7      | 0         | no        | southeast |  3756.62  |\n",
       "\n"
      ],
      "text/plain": [
       "  age sex    bmi  children smoker region    expenses\n",
       "1 19  female 27.9 0        yes    southwest 16884.92\n",
       "2 18  male   33.8 1        no     southeast  1725.55\n",
       "3 28  male   33.0 3        no     southeast  4449.46\n",
       "4 33  male   22.7 0        no     northwest 21984.47\n",
       "5 32  male   28.9 0        no     northwest  3866.86\n",
       "6 31  female 25.7 0        no     southeast  3756.62"
      ]
     },
     "metadata": {},
     "output_type": "display_data"
    },
    {
     "data": {
      "text/html": [
       "<dl class=dl-horizontal>\n",
       "\t<dt>age</dt>\n",
       "\t\t<dd>0</dd>\n",
       "\t<dt>sex</dt>\n",
       "\t\t<dd>0</dd>\n",
       "\t<dt>bmi</dt>\n",
       "\t\t<dd>0</dd>\n",
       "\t<dt>children</dt>\n",
       "\t\t<dd>0</dd>\n",
       "\t<dt>smoker</dt>\n",
       "\t\t<dd>0</dd>\n",
       "\t<dt>region</dt>\n",
       "\t\t<dd>0</dd>\n",
       "\t<dt>expenses</dt>\n",
       "\t\t<dd>0</dd>\n",
       "</dl>\n"
      ],
      "text/latex": [
       "\\begin{description*}\n",
       "\\item[age] 0\n",
       "\\item[sex] 0\n",
       "\\item[bmi] 0\n",
       "\\item[children] 0\n",
       "\\item[smoker] 0\n",
       "\\item[region] 0\n",
       "\\item[expenses] 0\n",
       "\\end{description*}\n"
      ],
      "text/markdown": [
       "age\n",
       ":   0sex\n",
       ":   0bmi\n",
       ":   0children\n",
       ":   0smoker\n",
       ":   0region\n",
       ":   0expenses\n",
       ":   0\n",
       "\n"
      ],
      "text/plain": [
       "     age      sex      bmi children   smoker   region expenses \n",
       "       0        0        0        0        0        0        0 "
      ]
     },
     "metadata": {},
     "output_type": "display_data"
    },
    {
     "data": {
      "text/html": [
       "<table>\n",
       "<thead><tr><th></th><th scope=col>age</th><th scope=col>bmi</th><th scope=col>children</th><th scope=col>expenses</th></tr></thead>\n",
       "<tbody>\n",
       "\t<tr><th scope=row>age</th><td>1.0000000 </td><td>0.10934101</td><td>0.04246900</td><td>0.29900819</td></tr>\n",
       "\t<tr><th scope=row>bmi</th><td>0.1093410 </td><td>1.00000000</td><td>0.01264471</td><td>0.19857626</td></tr>\n",
       "\t<tr><th scope=row>children</th><td>0.0424690 </td><td>0.01264471</td><td>1.00000000</td><td>0.06799823</td></tr>\n",
       "\t<tr><th scope=row>expenses</th><td>0.2990082 </td><td>0.19857626</td><td>0.06799823</td><td>1.00000000</td></tr>\n",
       "</tbody>\n",
       "</table>\n"
      ],
      "text/latex": [
       "\\begin{tabular}{r|llll}\n",
       "  & age & bmi & children & expenses\\\\\n",
       "\\hline\n",
       "\tage & 1.0000000  & 0.10934101 & 0.04246900 & 0.29900819\\\\\n",
       "\tbmi & 0.1093410  & 1.00000000 & 0.01264471 & 0.19857626\\\\\n",
       "\tchildren & 0.0424690  & 0.01264471 & 1.00000000 & 0.06799823\\\\\n",
       "\texpenses & 0.2990082  & 0.19857626 & 0.06799823 & 1.00000000\\\\\n",
       "\\end{tabular}\n"
      ],
      "text/markdown": [
       "\n",
       "| <!--/--> | age | bmi | children | expenses |\n",
       "|---|---|---|---|---|\n",
       "| age | 1.0000000  | 0.10934101 | 0.04246900 | 0.29900819 |\n",
       "| bmi | 0.1093410  | 1.00000000 | 0.01264471 | 0.19857626 |\n",
       "| children | 0.0424690  | 0.01264471 | 1.00000000 | 0.06799823 |\n",
       "| expenses | 0.2990082  | 0.19857626 | 0.06799823 | 1.00000000 |\n",
       "\n"
      ],
      "text/plain": [
       "         age       bmi        children   expenses  \n",
       "age      1.0000000 0.10934101 0.04246900 0.29900819\n",
       "bmi      0.1093410 1.00000000 0.01264471 0.19857626\n",
       "children 0.0424690 0.01264471 1.00000000 0.06799823\n",
       "expenses 0.2990082 0.19857626 0.06799823 1.00000000"
      ]
     },
     "metadata": {},
     "output_type": "display_data"
    },
    {
     "data": {
      "text/plain": [
       "\n",
       "Call:\n",
       "lm(formula = expenses ~ age + children + bmi + smoker + region, \n",
       "    data = insurance)\n",
       "\n",
       "Coefficients:\n",
       "    (Intercept)              age         children              bmi  \n",
       "       -11993.3            257.0            474.8            338.8  \n",
       "      smokeryes  regionnorthwest  regionsoutheast  regionsouthwest  \n",
       "        23835.2           -352.0          -1034.9           -958.6  \n"
      ]
     },
     "metadata": {},
     "output_type": "display_data"
    },
    {
     "name": "stderr",
     "output_type": "stream",
     "text": [
      "The following objects are masked from insurance (pos = 3):\n",
      "\n",
      "    age, bmi, children, expenses, region, sex, smoker\n",
      "\n"
     ]
    },
    {
     "data": {
      "text/plain": [
       "\n",
       "Call:\n",
       "lm(formula = expenses ~ ., data = insurance)\n",
       "\n",
       "Coefficients:\n",
       "    (Intercept)              age          sexmale              bmi  \n",
       "       -11941.6            256.8           -131.4            339.3  \n",
       "       children        smokeryes  regionnorthwest  regionsoutheast  \n",
       "          475.7          23847.5           -352.8          -1035.6  \n",
       "regionsouthwest  \n",
       "         -959.3  \n"
      ]
     },
     "metadata": {},
     "output_type": "display_data"
    }
   ],
   "source": [
    "m5 <- lm( expenses ~ age + children + bmi +smoker +region,  data=insurance)\n",
    "m5\n",
    "\n",
    "#또는\n",
    "attach(insurance)\n",
    "lm(expenses ~ .,  data= insurance)  "
   ]
  },
  {
   "cell_type": "code",
   "execution_count": 21,
   "metadata": {
    "ExecuteTime": {
     "end_time": "2020-06-29T05:04:32.091469Z",
     "start_time": "2020-06-29T05:04:31.983Z"
    }
   },
   "outputs": [
    {
     "data": {
      "text/html": [
       "<table>\n",
       "<thead><tr><th scope=col>age</th><th scope=col>sex</th><th scope=col>bmi</th><th scope=col>children</th><th scope=col>smoker</th><th scope=col>region</th><th scope=col>expenses</th></tr></thead>\n",
       "<tbody>\n",
       "\t<tr><td>19       </td><td>female   </td><td>27.9     </td><td>0        </td><td>yes      </td><td>southwest</td><td>16884.92 </td></tr>\n",
       "\t<tr><td>18       </td><td>male     </td><td>33.8     </td><td>1        </td><td>no       </td><td>southeast</td><td> 1725.55 </td></tr>\n",
       "\t<tr><td>28       </td><td>male     </td><td>33.0     </td><td>3        </td><td>no       </td><td>southeast</td><td> 4449.46 </td></tr>\n",
       "\t<tr><td>33       </td><td>male     </td><td>22.7     </td><td>0        </td><td>no       </td><td>northwest</td><td>21984.47 </td></tr>\n",
       "\t<tr><td>32       </td><td>male     </td><td>28.9     </td><td>0        </td><td>no       </td><td>northwest</td><td> 3866.86 </td></tr>\n",
       "\t<tr><td>31       </td><td>female   </td><td>25.7     </td><td>0        </td><td>no       </td><td>southeast</td><td> 3756.62 </td></tr>\n",
       "</tbody>\n",
       "</table>\n"
      ],
      "text/latex": [
       "\\begin{tabular}{r|lllllll}\n",
       " age & sex & bmi & children & smoker & region & expenses\\\\\n",
       "\\hline\n",
       "\t 19        & female    & 27.9      & 0         & yes       & southwest & 16884.92 \\\\\n",
       "\t 18        & male      & 33.8      & 1         & no        & southeast &  1725.55 \\\\\n",
       "\t 28        & male      & 33.0      & 3         & no        & southeast &  4449.46 \\\\\n",
       "\t 33        & male      & 22.7      & 0         & no        & northwest & 21984.47 \\\\\n",
       "\t 32        & male      & 28.9      & 0         & no        & northwest &  3866.86 \\\\\n",
       "\t 31        & female    & 25.7      & 0         & no        & southeast &  3756.62 \\\\\n",
       "\\end{tabular}\n"
      ],
      "text/markdown": [
       "\n",
       "| age | sex | bmi | children | smoker | region | expenses |\n",
       "|---|---|---|---|---|---|---|\n",
       "| 19        | female    | 27.9      | 0         | yes       | southwest | 16884.92  |\n",
       "| 18        | male      | 33.8      | 1         | no        | southeast |  1725.55  |\n",
       "| 28        | male      | 33.0      | 3         | no        | southeast |  4449.46  |\n",
       "| 33        | male      | 22.7      | 0         | no        | northwest | 21984.47  |\n",
       "| 32        | male      | 28.9      | 0         | no        | northwest |  3866.86  |\n",
       "| 31        | female    | 25.7      | 0         | no        | southeast |  3756.62  |\n",
       "\n"
      ],
      "text/plain": [
       "  age sex    bmi  children smoker region    expenses\n",
       "1 19  female 27.9 0        yes    southwest 16884.92\n",
       "2 18  male   33.8 1        no     southeast  1725.55\n",
       "3 28  male   33.0 3        no     southeast  4449.46\n",
       "4 33  male   22.7 0        no     northwest 21984.47\n",
       "5 32  male   28.9 0        no     northwest  3866.86\n",
       "6 31  female 25.7 0        no     southeast  3756.62"
      ]
     },
     "metadata": {},
     "output_type": "display_data"
    },
    {
     "data": {
      "text/html": [
       "<table>\n",
       "<thead><tr><th></th><th scope=col>age</th><th scope=col>bmi</th><th scope=col>children</th><th scope=col>expenses</th></tr></thead>\n",
       "<tbody>\n",
       "\t<tr><th scope=row>age</th><td>1.0000000 </td><td>0.10934101</td><td>0.04246900</td><td>0.29900819</td></tr>\n",
       "\t<tr><th scope=row>bmi</th><td>0.1093410 </td><td>1.00000000</td><td>0.01264471</td><td>0.19857626</td></tr>\n",
       "\t<tr><th scope=row>children</th><td>0.0424690 </td><td>0.01264471</td><td>1.00000000</td><td>0.06799823</td></tr>\n",
       "\t<tr><th scope=row>expenses</th><td>0.2990082 </td><td>0.19857626</td><td>0.06799823</td><td>1.00000000</td></tr>\n",
       "</tbody>\n",
       "</table>\n"
      ],
      "text/latex": [
       "\\begin{tabular}{r|llll}\n",
       "  & age & bmi & children & expenses\\\\\n",
       "\\hline\n",
       "\tage & 1.0000000  & 0.10934101 & 0.04246900 & 0.29900819\\\\\n",
       "\tbmi & 0.1093410  & 1.00000000 & 0.01264471 & 0.19857626\\\\\n",
       "\tchildren & 0.0424690  & 0.01264471 & 1.00000000 & 0.06799823\\\\\n",
       "\texpenses & 0.2990082  & 0.19857626 & 0.06799823 & 1.00000000\\\\\n",
       "\\end{tabular}\n"
      ],
      "text/markdown": [
       "\n",
       "| <!--/--> | age | bmi | children | expenses |\n",
       "|---|---|---|---|---|\n",
       "| age | 1.0000000  | 0.10934101 | 0.04246900 | 0.29900819 |\n",
       "| bmi | 0.1093410  | 1.00000000 | 0.01264471 | 0.19857626 |\n",
       "| children | 0.0424690  | 0.01264471 | 1.00000000 | 0.06799823 |\n",
       "| expenses | 0.2990082  | 0.19857626 | 0.06799823 | 1.00000000 |\n",
       "\n"
      ],
      "text/plain": [
       "         age       bmi        children   expenses  \n",
       "age      1.0000000 0.10934101 0.04246900 0.29900819\n",
       "bmi      0.1093410 1.00000000 0.01264471 0.19857626\n",
       "children 0.0424690 0.01264471 1.00000000 0.06799823\n",
       "expenses 0.2990082 0.19857626 0.06799823 1.00000000"
      ]
     },
     "metadata": {},
     "output_type": "display_data"
    },
    {
     "data": {
      "text/plain": [
       "\n",
       "Call:\n",
       "lm(formula = expenses ~ ., data = insurance)\n",
       "\n",
       "Coefficients:\n",
       "    (Intercept)              age          sexmale              bmi  \n",
       "       -11941.6            256.8           -131.4            339.3  \n",
       "       children        smokeryes  regionnorthwest  regionsoutheast  \n",
       "          475.7          23847.5           -352.8          -1035.6  \n",
       "regionsouthwest  \n",
       "         -959.3  \n"
      ]
     },
     "metadata": {},
     "output_type": "display_data"
    }
   ],
   "source": [
    "insurance <- read.csv(\"insurance.csv\")\n",
    "head(insurance) \n",
    "#2. 정규화 작업을 수행한다. \n",
    "normalize <- function(x) {\n",
    "      return ( (x-min(x)) / (max(x) - min(x))  ) }\n",
    "insurance_n  <- as.data.frame(lapply(insurance[,c(1,3,4,7)]  ,normalize))\n",
    "\n",
    "# 3. 독립변수와 종속변수간의 상관관계 분석 \n",
    "cor( insurance[    , c(\"age\",\"bmi\",\"children\",\"expenses\")] ) \n",
    "\n",
    "# 4. 회귀함수인 lm 을 이용해서 독립변수들의 회귀모수를 확인한다 (기울기)\n",
    "m5 <- lm( expenses ~ age + children + bmi +smoker +region,  data=insurance)\n",
    "\n",
    "#또는\n",
    "attach(insurance)\n",
    "lm(expenses ~ .,  data= insurance)  "
   ]
  },
  {
   "cell_type": "markdown",
   "metadata": {},
   "source": [
    "```\n",
    "Coefficients:\n",
    "    (Intercept)      age      sexmale     bmi    children  smokeryes  regionnorthwest  regionsoutheast  regionsouthwest  \n",
    "       -11941.6      256.8     -131.4    339.3    475.7     23847.5       -352.8          -1035.6          -959.3\n",
    "\n",
    "    1. 나이(age)가 1년씩 더해질 때 마다 평균적으로 연간 의료비가 $256.8 증가될 것으로 예상\n",
    "    2. 자녀(children)가 한 명씩 추가될 때 마다 연간 의료비가 $475.7 추가될 것으로 예상\n",
    "    3. 비만지수(bmi) 단위가 증가할 때 마다 연간 의료비가 $339.3 증가될 것으로 예상\n",
    "    \n",
    "    4. dummy 변수를 자동으로 추가해 변수의 값을 상대적으로 추정\n",
    "        dummy 변수 : \n",
    "            sexmale : 남성은 여성에 비해 매년 의료비가 $131.4 적게 든다고 예상\n",
    "            smokeryes : 흡연자는 비흡연자에 비해 매년 의료비가 $23847.5 추가될 것으로 예상\n",
    "            regionnorthwest :\n",
    "            regionsoutheast :\n",
    "            regionsouthwest :\n",
    "```\n"
   ]
  },
  {
   "cell_type": "markdown",
   "metadata": {},
   "source": [
    "### ※ 문제263. 지역에 따른 의료비에 차이가 어떤지 회귀분석 결과를 토대로 설명하시오\n",
    "```\n",
    "    regionnorthwest : northeast에 비해 northwest지역은 연간 의료비가 $352.8 적게 든다고 예상\n",
    "    regionsoutheast : northeast에 비해 southeast지역은 연간 의료비가 $1035.6 적게 든다고 예상\n",
    "    regionsouthwest : northeast에 비해 southwest지역은 연간 의료비가 $959.3 적게 든다고 예상\n",
    "```"
   ]
  },
  {
   "cell_type": "markdown",
   "metadata": {},
   "source": [
    "#### <b>※ Ml 분석 5단계</b>\n",
    "    1. 데이터 수집 및 데이터 설명\n",
    "    2. 데이터 탐색 및 분석\n",
    "    3. ML 모델 훈련\n",
    "    4. 모델 성능 평가\n",
    "    5. 모델 성능 개선"
   ]
  },
  {
   "cell_type": "code",
   "execution_count": 36,
   "metadata": {
    "ExecuteTime": {
     "end_time": "2020-06-29T06:10:02.558013Z",
     "start_time": "2020-06-29T06:10:02.449Z"
    }
   },
   "outputs": [
    {
     "data": {
      "text/plain": [
       "\n",
       "Call:\n",
       "lm(formula = expenses ~ ., data = insurance)\n",
       "\n",
       "Residuals:\n",
       "     Min       1Q   Median       3Q      Max \n",
       "-11302.7  -2850.9   -979.6   1383.9  29981.7 \n",
       "\n",
       "Coefficients:\n",
       "                Estimate Std. Error t value Pr(>|t|)    \n",
       "(Intercept)     -11941.6      987.8 -12.089  < 2e-16 ***\n",
       "age                256.8       11.9  21.586  < 2e-16 ***\n",
       "sexmale           -131.3      332.9  -0.395 0.693255    \n",
       "bmi                339.3       28.6  11.864  < 2e-16 ***\n",
       "children           475.7      137.8   3.452 0.000574 ***\n",
       "smokeryes        23847.5      413.1  57.723  < 2e-16 ***\n",
       "regionnorthwest   -352.8      476.3  -0.741 0.458976    \n",
       "regionsoutheast  -1035.6      478.7  -2.163 0.030685 *  \n",
       "regionsouthwest   -959.3      477.9  -2.007 0.044921 *  \n",
       "---\n",
       "Signif. codes:  0 '***' 0.001 '**' 0.01 '*' 0.05 '.' 0.1 ' ' 1\n",
       "\n",
       "Residual standard error: 6062 on 1329 degrees of freedom\n",
       "Multiple R-squared:  0.7509,\tAdjusted R-squared:  0.7494 \n",
       "F-statistic: 500.9 on 8 and 1329 DF,  p-value: < 2.2e-16\n"
      ]
     },
     "metadata": {},
     "output_type": "display_data"
    }
   ],
   "source": [
    "rs_m <- lm(expenses~., data=insurance)\n",
    "summary(rs_m)"
   ]
  },
  {
   "cell_type": "markdown",
   "metadata": {},
   "source": [
    "```\n",
    "    Residuals:\n",
    "         Min       1Q     Median     3Q      Max \n",
    "      -11302.7  -2850.9   -979.6   1383.9  29981.7 \n",
    "      \n",
    "    1. 모델이 최소 하나의 관측에 대해 거의 30000만 달러의 비용을 낮게 예측\n",
    "    2. 오차의 50%는 -$2850 ~ 1384 사이에 있다.\n",
    "```\n",
    "```\n",
    "    Coefficients:\n",
    "                    Estimate   Std. Error   t value   Pr(>|t|)    \n",
    "    (Intercept)     -11941.6      987.8     -12.089    < 2e-16 ***\n",
    "    age                256.8       11.9      21.586    < 2e-16 ***\n",
    "    sexmale           -131.3      332.9      -0.395   0.693255    \n",
    "    bmi                339.3       28.6      11.864    < 2e-16 ***\n",
    "    children           475.7      137.8       3.452   0.000574 ***\n",
    "    smokeryes        23847.5      413.1      57.723    < 2e-16 ***\n",
    "    regionnorthwest   -352.8      476.3      -0.741   0.458976    \n",
    "    regionsoutheast  -1035.6      478.7      -2.163   0.030685 *  \n",
    "    regionsouthwest   -959.3      477.9      -2.007   0.044921 *  \n",
    "    ---\n",
    "    Signif. codes:  0 '***' 0.001 '**' 0.01 '*' 0.05 '.' 0.1 ' ' 1\n",
    "    \n",
    "    추정된 회귀계수별로 표시된 p-value는 추정된 계수가 실제 0일 확률 추정치\n",
    "    p-value가 작은 경우 실제 계수가 0이 아닐 가능성이 높다는 것. 종속변수와의 관계가 없을 가능성이 아주 낮다\n",
    "    \n",
    "    유의수준보다 낮은 p-value는 통계적으로 유의한 것으로 간주\n",
    "    p-value가 0.05 미만으로 나온 독립변수가 유의한 변수\n",
    "```\n",
    "```\n",
    "    p-value : 귀무가설에 얻은 검정 통계랑의 값 이상으로 대립가설에서 유리한 데이터를 얻을 수 있는 확률\n",
    "        p-value > 유의수준 : 귀무가설 기각 X\n",
    "        p-value < 유의수준 : 대립가설 채택\n",
    "        \n",
    "    옆에 나온 *이 추정치로 충족되는 유의수준을 나타내는 각주에 해당\n",
    "```\n",
    "<br>\n",
    "Residual standard error: 6062 on 1329 degrees of freedom<br>\n",
    "<b>Multiple R-squared:  0.7509,\tAdjusted R-squared:  0.7494 </b><br>\n",
    "F-statistic: 500.9 on 8 and 1329 DF,  p-value: < 2.2e-16<br><br>\n",
    "\n",
    "\n",
    "#### <b>결정계수(R-squared) : 회귀모형의 데이터에 대한 설명력을 나타내는 척도</b>\n",
    "#### <b>수정된 결정계수(Adjusted R-squared) : 독립변수가 많은 회귀모형에서 penalty를 줘서 R-squared를 교정한 값 </b>\n",
    "        독립변수가 많으면 결정계수가 높아져 모형의 설명력을 측정하기 좋을 수 있으나 복잡하므로 복잡성을 보완하기 위해 사용\n",
    "            -> 독립변수가 많아진다고해서 무작정 커지지는 않는다.\n",
    "               R-squared와 Adjusted R-squared 차이가 크면 불필요한 변수가 있을 것으로 예상할 수 있다.\n",
    "```    \n",
    "    좋은 회귀모형의 조건\n",
    "        1. 데이터를 잘 설명\n",
    "        2. 간단\n",
    "```\n",
    "``` \n",
    "    <면접질문>\n",
    "        데이터의 종류에 따라 적합한 머신러닝 알고리즘은 무엇?\n",
    "        회귀분석에서 결정계수란?\n",
    "```    "
   ]
  },
  {
   "cell_type": "code",
   "execution_count": null,
   "metadata": {},
   "outputs": [],
   "source": []
  },
  {
   "cell_type": "code",
   "execution_count": null,
   "metadata": {},
   "outputs": [],
   "source": []
  },
  {
   "cell_type": "code",
   "execution_count": null,
   "metadata": {},
   "outputs": [],
   "source": []
  },
  {
   "cell_type": "code",
   "execution_count": null,
   "metadata": {},
   "outputs": [],
   "source": [
    "    "
   ]
  }
 ],
 "metadata": {
  "kernelspec": {
   "display_name": "R",
   "language": "R",
   "name": "ir"
  },
  "language_info": {
   "codemirror_mode": "r",
   "file_extension": ".r",
   "mimetype": "text/x-r-source",
   "name": "R",
   "pygments_lexer": "r",
   "version": "3.6.1"
  },
  "toc": {
   "base_numbering": 1,
   "nav_menu": {},
   "number_sections": true,
   "sideBar": true,
   "skip_h1_title": false,
   "title_cell": "Table of Contents",
   "title_sidebar": "Contents",
   "toc_cell": false,
   "toc_position": {},
   "toc_section_display": true,
   "toc_window_display": false
  },
  "varInspector": {
   "cols": {
    "lenName": 16,
    "lenType": 16,
    "lenVar": 40
   },
   "kernels_config": {
    "python": {
     "delete_cmd_postfix": "",
     "delete_cmd_prefix": "del ",
     "library": "var_list.py",
     "varRefreshCmd": "print(var_dic_list())"
    },
    "r": {
     "delete_cmd_postfix": ") ",
     "delete_cmd_prefix": "rm(",
     "library": "var_list.r",
     "varRefreshCmd": "cat(var_dic_list()) "
    }
   },
   "types_to_exclude": [
    "module",
    "function",
    "builtin_function_or_method",
    "instance",
    "_Feature"
   ],
   "window_display": false
  }
 },
 "nbformat": 4,
 "nbformat_minor": 4
}
