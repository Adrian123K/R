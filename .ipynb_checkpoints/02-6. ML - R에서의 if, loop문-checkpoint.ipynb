{
 "cells": [
  {
   "cell_type": "markdown",
   "metadata": {},
   "source": [
    "## ■ R 에서의 if 문과 loop 문 사용방법\n",
    "```R\n",
    "함수명 <- function(매개변수명){\n",
    "    실행문\n",
    "    return (실행결과를 담은 변수명)\n",
    "}\n",
    "```"
   ]
  },
  {
   "cell_type": "markdown",
   "metadata": {},
   "source": [
    "### ※ 문제196. 이름을 입력하면 해당 사원의 월급이 출력되는 함수를 생성하시오"
   ]
  },
  {
   "cell_type": "code",
   "execution_count": 1,
   "metadata": {
    "ExecuteTime": {
     "end_time": "2020-06-22T06:53:45.529886Z",
     "start_time": "2020-06-22T06:53:45.471Z"
    }
   },
   "outputs": [],
   "source": [
    "income<-function(ename){\n",
    "    emp<-read.csv('emp3.csv',head=T)\n",
    "    sal<-emp[emp$ename==ename,'sal']\n",
    "    print(sal)\n",
    "}"
   ]
  },
  {
   "cell_type": "code",
   "execution_count": 2,
   "metadata": {
    "ExecuteTime": {
     "end_time": "2020-06-22T06:53:59.002163Z",
     "start_time": "2020-06-22T06:53:58.971Z"
    }
   },
   "outputs": [
    {
     "name": "stdout",
     "output_type": "stream",
     "text": [
      "[1] 3000\n"
     ]
    }
   ],
   "source": [
    "income('SCOTT')"
   ]
  },
  {
   "cell_type": "markdown",
   "metadata": {},
   "source": [
    "### ※ 문제197. 이름을 아래와 같이 소문자로 입력해도 출력되게 하시오 !\n",
    "```R\n",
    "income('scott')\n",
    "3000\n",
    "```"
   ]
  },
  {
   "cell_type": "code",
   "execution_count": 3,
   "metadata": {
    "ExecuteTime": {
     "end_time": "2020-06-22T06:56:27.240448Z",
     "start_time": "2020-06-22T06:56:27.212Z"
    }
   },
   "outputs": [],
   "source": [
    "income<-function(ename){\n",
    "    emp<-read.csv('emp3.csv',head=T)\n",
    "    sal<-emp[emp$ename==toupper(ename),'sal']\n",
    "    print(sal)\n",
    "}"
   ]
  },
  {
   "cell_type": "code",
   "execution_count": 4,
   "metadata": {
    "ExecuteTime": {
     "end_time": "2020-06-22T06:56:31.781941Z",
     "start_time": "2020-06-22T06:56:31.751Z"
    }
   },
   "outputs": [
    {
     "name": "stdout",
     "output_type": "stream",
     "text": [
      "[1] 3000\n"
     ]
    }
   ],
   "source": [
    "income('scott')"
   ]
  },
  {
   "cell_type": "markdown",
   "metadata": {},
   "source": [
    "### ※ 문제198. 직업을 입력하면 해당 직업이 사원들의 월급들이 출력되게하는 함수를 생성하시오 !"
   ]
  },
  {
   "cell_type": "code",
   "execution_count": 7,
   "metadata": {
    "ExecuteTime": {
     "end_time": "2020-06-22T06:57:56.549169Z",
     "start_time": "2020-06-22T06:57:56.524Z"
    }
   },
   "outputs": [],
   "source": [
    "job_sal<-function(job){\n",
    "    emp<-read.csv('emp3.csv',head=T)\n",
    "    sal<-emp[emp$job==toupper(job),c('ename','sal')]\n",
    "    print(sal)\n",
    "}"
   ]
  },
  {
   "cell_type": "code",
   "execution_count": 9,
   "metadata": {
    "ExecuteTime": {
     "end_time": "2020-06-22T06:58:07.543140Z",
     "start_time": "2020-06-22T06:58:07.503Z"
    }
   },
   "outputs": [
    {
     "name": "stdout",
     "output_type": "stream",
     "text": [
      "   ename  sal\n",
      "5 MARTIN 1250\n",
      "6  ALLEN 1600\n",
      "7 TURNER 1500\n",
      "9   WARD 1250\n",
      "   ename  sal\n",
      "10  FORD 3000\n",
      "12 SCOTT 3000\n"
     ]
    }
   ],
   "source": [
    "job_sal('salesman')\n",
    "job_sal('analyst')"
   ]
  },
  {
   "cell_type": "markdown",
   "metadata": {},
   "source": [
    "### ※ 문제199. 직업을 입력하면 해당 직업의 토탈월급이 출력되게하는 함수를 생성하시오 !"
   ]
  },
  {
   "cell_type": "code",
   "execution_count": 14,
   "metadata": {
    "ExecuteTime": {
     "end_time": "2020-06-22T07:00:21.451543Z",
     "start_time": "2020-06-22T07:00:21.425Z"
    }
   },
   "outputs": [],
   "source": [
    "total<-function(job){\n",
    "    emp<-read.csv('emp3.csv',head=T)\n",
    "    tot<-emp[emp$job==toupper(job),'sal']\n",
    "    rs<-sum(tot)\n",
    "    print(rs)\n",
    "}"
   ]
  },
  {
   "cell_type": "code",
   "execution_count": 17,
   "metadata": {
    "ExecuteTime": {
     "end_time": "2020-06-22T07:00:40.466721Z",
     "start_time": "2020-06-22T07:00:40.429Z"
    }
   },
   "outputs": [
    {
     "name": "stdout",
     "output_type": "stream",
     "text": [
      "[1] 5600\n",
      "[1] 6000\n"
     ]
    }
   ],
   "source": [
    "total('salesman')\n",
    "total('analyst')"
   ]
  },
  {
   "cell_type": "markdown",
   "metadata": {},
   "source": [
    "### ※ 문제200. 위의 스크립트를 수정해서 paste 함수를 이용해서 아래와 같이 출력되게 하시오 !"
   ]
  },
  {
   "cell_type": "code",
   "execution_count": 18,
   "metadata": {
    "ExecuteTime": {
     "end_time": "2020-06-22T07:04:09.813555Z",
     "start_time": "2020-06-22T07:04:09.787Z"
    }
   },
   "outputs": [],
   "source": [
    "total<-function(job){\n",
    "    emp<-read.csv('emp3.csv',head=T)\n",
    "    tot<-emp[emp$job==toupper(job),'sal']\n",
    "    rs<-sum(tot)\n",
    "    print(paste(job,'의 월급은',rs,'입니다'))\n",
    "}"
   ]
  },
  {
   "cell_type": "code",
   "execution_count": 20,
   "metadata": {
    "ExecuteTime": {
     "end_time": "2020-06-22T07:04:21.349028Z",
     "start_time": "2020-06-22T07:04:21.309Z"
    }
   },
   "outputs": [
    {
     "name": "stdout",
     "output_type": "stream",
     "text": [
      "[1] \"salesman 의 월급은 5600 입니다\"\n",
      "[1] \"analyst 의 월급은 6000 입니다\"\n"
     ]
    }
   ],
   "source": [
    "total('salesman')\n",
    "total('analyst')"
   ]
  },
  {
   "cell_type": "markdown",
   "metadata": {},
   "source": [
    "### ※ 문제201. 위의 스크립트를 수정해서 직업을 물어보게하고 직업을 입력하면 해당 직업의 토탈월급이 출력되게 하시오\n",
    "    직업을 입력하세요 ~ salesman\n",
    "    토탈월급이 5600입니다."
   ]
  },
  {
   "cell_type": "code",
   "execution_count": 21,
   "metadata": {
    "ExecuteTime": {
     "end_time": "2020-06-22T07:09:29.082150Z",
     "start_time": "2020-06-22T07:09:29.057Z"
    }
   },
   "outputs": [],
   "source": [
    "total<-function(){\n",
    "    job<-readline(prompt = '직업을 입력하세요: ')\n",
    "    emp<-read.csv('emp3.csv',head=T)\n",
    "    tot<-emp[emp$job==toupper(job),'sal']\n",
    "    rs<-sum(tot)\n",
    "    print(paste('토탈월급은 ',rs,'입니다'))\n",
    "}"
   ]
  },
  {
   "cell_type": "code",
   "execution_count": 22,
   "metadata": {
    "ExecuteTime": {
     "end_time": "2020-06-22T07:09:36.630542Z",
     "start_time": "2020-06-22T07:09:31.879Z"
    }
   },
   "outputs": [
    {
     "name": "stdout",
     "output_type": "stream",
     "text": [
      "직업을 입력하세요: salesman\n",
      "[1] \"토탈월급은  5600 입니다\"\n"
     ]
    }
   ],
   "source": [
    "total()"
   ]
  },
  {
   "cell_type": "markdown",
   "metadata": {},
   "source": [
    "## ■ if 문 사용법\n",
    "```R\n",
    "if (조건식) {\n",
    "    조건식이 true 일때 실행되는 식\n",
    "}\n",
    "else if (조건식) {\n",
    "   조건식이 true 일때 실행되는 식 \n",
    "}\n",
    "else {                   \n",
    "  위의 조건식들에 만족하지 않는 경우 실행되는 식\n",
    "} \n",
    "```"
   ]
  },
  {
   "cell_type": "markdown",
   "metadata": {},
   "source": [
    "### ※ 문제202. if 문을 이용해서 피타고라스의 직각 삼각형의 여부를 구현하시오"
   ]
  },
  {
   "cell_type": "code",
   "execution_count": 24,
   "metadata": {
    "ExecuteTime": {
     "end_time": "2020-06-22T07:20:35.421039Z",
     "start_time": "2020-06-22T07:20:35.393Z"
    }
   },
   "outputs": [],
   "source": [
    "pytha<-function(){\n",
    "  num<-scan()\n",
    "  if(num[1]^2+num[2]^2==num[3]^2){\n",
    "    print('직각삼각형이 맞습니다.')\n",
    "  } else {\n",
    "    print('직각삼각형이 아닙니다.')\n",
    "  }\n",
    "}"
   ]
  },
  {
   "cell_type": "markdown",
   "metadata": {},
   "source": [
    "## ■ R 에서의 loop 문 \n",
    "```R\n",
    "<<for  loop 문  문법 >>\n",
    "for  ( 루프변수  in  반복할 리스트 ) {\n",
    "                 반복할  실행문 \n",
    "}\n",
    "```"
   ]
  },
  {
   "cell_type": "code",
   "execution_count": 26,
   "metadata": {
    "ExecuteTime": {
     "end_time": "2020-06-22T07:43:53.616699Z",
     "start_time": "2020-06-22T07:43:53.587Z"
    }
   },
   "outputs": [],
   "source": [
    "aaa<-function(x){\n",
    "    for (i in 1:x){\n",
    "        print(i)\n",
    "    }\n",
    "}"
   ]
  },
  {
   "cell_type": "code",
   "execution_count": 28,
   "metadata": {
    "ExecuteTime": {
     "end_time": "2020-06-22T07:43:59.979745Z",
     "start_time": "2020-06-22T07:43:59.944Z"
    }
   },
   "outputs": [
    {
     "name": "stdout",
     "output_type": "stream",
     "text": [
      "[1] 1\n",
      "[1] 2\n",
      "[1] 3\n",
      "[1] 4\n",
      "[1] 5\n",
      "[1] 6\n",
      "[1] 7\n",
      "[1] 8\n",
      "[1] 9\n",
      "[1] 10\n"
     ]
    }
   ],
   "source": [
    "aaa(10)"
   ]
  },
  {
   "cell_type": "markdown",
   "metadata": {},
   "source": [
    "### ※ 문제203. 아래와 같이 별이 출력되게하시오 !\n",
    "```\n",
    "star(5)  \n",
    "rep('★',x)\n",
    "★             \n",
    "★★\n",
    "★★★\n",
    "★★★★\n",
    "★★★★★\n",
    "```"
   ]
  },
  {
   "cell_type": "code",
   "execution_count": 41,
   "metadata": {
    "ExecuteTime": {
     "end_time": "2020-06-22T07:49:48.239797Z",
     "start_time": "2020-06-22T07:49:48.203Z"
    }
   },
   "outputs": [],
   "source": [
    "star<-function(num){\n",
    "    for (i in 1:num){\n",
    "        print(rep('★',i))\n",
    "    }\n",
    "}"
   ]
  },
  {
   "cell_type": "code",
   "execution_count": 42,
   "metadata": {
    "ExecuteTime": {
     "end_time": "2020-06-22T07:49:48.415687Z",
     "start_time": "2020-06-22T07:49:48.380Z"
    }
   },
   "outputs": [
    {
     "name": "stdout",
     "output_type": "stream",
     "text": [
      "[1] \"★\"\n",
      "[1] \"★\" \"★\"\n",
      "[1] \"★\" \"★\" \"★\"\n",
      "[1] \"★\" \"★\" \"★\" \"★\"\n",
      "[1] \"★\" \"★\" \"★\" \"★\" \"★\"\n"
     ]
    }
   ],
   "source": [
    "star(5)"
   ]
  },
  {
   "cell_type": "markdown",
   "metadata": {},
   "source": [
    "### ※ 문제204. R에서 난수 생성하는 함수를 실행하시오. 0 에서 1사이 실수 난수를 10개 생성하시오 !"
   ]
  },
  {
   "cell_type": "code",
   "execution_count": 52,
   "metadata": {
    "ExecuteTime": {
     "end_time": "2020-06-22T07:54:04.843374Z",
     "start_time": "2020-06-22T07:54:04.814Z"
    }
   },
   "outputs": [
    {
     "data": {
      "text/html": [
       "<ol class=list-inline>\n",
       "\t<li>0.917739795288071</li>\n",
       "\t<li>0.681668540928513</li>\n",
       "\t<li>0.618006076896563</li>\n",
       "\t<li>0.00252298102714121</li>\n",
       "\t<li>0.718128305161372</li>\n",
       "\t<li>0.750057684024796</li>\n",
       "\t<li>0.56954786204733</li>\n",
       "\t<li>0.358552000019699</li>\n",
       "\t<li>0.666841813828796</li>\n",
       "\t<li>0.492482407484204</li>\n",
       "</ol>\n"
      ],
      "text/latex": [
       "\\begin{enumerate*}\n",
       "\\item 0.917739795288071\n",
       "\\item 0.681668540928513\n",
       "\\item 0.618006076896563\n",
       "\\item 0.00252298102714121\n",
       "\\item 0.718128305161372\n",
       "\\item 0.750057684024796\n",
       "\\item 0.56954786204733\n",
       "\\item 0.358552000019699\n",
       "\\item 0.666841813828796\n",
       "\\item 0.492482407484204\n",
       "\\end{enumerate*}\n"
      ],
      "text/markdown": [
       "1. 0.917739795288071\n",
       "2. 0.681668540928513\n",
       "3. 0.618006076896563\n",
       "4. 0.00252298102714121\n",
       "5. 0.718128305161372\n",
       "6. 0.750057684024796\n",
       "7. 0.56954786204733\n",
       "8. 0.358552000019699\n",
       "9. 0.666841813828796\n",
       "10. 0.492482407484204\n",
       "\n",
       "\n"
      ],
      "text/plain": [
       " [1] 0.917739795 0.681668541 0.618006077 0.002522981 0.718128305 0.750057684\n",
       " [7] 0.569547862 0.358552000 0.666841814 0.492482407"
      ]
     },
     "metadata": {},
     "output_type": "display_data"
    }
   ],
   "source": [
    "runif(10)"
   ]
  },
  {
   "cell_type": "markdown",
   "metadata": {},
   "source": [
    "### ※ 문제205. (오늘의 마지막 문제) R 코드로 몬테카를로 알고리즘을 구현하세요."
   ]
  },
  {
   "cell_type": "code",
   "execution_count": 53,
   "metadata": {
    "ExecuteTime": {
     "end_time": "2020-06-22T07:54:45.759573Z",
     "start_time": "2020-06-22T07:54:45.726Z"
    }
   },
   "outputs": [],
   "source": [
    "monte<-function(num){\n",
    "    cnt<-0\n",
    "    for (i in 1:num){\n",
    "        a<-runif(1)\n",
    "        b<-runif(1)\n",
    "        if (a^2+b^2<=1){\n",
    "            cnt<-cnt+1\n",
    "        }\n",
    "    }\n",
    "    print(cnt/num*4)\n",
    "}"
   ]
  },
  {
   "cell_type": "code",
   "execution_count": 54,
   "metadata": {
    "ExecuteTime": {
     "end_time": "2020-06-22T07:54:47.061141Z",
     "start_time": "2020-06-22T07:54:46.688Z"
    }
   },
   "outputs": [
    {
     "name": "stdout",
     "output_type": "stream",
     "text": [
      "[1] 3.14204\n"
     ]
    }
   ],
   "source": [
    "monte(100000)"
   ]
  },
  {
   "cell_type": "code",
   "execution_count": null,
   "metadata": {},
   "outputs": [],
   "source": []
  },
  {
   "cell_type": "code",
   "execution_count": null,
   "metadata": {},
   "outputs": [],
   "source": []
  }
 ],
 "metadata": {
  "kernelspec": {
   "display_name": "R",
   "language": "R",
   "name": "ir"
  },
  "language_info": {
   "codemirror_mode": "r",
   "file_extension": ".r",
   "mimetype": "text/x-r-source",
   "name": "R",
   "pygments_lexer": "r",
   "version": "3.6.1"
  },
  "toc": {
   "base_numbering": 1,
   "nav_menu": {},
   "number_sections": true,
   "sideBar": true,
   "skip_h1_title": false,
   "title_cell": "Table of Contents",
   "title_sidebar": "Contents",
   "toc_cell": false,
   "toc_position": {},
   "toc_section_display": true,
   "toc_window_display": false
  },
  "varInspector": {
   "cols": {
    "lenName": 16,
    "lenType": 16,
    "lenVar": 40
   },
   "kernels_config": {
    "python": {
     "delete_cmd_postfix": "",
     "delete_cmd_prefix": "del ",
     "library": "var_list.py",
     "varRefreshCmd": "print(var_dic_list())"
    },
    "r": {
     "delete_cmd_postfix": ") ",
     "delete_cmd_prefix": "rm(",
     "library": "var_list.r",
     "varRefreshCmd": "cat(var_dic_list()) "
    }
   },
   "types_to_exclude": [
    "module",
    "function",
    "builtin_function_or_method",
    "instance",
    "_Feature"
   ],
   "window_display": false
  }
 },
 "nbformat": 4,
 "nbformat_minor": 4
}
