{
 "cells": [
  {
   "cell_type": "markdown",
   "metadata": {},
   "source": [
    "```\n",
    "    1단계 : 데이터 수집 -> 데이터 출처, 설명\n",
    "                kNN의 경우 거리를 계산을 해야하므로 데이터가 수치형 데이터였으나 명목형 데이터가 포함되어 있으면 더미코딩을 통해 수치형으로 변환 해야함\n",
    "                나이브베이즈의 경우는 데이터를 학습하기 위해서 빈도표를 사용하기 때문에 \n",
    "                행렬을 구성하는 각 클래스와 특징값의 조합을 생성하려면 각 특징이 범주형이어야 한다\n",
    "```"
   ]
  },
  {
   "cell_type": "code",
   "execution_count": 2,
   "metadata": {
    "ExecuteTime": {
     "end_time": "2020-06-24T07:03:03.732316Z",
     "start_time": "2020-06-24T07:03:03.588Z"
    }
   },
   "outputs": [
    {
     "data": {
      "text/html": [
       "<table>\n",
       "<thead><tr><th></th><th scope=col>type</th><th scope=col>cap_shape</th><th scope=col>cap_surface</th><th scope=col>cap_color</th><th scope=col>bruises</th><th scope=col>odor</th><th scope=col>gill_attachment</th><th scope=col>gill_spacing</th><th scope=col>gill_size</th><th scope=col>gill_color</th><th scope=col>...</th><th scope=col>stalk_surface_below_ring</th><th scope=col>stalk_color_above_ring</th><th scope=col>stalk_color_below_ring</th><th scope=col>veil_type</th><th scope=col>veil_color</th><th scope=col>ring_number</th><th scope=col>ring_type</th><th scope=col>spore_print_color</th><th scope=col>population</th><th scope=col>habitat</th></tr></thead>\n",
       "<tbody>\n",
       "\t<tr><th scope=row>8123</th><td>poisonous </td><td>knobbed   </td><td>scaly     </td><td>brown     </td><td>no        </td><td>fishy     </td><td>free      </td><td>close     </td><td>narrow    </td><td>buff      </td><td>...       </td><td>silky     </td><td>white     </td><td>white     </td><td>partial   </td><td>white     </td><td>one       </td><td>evanescent</td><td>white     </td><td>several   </td><td>leaves    </td></tr>\n",
       "</tbody>\n",
       "</table>\n"
      ],
      "text/latex": [
       "\\begin{tabular}{r|lllllllllllllllllllllll}\n",
       "  & type & cap\\_shape & cap\\_surface & cap\\_color & bruises & odor & gill\\_attachment & gill\\_spacing & gill\\_size & gill\\_color & ... & stalk\\_surface\\_below\\_ring & stalk\\_color\\_above\\_ring & stalk\\_color\\_below\\_ring & veil\\_type & veil\\_color & ring\\_number & ring\\_type & spore\\_print\\_color & population & habitat\\\\\n",
       "\\hline\n",
       "\t8123 & poisonous  & knobbed    & scaly      & brown      & no         & fishy      & free       & close      & narrow     & buff       & ...        & silky      & white      & white      & partial    & white      & one        & evanescent & white      & several    & leaves    \\\\\n",
       "\\end{tabular}\n"
      ],
      "text/markdown": [
       "\n",
       "| <!--/--> | type | cap_shape | cap_surface | cap_color | bruises | odor | gill_attachment | gill_spacing | gill_size | gill_color | ... | stalk_surface_below_ring | stalk_color_above_ring | stalk_color_below_ring | veil_type | veil_color | ring_number | ring_type | spore_print_color | population | habitat |\n",
       "|---|---|---|---|---|---|---|---|---|---|---|---|---|---|---|---|---|---|---|---|---|---|\n",
       "| 8123 | poisonous  | knobbed    | scaly      | brown      | no         | fishy      | free       | close      | narrow     | buff       | ...        | silky      | white      | white      | partial    | white      | one        | evanescent | white      | several    | leaves     |\n",
       "\n"
      ],
      "text/plain": [
       "     type      cap_shape cap_surface cap_color bruises odor  gill_attachment\n",
       "8123 poisonous knobbed   scaly       brown     no      fishy free           \n",
       "     gill_spacing gill_size gill_color ... stalk_surface_below_ring\n",
       "8123 close        narrow    buff       ... silky                   \n",
       "     stalk_color_above_ring stalk_color_below_ring veil_type veil_color\n",
       "8123 white                  white                  partial   white     \n",
       "     ring_number ring_type  spore_print_color population habitat\n",
       "8123 one         evanescent white             several    leaves "
      ]
     },
     "metadata": {},
     "output_type": "display_data"
    }
   ],
   "source": [
    "# 1. 버섯 데이터를 R 로 로드한다. \n",
    "mushroom <- read.csv(\"mushrooms.csv\", header=T, stringsAsFactors=T)"
   ]
  },
  {
   "cell_type": "markdown",
   "metadata": {},
   "source": [
    "```\n",
    "    2단계 : 데이터 탐색과 준비 -> 결측, 이상치, 정규분포(히스토그램) 머신러닝 모델이 학습하기 적합한 데이터인지 설명 필요\n",
    "        명목형이라 확인 안해도 됨\n",
    "```"
   ]
  },
  {
   "cell_type": "markdown",
   "metadata": {},
   "source": [
    "```\n",
    "    3단계 : 데이터 모델로 훈련 -> 나이브베이즈\n",
    "```"
   ]
  },
  {
   "cell_type": "code",
   "execution_count": null,
   "metadata": {},
   "outputs": [],
   "source": [
    "# 2. 8124 독버섯 데이터만 따로 빼서 mush_test.csv 로 저장한다. \n",
    "mush_test <- mushroom[8123, ]\n",
    "mush_test \n",
    "write.csv( mush_test, \"mush_test.csv\",row.names=FALSE )\n",
    "\n",
    "# 3. 8124 독버섯 데이터를 훈련 데이터에서 제외 시키시오 !\n",
    "nrow(mushroom)\n",
    "mushrooms <- mushroom[ -8123,  ] \n",
    "nrow(mushrooms)\n",
    "\n",
    "# 4. mushrooms 데이터를 훈련 데이터와 테스트 데이터로 나눈다 ( 훈련 데이터는 75%,  테스트 데이터는 25% )\n",
    "set.seed(1)\n",
    "dim(mushrooms) # 차원 확인\n",
    "\n",
    "train_cnt <- round( 0.75*dim(mushrooms)[1] )\n",
    "train_cnt \n",
    "\n",
    "train_index <- sample( 1:dim(mushrooms)[1], train_cnt, replace=F)\n",
    "\n",
    "mushrooms_train <- mushrooms[ train_index,  ]\n",
    "mushrooms_test <- mushrooms[- train_index,  ] \n",
    "\n",
    "nrow(mushrooms_train)  #  6092\n",
    "nrow(mushrooms_test)    #  2031 \n",
    "\n",
    "str(mushrooms_train)\n",
    "\n",
    "# 5. 나이브 베이즈 알고리즘으로 독버섯과 일반 버섯을 분류하는 모델을 생성한다.\n",
    "library(e1071) #        모든 컬럼들\n",
    "#                          ↓\n",
    "model1 <- naiveBayes(type~ . ,  data=mushrooms_train)\n",
    "#                     ↑\n",
    "#                   라벨 컬럼명 \n",
    "model1"
   ]
  },
  {
   "cell_type": "markdown",
   "metadata": {},
   "source": [
    "```\n",
    "    4단계 : 모델 성능평가 -> 이원교차표를 통해 정확도 확인. \n",
    "                ex) 병원모델예측 -> 양성/ 실제 -> 악성 ≫ 이런 모델 사용 불가\n",
    "```"
   ]
  },
  {
   "cell_type": "code",
   "execution_count": null,
   "metadata": {},
   "outputs": [],
   "source": [
    "# 6. 위에서 만든 모델과 테스트 데이터를 가지고 독버섯과 일반버섯을 잘 분류하는지 예측해 본다.\n",
    "result1 <- predict( model1, mushrooms_test[  , -1] ) # label 제외\n",
    "result1 \n",
    "\n",
    "# 7. 이원 교차표를 그려서 최종 분류 결과를 확인한다. \n",
    "library(gmodels)\n",
    "CrossTable( mushrooms_test[  ,1], result1) \n",
    "#                   ↑                ↑\n",
    "#                  실제            예측 "
   ]
  },
  {
   "cell_type": "markdown",
   "metadata": {},
   "source": [
    "```\n",
    "    5단계 : 모델 성능개선 -> 나이브 베이즈 모델의 성능을 높이는 방법은 라플라스 값을 알아내는 것                            \n",
    "```"
   ]
  },
  {
   "cell_type": "code",
   "execution_count": null,
   "metadata": {},
   "outputs": [],
   "source": [
    "# 8. 위의 모델의 성능을 올리시오 !\n",
    "model2 <- naiveBayes(type~ . ,  data=mushrooms_train, laplace=0.0004)\n",
    "\n",
    "result2 <- predict( model2, mushrooms_test[ , -1] )\n",
    "\n",
    "CrossTable( mushrooms_test[ ,1], result2) "
   ]
  },
  {
   "cell_type": "markdown",
   "metadata": {},
   "source": [
    "### ※ 위의 모델에  별도로 구분해 놓은 테스트 데이터 한개(독버섯) 8123 번 데이터를 넣어서 독버섯인지 정상인지 확인하시오 ! "
   ]
  },
  {
   "cell_type": "code",
   "execution_count": null,
   "metadata": {},
   "outputs": [],
   "source": [
    "result3 <- predict( model2, mush_test )\n",
    "result3"
   ]
  },
  {
   "cell_type": "markdown",
   "metadata": {},
   "source": [
    "### ※ 문제228. 어제 사용한 k값을 알아내는 코드를 이용해서 독버섯 분류 나이브 베이즈 모델에 가장 적합한 Laplace 값이 얼마인지 알아내시오\n",
    "    0.001부터 시작"
   ]
  },
  {
   "cell_type": "code",
   "execution_count": 3,
   "metadata": {
    "ExecuteTime": {
     "end_time": "2020-06-24T09:21:37.217478Z",
     "start_time": "2020-06-24T09:21:37.067Z"
    }
   },
   "outputs": [
    {
     "ename": "ERROR",
     "evalue": "Error in naiveBayes(type ~ ., data = mushrooms_train, laplace = i/1e+05): 함수 \"naiveBayes\"를 찾을 수 없습니다\n",
     "output_type": "error",
     "traceback": [
      "Error in naiveBayes(type ~ ., data = mushrooms_train, laplace = i/1e+05): 함수 \"naiveBayes\"를 찾을 수 없습니다\nTraceback:\n"
     ]
    }
   ],
   "source": [
    "temp<-c()\n",
    "for ( i in 1:100 ) {\n",
    "  model_test_pred <- naiveBayes(type~ . ,  data=mushrooms_train, laplace=i/100000)\n",
    "  rs <- predict( model_test_pred, mushrooms_test[,-1])\n",
    "  g2 <- CrossTable(x=mushrooms_test[,1], y=rs, chisq=FALSE)\n",
    "  g3 <- g2$prop.tbl[1] + g2$prop.tbl[4]\n",
    "  temp<-append(temp, g3 )\n",
    "}\n",
    "temp\n",
    "plot(temp, type='l', col='red')"
   ]
  },
  {
   "cell_type": "code",
   "execution_count": null,
   "metadata": {},
   "outputs": [],
   "source": []
  },
  {
   "cell_type": "code",
   "execution_count": null,
   "metadata": {},
   "outputs": [],
   "source": []
  }
 ],
 "metadata": {
  "kernelspec": {
   "display_name": "R",
   "language": "R",
   "name": "ir"
  },
  "language_info": {
   "codemirror_mode": "r",
   "file_extension": ".r",
   "mimetype": "text/x-r-source",
   "name": "R",
   "pygments_lexer": "r",
   "version": "3.6.1"
  },
  "toc": {
   "base_numbering": 1,
   "nav_menu": {},
   "number_sections": true,
   "sideBar": true,
   "skip_h1_title": false,
   "title_cell": "Table of Contents",
   "title_sidebar": "Contents",
   "toc_cell": false,
   "toc_position": {},
   "toc_section_display": true,
   "toc_window_display": false
  },
  "varInspector": {
   "cols": {
    "lenName": 16,
    "lenType": 16,
    "lenVar": 40
   },
   "kernels_config": {
    "python": {
     "delete_cmd_postfix": "",
     "delete_cmd_prefix": "del ",
     "library": "var_list.py",
     "varRefreshCmd": "print(var_dic_list())"
    },
    "r": {
     "delete_cmd_postfix": ") ",
     "delete_cmd_prefix": "rm(",
     "library": "var_list.r",
     "varRefreshCmd": "cat(var_dic_list()) "
    }
   },
   "types_to_exclude": [
    "module",
    "function",
    "builtin_function_or_method",
    "instance",
    "_Feature"
   ],
   "window_display": false
  }
 },
 "nbformat": 4,
 "nbformat_minor": 4
}
