{
 "cells": [
  {
   "cell_type": "markdown",
   "metadata": {},
   "source": [
    "## ■ 나이브 베이즈 알고리즘으로 선호하는 영화 장르 예측하기 "
   ]
  },
  {
   "cell_type": "code",
   "execution_count": 1,
   "metadata": {
    "ExecuteTime": {
     "end_time": "2020-06-25T01:02:37.683482Z",
     "start_time": "2020-06-25T01:02:23.993Z"
    }
   },
   "outputs": [
    {
     "name": "stderr",
     "output_type": "stream",
     "text": [
      "Installing package into 'C:/Users/knitwill/Documents/R/win-library/3.6'\n",
      "(as 'lib' is unspecified)\n"
     ]
    },
    {
     "name": "stdout",
     "output_type": "stream",
     "text": [
      "package 'e1071' successfully unpacked and MD5 sums checked\n",
      "\n",
      "The downloaded binary packages are in\n",
      "\tC:\\Users\\knitwill\\AppData\\Local\\Temp\\Rtmp2VuvAi\\downloaded_packages\n"
     ]
    },
    {
     "name": "stderr",
     "output_type": "stream",
     "text": [
      "Warning message:\n",
      "\"package 'e1071' was built under R version 3.6.3\""
     ]
    },
    {
     "name": "stdout",
     "output_type": "stream",
     "text": [
      "'data.frame':\t39 obs. of  6 variables:\n",
      " $ 나이    : Factor w/ 5 levels \"10대\",\"10대 \",..: 3 5 1 3 1 5 2 4 4 5 ...\n",
      " $ 성별    : Factor w/ 2 levels \"남\",\"여\": 2 1 2 2 1 1 1 1 1 1 ...\n",
      " $ 직업    : Factor w/ 8 levels \"IT\",\"디자이너\",..: 2 8 8 2 7 6 7 1 4 6 ...\n",
      " $ 결혼여부: Factor w/ 2 levels \"NO\",\"YES\": 1 1 1 2 1 1 1 1 2 1 ...\n",
      " $ 이성친구: Factor w/ 2 levels \"NO\",\"YES\": 2 1 2 1 1 1 1 2 1 1 ...\n",
      " $ 장르    : Factor w/ 7 levels \"SF\",\"공포\",\"로맨틱\",..: 3 2 3 3 6 2 6 1 5 2 ...\n"
     ]
    },
    {
     "data": {
      "text/html": [
       "39"
      ],
      "text/latex": [
       "39"
      ],
      "text/markdown": [
       "39"
      ],
      "text/plain": [
       "[1] 39"
      ]
     },
     "metadata": {},
     "output_type": "display_data"
    }
   ],
   "source": [
    "# 2. 관련된 패키지를 설치 합니다.\n",
    "install.packages(\"e1071\")\n",
    "library(e1071)\n",
    "\n",
    "# 3. 데이터를 로드 합니다.\n",
    "movie <- read.csv(\"movie.csv\", header=T, stringsAsFactors=TRUE)\n",
    "str(movie)\n",
    "nrow(movie)"
   ]
  },
  {
   "cell_type": "code",
   "execution_count": 2,
   "metadata": {
    "ExecuteTime": {
     "end_time": "2020-06-25T01:02:41.371493Z",
     "start_time": "2020-06-25T01:02:41.345Z"
    }
   },
   "outputs": [],
   "source": [
    "# 4. 컬럼명을 영어로 변경합니다. \n",
    "colnames(movie) <- c(\"age\",\"gender\",\"job\",\"marry\",\"friend\",\"m_type\")"
   ]
  },
  {
   "cell_type": "code",
   "execution_count": 3,
   "metadata": {
    "ExecuteTime": {
     "end_time": "2020-06-25T01:02:45.910690Z",
     "start_time": "2020-06-25T01:02:45.815Z"
    }
   },
   "outputs": [
    {
     "data": {
      "text/html": [
       "<table>\n",
       "<thead><tr><th scope=col>age</th><th scope=col>gender</th><th scope=col>job</th><th scope=col>marry</th><th scope=col>friend</th><th scope=col>m_type</th></tr></thead>\n",
       "<tbody>\n",
       "\t<tr><td>20대       </td><td>여         </td><td>디자이너   </td><td>NO         </td><td>YES        </td><td>로맨틱     </td></tr>\n",
       "\t<tr><td>40대       </td><td>남         </td><td>홍보/마케팅</td><td>NO         </td><td>NO         </td><td>공포       </td></tr>\n",
       "\t<tr><td>10대       </td><td>여         </td><td>홍보/마케팅</td><td>NO         </td><td>YES        </td><td>로맨틱     </td></tr>\n",
       "\t<tr><td>20대       </td><td>여         </td><td>디자이너   </td><td>YES        </td><td>NO         </td><td>로맨틱     </td></tr>\n",
       "\t<tr><td>10대       </td><td>남         </td><td>학생       </td><td>NO         </td><td>NO         </td><td>액션       </td></tr>\n",
       "\t<tr><td>40대       </td><td>남         </td><td>자영업     </td><td>NO         </td><td>NO         </td><td>공포       </td></tr>\n",
       "\t<tr><td>10대       </td><td>남         </td><td>학생       </td><td>NO         </td><td>NO         </td><td>액션       </td></tr>\n",
       "\t<tr><td>30대       </td><td>남         </td><td>IT         </td><td>NO         </td><td>YES        </td><td>SF         </td></tr>\n",
       "\t<tr><td>30대       </td><td>남         </td><td>언론       </td><td>YES        </td><td>NO         </td><td>스릴러     </td></tr>\n",
       "\t<tr><td>40대       </td><td>남         </td><td>자영업     </td><td>NO         </td><td>NO         </td><td>공포       </td></tr>\n",
       "\t<tr><td>10대       </td><td>남         </td><td>학생       </td><td>NO         </td><td>NO         </td><td>액션       </td></tr>\n",
       "\t<tr><td>20대       </td><td>여         </td><td>홍보/마케팅</td><td>YES        </td><td>NO         </td><td>로맨틱     </td></tr>\n",
       "\t<tr><td>30대       </td><td>여         </td><td>IT         </td><td>YES        </td><td>NO         </td><td>SF         </td></tr>\n",
       "\t<tr><td>30대       </td><td>남         </td><td>언론       </td><td>YES        </td><td>NO         </td><td>스릴러     </td></tr>\n",
       "\t<tr><td>10대       </td><td>여         </td><td>학생       </td><td>NO         </td><td>YES        </td><td>로맨틱     </td></tr>\n",
       "\t<tr><td>20대       </td><td>남         </td><td>학생       </td><td>NO         </td><td>NO         </td><td>코미디     </td></tr>\n",
       "\t<tr><td>20대       </td><td>여         </td><td>디자이너   </td><td>YES        </td><td>NO         </td><td>로맨틱     </td></tr>\n",
       "\t<tr><td>30대       </td><td>남         </td><td>언론       </td><td>NO         </td><td>YES        </td><td>스릴러     </td></tr>\n",
       "\t<tr><td>30대       </td><td>남         </td><td>영업       </td><td>NO         </td><td>NO         </td><td>코미디     </td></tr>\n",
       "\t<tr><td>10대       </td><td>남         </td><td>학생       </td><td>NO         </td><td>NO         </td><td>액션       </td></tr>\n",
       "\t<tr><td>10대       </td><td>여         </td><td>학생       </td><td>NO         </td><td>YES        </td><td>로맨틱     </td></tr>\n",
       "\t<tr><td>30대       </td><td>남         </td><td>영업       </td><td>NO         </td><td>NO         </td><td>코미디     </td></tr>\n",
       "\t<tr><td>40대       </td><td>남         </td><td>영업       </td><td>NO         </td><td>NO         </td><td>공포       </td></tr>\n",
       "\t<tr><td>40대       </td><td>남         </td><td>홍보/마케팅</td><td>NO         </td><td>NO         </td><td>코미디     </td></tr>\n",
       "\t<tr><td>30대       </td><td>남         </td><td>IT         </td><td>YES        </td><td>NO         </td><td>SF         </td></tr>\n",
       "\t<tr><td>30대       </td><td>남         </td><td>언론       </td><td>NO         </td><td>YES        </td><td>스릴러     </td></tr>\n",
       "\t<tr><td>10대       </td><td>여         </td><td>학생       </td><td>NO         </td><td>YES        </td><td>로맨틱     </td></tr>\n",
       "\t<tr><td>20대       </td><td>남         </td><td>학생       </td><td>NO         </td><td>NO         </td><td>코미디     </td></tr>\n",
       "\t<tr><td>30대       </td><td>여         </td><td>IT         </td><td>YES        </td><td>NO         </td><td>SF         </td></tr>\n",
       "\t<tr><td>10대       </td><td>남         </td><td>학생       </td><td>NO         </td><td>NO         </td><td>액션       </td></tr>\n",
       "\t<tr><td>10대       </td><td>남         </td><td>무직       </td><td>NO         </td><td>NO         </td><td>무협       </td></tr>\n",
       "\t<tr><td>30대       </td><td>남         </td><td>언론       </td><td>YES        </td><td>NO         </td><td>스릴러     </td></tr>\n",
       "\t<tr><td>30대       </td><td>남         </td><td>무직       </td><td>NO         </td><td>NO         </td><td>무협       </td></tr>\n",
       "\t<tr><td>30대       </td><td>여         </td><td>IT         </td><td>YES        </td><td>NO         </td><td>SF         </td></tr>\n",
       "\t<tr><td>20대       </td><td>남         </td><td>무직       </td><td>NO         </td><td>NO         </td><td>무협       </td></tr>\n",
       "\t<tr><td>40대       </td><td>남         </td><td>홍보/마케팅</td><td>NO         </td><td>NO         </td><td>공포       </td></tr>\n",
       "\t<tr><td>40대       </td><td>남         </td><td>무직       </td><td>NO         </td><td>NO         </td><td>무협       </td></tr>\n",
       "\t<tr><td>40대       </td><td>남         </td><td>무직       </td><td>NO         </td><td>NO         </td><td>무협       </td></tr>\n",
       "</tbody>\n",
       "</table>\n"
      ],
      "text/latex": [
       "\\begin{tabular}{r|llllll}\n",
       " age & gender & job & marry & friend & m\\_type\\\\\n",
       "\\hline\n",
       "\t 20대        & 여          & 디자이너    & NO          & YES         & 로맨틱     \\\\\n",
       "\t 40대        & 남          & 홍보/마케팅 & NO          & NO          & 공포       \\\\\n",
       "\t 10대        & 여          & 홍보/마케팅 & NO          & YES         & 로맨틱     \\\\\n",
       "\t 20대        & 여          & 디자이너    & YES         & NO          & 로맨틱     \\\\\n",
       "\t 10대        & 남          & 학생        & NO          & NO          & 액션       \\\\\n",
       "\t 40대        & 남          & 자영업      & NO          & NO          & 공포       \\\\\n",
       "\t 10대        & 남          & 학생        & NO          & NO          & 액션       \\\\\n",
       "\t 30대        & 남          & IT          & NO          & YES         & SF         \\\\\n",
       "\t 30대        & 남          & 언론        & YES         & NO          & 스릴러     \\\\\n",
       "\t 40대        & 남          & 자영업      & NO          & NO          & 공포       \\\\\n",
       "\t 10대        & 남          & 학생        & NO          & NO          & 액션       \\\\\n",
       "\t 20대        & 여          & 홍보/마케팅 & YES         & NO          & 로맨틱     \\\\\n",
       "\t 30대        & 여          & IT          & YES         & NO          & SF         \\\\\n",
       "\t 30대        & 남          & 언론        & YES         & NO          & 스릴러     \\\\\n",
       "\t 10대        & 여          & 학생        & NO          & YES         & 로맨틱     \\\\\n",
       "\t 20대        & 남          & 학생        & NO          & NO          & 코미디     \\\\\n",
       "\t 20대        & 여          & 디자이너    & YES         & NO          & 로맨틱     \\\\\n",
       "\t 30대        & 남          & 언론        & NO          & YES         & 스릴러     \\\\\n",
       "\t 30대        & 남          & 영업        & NO          & NO          & 코미디     \\\\\n",
       "\t 10대        & 남          & 학생        & NO          & NO          & 액션       \\\\\n",
       "\t 10대        & 여          & 학생        & NO          & YES         & 로맨틱     \\\\\n",
       "\t 30대        & 남          & 영업        & NO          & NO          & 코미디     \\\\\n",
       "\t 40대        & 남          & 영업        & NO          & NO          & 공포       \\\\\n",
       "\t 40대        & 남          & 홍보/마케팅 & NO          & NO          & 코미디     \\\\\n",
       "\t 30대        & 남          & IT          & YES         & NO          & SF         \\\\\n",
       "\t 30대        & 남          & 언론        & NO          & YES         & 스릴러     \\\\\n",
       "\t 10대        & 여          & 학생        & NO          & YES         & 로맨틱     \\\\\n",
       "\t 20대        & 남          & 학생        & NO          & NO          & 코미디     \\\\\n",
       "\t 30대        & 여          & IT          & YES         & NO          & SF         \\\\\n",
       "\t 10대        & 남          & 학생        & NO          & NO          & 액션       \\\\\n",
       "\t 10대        & 남          & 무직        & NO          & NO          & 무협       \\\\\n",
       "\t 30대        & 남          & 언론        & YES         & NO          & 스릴러     \\\\\n",
       "\t 30대        & 남          & 무직        & NO          & NO          & 무협       \\\\\n",
       "\t 30대        & 여          & IT          & YES         & NO          & SF         \\\\\n",
       "\t 20대        & 남          & 무직        & NO          & NO          & 무협       \\\\\n",
       "\t 40대        & 남          & 홍보/마케팅 & NO          & NO          & 공포       \\\\\n",
       "\t 40대        & 남          & 무직        & NO          & NO          & 무협       \\\\\n",
       "\t 40대        & 남          & 무직        & NO          & NO          & 무협       \\\\\n",
       "\\end{tabular}\n"
      ],
      "text/markdown": [
       "\n",
       "| age | gender | job | marry | friend | m_type |\n",
       "|---|---|---|---|---|---|\n",
       "| 20대        | 여          | 디자이너    | NO          | YES         | 로맨틱      |\n",
       "| 40대        | 남          | 홍보/마케팅 | NO          | NO          | 공포        |\n",
       "| 10대        | 여          | 홍보/마케팅 | NO          | YES         | 로맨틱      |\n",
       "| 20대        | 여          | 디자이너    | YES         | NO          | 로맨틱      |\n",
       "| 10대        | 남          | 학생        | NO          | NO          | 액션        |\n",
       "| 40대        | 남          | 자영업      | NO          | NO          | 공포        |\n",
       "| 10대        | 남          | 학생        | NO          | NO          | 액션        |\n",
       "| 30대        | 남          | IT          | NO          | YES         | SF          |\n",
       "| 30대        | 남          | 언론        | YES         | NO          | 스릴러      |\n",
       "| 40대        | 남          | 자영업      | NO          | NO          | 공포        |\n",
       "| 10대        | 남          | 학생        | NO          | NO          | 액션        |\n",
       "| 20대        | 여          | 홍보/마케팅 | YES         | NO          | 로맨틱      |\n",
       "| 30대        | 여          | IT          | YES         | NO          | SF          |\n",
       "| 30대        | 남          | 언론        | YES         | NO          | 스릴러      |\n",
       "| 10대        | 여          | 학생        | NO          | YES         | 로맨틱      |\n",
       "| 20대        | 남          | 학생        | NO          | NO          | 코미디      |\n",
       "| 20대        | 여          | 디자이너    | YES         | NO          | 로맨틱      |\n",
       "| 30대        | 남          | 언론        | NO          | YES         | 스릴러      |\n",
       "| 30대        | 남          | 영업        | NO          | NO          | 코미디      |\n",
       "| 10대        | 남          | 학생        | NO          | NO          | 액션        |\n",
       "| 10대        | 여          | 학생        | NO          | YES         | 로맨틱      |\n",
       "| 30대        | 남          | 영업        | NO          | NO          | 코미디      |\n",
       "| 40대        | 남          | 영업        | NO          | NO          | 공포        |\n",
       "| 40대        | 남          | 홍보/마케팅 | NO          | NO          | 코미디      |\n",
       "| 30대        | 남          | IT          | YES         | NO          | SF          |\n",
       "| 30대        | 남          | 언론        | NO          | YES         | 스릴러      |\n",
       "| 10대        | 여          | 학생        | NO          | YES         | 로맨틱      |\n",
       "| 20대        | 남          | 학생        | NO          | NO          | 코미디      |\n",
       "| 30대        | 여          | IT          | YES         | NO          | SF          |\n",
       "| 10대        | 남          | 학생        | NO          | NO          | 액션        |\n",
       "| 10대        | 남          | 무직        | NO          | NO          | 무협        |\n",
       "| 30대        | 남          | 언론        | YES         | NO          | 스릴러      |\n",
       "| 30대        | 남          | 무직        | NO          | NO          | 무협        |\n",
       "| 30대        | 여          | IT          | YES         | NO          | SF          |\n",
       "| 20대        | 남          | 무직        | NO          | NO          | 무협        |\n",
       "| 40대        | 남          | 홍보/마케팅 | NO          | NO          | 공포        |\n",
       "| 40대        | 남          | 무직        | NO          | NO          | 무협        |\n",
       "| 40대        | 남          | 무직        | NO          | NO          | 무협        |\n",
       "\n"
      ],
      "text/plain": [
       "   age   gender job         marry friend m_type\n",
       "1  20대  여     디자이너    NO    YES    로맨틱\n",
       "2  40대  남     홍보/마케팅 NO    NO     공포  \n",
       "3  10대  여     홍보/마케팅 NO    YES    로맨틱\n",
       "4  20대  여     디자이너    YES   NO     로맨틱\n",
       "5  10대  남     학생        NO    NO     액션  \n",
       "6  40대  남     자영업      NO    NO     공포  \n",
       "7  10대  남     학생        NO    NO     액션  \n",
       "8  30대  남     IT          NO    YES    SF    \n",
       "9  30대  남     언론        YES   NO     스릴러\n",
       "10 40대  남     자영업      NO    NO     공포  \n",
       "11 10대  남     학생        NO    NO     액션  \n",
       "12 20대  여     홍보/마케팅 YES   NO     로맨틱\n",
       "13 30대  여     IT          YES   NO     SF    \n",
       "14 30대  남     언론        YES   NO     스릴러\n",
       "15 10대  여     학생        NO    YES    로맨틱\n",
       "16 20대  남     학생        NO    NO     코미디\n",
       "17 20대  여     디자이너    YES   NO     로맨틱\n",
       "18 30대  남     언론        NO    YES    스릴러\n",
       "19 30대  남     영업        NO    NO     코미디\n",
       "20 10대  남     학생        NO    NO     액션  \n",
       "21 10대  여     학생        NO    YES    로맨틱\n",
       "22 30대  남     영업        NO    NO     코미디\n",
       "23 40대  남     영업        NO    NO     공포  \n",
       "24 40대  남     홍보/마케팅 NO    NO     코미디\n",
       "25 30대  남     IT          YES   NO     SF    \n",
       "26 30대  남     언론        NO    YES    스릴러\n",
       "27 10대  여     학생        NO    YES    로맨틱\n",
       "28 20대  남     학생        NO    NO     코미디\n",
       "29 30대  여     IT          YES   NO     SF    \n",
       "30 10대  남     학생        NO    NO     액션  \n",
       "31 10대  남     무직        NO    NO     무협  \n",
       "32 30대  남     언론        YES   NO     스릴러\n",
       "33 30대  남     무직        NO    NO     무협  \n",
       "34 30대  여     IT          YES   NO     SF    \n",
       "35 20대  남     무직        NO    NO     무협  \n",
       "36 40대  남     홍보/마케팅 NO    NO     공포  \n",
       "37 40대  남     무직        NO    NO     무협  \n",
       "38 40대  남     무직        NO    NO     무협  "
      ]
     },
     "metadata": {},
     "output_type": "display_data"
    },
    {
     "data": {
      "text/html": [
       "<table>\n",
       "<thead><tr><th></th><th scope=col>age</th><th scope=col>gender</th><th scope=col>job</th><th scope=col>marry</th><th scope=col>friend</th><th scope=col>m_type</th></tr></thead>\n",
       "<tbody>\n",
       "\t<tr><th scope=row>39</th><td>20대       </td><td>여         </td><td>홍보/마케팅</td><td>YES        </td><td>NO         </td><td>로맨틱     </td></tr>\n",
       "</tbody>\n",
       "</table>\n"
      ],
      "text/latex": [
       "\\begin{tabular}{r|llllll}\n",
       "  & age & gender & job & marry & friend & m\\_type\\\\\n",
       "\\hline\n",
       "\t39 & 20대        & 여          & 홍보/마케팅 & YES         & NO          & 로맨틱     \\\\\n",
       "\\end{tabular}\n"
      ],
      "text/markdown": [
       "\n",
       "| <!--/--> | age | gender | job | marry | friend | m_type |\n",
       "|---|---|---|---|---|---|---|\n",
       "| 39 | 20대        | 여          | 홍보/마케팅 | YES         | NO          | 로맨틱      |\n",
       "\n"
      ],
      "text/plain": [
       "   age  gender job         marry friend m_type\n",
       "39 20대 여     홍보/마케팅 YES   NO     로맨틱"
      ]
     },
     "metadata": {},
     "output_type": "display_data"
    }
   ],
   "source": [
    "# 5. 38개의 행으로 훈련시키고 나머지 39번째 하나의 행으로 테스트 합니다. \n",
    "train <- movie[1:38,]\n",
    "test <- movie[39,]\n",
    "train\n",
    "test # 장르가 로맨틱이지만 ML 모델에게는 정답을 알려주지 않고 다른 데이터만 넣어서 장르를 맞추는지 확인"
   ]
  },
  {
   "cell_type": "code",
   "execution_count": 4,
   "metadata": {
    "ExecuteTime": {
     "end_time": "2020-06-25T01:03:03.828346Z",
     "start_time": "2020-06-25T01:03:03.795Z"
    }
   },
   "outputs": [
    {
     "data": {
      "text/html": [
       "6"
      ],
      "text/latex": [
       "6"
      ],
      "text/markdown": [
       "6"
      ],
      "text/plain": [
       "[1] 6"
      ]
     },
     "metadata": {},
     "output_type": "display_data"
    }
   ],
   "source": [
    "# 6. 훈련 데이터로 나이브 베이즈 모델을 생성합니다. \n",
    "ncol(train) # 6, 6번째 column이 정답 라벨"
   ]
  },
  {
   "cell_type": "code",
   "execution_count": 5,
   "metadata": {
    "ExecuteTime": {
     "end_time": "2020-06-25T01:03:37.071797Z",
     "start_time": "2020-06-25T01:03:37.023Z"
    }
   },
   "outputs": [
    {
     "data": {
      "text/plain": [
       "\n",
       "Naive Bayes Classifier for Discrete Predictors\n",
       "\n",
       "Call:\n",
       "naiveBayes.default(x = train[, 1:5], y = train$m_type, laplace = 1e-04)\n",
       "\n",
       "A-priori probabilities:\n",
       "train$m_type\n",
       "       SF      공포    로맨틱      무협    스릴러      액션    코미디 \n",
       "0.1315789 0.1315789 0.2105263 0.1315789 0.1315789 0.1315789 0.1315789 \n",
       "\n",
       "Conditional probabilities:\n",
       "            age\n",
       "train$m_type         10대        10대          20대         30대         40대\n",
       "      SF     1.999800e-05 1.999800e-05 1.999800e-05 9.999200e-01 1.999800e-05\n",
       "      공포   1.999800e-05 1.999800e-05 1.999800e-05 1.999800e-05 9.999200e-01\n",
       "      로맨틱 4.999813e-01 1.249922e-05 4.999813e-01 1.249922e-05 1.249922e-05\n",
       "      무협   2.000000e-01 1.999800e-05 2.000000e-01 2.000000e-01 3.999800e-01\n",
       "      스릴러 1.999800e-05 1.999800e-05 1.999800e-05 9.999200e-01 1.999800e-05\n",
       "      액션   2.000000e-01 7.999400e-01 1.999800e-05 1.999800e-05 1.999800e-05\n",
       "      코미디 1.999800e-05 1.999800e-05 3.999800e-01 3.999800e-01 2.000000e-01\n",
       "\n",
       "            gender\n",
       "train$m_type           남           여\n",
       "      SF     4.000040e-01 5.999960e-01\n",
       "      공포   9.999800e-01 1.999920e-05\n",
       "      로맨틱 1.249969e-05 9.999875e-01\n",
       "      무협   9.999800e-01 1.999920e-05\n",
       "      스릴러 9.999800e-01 1.999920e-05\n",
       "      액션   9.999800e-01 1.999920e-05\n",
       "      코미디 9.999800e-01 1.999920e-05\n",
       "\n",
       "            job\n",
       "train$m_type           IT     디자이너         무직         언론         영업\n",
       "      SF     9.998600e-01 1.999680e-05 1.999680e-05 1.999680e-05 1.999680e-05\n",
       "      공포   1.999680e-05 1.999680e-05 1.999680e-05 1.999680e-05 1.999880e-01\n",
       "      로맨틱 1.249875e-05 3.749750e-01 1.249875e-05 1.249875e-05 1.249875e-05\n",
       "      무협   1.999680e-05 1.999680e-05 9.998600e-01 1.999680e-05 1.999680e-05\n",
       "      스릴러 1.999680e-05 1.999680e-05 1.999680e-05 9.998600e-01 1.999680e-05\n",
       "      액션   1.999680e-05 1.999680e-05 1.999680e-05 1.999680e-05 1.999680e-05\n",
       "      코미디 1.999680e-05 1.999680e-05 1.999680e-05 1.999680e-05 3.999560e-01\n",
       "            job\n",
       "train$m_type       자영업         학생  홍보/마케팅\n",
       "      SF     1.999680e-05 1.999680e-05 1.999680e-05\n",
       "      공포   3.999560e-01 1.999680e-05 3.999560e-01\n",
       "      로맨틱 1.249875e-05 3.749750e-01 2.499875e-01\n",
       "      무협   1.999680e-05 1.999680e-05 1.999680e-05\n",
       "      스릴러 1.999680e-05 1.999680e-05 1.999680e-05\n",
       "      액션   1.999680e-05 9.998600e-01 1.999680e-05\n",
       "      코미디 1.999680e-05 3.999560e-01 1.999880e-01\n",
       "\n",
       "            marry\n",
       "train$m_type           NO          YES\n",
       "      SF     0.2000119995 0.7999880005\n",
       "      공포   0.9999800008 0.0000199992\n",
       "      로맨틱 0.6249968751 0.3750031249\n",
       "      무협   0.9999800008 0.0000199992\n",
       "      스릴러 0.4000039998 0.5999960002\n",
       "      액션   0.9999800008 0.0000199992\n",
       "      코미디 0.9999800008 0.0000199992\n",
       "\n",
       "            friend\n",
       "train$m_type           NO          YES\n",
       "      SF     0.7999880005 0.2000119995\n",
       "      공포   0.9999800008 0.0000199992\n",
       "      로맨틱 0.3750031249 0.6249968751\n",
       "      무협   0.9999800008 0.0000199992\n",
       "      스릴러 0.5999960002 0.4000039998\n",
       "      액션   0.9999800008 0.0000199992\n",
       "      코미디 0.9999800008 0.0000199992\n"
      ]
     },
     "metadata": {},
     "output_type": "display_data"
    }
   ],
   "source": [
    "model <- naiveBayes(train[ ,1:5], train$m_type , laplace=0.0001)\n",
    "model"
   ]
  },
  {
   "cell_type": "markdown",
   "metadata": {},
   "source": [
    "### ※ 문제229. 나이가 20대이고 성별이 여자이며 직업이 IT이고 결혼을 안했으며 친구가 없는 사람이 선택할 영화장르는?"
   ]
  },
  {
   "cell_type": "code",
   "execution_count": 7,
   "metadata": {
    "ExecuteTime": {
     "end_time": "2020-06-25T01:11:19.576027Z",
     "start_time": "2020-06-25T01:11:19.538Z"
    }
   },
   "outputs": [
    {
     "data": {
      "text/html": [
       "로맨틱\n",
       "<details>\n",
       "\t<summary style=display:list-item;cursor:pointer>\n",
       "\t\t<strong>Levels</strong>:\n",
       "\t</summary>\n",
       "\t<ol class=list-inline>\n",
       "\t\t<li>'SF'</li>\n",
       "\t\t<li>'공포'</li>\n",
       "\t\t<li>'로맨틱'</li>\n",
       "\t\t<li>'무협'</li>\n",
       "\t\t<li>'스릴러'</li>\n",
       "\t\t<li>'액션'</li>\n",
       "\t\t<li>'코미디'</li>\n",
       "\t</ol>\n",
       "</details>"
      ],
      "text/latex": [
       "로맨틱\n",
       "\\emph{Levels}: \\begin{enumerate*}\n",
       "\\item 'SF'\n",
       "\\item '공포'\n",
       "\\item '로맨틱'\n",
       "\\item '무협'\n",
       "\\item '스릴러'\n",
       "\\item '액션'\n",
       "\\item '코미디'\n",
       "\\end{enumerate*}\n"
      ],
      "text/markdown": [
       "로맨틱\n",
       "**Levels**: 1. 'SF'\n",
       "2. '공포'\n",
       "3. '로맨틱'\n",
       "4. '무협'\n",
       "5. '스릴러'\n",
       "6. '액션'\n",
       "7. '코미디'\n",
       "\n",
       "\n"
      ],
      "text/plain": [
       "[1] 로맨틱\n",
       "Levels: SF 공포 로맨틱 무협 스릴러 액션 코미디"
      ]
     },
     "metadata": {},
     "output_type": "display_data"
    }
   ],
   "source": [
    "test3 <- data.frame(age='20대', gender='여', job='IT', marry='NO',friend='NO')\n",
    "result <- predict( model, test3)\n",
    "result "
   ]
  },
  {
   "cell_type": "markdown",
   "metadata": {},
   "source": [
    "### ※ 문제230. 직업이 학생이고 결혼을 안했으며 이성친구가 없는 20대 남자가 선호하는 영화장르는?"
   ]
  },
  {
   "cell_type": "code",
   "execution_count": 9,
   "metadata": {
    "ExecuteTime": {
     "end_time": "2020-06-25T01:12:17.652210Z",
     "start_time": "2020-06-25T01:12:17.617Z"
    }
   },
   "outputs": [
    {
     "data": {
      "text/html": [
       "코미디\n",
       "<details>\n",
       "\t<summary style=display:list-item;cursor:pointer>\n",
       "\t\t<strong>Levels</strong>:\n",
       "\t</summary>\n",
       "\t<ol class=list-inline>\n",
       "\t\t<li>'SF'</li>\n",
       "\t\t<li>'공포'</li>\n",
       "\t\t<li>'로맨틱'</li>\n",
       "\t\t<li>'무협'</li>\n",
       "\t\t<li>'스릴러'</li>\n",
       "\t\t<li>'액션'</li>\n",
       "\t\t<li>'코미디'</li>\n",
       "\t</ol>\n",
       "</details>"
      ],
      "text/latex": [
       "코미디\n",
       "\\emph{Levels}: \\begin{enumerate*}\n",
       "\\item 'SF'\n",
       "\\item '공포'\n",
       "\\item '로맨틱'\n",
       "\\item '무협'\n",
       "\\item '스릴러'\n",
       "\\item '액션'\n",
       "\\item '코미디'\n",
       "\\end{enumerate*}\n"
      ],
      "text/markdown": [
       "코미디\n",
       "**Levels**: 1. 'SF'\n",
       "2. '공포'\n",
       "3. '로맨틱'\n",
       "4. '무협'\n",
       "5. '스릴러'\n",
       "6. '액션'\n",
       "7. '코미디'\n",
       "\n",
       "\n"
      ],
      "text/plain": [
       "[1] 코미디\n",
       "Levels: SF 공포 로맨틱 무협 스릴러 액션 코미디"
      ]
     },
     "metadata": {},
     "output_type": "display_data"
    }
   ],
   "source": [
    "test4 <- data.frame(age='20대', gender='남', job='학생', marry='NO',friend='NO')\n",
    "result <- predict( model, test4)\n",
    "result "
   ]
  },
  {
   "cell_type": "markdown",
   "metadata": {},
   "source": [
    "### ※ 문제231. 그래프를 R에서 편하게 그릴 수 있는 자동화 코드를 구현하시오"
   ]
  },
  {
   "cell_type": "code",
   "execution_count": 11,
   "metadata": {
    "ExecuteTime": {
     "end_time": "2020-06-25T01:19:26.378091Z",
     "start_time": "2020-06-25T01:19:26.334Z"
    }
   },
   "outputs": [
    {
     "ename": "ERROR",
     "evalue": "Error in menu(c(\"산포도그래프\", \"히스토그램 그래프\"), title = \"숫자를 선택하세요\"): menu() cannot be used non-interactively\n",
     "output_type": "error",
     "traceback": [
      "Error in menu(c(\"산포도그래프\", \"히스토그램 그래프\"), title = \"숫자를 선택하세요\"): menu() cannot be used non-interactively\nTraceback:\n",
      "1. menu(c(\"산포도그래프\", \"히스토그램 그래프\"), title = \"숫자를 선택하세요\")",
      "2. stop(\"menu() cannot be used non-interactively\")"
     ]
    }
   ],
   "source": [
    "x1 <- menu(c('산포도그래프','히스토그램 그래프'),title='숫자를 선택하세요')"
   ]
  },
  {
   "cell_type": "code",
   "execution_count": 12,
   "metadata": {
    "ExecuteTime": {
     "end_time": "2020-06-25T01:19:34.814499Z",
     "start_time": "2020-06-25T01:19:34.783Z"
    }
   },
   "outputs": [
    {
     "ename": "ERROR",
     "evalue": "Error in menu(c(\"산포도 그래프\", \"히스토그램 그래프\"), title = \"숫자를 선택하세요 ~\"): menu() cannot be used non-interactively\n",
     "output_type": "error",
     "traceback": [
      "Error in menu(c(\"산포도 그래프\", \"히스토그램 그래프\"), title = \"숫자를 선택하세요 ~\"): menu() cannot be used non-interactively\nTraceback:\n",
      "1. my_func()",
      "2. menu(c(\"산포도 그래프\", \"히스토그램 그래프\"), title = \"숫자를 선택하세요 ~\")   # at line 2-3 of file <text>",
      "3. stop(\"menu() cannot be used non-interactively\")"
     ]
    }
   ],
   "source": [
    "my_func <- function() {\n",
    "        x1 <- menu( c('산포도 그래프','히스토그램 그래프') ,\n",
    "                       title='숫자를 선택하세요 ~' )  \n",
    "        switch ( x1,  \n",
    "                 san1 = {   print('산포도 그래프 ~~')  } ,\n",
    "                 san2 = {   print('히스토그램 ~~ '  )  }\n",
    "                )\n",
    "}\n",
    "my_func() "
   ]
  },
  {
   "cell_type": "code",
   "execution_count": null,
   "metadata": {},
   "outputs": [],
   "source": [
    "my_func <- function() {\n",
    "  library(data.table)\n",
    "  sanpodo <- function() {\n",
    "    fname <- file.choose()\n",
    "    table <- read.csv(fname, header=T, stringsAsFactor=F )       \n",
    "    print(data.table(colnames(table)))\n",
    "    \n",
    "    xcol_num <- as.numeric(readline('x축 컬럼 번호: '))    \n",
    "    ycol_num <- as.numeric(readline('y축 컬럼 번호: '))      \n",
    "    \n",
    "    xcol <- colnames(table[xcol_num])\n",
    "    ycol <- colnames(table[ycol_num])\n",
    "    \n",
    "    xcol2 <- table[,xcol]\n",
    "    ycol2 <- table[,ycol]\n",
    "    \n",
    "    plot(xcol2,ycol2,\n",
    "         main=paste(xcol,'과',ycol,'의 산포도 그래프'),,lwd=2,             \n",
    "         xlab=xcol,ylab=ycol,col='red',pch=21,bg='red')\n",
    "  }\n",
    "  \n",
    "  my_hist <- function() {\n",
    "    fname <- file.choose()    \n",
    "    table <- read.csv(fname, header=T, stringsAsFactor=F )    \n",
    "    print(data.table(colnames(table)))\n",
    "    \n",
    "    xcol_num <- as.numeric(readline('x축 컬럼 번호: '))\n",
    "    xcol <- colnames(table[xcol_num])\n",
    "    \n",
    "    xcol2 <- table[,xcol]  \n",
    "    class1 <- sort(xcol2)\n",
    "    \n",
    "    hist(class1 , col=\"yellow\", density=80,      main=\"히스토그램 정규분포 그래프\" )\n",
    "    \n",
    "    par(new=T)\n",
    "    \n",
    "    plot( class1, dnorm( class1, mean=mean(class1),                        \n",
    "                         sd=sd(class1)),type='l', axes=FALSE, ann=FALSE,   col=\"red\") \n",
    "  }\n",
    "  \n",
    "  my_box <- function() {\n",
    "    fname <- file.choose()  \n",
    "    table <- read.csv(fname, header=T, stringsAsFactor=F )    \n",
    "    print(data.table(colnames(table)))  \n",
    "    xcol_num <- as.numeric(readline('x축 컬럼 번호: '))      \n",
    "    xcol <- colnames(table[xcol_num])  \n",
    "    xcol2 <- table[,xcol]  \n",
    "    boxplot(xcol2, col=\"green\", density=80 )\n",
    "  }\n",
    "  \n",
    "  \n",
    "  x1 <- menu( c('산포도 그래프','히스토그램 그래프','사분위수 그래프') ,            \n",
    "              title='숫자를 선택하세요 ~' )  \n",
    "  \n",
    "  switch ( x1,            \n",
    "           san1 = {   sanpodo()                  } ,          \n",
    "           san2 = {   my_hist()                  } ,          \n",
    "           san3 = {   my_box()                   }           \n",
    "  )  \n",
    "}\n",
    "my_func()"
   ]
  },
  {
   "cell_type": "markdown",
   "metadata": {},
   "source": [
    "### ※ 문제232. knn_fun() 코드를 수정해서 결과가 M이면 'ML 모델이 암환자로 예측 했습니다.' 라고 출력되게하고 결과가 B면 'ML 모델이 정상환자로 예측 했습니다.'고 출력되게 하시오"
   ]
  },
  {
   "cell_type": "code",
   "execution_count": null,
   "metadata": {},
   "outputs": [],
   "source": [
    "knn_fun<-function(){\n",
    "  \n",
    "  x <-  \"d:/R/wisc_bc_data.csv\"\n",
    "  y <-\"diagnosis\"\n",
    "  k_n <- 21\n",
    "  \n",
    "  data1 <- read.csv(x, stringsAsFactors=FALSE)\n",
    "  \n",
    "  normalize<-function(x) {\n",
    "    return( (x-min(x))/ ( max(x)-min(x)))\n",
    "  }\n",
    "  \n",
    "  data1 <- data1[-1]\n",
    "  ncol1 <- which(colnames(data1)==y)\n",
    "  \n",
    "  data1_n <- as.data.frame(lapply(data1[,-ncol1], normalize) )   \n",
    "  mm<-round(nrow(data1_n)*2/3)\n",
    "  \n",
    "  data1_train <- data1_n[1:mm, ]\n",
    "  data1_test  <- data1_n[(mm+1):nrow(data1_n), ]\n",
    "  \n",
    "  data1_train_label <- data1[1:mm,y]\n",
    "  data1_test_label  <- data1[(mm+1):nrow(data1_n),y]\n",
    "  \n",
    "  library(class) \n",
    "  \n",
    "  result1 <- knn(train=data1_train, test=data1_test,  cl= data1_train_label, k = k_n ) \n",
    "  prop.table( table(ifelse(data1[(mm+1):nrow(data1_n),y]==result1,\"o\",\"x\" )))\n",
    "  \n",
    "  # 윈도우 탐색기로 테스트환자를 불러옵니다. \n",
    "  fname <- file.choose() \n",
    "  table <- read.csv(fname, header=T, stringsAsFactor=F )\n",
    "  \n",
    "  # 환자번호를 제외합니다.  \n",
    "  table <- table[-1]  \n",
    "  \n",
    "  #라벨 컬럼을 지정합니다.  \n",
    "  ncol1 <- which(colnames(table)==y)\n",
    "  \n",
    "  # 데이터 정규화를 위해 기존 데이터와 묶어줍니다.   \n",
    "  data1 <- rbind(data1,table)\n",
    "  data1_n <- as.data.frame(lapply(data1[,-ncol1], normalize) ) \n",
    "  \n",
    "  #맨 마지막 환자를 선택합니다.   \n",
    "  data2_test <- data1_n[nrow(data1_n),]  \n",
    "  result2 <- knn(train=data1_train, test=data2_test,  cl= data1_train_label, k = k_n )  \n",
    "  \n",
    "  if (result2=='M'){\n",
    "    print('ML 모델이 암환자로 예측 했습니다.')\n",
    "  } else {\n",
    "    print('ML모델이 정상환자로 예측 했습니다.')\n",
    "  }\n",
    "}\n",
    "\n",
    "knn_fun()"
   ]
  },
  {
   "cell_type": "markdown",
   "metadata": {},
   "source": [
    "### ※ 문제233. kNN 알고리즘으로 유방암 환자를 분류하는 활용코드를 수행해보고 자동화 활용 코드에 knn_fun() 함수를 추가하시오"
   ]
  },
  {
   "cell_type": "code",
   "execution_count": null,
   "metadata": {},
   "outputs": [],
   "source": [
    "knn_fun<-function(){\n",
    "  \n",
    "  x <-  \"d:/R/wisc_bc_data.csv\"\n",
    "  y <-\"diagnosis\"\n",
    "  k_n <- 21\n",
    "  \n",
    "  data1 <- read.csv(x, stringsAsFactors=FALSE)\n",
    "  \n",
    "  normalize<-function(x) {\n",
    "    return( (x-min(x))/ ( max(x)-min(x)))\n",
    "  }\n",
    "  \n",
    "  data1 <- data1[-1]\n",
    "  ncol1 <- which(colnames(data1)==y)\n",
    "  \n",
    "  data1_n <- as.data.frame(lapply(data1[,-ncol1], normalize) )   \n",
    "  mm<-round(nrow(data1_n)*2/3)\n",
    "  \n",
    "  data1_train <- data1_n[1:mm, ]\n",
    "  data1_test  <- data1_n[(mm+1):nrow(data1_n), ]\n",
    "  \n",
    "  data1_train_label <- data1[1:mm,y]\n",
    "  data1_test_label  <- data1[(mm+1):nrow(data1_n),y]\n",
    "  \n",
    "  library(class) \n",
    "  \n",
    "  result1 <- knn(train=data1_train, test=data1_test,  cl= data1_train_label, k = k_n ) \n",
    "  prop.table( table(ifelse(data1[(mm+1):nrow(data1_n),y]==result1,\"o\",\"x\" )))\n",
    "  \n",
    "  # 윈도우 탐색기로 테스트환자를 불러옵니다. \n",
    "  fname <- file.choose() \n",
    "  table <- read.csv(fname, header=T, stringsAsFactor=F )\n",
    "  \n",
    "  # 환자번호를 제외합니다.  \n",
    "  table <- table[-1]  \n",
    "  \n",
    "  #라벨 컬럼을 지정합니다.  \n",
    "  ncol1 <- which(colnames(table)==y)\n",
    "  \n",
    "  # 데이터 정규화를 위해 기존 데이터와 묶어줍니다.   \n",
    "  data1 <- rbind(data1,table)\n",
    "  data1_n <- as.data.frame(lapply(data1[,-ncol1], normalize) ) \n",
    "  \n",
    "  #맨 마지막 환자를 선택합니다.   \n",
    "  data2_test <- data1_n[nrow(data1_n),]  \n",
    "  result2 <- knn(train=data1_train, test=data2_test,  cl= data1_train_label, k = k_n )  \n",
    "  \n",
    "  if (result2=='M'){\n",
    "    print('ML 모델이 암환자로 예측 했습니다.')\n",
    "  } else {\n",
    "    print('ML모델이 정상환자로 예측 했습니다.')\n",
    "  }\n",
    "}\n",
    "\n",
    "knn_fun()"
   ]
  },
  {
   "cell_type": "markdown",
   "metadata": {},
   "source": [
    "## ■ 영화 장르 나이브 베이즈 활용 함수 생성"
   ]
  },
  {
   "cell_type": "code",
   "execution_count": null,
   "metadata": {},
   "outputs": [],
   "source": [
    "naive_fun<-function(){\n",
    "  library(e1071)  \n",
    "\n",
    "  movie <- read.csv(\"movie.csv\", header=T, stringsAsFactors=TRUE)\n",
    "  colnames(movie) <- c(\"age\",\"gender\",\"job\",\"marry\",\"friend\",\"m_type\")\n",
    "\n",
    "  train <- movie[1:39,]  \n",
    "  model <- naiveBayes(train[ ,1:5], train$m_type , laplace=0)\n",
    "  \n",
    "  fname <- file.choose()   \n",
    "  test <- read.csv(fname, header=T, stringsAsFactor=F )\n",
    "\n",
    "  result <- predict( model, test)  \n",
    "  result\n",
    "}\n",
    "\n",
    "naive_fun()"
   ]
  },
  {
   "cell_type": "markdown",
   "metadata": {},
   "source": [
    "### ※ 문제234. 위의 코드를 활용해서 독감 환자인지 아닌지를 분류하는 나이브베이즈 모델을 활용하는 함수를 생성하시오"
   ]
  },
  {
   "cell_type": "code",
   "execution_count": null,
   "metadata": {},
   "outputs": [],
   "source": [
    "naive_fun<-function(){\n",
    "  library(e1071)  \n",
    "  \n",
    "  flu <- read.csv(\"flu.csv\", header=T, stringsAsFactors=TRUE)\n",
    "\n",
    "  train <- flu[1:nrow(flu),-1]  \n",
    "  model <- naiveBayes(train[,1:4], train$flue , laplace=0)\n",
    "  \n",
    "  fname <- file.choose()   \n",
    "  test <- read.csv(fname, header=T, stringsAsFactor=F )\n",
    "  \n",
    "  result <- predict( model, test)  \n",
    "  result\n",
    "}\n",
    "\n",
    "naive_fun()"
   ]
  },
  {
   "cell_type": "markdown",
   "metadata": {},
   "source": [
    "### ※ 문제235. naive_fun()을 실행하면 아래와 같이 메세지가 나오게 하시오\n",
    "    이 환자는 독감 환자 입니다.\n",
    "    이 환자는 독감 환자가 아닙니다."
   ]
  },
  {
   "cell_type": "code",
   "execution_count": null,
   "metadata": {},
   "outputs": [],
   "source": [
    "naive_fun<-function(){\n",
    "  library(e1071)  \n",
    "  \n",
    "  flu <- read.csv(\"flu.csv\", header=T, stringsAsFactors=TRUE)\n",
    "\n",
    "  train <- flu[1:nrow(flu),-1]  \n",
    "  model <- naiveBayes(train[,1:4], train$flue , laplace=0)\n",
    "  \n",
    "  fname <- file.choose()   \n",
    "  test <- read.csv(fname, header=T, stringsAsFactor=F )\n",
    "  \n",
    "  result <- predict( model, test)  \n",
    "  if (result=='Y'){\n",
    "      print('이 환자는 독감 환자 입니다.')\n",
    "  } else {\n",
    "      print('이 환자는 독감 환자가 아닙니다.')\n",
    "  }\n",
    "}\n",
    "\n",
    "naive_fun()"
   ]
  },
  {
   "cell_type": "markdown",
   "metadata": {},
   "source": [
    "### ※ 문제236. readline을 이용해서 나이브베이즈 함수를 실행할 때 아래와 같이 증상을 물어보게 하고 ML 모델이 예측한 결과가 출력되게 하시오\n",
    "    naive_fun()\n",
    "    \n",
    "    오한이 있습니까? Y\n",
    "    콧물이 있습니까? N\n",
    "    두통이 있습니까? MILD\n",
    "    열이 있습니까? Y\n",
    "    \n",
    "    독감환자가 아닙니다."
   ]
  },
  {
   "cell_type": "code",
   "execution_count": 13,
   "metadata": {
    "ExecuteTime": {
     "end_time": "2020-06-25T02:59:06.151135Z",
     "start_time": "2020-06-25T02:58:55.157Z"
    }
   },
   "outputs": [
    {
     "name": "stdout",
     "output_type": "stream",
     "text": [
      "오한이 있습니까? Y/N Y\n",
      "콧물이 있습니까? Y/N N\n",
      "두통이 있습니까? MILD/STRONG/NO MILD\n",
      "오한이 있습니까? Y/N N\n",
      "[1] \"이 환자는 독감 환자가 아닙니다.\"\n"
     ]
    }
   ],
   "source": [
    "naive_fun<-function(){\n",
    "  library(e1071)  \n",
    "  \n",
    "  flu <- read.csv(\"flu.csv\", header=T, stringsAsFactors=TRUE)\n",
    "  \n",
    "  train <- flu[1:nrow(flu),-1]  \n",
    "  model <- naiveBayes(train[,1:4], train$flue , laplace=0)\n",
    "  \n",
    "  q1 <- readline(prompt = '오한이 있습니까? Y/N ')\n",
    "  q2 <- readline(prompt = '콧물이 있습니까? Y/N ')\n",
    "  q3 <- readline(prompt = '두통이 있습니까? MILD/STRONG/NO ')\n",
    "  q4 <- readline(prompt = '오한이 있습니까? Y/N ')\n",
    "  \n",
    "  test <- data.frame(chills=q1,runny_nose=q2,headache=q3,fever=q4)\n",
    "  \n",
    "  result <- predict( model, test)  \n",
    "  if (result=='Y'){\n",
    "    print('이 환자는 독감 환자 입니다.')\n",
    "  } else {\n",
    "    print('이 환자는 독감 환자가 아닙니다.')\n",
    "  }\n",
    "}\n",
    "\n",
    "naive_fun()"
   ]
  },
  {
   "cell_type": "code",
   "execution_count": null,
   "metadata": {},
   "outputs": [],
   "source": [
    "naive_fun<-function(){\n",
    "  library(e1071)  \n",
    "  \n",
    "  flu <- read.csv(\"flu.csv\", header=T, stringsAsFactors=TRUE)\n",
    "  \n",
    "  train <- flu[1:nrow(flu),-1]  \n",
    "  model <- naiveBayes(train[,1:4], train$flue , laplace=0)\n",
    "  \n",
    "  fname <- file.choose()   \n",
    "  test <- read.csv(fname, header=T, stringsAsFactor=F )\n",
    "  \n",
    "  result <- predict( model, test, type='raw')  \n",
    "  print(paste(round(result[2]*100,digits=1),'% 입니다.'))\n",
    "}\n",
    "\n",
    "naive_fun()"
   ]
  },
  {
   "cell_type": "markdown",
   "metadata": {},
   "source": [
    "### ※ 문제237. 아래의 코드를 이용해서 naive_fun() 함수를 실행하면 아래와 같이 출력되게 하시오\n",
    "    독감 환자일 확률이 68.4% 입니다."
   ]
  },
  {
   "cell_type": "code",
   "execution_count": 15,
   "metadata": {
    "ExecuteTime": {
     "end_time": "2020-06-25T03:16:47.061373Z",
     "start_time": "2020-06-25T03:16:40.530Z"
    }
   },
   "outputs": [
    {
     "name": "stdout",
     "output_type": "stream",
     "text": [
      "오한이 있습니까? Y/N Y\n",
      "콧물이 있습니까? Y/N N\n",
      "두통이 있습니까? MILD/STRONG/NO MILD\n",
      "오한이 있습니까? Y/N N\n",
      "[1] \"독감 환자일 확률이 24.5 % 입니다.\"\n"
     ]
    }
   ],
   "source": [
    "naive_fun<-function(){\n",
    "  library(e1071)  \n",
    "  \n",
    "  flu <- read.csv(\"flu.csv\", header=T, stringsAsFactors=TRUE)\n",
    "  \n",
    "  train <- flu[1:nrow(flu),-1]  \n",
    "  model <- naiveBayes(train[,1:4], train$flue , laplace=0)\n",
    "  \n",
    "  q1 <- readline(prompt = '오한이 있습니까? Y/N ')\n",
    "  q2 <- readline(prompt = '콧물이 있습니까? Y/N ')\n",
    "  q3 <- readline(prompt = '두통이 있습니까? MILD/STRONG/NO ')\n",
    "  q4 <- readline(prompt = '오한이 있습니까? Y/N ')\n",
    "  \n",
    "  test <- data.frame(chills=q1,runny_nose=q2,headache=q3,fever=q4)\n",
    "  \n",
    "  result <- predict( model, test, type='raw')  \n",
    "  print(paste('독감 환자일 확률이',round(result[2]*100,digits=1),'% 입니다.'))\n",
    "}\n",
    "\n",
    "naive_fun()"
   ]
  },
  {
   "cell_type": "markdown",
   "metadata": {},
   "source": [
    "### ※ (점심시간 문제)"
   ]
  },
  {
   "cell_type": "code",
   "execution_count": null,
   "metadata": {},
   "outputs": [],
   "source": [
    "test2 <- data.frame(age='20대', gender='남', job='학생', marry='NO',friend='NO')\n",
    "result <- predict( model, test2)\n",
    "result "
   ]
  },
  {
   "cell_type": "code",
   "execution_count": null,
   "metadata": {},
   "outputs": [],
   "source": []
  },
  {
   "cell_type": "code",
   "execution_count": null,
   "metadata": {},
   "outputs": [],
   "source": []
  },
  {
   "cell_type": "code",
   "execution_count": null,
   "metadata": {},
   "outputs": [],
   "source": []
  },
  {
   "cell_type": "code",
   "execution_count": null,
   "metadata": {},
   "outputs": [],
   "source": []
  },
  {
   "cell_type": "code",
   "execution_count": null,
   "metadata": {},
   "outputs": [],
   "source": []
  }
 ],
 "metadata": {
  "kernelspec": {
   "display_name": "R",
   "language": "R",
   "name": "ir"
  },
  "language_info": {
   "codemirror_mode": "r",
   "file_extension": ".r",
   "mimetype": "text/x-r-source",
   "name": "R",
   "pygments_lexer": "r",
   "version": "3.6.1"
  },
  "toc": {
   "base_numbering": 1,
   "nav_menu": {},
   "number_sections": true,
   "sideBar": true,
   "skip_h1_title": false,
   "title_cell": "Table of Contents",
   "title_sidebar": "Contents",
   "toc_cell": false,
   "toc_position": {},
   "toc_section_display": true,
   "toc_window_display": false
  },
  "varInspector": {
   "cols": {
    "lenName": 16,
    "lenType": 16,
    "lenVar": 40
   },
   "kernels_config": {
    "python": {
     "delete_cmd_postfix": "",
     "delete_cmd_prefix": "del ",
     "library": "var_list.py",
     "varRefreshCmd": "print(var_dic_list())"
    },
    "r": {
     "delete_cmd_postfix": ") ",
     "delete_cmd_prefix": "rm(",
     "library": "var_list.r",
     "varRefreshCmd": "cat(var_dic_list()) "
    }
   },
   "types_to_exclude": [
    "module",
    "function",
    "builtin_function_or_method",
    "instance",
    "_Feature"
   ],
   "window_display": false
  }
 },
 "nbformat": 4,
 "nbformat_minor": 4
}
