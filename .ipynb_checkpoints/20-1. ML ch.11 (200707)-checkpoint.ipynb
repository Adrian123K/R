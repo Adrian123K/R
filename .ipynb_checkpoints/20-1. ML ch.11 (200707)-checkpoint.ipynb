{
 "cells": [
  {
   "cell_type": "markdown",
   "metadata": {},
   "source": [
    "## <b>■ 모델성능개선</b>\n",
    "### <b>※ 데이터 분석 5가지 단계</b>\n",
    "    1. 데이터 수집\n",
    "    2. 데이터 탐색(결측치, 이상치, 시각화->종속변수가 정규성 확인)\n",
    "    3. 머신러닝 모델 훈련\n",
    "    4. 모델 성능 평가 (정확도, 카파지수(일치도), 민감도, 특이도, 정밀도, 재현율, F척도, ROCC, AUC)\n",
    "                                               Y축: 민감도     공격적예측\n",
    "                                               X축: 1-특이도   보수적예측\n",
    "\n",
    "### <b>□ 모델성능개선을 위한 방법</b>\n",
    "    1. K-holdout\n",
    "    2. caret을 통한 자동튜닝\n",
    "    3. 앙상블(Ensemble)\n",
    "    4. 배깅(Bagging)\n",
    "    5. 부스팅(Boosting)\n",
    "\n",
    "### <b>■ K-Holdout</b>\n",
    "    1. train data와 test data를 나눌 때 비율은 8:2, 7:3 등으로 시행\n",
    "![k-ho](https://mblogthumb-phinf.pstatic.net/MjAyMDAxMTBfMjE4/MDAxNTc4NjE5NTA0NTc5.Ub3YttdSVVHvReojJPpxGQbugP-xK_R6oG64vxLW0A0g.sDE6aGiiaCyiIXito3qhJgysytoI2VO6NUt8zE9Uv_Eg.PNG.sjc02183/image.png?type=w800)\n",
    "<center><b>1:1 비율 시행 시 training 양이 적음 -> under fitting 발생</b><br>\n",
    "    <b>2:1 비율 시행 시 training data 양이 많으므로 훈련 data에만 최적화된 모델이 생성 -> over fitting 발생</b></center><br><br>\n",
    "    \n",
    "![validation](https://blogfiles.pstatic.net/MjAxOTExMDlfMjA3/MDAxNTczMzAzOTU2MDIy.phxU3c8U0hnkP67vbwztLyA7byhQ7ePjuKa04YJCp0Ag.M8p1TZapTG0aItcZzfKQvPwGuK6P9z0qBZDIMPCBmZMg.PNG.sjc02183/image.png?type=w1)\n",
    "    <center><b>Validation : training set의 일부를 모델의 성능 평가를 위해 희생</b></center>\n",
    "    \n",
    "#### <b>■ Validation을 사용하는 이유?</b>\n",
    "    모델의 성능 평가를 위해서 \n",
    "        훈련을 한 후 만들어진 모형이 잘 예측을 하는지 그 성능을 평가하기 위해서 사용\n",
    "        \n",
    "#### <b>■ Validation data로 모델의 성능을 평가하면 좋은점</b>\n",
    "    1. test accuracy를 가늠해 볼 수 있다\n",
    "    2. over fitting을 막을 수 있다.\n",
    "        training 정확도 ≒ Validation 정확도\n",
    "            -> Generalization\n",
    "            \n",
    "#### <b>■ train data의 양이 작을 떄는 어떻게 하는가?</b>\n",
    "    Cross Validation을 사용\n",
    "    \n",
    "### <b>■ K-fold 교차 검정 : 모든 training data를 training과 validation으로 사용</b>\n",
    "![kfold](https://miro.medium.com/max/1202/1*PdwlCactbJf8F8C7sP-3gw.png)\n",
    "<center><b> 1-fold : 첫번째 모델(Fold1)은 첫번째 폴드를 테스로 활용하고 나머지 Fold2~5까지를 훈련 세트로 사용</b><br>\n",
    "    $\\vdots$<br>\n",
    "    <b>반복 시행하면서 hyper parameter 도출</b></center>\n",
    "\n",
    "    1. kNN : k\n",
    "    2. naiveBeyes : Laplace\n",
    "    3. Decision Tree : trials\n",
    "    4. neural netword : hidden, learning rate\n",
    "    5. SVM : lambda, gamma\n",
    "    \n",
    "![bpara](https://scikit-learn.org/stable/_images/grid_search_workflow.png)\n",
    "\n",
    "    각각의 k-fold가 모델이 되고 data set에서 test data는 따로 남겨 둔 후 확인"
   ]
  },
  {
   "cell_type": "code",
   "execution_count": null,
   "metadata": {},
   "outputs": [],
   "source": []
  },
  {
   "cell_type": "code",
   "execution_count": null,
   "metadata": {},
   "outputs": [],
   "source": []
  },
  {
   "cell_type": "code",
   "execution_count": null,
   "metadata": {},
   "outputs": [],
   "source": []
  },
  {
   "cell_type": "code",
   "execution_count": null,
   "metadata": {},
   "outputs": [],
   "source": []
  },
  {
   "cell_type": "code",
   "execution_count": null,
   "metadata": {},
   "outputs": [],
   "source": []
  },
  {
   "cell_type": "code",
   "execution_count": null,
   "metadata": {},
   "outputs": [],
   "source": []
  }
 ],
 "metadata": {
  "kernelspec": {
   "display_name": "R",
   "language": "R",
   "name": "ir"
  },
  "language_info": {
   "codemirror_mode": "r",
   "file_extension": ".r",
   "mimetype": "text/x-r-source",
   "name": "R",
   "pygments_lexer": "r",
   "version": "3.6.1"
  },
  "toc": {
   "base_numbering": 1,
   "nav_menu": {},
   "number_sections": true,
   "sideBar": true,
   "skip_h1_title": false,
   "title_cell": "Table of Contents",
   "title_sidebar": "Contents",
   "toc_cell": false,
   "toc_position": {},
   "toc_section_display": true,
   "toc_window_display": false
  },
  "varInspector": {
   "cols": {
    "lenName": 16,
    "lenType": 16,
    "lenVar": 40
   },
   "kernels_config": {
    "python": {
     "delete_cmd_postfix": "",
     "delete_cmd_prefix": "del ",
     "library": "var_list.py",
     "varRefreshCmd": "print(var_dic_list())"
    },
    "r": {
     "delete_cmd_postfix": ") ",
     "delete_cmd_prefix": "rm(",
     "library": "var_list.r",
     "varRefreshCmd": "cat(var_dic_list()) "
    }
   },
   "types_to_exclude": [
    "module",
    "function",
    "builtin_function_or_method",
    "instance",
    "_Feature"
   ],
   "window_display": false
  }
 },
 "nbformat": 4,
 "nbformat_minor": 4
}
