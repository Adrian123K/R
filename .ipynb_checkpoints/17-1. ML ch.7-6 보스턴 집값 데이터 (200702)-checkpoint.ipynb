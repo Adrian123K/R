{
 "cells": [
  {
   "cell_type": "markdown",
   "metadata": {},
   "source": [
    "```\n",
    "#데이터 읽기와 구조 확인\n",
    "\n",
    "setwd(\"d:\\\\data\")\n",
    "\n",
    "boston<-read.csv(\"boston.csv\", stringsAsFactors=T)\n",
    "\n",
    "str(boston)\n",
    "\n",
    "head(boston)\n",
    "\n",
    "> setwd(\"c:\\\\data\")\n",
    "> boston<-read.csv(\"boston.csv\", stringsAsFactors=T)\n",
    "> str(boston)\n",
    "'data.frame':        506 obs. of  15 variables:\n",
    " $ CRIM    : num  0.00632 0.02731 0.02729 0.03237 0.06905 ...\n",
    " $ ZN      : num  18 0 0 0 0 0 12.5 12.5 12.5 12.5 ...\n",
    " $ INDUS   : num  2.31 7.07 7.07 2.18 2.18 2.18 7.87 7.87 7.87 7.87 ...\n",
    " $ CHAS    : int  0 0 0 0 0 0 0 0 0 0 ...\n",
    " $ NOX     : num  0.538 0.469 0.469 0.458 0.458 0.458 0.524 0.524 0.524 0.524 ...\n",
    " $ RM      : num  6.58 6.42 7.18 7 7.15 ...\n",
    " $ AGE     : num  65.2 78.9 61.1 45.8 54.2 58.7 66.6 96.1 100 85.9 ...\n",
    " $ DIS     : num  4.09 4.97 4.97 6.06 6.06 ...\n",
    " $ RAD     : int  1 2 2 3 3 3 5 5 5 5 ...\n",
    " $ TAX     : int  296 242 242 222 222 222 311 311 311 311 ...\n",
    " $ PTRATIO : num  15.3 17.8 17.8 18.7 18.7 18.7 15.2 15.2 15.2 15.2 ...\n",
    " $ B       : num  397 397 393 395 397 ...\n",
    " $ LSTAT   : num  4.98 9.14 4.03 2.94 5.33 ...\n",
    " $ MEDV    : num  24 21.6 34.7 33.4 36.2 28.7 22.9 27.1 16.5 18.9 ...\n",
    " $ CAT.MEDV: int  0 0 1 1 1 0 0 0 0 0 ...\n",
    "> head(boston)\n",
    "     CRIM ZN INDUS CHAS   NOX    RM  AGE    DIS RAD TAX PTRATIO      B LSTAT MEDV CAT.MEDV\n",
    "1 0.00632 18  2.31    0 0.538 6.575 65.2 4.0900   1 296    15.3 396.90  4.98 24.0        0\n",
    "2 0.02731  0  7.07    0 0.469 6.421 78.9 4.9671   2 242    17.8 396.90  9.14 21.6        0\n",
    "3 0.02729  0  7.07    0 0.469 7.185 61.1 4.9671   2 242    17.8 392.83  4.03 34.7        1\n",
    "4 0.03237  0  2.18    0 0.458 6.998 45.8 6.0622   3 222    18.7 394.63  2.94 33.4        1\n",
    "5 0.06905  0  2.18    0 0.458 7.147 54.2 6.0622   3 222    18.7 396.90  5.33 36.2        1\n",
    "6 0.02985  0  2.18    0 0.458 6.430 58.7 6.0622   3 222    18.7 394.12  5.21 28.7        0\n",
    "\n",
    " \n",
    "\n",
    "# 정규화 함수\n",
    "\n",
    "normalize <- function(x) { \n",
    "\n",
    "  return((x - min(x)) / (max(x) - min(x)))\n",
    "\n",
    "}\n",
    "\n",
    "> normalize <- function(x) { \n",
    "+   return((x - min(x)) / (max(x) - min(x)))\n",
    "+ }\n",
    "\n",
    " \n",
    "\n",
    "# 전체 데이터 프레임에 정규화 적용\n",
    "\n",
    "boston_norm <- as.data.frame(lapply(boston, normalize))\n",
    "\n",
    "> boston_norm <- as.data.frame(lapply(boston, normalize))\n",
    "\n",
    " \n",
    "\n",
    "# 0과1 사이에 범위 확인\n",
    "\n",
    "summary(boston_norm$MEDV)\n",
    "\n",
    "> summary(boston_norm$MEDV)\n",
    "   Min. 1st Qu.  Median    Mean 3rd Qu.    Max.\n",
    " 0.0000  0.2672  0.3600  0.3896  0.4444  1.0000\n",
    "\n",
    " \n",
    "\n",
    "# 본래 데이터의 최소값, 최대값 비교\n",
    "\n",
    "summary(boston$MEDV)\n",
    "\n",
    "> summary(boston$MEDV)\n",
    "   Min. 1st Qu.  Median    Mean 3rd Qu.    Max.\n",
    "   5.00   17.02   21.20   22.53   25.00   50.00\n",
    "\n",
    " \n",
    "\n",
    "# 히스토그램 그래프를 그려서 정규성 확인\n",
    "\n",
    "hist(boston$MEDV)\n",
    "\n",
    "> hist(boston$MEDV)\n",
    "\n",
    " \n",
    "\n",
    "Machine generated alternative text: Histogram of boston$MEDV  10  20  30  40  50  boston$MEDV \n",
    "\n",
    "# 설명: 정규분포는 평균에 가까운 중간정도의 가격이 많고,\n",
    "\n",
    "가격이 아주 작거나 아주 큰 데이터는 작은 종 모양의 분포를 띄는 경향\n",
    "\n",
    "평균에 가까운 집 값의 분포는 10,000 - 25,000$로 구성\n",
    "\n",
    " \n",
    "\n",
    "# 훈련과 테스트 데이터 생성\n",
    "\n",
    "dim(boston_norm) #dim함수는 몇 행 몇 열인지 확인하는 함수\n",
    "\n",
    "> dim(boston_norm)\n",
    "[1] 506  15\n",
    "\n",
    " \n",
    "\n",
    "# 훈련데이터와 테스트데이터를 shuffle후 7:3으로 분리\n",
    "\n",
    "set.seed(1)\n",
    "\n",
    "s_cnt<-round(0.7*(nrow(boston_norm)))\n",
    "\n",
    "s_index<-sample(1:nrow(boston_norm), s_cnt, replace=F)\n",
    "\n",
    "boston_train <- boston_norm[s_index, ]\n",
    "\n",
    "boston_test <- boston_norm[-s_index, ]\n",
    "\n",
    "head(boston_train)\n",
    "\n",
    "> set.seed(1)\n",
    "> s_cnt<-round(0.7*(nrow(boston_norm)))\n",
    "> s_index<-sample(1:nrow(boston_norm), s_cnt, replace=F)\n",
    "> boston_train <- boston_norm[s_index, ]\n",
    "> boston_test <- boston_norm[-s_index, ]\n",
    "\n",
    "> head(boston_train)\n",
    "           CRIM ZN     INDUS CHAS       NOX        RM       AGE\n",
    "505 0.001160730  0 0.4204545    0 0.3868313 0.6194673 0.8898043\n",
    "324 0.003120157  0 0.2536657    0 0.2222222 0.4113815 0.7353244\n",
    "167 0.022523016  0 0.7008798    0 0.4526749 0.8369419 0.9608651\n",
    "129 0.003586719  0 0.7855572    0 0.4917695 0.5499138 0.9876416\n",
    "418 0.291495054  0 0.6466276    0 0.6049383 0.3339720 0.8877446\n",
    "471 0.048808316  0 0.6466276    0 0.4012346 0.4993294 0.8352214\n",
    "           DIS       RAD       TAX   PTRATIO         B      LSTAT\n",
    "505 0.11451409 0.0000000 0.1641221 0.8936170 0.9913006 0.13107064\n",
    "324 0.32659204 0.1739130 0.1908397 0.7446809 0.9854506 0.27621413\n",
    "167 0.08332348 0.1739130 0.4122137 0.2234043 0.9304050 0.05435982\n",
    "129 0.06209932 0.1304348 0.4770992 0.9148936 1.0000000 0.37693157\n",
    "418 0.04709509 1.0000000 0.9141221 0.8085106 0.3203389 0.68736203\n",
    "471 0.17312152 1.0000000 0.9141221 0.8085106 1.0000000 0.40176600\n",
    "         MEDV CAT.MEDV\n",
    "505 0.3777778        0\n",
    "324 0.3000000        0\n",
    "167 1.0000000        1\n",
    "129 0.2888889        0\n",
    "418 0.1200000        0\n",
    "471 0.3311111        0\n",
    "\n",
    "## 3단계 : 데이터로 모델 훈련 ----\n",
    "\n",
    " \n",
    "\n",
    "# neuralnet 모델 훈련\n",
    "\n",
    "library(neuralnet)\n",
    "\n",
    "> library(neuralnet)\n",
    "\n",
    " \n",
    "\n",
    "# 하나의 은닉 뉴런에 대한 단순한 ANN\n",
    "\n",
    "boston_model <- neuralnet(MEDV~CRIM+ZN+INDUS+CHAS+NOX+RM+AGE+DIS+RAD+TAX+PTRATIO+B+LSTAT, data=boston_train, hidden=10)\n",
    "\n",
    "> boston_model <- neuralnet(MEDV~CRIM+ZN+INDUS+CHAS+NOX+RM+AGE+DIS+RAD+TAX+PTRATIO+B+LSTAT, data=boston_train, hidden=10)\n",
    "\n",
    " \n",
    "\n",
    "#설명: 입력층 14개(0층) -> 은닉1층 10개(1층) -> 출력층 1개(2층); 총 2층 신경망이라 칭함\n",
    "#컬럼소개\n",
    "#[01]  CRIM        자치시(town) 별 1인당 범죄율\n",
    "#[02]  ZN        25,000 평방피트를 초과하는 거주지역의 비율\n",
    "#[03]  INDUS        비소매상업지역이 점유하고 있는 토지의 비율\n",
    "#[04]  CHAS        찰스강에 대한 더미변수(강의 경계에 위치한 경우는 1, 아니면 0)\n",
    "#[05]  NOX        10ppm 당 농축 일산화질소\n",
    "#[06]  RM        주택 1가구당 평균 방의 개수\n",
    "#[07]  AGE        1940년 이전에 건축된 소유주택의 비율\n",
    "#[08]  DIS        5개의 보스턴 직업센터까지의 접근성 지수\n",
    "#[09]  RAD        방사형 도로까지의 접근성 지수\n",
    "#[10]  TAX        10,000 달러 당 재산세율\n",
    "#[11]  PTRATIO        자치시(town)별 학생/교사 비율\n",
    "#[12]  B        1000(Bk-0.63)^2, 여기서 Bk는 자치시별 흑인의 비율을 지칭\n",
    "#[13]  LSTAT        모집단의 하위계층의 비율(%)\n",
    "#[14]  MEDV        본인 소유의 주택가격(중앙값) (단위: $1,000)\n",
    "\n",
    " \n",
    "\n",
    "## 4단계 : 모델 성능 평가 ----\n",
    "\n",
    "# 모델 결과\n",
    "\n",
    "model_results <- compute(boston_model, boston_test[1:13])\n",
    "\n",
    "> model_results <- compute(boston_model, boston_test[1:13])\n",
    "\n",
    "#테스트 데이터를 신경망 모델에 넣어서 테스트데이터의 집값을 예측\n",
    "\n",
    " \n",
    "\n",
    "# 예측한 집값을 따로 변수에 할당\n",
    "\n",
    "predicted_houseprice <- model_results$net.result\n",
    "\n",
    "> predicted_houseprice <- model_results$net.result\n",
    "\n",
    " \n",
    "\n",
    "# 예측값과 실제값 간의 상관 관계 확인\n",
    "\n",
    "cor(predicted_houseprice, boston_test$MEDV)\n",
    "\n",
    "> cor(predicted_houseprice, boston_test$MEDV)\n",
    "          [,1]\n",
    "[1,] 0.7928882\n",
    "``` "
   ]
  },
  {
   "cell_type": "code",
   "execution_count": 2,
   "metadata": {
    "ExecuteTime": {
     "end_time": "2020-07-02T01:52:33.344386Z",
     "start_time": "2020-07-02T01:52:27.693Z"
    }
   },
   "outputs": [
    {
     "name": "stdout",
     "output_type": "stream",
     "text": [
      "'data.frame':\t506 obs. of  15 variables:\n",
      " $ CRIM    : num  0.00632 0.02731 0.02729 0.03237 0.06905 ...\n",
      " $ ZN      : num  18 0 0 0 0 0 12.5 12.5 12.5 12.5 ...\n",
      " $ INDUS   : num  2.31 7.07 7.07 2.18 2.18 2.18 7.87 7.87 7.87 7.87 ...\n",
      " $ CHAS    : int  0 0 0 0 0 0 0 0 0 0 ...\n",
      " $ NOX     : num  0.538 0.469 0.469 0.458 0.458 0.458 0.524 0.524 0.524 0.524 ...\n",
      " $ RM      : num  6.58 6.42 7.18 7 7.15 ...\n",
      " $ AGE     : num  65.2 78.9 61.1 45.8 54.2 58.7 66.6 96.1 100 85.9 ...\n",
      " $ DIS     : num  4.09 4.97 4.97 6.06 6.06 ...\n",
      " $ RAD     : int  1 2 2 3 3 3 5 5 5 5 ...\n",
      " $ TAX     : int  296 242 242 222 222 222 311 311 311 311 ...\n",
      " $ PTRATIO : num  15.3 17.8 17.8 18.7 18.7 18.7 15.2 15.2 15.2 15.2 ...\n",
      " $ B       : num  397 397 393 395 397 ...\n",
      " $ LSTAT   : num  4.98 9.14 4.03 2.94 5.33 ...\n",
      " $ MEDV    : num  24 21.6 34.7 33.4 36.2 28.7 22.9 27.1 16.5 18.9 ...\n",
      " $ CAT.MEDV: int  0 0 1 1 1 0 0 0 0 0 ...\n"
     ]
    },
    {
     "data": {
      "text/html": [
       "<table>\n",
       "<thead><tr><th scope=col>CRIM</th><th scope=col>ZN</th><th scope=col>INDUS</th><th scope=col>CHAS</th><th scope=col>NOX</th><th scope=col>RM</th><th scope=col>AGE</th><th scope=col>DIS</th><th scope=col>RAD</th><th scope=col>TAX</th><th scope=col>PTRATIO</th><th scope=col>B</th><th scope=col>LSTAT</th><th scope=col>MEDV</th><th scope=col>CAT.MEDV</th></tr></thead>\n",
       "<tbody>\n",
       "\t<tr><td>0.00632</td><td>18     </td><td>2.31   </td><td>0      </td><td>0.538  </td><td>6.575  </td><td>65.2   </td><td>4.0900 </td><td>1      </td><td>296    </td><td>15.3   </td><td>396.90 </td><td>4.98   </td><td>24.0   </td><td>0      </td></tr>\n",
       "\t<tr><td>0.02731</td><td> 0     </td><td>7.07   </td><td>0      </td><td>0.469  </td><td>6.421  </td><td>78.9   </td><td>4.9671 </td><td>2      </td><td>242    </td><td>17.8   </td><td>396.90 </td><td>9.14   </td><td>21.6   </td><td>0      </td></tr>\n",
       "\t<tr><td>0.02729</td><td> 0     </td><td>7.07   </td><td>0      </td><td>0.469  </td><td>7.185  </td><td>61.1   </td><td>4.9671 </td><td>2      </td><td>242    </td><td>17.8   </td><td>392.83 </td><td>4.03   </td><td>34.7   </td><td>1      </td></tr>\n",
       "\t<tr><td>0.03237</td><td> 0     </td><td>2.18   </td><td>0      </td><td>0.458  </td><td>6.998  </td><td>45.8   </td><td>6.0622 </td><td>3      </td><td>222    </td><td>18.7   </td><td>394.63 </td><td>2.94   </td><td>33.4   </td><td>1      </td></tr>\n",
       "\t<tr><td>0.06905</td><td> 0     </td><td>2.18   </td><td>0      </td><td>0.458  </td><td>7.147  </td><td>54.2   </td><td>6.0622 </td><td>3      </td><td>222    </td><td>18.7   </td><td>396.90 </td><td>5.33   </td><td>36.2   </td><td>1      </td></tr>\n",
       "\t<tr><td>0.02985</td><td> 0     </td><td>2.18   </td><td>0      </td><td>0.458  </td><td>6.430  </td><td>58.7   </td><td>6.0622 </td><td>3      </td><td>222    </td><td>18.7   </td><td>394.12 </td><td>5.21   </td><td>28.7   </td><td>0      </td></tr>\n",
       "</tbody>\n",
       "</table>\n"
      ],
      "text/latex": [
       "\\begin{tabular}{r|lllllllllllllll}\n",
       " CRIM & ZN & INDUS & CHAS & NOX & RM & AGE & DIS & RAD & TAX & PTRATIO & B & LSTAT & MEDV & CAT.MEDV\\\\\n",
       "\\hline\n",
       "\t 0.00632 & 18      & 2.31    & 0       & 0.538   & 6.575   & 65.2    & 4.0900  & 1       & 296     & 15.3    & 396.90  & 4.98    & 24.0    & 0      \\\\\n",
       "\t 0.02731 &  0      & 7.07    & 0       & 0.469   & 6.421   & 78.9    & 4.9671  & 2       & 242     & 17.8    & 396.90  & 9.14    & 21.6    & 0      \\\\\n",
       "\t 0.02729 &  0      & 7.07    & 0       & 0.469   & 7.185   & 61.1    & 4.9671  & 2       & 242     & 17.8    & 392.83  & 4.03    & 34.7    & 1      \\\\\n",
       "\t 0.03237 &  0      & 2.18    & 0       & 0.458   & 6.998   & 45.8    & 6.0622  & 3       & 222     & 18.7    & 394.63  & 2.94    & 33.4    & 1      \\\\\n",
       "\t 0.06905 &  0      & 2.18    & 0       & 0.458   & 7.147   & 54.2    & 6.0622  & 3       & 222     & 18.7    & 396.90  & 5.33    & 36.2    & 1      \\\\\n",
       "\t 0.02985 &  0      & 2.18    & 0       & 0.458   & 6.430   & 58.7    & 6.0622  & 3       & 222     & 18.7    & 394.12  & 5.21    & 28.7    & 0      \\\\\n",
       "\\end{tabular}\n"
      ],
      "text/markdown": [
       "\n",
       "| CRIM | ZN | INDUS | CHAS | NOX | RM | AGE | DIS | RAD | TAX | PTRATIO | B | LSTAT | MEDV | CAT.MEDV |\n",
       "|---|---|---|---|---|---|---|---|---|---|---|---|---|---|---|\n",
       "| 0.00632 | 18      | 2.31    | 0       | 0.538   | 6.575   | 65.2    | 4.0900  | 1       | 296     | 15.3    | 396.90  | 4.98    | 24.0    | 0       |\n",
       "| 0.02731 |  0      | 7.07    | 0       | 0.469   | 6.421   | 78.9    | 4.9671  | 2       | 242     | 17.8    | 396.90  | 9.14    | 21.6    | 0       |\n",
       "| 0.02729 |  0      | 7.07    | 0       | 0.469   | 7.185   | 61.1    | 4.9671  | 2       | 242     | 17.8    | 392.83  | 4.03    | 34.7    | 1       |\n",
       "| 0.03237 |  0      | 2.18    | 0       | 0.458   | 6.998   | 45.8    | 6.0622  | 3       | 222     | 18.7    | 394.63  | 2.94    | 33.4    | 1       |\n",
       "| 0.06905 |  0      | 2.18    | 0       | 0.458   | 7.147   | 54.2    | 6.0622  | 3       | 222     | 18.7    | 396.90  | 5.33    | 36.2    | 1       |\n",
       "| 0.02985 |  0      | 2.18    | 0       | 0.458   | 6.430   | 58.7    | 6.0622  | 3       | 222     | 18.7    | 394.12  | 5.21    | 28.7    | 0       |\n",
       "\n"
      ],
      "text/plain": [
       "  CRIM    ZN INDUS CHAS NOX   RM    AGE  DIS    RAD TAX PTRATIO B      LSTAT\n",
       "1 0.00632 18 2.31  0    0.538 6.575 65.2 4.0900 1   296 15.3    396.90 4.98 \n",
       "2 0.02731  0 7.07  0    0.469 6.421 78.9 4.9671 2   242 17.8    396.90 9.14 \n",
       "3 0.02729  0 7.07  0    0.469 7.185 61.1 4.9671 2   242 17.8    392.83 4.03 \n",
       "4 0.03237  0 2.18  0    0.458 6.998 45.8 6.0622 3   222 18.7    394.63 2.94 \n",
       "5 0.06905  0 2.18  0    0.458 7.147 54.2 6.0622 3   222 18.7    396.90 5.33 \n",
       "6 0.02985  0 2.18  0    0.458 6.430 58.7 6.0622 3   222 18.7    394.12 5.21 \n",
       "  MEDV CAT.MEDV\n",
       "1 24.0 0       \n",
       "2 21.6 0       \n",
       "3 34.7 1       \n",
       "4 33.4 1       \n",
       "5 36.2 1       \n",
       "6 28.7 0       "
      ]
     },
     "metadata": {},
     "output_type": "display_data"
    },
    {
     "data": {
      "text/plain": [
       "   Min. 1st Qu.  Median    Mean 3rd Qu.    Max. \n",
       " 0.0000  0.2672  0.3600  0.3896  0.4444  1.0000 "
      ]
     },
     "metadata": {},
     "output_type": "display_data"
    },
    {
     "data": {
      "text/plain": [
       "   Min. 1st Qu.  Median    Mean 3rd Qu.    Max. \n",
       "   5.00   17.02   21.20   22.53   25.00   50.00 "
      ]
     },
     "metadata": {},
     "output_type": "display_data"
    },
    {
     "data": {
      "text/html": [
       "<ol class=list-inline>\n",
       "\t<li>506</li>\n",
       "\t<li>15</li>\n",
       "</ol>\n"
      ],
      "text/latex": [
       "\\begin{enumerate*}\n",
       "\\item 506\n",
       "\\item 15\n",
       "\\end{enumerate*}\n"
      ],
      "text/markdown": [
       "1. 506\n",
       "2. 15\n",
       "\n",
       "\n"
      ],
      "text/plain": [
       "[1] 506  15"
      ]
     },
     "metadata": {},
     "output_type": "display_data"
    },
    {
     "data": {
      "text/html": [
       "<table>\n",
       "<thead><tr><th></th><th scope=col>CRIM</th><th scope=col>ZN</th><th scope=col>INDUS</th><th scope=col>CHAS</th><th scope=col>NOX</th><th scope=col>RM</th><th scope=col>AGE</th><th scope=col>DIS</th><th scope=col>RAD</th><th scope=col>TAX</th><th scope=col>PTRATIO</th><th scope=col>B</th><th scope=col>LSTAT</th><th scope=col>MEDV</th><th scope=col>CAT.MEDV</th></tr></thead>\n",
       "<tbody>\n",
       "\t<tr><th scope=row>505</th><td>0.001160730</td><td>0          </td><td>0.4204545  </td><td>0          </td><td>0.3868313  </td><td>0.6194673  </td><td>0.8898043  </td><td>0.11451409 </td><td>0.0000000  </td><td>0.1641221  </td><td>0.8936170  </td><td>0.9913006  </td><td>0.13107064 </td><td>0.3777778  </td><td>0          </td></tr>\n",
       "\t<tr><th scope=row>324</th><td>0.003120157</td><td>0          </td><td>0.2536657  </td><td>0          </td><td>0.2222222  </td><td>0.4113815  </td><td>0.7353244  </td><td>0.32659204 </td><td>0.1739130  </td><td>0.1908397  </td><td>0.7446809  </td><td>0.9854506  </td><td>0.27621413 </td><td>0.3000000  </td><td>0          </td></tr>\n",
       "\t<tr><th scope=row>167</th><td>0.022523016</td><td>0          </td><td>0.7008798  </td><td>0          </td><td>0.4526749  </td><td>0.8369419  </td><td>0.9608651  </td><td>0.08332348 </td><td>0.1739130  </td><td>0.4122137  </td><td>0.2234043  </td><td>0.9304050  </td><td>0.05435982 </td><td>1.0000000  </td><td>1          </td></tr>\n",
       "\t<tr><th scope=row>129</th><td>0.003586719</td><td>0          </td><td>0.7855572  </td><td>0          </td><td>0.4917695  </td><td>0.5499138  </td><td>0.9876416  </td><td>0.06209932 </td><td>0.1304348  </td><td>0.4770992  </td><td>0.9148936  </td><td>1.0000000  </td><td>0.37693157 </td><td>0.2888889  </td><td>0          </td></tr>\n",
       "\t<tr><th scope=row>418</th><td>0.291495054</td><td>0          </td><td>0.6466276  </td><td>0          </td><td>0.6049383  </td><td>0.3339720  </td><td>0.8877446  </td><td>0.04709509 </td><td>1.0000000  </td><td>0.9141221  </td><td>0.8085106  </td><td>0.3203389  </td><td>0.68736203 </td><td>0.1200000  </td><td>0          </td></tr>\n",
       "\t<tr><th scope=row>471</th><td>0.048808316</td><td>0          </td><td>0.6466276  </td><td>0          </td><td>0.4012346  </td><td>0.4993294  </td><td>0.8352214  </td><td>0.17312152 </td><td>1.0000000  </td><td>0.9141221  </td><td>0.8085106  </td><td>1.0000000  </td><td>0.40176600 </td><td>0.3311111  </td><td>0          </td></tr>\n",
       "</tbody>\n",
       "</table>\n"
      ],
      "text/latex": [
       "\\begin{tabular}{r|lllllllllllllll}\n",
       "  & CRIM & ZN & INDUS & CHAS & NOX & RM & AGE & DIS & RAD & TAX & PTRATIO & B & LSTAT & MEDV & CAT.MEDV\\\\\n",
       "\\hline\n",
       "\t505 & 0.001160730 & 0           & 0.4204545   & 0           & 0.3868313   & 0.6194673   & 0.8898043   & 0.11451409  & 0.0000000   & 0.1641221   & 0.8936170   & 0.9913006   & 0.13107064  & 0.3777778   & 0          \\\\\n",
       "\t324 & 0.003120157 & 0           & 0.2536657   & 0           & 0.2222222   & 0.4113815   & 0.7353244   & 0.32659204  & 0.1739130   & 0.1908397   & 0.7446809   & 0.9854506   & 0.27621413  & 0.3000000   & 0          \\\\\n",
       "\t167 & 0.022523016 & 0           & 0.7008798   & 0           & 0.4526749   & 0.8369419   & 0.9608651   & 0.08332348  & 0.1739130   & 0.4122137   & 0.2234043   & 0.9304050   & 0.05435982  & 1.0000000   & 1          \\\\\n",
       "\t129 & 0.003586719 & 0           & 0.7855572   & 0           & 0.4917695   & 0.5499138   & 0.9876416   & 0.06209932  & 0.1304348   & 0.4770992   & 0.9148936   & 1.0000000   & 0.37693157  & 0.2888889   & 0          \\\\\n",
       "\t418 & 0.291495054 & 0           & 0.6466276   & 0           & 0.6049383   & 0.3339720   & 0.8877446   & 0.04709509  & 1.0000000   & 0.9141221   & 0.8085106   & 0.3203389   & 0.68736203  & 0.1200000   & 0          \\\\\n",
       "\t471 & 0.048808316 & 0           & 0.6466276   & 0           & 0.4012346   & 0.4993294   & 0.8352214   & 0.17312152  & 1.0000000   & 0.9141221   & 0.8085106   & 1.0000000   & 0.40176600  & 0.3311111   & 0          \\\\\n",
       "\\end{tabular}\n"
      ],
      "text/markdown": [
       "\n",
       "| <!--/--> | CRIM | ZN | INDUS | CHAS | NOX | RM | AGE | DIS | RAD | TAX | PTRATIO | B | LSTAT | MEDV | CAT.MEDV |\n",
       "|---|---|---|---|---|---|---|---|---|---|---|---|---|---|---|---|\n",
       "| 505 | 0.001160730 | 0           | 0.4204545   | 0           | 0.3868313   | 0.6194673   | 0.8898043   | 0.11451409  | 0.0000000   | 0.1641221   | 0.8936170   | 0.9913006   | 0.13107064  | 0.3777778   | 0           |\n",
       "| 324 | 0.003120157 | 0           | 0.2536657   | 0           | 0.2222222   | 0.4113815   | 0.7353244   | 0.32659204  | 0.1739130   | 0.1908397   | 0.7446809   | 0.9854506   | 0.27621413  | 0.3000000   | 0           |\n",
       "| 167 | 0.022523016 | 0           | 0.7008798   | 0           | 0.4526749   | 0.8369419   | 0.9608651   | 0.08332348  | 0.1739130   | 0.4122137   | 0.2234043   | 0.9304050   | 0.05435982  | 1.0000000   | 1           |\n",
       "| 129 | 0.003586719 | 0           | 0.7855572   | 0           | 0.4917695   | 0.5499138   | 0.9876416   | 0.06209932  | 0.1304348   | 0.4770992   | 0.9148936   | 1.0000000   | 0.37693157  | 0.2888889   | 0           |\n",
       "| 418 | 0.291495054 | 0           | 0.6466276   | 0           | 0.6049383   | 0.3339720   | 0.8877446   | 0.04709509  | 1.0000000   | 0.9141221   | 0.8085106   | 0.3203389   | 0.68736203  | 0.1200000   | 0           |\n",
       "| 471 | 0.048808316 | 0           | 0.6466276   | 0           | 0.4012346   | 0.4993294   | 0.8352214   | 0.17312152  | 1.0000000   | 0.9141221   | 0.8085106   | 1.0000000   | 0.40176600  | 0.3311111   | 0           |\n",
       "\n"
      ],
      "text/plain": [
       "    CRIM        ZN INDUS     CHAS NOX       RM        AGE       DIS       \n",
       "505 0.001160730 0  0.4204545 0    0.3868313 0.6194673 0.8898043 0.11451409\n",
       "324 0.003120157 0  0.2536657 0    0.2222222 0.4113815 0.7353244 0.32659204\n",
       "167 0.022523016 0  0.7008798 0    0.4526749 0.8369419 0.9608651 0.08332348\n",
       "129 0.003586719 0  0.7855572 0    0.4917695 0.5499138 0.9876416 0.06209932\n",
       "418 0.291495054 0  0.6466276 0    0.6049383 0.3339720 0.8877446 0.04709509\n",
       "471 0.048808316 0  0.6466276 0    0.4012346 0.4993294 0.8352214 0.17312152\n",
       "    RAD       TAX       PTRATIO   B         LSTAT      MEDV      CAT.MEDV\n",
       "505 0.0000000 0.1641221 0.8936170 0.9913006 0.13107064 0.3777778 0       \n",
       "324 0.1739130 0.1908397 0.7446809 0.9854506 0.27621413 0.3000000 0       \n",
       "167 0.1739130 0.4122137 0.2234043 0.9304050 0.05435982 1.0000000 1       \n",
       "129 0.1304348 0.4770992 0.9148936 1.0000000 0.37693157 0.2888889 0       \n",
       "418 1.0000000 0.9141221 0.8085106 0.3203389 0.68736203 0.1200000 0       \n",
       "471 1.0000000 0.9141221 0.8085106 1.0000000 0.40176600 0.3311111 0       "
      ]
     },
     "metadata": {},
     "output_type": "display_data"
    },
    {
     "name": "stderr",
     "output_type": "stream",
     "text": [
      "Warning message:\n",
      "\"package 'neuralnet' was built under R version 3.6.3\""
     ]
    },
    {
     "data": {
      "text/html": [
       "<table>\n",
       "<tbody>\n",
       "\t<tr><td>0.7928882</td></tr>\n",
       "</tbody>\n",
       "</table>\n"
      ],
      "text/latex": [
       "\\begin{tabular}{l}\n",
       "\t 0.7928882\\\\\n",
       "\\end{tabular}\n"
      ],
      "text/markdown": [
       "\n",
       "| 0.7928882 |\n",
       "\n"
      ],
      "text/plain": [
       "     [,1]     \n",
       "[1,] 0.7928882"
      ]
     },
     "metadata": {},
     "output_type": "display_data"
    },
    {
     "data": {
      "image/png": "[encoded data removed]",
      "text/plain": [
       "Plot with title \"Histogram of boston$MEDV\""
      ]
     },
     "metadata": {},
     "output_type": "display_data"
    }
   ],
   "source": [
    "boston<-read.csv(\"boston.csv\", stringsAsFactors=T)\n",
    "str(boston)\n",
    "head(boston)\n",
    "\n",
    "normalize <- function(x) {\n",
    "  return((x - min(x)) / (max(x) - min(x)))\n",
    "}\n",
    "\n",
    "boston_norm <- as.data.frame(lapply(boston, normalize))\n",
    "summary(boston_norm$MEDV)\n",
    "summary(boston$MEDV)\n",
    "\n",
    "hist(boston$MEDV)\n",
    "\n",
    "dim(boston_norm)\n",
    "\n",
    "set.seed(1)\n",
    "s_cnt<-round(0.7*(nrow(boston_norm)))\n",
    "s_index<-sample(1:nrow(boston_norm), s_cnt, replace=F)\n",
    "\n",
    "boston_train <- boston_norm[s_index, ]\n",
    "boston_test <- boston_norm[-s_index, ]\n",
    "\n",
    "head(boston_train)\n",
    "\n",
    "library(neuralnet)\n",
    "\n",
    "boston_model <- neuralnet(MEDV~CRIM+ZN+INDUS+CHAS+NOX+RM+AGE+DIS+RAD+TAX+PTRATIO+B+LSTAT, data=boston_train, hidden=10)\n",
    "\n",
    "model_results <- compute(boston_model, boston_test[1:13])\n",
    "\n",
    "predicted_houseprice <- model_results$net.result\n",
    "cor(predicted_houseprice, boston_test$MEDV)"
   ]
  },
  {
   "cell_type": "markdown",
   "metadata": {},
   "source": [
    "### ※ 문제275. 위 모델의 성능을 올리시오(neuralnet 함수의 옵션을 구글에서 확인 후 올리시오)"
   ]
  },
  {
   "cell_type": "code",
   "execution_count": 3,
   "metadata": {
    "ExecuteTime": {
     "end_time": "2020-07-02T01:52:57.650380Z",
     "start_time": "2020-07-02T01:52:35.603Z"
    }
   },
   "outputs": [
    {
     "data": {
      "text/html": [
       "<table>\n",
       "<tbody>\n",
       "\t<tr><td>0.850152</td></tr>\n",
       "</tbody>\n",
       "</table>\n"
      ],
      "text/latex": [
       "\\begin{tabular}{l}\n",
       "\t 0.850152\\\\\n",
       "\\end{tabular}\n"
      ],
      "text/markdown": [
       "\n",
       "| 0.850152 |\n",
       "\n"
      ],
      "text/plain": [
       "     [,1]    \n",
       "[1,] 0.850152"
      ]
     },
     "metadata": {},
     "output_type": "display_data"
    }
   ],
   "source": [
    "boston_model2 <- neuralnet(MEDV~CRIM+ZN+INDUS+CHAS+NOX+RM+AGE+DIS+RAD+TAX+PTRATIO+B+LSTAT, data=boston_train, hidden=c(10, 5), rep=10)\n",
    "model_results2 <- compute(boston_model2, boston_test[1:13])\n",
    "\n",
    "predicted_houseprice2 <- model_results2$net.result\n",
    "\n",
    "cor(predicted_houseprice2, boston_test$MEDV)"
   ]
  },
  {
   "cell_type": "code",
   "execution_count": null,
   "metadata": {},
   "outputs": [],
   "source": []
  },
  {
   "cell_type": "code",
   "execution_count": null,
   "metadata": {},
   "outputs": [],
   "source": []
  },
  {
   "cell_type": "code",
   "execution_count": null,
   "metadata": {},
   "outputs": [],
   "source": []
  },
  {
   "cell_type": "code",
   "execution_count": null,
   "metadata": {},
   "outputs": [],
   "source": []
  },
  {
   "cell_type": "code",
   "execution_count": null,
   "metadata": {},
   "outputs": [],
   "source": []
  }
 ],
 "metadata": {
  "kernelspec": {
   "display_name": "R",
   "language": "R",
   "name": "ir"
  },
  "language_info": {
   "codemirror_mode": "r",
   "file_extension": ".r",
   "mimetype": "text/x-r-source",
   "name": "R",
   "pygments_lexer": "r",
   "version": "3.6.1"
  },
  "toc": {
   "base_numbering": 1,
   "nav_menu": {},
   "number_sections": true,
   "sideBar": true,
   "skip_h1_title": false,
   "title_cell": "Table of Contents",
   "title_sidebar": "Contents",
   "toc_cell": false,
   "toc_position": {},
   "toc_section_display": true,
   "toc_window_display": false
  },
  "varInspector": {
   "cols": {
    "lenName": 16,
    "lenType": 16,
    "lenVar": 40
   },
   "kernels_config": {
    "python": {
     "delete_cmd_postfix": "",
     "delete_cmd_prefix": "del ",
     "library": "var_list.py",
     "varRefreshCmd": "print(var_dic_list())"
    },
    "r": {
     "delete_cmd_postfix": ") ",
     "delete_cmd_prefix": "rm(",
     "library": "var_list.r",
     "varRefreshCmd": "cat(var_dic_list()) "
    }
   },
   "types_to_exclude": [
    "module",
    "function",
    "builtin_function_or_method",
    "instance",
    "_Feature"
   ],
   "window_display": false
  }
 },
 "nbformat": 4,
 "nbformat_minor": 4
}
