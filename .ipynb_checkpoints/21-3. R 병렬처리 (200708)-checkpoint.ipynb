{
 "cells": [
  {
   "cell_type": "markdown",
   "metadata": {},
   "source": [
    "# <b>■ 12장 기타 머신러닝</b>\n",
    "    1. 오라클 R 연동\n",
    "    2. R로 웹스크롤링(파이썬)\n",
    "    3. 네트워크 데이터 분석 시각화(연관규칙 이미 진행)\n",
    "    4. R에서의 병렬처리\n",
    "    \n",
    "## <b>■ R에서의 병렬처리</b>\n",
    "    병렬 작업이 필요한 이유\n",
    "        대용량 데이터는 병렬로 작업을 해야 빠르게 데이터를 검색할 수 있다.\n",
    "        오라클의 병렬쿼리\n",
    "```sql\n",
    "    select /*+ parallel(e, 4) */ ename, sal, job\n",
    "        from emp e\n",
    "        where job='SALESMAN';\n",
    "```\n",
    "        emp table을 scan하는데 병렬 프로세서를 4개가 동시에 emp 테이블을 나눠서 읽는다"
   ]
  },
  {
   "cell_type": "code",
   "execution_count": 1,
   "metadata": {
    "ExecuteTime": {
     "end_time": "2020-07-08T08:01:41.137511Z",
     "start_time": "2020-07-08T08:01:28.059Z"
    }
   },
   "outputs": [
    {
     "name": "stderr",
     "output_type": "stream",
     "text": [
      "Installing package into 'C:/Users/knitwill/Documents/R/win-library/3.6'\n",
      "(as 'lib' is unspecified)\n",
      "Warning message:\n",
      "\"package 'parallel' is not available (for R version 3.6.1)\"Warning message:\n",
      "\"package 'parallel' is a base package, and should not be updated\""
     ]
    }
   ],
   "source": [
    "install.packages('parallel')\n",
    "library(parallel)"
   ]
  },
  {
   "cell_type": "code",
   "execution_count": null,
   "metadata": {
    "ExecuteTime": {
     "end_time": "2020-07-08T08:01:24.706331Z",
     "start_time": "2020-07-08T08:00:37.978Z"
    }
   },
   "outputs": [],
   "source": [
    "a <- rnorm(1000000)\n",
    "a\n",
    "system.time(a <- rnorm(1000000))"
   ]
  },
  {
   "cell_type": "code",
   "execution_count": null,
   "metadata": {},
   "outputs": [],
   "source": [
    "# 리눅스에서 수행  \n",
    "#* foreach 와 doParallel 를 이용한 병렬 작업 (p543)\n",
    "#1. 병렬처리 안했을때 \n",
    "library(foreach)\n",
    "system.time(l4<- foreach(i =1:400, .combine='c')\n",
    "            %do% rnorm(250000))\n",
    "\n",
    "\n",
    "# 2. 병렬처리 했을때 \n",
    "library(doParallel)\n",
    "registerDoParallel(cores=4) # 병렬처리하는 코어 수 작성\n",
    "system.time(l4<- foreach(i =1:400, .combine='c')\n",
    "            %do% rnorm(250000))\n"
   ]
  },
  {
   "cell_type": "code",
   "execution_count": null,
   "metadata": {},
   "outputs": [],
   "source": []
  },
  {
   "cell_type": "code",
   "execution_count": null,
   "metadata": {},
   "outputs": [],
   "source": []
  },
  {
   "cell_type": "code",
   "execution_count": null,
   "metadata": {},
   "outputs": [],
   "source": []
  },
  {
   "cell_type": "code",
   "execution_count": null,
   "metadata": {},
   "outputs": [],
   "source": []
  },
  {
   "cell_type": "code",
   "execution_count": null,
   "metadata": {},
   "outputs": [],
   "source": []
  }
 ],
 "metadata": {
  "kernelspec": {
   "display_name": "R",
   "language": "R",
   "name": "ir"
  },
  "language_info": {
   "codemirror_mode": "r",
   "file_extension": ".r",
   "mimetype": "text/x-r-source",
   "name": "R",
   "pygments_lexer": "r",
   "version": "3.6.1"
  },
  "toc": {
   "base_numbering": 1,
   "nav_menu": {},
   "number_sections": true,
   "sideBar": true,
   "skip_h1_title": false,
   "title_cell": "Table of Contents",
   "title_sidebar": "Contents",
   "toc_cell": false,
   "toc_position": {},
   "toc_section_display": true,
   "toc_window_display": false
  },
  "varInspector": {
   "cols": {
    "lenName": 16,
    "lenType": 16,
    "lenVar": 40
   },
   "kernels_config": {
    "python": {
     "delete_cmd_postfix": "",
     "delete_cmd_prefix": "del ",
     "library": "var_list.py",
     "varRefreshCmd": "print(var_dic_list())"
    },
    "r": {
     "delete_cmd_postfix": ") ",
     "delete_cmd_prefix": "rm(",
     "library": "var_list.r",
     "varRefreshCmd": "cat(var_dic_list()) "
    }
   },
   "types_to_exclude": [
    "module",
    "function",
    "builtin_function_or_method",
    "instance",
    "_Feature"
   ],
   "window_display": false
  }
 },
 "nbformat": 4,
 "nbformat_minor": 4
}
