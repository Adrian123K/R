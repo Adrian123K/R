{
 "cells": [
  {
   "cell_type": "markdown",
   "metadata": {},
   "source": [
    "## ■ (의사결정트리 실습2) 은행 대출 채무를 불이행할 것 같은 고객이 누구인가 ?\n",
    "    1. 데이터 정보\n",
    "        독일의 한 신용기관에서 얻은 대출정보\n",
    "        신용 데이터셋은 1000개의 대출 예시와 대출금액과 대출 신청자의 특성을 나타내는 일련의 수치특징과 명목특징을 포함하고 있다."
   ]
  },
  {
   "cell_type": "code",
   "execution_count": 28,
   "metadata": {
    "ExecuteTime": {
     "end_time": "2020-06-25T07:09:56.201232Z",
     "start_time": "2020-06-25T07:09:56.151Z"
    }
   },
   "outputs": [
    {
     "name": "stdout",
     "output_type": "stream",
     "text": [
      "'data.frame':\t1000 obs. of  17 variables:\n",
      " $ checking_balance    : Factor w/ 4 levels \"< 0 DM\",\"> 200 DM\",..: 1 3 4 1 1 4 4 3 4 3 ...\n",
      " $ months_loan_duration: int  6 48 12 42 24 36 24 36 12 30 ...\n",
      " $ credit_history      : Factor w/ 5 levels \"critical\",\"good\",..: 1 2 1 2 4 2 2 2 2 1 ...\n",
      " $ purpose             : Factor w/ 6 levels \"business\",\"car\",..: 5 5 4 5 2 4 5 2 5 2 ...\n",
      " $ amount              : int  1169 5951 2096 7882 4870 9055 2835 6948 3059 5234 ...\n",
      " $ savings_balance     : Factor w/ 5 levels \"< 100 DM\",\"> 1000 DM\",..: 5 1 1 1 1 5 4 1 2 1 ...\n",
      " $ employment_duration : Factor w/ 5 levels \"< 1 year\",\"> 7 years\",..: 2 3 4 4 3 3 2 3 4 5 ...\n",
      " $ percent_of_income   : int  4 2 2 2 3 2 3 2 2 4 ...\n",
      " $ years_at_residence  : int  4 2 3 4 4 4 4 2 4 2 ...\n",
      " $ age                 : int  67 22 49 45 53 35 53 35 61 28 ...\n",
      " $ other_credit        : Factor w/ 3 levels \"bank\",\"none\",..: 2 2 2 2 2 2 2 2 2 2 ...\n",
      " $ housing             : Factor w/ 3 levels \"other\",\"own\",..: 2 2 2 1 1 1 2 3 2 2 ...\n",
      " $ existing_loans_count: int  2 1 1 1 2 1 1 1 1 2 ...\n",
      " $ job                 : Factor w/ 4 levels \"management\",\"skilled\",..: 2 2 4 2 2 4 2 1 4 1 ...\n",
      " $ dependents          : int  1 1 2 2 2 2 1 1 1 1 ...\n",
      " $ phone               : Factor w/ 2 levels \"no\",\"yes\": 2 1 1 1 1 2 1 2 1 1 ...\n",
      " $ default             : Factor w/ 2 levels \"no\",\"yes\": 1 2 1 1 2 1 1 1 1 2 ...\n"
     ]
    }
   ],
   "source": [
    "# 1. 데이터를 로드한다.\n",
    "\n",
    "credit <- read.csv(\"credit.csv\",head=T,stringsAsFactors = T)\n",
    "\n",
    "str(credit) "
   ]
  },
  {
   "cell_type": "code",
   "execution_count": 29,
   "metadata": {
    "ExecuteTime": {
     "end_time": "2020-06-25T07:09:57.543404Z",
     "start_time": "2020-06-25T07:09:57.509Z"
    }
   },
   "outputs": [
    {
     "data": {
      "text/plain": [
       "\n",
       " no yes \n",
       "0.7 0.3 "
      ]
     },
     "metadata": {},
     "output_type": "display_data"
    },
    {
     "data": {
      "text/plain": [
       "   Min. 1st Qu.  Median    Mean 3rd Qu.    Max. \n",
       "    250    1366    2320    3271    3972   18424 "
      ]
     },
     "metadata": {},
     "output_type": "display_data"
    }
   ],
   "source": [
    "# 2. 데이터에 각 컬럼들을 이해한다. \n",
    "#라벨 컬럼 :  default  --->  yes : 대출금 상환 안함 no  : 대출금 상환 \n",
    "\n",
    "prop.table( table(credit$default)  )\n",
    "\n",
    "#no   yes \n",
    "#0.7   0.3 \n",
    "\n",
    "#-  계좌 소개 :  \n",
    "#checking_balance --> 예금계좌\n",
    "#saving_balance   --> 적금계좌 \n",
    "\n",
    "#-  amount    :  대출 금액 250마크르 ~ 18424 마르크 ( 100 마르크가 우리나라돈 6~7만원 )\n",
    "\n",
    "summary( credit$amount)\n",
    "\n",
    "#은행의 목표 :  과거의 데이터를 분석해보니 대출금 상환 불이행자가 30%나 되어서 앞으로는 30% 이내로 떨어뜨리는게  은행의 목표\n",
    "#그에 맞는 model 을 생성해야한다."
   ]
  },
  {
   "cell_type": "code",
   "execution_count": 30,
   "metadata": {
    "ExecuteTime": {
     "end_time": "2020-06-25T07:09:58.806624Z",
     "start_time": "2020-06-25T07:09:58.632Z"
    }
   },
   "outputs": [
    {
     "name": "stdout",
     "output_type": "stream",
     "text": [
      "'data.frame':\t1000 obs. of  17 variables:\n",
      " $ checking_balance    : Factor w/ 4 levels \"< 0 DM\",\"> 200 DM\",..: 1 3 4 1 1 4 4 3 4 3 ...\n",
      " $ months_loan_duration: int  6 48 12 42 24 36 24 36 12 30 ...\n",
      " $ credit_history      : Factor w/ 5 levels \"critical\",\"good\",..: 1 2 1 2 4 2 2 2 2 1 ...\n",
      " $ purpose             : Factor w/ 6 levels \"business\",\"car\",..: 5 5 4 5 2 4 5 2 5 2 ...\n",
      " $ amount              : int  1169 5951 2096 7882 4870 9055 2835 6948 3059 5234 ...\n",
      " $ savings_balance     : Factor w/ 5 levels \"< 100 DM\",\"> 1000 DM\",..: 5 1 1 1 1 5 4 1 2 1 ...\n",
      " $ employment_duration : Factor w/ 5 levels \"< 1 year\",\"> 7 years\",..: 2 3 4 4 3 3 2 3 4 5 ...\n",
      " $ percent_of_income   : int  4 2 2 2 3 2 3 2 2 4 ...\n",
      " $ years_at_residence  : int  4 2 3 4 4 4 4 2 4 2 ...\n",
      " $ age                 : int  67 22 49 45 53 35 53 35 61 28 ...\n",
      " $ other_credit        : Factor w/ 3 levels \"bank\",\"none\",..: 2 2 2 2 2 2 2 2 2 2 ...\n",
      " $ housing             : Factor w/ 3 levels \"other\",\"own\",..: 2 2 2 1 1 1 2 3 2 2 ...\n",
      " $ existing_loans_count: int  2 1 1 1 2 1 1 1 1 2 ...\n",
      " $ job                 : Factor w/ 4 levels \"management\",\"skilled\",..: 2 2 4 2 2 4 2 1 4 1 ...\n",
      " $ dependents          : int  1 1 2 2 2 2 1 1 1 1 ...\n",
      " $ phone               : Factor w/ 2 levels \"no\",\"yes\": 2 1 1 1 1 2 1 2 1 1 ...\n",
      " $ default             : Factor w/ 2 levels \"no\",\"yes\": 1 2 1 1 2 1 1 1 1 2 ...\n"
     ]
    }
   ],
   "source": [
    "# 3. 데이터가 명목형 데이터인지 확인해본다.\n",
    "\n",
    "str(credit) # 수치+명목형 데이터"
   ]
  },
  {
   "cell_type": "code",
   "execution_count": 31,
   "metadata": {
    "ExecuteTime": {
     "end_time": "2020-06-25T07:10:01.766927Z",
     "start_time": "2020-06-25T07:10:01.739Z"
    }
   },
   "outputs": [],
   "source": [
    "# 4. 데이터를 shuffle 시킨다.\n",
    "\n",
    "set.seed(123)\n",
    "\n",
    "credit_shuffle <-  credit[ sample( nrow(credit) ),  ]"
   ]
  },
  {
   "cell_type": "code",
   "execution_count": 32,
   "metadata": {
    "ExecuteTime": {
     "end_time": "2020-06-25T07:10:03.096107Z",
     "start_time": "2020-06-25T07:10:02.870Z"
    }
   },
   "outputs": [],
   "source": [
    "# 5. 데이터를 9 대 1로 나눈다.\n",
    "\n",
    "train_num <- round( 0.9 * nrow(credit_shuffle), 0) \n",
    "\n",
    "credit_train <- credit_shuffle[1:train_num ,  ]\n",
    "\n",
    "credit_test  <- credit_shuffle[(train_num+1) : nrow(credit_shuffle),  ]"
   ]
  },
  {
   "cell_type": "code",
   "execution_count": 33,
   "metadata": {
    "ExecuteTime": {
     "end_time": "2020-06-25T07:10:05.666948Z",
     "start_time": "2020-06-25T07:10:05.541Z"
    }
   },
   "outputs": [],
   "source": [
    "# 6. C5.0 패키지와 훈련 데이터를 이용해서 모델을 생성한다.\n",
    "\n",
    "library(C50)\n",
    "\n",
    "credit_model <- C5.0( credit_train[ ,-17] , credit_train[  , 17] )"
   ]
  },
  {
   "cell_type": "code",
   "execution_count": 34,
   "metadata": {
    "ExecuteTime": {
     "end_time": "2020-06-25T07:10:08.658853Z",
     "start_time": "2020-06-25T07:10:08.623Z"
    }
   },
   "outputs": [],
   "source": [
    "# 7. 위에서 만든 모델을 이용해서 테스트 데이터의 라벨을 예측한다.\n",
    "\n",
    "credit_result <-  predict( credit_model, credit_test[  , -17] )"
   ]
  },
  {
   "cell_type": "code",
   "execution_count": 35,
   "metadata": {
    "ExecuteTime": {
     "end_time": "2020-06-25T07:10:10.573864Z",
     "start_time": "2020-06-25T07:10:10.522Z"
    }
   },
   "outputs": [
    {
     "name": "stdout",
     "output_type": "stream",
     "text": [
      "\n",
      " \n",
      "   Cell Contents\n",
      "|-------------------------|\n",
      "|                       N |\n",
      "| Chi-square contribution |\n",
      "|           N / Row Total |\n",
      "|           N / Col Total |\n",
      "|         N / Table Total |\n",
      "|-------------------------|\n",
      "\n",
      " \n",
      "Total Observations in Table:  100 \n",
      "\n",
      " \n",
      "                  | credit_result \n",
      "credit_test[, 17] |        no |       yes | Row Total | \n",
      "------------------|-----------|-----------|-----------|\n",
      "               no |        55 |        10 |        65 | \n",
      "                  |     0.801 |     2.404 |           | \n",
      "                  |     0.846 |     0.154 |     0.650 | \n",
      "                  |     0.733 |     0.400 |           | \n",
      "                  |     0.550 |     0.100 |           | \n",
      "------------------|-----------|-----------|-----------|\n",
      "              yes |        20 |        15 |        35 | \n",
      "                  |     1.488 |     4.464 |           | \n",
      "                  |     0.571 |     0.429 |     0.350 | \n",
      "                  |     0.267 |     0.600 |           | \n",
      "                  |     0.200 |     0.150 |           | \n",
      "------------------|-----------|-----------|-----------|\n",
      "     Column Total |        75 |        25 |       100 | \n",
      "                  |     0.750 |     0.250 |           | \n",
      "------------------|-----------|-----------|-----------|\n",
      "\n",
      " \n",
      "\n",
      " \n",
      "   Cell Contents\n",
      "|-------------------------|\n",
      "|                       N |\n",
      "| Chi-square contribution |\n",
      "|           N / Row Total |\n",
      "|           N / Col Total |\n",
      "|         N / Table Total |\n",
      "|-------------------------|\n",
      "\n",
      " \n",
      "Total Observations in Table:  100 \n",
      "\n",
      " \n",
      "                  | credit_result \n",
      "credit_test[, 17] |        no |       yes | Row Total | \n",
      "------------------|-----------|-----------|-----------|\n",
      "               no |        55 |        10 |        65 | \n",
      "                  |     0.801 |     2.404 |           | \n",
      "                  |     0.846 |     0.154 |     0.650 | \n",
      "                  |     0.733 |     0.400 |           | \n",
      "                  |     0.550 |     0.100 |           | \n",
      "------------------|-----------|-----------|-----------|\n",
      "              yes |        20 |        15 |        35 | \n",
      "                  |     1.488 |     4.464 |           | \n",
      "                  |     0.571 |     0.429 |     0.350 | \n",
      "                  |     0.267 |     0.600 |           | \n",
      "                  |     0.200 |     0.150 |           | \n",
      "------------------|-----------|-----------|-----------|\n",
      "     Column Total |        75 |        25 |       100 | \n",
      "                  |     0.750 |     0.250 |           | \n",
      "------------------|-----------|-----------|-----------|\n",
      "\n",
      " \n"
     ]
    },
    {
     "data": {
      "text/plain": [
       "$t\n",
       "     y\n",
       "x     no yes\n",
       "  no  55  10\n",
       "  yes 20  15\n",
       "\n",
       "$prop.row\n",
       "     y\n",
       "x            no       yes\n",
       "  no  0.8461538 0.1538462\n",
       "  yes 0.5714286 0.4285714\n",
       "\n",
       "$prop.col\n",
       "     y\n",
       "x            no       yes\n",
       "  no  0.7333333 0.4000000\n",
       "  yes 0.2666667 0.6000000\n",
       "\n",
       "$prop.tbl\n",
       "     y\n",
       "x       no  yes\n",
       "  no  0.55 0.10\n",
       "  yes 0.20 0.15\n"
      ]
     },
     "metadata": {},
     "output_type": "display_data"
    }
   ],
   "source": [
    "# 8. 이원 교차표로 결과를 확인한다.\n",
    "\n",
    "library(gmodels)\n",
    "\n",
    "CrossTable(  credit_test[   , 17], credit_result )\n",
    "#                ↑                     ↑\n",
    "#              실제                   예측\n",
    "rs <- CrossTable(  credit_test[   , 17], credit_result )\n",
    "rs"
   ]
  },
  {
   "cell_type": "markdown",
   "metadata": {},
   "source": [
    "### ※문제241. 부스팅 기법을 이용해서 위의 의사결정트리 모델의 정확도를 올리시오 !"
   ]
  },
  {
   "cell_type": "code",
   "execution_count": 36,
   "metadata": {
    "ExecuteTime": {
     "end_time": "2020-06-25T07:10:18.961638Z",
     "start_time": "2020-06-25T07:10:18.778Z"
    }
   },
   "outputs": [
    {
     "name": "stdout",
     "output_type": "stream",
     "text": [
      "\n",
      " \n",
      "   Cell Contents\n",
      "|-------------------------|\n",
      "|                       N |\n",
      "| Chi-square contribution |\n",
      "|           N / Row Total |\n",
      "|           N / Col Total |\n",
      "|         N / Table Total |\n",
      "|-------------------------|\n",
      "\n",
      " \n",
      "Total Observations in Table:  100 \n",
      "\n",
      " \n",
      "                  | credit_result \n",
      "credit_test[, 17] |        no |       yes | Row Total | \n",
      "------------------|-----------|-----------|-----------|\n",
      "               no |        52 |        13 |        65 | \n",
      "                  |     1.140 |     2.537 |           | \n",
      "                  |     0.800 |     0.200 |     0.650 | \n",
      "                  |     0.754 |     0.419 |           | \n",
      "                  |     0.520 |     0.130 |           | \n",
      "------------------|-----------|-----------|-----------|\n",
      "              yes |        17 |        18 |        35 | \n",
      "                  |     2.117 |     4.712 |           | \n",
      "                  |     0.486 |     0.514 |     0.350 | \n",
      "                  |     0.246 |     0.581 |           | \n",
      "                  |     0.170 |     0.180 |           | \n",
      "------------------|-----------|-----------|-----------|\n",
      "     Column Total |        69 |        31 |       100 | \n",
      "                  |     0.690 |     0.310 |           | \n",
      "------------------|-----------|-----------|-----------|\n",
      "\n",
      " \n",
      "\n",
      " \n",
      "   Cell Contents\n",
      "|-------------------------|\n",
      "|                       N |\n",
      "| Chi-square contribution |\n",
      "|           N / Row Total |\n",
      "|           N / Col Total |\n",
      "|         N / Table Total |\n",
      "|-------------------------|\n",
      "\n",
      " \n",
      "Total Observations in Table:  100 \n",
      "\n",
      " \n",
      "                  | credit_result \n",
      "credit_test[, 17] |        no |       yes | Row Total | \n",
      "------------------|-----------|-----------|-----------|\n",
      "               no |        52 |        13 |        65 | \n",
      "                  |     1.140 |     2.537 |           | \n",
      "                  |     0.800 |     0.200 |     0.650 | \n",
      "                  |     0.754 |     0.419 |           | \n",
      "                  |     0.520 |     0.130 |           | \n",
      "------------------|-----------|-----------|-----------|\n",
      "              yes |        17 |        18 |        35 | \n",
      "                  |     2.117 |     4.712 |           | \n",
      "                  |     0.486 |     0.514 |     0.350 | \n",
      "                  |     0.246 |     0.581 |           | \n",
      "                  |     0.170 |     0.180 |           | \n",
      "------------------|-----------|-----------|-----------|\n",
      "     Column Total |        69 |        31 |       100 | \n",
      "                  |     0.690 |     0.310 |           | \n",
      "------------------|-----------|-----------|-----------|\n",
      "\n",
      " \n"
     ]
    },
    {
     "data": {
      "text/plain": [
       "$t\n",
       "     y\n",
       "x     no yes\n",
       "  no  52  13\n",
       "  yes 17  18\n",
       "\n",
       "$prop.row\n",
       "     y\n",
       "x            no       yes\n",
       "  no  0.8000000 0.2000000\n",
       "  yes 0.4857143 0.5142857\n",
       "\n",
       "$prop.col\n",
       "     y\n",
       "x            no       yes\n",
       "  no  0.7536232 0.4193548\n",
       "  yes 0.2463768 0.5806452\n",
       "\n",
       "$prop.tbl\n",
       "     y\n",
       "x       no  yes\n",
       "  no  0.52 0.13\n",
       "  yes 0.17 0.18\n"
      ]
     },
     "metadata": {},
     "output_type": "display_data"
    }
   ],
   "source": [
    "credit_model <- C5.0( credit_train[ ,-17] , credit_train[  , 17] , trials=10)\n",
    "credit_result <-  predict( credit_model, credit_test[  , -17] )\n",
    "CrossTable(  credit_test[   , 17], credit_result )\n",
    "rs2 <- CrossTable(  credit_test[   , 17], credit_result )\n",
    "rs2"
   ]
  },
  {
   "cell_type": "markdown",
   "metadata": {},
   "source": [
    "### ■ seed값과 trials 개수\n",
    "    1. trials는 최대 0-100개\n",
    "    2. seed값은 정수형 범위 안에서 가능"
   ]
  },
  {
   "cell_type": "markdown",
   "metadata": {},
   "source": [
    "### ■ 독일 은행 데이터로 의사결정트리 시각화 하는 방법\n",
    "    시각화 + caret 패키지를 이용하여 데이터 분할을 효율적으로 해서 다시 정확도 확인"
   ]
  },
  {
   "cell_type": "markdown",
   "metadata": {},
   "source": [
    "### ※ 문제242. (오늘의 마지막문제) 독일 은행 데이터의 의사결정트리를 시각화 하시오"
   ]
  },
  {
   "cell_type": "code",
   "execution_count": null,
   "metadata": {},
   "outputs": [],
   "source": [
    "install.packages('caret')\n",
    "install.packages('rpart')\n",
    "install.packages('rpart.plot')\n",
    "\n",
    "# 의사결정트리 알고리즘을 이용하여 은행 대출 채무 이행/불이행 여부 예측\n",
    "\n",
    "credit = read.csv('credit.csv',header=T,stringsAsFactors = T)\n",
    "\n",
    "# 데이터 형태 확인\n",
    "\n",
    "str(credit) # 수치형, 명목형 섞여있음\n",
    "\n",
    "\n",
    "# 데이터 분류 (caret 사용)\n",
    "\n",
    "library(caret)\n",
    "\n",
    "set.seed(5)\n",
    "intrain = createDataPartition(credit$default,p=0.9,list=F)\n",
    "\n",
    "# train(90%) / test(10%)\n",
    "\n",
    "credit_train = credit[intrain,]\n",
    "\n",
    "credit_test = credit[-intrain,]\n",
    "\n",
    "\n",
    "# 의사결정트리 모델 생성\n",
    "\n",
    "library(C50)\n",
    "\n",
    "credit_model = C5.0(default~.,data=credit_train,trials=24) # 24 : 0.87\n",
    "credit_result = predict(credit_model,credit_test[,-17])\n",
    "\n",
    "# 이원 교차표로 결과 확인\n",
    "\n",
    "library(gmodels)\n",
    "\n",
    "x = CrossTable(credit_test[,17],credit_result)\n",
    "\n",
    "library(rpart)\n",
    "library(rpart.plot)\n",
    "\n",
    "rpartmod = rpart(default~., data=credit_train, method='class')\n",
    "rpart.plot(rpartmod)\n",
    "\n",
    "x$prop.tbl[1]+x$prop.tbl[4] # 0.87\n"
   ]
  },
  {
   "cell_type": "code",
   "execution_count": null,
   "metadata": {},
   "outputs": [],
   "source": []
  },
  {
   "cell_type": "code",
   "execution_count": null,
   "metadata": {},
   "outputs": [],
   "source": []
  }
 ],
 "metadata": {
  "kernelspec": {
   "display_name": "R",
   "language": "R",
   "name": "ir"
  },
  "language_info": {
   "codemirror_mode": "r",
   "file_extension": ".r",
   "mimetype": "text/x-r-source",
   "name": "R",
   "pygments_lexer": "r",
   "version": "3.6.1"
  },
  "toc": {
   "base_numbering": 1,
   "nav_menu": {},
   "number_sections": true,
   "sideBar": true,
   "skip_h1_title": false,
   "title_cell": "Table of Contents",
   "title_sidebar": "Contents",
   "toc_cell": false,
   "toc_position": {},
   "toc_section_display": true,
   "toc_window_display": false
  },
  "varInspector": {
   "cols": {
    "lenName": 16,
    "lenType": 16,
    "lenVar": 40
   },
   "kernels_config": {
    "python": {
     "delete_cmd_postfix": "",
     "delete_cmd_prefix": "del ",
     "library": "var_list.py",
     "varRefreshCmd": "print(var_dic_list())"
    },
    "r": {
     "delete_cmd_postfix": ") ",
     "delete_cmd_prefix": "rm(",
     "library": "var_list.r",
     "varRefreshCmd": "cat(var_dic_list()) "
    }
   },
   "types_to_exclude": [
    "module",
    "function",
    "builtin_function_or_method",
    "instance",
    "_Feature"
   ],
   "window_display": false
  }
 },
 "nbformat": 4,
 "nbformat_minor": 4
}
