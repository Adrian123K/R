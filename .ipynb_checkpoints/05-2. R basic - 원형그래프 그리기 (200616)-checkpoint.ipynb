{
 "cells": [
  {
   "cell_type": "markdown",
   "metadata": {},
   "source": [
    "## ■ R에서 원형 그래프 그리기"
   ]
  },
  {
   "cell_type": "markdown",
   "metadata": {},
   "source": [
    "### ※ 문제118. 사원 테이블의 월급을 원형 그래프로 그리시오 ! "
   ]
  },
  {
   "cell_type": "code",
   "execution_count": null,
   "metadata": {
    "ExecuteTime": {
     "end_time": "2020-06-16T05:10:32.244744Z",
     "start_time": "2020-06-16T05:10:32.159Z"
    },
    "scrolled": true
   },
   "outputs": [],
   "source": [
    "pie(emp$sal)"
   ]
  },
  {
   "cell_type": "markdown",
   "metadata": {},
   "source": [
    "### ※ 문제119. 위의 그래프를 다시 출력하는데 누구의 월급인지 명시되게 하시오"
   ]
  },
  {
   "cell_type": "code",
   "execution_count": null,
   "metadata": {
    "ExecuteTime": {
     "end_time": "2020-06-16T05:11:33.550250Z",
     "start_time": "2020-06-16T05:11:33.469Z"
    }
   },
   "outputs": [],
   "source": [
    "pie(emp$sal, main='Salary Pie Chart', labels=emp$ename, col=rainbow(15),radius = 0.7,)"
   ]
  },
  {
   "cell_type": "markdown",
   "metadata": {},
   "source": [
    "#### ※ 단순히 크기를 비교할 때 : 막대그래프\n",
    "#### ※ 비율을 표시하고 싶을 떄 : 원형그래프"
   ]
  },
  {
   "cell_type": "markdown",
   "metadata": {},
   "source": [
    "### ※ 문제120. 위의 그래프에 월급에 비율을 붙여서 출력하시오"
   ]
  },
  {
   "cell_type": "code",
   "execution_count": null,
   "metadata": {
    "ExecuteTime": {
     "end_time": "2020-06-16T05:15:20.686004Z",
     "start_time": "2020-06-16T05:15:20.656Z"
    }
   },
   "outputs": [],
   "source": [
    "sal_labels<-round(emp$sal/sum(emp$sal)*100,1)\n",
    "sal_labels2<-paste(emp$ename,sal_labels,'%')"
   ]
  },
  {
   "cell_type": "code",
   "execution_count": null,
   "metadata": {
    "ExecuteTime": {
     "end_time": "2020-06-16T05:16:33.210372Z",
     "start_time": "2020-06-16T05:16:33.112Z"
    }
   },
   "outputs": [],
   "source": [
    "pie(emp$sal, main='Salary Pie Chart', col=rainbow(15),radius = 0.7,labels=sal_labels2,cex=0.9)"
   ]
  },
  {
   "cell_type": "markdown",
   "metadata": {},
   "source": [
    "### ※ 문제121. 2014년도 업종별 창업 비율을 원형 그래프로 그리시오"
   ]
  },
  {
   "cell_type": "code",
   "execution_count": null,
   "metadata": {
    "ExecuteTime": {
     "end_time": "2020-06-16T05:31:16.525104Z",
     "start_time": "2020-06-16T05:31:16.424Z"
    }
   },
   "outputs": [],
   "source": [
    "create_cnt=read.csv('창업건수.csv',head=T)\n",
    "x=create_cnt[create_cnt$년도=='2014',][-1]\n",
    "lab=colnames(x)\n",
    "x2=t(x)\n",
    "pct=round(x2/sum(x2)*100,1)\n",
    "lab2=paste(lab,pct,'%')\n",
    "pie(x2,main='2014년 창업 비율',labels=lab2,col=rainbow(10))"
   ]
  },
  {
   "cell_type": "markdown",
   "metadata": {},
   "source": [
    "#### ※ pie char를 그릴려면 숫자가 제공되어져야 한다."
   ]
  },
  {
   "cell_type": "markdown",
   "metadata": {},
   "source": [
    "### ※ 문제122. 2013년도 업종별 창업 비율을 원형 그래프로 그리시오 !"
   ]
  },
  {
   "cell_type": "code",
   "execution_count": null,
   "metadata": {
    "ExecuteTime": {
     "end_time": "2020-06-16T05:53:09.570471Z",
     "start_time": "2020-06-16T05:53:09.433Z"
    }
   },
   "outputs": [],
   "source": [
    "x=create_cnt[create_cnt$년도=='2013',][-1]\n",
    "lab=colnames(x)\n",
    "x2=t(x)\n",
    "pct=round(x2/sum(x2)*100,1)\n",
    "lab2=paste(lab,pct,'%')\n",
    "pie(x2,main='2013년 창업 비율',labels=lab2,col=rainbow(7), radius=0.7,cex=1.05)"
   ]
  },
  {
   "cell_type": "markdown",
   "metadata": {},
   "source": [
    "### ※ 문제123. 위의 원형그래프를 편하게 볼 수 있도록 shiny로 자동화 시키시오."
   ]
  },
  {
   "cell_type": "code",
   "execution_count": null,
   "metadata": {},
   "outputs": [],
   "source": [
    "library(shiny)\n",
    "library(datasets)\n",
    "create_cnt <- read.csv(\"창업건수.csv\", header=T)\n",
    "drop_cnt <- read.csv(\"폐업건수.csv\", header=T) \n",
    "\n",
    "# Define UI ----\n",
    "ui <- fluidPage(    \n",
    "  # Give the page a title\n",
    "  titlePanel(\"연도별 업종별 창/폐업현황\"),\n",
    "  # Generate a row with a sidebar\n",
    "  sidebarLayout(      \n",
    "    # Define the sidebar with one input\n",
    "    sidebarPanel(\n",
    "      selectInput(\"region\", \"업종:\", \n",
    "                  choices=colnames(create_cnt)[-1]),\n",
    "      hr(),\n",
    "      helpText(\"업종별 창업과 폐업 현황 보고서\")\n",
    "    ),\n",
    "    # Create a spot for the barplot\n",
    "    mainPanel(\n",
    "      plotOutput(\"typePlot\")  \n",
    "    )\n",
    "  )\n",
    ")\n",
    "\n",
    "# Define server logic ----\n",
    "server <-function(input, output) {\n",
    "  # Fill in the spot we created for a plot\n",
    "  output$typePlot <- renderPlot({\n",
    "    # Render a barplot\n",
    " pie( rbind( create_cnt[,input$region], \n",
    "                 drop_cnt[,input$region] ),\n",
    "            main=input$region,\n",
    "            col = rainbow(7),\n",
    "            beside=T, \n",
    "            density=50,\n",
    "            names.arg= create_cnt$년도,    \n",
    "            )\n",
    "  })\n",
    "}\n",
    "\n",
    "# Run the app ----\n",
    "shinyApp(ui = ui, server = server)"
   ]
  },
  {
   "cell_type": "markdown",
   "metadata": {},
   "source": [
    "### ※ 문제124. 폐업 비율을 편하게 볼 수 있도록 shiny로 자동화 시키시오."
   ]
  },
  {
   "cell_type": "code",
   "execution_count": null,
   "metadata": {},
   "outputs": [],
   "source": [
    "library(shiny)\n",
    "library(datasets)\n",
    "\n",
    "create_cnt <- read.csv(\"창업건수.csv\", header=T)\n",
    "drop_cnt <- read.csv(\"폐업건수.csv\", header=T) \n",
    "# Define UI ----\n",
    "ui <- fluidPage(    \n",
    "  # Give the page a title\n",
    "  titlePanel(\"년도별 업종별 창업현황\"),\n",
    "  # Generate a row with a sidebar\n",
    "  sidebarLayout(      \n",
    "    # Define the sidebar with one input\n",
    "    sidebarPanel(\n",
    "      selectInput(\"region\", \"년도:\", \n",
    "                  choices=create_cnt$년도 ) ,\n",
    "      helpText(\"년도별 창업 현황 보고서\")\n",
    "    ),\n",
    "    # Create a spot for the barplot\n",
    "    mainPanel(\n",
    "      plotOutput(\"typePlot\")  \n",
    "    )\n",
    "  )\n",
    ")\n",
    "\n",
    "# Define server logic ----\n",
    "server <-function(input, output) {\n",
    "  # Fill in the spot we created for a plot\n",
    "  output$typePlot <- renderPlot({\n",
    "    x2 <-  create_cnt[ create_cnt$년도==input$region, -1  ]\n",
    "    cnt_labels <- round( x2/sum(x2) * 100, 1) \n",
    "    cnt_labels2 <-  paste( colnames(cnt_labels) ,cnt_labels ,'%') \n",
    "    pie(  t(x2)  , col=rainbow(7), labels=cnt_labels2) \n",
    "  })\n",
    "}\n",
    "\n",
    "# Run the app ----\n",
    "shinyApp(ui = ui, server = server)"
   ]
  },
  {
   "cell_type": "markdown",
   "metadata": {},
   "source": [
    "### ※ 문제125. ggplot2 패키지를 이용해서 샤이니의 원형그래프를 그릴 수 있도록 코드를 변경하시오"
   ]
  },
  {
   "cell_type": "code",
   "execution_count": null,
   "metadata": {
    "ExecuteTime": {
     "end_time": "2020-06-16T06:07:15.859467Z",
     "start_time": "2020-06-16T06:07:14.175Z"
    }
   },
   "outputs": [],
   "source": [
    "library(ggplot2)"
   ]
  },
  {
   "cell_type": "code",
   "execution_count": null,
   "metadata": {
    "ExecuteTime": {
     "end_time": "2020-06-16T06:10:38.962927Z",
     "start_time": "2020-06-16T06:10:38.923Z"
    }
   },
   "outputs": [],
   "source": [
    "# ggplot2 패키지 이용 코드\n",
    "a=create_cnt[create_cnt$년도==input$region,-1]\n",
    "a=data.table(colnames(a),t(a))\n",
    "colnames(a)=c('가게','건수')\n",
    "per=round(a$건수/sum(a$건수)*100,1)\n",
    "ggplot(a, aes(x = \"\", y = 건수, fill=가게))+\n",
    "       geom_bar(width = 1, stat = \"identity\",color='white')+\n",
    "       coord_polar(\"y\")+ \n",
    "       geom_text(aes(label = paste0(per,\"%\")),\n",
    "       position = position_stack(vjust = 0.5))"
   ]
  },
  {
   "cell_type": "code",
   "execution_count": null,
   "metadata": {},
   "outputs": [],
   "source": [
    "library(shiny)\n",
    "library(datasets)\n",
    "\n",
    "create_cnt <- read.csv(\"창업건수.csv\", header=T)\n",
    "drop_cnt <- read.csv(\"폐업건수.csv\", header=T) \n",
    "# Define UI ----\n",
    "ui <- fluidPage(    \n",
    "  # Give the page a title\n",
    "  titlePanel(\"년도별 업종별 창업현황\"),\n",
    "  # Generate a row with a sidebar\n",
    "  sidebarLayout(      \n",
    "    # Define the sidebar with one input\n",
    "    sidebarPanel(\n",
    "      selectInput(\"region\", \"년도:\", \n",
    "                  choices=create_cnt$년도 ) ,\n",
    "      helpText(\"년도별 창업 현황 보고서\")\n",
    "    ),\n",
    "    # Create a spot for the barplot\n",
    "    mainPanel(\n",
    "      plotOutput(\"typePlot\")  \n",
    "    )\n",
    "  )\n",
    ")\n",
    "\n",
    "# Define server logic ----\n",
    "server <-function(input, output) {\n",
    "  # Fill in the spot we created for a plot\n",
    "  output$typePlot <- renderPlot({\n",
    "    a=create_cnt[create_cnt$년도==input$region,-1]\n",
    "    a=data.table(colnames(a),t(a))\n",
    "    colnames(a)=c('가게','건수')\n",
    "    per=round(a$건수/sum(a$건수)*100,1)\n",
    "    ggplot(a, aes(x = \"\", y = 건수, fill=가게))+\n",
    "       geom_bar(width = 1, stat = \"identity\",color='white')+\n",
    "       coord_polar(\"y\")+ \n",
    "       geom_text(aes(label = paste0(per,\"%\")),\n",
    "       position = position_stack(vjust = 0.5))\n",
    "  })\n",
    "}\n",
    "\n",
    "# Run the app ----\n",
    "shinyApp(ui = ui, server = server)"
   ]
  },
  {
   "cell_type": "code",
   "execution_count": null,
   "metadata": {},
   "outputs": [],
   "source": []
  },
  {
   "cell_type": "code",
   "execution_count": null,
   "metadata": {},
   "outputs": [],
   "source": []
  },
  {
   "cell_type": "code",
   "execution_count": null,
   "metadata": {},
   "outputs": [],
   "source": []
  },
  {
   "cell_type": "code",
   "execution_count": null,
   "metadata": {},
   "outputs": [],
   "source": []
  }
 ],
 "metadata": {
  "kernelspec": {
   "display_name": "R",
   "language": "R",
   "name": "ir"
  },
  "language_info": {
   "codemirror_mode": "r",
   "file_extension": ".r",
   "mimetype": "text/x-r-source",
   "name": "R",
   "pygments_lexer": "r",
   "version": "3.6.1"
  },
  "toc": {
   "base_numbering": 1,
   "nav_menu": {},
   "number_sections": true,
   "sideBar": true,
   "skip_h1_title": false,
   "title_cell": "Table of Contents",
   "title_sidebar": "Contents",
   "toc_cell": false,
   "toc_position": {},
   "toc_section_display": true,
   "toc_window_display": false
  },
  "varInspector": {
   "cols": {
    "lenName": 16,
    "lenType": 16,
    "lenVar": 40
   },
   "kernels_config": {
    "python": {
     "delete_cmd_postfix": "",
     "delete_cmd_prefix": "del ",
     "library": "var_list.py",
     "varRefreshCmd": "print(var_dic_list())"
    },
    "r": {
     "delete_cmd_postfix": ") ",
     "delete_cmd_prefix": "rm(",
     "library": "var_list.r",
     "varRefreshCmd": "cat(var_dic_list()) "
    }
   },
   "types_to_exclude": [
    "module",
    "function",
    "builtin_function_or_method",
    "instance",
    "_Feature"
   ],
   "window_display": false
  }
 },
 "nbformat": 4,
 "nbformat_minor": 4
}
