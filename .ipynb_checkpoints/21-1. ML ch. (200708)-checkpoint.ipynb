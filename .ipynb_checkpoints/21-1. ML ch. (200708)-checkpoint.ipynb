{
 "cells": [
  {
   "cell_type": "markdown",
   "metadata": {},
   "source": [
    "# <b>■ SVM</b>\n",
    "![SVM1](svm1.png)\n",
    "![SVM2](svm2.png)\n",
    "![SVM3](svm3.png)"
   ]
  },
  {
   "cell_type": "markdown",
   "metadata": {},
   "source": [
    "## <b>■ 벡터의 내적</b>\n",
    "    벡터 : 방향과 크기의 의미를 모두 포함하는 표현도구\n",
    "    내적 : 적-> 쌓는다, 벡터의 내적은 곱을 의미\n",
    "    \n",
    "    1. 두 벡터의 방향이 같을 때\n",
    "    2. 두 벡터가 수직일 때\n",
    "    3. 두 벡터의 방향이 다를때\n",
    "    \n",
    "## <b>머신러닝 학습할 때 가장 먼저 설정해야하는 것</b>\n",
    "    어떤 점을 x라 했을 때 normal vector와 내적을 한 숫자가 양수인지 음수인지에 따라 벌점주는 여부 -> 오차함수"
   ]
  },
  {
   "cell_type": "markdown",
   "metadata": {},
   "source": [
    "## <b>■ 필기체 데이터 분류를 SVM 알고리즘으로 분류</b>\n",
    "    데이터셋 : 필기체 0~9번까지 사람이 직접 손으로 쓴 데이터\n",
    "              6만개, 28*28 픽셀로 구성\n",
    "    "
   ]
  },
  {
   "cell_type": "code",
   "execution_count": 2,
   "metadata": {
    "ExecuteTime": {
     "end_time": "2020-07-08T06:39:59.642573Z",
     "start_time": "2020-07-08T06:39:59.498Z"
    }
   },
   "outputs": [
    {
     "data": {
      "text/html": [
       "'D:/R'"
      ],
      "text/latex": [
       "'D:/R'"
      ],
      "text/markdown": [
       "'D:/R'"
      ],
      "text/plain": [
       "[1] \"D:/R\""
      ]
     },
     "metadata": {},
     "output_type": "display_data"
    },
    {
     "name": "stderr",
     "output_type": "stream",
     "text": [
      "Warning message:\n",
      "\"package 'lattice' was built under R version 3.6.3\""
     ]
    },
    {
     "ename": "ERROR",
     "evalue": "Error in value[[3L]](cond): Package 'lattice' version 0.20.38 cannot be unloaded:\n Error in unloadNamespace(package) : namespace 'lattice' is imported by 'nlme', 'Cubist', 'Matrix', 'caret' so cannot be unloaded\n\n",
     "output_type": "error",
     "traceback": [
      "Error in value[[3L]](cond): Package 'lattice' version 0.20.38 cannot be unloaded:\n Error in unloadNamespace(package) : namespace 'lattice' is imported by 'nlme', 'Cubist', 'Matrix', 'caret' so cannot be unloaded\n\nTraceback:\n",
      "1. library(lattice)",
      "2. tryCatch(unloadNamespace(package), error = function(e) {\n .     P <- if (!is.null(cc <- conditionCall(e))) \n .         paste(\"Error in\", deparse(cc)[1L], \": \")\n .     else \"Error : \"\n .     stop(gettextf(\"Package %s version %s cannot be unloaded:\\n %s\", \n .         sQuote(package), oldversion, paste0(P, conditionMessage(e), \n .             \"\\n\")), domain = NA)\n . })",
      "3. tryCatchList(expr, classes, parentenv, handlers)",
      "4. tryCatchOne(expr, names, parentenv, handlers[[1L]])",
      "5. value[[3L]](cond)",
      "6. stop(gettextf(\"Package %s version %s cannot be unloaded:\\n %s\", \n .     sQuote(package), oldversion, paste0(P, conditionMessage(e), \n .         \"\\n\")), domain = NA)"
     ]
    }
   ],
   "source": [
    "getwd()\n",
    "\n",
    "#install.packages(\"caret\")\n",
    "#install.packages(\"doParallel\")\n",
    "#install.packages(\"kernlab\")\n",
    "#install.packages(\"ggplot2\")\n",
    "#install.packages(\"lattice\")\n",
    "#library(ggplot2)\n",
    "library(lattice)\n",
    "library(kernlab)\n",
    "library(caret)\n",
    "library(doParallel) # 병렬처리 -> 데이터 분석 속도를 높이는 패키지\n",
    "\n",
    "# Enable parallel processing.\n",
    "\n",
    "cl <- makeCluster(detectCores())\n",
    "registerDoParallel(cl)\n",
    "\n",
    "# Load the MNIST digit recognition dataset into R\n",
    "# http://yann.lecun.com/exdb/mnist/\n",
    "# assume you have all 4 files and gunzip'd them\n",
    "# creates train$n, train$x, train$y  and test$n, test$x, test$y\n",
    "# e.g. train$x is a 60000 x 784 matrix, each row is one digit (28x28)\n",
    "# call:  show_digit(train$x[5,])   to see a digit.\n",
    "# brendan o'connor - gist.github.com/39760 - anyall.org\n",
    "\n",
    "# 필기체 데이터를 로드하는 함수\n",
    "load_mnist <- function() {\n",
    "  load_image_file <- function(filename) {\n",
    "    ret = list()\n",
    "    f = file(filename,'rb')\n",
    "    readBin(f,'integer',n=1,size=4,endian='big')\n",
    "    ret$n = readBin(f,'integer',n=1,size=4,endian='big')\n",
    "    nrow = readBin(f,'integer',n=1,size=4,endian='big')\n",
    "    ncol = readBin(f,'integer',n=1,size=4,endian='big')\n",
    "    \n",
    "    x = readBin(f,'integer',n=ret$n*nrow*ncol,size=1,signed=F)\n",
    "    \n",
    "    ret$x = matrix(x, ncol=nrow*ncol, byrow=T)\n",
    "    close(f)\n",
    "    ret\n",
    "  }\n",
    "  \n",
    "# 필기체 데이터 정답 라벨 불러오는 함수\n",
    "  load_label_file <- function(filename) {\n",
    "    f = file(filename,'rb')\n",
    "    readBin(f,'integer',n=1,size=4,endian='big')\n",
    "\n",
    "    n = readBin(f,'integer',n=1,size=4,endian='big')\n",
    "    y = readBin(f,'integer',n=n,size=1,signed=F)\n",
    "    \n",
    "    close(f)\n",
    "    y\n",
    "  }\n",
    "  \n",
    "  train <<- load_image_file('train-images.idx3-ubyte')\n",
    "  test <<- load_image_file('t10k-images.idx3-ubyte')\n",
    "  \n",
    "  train$y <<- load_label_file('train-labels.idx1-ubyte')\n",
    "  test$y <<- load_label_file('t10k-labels.idx1-ubyte')  \n",
    "}\n",
    "\n",
    "# 필기체 데이터를 시각화 하기 위해서 필요한 함수\n",
    "show_digit <- function(arr784, col=gray(12:1/12), ...) {\n",
    "  image(matrix(arr784, nrow=28)[,28:1], col=col, ...)\n",
    "}\n",
    "\n",
    "train <- data.frame()\n",
    "test <- data.frame()\n",
    "\n",
    "# Load data.\n",
    "\n",
    "load_mnist()\n",
    "\n",
    "# Normalize: X = (X - min) / (max - min) => X = (X - 0) / (255 - 0) => X = X / 255.\n",
    "\n",
    "train$x <- train$x / 255\n",
    "\n",
    "# Setup training data with digit and pixel values with 60/40 split for train/cv.\n",
    "\n",
    "inTrain = data.frame(y=train$y, train$x)\n",
    "inTrain$y <- as.factor(inTrain$y)\n",
    "\n",
    "trainIndex = createDataPartition(inTrain$y, p = 0.60,list=FALSE)\n",
    "training = inTrain[trainIndex,]\n",
    "\n",
    "cv = inTrain[-trainIndex,]\n",
    "\n",
    "# SVM. 95/94.\n",
    "\n",
    "fit <- train(y ~ ., data = head(training, 1000), method = 'svmRadial', tuneGrid = data.frame(sigma=0.0107249, C=1))\n",
    "\n",
    "results <- predict(fit, newdata = head(cv, 1000))\n",
    "results\n",
    "\n",
    "confusionMatrix(results, head(cv$y, 1000))\n",
    "\n",
    "show_digit(as.matrix(training[5,2:785]))\n",
    "\n",
    "# Predict the digit.\n",
    "\n",
    "predict(fit, newdata = training[5,])\n",
    "\n",
    "# Check the actual answer for the digit.\n",
    "\n",
    "training[5,1]"
   ]
  },
  {
   "cell_type": "code",
   "execution_count": null,
   "metadata": {},
   "outputs": [],
   "source": []
  },
  {
   "cell_type": "code",
   "execution_count": null,
   "metadata": {},
   "outputs": [],
   "source": []
  },
  {
   "cell_type": "code",
   "execution_count": null,
   "metadata": {},
   "outputs": [],
   "source": []
  }
 ],
 "metadata": {
  "kernelspec": {
   "display_name": "R",
   "language": "R",
   "name": "ir"
  },
  "toc": {
   "base_numbering": 1,
   "nav_menu": {},
   "number_sections": true,
   "sideBar": true,
   "skip_h1_title": false,
   "title_cell": "Table of Contents",
   "title_sidebar": "Contents",
   "toc_cell": false,
   "toc_position": {},
   "toc_section_display": true,
   "toc_window_display": false
  },
  "varInspector": {
   "cols": {
    "lenName": 16,
    "lenType": 16,
    "lenVar": 40
   },
   "kernels_config": {
    "python": {
     "delete_cmd_postfix": "",
     "delete_cmd_prefix": "del ",
     "library": "var_list.py",
     "varRefreshCmd": "print(var_dic_list())"
    },
    "r": {
     "delete_cmd_postfix": ") ",
     "delete_cmd_prefix": "rm(",
     "library": "var_list.r",
     "varRefreshCmd": "cat(var_dic_list()) "
    }
   },
   "types_to_exclude": [
    "module",
    "function",
    "builtin_function_or_method",
    "instance",
    "_Feature"
   ],
   "window_display": false
  }
 },
 "nbformat": 4,
 "nbformat_minor": 4
}
