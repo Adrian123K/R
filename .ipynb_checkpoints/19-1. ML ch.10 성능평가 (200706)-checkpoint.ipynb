{
 "cells": [
  {
   "cell_type": "markdown",
   "metadata": {},
   "source": [
    "## <b>■ 모델 성능평가</b>\n",
    "\n",
    "    학습목표: 앞에서는 우리가 여러 머신러닝 모델을 생성해보았습니다.\n",
    "    여러가지 머신러닝 모델에서 현재 분석하는 데이터에 맞는 모델은 이 모델이다! 라고 판단할 수 있게 하는데\n",
    "    도움을 주는 내용이 바로 이번 장의 내용입니다\n",
    "\n",
    "    면접기출: 제출한 데이터 분석 포트폴리오의 분석 모델로 이 머신러닝 모델을 선택한 이유가 무엇입니까?\n",
    "    답변: 모델 성능 평가를 통해서 확인한 결과 해당 머신러닝 모델이 가장 우수했기 때문입니다.\n",
    "\n",
    "### <b>■ 모델 성능평가가 중요한 이유?</b>\n",
    "\n",
    "    머신러닝이 수행한 결과(분류/예측)에 대한 공정한 평가를 통해\n",
    "    머신러닝이 앞으로도 미래의 데이터에 대해 잘 분류하고 예측할 수 있도록 해주고\n",
    "    분류결과가 요행으로 맞힌 것이 아니라는 것을 확인할 수 있게 해줌과 동시에 분류결과 일반화 가능하기 때문\n",
    "\n",
    "### <b>■ 그동안 성능평가에서 사용한 방법?</b>\n",
    "\n",
    "    정확도\n",
    "\n",
    "### <b>■ 정확도란?</b>\n",
    "\n",
    "    학습자가 맞거나 틀린 비율을 의미\n",
    "\n",
    "### <b>■ 모델 성능평가를 위해 정확도만으로는 충분하지 않은 이유?</b>\n",
    "\n",
    "    암 판정을 하는 분류기가 99%의 정확도를 가지고 있다면 1%의 오류율을 보유하고 있기 때문에\n",
    "    어떤 데이터에 대해서는 오류를 범할 수도 있다는 가능성이 여전히 존재\n",
    "    정확도만으로는 성능을 측정하는데 충분하지가 않기에 정확도와 더불어 분류기의 유용성을 판단할 수 있는\n",
    "    또다른 성능 척도를 정의하는 것이 중요 ! '정확도+성능척도'\n",
    " \n",
    "\n",
    "### <b>■ 다른 성능척도에는 어떤것이 존재?</b>\n",
    "\n",
    "    Kappa 통계량\n",
    "    민감도와 특이도\n",
    "    정밀도와 재현율\n",
    "    Roc 곡선\n",
    "        ex. 기존의 갑상샘 환자들의 경우 한 쪽만 제거했을 때 다른 한 쪽에 암이 발생할 확률이 % -> 한 쪽만 제거\n",
    "        \n",
    "### <b>■ 정확도 계산하는 방법(이원교차표 분석)</b>\n",
    "                Positive           Negative\n",
    "    Positive      TP=20              FP=20\n",
    "    Negative      FN=100             TN=880\n",
    "    \n",
    "        TP(True Positive) : 기계가 병이 있다고 예측했는데 맞힌 경우\n",
    "        FP(False Positive) : 기계가 병이 없다고 예측했는데 맞힌 경우\n",
    "        TN(True Negative) : 기계가 병이 있다고 예측했는데 틀린 경우\n",
    "        FN(False Negative) : 기계가 병이 없다고 예측했는데 틀힌 경우\n",
    "            → 병원에서는 FN이 0이어야 좋음"
   ]
  },
  {
   "cell_type": "markdown",
   "metadata": {},
   "source": [
    "### ■ 카파 통계량 (p.449)\n",
    "<b>$\\kappa$ 통계량 : 두 관찰자간의 측정 범주 값에 대한 일치도를 측정하는 방법</b><br>\n",
    "$$\\kappa = {{Pr(a)-Pr(e)}\\over {1-Pr(e)}}$$<br>\n",
    "<center><b> Pr(a)</b>　: 데이터에서 관찰된 2명의 평가자들의 일치확률<br>\n",
    "    <b>Pr(e)</b>　: 2명의 평가자들이 데이터로부터 계산된 확률적 일치확률 (우연히 일치할 확률)<br>\n",
    "    <b>$\\kappa$가 0이면 완전 불일치이고, 1이면 완전 일치</b></center><br>\n",
    "\n",
    "    예시: 시험을 응시한 학생이 100명이라고 할 때, 2명의 평가자가 합격, 불합격을 각각 판정하고 두 평가자의 일치도를 아래와 같이 보여준다.\n",
    "                               평가자A\n",
    "                          합격          불합격\n",
    "        평가자 B합격       40            10       50\n",
    "              불합격       20            30       50\n",
    "                          60            40\n",
    "<center><b>Pr(a)</b> : 데이터에서 관찰된 두 평가자들의 일치확률<br><br>\n",
    "$$Pr(a)={{40+30}\\over {100}}=0.7$$<br><br>\n",
    "    <center><b>Pr(e)</b> : 2명의 평가자들이 데이터로부터 계산된 확률적 일치확률<br><br>\n",
    "            <b> 평가자A는 합격을 60명, 불합격을 40명 주었다.</b><br>\n",
    "            <b> 평가자A는 합격확률 60% 의 확률, 불합격확률 40% 의 확률</b><br>\n",
    "            <b> 평가자B는 합격을 50명, 불합격을 50명 주었다.</b><br>\n",
    "        <b> 평가자B는 합격확률 50%의 확률, 불합격확률 50%의 확률</b></center><br><br>\n",
    "    <center><b>평가자 A와 평가자 B가 모두 '합격'을 줄 확률?</b></center>\n",
    "$$0.6\\times 0.5=0.3$$<br>\n",
    "    <center><b>평가자 A와 평가자 B가 모두 '불합격'을 줄 확률?</b></center>\n",
    "$$0.4\\times 0.5=0.2$$<br>\n",
    "    <center><b>Pr(e)는 이 둘을 더해서 $0.3+0.2=0.5$</b><br>\n",
    "        $$∴\\kappa = {{0.7-0.5}\\over{1-0.5}}=0.4　(보통일치)$$"
   ]
  },
  {
   "cell_type": "code",
   "execution_count": null,
   "metadata": {},
   "outputs": [],
   "source": []
  },
  {
   "cell_type": "code",
   "execution_count": null,
   "metadata": {},
   "outputs": [],
   "source": []
  },
  {
   "cell_type": "code",
   "execution_count": null,
   "metadata": {},
   "outputs": [],
   "source": []
  },
  {
   "cell_type": "code",
   "execution_count": null,
   "metadata": {},
   "outputs": [],
   "source": []
  },
  {
   "cell_type": "code",
   "execution_count": null,
   "metadata": {},
   "outputs": [],
   "source": []
  }
 ],
 "metadata": {
  "kernelspec": {
   "display_name": "R",
   "language": "R",
   "name": "ir"
  },
  "toc": {
   "base_numbering": 1,
   "nav_menu": {},
   "number_sections": true,
   "sideBar": true,
   "skip_h1_title": false,
   "title_cell": "Table of Contents",
   "title_sidebar": "Contents",
   "toc_cell": false,
   "toc_position": {},
   "toc_section_display": true,
   "toc_window_display": false
  },
  "varInspector": {
   "cols": {
    "lenName": 16,
    "lenType": 16,
    "lenVar": 40
   },
   "kernels_config": {
    "python": {
     "delete_cmd_postfix": "",
     "delete_cmd_prefix": "del ",
     "library": "var_list.py",
     "varRefreshCmd": "print(var_dic_list())"
    },
    "r": {
     "delete_cmd_postfix": ") ",
     "delete_cmd_prefix": "rm(",
     "library": "var_list.r",
     "varRefreshCmd": "cat(var_dic_list()) "
    }
   },
   "types_to_exclude": [
    "module",
    "function",
    "builtin_function_or_method",
    "instance",
    "_Feature"
   ],
   "window_display": false
  }
 },
 "nbformat": 4,
 "nbformat_minor": 4
}
