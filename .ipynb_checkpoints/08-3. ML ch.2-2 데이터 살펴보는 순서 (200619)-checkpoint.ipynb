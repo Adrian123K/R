{
 "cells": [
  {
   "cell_type": "markdown",
   "metadata": {},
   "source": [
    "## ■ 데이터를 살펴보는 순서\n",
    "    평균값---> 중앙값 ---> 최빈값 ---> 범위 ---> 사분위수범위 ---> 분산 ----> 표준편차\n",
    "                ↓                                ↓\n",
    "       데이터의 중심이 어딘지?             데이터의 분포를 파악 ?"
   ]
  },
  {
   "cell_type": "markdown",
   "metadata": {},
   "source": [
    "### ◇ str 명령어 : str() 함수는 데이터 프레임, 벡터, 리스트 같은 R 데이터 구조를 보여준다. 데이터의 기초 윤곽을 확인할때 이 함수를 활용할 수 있다"
   ]
  },
  {
   "cell_type": "markdown",
   "metadata": {},
   "source": [
    "### ※ 문제177. 중고차(usedcars.csv) 를 R 로드하고 str 명령어로 구조를 확인하시오 !"
   ]
  },
  {
   "cell_type": "code",
   "execution_count": 2,
   "metadata": {
    "ExecuteTime": {
     "end_time": "2020-06-19T06:08:28.307355Z",
     "start_time": "2020-06-19T06:08:28.266Z"
    }
   },
   "outputs": [
    {
     "name": "stdout",
     "output_type": "stream",
     "text": [
      "'data.frame':\t150 obs. of  6 variables:\n",
      " $ year        : int  2011 2011 2011 2011 2012 2010 2011 2010 2011 2010 ...\n",
      " $ model       : Factor w/ 3 levels \"SE\",\"SEL\",\"SES\": 2 2 2 2 1 2 2 2 3 3 ...\n",
      " $ price       : int  21992 20995 19995 17809 17500 17495 17000 16995 16995 16995 ...\n",
      " $ mileage     : int  7413 10926 7351 11613 8367 25125 27393 21026 32655 36116 ...\n",
      " $ color       : Factor w/ 9 levels \"Black\",\"Blue\",..: 9 4 7 4 8 7 2 7 7 7 ...\n",
      " $ transmission: Factor w/ 2 levels \"AUTO\",\"MANUAL\": 1 1 1 1 1 1 1 1 1 1 ...\n"
     ]
    }
   ],
   "source": [
    "car<-read.csv('usedcars.csv',head=T)\n",
    "str(car)"
   ]
  },
  {
   "cell_type": "markdown",
   "metadata": {},
   "source": [
    "```\n",
    "'data.frame':\t150 obs. of  6 variables:\n",
    " $ year        : int  2011 2011 2011 2011 2012 2010 2011 2010 2011 2010 ...                제조년도\n",
    " $ model       : Factor w/ 3 levels \"SE\",\"SEL\",\"SES\": 2 2 2 2 1 2 2 2 3 3 ...              차 모델\n",
    " $ price       : int  21992 20995 19995 17809 17500 17495 17000 16995 16995 16995 ...      중고차 가격\n",
    " $ mileage     : int  7413 10926 7351 11613 8367 25125 27393 21026 32655 36116 ...         주행거리\n",
    " $ color       : Factor w/ 9 levels \"Black\",\"Blue\",..: 9 4 7 4 8 7 2 7 7 7 ...             색상\n",
    " $ transmission: Factor w/ 2 levels \"AUTO\",\"MANUAL\": 1 1 1 1 1 1 1 1 1 1 ...               자동/수동\n",
    " ```"
   ]
  },
  {
   "cell_type": "markdown",
   "metadata": {},
   "source": [
    "### ※ 문제178. 차 색깔의 종류가 몇 가지가 있는지 확인하시오"
   ]
  },
  {
   "cell_type": "code",
   "execution_count": 5,
   "metadata": {
    "ExecuteTime": {
     "end_time": "2020-06-19T06:12:29.494972Z",
     "start_time": "2020-06-19T06:12:29.463Z"
    }
   },
   "outputs": [
    {
     "name": "stdout",
     "output_type": "stream",
     "text": [
      "[1] 9\n"
     ]
    }
   ],
   "source": [
    "print(length(unique(car$color)))"
   ]
  },
  {
   "cell_type": "code",
   "execution_count": 6,
   "metadata": {
    "ExecuteTime": {
     "end_time": "2020-06-19T06:13:25.948087Z",
     "start_time": "2020-06-19T06:13:25.915Z"
    }
   },
   "outputs": [
    {
     "data": {
      "text/plain": [
       "\n",
       " Black   Blue   Gold   Gray  Green    Red Silver  White Yellow \n",
       "    35     17      1     16      5     25     32     16      3 "
      ]
     },
     "metadata": {},
     "output_type": "display_data"
    }
   ],
   "source": [
    "table(car$color)"
   ]
  },
  {
   "cell_type": "markdown",
   "metadata": {},
   "source": [
    "### ※ 문제179. 중고차 중에서 가장 마일리지가 높은 차의 마일리지 값을 출력하시오"
   ]
  },
  {
   "cell_type": "code",
   "execution_count": 8,
   "metadata": {
    "ExecuteTime": {
     "end_time": "2020-06-19T06:14:32.581174Z",
     "start_time": "2020-06-19T06:14:32.549Z"
    }
   },
   "outputs": [
    {
     "name": "stdout",
     "output_type": "stream",
     "text": [
      "[1] 151479\n"
     ]
    }
   ],
   "source": [
    "print(max(car$mileage))"
   ]
  },
  {
   "cell_type": "code",
   "execution_count": 9,
   "metadata": {
    "ExecuteTime": {
     "end_time": "2020-06-19T06:15:01.180502Z",
     "start_time": "2020-06-19T06:15:01.117Z"
    }
   },
   "outputs": [
    {
     "data": {
      "text/plain": [
       "      year      model        price          mileage           color   \n",
       " Min.   :2000   SE :78   Min.   : 3800   Min.   :  4867   Black  :35  \n",
       " 1st Qu.:2008   SEL:23   1st Qu.:10995   1st Qu.: 27200   Silver :32  \n",
       " Median :2009   SES:49   Median :13592   Median : 36385   Red    :25  \n",
       " Mean   :2009            Mean   :12962   Mean   : 44261   Blue   :17  \n",
       " 3rd Qu.:2010            3rd Qu.:14904   3rd Qu.: 55125   Gray   :16  \n",
       " Max.   :2012            Max.   :21992   Max.   :151479   White  :16  \n",
       "                                                          (Other): 9  \n",
       " transmission\n",
       " AUTO  :128  \n",
       " MANUAL: 22  \n",
       "             \n",
       "             \n",
       "             \n",
       "             \n",
       "             "
      ]
     },
     "metadata": {},
     "output_type": "display_data"
    }
   ],
   "source": [
    "summary(car)"
   ]
  },
  {
   "cell_type": "markdown",
   "metadata": {},
   "source": [
    "## ■ 수치 변수 탐색\n",
    "### ◇ summary 명령어 : 데이터의 각 변수(column)에 대해 최대/소, 평균, 중앙값을 요약 정리해서 보여줌\n",
    "    중심 측정과 퍼짐 측정의 두가지 유형을 살펴볼 수 있다"
   ]
  },
  {
   "cell_type": "markdown",
   "metadata": {},
   "source": [
    "### ◆ 수치형 데이터  \n",
    "```\n",
    "    1. 이산형 데이터 (discrete: 뚜렷이 구별되다)\n",
    "            주사위 처럼 1 ~ 9 까지의 숫자 \n",
    "       예:  2016년 음주운전 적발건수 22만 6599건계수(헤아려 얻는것)  \n",
    "\n",
    "    2. 연속형 데이터 : 연속적인 값의 데이터 \n",
    "       예:  신장, 체중 (82.321) \n",
    "            계량 (측정해서 얻는것)\n",
    "    ※ 이산형 데이터 보다는 연속형 데이터가 얻을 수 있는 정보가 많다.\n",
    "\n",
    "    * 연속형 데이터에 대한 기술적인 통계를 이용한 자료 요약 3가지 \n",
    "         1. 데이터의 중심화 경향 : 중앙값, 평균값, 최빈값\n",
    "         2. 데이터의 퍼짐 정도   : 분산(데이터의 퍼짐정도)\n",
    "                                 표준편차(평균에 대한 오차)\n",
    "                                 범위 \n",
    "         3. 데이터의 분포화 대칭 정도 : 왜도(좌우로 기울어짐의 정도)\n",
    "                                      첨도(위아래 뾰족한 정도) \n",
    "```\n",
    "```\n",
    "    두가지 질문을 던지고 이 질문을 해결하는 방법으로 위의 통계기법들을 사용해 볼 것 \n",
    "\n",
    "  1. 헬스클럽에 오는 특정 사람의 나이를 가지고 그 사람에게 가장 적합한 운동 교실을 선택해주려면 ?  \n",
    "      사용할 통계기법 ? 평균값, 중앙값, 최빈값 \n",
    "\n",
    "  2. 농구선수 3명의 점수를 가지고 농구 감독이 3명중에 가장 적합한 1명을 선택하려면 ?  \n",
    "     사용할 통계기법 ?  분산, 표준편차, 사분위수 그래프\n",
    "     ```"
   ]
  },
  {
   "cell_type": "markdown",
   "metadata": {},
   "source": [
    "### ◇ 평균값 \n",
    "```\n",
    "    헬스클럽에 찾아와서 자신과 비슷한 나이대에 사람들이 있는 운동교실을 추천해달라고 했다. \n",
    "    ○\n",
    "   -↑-     <--------- 추천을 해준 교실의 사람들의 나이대\n",
    "   ↙↘  \n",
    "\n",
    "    40대 남자       나이   19   20   21   145   147 \n",
    "                   도수    3    6    3     1    1 \n",
    "                   ```"
   ]
  },
  {
   "cell_type": "code",
   "execution_count": 13,
   "metadata": {
    "ExecuteTime": {
     "end_time": "2020-06-19T06:23:37.386654Z",
     "start_time": "2020-06-19T06:23:37.346Z"
    }
   },
   "outputs": [
    {
     "name": "stdout",
     "output_type": "stream",
     "text": [
      " [1]  19  19  19  20  20  20  20  20  20  21  21  21 145 147\n",
      "class1\n",
      " 19  20  21 145 147 \n",
      "  3   6   3   1   1 \n"
     ]
    }
   ],
   "source": [
    "class1<-c( rep(19,3), rep(20,6), rep(21,3), 145, 147 )\n",
    "print(class1)\n",
    "print(table(class1))"
   ]
  },
  {
   "cell_type": "markdown",
   "metadata": {},
   "source": [
    "### ※ 문제180. class1의 나이의 평균을 구하시오"
   ]
  },
  {
   "cell_type": "code",
   "execution_count": 14,
   "metadata": {
    "ExecuteTime": {
     "end_time": "2020-06-19T06:23:52.968492Z",
     "start_time": "2020-06-19T06:23:52.939Z"
    }
   },
   "outputs": [
    {
     "name": "stdout",
     "output_type": "stream",
     "text": [
      "[1] 38\n"
     ]
    }
   ],
   "source": [
    "print(mean(class1)) # 이상치로 인한 평균 상승"
   ]
  },
  {
   "cell_type": "markdown",
   "metadata": {},
   "source": [
    "```\n",
    "※ 이상치 때문에 평균이 높아졌다. \n",
    "※ 이상치 ?  다른 데이터에 비해 눈에 뜨일 정도로 지나치게 높거나 낮은값\n",
    "※ 편향이란 ?   이상치에 의해서 평균값이 상승 되었다.\n",
    "               이런 현상을 보이면 데이터가 편향되었다고 한다. \n",
    "                 ```"
   ]
  },
  {
   "cell_type": "markdown",
   "metadata": {},
   "source": [
    "### ※ 문제181. class1에서 이상치를 출력하시오"
   ]
  },
  {
   "cell_type": "code",
   "execution_count": 16,
   "metadata": {
    "ExecuteTime": {
     "end_time": "2020-06-19T06:25:41.927891Z",
     "start_time": "2020-06-19T06:25:38.456Z"
    }
   },
   "outputs": [
    {
     "name": "stderr",
     "output_type": "stream",
     "text": [
      "Installing package into 'C:/Users/knitwill/Documents/R/win-library/3.6'\n",
      "(as 'lib' is unspecified)\n"
     ]
    },
    {
     "name": "stdout",
     "output_type": "stream",
     "text": [
      "package 'outliers' successfully unpacked and MD5 sums checked\n",
      "\n",
      "The downloaded binary packages are in\n",
      "\tC:\\Users\\knitwill\\AppData\\Local\\Temp\\RtmpCslZVW\\downloaded_packages\n"
     ]
    }
   ],
   "source": [
    "install.packages('outliers')\n",
    "library(outliers)"
   ]
  },
  {
   "cell_type": "code",
   "execution_count": 19,
   "metadata": {
    "ExecuteTime": {
     "end_time": "2020-06-19T06:25:51.987577Z",
     "start_time": "2020-06-19T06:25:51.957Z"
    }
   },
   "outputs": [
    {
     "name": "stdout",
     "output_type": "stream",
     "text": [
      "[1] 147\n"
     ]
    }
   ],
   "source": [
    "print(outlier(class1))"
   ]
  },
  {
   "cell_type": "code",
   "execution_count": 21,
   "metadata": {
    "ExecuteTime": {
     "end_time": "2020-06-19T06:27:18.083640Z",
     "start_time": "2020-06-19T06:27:18.003Z"
    }
   },
   "outputs": [
    {
     "name": "stdout",
     "output_type": "stream",
     "text": [
      "[1] 145 147\n"
     ]
    },
    {
     "data": {
      "image/png": "[encoded data removed]",
      "text/plain": [
       "plot without title"
      ]
     },
     "metadata": {},
     "output_type": "display_data"
    }
   ],
   "source": [
    "x<-boxplot(class1)\n",
    "print(x$out)"
   ]
  }
 ],
 "metadata": {
  "kernelspec": {
   "display_name": "R",
   "language": "R",
   "name": "ir"
  },
  "language_info": {
   "codemirror_mode": "r",
   "file_extension": ".r",
   "mimetype": "text/x-r-source",
   "name": "R",
   "pygments_lexer": "r",
   "version": "3.6.1"
  },
  "toc": {
   "base_numbering": 1,
   "nav_menu": {},
   "number_sections": true,
   "sideBar": true,
   "skip_h1_title": false,
   "title_cell": "Table of Contents",
   "title_sidebar": "Contents",
   "toc_cell": false,
   "toc_position": {},
   "toc_section_display": true,
   "toc_window_display": false
  },
  "varInspector": {
   "cols": {
    "lenName": 16,
    "lenType": 16,
    "lenVar": 40
   },
   "kernels_config": {
    "python": {
     "delete_cmd_postfix": "",
     "delete_cmd_prefix": "del ",
     "library": "var_list.py",
     "varRefreshCmd": "print(var_dic_list())"
    },
    "r": {
     "delete_cmd_postfix": ") ",
     "delete_cmd_prefix": "rm(",
     "library": "var_list.r",
     "varRefreshCmd": "cat(var_dic_list()) "
    }
   },
   "types_to_exclude": [
    "module",
    "function",
    "builtin_function_or_method",
    "instance",
    "_Feature"
   ],
   "window_display": false
  }
 },
 "nbformat": 4,
 "nbformat_minor": 4
}
