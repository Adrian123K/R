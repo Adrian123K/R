{
 "cells": [
  {
   "cell_type": "markdown",
   "metadata": {},
   "source": [
    "### ■ R을 왜 사용해야하는가?\n",
    "#### 1. R is free\n",
    "#### 2. data 분석을 위해서 많이 쓰는 통계 플랫폼\n",
    "#### 3. 복잡한 데이터를 다양한 그래프로 표현할 수 있다.\n",
    "#### 4. 분석을 위한 데이터를 쉽게 저장하고 조작할 수 있다.\n",
    "#### 5. 누구든지 유용한 패키지를 생성해서 공유할 수 있고 새로운 기능에 대한 전달이 빠르다.\n",
    "#### 6. 어떠한 os에도 설치가 가능하다. 심지어 아이폰에도 설치가 가능"
   ]
  },
  {
   "cell_type": "code",
   "execution_count": 1,
   "metadata": {
    "ExecuteTime": {
     "end_time": "2020-06-10T06:09:30.043353Z",
     "start_time": "2020-06-10T06:09:29.942Z"
    }
   },
   "outputs": [
    {
     "data": {
      "text/html": [
       "'D:/R'"
      ],
      "text/latex": [
       "'D:/R'"
      ],
      "text/markdown": [
       "'D:/R'"
      ],
      "text/plain": [
       "[1] \"D:/R\""
      ]
     },
     "metadata": {},
     "output_type": "display_data"
    }
   ],
   "source": [
    "getwd()"
   ]
  },
  {
   "cell_type": "code",
   "execution_count": 2,
   "metadata": {
    "ExecuteTime": {
     "end_time": "2020-06-10T06:09:58.837964Z",
     "start_time": "2020-06-10T06:09:58.799Z"
    }
   },
   "outputs": [],
   "source": [
    "emp=read.csv(\"emp3.csv\",header=T)"
   ]
  },
  {
   "cell_type": "code",
   "execution_count": 3,
   "metadata": {
    "ExecuteTime": {
     "end_time": "2020-06-10T06:10:00.414216Z",
     "start_time": "2020-06-10T06:10:00.368Z"
    }
   },
   "outputs": [
    {
     "data": {
      "text/html": [
       "<table>\n",
       "<thead><tr><th scope=col>index</th><th scope=col>empno</th><th scope=col>ename</th><th scope=col>job</th><th scope=col>mgr</th><th scope=col>hiredate</th><th scope=col>sal</th><th scope=col>comm</th><th scope=col>deptno</th></tr></thead>\n",
       "<tbody>\n",
       "\t<tr><td> 1             </td><td>7839           </td><td>KING           </td><td>PRESIDENT      </td><td>  NA           </td><td>1981-11-17 0:00</td><td>5000           </td><td>  NA           </td><td>10             </td></tr>\n",
       "\t<tr><td> 2             </td><td>7698           </td><td>BLAKE          </td><td>MANAGER        </td><td>7839           </td><td>1981-05-01 0:00</td><td>2850           </td><td>  NA           </td><td>30             </td></tr>\n",
       "\t<tr><td> 3             </td><td>7782           </td><td>CLARK          </td><td>MANAGER        </td><td>7839           </td><td>1981-05-09 0:00</td><td>2450           </td><td>  NA           </td><td>10             </td></tr>\n",
       "\t<tr><td> 4             </td><td>7566           </td><td>JONES          </td><td>MANAGER        </td><td>7839           </td><td>1981-04-01 0:00</td><td>2975           </td><td>  NA           </td><td>20             </td></tr>\n",
       "\t<tr><td> 5             </td><td>7654           </td><td>MARTIN         </td><td>SALESMAN       </td><td>7698           </td><td>1981-09-10 0:00</td><td>1250           </td><td>1400           </td><td>30             </td></tr>\n",
       "\t<tr><td> 6             </td><td>7499           </td><td>ALLEN          </td><td>SALESMAN       </td><td>7698           </td><td>1981-02-11 0:00</td><td>1600           </td><td> 300           </td><td>30             </td></tr>\n",
       "\t<tr><td> 7             </td><td>7844           </td><td>TURNER         </td><td>SALESMAN       </td><td>7698           </td><td>1981-08-21 0:00</td><td>1500           </td><td>   0           </td><td>30             </td></tr>\n",
       "\t<tr><td> 8             </td><td>7900           </td><td>JAMES          </td><td>CLERK          </td><td>7698           </td><td>1981-12-11 0:00</td><td> 950           </td><td>  NA           </td><td>30             </td></tr>\n",
       "\t<tr><td> 9             </td><td>7521           </td><td>WARD           </td><td>SALESMAN       </td><td>7698           </td><td>1981-02-23 0:00</td><td>1250           </td><td> 500           </td><td>30             </td></tr>\n",
       "\t<tr><td>10             </td><td>7902           </td><td>FORD           </td><td>ANALYST        </td><td>7566           </td><td>1981-12-11 0:00</td><td>3000           </td><td>  NA           </td><td>20             </td></tr>\n",
       "\t<tr><td>11             </td><td>7369           </td><td>SMITH          </td><td>CLERK          </td><td>7902           </td><td>1980-12-09 0:00</td><td> 800           </td><td>  NA           </td><td>20             </td></tr>\n",
       "\t<tr><td>12             </td><td>7788           </td><td>SCOTT          </td><td>ANALYST        </td><td>7566           </td><td>1982-12-22 0:00</td><td>3000           </td><td>  NA           </td><td>20             </td></tr>\n",
       "\t<tr><td>13             </td><td>7876           </td><td>ADAMS          </td><td>CLERK          </td><td>7788           </td><td>1983-01-15 0:00</td><td>1100           </td><td>  NA           </td><td>20             </td></tr>\n",
       "\t<tr><td>14             </td><td>7934           </td><td>MILLER         </td><td>CLERK          </td><td>7782           </td><td>1982-01-11 0:00</td><td>1300           </td><td>  NA           </td><td>10             </td></tr>\n",
       "</tbody>\n",
       "</table>\n"
      ],
      "text/latex": [
       "\\begin{tabular}{r|lllllllll}\n",
       " index & empno & ename & job & mgr & hiredate & sal & comm & deptno\\\\\n",
       "\\hline\n",
       "\t  1              & 7839            & KING            & PRESIDENT       &   NA            & 1981-11-17 0:00 & 5000            &   NA            & 10             \\\\\n",
       "\t  2              & 7698            & BLAKE           & MANAGER         & 7839            & 1981-05-01 0:00 & 2850            &   NA            & 30             \\\\\n",
       "\t  3              & 7782            & CLARK           & MANAGER         & 7839            & 1981-05-09 0:00 & 2450            &   NA            & 10             \\\\\n",
       "\t  4              & 7566            & JONES           & MANAGER         & 7839            & 1981-04-01 0:00 & 2975            &   NA            & 20             \\\\\n",
       "\t  5              & 7654            & MARTIN          & SALESMAN        & 7698            & 1981-09-10 0:00 & 1250            & 1400            & 30             \\\\\n",
       "\t  6              & 7499            & ALLEN           & SALESMAN        & 7698            & 1981-02-11 0:00 & 1600            &  300            & 30             \\\\\n",
       "\t  7              & 7844            & TURNER          & SALESMAN        & 7698            & 1981-08-21 0:00 & 1500            &    0            & 30             \\\\\n",
       "\t  8              & 7900            & JAMES           & CLERK           & 7698            & 1981-12-11 0:00 &  950            &   NA            & 30             \\\\\n",
       "\t  9              & 7521            & WARD            & SALESMAN        & 7698            & 1981-02-23 0:00 & 1250            &  500            & 30             \\\\\n",
       "\t 10              & 7902            & FORD            & ANALYST         & 7566            & 1981-12-11 0:00 & 3000            &   NA            & 20             \\\\\n",
       "\t 11              & 7369            & SMITH           & CLERK           & 7902            & 1980-12-09 0:00 &  800            &   NA            & 20             \\\\\n",
       "\t 12              & 7788            & SCOTT           & ANALYST         & 7566            & 1982-12-22 0:00 & 3000            &   NA            & 20             \\\\\n",
       "\t 13              & 7876            & ADAMS           & CLERK           & 7788            & 1983-01-15 0:00 & 1100            &   NA            & 20             \\\\\n",
       "\t 14              & 7934            & MILLER          & CLERK           & 7782            & 1982-01-11 0:00 & 1300            &   NA            & 10             \\\\\n",
       "\\end{tabular}\n"
      ],
      "text/markdown": [
       "\n",
       "| index | empno | ename | job | mgr | hiredate | sal | comm | deptno |\n",
       "|---|---|---|---|---|---|---|---|---|\n",
       "|  1              | 7839            | KING            | PRESIDENT       |   NA            | 1981-11-17 0:00 | 5000            |   NA            | 10              |\n",
       "|  2              | 7698            | BLAKE           | MANAGER         | 7839            | 1981-05-01 0:00 | 2850            |   NA            | 30              |\n",
       "|  3              | 7782            | CLARK           | MANAGER         | 7839            | 1981-05-09 0:00 | 2450            |   NA            | 10              |\n",
       "|  4              | 7566            | JONES           | MANAGER         | 7839            | 1981-04-01 0:00 | 2975            |   NA            | 20              |\n",
       "|  5              | 7654            | MARTIN          | SALESMAN        | 7698            | 1981-09-10 0:00 | 1250            | 1400            | 30              |\n",
       "|  6              | 7499            | ALLEN           | SALESMAN        | 7698            | 1981-02-11 0:00 | 1600            |  300            | 30              |\n",
       "|  7              | 7844            | TURNER          | SALESMAN        | 7698            | 1981-08-21 0:00 | 1500            |    0            | 30              |\n",
       "|  8              | 7900            | JAMES           | CLERK           | 7698            | 1981-12-11 0:00 |  950            |   NA            | 30              |\n",
       "|  9              | 7521            | WARD            | SALESMAN        | 7698            | 1981-02-23 0:00 | 1250            |  500            | 30              |\n",
       "| 10              | 7902            | FORD            | ANALYST         | 7566            | 1981-12-11 0:00 | 3000            |   NA            | 20              |\n",
       "| 11              | 7369            | SMITH           | CLERK           | 7902            | 1980-12-09 0:00 |  800            |   NA            | 20              |\n",
       "| 12              | 7788            | SCOTT           | ANALYST         | 7566            | 1982-12-22 0:00 | 3000            |   NA            | 20              |\n",
       "| 13              | 7876            | ADAMS           | CLERK           | 7788            | 1983-01-15 0:00 | 1100            |   NA            | 20              |\n",
       "| 14              | 7934            | MILLER          | CLERK           | 7782            | 1982-01-11 0:00 | 1300            |   NA            | 10              |\n",
       "\n"
      ],
      "text/plain": [
       "   index empno ename  job       mgr  hiredate        sal  comm deptno\n",
       "1   1    7839  KING   PRESIDENT   NA 1981-11-17 0:00 5000   NA 10    \n",
       "2   2    7698  BLAKE  MANAGER   7839 1981-05-01 0:00 2850   NA 30    \n",
       "3   3    7782  CLARK  MANAGER   7839 1981-05-09 0:00 2450   NA 10    \n",
       "4   4    7566  JONES  MANAGER   7839 1981-04-01 0:00 2975   NA 20    \n",
       "5   5    7654  MARTIN SALESMAN  7698 1981-09-10 0:00 1250 1400 30    \n",
       "6   6    7499  ALLEN  SALESMAN  7698 1981-02-11 0:00 1600  300 30    \n",
       "7   7    7844  TURNER SALESMAN  7698 1981-08-21 0:00 1500    0 30    \n",
       "8   8    7900  JAMES  CLERK     7698 1981-12-11 0:00  950   NA 30    \n",
       "9   9    7521  WARD   SALESMAN  7698 1981-02-23 0:00 1250  500 30    \n",
       "10 10    7902  FORD   ANALYST   7566 1981-12-11 0:00 3000   NA 20    \n",
       "11 11    7369  SMITH  CLERK     7902 1980-12-09 0:00  800   NA 20    \n",
       "12 12    7788  SCOTT  ANALYST   7566 1982-12-22 0:00 3000   NA 20    \n",
       "13 13    7876  ADAMS  CLERK     7788 1983-01-15 0:00 1100   NA 20    \n",
       "14 14    7934  MILLER CLERK     7782 1982-01-11 0:00 1300   NA 10    "
      ]
     },
     "metadata": {},
     "output_type": "display_data"
    }
   ],
   "source": [
    "emp"
   ]
  },
  {
   "cell_type": "code",
   "execution_count": 5,
   "metadata": {
    "ExecuteTime": {
     "end_time": "2020-06-10T06:10:25.090468Z",
     "start_time": "2020-06-10T06:10:24.961Z"
    }
   },
   "outputs": [
    {
     "data": {
      "image/png": "[encoded data removed]",
      "text/plain": [
       "plot without title"
      ]
     },
     "metadata": {},
     "output_type": "display_data"
    }
   ],
   "source": [
    "x=table(emp$job)\n",
    "barplot(x, col=rainbow(5))"
   ]
  }
 ],
 "metadata": {
  "kernelspec": {
   "display_name": "R",
   "language": "R",
   "name": "ir"
  },
  "language_info": {
   "codemirror_mode": "r",
   "file_extension": ".r",
   "mimetype": "text/x-r-source",
   "name": "R",
   "pygments_lexer": "r",
   "version": "3.6.1"
  },
  "toc": {
   "base_numbering": 1,
   "nav_menu": {},
   "number_sections": true,
   "sideBar": true,
   "skip_h1_title": false,
   "title_cell": "Table of Contents",
   "title_sidebar": "Contents",
   "toc_cell": false,
   "toc_position": {},
   "toc_section_display": true,
   "toc_window_display": false
  },
  "varInspector": {
   "cols": {
    "lenName": 16,
    "lenType": 16,
    "lenVar": 40
   },
   "kernels_config": {
    "python": {
     "delete_cmd_postfix": "",
     "delete_cmd_prefix": "del ",
     "library": "var_list.py",
     "varRefreshCmd": "print(var_dic_list())"
    },
    "r": {
     "delete_cmd_postfix": ") ",
     "delete_cmd_prefix": "rm(",
     "library": "var_list.r",
     "varRefreshCmd": "cat(var_dic_list()) "
    }
   },
   "types_to_exclude": [
    "module",
    "function",
    "builtin_function_or_method",
    "instance",
    "_Feature"
   ],
   "window_display": false
  }
 },
 "nbformat": 4,
 "nbformat_minor": 4
}
