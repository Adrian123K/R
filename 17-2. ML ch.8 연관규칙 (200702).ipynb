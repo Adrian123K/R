{
 "cells": [
  {
   "cell_type": "markdown",
   "metadata": {},
   "source": [
    "# <b>■ 연관규칙</b>\n",
    "    머신러닝 종류 3가지\n",
    "        1. 지도학습\n",
    "            - kNN, naiveBayes, decision tree, 신경망\n",
    "        2. 비지도 학습\n",
    "            - aprori 알고리즘, k-means\n",
    "        3. 강화학습"
   ]
  },
  {
   "cell_type": "markdown",
   "metadata": {},
   "source": [
    "## <b>■ 연관규칙이 필요한 이유</b>\n",
    "    ex) 교보문고, 쿠팡, SSG 참고\n",
    "    \n",
    "## <b>■ 연관규칙이란</b>\n",
    "    - 비지도학습으로써 대규모 거래 데이터로부터 함께 구매가 될 규칙을 도출하여 고객이 특정 상품 구매시 이와 연관성이 높은 상품을 추천\n",
    "    - 연관규칙에 관한 알고리즘 -> Apriori 알고리즘\n",
    "    \n",
    "### <b>■ Apriori 알고리즘</b>\n",
    "    간단한 성능 측정치를 이용해서 거대한 데이터에서 데이터간의 연관성을 찾는 알고리즘\n",
    "    \n",
    "#### <b>■ Apriori 알고리즘은 어떤 데이터의 패턴을 찾을 때 유용한가</b>\n",
    "    1. 암 데이터에서 빈번히 발생하는 DNA 패턴과 단백질의 서열을 검사\n",
    "    2. 사기성 신용카드 및 보험의 이용과 결합되어 발생하는 구매, 또는 의료비 청구의 패턴 발견\n",
    "    3. 유통업 - 장바구니 분석(연관분석)을 통해 상품 추천 뿐만 아니라 상품진열, 홈쇼핑의 경우는 방송순서에도 적용\n",
    "    \n",
    "### <b>■ 연관규칙 기본 용어 정리</b> \n",
    "    1. 규칙 : \"if condition then result\" A→B\n",
    "    2. 연관규칙(association rule)\n",
    "        특정 사건이 발생하였을 때 함께(빈번하게) 발생하는 또다른 사건의 규칙\n",
    "### <b>■ 연관규칙에서 사용하는 3가지 통계척도</b> \n",
    "    1. 지지도(support)\n",
    "    2. 신뢰도(confidence)\n",
    "    3. 향상도(lift)\n",
    "#### <b>■ 지지도 : 특정 아이템이 데이터에서 발생하는 빈도</b> \n",
    "<br>\n",
    "<b>1. X 아이템의 지지도</b><br>\n",
    "$$ support(X) = {{n(X) : X의 거래건수}\\over{N : 전체 거래건수}}$$<br>\n",
    "<center><b> support(X) : X의 지지도</b></center><br><br>\n",
    "<b>2. 두 아이템 X, Y의 지지도</b><br>\n",
    "$$ support(X→Y)={{n(X\\cap Y) : 아이템　X와　Y를　포함하는　전체　거래건수}\\over{N : 전체　거래건수}}$$<br>\n",
    "\n",
    "#### <b>■ 신뢰도 : 두 아이템의 연관규칙이 유용한 규칙일 가능성의 척도</b> \n",
    "<br>\n",
    "$$ confidence(X→Y)={{n(X\\cap Y) : X와　Y를　포함하는　전체　거래건수}\\over {n(X) : X의　거래건수}} $$\n",
    "\n",
    "    아이템 X를 포함한 거래 중에서 아이템 Y도 포함하는 거래비율(조건부 확률)을 말한다\n",
    "\n",
    "#### <b>■ 향상도 : 두 아이템의 연관규칙이 유용한 규칙일 가능성의 척도</b> \n",
    "<br>\n",
    "$$ lift(X→Y)={{c(X→Y)}\\over {s(Y)}}$$<br>\n",
    "\n",
    "    아이템 X가 주어지지 않았을 때의 아이템 Y의 확률대비 아이템 X가 주어졌을 때의 아이템 Y의 확률증가 비율\n",
    "    향상도가 1보다 크거나 작다면 우연적 기회보다 우수함을 의미"
   ]
  },
  {
   "cell_type": "markdown",
   "metadata": {},
   "source": [
    "### ※ 문제277. (점심시간 문제) 다음의 데이터의 지지도를 구하시오\n",
    "    거래번호        거래 아이템             지지도(우유→시리얼)\n",
    "      1            우유, 버터, 시리얼\n",
    "      2            우유, 시리얼            우유와 시리얼을 동시에 구매할 확률\n",
    "      3            우유, 빵\n",
    "      4            버터, 맥주, 오징어"
   ]
  },
  {
   "cell_type": "markdown",
   "metadata": {},
   "source": [
    "답: ${{2}\\over {4}}*100=50(\\%)$"
   ]
  },
  {
   "cell_type": "markdown",
   "metadata": {},
   "source": [
    "### ※ 문제278. 우유를 구매할 때 시리얼도 같이 구매할 신뢰도를 구하시오(조건부확률)\n",
    "    거래번호        거래 아이템             신뢰도(우유→시리얼)\n",
    "      1            우유, 버터, 시리얼\n",
    "      2            우유, 시리얼            \n",
    "      3            우유, 빵\n",
    "      4            버터, 맥주, 오징어"
   ]
  },
  {
   "cell_type": "markdown",
   "metadata": {},
   "source": [
    "답: ${{2}\\over {3}}*100\\approx 67(\\%)$"
   ]
  },
  {
   "cell_type": "markdown",
   "metadata": {},
   "source": [
    "### ※ 문제279. 우유를 구매할 때 시리얼도 같이 구매할 향상도를 구하시오\n",
    "    거래번호        거래 아이템             향상도(우유→시리얼)\n",
    "      1            우유, 버터, 시리얼\n",
    "      2            우유, 시리얼            \n",
    "      3            우유, 빵\n",
    "      4            버터, 맥주, 오징어"
   ]
  },
  {
   "cell_type": "markdown",
   "metadata": {},
   "source": [
    "답: ${{{2}\\over {3}}\\over {{2}\\over {4}}}\\approx 1.33$"
   ]
  },
  {
   "cell_type": "markdown",
   "metadata": {},
   "source": [
    "### ※ 우유와 시리얼을 샀을 때의 지지도, 신뢰도를 각각 구하시오\n",
    "    거래번호        거래 아이템             지지도(우유→시리얼)\n",
    "      1            우유, 버터, 시리얼\n",
    "      2            우유, 시리얼            우유와 시리얼을 동시에 구매할 확률\n",
    "      3            우유, 빵\n",
    "      4            버터, 맥주, 오징어\n",
    "\n",
    "                       지지도         신뢰도\n",
    "    우유 -> 시리얼       50%            66%\n",
    "    시리얼 -> 우유       50%           100%\n",
    "    \n",
    "#### <b>연관규칙을 사람이 하기 어렵고 컴퓨터를 시켜야 하는 이유</b>\n",
    "    아이템의 집합을 아이템의 개수만큼 만들려면 아이템의 개수를 k라고 하면 2의 k 제곱개의 아이템 집합이 생성\n",
    "    예를들어 아이템이 100개면 2의 100제곱개 아이템 집합이 생기므로 데이터의 지지도, 신뢰도, 향상도를 다 구해서 그 중 값이 가장 큰 것이 어떤것인지 분석 어려움\n",
    "    \n",
    "    컴퓨터에게 계산을 시켰을 때 효율적으로 시켜야 함"
   ]
  },
  {
   "cell_type": "markdown",
   "metadata": {},
   "source": [
    "#### <b>■ 효율적인 연관규칙 탐색 알고리즘 -- pruning </b>\n",
    "        거래번호           아이템 목록\n",
    "          1               A, B, D\n",
    "          2               B, C\n",
    "          3               A, B, C, E\n",
    "          4               B, C, E\n",
    "          \n",
    "    ※ 1단계 : 아이템들에 대해 아이템 1개에 대한 지지도를 구한다.\n",
    "        지지도 = 구매건수/전체구매건수, 단순하게 아이템의 개수로 처리\n",
    "        \n",
    "        아이템    지지도       거래번호          아이템 목록\n",
    "          A        2             1               A, B, D\n",
    "          B        4             2               B, C\n",
    "          C        3             3               A, B, C, E\n",
    "          D        1             4               B, C, E\n",
    "          E        2\n",
    "\n",
    "        위의 결과에서 지지도가 1보다 큰 것만 추출해서 다시 정리\n",
    "    \n",
    "        아이템        지지도       거래번호          아이템 목록\n",
    "          A            2             1               A, B, D\n",
    "          B            4             2               B, C\n",
    "          C            3             3               A, B, C, E\n",
    "          E            2             4               B, C, E\n",
    "          \n",
    "    ※ 2단계 : 연관규칙을 파악하기 위해 아이템들 간의 조합으로 구성하고 지지도를 다시 구한다. (두가지 조합)\n",
    "    \n",
    "        아이템        지지도\n",
    "         A, B          2\n",
    "         A, C          1\n",
    "         A, E          1\n",
    "         B, C          3\n",
    "         B, E          2\n",
    "         C, E          2\n",
    "         \n",
    "         위의 결과에서 지지도가 1보다 큰 것만 추출해서 다시 정리\n",
    "\n",
    "        아이템        지지도\n",
    "         A, B          2\n",
    "         B, C          3\n",
    "         B, E          2\n",
    "         C, E          2\n",
    "     \n",
    "         위의 A, B, C, E로 만들 수 있는 3개 조합\n",
    "         \n",
    "        아이템        지지도\n",
    "         A, B, C       1\n",
    "         A, B, E       1\n",
    "         A, C, E       1\n",
    "         B, C, E       2       \n",
    "         \n",
    "         위의 결과에서 지지도가 1보다 큰 것만 추출해서 다시 정리\n",
    "         B, C, E       2       "
   ]
  },
  {
   "cell_type": "markdown",
   "metadata": {},
   "source": [
    "## ■ Apriori 알고리즘 예제 1  (맥주와 기저귀)"
   ]
  },
  {
   "cell_type": "code",
   "execution_count": null,
   "metadata": {},
   "outputs": [],
   "source": [
    "# 1. 데이터를 로드한다. \n",
    "\n",
    "x <- data.frame(beer=c(0,1,1,1,0),\n",
    "                bread=c(1,1,0,1,1),\n",
    "                cola=c(0,0,1,0,1),\n",
    "                diapers=c(0,1,1,1,1),\n",
    "                eggs=c(0,1,0,0,0),\n",
    "                milk=c(1,0,1,1,1) )\n",
    "x \n",
    "\n",
    "#   beer bread cola diapers eggs milk\n",
    "# 1    0     1    0       0    0    1\n",
    "# 2    1     1    0       1    1    0\n",
    "# 3    1     0    1       1    0    1\n",
    "# 4    1     1    0       1    0    1\n",
    "# 5    0     1    1       1    0    1\n",
    "\n",
    "# 2. arules 패키지를 설치한다. \n",
    "install.packages(\"arules\")  \n",
    "library(arules)\n",
    "\n",
    "trans <-  as.matrix( x, \"Transaction\") \n",
    "trans \n",
    "\n",
    "# 3. apriori 함수를 이용해서 연관관계를 분석한다. \n",
    "rules1 <- apriori(trans, parameter=list(supp=0.2, conf=0.6, target=\"rules\") )\n",
    "rules1\n",
    "\n",
    "inspect(sort(rules1)) \n",
    "\n",
    "# 4. 위의 맥주와 기저귀 연관 관계를 시각화 하기 \n",
    "install.packages(\"sna\")\n",
    "install.packages(\"rgl\")\n",
    "library(sna)\n",
    "library(rgl)\n",
    "\n",
    "b2 <- t(as.matrix(trans)) %*% as.matrix(trans) \n",
    "\n",
    "library(sna)\n",
    "library(rgl)\n",
    "\n",
    "b2.w <- b2 - diag(diag(b2))\n",
    "\n",
    "gplot(b2.w , displaylabel=T , \n",
    "      vertex.cex=sqrt(diag(b2)) , \n",
    "      vertex.col = \"green\" , \n",
    "      edge.col=\"blue\" , \n",
    "      boxed.labels=F , \n",
    "      arrowhead.cex = .3 , \n",
    "      label.pos = 3 , \n",
    "      edge.lwd = b2.w*2) "
   ]
  },
  {
   "cell_type": "code",
   "execution_count": null,
   "metadata": {},
   "outputs": [],
   "source": []
  },
  {
   "cell_type": "code",
   "execution_count": null,
   "metadata": {},
   "outputs": [],
   "source": []
  },
  {
   "cell_type": "code",
   "execution_count": null,
   "metadata": {},
   "outputs": [],
   "source": []
  },
  {
   "cell_type": "code",
   "execution_count": null,
   "metadata": {},
   "outputs": [],
   "source": []
  }
 ],
 "metadata": {
  "kernelspec": {
   "display_name": "R",
   "language": "R",
   "name": "ir"
  },
  "language_info": {
   "codemirror_mode": "r",
   "file_extension": ".r",
   "mimetype": "text/x-r-source",
   "name": "R",
   "pygments_lexer": "r",
   "version": "3.6.1"
  },
  "toc": {
   "base_numbering": 1,
   "nav_menu": {},
   "number_sections": true,
   "sideBar": true,
   "skip_h1_title": false,
   "title_cell": "Table of Contents",
   "title_sidebar": "Contents",
   "toc_cell": false,
   "toc_position": {},
   "toc_section_display": true,
   "toc_window_display": false
  },
  "varInspector": {
   "cols": {
    "lenName": 16,
    "lenType": 16,
    "lenVar": 40
   },
   "kernels_config": {
    "python": {
     "delete_cmd_postfix": "",
     "delete_cmd_prefix": "del ",
     "library": "var_list.py",
     "varRefreshCmd": "print(var_dic_list())"
    },
    "r": {
     "delete_cmd_postfix": ") ",
     "delete_cmd_prefix": "rm(",
     "library": "var_list.r",
     "varRefreshCmd": "cat(var_dic_list()) "
    }
   },
   "types_to_exclude": [
    "module",
    "function",
    "builtin_function_or_method",
    "instance",
    "_Feature"
   ],
   "window_display": false
  }
 },
 "nbformat": 4,
 "nbformat_minor": 4
}
