{
 "cells": [
  {
   "cell_type": "markdown",
   "metadata": {},
   "source": [
    "### ■ 직업, 직업별 토탈 월급을 출력하시오"
   ]
  },
  {
   "cell_type": "markdown",
   "metadata": {},
   "source": [
    "### ※ 문제79. 부서위치, 부서위치별 토탈월급을 출력하시오"
   ]
  },
  {
   "cell_type": "code",
   "execution_count": 4,
   "metadata": {
    "ExecuteTime": {
     "end_time": "2020-06-15T00:57:17.825144Z",
     "start_time": "2020-06-15T00:57:17.795Z"
    }
   },
   "outputs": [
    {
     "data": {
      "text/html": [
       "'D:/R'"
      ],
      "text/latex": [
       "'D:/R'"
      ],
      "text/markdown": [
       "'D:/R'"
      ],
      "text/plain": [
       "[1] \"D:/R\""
      ]
     },
     "metadata": {},
     "output_type": "display_data"
    }
   ],
   "source": [
    "getwd()"
   ]
  },
  {
   "cell_type": "code",
   "execution_count": 15,
   "metadata": {
    "ExecuteTime": {
     "end_time": "2020-06-15T01:05:58.911564Z",
     "start_time": "2020-06-15T01:05:58.869Z"
    }
   },
   "outputs": [
    {
     "data": {
      "text/html": [
       "<table>\n",
       "<thead><tr><th scope=col>loc</th><th scope=col>sal</th></tr></thead>\n",
       "<tbody>\n",
       "\t<tr><td>BOSTON  </td><td>   NA   </td></tr>\n",
       "\t<tr><td>CHICAGO </td><td> 9400   </td></tr>\n",
       "\t<tr><td>DALLAS  </td><td>10875   </td></tr>\n",
       "\t<tr><td>NEW YORK</td><td> 8750   </td></tr>\n",
       "</tbody>\n",
       "</table>\n"
      ],
      "text/latex": [
       "\\begin{tabular}{r|ll}\n",
       " loc & sal\\\\\n",
       "\\hline\n",
       "\t BOSTON   &    NA   \\\\\n",
       "\t CHICAGO  &  9400   \\\\\n",
       "\t DALLAS   & 10875   \\\\\n",
       "\t NEW YORK &  8750   \\\\\n",
       "\\end{tabular}\n"
      ],
      "text/markdown": [
       "\n",
       "| loc | sal |\n",
       "|---|---|\n",
       "| BOSTON   |    NA    |\n",
       "| CHICAGO  |  9400    |\n",
       "| DALLAS   | 10875    |\n",
       "| NEW YORK |  8750    |\n",
       "\n"
      ],
      "text/plain": [
       "  loc      sal  \n",
       "1 BOSTON      NA\n",
       "2 CHICAGO   9400\n",
       "3 DALLAS   10875\n",
       "4 NEW YORK  8750"
      ]
     },
     "metadata": {},
     "output_type": "display_data"
    }
   ],
   "source": [
    "dept=read.csv('dept.csv', header=T)\n",
    "x=merge(emp, dept, by='deptno',all=T)\n",
    "aggregate(sal~loc, x, sum, na.action = na.pass) # na.pass를 작성해야 NA값도 출력"
   ]
  },
  {
   "cell_type": "code",
   "execution_count": 11,
   "metadata": {
    "ExecuteTime": {
     "end_time": "2020-06-15T00:59:09.477633Z",
     "start_time": "2020-06-15T00:59:09.443Z"
    }
   },
   "outputs": [
    {
     "name": "stderr",
     "output_type": "stream",
     "text": [
      "The following objects are masked from x (pos = 3):\n",
      "\n",
      "    comm, deptno, dname, empno, ename, hiredate, index, job, loc, mgr,\n",
      "    sal\n",
      "\n",
      "The following objects are masked from x (pos = 4):\n",
      "\n",
      "    comm, deptno, dname, empno, ename, hiredate, index, job, loc, mgr,\n",
      "    sal\n",
      "\n"
     ]
    }
   ],
   "source": [
    "attach(x)"
   ]
  },
  {
   "cell_type": "code",
   "execution_count": 14,
   "metadata": {
    "ExecuteTime": {
     "end_time": "2020-06-15T00:59:28.778654Z",
     "start_time": "2020-06-15T00:59:28.743Z"
    }
   },
   "outputs": [
    {
     "data": {
      "text/html": [
       "<table>\n",
       "<thead><tr><th></th><th scope=col>부서위치별</th></tr></thead>\n",
       "<tbody>\n",
       "\t<tr><th scope=row>BOSTON</th><td>   NA</td></tr>\n",
       "\t<tr><th scope=row>CHICAGO</th><td> 9400</td></tr>\n",
       "\t<tr><th scope=row>DALLAS</th><td>10875</td></tr>\n",
       "\t<tr><th scope=row>NEW YORK</th><td> 8750</td></tr>\n",
       "</tbody>\n",
       "</table>\n"
      ],
      "text/latex": [
       "\\begin{tabular}{r|l}\n",
       "  & 부서위치별\\\\\n",
       "\\hline\n",
       "\tBOSTON &    NA\\\\\n",
       "\tCHICAGO &  9400\\\\\n",
       "\tDALLAS & 10875\\\\\n",
       "\tNEW YORK &  8750\\\\\n",
       "\\end{tabular}\n"
      ],
      "text/markdown": [
       "\n",
       "| <!--/--> | 부서위치별 |\n",
       "|---|---|\n",
       "| BOSTON |    NA |\n",
       "| CHICAGO |  9400 |\n",
       "| DALLAS | 10875 |\n",
       "| NEW YORK |  8750 |\n",
       "\n"
      ],
      "text/plain": [
       "         부서위치별\n",
       "BOSTON      NA     \n",
       "CHICAGO   9400     \n",
       "DALLAS   10875     \n",
       "NEW YORK  8750     "
      ]
     },
     "metadata": {},
     "output_type": "display_data"
    }
   ],
   "source": [
    "data.frame(부서위치별=tapply(sal, loc, sum))"
   ]
  },
  {
   "cell_type": "markdown",
   "metadata": {},
   "source": [
    "### ※ 문제80. 부서명, 부서명별 평균월급을 출력하시오"
   ]
  },
  {
   "cell_type": "code",
   "execution_count": 25,
   "metadata": {
    "ExecuteTime": {
     "end_time": "2020-06-15T01:15:15.856846Z",
     "start_time": "2020-06-15T01:15:15.819Z"
    }
   },
   "outputs": [
    {
     "data": {
      "text/html": [
       "<table>\n",
       "<thead><tr><th scope=col>dname</th><th scope=col>sal</th></tr></thead>\n",
       "<tbody>\n",
       "\t<tr><td>ACCOUNTING</td><td>2917      </td></tr>\n",
       "\t<tr><td>OPERATIONS</td><td>  NA      </td></tr>\n",
       "\t<tr><td>RESEARCH  </td><td>2175      </td></tr>\n",
       "\t<tr><td>SALES     </td><td>1567      </td></tr>\n",
       "</tbody>\n",
       "</table>\n"
      ],
      "text/latex": [
       "\\begin{tabular}{r|ll}\n",
       " dname & sal\\\\\n",
       "\\hline\n",
       "\t ACCOUNTING & 2917      \\\\\n",
       "\t OPERATIONS &   NA      \\\\\n",
       "\t RESEARCH   & 2175      \\\\\n",
       "\t SALES      & 1567      \\\\\n",
       "\\end{tabular}\n"
      ],
      "text/markdown": [
       "\n",
       "| dname | sal |\n",
       "|---|---|\n",
       "| ACCOUNTING | 2917       |\n",
       "| OPERATIONS |   NA       |\n",
       "| RESEARCH   | 2175       |\n",
       "| SALES      | 1567       |\n",
       "\n"
      ],
      "text/plain": [
       "  dname      sal \n",
       "1 ACCOUNTING 2917\n",
       "2 OPERATIONS   NA\n",
       "3 RESEARCH   2175\n",
       "4 SALES      1567"
      ]
     },
     "metadata": {},
     "output_type": "display_data"
    }
   ],
   "source": [
    "x2=aggregate(sal~dname, x, mean, na.action=na.pass)\n",
    "x2$sal=round(x2$sal)\n",
    "x2"
   ]
  },
  {
   "cell_type": "markdown",
   "metadata": {},
   "source": [
    "### ※ 문제81. 위의 결과를 막대그래프로 시각화하시오\n",
    "```R\n",
    "barplot으로 막대그래프를 그릴때는 가로로 출력한 데이터가 필요\n",
    "```"
   ]
  },
  {
   "cell_type": "code",
   "execution_count": 28,
   "metadata": {
    "ExecuteTime": {
     "end_time": "2020-06-15T01:22:37.465645Z",
     "start_time": "2020-06-15T01:22:37.360Z"
    }
   },
   "outputs": [
    {
     "data": {
      "image/png": "[encoded data removed]",
      "text/plain": [
       "plot without title"
      ]
     },
     "metadata": {},
     "output_type": "display_data"
    }
   ],
   "source": [
    "x3=tapply(x$sal, x$dname,mean)\n",
    "barplot(x3,ylim=c(0,3000),col=rainbow(4) )"
   ]
  },
  {
   "cell_type": "markdown",
   "metadata": {},
   "source": [
    "### ※ 문제82. 위의 결과를 구글 막대 그래프로 그리시오"
   ]
  },
  {
   "cell_type": "code",
   "execution_count": 29,
   "metadata": {
    "ExecuteTime": {
     "end_time": "2020-06-15T01:22:50.309469Z",
     "start_time": "2020-06-15T01:22:50.158Z"
    }
   },
   "outputs": [
    {
     "name": "stderr",
     "output_type": "stream",
     "text": [
      "Warning message:\n",
      "\"package 'googleVis' was built under R version 3.6.3\"Creating a generic function for 'toJSON' from package 'jsonlite' in package 'googleVis'\n",
      "\n",
      "Welcome to googleVis version 0.6.5\n",
      "\n",
      "Please read Google's Terms of Use\n",
      "before you start using the package:\n",
      "https://developers.google.com/terms/\n",
      "\n",
      "Note, the plot method of googleVis will by default use\n",
      "the standard browser to display its output.\n",
      "\n",
      "See the googleVis package vignettes for more details,\n",
      "or visit https://github.com/mages/googleVis.\n",
      "\n",
      "To suppress this message use:\n",
      "suppressPackageStartupMessages(library(googleVis))\n",
      "\n"
     ]
    }
   ],
   "source": [
    "library(googleVis)"
   ]
  },
  {
   "cell_type": "code",
   "execution_count": 31,
   "metadata": {
    "ExecuteTime": {
     "end_time": "2020-06-15T01:25:20.181253Z",
     "start_time": "2020-06-15T01:25:19.794Z"
    }
   },
   "outputs": [
    {
     "name": "stderr",
     "output_type": "stream",
     "text": [
      "starting httpd help server ... done\n"
     ]
    }
   ],
   "source": [
    "x3=data.frame(x2)\n",
    "x4=gvisBarChart(x3)\n",
    "plot(x4)"
   ]
  },
  {
   "cell_type": "markdown",
   "metadata": {},
   "source": [
    "### ※ 문제83. 아래와 같이 결과를 출력하시오\n",
    "```\n",
    "           1980 1981 1982 1983\n",
    "\n",
    "BOSTON     NA   NA    NA   NA\n",
    "\n",
    "CHICAGO    NA  9400   NA   NA\n",
    "\n",
    "DALLAS     800  5975   3000 1100\n",
    "\n",
    "NEW YORK   NA  7450  1300   NA\n",
    "```\n"
   ]
  },
  {
   "cell_type": "code",
   "execution_count": 33,
   "metadata": {
    "ExecuteTime": {
     "end_time": "2020-06-15T01:48:47.057212Z",
     "start_time": "2020-06-15T01:48:46.845Z"
    }
   },
   "outputs": [
    {
     "name": "stderr",
     "output_type": "stream",
     "text": [
      "Warning message:\n",
      "\"package 'lubridate' was built under R version 3.6.3\"\n",
      "Attaching package: 'lubridate'\n",
      "\n",
      "The following objects are masked from 'package:base':\n",
      "\n",
      "    date, intersect, setdiff, union\n",
      "\n"
     ]
    }
   ],
   "source": [
    "library(lubridate)"
   ]
  },
  {
   "cell_type": "code",
   "execution_count": 36,
   "metadata": {
    "ExecuteTime": {
     "end_time": "2020-06-15T01:53:05.288788Z",
     "start_time": "2020-06-15T01:53:05.253Z"
    }
   },
   "outputs": [
    {
     "name": "stderr",
     "output_type": "stream",
     "text": [
      "Warning message:\n",
      "\"tz(): Don't know how to compute timezone for object of class factor; returning \"UTC\". This warning will become an error in the next major version of lubridate.\""
     ]
    },
    {
     "data": {
      "text/html": [
       "<table>\n",
       "<thead><tr><th></th><th scope=col>1980</th><th scope=col>1981</th><th scope=col>1982</th><th scope=col>1983</th></tr></thead>\n",
       "<tbody>\n",
       "\t<tr><th scope=row>BOSTON</th><td> NA </td><td>  NA</td><td>  NA</td><td>  NA</td></tr>\n",
       "\t<tr><th scope=row>CHICAGO</th><td> NA </td><td>9400</td><td>  NA</td><td>  NA</td></tr>\n",
       "\t<tr><th scope=row>DALLAS</th><td>800 </td><td>5975</td><td>3000</td><td>1100</td></tr>\n",
       "\t<tr><th scope=row>NEW YORK</th><td> NA </td><td>7450</td><td>1300</td><td>  NA</td></tr>\n",
       "</tbody>\n",
       "</table>\n"
      ],
      "text/latex": [
       "\\begin{tabular}{r|llll}\n",
       "  & 1980 & 1981 & 1982 & 1983\\\\\n",
       "\\hline\n",
       "\tBOSTON &  NA  &   NA &   NA &   NA\\\\\n",
       "\tCHICAGO &  NA  & 9400 &   NA &   NA\\\\\n",
       "\tDALLAS & 800  & 5975 & 3000 & 1100\\\\\n",
       "\tNEW YORK &  NA  & 7450 & 1300 &   NA\\\\\n",
       "\\end{tabular}\n"
      ],
      "text/markdown": [
       "\n",
       "| <!--/--> | 1980 | 1981 | 1982 | 1983 |\n",
       "|---|---|---|---|---|\n",
       "| BOSTON |  NA  |   NA |   NA |   NA |\n",
       "| CHICAGO |  NA  | 9400 |   NA |   NA |\n",
       "| DALLAS | 800  | 5975 | 3000 | 1100 |\n",
       "| NEW YORK |  NA  | 7450 | 1300 |   NA |\n",
       "\n"
      ],
      "text/plain": [
       "         1980 1981 1982 1983\n",
       "BOSTON    NA    NA   NA   NA\n",
       "CHICAGO   NA  9400   NA   NA\n",
       "DALLAS   800  5975 3000 1100\n",
       "NEW YORK  NA  7450 1300   NA"
      ]
     },
     "metadata": {},
     "output_type": "display_data"
    }
   ],
   "source": [
    "# year(x$hiredate) : lubridate package library\n",
    "tapply(x$sal,list(x$loc,year(x$hiredate)),sum)"
   ]
  },
  {
   "cell_type": "markdown",
   "metadata": {},
   "source": [
    "### ※ 문제84. "
   ]
  },
  {
   "cell_type": "code",
   "execution_count": null,
   "metadata": {},
   "outputs": [],
   "source": []
  },
  {
   "cell_type": "code",
   "execution_count": null,
   "metadata": {},
   "outputs": [],
   "source": []
  },
  {
   "cell_type": "code",
   "execution_count": null,
   "metadata": {},
   "outputs": [],
   "source": []
  },
  {
   "cell_type": "code",
   "execution_count": null,
   "metadata": {},
   "outputs": [],
   "source": []
  },
  {
   "cell_type": "code",
   "execution_count": null,
   "metadata": {},
   "outputs": [],
   "source": []
  },
  {
   "cell_type": "code",
   "execution_count": null,
   "metadata": {},
   "outputs": [],
   "source": []
  }
 ],
 "metadata": {
  "kernelspec": {
   "display_name": "R",
   "language": "R",
   "name": "ir"
  },
  "language_info": {
   "codemirror_mode": "r",
   "file_extension": ".r",
   "mimetype": "text/x-r-source",
   "name": "R",
   "pygments_lexer": "r",
   "version": "3.6.1"
  },
  "toc": {
   "base_numbering": 1,
   "nav_menu": {},
   "number_sections": true,
   "sideBar": true,
   "skip_h1_title": false,
   "title_cell": "Table of Contents",
   "title_sidebar": "Contents",
   "toc_cell": false,
   "toc_position": {},
   "toc_section_display": true,
   "toc_window_display": false
  },
  "varInspector": {
   "cols": {
    "lenName": 16,
    "lenType": 16,
    "lenVar": 40
   },
   "kernels_config": {
    "python": {
     "delete_cmd_postfix": "",
     "delete_cmd_prefix": "del ",
     "library": "var_list.py",
     "varRefreshCmd": "print(var_dic_list())"
    },
    "r": {
     "delete_cmd_postfix": ") ",
     "delete_cmd_prefix": "rm(",
     "library": "var_list.r",
     "varRefreshCmd": "cat(var_dic_list()) "
    }
   },
   "types_to_exclude": [
    "module",
    "function",
    "builtin_function_or_method",
    "instance",
    "_Feature"
   ],
   "window_display": false
  }
 },
 "nbformat": 4,
 "nbformat_minor": 4
}
