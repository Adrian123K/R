{
 "cells": [
  {
   "cell_type": "markdown",
   "metadata": {},
   "source": [
    "### ■ 직업, 직업별 토탈 월급을 출력하시오"
   ]
  },
  {
   "cell_type": "markdown",
   "metadata": {},
   "source": [
    "### ※ 문제79. 부서위치, 부서위치별 토탈월급을 출력하시오"
   ]
  },
  {
   "cell_type": "code",
   "execution_count": 4,
   "metadata": {
    "ExecuteTime": {
     "end_time": "2020-06-15T00:57:17.825144Z",
     "start_time": "2020-06-15T00:57:17.795Z"
    }
   },
   "outputs": [
    {
     "data": {
      "text/html": [
       "'D:/R'"
      ],
      "text/latex": [
       "'D:/R'"
      ],
      "text/markdown": [
       "'D:/R'"
      ],
      "text/plain": [
       "[1] \"D:/R\""
      ]
     },
     "metadata": {},
     "output_type": "display_data"
    }
   ],
   "source": [
    "getwd()"
   ]
  },
  {
   "cell_type": "code",
   "execution_count": 15,
   "metadata": {
    "ExecuteTime": {
     "end_time": "2020-06-15T01:05:58.911564Z",
     "start_time": "2020-06-15T01:05:58.869Z"
    }
   },
   "outputs": [
    {
     "data": {
      "text/html": [
       "<table>\n",
       "<thead><tr><th scope=col>loc</th><th scope=col>sal</th></tr></thead>\n",
       "<tbody>\n",
       "\t<tr><td>BOSTON  </td><td>   NA   </td></tr>\n",
       "\t<tr><td>CHICAGO </td><td> 9400   </td></tr>\n",
       "\t<tr><td>DALLAS  </td><td>10875   </td></tr>\n",
       "\t<tr><td>NEW YORK</td><td> 8750   </td></tr>\n",
       "</tbody>\n",
       "</table>\n"
      ],
      "text/latex": [
       "\\begin{tabular}{r|ll}\n",
       " loc & sal\\\\\n",
       "\\hline\n",
       "\t BOSTON   &    NA   \\\\\n",
       "\t CHICAGO  &  9400   \\\\\n",
       "\t DALLAS   & 10875   \\\\\n",
       "\t NEW YORK &  8750   \\\\\n",
       "\\end{tabular}\n"
      ],
      "text/markdown": [
       "\n",
       "| loc | sal |\n",
       "|---|---|\n",
       "| BOSTON   |    NA    |\n",
       "| CHICAGO  |  9400    |\n",
       "| DALLAS   | 10875    |\n",
       "| NEW YORK |  8750    |\n",
       "\n"
      ],
      "text/plain": [
       "  loc      sal  \n",
       "1 BOSTON      NA\n",
       "2 CHICAGO   9400\n",
       "3 DALLAS   10875\n",
       "4 NEW YORK  8750"
      ]
     },
     "metadata": {},
     "output_type": "display_data"
    }
   ],
   "source": [
    "dept=read.csv('dept.csv', header=T)\n",
    "x=merge(emp, dept, by='deptno',all=T)\n",
    "aggregate(sal~loc, x, sum, na.action = na.pass) # na.pass를 작성해야 NA값도 출력"
   ]
  },
  {
   "cell_type": "code",
   "execution_count": 11,
   "metadata": {
    "ExecuteTime": {
     "end_time": "2020-06-15T00:59:09.477633Z",
     "start_time": "2020-06-15T00:59:09.443Z"
    }
   },
   "outputs": [
    {
     "name": "stderr",
     "output_type": "stream",
     "text": [
      "The following objects are masked from x (pos = 3):\n",
      "\n",
      "    comm, deptno, dname, empno, ename, hiredate, index, job, loc, mgr,\n",
      "    sal\n",
      "\n",
      "The following objects are masked from x (pos = 4):\n",
      "\n",
      "    comm, deptno, dname, empno, ename, hiredate, index, job, loc, mgr,\n",
      "    sal\n",
      "\n"
     ]
    }
   ],
   "source": [
    "attach(x)"
   ]
  },
  {
   "cell_type": "code",
   "execution_count": 14,
   "metadata": {
    "ExecuteTime": {
     "end_time": "2020-06-15T00:59:28.778654Z",
     "start_time": "2020-06-15T00:59:28.743Z"
    }
   },
   "outputs": [
    {
     "data": {
      "text/html": [
       "<table>\n",
       "<thead><tr><th></th><th scope=col>부서위치별</th></tr></thead>\n",
       "<tbody>\n",
       "\t<tr><th scope=row>BOSTON</th><td>   NA</td></tr>\n",
       "\t<tr><th scope=row>CHICAGO</th><td> 9400</td></tr>\n",
       "\t<tr><th scope=row>DALLAS</th><td>10875</td></tr>\n",
       "\t<tr><th scope=row>NEW YORK</th><td> 8750</td></tr>\n",
       "</tbody>\n",
       "</table>\n"
      ],
      "text/latex": [
       "\\begin{tabular}{r|l}\n",
       "  & 부서위치별\\\\\n",
       "\\hline\n",
       "\tBOSTON &    NA\\\\\n",
       "\tCHICAGO &  9400\\\\\n",
       "\tDALLAS & 10875\\\\\n",
       "\tNEW YORK &  8750\\\\\n",
       "\\end{tabular}\n"
      ],
      "text/markdown": [
       "\n",
       "| <!--/--> | 부서위치별 |\n",
       "|---|---|\n",
       "| BOSTON |    NA |\n",
       "| CHICAGO |  9400 |\n",
       "| DALLAS | 10875 |\n",
       "| NEW YORK |  8750 |\n",
       "\n"
      ],
      "text/plain": [
       "         부서위치별\n",
       "BOSTON      NA     \n",
       "CHICAGO   9400     \n",
       "DALLAS   10875     \n",
       "NEW YORK  8750     "
      ]
     },
     "metadata": {},
     "output_type": "display_data"
    }
   ],
   "source": [
    "data.frame(부서위치별=tapply(sal, loc, sum))"
   ]
  },
  {
   "cell_type": "markdown",
   "metadata": {},
   "source": [
    "### ※ 문제80. 부서명, 부서명별 평균월급을 출력하시오"
   ]
  },
  {
   "cell_type": "code",
   "execution_count": 25,
   "metadata": {
    "ExecuteTime": {
     "end_time": "2020-06-15T01:15:15.856846Z",
     "start_time": "2020-06-15T01:15:15.819Z"
    }
   },
   "outputs": [
    {
     "data": {
      "text/html": [
       "<table>\n",
       "<thead><tr><th scope=col>dname</th><th scope=col>sal</th></tr></thead>\n",
       "<tbody>\n",
       "\t<tr><td>ACCOUNTING</td><td>2917      </td></tr>\n",
       "\t<tr><td>OPERATIONS</td><td>  NA      </td></tr>\n",
       "\t<tr><td>RESEARCH  </td><td>2175      </td></tr>\n",
       "\t<tr><td>SALES     </td><td>1567      </td></tr>\n",
       "</tbody>\n",
       "</table>\n"
      ],
      "text/latex": [
       "\\begin{tabular}{r|ll}\n",
       " dname & sal\\\\\n",
       "\\hline\n",
       "\t ACCOUNTING & 2917      \\\\\n",
       "\t OPERATIONS &   NA      \\\\\n",
       "\t RESEARCH   & 2175      \\\\\n",
       "\t SALES      & 1567      \\\\\n",
       "\\end{tabular}\n"
      ],
      "text/markdown": [
       "\n",
       "| dname | sal |\n",
       "|---|---|\n",
       "| ACCOUNTING | 2917       |\n",
       "| OPERATIONS |   NA       |\n",
       "| RESEARCH   | 2175       |\n",
       "| SALES      | 1567       |\n",
       "\n"
      ],
      "text/plain": [
       "  dname      sal \n",
       "1 ACCOUNTING 2917\n",
       "2 OPERATIONS   NA\n",
       "3 RESEARCH   2175\n",
       "4 SALES      1567"
      ]
     },
     "metadata": {},
     "output_type": "display_data"
    }
   ],
   "source": [
    "x2=aggregate(sal~dname, x, mean, na.action=na.pass)\n",
    "x2$sal=round(x2$sal)\n",
    "x2"
   ]
  },
  {
   "cell_type": "markdown",
   "metadata": {},
   "source": [
    "### ※ 문제81. 위의 결과를 막대그래프로 시각화하시오\n",
    "```R\n",
    "barplot으로 막대그래프를 그릴때는 가로로 출력한 데이터가 필요\n",
    "```"
   ]
  },
  {
   "cell_type": "code",
   "execution_count": 28,
   "metadata": {
    "ExecuteTime": {
     "end_time": "2020-06-15T01:22:37.465645Z",
     "start_time": "2020-06-15T01:22:37.360Z"
    }
   },
   "outputs": [
    {
     "data": {
      "image/png": "[encoded data removed]",
      "text/plain": [
       "plot without title"
      ]
     },
     "metadata": {},
     "output_type": "display_data"
    }
   ],
   "source": [
    "x3=tapply(x$sal, x$dname,mean)\n",
    "barplot(x3,ylim=c(0,3000),col=rainbow(4) )"
   ]
  },
  {
   "cell_type": "markdown",
   "metadata": {},
   "source": [
    "### ※ 문제82. 위의 결과를 구글 막대 그래프로 그리시오"
   ]
  },
  {
   "cell_type": "code",
   "execution_count": 29,
   "metadata": {
    "ExecuteTime": {
     "end_time": "2020-06-15T01:22:50.309469Z",
     "start_time": "2020-06-15T01:22:50.158Z"
    }
   },
   "outputs": [
    {
     "name": "stderr",
     "output_type": "stream",
     "text": [
      "Warning message:\n",
      "\"package 'googleVis' was built under R version 3.6.3\"Creating a generic function for 'toJSON' from package 'jsonlite' in package 'googleVis'\n",
      "\n",
      "Welcome to googleVis version 0.6.5\n",
      "\n",
      "Please read Google's Terms of Use\n",
      "before you start using the package:\n",
      "https://developers.google.com/terms/\n",
      "\n",
      "Note, the plot method of googleVis will by default use\n",
      "the standard browser to display its output.\n",
      "\n",
      "See the googleVis package vignettes for more details,\n",
      "or visit https://github.com/mages/googleVis.\n",
      "\n",
      "To suppress this message use:\n",
      "suppressPackageStartupMessages(library(googleVis))\n",
      "\n"
     ]
    }
   ],
   "source": [
    "library(googleVis)"
   ]
  },
  {
   "cell_type": "code",
   "execution_count": 31,
   "metadata": {
    "ExecuteTime": {
     "end_time": "2020-06-15T01:25:20.181253Z",
     "start_time": "2020-06-15T01:25:19.794Z"
    }
   },
   "outputs": [
    {
     "name": "stderr",
     "output_type": "stream",
     "text": [
      "starting httpd help server ... done\n"
     ]
    }
   ],
   "source": [
    "x3=data.frame(x2)\n",
    "x4=gvisBarChart(x3)\n",
    "plot(x4)"
   ]
  },
  {
   "cell_type": "markdown",
   "metadata": {},
   "source": [
    "### ※ 문제83. 아래와 같이 결과를 출력하시오\n",
    "```\n",
    "           1980 1981 1982 1983\n",
    "\n",
    "BOSTON     NA   NA    NA   NA\n",
    "\n",
    "CHICAGO    NA  9400   NA   NA\n",
    "\n",
    "DALLAS     800  5975   3000 1100\n",
    "\n",
    "NEW YORK   NA  7450  1300   NA\n",
    "```\n"
   ]
  },
  {
   "cell_type": "code",
   "execution_count": 33,
   "metadata": {
    "ExecuteTime": {
     "end_time": "2020-06-15T01:48:47.057212Z",
     "start_time": "2020-06-15T01:48:46.845Z"
    }
   },
   "outputs": [
    {
     "name": "stderr",
     "output_type": "stream",
     "text": [
      "Warning message:\n",
      "\"package 'lubridate' was built under R version 3.6.3\"\n",
      "Attaching package: 'lubridate'\n",
      "\n",
      "The following objects are masked from 'package:base':\n",
      "\n",
      "    date, intersect, setdiff, union\n",
      "\n"
     ]
    }
   ],
   "source": [
    "library(lubridate)"
   ]
  },
  {
   "cell_type": "code",
   "execution_count": 36,
   "metadata": {
    "ExecuteTime": {
     "end_time": "2020-06-15T01:53:05.288788Z",
     "start_time": "2020-06-15T01:53:05.253Z"
    }
   },
   "outputs": [
    {
     "name": "stderr",
     "output_type": "stream",
     "text": [
      "Warning message:\n",
      "\"tz(): Don't know how to compute timezone for object of class factor; returning \"UTC\". This warning will become an error in the next major version of lubridate.\""
     ]
    },
    {
     "data": {
      "text/html": [
       "<table>\n",
       "<thead><tr><th></th><th scope=col>1980</th><th scope=col>1981</th><th scope=col>1982</th><th scope=col>1983</th></tr></thead>\n",
       "<tbody>\n",
       "\t<tr><th scope=row>BOSTON</th><td> NA </td><td>  NA</td><td>  NA</td><td>  NA</td></tr>\n",
       "\t<tr><th scope=row>CHICAGO</th><td> NA </td><td>9400</td><td>  NA</td><td>  NA</td></tr>\n",
       "\t<tr><th scope=row>DALLAS</th><td>800 </td><td>5975</td><td>3000</td><td>1100</td></tr>\n",
       "\t<tr><th scope=row>NEW YORK</th><td> NA </td><td>7450</td><td>1300</td><td>  NA</td></tr>\n",
       "</tbody>\n",
       "</table>\n"
      ],
      "text/latex": [
       "\\begin{tabular}{r|llll}\n",
       "  & 1980 & 1981 & 1982 & 1983\\\\\n",
       "\\hline\n",
       "\tBOSTON &  NA  &   NA &   NA &   NA\\\\\n",
       "\tCHICAGO &  NA  & 9400 &   NA &   NA\\\\\n",
       "\tDALLAS & 800  & 5975 & 3000 & 1100\\\\\n",
       "\tNEW YORK &  NA  & 7450 & 1300 &   NA\\\\\n",
       "\\end{tabular}\n"
      ],
      "text/markdown": [
       "\n",
       "| <!--/--> | 1980 | 1981 | 1982 | 1983 |\n",
       "|---|---|---|---|---|\n",
       "| BOSTON |  NA  |   NA |   NA |   NA |\n",
       "| CHICAGO |  NA  | 9400 |   NA |   NA |\n",
       "| DALLAS | 800  | 5975 | 3000 | 1100 |\n",
       "| NEW YORK |  NA  | 7450 | 1300 |   NA |\n",
       "\n"
      ],
      "text/plain": [
       "         1980 1981 1982 1983\n",
       "BOSTON    NA    NA   NA   NA\n",
       "CHICAGO   NA  9400   NA   NA\n",
       "DALLAS   800  5975 3000 1100\n",
       "NEW YORK  NA  7450 1300   NA"
      ]
     },
     "metadata": {},
     "output_type": "display_data"
    }
   ],
   "source": [
    "# year(x$hiredate) : lubridate package library\n",
    "tapply(x$sal,list(x$loc,year(x$hiredate)),sum)"
   ]
  },
  {
   "cell_type": "markdown",
   "metadata": {},
   "source": [
    "### ※ 문제84. 위의 결과를 다시 출력하는데 NA를 0으로 출력되게 하시오"
   ]
  },
  {
   "cell_type": "code",
   "execution_count": 42,
   "metadata": {
    "ExecuteTime": {
     "end_time": "2020-06-15T01:56:05.449116Z",
     "start_time": "2020-06-15T01:56:05.408Z"
    }
   },
   "outputs": [
    {
     "name": "stderr",
     "output_type": "stream",
     "text": [
      "Warning message:\n",
      "\"tz(): Don't know how to compute timezone for object of class factor; returning \"UTC\". This warning will become an error in the next major version of lubridate.\""
     ]
    },
    {
     "data": {
      "text/html": [
       "<table>\n",
       "<thead><tr><th></th><th scope=col>1980</th><th scope=col>1981</th><th scope=col>1982</th><th scope=col>1983</th></tr></thead>\n",
       "<tbody>\n",
       "\t<tr><th scope=row>BOSTON</th><td>  0 </td><td>   0</td><td>   0</td><td>   0</td></tr>\n",
       "\t<tr><th scope=row>CHICAGO</th><td>  0 </td><td>9400</td><td>   0</td><td>   0</td></tr>\n",
       "\t<tr><th scope=row>DALLAS</th><td>800 </td><td>5975</td><td>3000</td><td>1100</td></tr>\n",
       "\t<tr><th scope=row>NEW YORK</th><td>  0 </td><td>7450</td><td>1300</td><td>   0</td></tr>\n",
       "</tbody>\n",
       "</table>\n"
      ],
      "text/latex": [
       "\\begin{tabular}{r|llll}\n",
       "  & 1980 & 1981 & 1982 & 1983\\\\\n",
       "\\hline\n",
       "\tBOSTON &   0  &    0 &    0 &    0\\\\\n",
       "\tCHICAGO &   0  & 9400 &    0 &    0\\\\\n",
       "\tDALLAS & 800  & 5975 & 3000 & 1100\\\\\n",
       "\tNEW YORK &   0  & 7450 & 1300 &    0\\\\\n",
       "\\end{tabular}\n"
      ],
      "text/markdown": [
       "\n",
       "| <!--/--> | 1980 | 1981 | 1982 | 1983 |\n",
       "|---|---|---|---|---|\n",
       "| BOSTON |   0  |    0 |    0 |    0 |\n",
       "| CHICAGO |   0  | 9400 |    0 |    0 |\n",
       "| DALLAS | 800  | 5975 | 3000 | 1100 |\n",
       "| NEW YORK |   0  | 7450 | 1300 |    0 |\n",
       "\n"
      ],
      "text/plain": [
       "         1980 1981 1982 1983\n",
       "BOSTON     0     0    0    0\n",
       "CHICAGO    0  9400    0    0\n",
       "DALLAS   800  5975 3000 1100\n",
       "NEW YORK   0  7450 1300    0"
      ]
     },
     "metadata": {},
     "output_type": "display_data"
    }
   ],
   "source": [
    "rs=tapply(x$sal,list(x$loc,year(x$hiredate)),sum)\n",
    "rs[is.na(rs)]=0 # is.na(rs)가 true인 곳에 0으로 치환\n",
    "rs"
   ]
  },
  {
   "cell_type": "markdown",
   "metadata": {},
   "source": [
    "### ※ 문제85. 위의 결과를 막대그래프로 시각화하시오"
   ]
  },
  {
   "cell_type": "code",
   "execution_count": 52,
   "metadata": {
    "ExecuteTime": {
     "end_time": "2020-06-15T02:08:10.424854Z",
     "start_time": "2020-06-15T02:08:10.353Z"
    }
   },
   "outputs": [
    {
     "data": {
      "image/png": "[encoded data removed]",
      "text/plain": [
       "plot without title"
      ]
     },
     "metadata": {},
     "output_type": "display_data"
    }
   ],
   "source": [
    "barplot(rs, ylim=c(0,10000),col=rainbow(4), beside=T,legend=rownames(rs))\n",
    "# x= topright : 오른쪽 위로 이동\n",
    "# bty='n', legend의 box선 출력 X\n",
    "# inset = c(-0.1,0) legend의 좌표"
   ]
  },
  {
   "cell_type": "markdown",
   "metadata": {},
   "source": [
    "### ※ 문제86. 부서위치별 직업별 토탈월급을 막대그래프로 시각화 하시오"
   ]
  },
  {
   "cell_type": "code",
   "execution_count": 65,
   "metadata": {
    "ExecuteTime": {
     "end_time": "2020-06-15T02:13:52.243859Z",
     "start_time": "2020-06-15T02:13:52.167Z"
    }
   },
   "outputs": [
    {
     "data": {
      "image/png": "[encoded data removed]",
      "text/plain": [
       "plot without title"
      ]
     },
     "metadata": {},
     "output_type": "display_data"
    }
   ],
   "source": [
    "rs=tapply(x$sal,list(x$job,x$loc),sum)\n",
    "rs[is.na(rs)]=0\n",
    "barplot(rs, col=rainbow(5), beside=T, legend=rownames(rs), args.legend = list(x='topright',bty='n',inset=c(-0.1,-0.1)))"
   ]
  },
  {
   "cell_type": "code",
   "execution_count": 3,
   "metadata": {
    "ExecuteTime": {
     "end_time": "2020-06-15T02:28:40.820031Z",
     "start_time": "2020-06-15T02:28:40.723Z"
    }
   },
   "outputs": [
    {
     "name": "stderr",
     "output_type": "stream",
     "text": [
      "Warning message:\n",
      "\"package 'googleVis' was built under R version 3.6.3\"Creating a generic function for 'toJSON' from package 'jsonlite' in package 'googleVis'\n",
      "\n",
      "Welcome to googleVis version 0.6.5\n",
      "\n",
      "Please read Google's Terms of Use\n",
      "before you start using the package:\n",
      "https://developers.google.com/terms/\n",
      "\n",
      "Note, the plot method of googleVis will by default use\n",
      "the standard browser to display its output.\n",
      "\n",
      "See the googleVis package vignettes for more details,\n",
      "or visit https://github.com/mages/googleVis.\n",
      "\n",
      "To suppress this message use:\n",
      "suppressPackageStartupMessages(library(googleVis))\n",
      "\n"
     ]
    }
   ],
   "source": [
    "library(googleVis)"
   ]
  },
  {
   "cell_type": "code",
   "execution_count": 1,
   "metadata": {
    "ExecuteTime": {
     "end_time": "2020-06-15T02:28:20.589061Z",
     "start_time": "2020-06-15T02:28:20.506Z"
    }
   },
   "outputs": [
    {
     "data": {
      "text/html": [
       "<table>\n",
       "<thead><tr><th scope=col>line_no</th><th scope=col>time</th><th scope=col>in.</th><th scope=col>out</th></tr></thead>\n",
       "<tbody>\n",
       "\t<tr><td>line_1 </td><td> 506   </td><td>  88136</td><td>  35394</td></tr>\n",
       "\t<tr><td>line_1 </td><td> 607   </td><td> 114628</td><td> 195028</td></tr>\n",
       "\t<tr><td>line_1 </td><td> 708   </td><td> 259282</td><td> 483162</td></tr>\n",
       "\t<tr><td>line_1 </td><td> 809   </td><td> 384892</td><td>1165703</td></tr>\n",
       "\t<tr><td>line_1 </td><td> 910   </td><td> 315797</td><td> 791704</td></tr>\n",
       "\t<tr><td>line_1 </td><td>1011   </td><td> 340972</td><td> 585759</td></tr>\n",
       "\t<tr><td>line_1 </td><td>1112   </td><td> 411897</td><td> 570545</td></tr>\n",
       "\t<tr><td>line_1 </td><td>1213   </td><td> 471989</td><td> 577067</td></tr>\n",
       "\t<tr><td>line_1 </td><td>1314   </td><td> 558377</td><td> 625046</td></tr>\n",
       "\t<tr><td>line_1 </td><td>1415   </td><td> 589343</td><td> 614026</td></tr>\n",
       "\t<tr><td>line_1 </td><td>1516   </td><td> 648960</td><td> 562101</td></tr>\n",
       "\t<tr><td>line_1 </td><td>1617   </td><td> 721442</td><td> 534743</td></tr>\n",
       "\t<tr><td>line_1 </td><td>1718   </td><td> 791417</td><td> 538330</td></tr>\n",
       "\t<tr><td>line_1 </td><td>1819   </td><td>1044776</td><td> 614387</td></tr>\n",
       "\t<tr><td>line_1 </td><td>1920   </td><td> 810482</td><td> 536975</td></tr>\n",
       "\t<tr><td>line_1 </td><td>2021   </td><td> 608066</td><td> 332645</td></tr>\n",
       "\t<tr><td>line_1 </td><td>2122   </td><td> 647624</td><td> 256063</td></tr>\n",
       "\t<tr><td>line_1 </td><td>2223   </td><td> 576958</td><td> 218944</td></tr>\n",
       "\t<tr><td>line_1 </td><td>2324   </td><td> 260729</td><td> 143872</td></tr>\n",
       "\t<tr><td>line_1 </td><td>2401   </td><td>  21167</td><td>  49352</td></tr>\n",
       "\t<tr><td>line_2 </td><td> 506   </td><td> 608841</td><td> 140073</td></tr>\n",
       "\t<tr><td>line_2 </td><td> 607   </td><td>1079186</td><td> 947840</td></tr>\n",
       "\t<tr><td>line_2 </td><td> 708   </td><td>2960789</td><td>2323675</td></tr>\n",
       "\t<tr><td>line_2 </td><td> 809   </td><td>3914929</td><td>5683879</td></tr>\n",
       "\t<tr><td>line_2 </td><td> 910   </td><td>2419350</td><td>3681729</td></tr>\n",
       "\t<tr><td>line_2 </td><td>1011   </td><td>1810982</td><td>2227083</td></tr>\n",
       "\t<tr><td>line_2 </td><td>1112   </td><td>1847789</td><td>1957278</td></tr>\n",
       "\t<tr><td>line_2 </td><td>1213   </td><td>1990964</td><td>2048620</td></tr>\n",
       "\t<tr><td>line_2 </td><td>1314   </td><td>2256231</td><td>2258128</td></tr>\n",
       "\t<tr><td>line_2 </td><td>1415   </td><td>2263081</td><td>2277321</td></tr>\n",
       "\t<tr><td>...</td><td>...</td><td>...</td><td>...</td></tr>\n",
       "\t<tr><td>line_3 </td><td>1516   </td><td> 952321</td><td> 870808</td></tr>\n",
       "\t<tr><td>line_3 </td><td>1617   </td><td>1050130</td><td> 910555</td></tr>\n",
       "\t<tr><td>line_3 </td><td>1718   </td><td>1212098</td><td>1010369</td></tr>\n",
       "\t<tr><td>line_3 </td><td>1819   </td><td>1656305</td><td>1221641</td></tr>\n",
       "\t<tr><td>line_3 </td><td>1920   </td><td>1227847</td><td>1152751</td></tr>\n",
       "\t<tr><td>line_3 </td><td>2021   </td><td> 913682</td><td> 762787</td></tr>\n",
       "\t<tr><td>line_3 </td><td>2122   </td><td> 842636</td><td> 642464</td></tr>\n",
       "\t<tr><td>line_3 </td><td>2223   </td><td> 717158</td><td> 614223</td></tr>\n",
       "\t<tr><td>line_3 </td><td>2324   </td><td> 288744</td><td> 420273</td></tr>\n",
       "\t<tr><td>line_3 </td><td>2401   </td><td>  33938</td><td> 133203</td></tr>\n",
       "\t<tr><td>line_4 </td><td> 506   </td><td> 244178</td><td>  39220</td></tr>\n",
       "\t<tr><td>line_4 </td><td> 607   </td><td> 555232</td><td> 349259</td></tr>\n",
       "\t<tr><td>line_4 </td><td> 708   </td><td>1478641</td><td> 810309</td></tr>\n",
       "\t<tr><td>line_4 </td><td> 809   </td><td>1666148</td><td>1874381</td></tr>\n",
       "\t<tr><td>line_4 </td><td> 910   </td><td>1080607</td><td>1400291</td></tr>\n",
       "\t<tr><td>line_4 </td><td>1011   </td><td> 845377</td><td> 996974</td></tr>\n",
       "\t<tr><td>line_4 </td><td>1112   </td><td> 853473</td><td> 932328</td></tr>\n",
       "\t<tr><td>line_4 </td><td>1213   </td><td> 921995</td><td> 969866</td></tr>\n",
       "\t<tr><td>line_4 </td><td>1314   </td><td>1010356</td><td>1044774</td></tr>\n",
       "\t<tr><td>line_4 </td><td>1415   </td><td>1021972</td><td>1078274</td></tr>\n",
       "\t<tr><td>line_4 </td><td>1516   </td><td>1099173</td><td>1082843</td></tr>\n",
       "\t<tr><td>line_4 </td><td>1617   </td><td>1208057</td><td>1114499</td></tr>\n",
       "\t<tr><td>line_4 </td><td>1718   </td><td>1405470</td><td>1272524</td></tr>\n",
       "\t<tr><td>line_4 </td><td>1819   </td><td>1705617</td><td>1590516</td></tr>\n",
       "\t<tr><td>line_4 </td><td>1920   </td><td>1282398</td><td>1615932</td></tr>\n",
       "\t<tr><td>line_4 </td><td>2021   </td><td>1034818</td><td>1122216</td></tr>\n",
       "\t<tr><td>line_4 </td><td>2122   </td><td>1001286</td><td> 945111</td></tr>\n",
       "\t<tr><td>line_4 </td><td>2223   </td><td> 925633</td><td> 908488</td></tr>\n",
       "\t<tr><td>line_4 </td><td>2324   </td><td> 452658</td><td> 662564</td></tr>\n",
       "\t<tr><td>line_4 </td><td>2401   </td><td>  57970</td><td> 211697</td></tr>\n",
       "</tbody>\n",
       "</table>\n"
      ],
      "text/latex": [
       "\\begin{tabular}{r|llll}\n",
       " line\\_no & time & in. & out\\\\\n",
       "\\hline\n",
       "\t line\\_1 &  506     &   88136  &   35394 \\\\\n",
       "\t line\\_1 &  607     &  114628  &  195028 \\\\\n",
       "\t line\\_1 &  708     &  259282  &  483162 \\\\\n",
       "\t line\\_1 &  809     &  384892  & 1165703 \\\\\n",
       "\t line\\_1 &  910     &  315797  &  791704 \\\\\n",
       "\t line\\_1 & 1011     &  340972  &  585759 \\\\\n",
       "\t line\\_1 & 1112     &  411897  &  570545 \\\\\n",
       "\t line\\_1 & 1213     &  471989  &  577067 \\\\\n",
       "\t line\\_1 & 1314     &  558377  &  625046 \\\\\n",
       "\t line\\_1 & 1415     &  589343  &  614026 \\\\\n",
       "\t line\\_1 & 1516     &  648960  &  562101 \\\\\n",
       "\t line\\_1 & 1617     &  721442  &  534743 \\\\\n",
       "\t line\\_1 & 1718     &  791417  &  538330 \\\\\n",
       "\t line\\_1 & 1819     & 1044776  &  614387 \\\\\n",
       "\t line\\_1 & 1920     &  810482  &  536975 \\\\\n",
       "\t line\\_1 & 2021     &  608066  &  332645 \\\\\n",
       "\t line\\_1 & 2122     &  647624  &  256063 \\\\\n",
       "\t line\\_1 & 2223     &  576958  &  218944 \\\\\n",
       "\t line\\_1 & 2324     &  260729  &  143872 \\\\\n",
       "\t line\\_1 & 2401     &   21167  &   49352 \\\\\n",
       "\t line\\_2 &  506     &  608841  &  140073 \\\\\n",
       "\t line\\_2 &  607     & 1079186  &  947840 \\\\\n",
       "\t line\\_2 &  708     & 2960789  & 2323675 \\\\\n",
       "\t line\\_2 &  809     & 3914929  & 5683879 \\\\\n",
       "\t line\\_2 &  910     & 2419350  & 3681729 \\\\\n",
       "\t line\\_2 & 1011     & 1810982  & 2227083 \\\\\n",
       "\t line\\_2 & 1112     & 1847789  & 1957278 \\\\\n",
       "\t line\\_2 & 1213     & 1990964  & 2048620 \\\\\n",
       "\t line\\_2 & 1314     & 2256231  & 2258128 \\\\\n",
       "\t line\\_2 & 1415     & 2263081  & 2277321 \\\\\n",
       "\t ... & ... & ... & ...\\\\\n",
       "\t line\\_3 & 1516     &  952321  &  870808 \\\\\n",
       "\t line\\_3 & 1617     & 1050130  &  910555 \\\\\n",
       "\t line\\_3 & 1718     & 1212098  & 1010369 \\\\\n",
       "\t line\\_3 & 1819     & 1656305  & 1221641 \\\\\n",
       "\t line\\_3 & 1920     & 1227847  & 1152751 \\\\\n",
       "\t line\\_3 & 2021     &  913682  &  762787 \\\\\n",
       "\t line\\_3 & 2122     &  842636  &  642464 \\\\\n",
       "\t line\\_3 & 2223     &  717158  &  614223 \\\\\n",
       "\t line\\_3 & 2324     &  288744  &  420273 \\\\\n",
       "\t line\\_3 & 2401     &   33938  &  133203 \\\\\n",
       "\t line\\_4 &  506     &  244178  &   39220 \\\\\n",
       "\t line\\_4 &  607     &  555232  &  349259 \\\\\n",
       "\t line\\_4 &  708     & 1478641  &  810309 \\\\\n",
       "\t line\\_4 &  809     & 1666148  & 1874381 \\\\\n",
       "\t line\\_4 &  910     & 1080607  & 1400291 \\\\\n",
       "\t line\\_4 & 1011     &  845377  &  996974 \\\\\n",
       "\t line\\_4 & 1112     &  853473  &  932328 \\\\\n",
       "\t line\\_4 & 1213     &  921995  &  969866 \\\\\n",
       "\t line\\_4 & 1314     & 1010356  & 1044774 \\\\\n",
       "\t line\\_4 & 1415     & 1021972  & 1078274 \\\\\n",
       "\t line\\_4 & 1516     & 1099173  & 1082843 \\\\\n",
       "\t line\\_4 & 1617     & 1208057  & 1114499 \\\\\n",
       "\t line\\_4 & 1718     & 1405470  & 1272524 \\\\\n",
       "\t line\\_4 & 1819     & 1705617  & 1590516 \\\\\n",
       "\t line\\_4 & 1920     & 1282398  & 1615932 \\\\\n",
       "\t line\\_4 & 2021     & 1034818  & 1122216 \\\\\n",
       "\t line\\_4 & 2122     & 1001286  &  945111 \\\\\n",
       "\t line\\_4 & 2223     &  925633  &  908488 \\\\\n",
       "\t line\\_4 & 2324     &  452658  &  662564 \\\\\n",
       "\t line\\_4 & 2401     &   57970  &  211697 \\\\\n",
       "\\end{tabular}\n"
      ],
      "text/markdown": [
       "\n",
       "| line_no | time | in. | out |\n",
       "|---|---|---|---|\n",
       "| line_1  |  506    |   88136 |   35394 |\n",
       "| line_1  |  607    |  114628 |  195028 |\n",
       "| line_1  |  708    |  259282 |  483162 |\n",
       "| line_1  |  809    |  384892 | 1165703 |\n",
       "| line_1  |  910    |  315797 |  791704 |\n",
       "| line_1  | 1011    |  340972 |  585759 |\n",
       "| line_1  | 1112    |  411897 |  570545 |\n",
       "| line_1  | 1213    |  471989 |  577067 |\n",
       "| line_1  | 1314    |  558377 |  625046 |\n",
       "| line_1  | 1415    |  589343 |  614026 |\n",
       "| line_1  | 1516    |  648960 |  562101 |\n",
       "| line_1  | 1617    |  721442 |  534743 |\n",
       "| line_1  | 1718    |  791417 |  538330 |\n",
       "| line_1  | 1819    | 1044776 |  614387 |\n",
       "| line_1  | 1920    |  810482 |  536975 |\n",
       "| line_1  | 2021    |  608066 |  332645 |\n",
       "| line_1  | 2122    |  647624 |  256063 |\n",
       "| line_1  | 2223    |  576958 |  218944 |\n",
       "| line_1  | 2324    |  260729 |  143872 |\n",
       "| line_1  | 2401    |   21167 |   49352 |\n",
       "| line_2  |  506    |  608841 |  140073 |\n",
       "| line_2  |  607    | 1079186 |  947840 |\n",
       "| line_2  |  708    | 2960789 | 2323675 |\n",
       "| line_2  |  809    | 3914929 | 5683879 |\n",
       "| line_2  |  910    | 2419350 | 3681729 |\n",
       "| line_2  | 1011    | 1810982 | 2227083 |\n",
       "| line_2  | 1112    | 1847789 | 1957278 |\n",
       "| line_2  | 1213    | 1990964 | 2048620 |\n",
       "| line_2  | 1314    | 2256231 | 2258128 |\n",
       "| line_2  | 1415    | 2263081 | 2277321 |\n",
       "| ... | ... | ... | ... |\n",
       "| line_3  | 1516    |  952321 |  870808 |\n",
       "| line_3  | 1617    | 1050130 |  910555 |\n",
       "| line_3  | 1718    | 1212098 | 1010369 |\n",
       "| line_3  | 1819    | 1656305 | 1221641 |\n",
       "| line_3  | 1920    | 1227847 | 1152751 |\n",
       "| line_3  | 2021    |  913682 |  762787 |\n",
       "| line_3  | 2122    |  842636 |  642464 |\n",
       "| line_3  | 2223    |  717158 |  614223 |\n",
       "| line_3  | 2324    |  288744 |  420273 |\n",
       "| line_3  | 2401    |   33938 |  133203 |\n",
       "| line_4  |  506    |  244178 |   39220 |\n",
       "| line_4  |  607    |  555232 |  349259 |\n",
       "| line_4  |  708    | 1478641 |  810309 |\n",
       "| line_4  |  809    | 1666148 | 1874381 |\n",
       "| line_4  |  910    | 1080607 | 1400291 |\n",
       "| line_4  | 1011    |  845377 |  996974 |\n",
       "| line_4  | 1112    |  853473 |  932328 |\n",
       "| line_4  | 1213    |  921995 |  969866 |\n",
       "| line_4  | 1314    | 1010356 | 1044774 |\n",
       "| line_4  | 1415    | 1021972 | 1078274 |\n",
       "| line_4  | 1516    | 1099173 | 1082843 |\n",
       "| line_4  | 1617    | 1208057 | 1114499 |\n",
       "| line_4  | 1718    | 1405470 | 1272524 |\n",
       "| line_4  | 1819    | 1705617 | 1590516 |\n",
       "| line_4  | 1920    | 1282398 | 1615932 |\n",
       "| line_4  | 2021    | 1034818 | 1122216 |\n",
       "| line_4  | 2122    | 1001286 |  945111 |\n",
       "| line_4  | 2223    |  925633 |  908488 |\n",
       "| line_4  | 2324    |  452658 |  662564 |\n",
       "| line_4  | 2401    |   57970 |  211697 |\n",
       "\n"
      ],
      "text/plain": [
       "    line_no time in.     out    \n",
       "1   line_1   506   88136   35394\n",
       "2   line_1   607  114628  195028\n",
       "3   line_1   708  259282  483162\n",
       "4   line_1   809  384892 1165703\n",
       "5   line_1   910  315797  791704\n",
       "6   line_1  1011  340972  585759\n",
       "7   line_1  1112  411897  570545\n",
       "8   line_1  1213  471989  577067\n",
       "9   line_1  1314  558377  625046\n",
       "10  line_1  1415  589343  614026\n",
       "11  line_1  1516  648960  562101\n",
       "12  line_1  1617  721442  534743\n",
       "13  line_1  1718  791417  538330\n",
       "14  line_1  1819 1044776  614387\n",
       "15  line_1  1920  810482  536975\n",
       "16  line_1  2021  608066  332645\n",
       "17  line_1  2122  647624  256063\n",
       "18  line_1  2223  576958  218944\n",
       "19  line_1  2324  260729  143872\n",
       "20  line_1  2401   21167   49352\n",
       "21  line_2   506  608841  140073\n",
       "22  line_2   607 1079186  947840\n",
       "23  line_2   708 2960789 2323675\n",
       "24  line_2   809 3914929 5683879\n",
       "25  line_2   910 2419350 3681729\n",
       "26  line_2  1011 1810982 2227083\n",
       "27  line_2  1112 1847789 1957278\n",
       "28  line_2  1213 1990964 2048620\n",
       "29  line_2  1314 2256231 2258128\n",
       "30  line_2  1415 2263081 2277321\n",
       "... ...     ...  ...     ...    \n",
       "51  line_3  1516  952321  870808\n",
       "52  line_3  1617 1050130  910555\n",
       "53  line_3  1718 1212098 1010369\n",
       "54  line_3  1819 1656305 1221641\n",
       "55  line_3  1920 1227847 1152751\n",
       "56  line_3  2021  913682  762787\n",
       "57  line_3  2122  842636  642464\n",
       "58  line_3  2223  717158  614223\n",
       "59  line_3  2324  288744  420273\n",
       "60  line_3  2401   33938  133203\n",
       "61  line_4   506  244178   39220\n",
       "62  line_4   607  555232  349259\n",
       "63  line_4   708 1478641  810309\n",
       "64  line_4   809 1666148 1874381\n",
       "65  line_4   910 1080607 1400291\n",
       "66  line_4  1011  845377  996974\n",
       "67  line_4  1112  853473  932328\n",
       "68  line_4  1213  921995  969866\n",
       "69  line_4  1314 1010356 1044774\n",
       "70  line_4  1415 1021972 1078274\n",
       "71  line_4  1516 1099173 1082843\n",
       "72  line_4  1617 1208057 1114499\n",
       "73  line_4  1718 1405470 1272524\n",
       "74  line_4  1819 1705617 1590516\n",
       "75  line_4  1920 1282398 1615932\n",
       "76  line_4  2021 1034818 1122216\n",
       "77  line_4  2122 1001286  945111\n",
       "78  line_4  2223  925633  908488\n",
       "79  line_4  2324  452658  662564\n",
       "80  line_4  2401   57970  211697"
      ]
     },
     "metadata": {},
     "output_type": "display_data"
    }
   ],
   "source": [
    "line=read.csv('1-4호선승하차승객수.csv',header=T)\n",
    "line\n",
    "# line_no : 호선, time: 승하차시간, in: 승차인원수, out: 하차인원수"
   ]
  },
  {
   "cell_type": "code",
   "execution_count": 4,
   "metadata": {
    "ExecuteTime": {
     "end_time": "2020-06-15T02:28:43.801618Z",
     "start_time": "2020-06-15T02:28:43.726Z"
    }
   },
   "outputs": [
    {
     "name": "stderr",
     "output_type": "stream",
     "text": [
      "starting httpd help server ... done\n"
     ]
    }
   ],
   "source": [
    "t1 <- gvisMotionChart(line, idvar=\"line_no\", timevar=\"time\")\n",
    "plot(t1)"
   ]
  },
  {
   "cell_type": "code",
   "execution_count": 5,
   "metadata": {
    "ExecuteTime": {
     "end_time": "2020-06-15T02:48:16.639730Z",
     "start_time": "2020-06-15T02:48:16.546Z"
    }
   },
   "outputs": [
    {
     "data": {
      "text/html": [
       "<table>\n",
       "<thead><tr><th scope=col>호선명</th><th scope=col>시간</th><th scope=col>승차인원</th><th scope=col>하차인원</th></tr></thead>\n",
       "<tbody>\n",
       "\t<tr><td>5호선</td><td> 506 </td><td> 7992</td><td> 1547</td></tr>\n",
       "\t<tr><td>5호선</td><td> 607 </td><td>18445</td><td>10611</td></tr>\n",
       "\t<tr><td>5호선</td><td> 708 </td><td>58566</td><td>29023</td></tr>\n",
       "\t<tr><td>5호선</td><td> 809 </td><td>69908</td><td>80276</td></tr>\n",
       "\t<tr><td>5호선</td><td> 910 </td><td>35972</td><td>38304</td></tr>\n",
       "\t<tr><td>5호선</td><td>1011 </td><td>28855</td><td>24063</td></tr>\n",
       "\t<tr><td>5호선</td><td>1112 </td><td>30201</td><td>24261</td></tr>\n",
       "\t<tr><td>5호선</td><td>1213 </td><td>32664</td><td>26334</td></tr>\n",
       "\t<tr><td>5호선</td><td>1314 </td><td>35202</td><td>29536</td></tr>\n",
       "\t<tr><td>5호선</td><td>1415 </td><td>36012</td><td>32296</td></tr>\n",
       "\t<tr><td>5호선</td><td>1516 </td><td>39088</td><td>34632</td></tr>\n",
       "\t<tr><td>5호선</td><td>1617 </td><td>43534</td><td>40271</td></tr>\n",
       "\t<tr><td>5호선</td><td>1718 </td><td>52528</td><td>47170</td></tr>\n",
       "\t<tr><td>5호선</td><td>1819 </td><td>63414</td><td>61982</td></tr>\n",
       "\t<tr><td>5호선</td><td>1920 </td><td>40333</td><td>55955</td></tr>\n",
       "\t<tr><td>5호선</td><td>2021 </td><td>29129</td><td>36658</td></tr>\n",
       "\t<tr><td>5호선</td><td>2122 </td><td>26095</td><td>31768</td></tr>\n",
       "\t<tr><td>5호선</td><td>2223 </td><td>23113</td><td>28645</td></tr>\n",
       "\t<tr><td>5호선</td><td>2324 </td><td>11175</td><td>19146</td></tr>\n",
       "\t<tr><td>5호선</td><td>2401 </td><td>16013</td><td>19973</td></tr>\n",
       "\t<tr><td>6호선</td><td> 506 </td><td> 4788</td><td> 1139</td></tr>\n",
       "\t<tr><td>6호선</td><td> 607 </td><td>10360</td><td> 5337</td></tr>\n",
       "\t<tr><td>6호선</td><td> 708 </td><td>33543</td><td>12892</td></tr>\n",
       "\t<tr><td>6호선</td><td> 809 </td><td>43146</td><td>37367</td></tr>\n",
       "\t<tr><td>6호선</td><td> 910 </td><td>21261</td><td>20113</td></tr>\n",
       "\t<tr><td>6호선</td><td>1011 </td><td>16103</td><td>13775</td></tr>\n",
       "\t<tr><td>6호선</td><td>1112 </td><td>16563</td><td>13907</td></tr>\n",
       "\t<tr><td>6호선</td><td>1213 </td><td>17962</td><td>15524</td></tr>\n",
       "\t<tr><td>6호선</td><td>1314 </td><td>19251</td><td>16944</td></tr>\n",
       "\t<tr><td>6호선</td><td>1415 </td><td>19417</td><td>17657</td></tr>\n",
       "\t<tr><td>...</td><td>...</td><td>...</td><td>...</td></tr>\n",
       "\t<tr><td>7호선</td><td>1516 </td><td>45063</td><td>40839</td></tr>\n",
       "\t<tr><td>7호선</td><td>1617 </td><td>50696</td><td>46396</td></tr>\n",
       "\t<tr><td>7호선</td><td>1718 </td><td>59994</td><td>54821</td></tr>\n",
       "\t<tr><td>7호선</td><td>1819 </td><td>67456</td><td>70247</td></tr>\n",
       "\t<tr><td>7호선</td><td>1920 </td><td>46927</td><td>63450</td></tr>\n",
       "\t<tr><td>7호선</td><td>2021 </td><td>35146</td><td>41999</td></tr>\n",
       "\t<tr><td>7호선</td><td>2122 </td><td>32028</td><td>35175</td></tr>\n",
       "\t<tr><td>7호선</td><td>2223 </td><td>26340</td><td>32307</td></tr>\n",
       "\t<tr><td>7호선</td><td>2324 </td><td>12100</td><td>22227</td></tr>\n",
       "\t<tr><td>7호선</td><td>2401 </td><td> 8262</td><td>17747</td></tr>\n",
       "\t<tr><td>8호선</td><td> 506 </td><td> 2384</td><td>  602</td></tr>\n",
       "\t<tr><td>8호선</td><td> 607 </td><td> 5456</td><td> 2843</td></tr>\n",
       "\t<tr><td>8호선</td><td> 708 </td><td>16882</td><td> 6171</td></tr>\n",
       "\t<tr><td>8호선</td><td> 809 </td><td>22309</td><td>15797</td></tr>\n",
       "\t<tr><td>8호선</td><td> 910 </td><td>10948</td><td> 8905</td></tr>\n",
       "\t<tr><td>8호선</td><td>1011 </td><td> 7974</td><td> 6238</td></tr>\n",
       "\t<tr><td>8호선</td><td>1112 </td><td> 7729</td><td> 6392</td></tr>\n",
       "\t<tr><td>8호선</td><td>1213 </td><td> 8253</td><td> 7191</td></tr>\n",
       "\t<tr><td>8호선</td><td>1314 </td><td> 9145</td><td> 8223</td></tr>\n",
       "\t<tr><td>8호선</td><td>1415 </td><td> 9401</td><td> 8784</td></tr>\n",
       "\t<tr><td>8호선</td><td>1516 </td><td> 9987</td><td>10735</td></tr>\n",
       "\t<tr><td>8호선</td><td>1617 </td><td>10978</td><td>11737</td></tr>\n",
       "\t<tr><td>8호선</td><td>1718 </td><td>12526</td><td>13490</td></tr>\n",
       "\t<tr><td>8호선</td><td>1819 </td><td>14619</td><td>17302</td></tr>\n",
       "\t<tr><td>8호선</td><td>1920 </td><td>10100</td><td>15953</td></tr>\n",
       "\t<tr><td>8호선</td><td>2021 </td><td> 7531</td><td>10505</td></tr>\n",
       "\t<tr><td>8호선</td><td>2122 </td><td> 6562</td><td> 8609</td></tr>\n",
       "\t<tr><td>8호선</td><td>2223 </td><td> 5775</td><td> 8069</td></tr>\n",
       "\t<tr><td>8호선</td><td>2324 </td><td> 2706</td><td> 5488</td></tr>\n",
       "\t<tr><td>8호선</td><td>2401 </td><td> 1677</td><td> 4872</td></tr>\n",
       "</tbody>\n",
       "</table>\n"
      ],
      "text/latex": [
       "\\begin{tabular}{r|llll}\n",
       " 호선명 & 시간 & 승차인원 & 하차인원\\\\\n",
       "\\hline\n",
       "\t 5호선 &  506  &  7992 &  1547\\\\\n",
       "\t 5호선 &  607  & 18445 & 10611\\\\\n",
       "\t 5호선 &  708  & 58566 & 29023\\\\\n",
       "\t 5호선 &  809  & 69908 & 80276\\\\\n",
       "\t 5호선 &  910  & 35972 & 38304\\\\\n",
       "\t 5호선 & 1011  & 28855 & 24063\\\\\n",
       "\t 5호선 & 1112  & 30201 & 24261\\\\\n",
       "\t 5호선 & 1213  & 32664 & 26334\\\\\n",
       "\t 5호선 & 1314  & 35202 & 29536\\\\\n",
       "\t 5호선 & 1415  & 36012 & 32296\\\\\n",
       "\t 5호선 & 1516  & 39088 & 34632\\\\\n",
       "\t 5호선 & 1617  & 43534 & 40271\\\\\n",
       "\t 5호선 & 1718  & 52528 & 47170\\\\\n",
       "\t 5호선 & 1819  & 63414 & 61982\\\\\n",
       "\t 5호선 & 1920  & 40333 & 55955\\\\\n",
       "\t 5호선 & 2021  & 29129 & 36658\\\\\n",
       "\t 5호선 & 2122  & 26095 & 31768\\\\\n",
       "\t 5호선 & 2223  & 23113 & 28645\\\\\n",
       "\t 5호선 & 2324  & 11175 & 19146\\\\\n",
       "\t 5호선 & 2401  & 16013 & 19973\\\\\n",
       "\t 6호선 &  506  &  4788 &  1139\\\\\n",
       "\t 6호선 &  607  & 10360 &  5337\\\\\n",
       "\t 6호선 &  708  & 33543 & 12892\\\\\n",
       "\t 6호선 &  809  & 43146 & 37367\\\\\n",
       "\t 6호선 &  910  & 21261 & 20113\\\\\n",
       "\t 6호선 & 1011  & 16103 & 13775\\\\\n",
       "\t 6호선 & 1112  & 16563 & 13907\\\\\n",
       "\t 6호선 & 1213  & 17962 & 15524\\\\\n",
       "\t 6호선 & 1314  & 19251 & 16944\\\\\n",
       "\t 6호선 & 1415  & 19417 & 17657\\\\\n",
       "\t ... & ... & ... & ...\\\\\n",
       "\t 7호선 & 1516  & 45063 & 40839\\\\\n",
       "\t 7호선 & 1617  & 50696 & 46396\\\\\n",
       "\t 7호선 & 1718  & 59994 & 54821\\\\\n",
       "\t 7호선 & 1819  & 67456 & 70247\\\\\n",
       "\t 7호선 & 1920  & 46927 & 63450\\\\\n",
       "\t 7호선 & 2021  & 35146 & 41999\\\\\n",
       "\t 7호선 & 2122  & 32028 & 35175\\\\\n",
       "\t 7호선 & 2223  & 26340 & 32307\\\\\n",
       "\t 7호선 & 2324  & 12100 & 22227\\\\\n",
       "\t 7호선 & 2401  &  8262 & 17747\\\\\n",
       "\t 8호선 &  506  &  2384 &   602\\\\\n",
       "\t 8호선 &  607  &  5456 &  2843\\\\\n",
       "\t 8호선 &  708  & 16882 &  6171\\\\\n",
       "\t 8호선 &  809  & 22309 & 15797\\\\\n",
       "\t 8호선 &  910  & 10948 &  8905\\\\\n",
       "\t 8호선 & 1011  &  7974 &  6238\\\\\n",
       "\t 8호선 & 1112  &  7729 &  6392\\\\\n",
       "\t 8호선 & 1213  &  8253 &  7191\\\\\n",
       "\t 8호선 & 1314  &  9145 &  8223\\\\\n",
       "\t 8호선 & 1415  &  9401 &  8784\\\\\n",
       "\t 8호선 & 1516  &  9987 & 10735\\\\\n",
       "\t 8호선 & 1617  & 10978 & 11737\\\\\n",
       "\t 8호선 & 1718  & 12526 & 13490\\\\\n",
       "\t 8호선 & 1819  & 14619 & 17302\\\\\n",
       "\t 8호선 & 1920  & 10100 & 15953\\\\\n",
       "\t 8호선 & 2021  &  7531 & 10505\\\\\n",
       "\t 8호선 & 2122  &  6562 &  8609\\\\\n",
       "\t 8호선 & 2223  &  5775 &  8069\\\\\n",
       "\t 8호선 & 2324  &  2706 &  5488\\\\\n",
       "\t 8호선 & 2401  &  1677 &  4872\\\\\n",
       "\\end{tabular}\n"
      ],
      "text/markdown": [
       "\n",
       "| 호선명 | 시간 | 승차인원 | 하차인원 |\n",
       "|---|---|---|---|\n",
       "| 5호선 |  506  |  7992 |  1547 |\n",
       "| 5호선 |  607  | 18445 | 10611 |\n",
       "| 5호선 |  708  | 58566 | 29023 |\n",
       "| 5호선 |  809  | 69908 | 80276 |\n",
       "| 5호선 |  910  | 35972 | 38304 |\n",
       "| 5호선 | 1011  | 28855 | 24063 |\n",
       "| 5호선 | 1112  | 30201 | 24261 |\n",
       "| 5호선 | 1213  | 32664 | 26334 |\n",
       "| 5호선 | 1314  | 35202 | 29536 |\n",
       "| 5호선 | 1415  | 36012 | 32296 |\n",
       "| 5호선 | 1516  | 39088 | 34632 |\n",
       "| 5호선 | 1617  | 43534 | 40271 |\n",
       "| 5호선 | 1718  | 52528 | 47170 |\n",
       "| 5호선 | 1819  | 63414 | 61982 |\n",
       "| 5호선 | 1920  | 40333 | 55955 |\n",
       "| 5호선 | 2021  | 29129 | 36658 |\n",
       "| 5호선 | 2122  | 26095 | 31768 |\n",
       "| 5호선 | 2223  | 23113 | 28645 |\n",
       "| 5호선 | 2324  | 11175 | 19146 |\n",
       "| 5호선 | 2401  | 16013 | 19973 |\n",
       "| 6호선 |  506  |  4788 |  1139 |\n",
       "| 6호선 |  607  | 10360 |  5337 |\n",
       "| 6호선 |  708  | 33543 | 12892 |\n",
       "| 6호선 |  809  | 43146 | 37367 |\n",
       "| 6호선 |  910  | 21261 | 20113 |\n",
       "| 6호선 | 1011  | 16103 | 13775 |\n",
       "| 6호선 | 1112  | 16563 | 13907 |\n",
       "| 6호선 | 1213  | 17962 | 15524 |\n",
       "| 6호선 | 1314  | 19251 | 16944 |\n",
       "| 6호선 | 1415  | 19417 | 17657 |\n",
       "| ... | ... | ... | ... |\n",
       "| 7호선 | 1516  | 45063 | 40839 |\n",
       "| 7호선 | 1617  | 50696 | 46396 |\n",
       "| 7호선 | 1718  | 59994 | 54821 |\n",
       "| 7호선 | 1819  | 67456 | 70247 |\n",
       "| 7호선 | 1920  | 46927 | 63450 |\n",
       "| 7호선 | 2021  | 35146 | 41999 |\n",
       "| 7호선 | 2122  | 32028 | 35175 |\n",
       "| 7호선 | 2223  | 26340 | 32307 |\n",
       "| 7호선 | 2324  | 12100 | 22227 |\n",
       "| 7호선 | 2401  |  8262 | 17747 |\n",
       "| 8호선 |  506  |  2384 |   602 |\n",
       "| 8호선 |  607  |  5456 |  2843 |\n",
       "| 8호선 |  708  | 16882 |  6171 |\n",
       "| 8호선 |  809  | 22309 | 15797 |\n",
       "| 8호선 |  910  | 10948 |  8905 |\n",
       "| 8호선 | 1011  |  7974 |  6238 |\n",
       "| 8호선 | 1112  |  7729 |  6392 |\n",
       "| 8호선 | 1213  |  8253 |  7191 |\n",
       "| 8호선 | 1314  |  9145 |  8223 |\n",
       "| 8호선 | 1415  |  9401 |  8784 |\n",
       "| 8호선 | 1516  |  9987 | 10735 |\n",
       "| 8호선 | 1617  | 10978 | 11737 |\n",
       "| 8호선 | 1718  | 12526 | 13490 |\n",
       "| 8호선 | 1819  | 14619 | 17302 |\n",
       "| 8호선 | 1920  | 10100 | 15953 |\n",
       "| 8호선 | 2021  |  7531 | 10505 |\n",
       "| 8호선 | 2122  |  6562 |  8609 |\n",
       "| 8호선 | 2223  |  5775 |  8069 |\n",
       "| 8호선 | 2324  |  2706 |  5488 |\n",
       "| 8호선 | 2401  |  1677 |  4872 |\n",
       "\n"
      ],
      "text/plain": [
       "    호선명 시간 승차인원 하차인원\n",
       "1   5호선   506  7992     1547   \n",
       "2   5호선   607 18445    10611   \n",
       "3   5호선   708 58566    29023   \n",
       "4   5호선   809 69908    80276   \n",
       "5   5호선   910 35972    38304   \n",
       "6   5호선  1011 28855    24063   \n",
       "7   5호선  1112 30201    24261   \n",
       "8   5호선  1213 32664    26334   \n",
       "9   5호선  1314 35202    29536   \n",
       "10  5호선  1415 36012    32296   \n",
       "11  5호선  1516 39088    34632   \n",
       "12  5호선  1617 43534    40271   \n",
       "13  5호선  1718 52528    47170   \n",
       "14  5호선  1819 63414    61982   \n",
       "15  5호선  1920 40333    55955   \n",
       "16  5호선  2021 29129    36658   \n",
       "17  5호선  2122 26095    31768   \n",
       "18  5호선  2223 23113    28645   \n",
       "19  5호선  2324 11175    19146   \n",
       "20  5호선  2401 16013    19973   \n",
       "21  6호선   506  4788     1139   \n",
       "22  6호선   607 10360     5337   \n",
       "23  6호선   708 33543    12892   \n",
       "24  6호선   809 43146    37367   \n",
       "25  6호선   910 21261    20113   \n",
       "26  6호선  1011 16103    13775   \n",
       "27  6호선  1112 16563    13907   \n",
       "28  6호선  1213 17962    15524   \n",
       "29  6호선  1314 19251    16944   \n",
       "30  6호선  1415 19417    17657   \n",
       "... ...    ...  ...      ...     \n",
       "51  7호선  1516 45063    40839   \n",
       "52  7호선  1617 50696    46396   \n",
       "53  7호선  1718 59994    54821   \n",
       "54  7호선  1819 67456    70247   \n",
       "55  7호선  1920 46927    63450   \n",
       "56  7호선  2021 35146    41999   \n",
       "57  7호선  2122 32028    35175   \n",
       "58  7호선  2223 26340    32307   \n",
       "59  7호선  2324 12100    22227   \n",
       "60  7호선  2401  8262    17747   \n",
       "61  8호선   506  2384      602   \n",
       "62  8호선   607  5456     2843   \n",
       "63  8호선   708 16882     6171   \n",
       "64  8호선   809 22309    15797   \n",
       "65  8호선   910 10948     8905   \n",
       "66  8호선  1011  7974     6238   \n",
       "67  8호선  1112  7729     6392   \n",
       "68  8호선  1213  8253     7191   \n",
       "69  8호선  1314  9145     8223   \n",
       "70  8호선  1415  9401     8784   \n",
       "71  8호선  1516  9987    10735   \n",
       "72  8호선  1617 10978    11737   \n",
       "73  8호선  1718 12526    13490   \n",
       "74  8호선  1819 14619    17302   \n",
       "75  8호선  1920 10100    15953   \n",
       "76  8호선  2021  7531    10505   \n",
       "77  8호선  2122  6562     8609   \n",
       "78  8호선  2223  5775     8069   \n",
       "79  8호선  2324  2706     5488   \n",
       "80  8호선  2401  1677     4872   "
      ]
     },
     "metadata": {},
     "output_type": "display_data"
    }
   ],
   "source": [
    "line2=read.csv('서울지하철_5-8호선_이용현황_시간대별.csv',header=T)\n",
    "line2"
   ]
  },
  {
   "cell_type": "code",
   "execution_count": 6,
   "metadata": {
    "ExecuteTime": {
     "end_time": "2020-06-15T02:48:55.537800Z",
     "start_time": "2020-06-15T02:48:55.394Z"
    }
   },
   "outputs": [],
   "source": [
    "t2 = gvisMotionChart(line2, idvar=\"호선명\", timevar=\"시간\")\n",
    "plot(t2)"
   ]
  },
  {
   "cell_type": "code",
   "execution_count": null,
   "metadata": {},
   "outputs": [],
   "source": []
  },
  {
   "cell_type": "code",
   "execution_count": null,
   "metadata": {},
   "outputs": [],
   "source": []
  },
  {
   "cell_type": "code",
   "execution_count": null,
   "metadata": {},
   "outputs": [],
   "source": []
  },
  {
   "cell_type": "code",
   "execution_count": null,
   "metadata": {},
   "outputs": [],
   "source": []
  },
  {
   "cell_type": "code",
   "execution_count": null,
   "metadata": {},
   "outputs": [],
   "source": []
  },
  {
   "cell_type": "code",
   "execution_count": null,
   "metadata": {},
   "outputs": [],
   "source": []
  },
  {
   "cell_type": "code",
   "execution_count": null,
   "metadata": {},
   "outputs": [],
   "source": []
  },
  {
   "cell_type": "code",
   "execution_count": null,
   "metadata": {},
   "outputs": [],
   "source": []
  }
 ],
 "metadata": {
  "kernelspec": {
   "display_name": "R",
   "language": "R",
   "name": "ir"
  },
  "language_info": {
   "codemirror_mode": "r",
   "file_extension": ".r",
   "mimetype": "text/x-r-source",
   "name": "R",
   "pygments_lexer": "r",
   "version": "3.6.1"
  },
  "toc": {
   "base_numbering": 1,
   "nav_menu": {},
   "number_sections": true,
   "sideBar": true,
   "skip_h1_title": false,
   "title_cell": "Table of Contents",
   "title_sidebar": "Contents",
   "toc_cell": false,
   "toc_position": {},
   "toc_section_display": true,
   "toc_window_display": false
  },
  "varInspector": {
   "cols": {
    "lenName": 16,
    "lenType": 16,
    "lenVar": 40
   },
   "kernels_config": {
    "python": {
     "delete_cmd_postfix": "",
     "delete_cmd_prefix": "del ",
     "library": "var_list.py",
     "varRefreshCmd": "print(var_dic_list())"
    },
    "r": {
     "delete_cmd_postfix": ") ",
     "delete_cmd_prefix": "rm(",
     "library": "var_list.r",
     "varRefreshCmd": "cat(var_dic_list()) "
    }
   },
   "types_to_exclude": [
    "module",
    "function",
    "builtin_function_or_method",
    "instance",
    "_Feature"
   ],
   "window_display": false
  }
 },
 "nbformat": 4,
 "nbformat_minor": 4
}
