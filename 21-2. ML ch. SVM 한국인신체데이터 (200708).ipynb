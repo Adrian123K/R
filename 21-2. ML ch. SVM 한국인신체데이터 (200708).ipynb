{
 "cells": [
  {
   "cell_type": "markdown",
   "metadata": {},
   "source": [
    "## <b>■ 서포트 벡터 머신 실습 2 (한국인 신체 데이터 분류)</b>"
   ]
  },
  {
   "cell_type": "code",
   "execution_count": null,
   "metadata": {
    "ExecuteTime": {
     "start_time": "2020-07-08T07:15:47.468Z"
    }
   },
   "outputs": [],
   "source": [
    "body <- read.csv(\"kbody2.csv\", header = F)\n",
    "\n",
    "# 라이브러리 불러옴\n",
    "library(e1071)\n",
    "\n",
    "# na값 제거\n",
    "body1 <- na.omit(body)\n",
    "\n",
    "# 컬럼명 줌\n",
    "colnames(body1) <- c(\"gender\", \"age\", \"height\", \"chest\", \"heory\", \"bae\", \"ass\", \"kyeo\",\n",
    "                     \"face_vertical\", \"head\", \"bone\", \"body_fat\", \"body_water\",\n",
    "                     \"protein\", \"mineral\", \"body_fat_per\", \"bae_fat_per\", \"work\", \"bae_fat_test\",\n",
    "                     \"work_test\")\n",
    "\n",
    "# 랜덤시드 생성\n",
    "set.seed(12345)\n",
    "\n",
    "# 셔플\n",
    "body_ran <- body1[order(runif(12894)), ]\n",
    "\n",
    "# 트레이닝셋 80%\n",
    "body_train <- body_ran[1:10314, ]\n",
    "\n",
    "# 테스트셋 20%\n",
    "body_test <- body_ran[10315:12894, ]"
   ]
  },
  {
   "cell_type": "code",
   "execution_count": null,
   "metadata": {
    "ExecuteTime": {
     "start_time": "2020-07-08T07:16:13.382Z"
    }
   },
   "outputs": [],
   "source": [
    "# 선형SVM 훈련\n",
    "body_svm <- svm(work_test~., data = body_train, kernel=\"linear\")\n",
    "body_svm"
   ]
  },
  {
   "cell_type": "code",
   "execution_count": null,
   "metadata": {
    "ExecuteTime": {
     "start_time": "2020-07-08T07:15:01.112Z"
    }
   },
   "outputs": [],
   "source": [
    "# 모델 테스트\n",
    "p <- predict(body_svm, body_test, type=\"class\")\n",
    "p"
   ]
  },
  {
   "cell_type": "code",
   "execution_count": null,
   "metadata": {
    "ExecuteTime": {
     "start_time": "2020-07-08T07:14:18.912Z"
    }
   },
   "outputs": [],
   "source": [
    "table(p, body_test[, 20])"
   ]
  },
  {
   "cell_type": "code",
   "execution_count": null,
   "metadata": {
    "ExecuteTime": {
     "start_time": "2020-07-08T07:14:19.351Z"
    }
   },
   "outputs": [],
   "source": [
    "# 분류 결과 확인\n",
    "mean(p == body_test[, 20])"
   ]
  },
  {
   "cell_type": "markdown",
   "metadata": {},
   "source": [
    "### ※ 문제301. 한국인 신체 데이터를 분류하는 SVM 모델의 성능을 올리시오\n",
    "    1. 비선형\n",
    "    2. caret 패키지의 자동 파라미터 튜닝"
   ]
  },
  {
   "cell_type": "code",
   "execution_count": null,
   "metadata": {},
   "outputs": [],
   "source": []
  },
  {
   "cell_type": "code",
   "execution_count": null,
   "metadata": {},
   "outputs": [],
   "source": []
  },
  {
   "cell_type": "code",
   "execution_count": null,
   "metadata": {},
   "outputs": [],
   "source": []
  },
  {
   "cell_type": "code",
   "execution_count": null,
   "metadata": {},
   "outputs": [],
   "source": []
  },
  {
   "cell_type": "code",
   "execution_count": null,
   "metadata": {},
   "outputs": [],
   "source": []
  }
 ],
 "metadata": {
  "kernelspec": {
   "display_name": "R",
   "language": "R",
   "name": "ir"
  },
  "toc": {
   "base_numbering": 1,
   "nav_menu": {},
   "number_sections": true,
   "sideBar": true,
   "skip_h1_title": false,
   "title_cell": "Table of Contents",
   "title_sidebar": "Contents",
   "toc_cell": false,
   "toc_position": {},
   "toc_section_display": true,
   "toc_window_display": false
  },
  "varInspector": {
   "cols": {
    "lenName": 16,
    "lenType": 16,
    "lenVar": 40
   },
   "kernels_config": {
    "python": {
     "delete_cmd_postfix": "",
     "delete_cmd_prefix": "del ",
     "library": "var_list.py",
     "varRefreshCmd": "print(var_dic_list())"
    },
    "r": {
     "delete_cmd_postfix": ") ",
     "delete_cmd_prefix": "rm(",
     "library": "var_list.r",
     "varRefreshCmd": "cat(var_dic_list()) "
    }
   },
   "types_to_exclude": [
    "module",
    "function",
    "builtin_function_or_method",
    "instance",
    "_Feature"
   ],
   "window_display": false
  }
 },
 "nbformat": 4,
 "nbformat_minor": 4
}
