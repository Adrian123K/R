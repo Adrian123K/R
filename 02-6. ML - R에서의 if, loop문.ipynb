{
 "cells": [
  {
   "cell_type": "markdown",
   "metadata": {},
   "source": [
    "## ■ R 에서의 if 문과 loop 문 사용방법\n",
    "```R\n",
    "함수명 <- function(매개변수명){\n",
    "    실행문\n",
    "    return (실행결과를 담은 변수명)\n",
    "}\n",
    "```"
   ]
  },
  {
   "cell_type": "markdown",
   "metadata": {},
   "source": [
    "### ※ 문제196. 이름을 입력하면 해당 사원의 월급이 출력되는 함수를 생성하시오"
   ]
  },
  {
   "cell_type": "code",
   "execution_count": 1,
   "metadata": {
    "ExecuteTime": {
     "end_time": "2020-06-22T06:53:45.529886Z",
     "start_time": "2020-06-22T06:53:45.471Z"
    }
   },
   "outputs": [],
   "source": [
    "income<-function(ename){\n",
    "    emp<-read.csv('emp3.csv',head=T)\n",
    "    sal<-emp[emp$ename==ename,'sal']\n",
    "    print(sal)\n",
    "}"
   ]
  },
  {
   "cell_type": "code",
   "execution_count": 2,
   "metadata": {
    "ExecuteTime": {
     "end_time": "2020-06-22T06:53:59.002163Z",
     "start_time": "2020-06-22T06:53:58.971Z"
    }
   },
   "outputs": [
    {
     "name": "stdout",
     "output_type": "stream",
     "text": [
      "[1] 3000\n"
     ]
    }
   ],
   "source": [
    "income('SCOTT')"
   ]
  },
  {
   "cell_type": "markdown",
   "metadata": {},
   "source": [
    "### ※ 문제197. 이름을 아래와 같이 소문자로 입력해도 출력되게 하시오 !\n",
    "```R\n",
    "income('scott')\n",
    "3000\n",
    "```"
   ]
  },
  {
   "cell_type": "code",
   "execution_count": 3,
   "metadata": {
    "ExecuteTime": {
     "end_time": "2020-06-22T06:56:27.240448Z",
     "start_time": "2020-06-22T06:56:27.212Z"
    }
   },
   "outputs": [],
   "source": [
    "income<-function(ename){\n",
    "    emp<-read.csv('emp3.csv',head=T)\n",
    "    sal<-emp[emp$ename==toupper(ename),'sal']\n",
    "    print(sal)\n",
    "}"
   ]
  },
  {
   "cell_type": "code",
   "execution_count": 4,
   "metadata": {
    "ExecuteTime": {
     "end_time": "2020-06-22T06:56:31.781941Z",
     "start_time": "2020-06-22T06:56:31.751Z"
    }
   },
   "outputs": [
    {
     "name": "stdout",
     "output_type": "stream",
     "text": [
      "[1] 3000\n"
     ]
    }
   ],
   "source": [
    "income('scott')"
   ]
  },
  {
   "cell_type": "markdown",
   "metadata": {},
   "source": [
    "### ※ 문제198. 직업을 입력하면 해당 직업이 사원들의 월급들이 출력되게하는 함수를 생성하시오 !"
   ]
  },
  {
   "cell_type": "code",
   "execution_count": 7,
   "metadata": {
    "ExecuteTime": {
     "end_time": "2020-06-22T06:57:56.549169Z",
     "start_time": "2020-06-22T06:57:56.524Z"
    }
   },
   "outputs": [],
   "source": [
    "job_sal<-function(job){\n",
    "    emp<-read.csv('emp3.csv',head=T)\n",
    "    sal<-emp[emp$job==toupper(job),c('ename','sal')]\n",
    "    print(sal)\n",
    "}"
   ]
  },
  {
   "cell_type": "code",
   "execution_count": 9,
   "metadata": {
    "ExecuteTime": {
     "end_time": "2020-06-22T06:58:07.543140Z",
     "start_time": "2020-06-22T06:58:07.503Z"
    }
   },
   "outputs": [
    {
     "name": "stdout",
     "output_type": "stream",
     "text": [
      "   ename  sal\n",
      "5 MARTIN 1250\n",
      "6  ALLEN 1600\n",
      "7 TURNER 1500\n",
      "9   WARD 1250\n",
      "   ename  sal\n",
      "10  FORD 3000\n",
      "12 SCOTT 3000\n"
     ]
    }
   ],
   "source": [
    "job_sal('salesman')\n",
    "job_sal('analyst')"
   ]
  },
  {
   "cell_type": "markdown",
   "metadata": {},
   "source": [
    "### ※ 문제199. 직업을 입력하면 해당 직업의 토탈월급이 출력되게하는 함수를 생성하시오 !"
   ]
  },
  {
   "cell_type": "code",
   "execution_count": 14,
   "metadata": {
    "ExecuteTime": {
     "end_time": "2020-06-22T07:00:21.451543Z",
     "start_time": "2020-06-22T07:00:21.425Z"
    }
   },
   "outputs": [],
   "source": [
    "total<-function(job){\n",
    "    emp<-read.csv('emp3.csv',head=T)\n",
    "    tot<-emp[emp$job==toupper(job),'sal']\n",
    "    rs<-sum(tot)\n",
    "    print(rs)\n",
    "}"
   ]
  },
  {
   "cell_type": "code",
   "execution_count": 17,
   "metadata": {
    "ExecuteTime": {
     "end_time": "2020-06-22T07:00:40.466721Z",
     "start_time": "2020-06-22T07:00:40.429Z"
    }
   },
   "outputs": [
    {
     "name": "stdout",
     "output_type": "stream",
     "text": [
      "[1] 5600\n",
      "[1] 6000\n"
     ]
    }
   ],
   "source": [
    "total('salesman')\n",
    "total('analyst')"
   ]
  },
  {
   "cell_type": "markdown",
   "metadata": {},
   "source": [
    "### ※ 문제200. 위의 스크립트를 수정해서 paste 함수를 이용해서 아래와 같이 출력되게 하시오 !"
   ]
  },
  {
   "cell_type": "code",
   "execution_count": null,
   "metadata": {},
   "outputs": [],
   "source": []
  },
  {
   "cell_type": "code",
   "execution_count": null,
   "metadata": {},
   "outputs": [],
   "source": []
  },
  {
   "cell_type": "code",
   "execution_count": null,
   "metadata": {},
   "outputs": [],
   "source": []
  },
  {
   "cell_type": "code",
   "execution_count": null,
   "metadata": {},
   "outputs": [],
   "source": []
  },
  {
   "cell_type": "code",
   "execution_count": null,
   "metadata": {},
   "outputs": [],
   "source": []
  }
 ],
 "metadata": {
  "kernelspec": {
   "display_name": "R",
   "language": "R",
   "name": "ir"
  },
  "language_info": {
   "codemirror_mode": "r",
   "file_extension": ".r",
   "mimetype": "text/x-r-source",
   "name": "R",
   "pygments_lexer": "r",
   "version": "3.6.1"
  },
  "toc": {
   "base_numbering": 1,
   "nav_menu": {},
   "number_sections": true,
   "sideBar": true,
   "skip_h1_title": false,
   "title_cell": "Table of Contents",
   "title_sidebar": "Contents",
   "toc_cell": false,
   "toc_position": {},
   "toc_section_display": true,
   "toc_window_display": false
  },
  "varInspector": {
   "cols": {
    "lenName": 16,
    "lenType": 16,
    "lenVar": 40
   },
   "kernels_config": {
    "python": {
     "delete_cmd_postfix": "",
     "delete_cmd_prefix": "del ",
     "library": "var_list.py",
     "varRefreshCmd": "print(var_dic_list())"
    },
    "r": {
     "delete_cmd_postfix": ") ",
     "delete_cmd_prefix": "rm(",
     "library": "var_list.r",
     "varRefreshCmd": "cat(var_dic_list()) "
    }
   },
   "types_to_exclude": [
    "module",
    "function",
    "builtin_function_or_method",
    "instance",
    "_Feature"
   ],
   "window_display": false
  }
 },
 "nbformat": 4,
 "nbformat_minor": 4
}
