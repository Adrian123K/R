{
 "cells": [
  {
   "cell_type": "markdown",
   "metadata": {},
   "source": [
    "## ■ SNS의 글로 같은 성향을 가진 사람들을 분류하기 전에 필수로 알아야 되는 R 함수\n",
    "    결측치가 많아서 다른 값으로 치환하는 코드 작성이 필요\n",
    "        이상치/ 결측치 확인\n",
    "    \n",
    "    결측치를 대체하는 방법 3가지\n",
    "        1. 최빈값으로 치환 - hot deck\n",
    "        2. 평균값으로 치환 - mean imputation\n",
    "        3. 회귀 추정값으로 치환  - regression imputation"
   ]
  },
  {
   "cell_type": "markdown",
   "metadata": {},
   "source": [
    "### ※ 문제286. ave함수를 이용해서 자기가 속한 부서번호의 평균월급을 avgsal이라는 파생변수에 담은 후 이름, 월급, 부서번호, 부서번호 별 평균월급 출력하시오\n",
    "```sql\n",
    "select ename, sal, deptno, avg(sal) over (partition by deptno) as avgsal\n",
    "    from emp\n",
    "```"
   ]
  },
  {
   "cell_type": "code",
   "execution_count": 2,
   "metadata": {
    "ExecuteTime": {
     "end_time": "2020-07-03T05:12:23.511801Z",
     "start_time": "2020-07-03T05:12:23.449Z"
    }
   },
   "outputs": [
    {
     "name": "stderr",
     "output_type": "stream",
     "text": [
      "The following object is masked _by_ .GlobalEnv:\n",
      "\n",
      "    index\n",
      "\n",
      "The following objects are masked from emp (pos = 3):\n",
      "\n",
      "    comm, deptno, empno, ename, hiredate, index, job, mgr, sal\n",
      "\n"
     ]
    },
    {
     "data": {
      "text/html": [
       "<table>\n",
       "<thead><tr><th scope=col>ename</th><th scope=col>sal</th><th scope=col>deptno</th><th scope=col>avgsal</th></tr></thead>\n",
       "<tbody>\n",
       "\t<tr><td>KING    </td><td>5000    </td><td>10      </td><td>2916.667</td></tr>\n",
       "\t<tr><td>BLAKE   </td><td>2850    </td><td>30      </td><td>1566.667</td></tr>\n",
       "\t<tr><td>CLARK   </td><td>2450    </td><td>10      </td><td>2916.667</td></tr>\n",
       "\t<tr><td>JONES   </td><td>2975    </td><td>20      </td><td>2175.000</td></tr>\n",
       "\t<tr><td>MARTIN  </td><td>1250    </td><td>30      </td><td>1566.667</td></tr>\n",
       "\t<tr><td>ALLEN   </td><td>1600    </td><td>30      </td><td>1566.667</td></tr>\n",
       "\t<tr><td>TURNER  </td><td>1500    </td><td>30      </td><td>1566.667</td></tr>\n",
       "\t<tr><td>JAMES   </td><td> 950    </td><td>30      </td><td>1566.667</td></tr>\n",
       "\t<tr><td>WARD    </td><td>1250    </td><td>30      </td><td>1566.667</td></tr>\n",
       "\t<tr><td>FORD    </td><td>3000    </td><td>20      </td><td>2175.000</td></tr>\n",
       "\t<tr><td>SMITH   </td><td> 800    </td><td>20      </td><td>2175.000</td></tr>\n",
       "\t<tr><td>SCOTT   </td><td>3000    </td><td>20      </td><td>2175.000</td></tr>\n",
       "\t<tr><td>ADAMS   </td><td>1100    </td><td>20      </td><td>2175.000</td></tr>\n",
       "\t<tr><td>MILLER  </td><td>1300    </td><td>10      </td><td>2916.667</td></tr>\n",
       "</tbody>\n",
       "</table>\n"
      ],
      "text/latex": [
       "\\begin{tabular}{r|llll}\n",
       " ename & sal & deptno & avgsal\\\\\n",
       "\\hline\n",
       "\t KING     & 5000     & 10       & 2916.667\\\\\n",
       "\t BLAKE    & 2850     & 30       & 1566.667\\\\\n",
       "\t CLARK    & 2450     & 10       & 2916.667\\\\\n",
       "\t JONES    & 2975     & 20       & 2175.000\\\\\n",
       "\t MARTIN   & 1250     & 30       & 1566.667\\\\\n",
       "\t ALLEN    & 1600     & 30       & 1566.667\\\\\n",
       "\t TURNER   & 1500     & 30       & 1566.667\\\\\n",
       "\t JAMES    &  950     & 30       & 1566.667\\\\\n",
       "\t WARD     & 1250     & 30       & 1566.667\\\\\n",
       "\t FORD     & 3000     & 20       & 2175.000\\\\\n",
       "\t SMITH    &  800     & 20       & 2175.000\\\\\n",
       "\t SCOTT    & 3000     & 20       & 2175.000\\\\\n",
       "\t ADAMS    & 1100     & 20       & 2175.000\\\\\n",
       "\t MILLER   & 1300     & 10       & 2916.667\\\\\n",
       "\\end{tabular}\n"
      ],
      "text/markdown": [
       "\n",
       "| ename | sal | deptno | avgsal |\n",
       "|---|---|---|---|\n",
       "| KING     | 5000     | 10       | 2916.667 |\n",
       "| BLAKE    | 2850     | 30       | 1566.667 |\n",
       "| CLARK    | 2450     | 10       | 2916.667 |\n",
       "| JONES    | 2975     | 20       | 2175.000 |\n",
       "| MARTIN   | 1250     | 30       | 1566.667 |\n",
       "| ALLEN    | 1600     | 30       | 1566.667 |\n",
       "| TURNER   | 1500     | 30       | 1566.667 |\n",
       "| JAMES    |  950     | 30       | 1566.667 |\n",
       "| WARD     | 1250     | 30       | 1566.667 |\n",
       "| FORD     | 3000     | 20       | 2175.000 |\n",
       "| SMITH    |  800     | 20       | 2175.000 |\n",
       "| SCOTT    | 3000     | 20       | 2175.000 |\n",
       "| ADAMS    | 1100     | 20       | 2175.000 |\n",
       "| MILLER   | 1300     | 10       | 2916.667 |\n",
       "\n"
      ],
      "text/plain": [
       "   ename  sal  deptno avgsal  \n",
       "1  KING   5000 10     2916.667\n",
       "2  BLAKE  2850 30     1566.667\n",
       "3  CLARK  2450 10     2916.667\n",
       "4  JONES  2975 20     2175.000\n",
       "5  MARTIN 1250 30     1566.667\n",
       "6  ALLEN  1600 30     1566.667\n",
       "7  TURNER 1500 30     1566.667\n",
       "8  JAMES   950 30     1566.667\n",
       "9  WARD   1250 30     1566.667\n",
       "10 FORD   3000 20     2175.000\n",
       "11 SMITH   800 20     2175.000\n",
       "12 SCOTT  3000 20     2175.000\n",
       "13 ADAMS  1100 20     2175.000\n",
       "14 MILLER 1300 10     2916.667"
      ]
     },
     "metadata": {},
     "output_type": "display_data"
    }
   ],
   "source": [
    "emp <- read.csv(\"emp3.csv\", header=T)\n",
    "attach(emp)\n",
    "emp$avgsal <- ave(sal, deptno, FUN=function(x) mean(x))\n",
    "emp[ , c(\"ename\",\"sal\",\"deptno\",\"avgsal\")]"
   ]
  },
  {
   "cell_type": "code",
   "execution_count": null,
   "metadata": {
    "ExecuteTime": {
     "end_time": "2020-07-03T05:12:47.687876Z",
     "start_time": "2020-07-03T05:12:46.314Z"
    }
   },
   "outputs": [],
   "source": [
    "ave(1:3)"
   ]
  },
  {
   "cell_type": "markdown",
   "metadata": {},
   "source": [
    "### ※ 문제287. 이름, 월급, 직업, 자기가 속한 직업의 평균월급을 출력"
   ]
  },
  {
   "cell_type": "code",
   "execution_count": 3,
   "metadata": {
    "ExecuteTime": {
     "end_time": "2020-07-03T05:20:33.282987Z",
     "start_time": "2020-07-03T05:20:33.232Z"
    }
   },
   "outputs": [
    {
     "data": {
      "text/html": [
       "<table>\n",
       "<thead><tr><th scope=col>index</th><th scope=col>empno</th><th scope=col>ename</th><th scope=col>job</th><th scope=col>mgr</th><th scope=col>hiredate</th><th scope=col>sal</th><th scope=col>comm</th><th scope=col>deptno</th><th scope=col>jobsal</th></tr></thead>\n",
       "<tbody>\n",
       "\t<tr><td> 1             </td><td>7839           </td><td>KING           </td><td>PRESIDENT      </td><td>  NA           </td><td>1981-11-17 0:00</td><td>5000           </td><td>  NA           </td><td>10             </td><td>5000.000       </td></tr>\n",
       "\t<tr><td> 2             </td><td>7698           </td><td>BLAKE          </td><td>MANAGER        </td><td>7839           </td><td>1981-05-01 0:00</td><td>2850           </td><td>  NA           </td><td>30             </td><td>2758.333       </td></tr>\n",
       "\t<tr><td> 3             </td><td>7782           </td><td>CLARK          </td><td>MANAGER        </td><td>7839           </td><td>1981-05-09 0:00</td><td>2450           </td><td>  NA           </td><td>10             </td><td>2758.333       </td></tr>\n",
       "\t<tr><td> 4             </td><td>7566           </td><td>JONES          </td><td>MANAGER        </td><td>7839           </td><td>1981-04-01 0:00</td><td>2975           </td><td>  NA           </td><td>20             </td><td>2758.333       </td></tr>\n",
       "\t<tr><td> 5             </td><td>7654           </td><td>MARTIN         </td><td>SALESMAN       </td><td>7698           </td><td>1981-09-10 0:00</td><td>1250           </td><td>1400           </td><td>30             </td><td>1400.000       </td></tr>\n",
       "\t<tr><td> 6             </td><td>7499           </td><td>ALLEN          </td><td>SALESMAN       </td><td>7698           </td><td>1981-02-11 0:00</td><td>1600           </td><td> 300           </td><td>30             </td><td>1400.000       </td></tr>\n",
       "\t<tr><td> 7             </td><td>7844           </td><td>TURNER         </td><td>SALESMAN       </td><td>7698           </td><td>1981-08-21 0:00</td><td>1500           </td><td>   0           </td><td>30             </td><td>1400.000       </td></tr>\n",
       "\t<tr><td> 8             </td><td>7900           </td><td>JAMES          </td><td>CLERK          </td><td>7698           </td><td>1981-12-11 0:00</td><td> 950           </td><td>  NA           </td><td>30             </td><td>1037.500       </td></tr>\n",
       "\t<tr><td> 9             </td><td>7521           </td><td>WARD           </td><td>SALESMAN       </td><td>7698           </td><td>1981-02-23 0:00</td><td>1250           </td><td> 500           </td><td>30             </td><td>1400.000       </td></tr>\n",
       "\t<tr><td>10             </td><td>7902           </td><td>FORD           </td><td>ANALYST        </td><td>7566           </td><td>1981-12-11 0:00</td><td>3000           </td><td>  NA           </td><td>20             </td><td>3000.000       </td></tr>\n",
       "\t<tr><td>11             </td><td>7369           </td><td>SMITH          </td><td>CLERK          </td><td>7902           </td><td>1980-12-09 0:00</td><td> 800           </td><td>  NA           </td><td>20             </td><td>1037.500       </td></tr>\n",
       "\t<tr><td>12             </td><td>7788           </td><td>SCOTT          </td><td>ANALYST        </td><td>7566           </td><td>1982-12-22 0:00</td><td>3000           </td><td>  NA           </td><td>20             </td><td>3000.000       </td></tr>\n",
       "\t<tr><td>13             </td><td>7876           </td><td>ADAMS          </td><td>CLERK          </td><td>7788           </td><td>1983-01-15 0:00</td><td>1100           </td><td>  NA           </td><td>20             </td><td>1037.500       </td></tr>\n",
       "\t<tr><td>14             </td><td>7934           </td><td>MILLER         </td><td>CLERK          </td><td>7782           </td><td>1982-01-11 0:00</td><td>1300           </td><td>  NA           </td><td>10             </td><td>1037.500       </td></tr>\n",
       "</tbody>\n",
       "</table>\n"
      ],
      "text/latex": [
       "\\begin{tabular}{r|llllllllll}\n",
       " index & empno & ename & job & mgr & hiredate & sal & comm & deptno & jobsal\\\\\n",
       "\\hline\n",
       "\t  1              & 7839            & KING            & PRESIDENT       &   NA            & 1981-11-17 0:00 & 5000            &   NA            & 10              & 5000.000       \\\\\n",
       "\t  2              & 7698            & BLAKE           & MANAGER         & 7839            & 1981-05-01 0:00 & 2850            &   NA            & 30              & 2758.333       \\\\\n",
       "\t  3              & 7782            & CLARK           & MANAGER         & 7839            & 1981-05-09 0:00 & 2450            &   NA            & 10              & 2758.333       \\\\\n",
       "\t  4              & 7566            & JONES           & MANAGER         & 7839            & 1981-04-01 0:00 & 2975            &   NA            & 20              & 2758.333       \\\\\n",
       "\t  5              & 7654            & MARTIN          & SALESMAN        & 7698            & 1981-09-10 0:00 & 1250            & 1400            & 30              & 1400.000       \\\\\n",
       "\t  6              & 7499            & ALLEN           & SALESMAN        & 7698            & 1981-02-11 0:00 & 1600            &  300            & 30              & 1400.000       \\\\\n",
       "\t  7              & 7844            & TURNER          & SALESMAN        & 7698            & 1981-08-21 0:00 & 1500            &    0            & 30              & 1400.000       \\\\\n",
       "\t  8              & 7900            & JAMES           & CLERK           & 7698            & 1981-12-11 0:00 &  950            &   NA            & 30              & 1037.500       \\\\\n",
       "\t  9              & 7521            & WARD            & SALESMAN        & 7698            & 1981-02-23 0:00 & 1250            &  500            & 30              & 1400.000       \\\\\n",
       "\t 10              & 7902            & FORD            & ANALYST         & 7566            & 1981-12-11 0:00 & 3000            &   NA            & 20              & 3000.000       \\\\\n",
       "\t 11              & 7369            & SMITH           & CLERK           & 7902            & 1980-12-09 0:00 &  800            &   NA            & 20              & 1037.500       \\\\\n",
       "\t 12              & 7788            & SCOTT           & ANALYST         & 7566            & 1982-12-22 0:00 & 3000            &   NA            & 20              & 3000.000       \\\\\n",
       "\t 13              & 7876            & ADAMS           & CLERK           & 7788            & 1983-01-15 0:00 & 1100            &   NA            & 20              & 1037.500       \\\\\n",
       "\t 14              & 7934            & MILLER          & CLERK           & 7782            & 1982-01-11 0:00 & 1300            &   NA            & 10              & 1037.500       \\\\\n",
       "\\end{tabular}\n"
      ],
      "text/markdown": [
       "\n",
       "| index | empno | ename | job | mgr | hiredate | sal | comm | deptno | jobsal |\n",
       "|---|---|---|---|---|---|---|---|---|---|\n",
       "|  1              | 7839            | KING            | PRESIDENT       |   NA            | 1981-11-17 0:00 | 5000            |   NA            | 10              | 5000.000        |\n",
       "|  2              | 7698            | BLAKE           | MANAGER         | 7839            | 1981-05-01 0:00 | 2850            |   NA            | 30              | 2758.333        |\n",
       "|  3              | 7782            | CLARK           | MANAGER         | 7839            | 1981-05-09 0:00 | 2450            |   NA            | 10              | 2758.333        |\n",
       "|  4              | 7566            | JONES           | MANAGER         | 7839            | 1981-04-01 0:00 | 2975            |   NA            | 20              | 2758.333        |\n",
       "|  5              | 7654            | MARTIN          | SALESMAN        | 7698            | 1981-09-10 0:00 | 1250            | 1400            | 30              | 1400.000        |\n",
       "|  6              | 7499            | ALLEN           | SALESMAN        | 7698            | 1981-02-11 0:00 | 1600            |  300            | 30              | 1400.000        |\n",
       "|  7              | 7844            | TURNER          | SALESMAN        | 7698            | 1981-08-21 0:00 | 1500            |    0            | 30              | 1400.000        |\n",
       "|  8              | 7900            | JAMES           | CLERK           | 7698            | 1981-12-11 0:00 |  950            |   NA            | 30              | 1037.500        |\n",
       "|  9              | 7521            | WARD            | SALESMAN        | 7698            | 1981-02-23 0:00 | 1250            |  500            | 30              | 1400.000        |\n",
       "| 10              | 7902            | FORD            | ANALYST         | 7566            | 1981-12-11 0:00 | 3000            |   NA            | 20              | 3000.000        |\n",
       "| 11              | 7369            | SMITH           | CLERK           | 7902            | 1980-12-09 0:00 |  800            |   NA            | 20              | 1037.500        |\n",
       "| 12              | 7788            | SCOTT           | ANALYST         | 7566            | 1982-12-22 0:00 | 3000            |   NA            | 20              | 3000.000        |\n",
       "| 13              | 7876            | ADAMS           | CLERK           | 7788            | 1983-01-15 0:00 | 1100            |   NA            | 20              | 1037.500        |\n",
       "| 14              | 7934            | MILLER          | CLERK           | 7782            | 1982-01-11 0:00 | 1300            |   NA            | 10              | 1037.500        |\n",
       "\n"
      ],
      "text/plain": [
       "   index empno ename  job       mgr  hiredate        sal  comm deptno jobsal  \n",
       "1   1    7839  KING   PRESIDENT   NA 1981-11-17 0:00 5000   NA 10     5000.000\n",
       "2   2    7698  BLAKE  MANAGER   7839 1981-05-01 0:00 2850   NA 30     2758.333\n",
       "3   3    7782  CLARK  MANAGER   7839 1981-05-09 0:00 2450   NA 10     2758.333\n",
       "4   4    7566  JONES  MANAGER   7839 1981-04-01 0:00 2975   NA 20     2758.333\n",
       "5   5    7654  MARTIN SALESMAN  7698 1981-09-10 0:00 1250 1400 30     1400.000\n",
       "6   6    7499  ALLEN  SALESMAN  7698 1981-02-11 0:00 1600  300 30     1400.000\n",
       "7   7    7844  TURNER SALESMAN  7698 1981-08-21 0:00 1500    0 30     1400.000\n",
       "8   8    7900  JAMES  CLERK     7698 1981-12-11 0:00  950   NA 30     1037.500\n",
       "9   9    7521  WARD   SALESMAN  7698 1981-02-23 0:00 1250  500 30     1400.000\n",
       "10 10    7902  FORD   ANALYST   7566 1981-12-11 0:00 3000   NA 20     3000.000\n",
       "11 11    7369  SMITH  CLERK     7902 1980-12-09 0:00  800   NA 20     1037.500\n",
       "12 12    7788  SCOTT  ANALYST   7566 1982-12-22 0:00 3000   NA 20     3000.000\n",
       "13 13    7876  ADAMS  CLERK     7788 1983-01-15 0:00 1100   NA 20     1037.500\n",
       "14 14    7934  MILLER CLERK     7782 1982-01-11 0:00 1300   NA 10     1037.500"
      ]
     },
     "metadata": {},
     "output_type": "display_data"
    }
   ],
   "source": [
    "emp <- read.csv('emp3.csv',head=T)\n",
    "emp$jobsal <- ave(sal, job, FUN=function(x) mean(x))\n",
    "emp"
   ]
  },
  {
   "cell_type": "markdown",
   "metadata": {},
   "source": [
    "### ※ 문제288. 사원 테이블에 결측치가 얼마나 있는지 확인하시오"
   ]
  },
  {
   "cell_type": "code",
   "execution_count": 4,
   "metadata": {
    "ExecuteTime": {
     "end_time": "2020-07-03T05:21:06.799316Z",
     "start_time": "2020-07-03T05:21:06.762Z"
    }
   },
   "outputs": [
    {
     "data": {
      "text/html": [
       "<dl class=dl-horizontal>\n",
       "\t<dt>index</dt>\n",
       "\t\t<dd>0</dd>\n",
       "\t<dt>empno</dt>\n",
       "\t\t<dd>0</dd>\n",
       "\t<dt>ename</dt>\n",
       "\t\t<dd>0</dd>\n",
       "\t<dt>job</dt>\n",
       "\t\t<dd>0</dd>\n",
       "\t<dt>mgr</dt>\n",
       "\t\t<dd>1</dd>\n",
       "\t<dt>hiredate</dt>\n",
       "\t\t<dd>0</dd>\n",
       "\t<dt>sal</dt>\n",
       "\t\t<dd>0</dd>\n",
       "\t<dt>comm</dt>\n",
       "\t\t<dd>10</dd>\n",
       "\t<dt>deptno</dt>\n",
       "\t\t<dd>0</dd>\n",
       "\t<dt>jobsal</dt>\n",
       "\t\t<dd>0</dd>\n",
       "</dl>\n"
      ],
      "text/latex": [
       "\\begin{description*}\n",
       "\\item[index] 0\n",
       "\\item[empno] 0\n",
       "\\item[ename] 0\n",
       "\\item[job] 0\n",
       "\\item[mgr] 1\n",
       "\\item[hiredate] 0\n",
       "\\item[sal] 0\n",
       "\\item[comm] 10\n",
       "\\item[deptno] 0\n",
       "\\item[jobsal] 0\n",
       "\\end{description*}\n"
      ],
      "text/markdown": [
       "index\n",
       ":   0empno\n",
       ":   0ename\n",
       ":   0job\n",
       ":   0mgr\n",
       ":   1hiredate\n",
       ":   0sal\n",
       ":   0comm\n",
       ":   10deptno\n",
       ":   0jobsal\n",
       ":   0\n",
       "\n"
      ],
      "text/plain": [
       "   index    empno    ename      job      mgr hiredate      sal     comm \n",
       "       0        0        0        0        1        0        0       10 \n",
       "  deptno   jobsal \n",
       "       0        0 "
      ]
     },
     "metadata": {},
     "output_type": "display_data"
    }
   ],
   "source": [
    "colSums(is.na(emp))"
   ]
  },
  {
   "cell_type": "markdown",
   "metadata": {},
   "source": [
    "### ※ 문제289. 사원 테이블의 커미션의 결측치를 자기가 속한 부서번호의 평균월급으로 치환하시오"
   ]
  },
  {
   "cell_type": "code",
   "execution_count": 9,
   "metadata": {
    "ExecuteTime": {
     "end_time": "2020-07-03T05:51:11.911005Z",
     "start_time": "2020-07-03T05:51:11.878Z"
    }
   },
   "outputs": [
    {
     "name": "stderr",
     "output_type": "stream",
     "text": [
      "Warning message in emp$comm[is.na(emp$comm)] <- ave(emp$sal, emp$deptno, FUN = function(x) mean(x)):\n",
      "\"number of items to replace is not a multiple of replacement length\""
     ]
    }
   ],
   "source": [
    "emp$comm[is.na(emp$comm)] <- ave(emp$sal, emp$deptno, FUN=function(x) mean(x))"
   ]
  },
  {
   "cell_type": "code",
   "execution_count": null,
   "metadata": {},
   "outputs": [],
   "source": []
  },
  {
   "cell_type": "code",
   "execution_count": null,
   "metadata": {},
   "outputs": [],
   "source": []
  }
 ],
 "metadata": {
  "kernelspec": {
   "display_name": "R",
   "language": "R",
   "name": "ir"
  },
  "language_info": {
   "codemirror_mode": "r",
   "file_extension": ".r",
   "mimetype": "text/x-r-source",
   "name": "R",
   "pygments_lexer": "r",
   "version": "3.6.1"
  },
  "toc": {
   "base_numbering": 1,
   "nav_menu": {},
   "number_sections": true,
   "sideBar": true,
   "skip_h1_title": false,
   "title_cell": "Table of Contents",
   "title_sidebar": "Contents",
   "toc_cell": false,
   "toc_position": {},
   "toc_section_display": true,
   "toc_window_display": false
  },
  "varInspector": {
   "cols": {
    "lenName": 16,
    "lenType": 16,
    "lenVar": 40
   },
   "kernels_config": {
    "python": {
     "delete_cmd_postfix": "",
     "delete_cmd_prefix": "del ",
     "library": "var_list.py",
     "varRefreshCmd": "print(var_dic_list())"
    },
    "r": {
     "delete_cmd_postfix": ") ",
     "delete_cmd_prefix": "rm(",
     "library": "var_list.r",
     "varRefreshCmd": "cat(var_dic_list()) "
    }
   },
   "types_to_exclude": [
    "module",
    "function",
    "builtin_function_or_method",
    "instance",
    "_Feature"
   ],
   "window_display": false
  }
 },
 "nbformat": 4,
 "nbformat_minor": 4
}
