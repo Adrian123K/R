{
 "cells": [
  {
   "cell_type": "markdown",
   "metadata": {},
   "source": [
    "# <b> ■ 회귀분석 </b>\n",
    "    1. 단순 회귀분석\n",
    "        - 단순 회귀분석 이론 \n",
    "        - 단순 회귀분석 실습1 : 애벌레 사료와 탄닌 함유량과의 관계\n",
    "        - 단순 회귀분석 실습2 : 우주 왕복선 챌린저 폭파원인\n",
    "        - 상관관계 ( 다중회귀 -> 다중공선성(multicolinearity)\n",
    "        - 자동화 스크립트 개선 ( 산포도 그래프 + 회귀직선 추가 )            \n",
    "    2. 다중 회귀분석\n",
    "        "
   ]
  },
  {
   "cell_type": "markdown",
   "metadata": {},
   "source": [
    "## ■ <b> 다중회귀분석</b>\n",
    "```\n",
    "    단순선형회귀분석 -> 목적이 하나의 독립변수만을 가지고 종속변수를 예측하기 위한 회귀모형을 만들기 위한 것\n",
    "    다중회귀분석 -> 목적이 여러개의 독립변수들을 가지고 종속변수를 예측하기 위한 회귀모형을 만들기 위한 것\n",
    "```\n",
    "```\n",
    "    질문1. 집 값에 영향을 미치는 요소가 여러 독립 변수들 중 무엇?\n",
    "```\n",
    "\n",
    "![다중회귀식](http://cfile259.uf.daum.net/image/9923BA3E5EF897C425BDC1)"
   ]
  },
  {
   "cell_type": "markdown",
   "metadata": {},
   "source": [
    "### □ <b>다중선형 회귀식을 이해하기 위한 사전 지식</b>\n",
    "```\n",
    "        1. 전치행렬 : 행과 열을 교환하여 얻은 행렬\n",
    "        2. 단위행렬 : 주 대각선의 원소가 모두 1이며 나머지 원소는 모두 0인 정사각 행렬\n",
    "        3. 역행렬 : 원래 행렬과 곱했을때 단위행렬이 되는 행렬\n",
    "```\n",
    "![역행렬](http://cfile263.uf.daum.net/image/99DB88335A0BB5441C52A3)\n",
    "```\n",
    "        4. 의사역행렬(Pseudo inverse matrix) \n",
    "            역행렬은 정방행렬일 때만 구할 수 있다. 따라서 직사각행렬일 때는 역행렬을 구할 수 없으므로 의사역행렬을 구해야한다\n",
    "            - 정방행렬\n",
    "```\n",
    "$$B=\\begin{pmatrix} a & b \\\\  c & d \\\\  \\end{pmatrix}$$\n",
    "$$B^{-1}={{1}\\over{ad-bc}}\\begin{pmatrix} d & -b \\\\ -c & a \\\\ \\end{pmatrix}$$\n",
    "```\n",
    "            - 비 정방행렬\n",
    "```\n",
    "$$A=\\begin{pmatrix} x_{11} & x_{12} & x_{13} & x_{14} \\\\ x_{21} & x_{22} & x_{23} & x_{24} \\\\ x_{31} & x_{32} & x_{33} & x_{34} \\\\ \\end{pmatrix}$$\n",
    "$$A \\cdot A^{T} : 정방행렬　　det(A)≠0　일　때　역행렬이　존재$$"
   ]
  },
  {
   "cell_type": "markdown",
   "metadata": {},
   "source": [
    "### ※ 문제255. 아래의 행렬을 r로 구현하고 아래의 행렬의 전치행렬을 구하시오\n",
    "$$ \\begin{pmatrix}\n",
    "    1 & 2 \\\\\n",
    "    3 & 4 \\\\\n",
    "    5 & 6 \\\\\n",
    "    \\end{pmatrix}$$"
   ]
  },
  {
   "cell_type": "code",
   "execution_count": 1,
   "metadata": {
    "ExecuteTime": {
     "end_time": "2020-06-29T01:06:01.445489Z",
     "start_time": "2020-06-29T01:06:01.374Z"
    }
   },
   "outputs": [
    {
     "data": {
      "text/html": [
       "<table>\n",
       "<tbody>\n",
       "\t<tr><td>1</td><td>2</td><td>3</td></tr>\n",
       "\t<tr><td>4</td><td>5</td><td>6</td></tr>\n",
       "</tbody>\n",
       "</table>\n"
      ],
      "text/latex": [
       "\\begin{tabular}{lll}\n",
       "\t 1 & 2 & 3\\\\\n",
       "\t 4 & 5 & 6\\\\\n",
       "\\end{tabular}\n"
      ],
      "text/markdown": [
       "\n",
       "| 1 | 2 | 3 |\n",
       "| 4 | 5 | 6 |\n",
       "\n"
      ],
      "text/plain": [
       "     [,1] [,2] [,3]\n",
       "[1,] 1    2    3   \n",
       "[2,] 4    5    6   "
      ]
     },
     "metadata": {},
     "output_type": "display_data"
    }
   ],
   "source": [
    "A <- matrix(c(1,2,3,4,5,6), nrow = 3, ncol = 2, byrow=T)\n",
    "A\n",
    "t(A)"
   ]
  },
  {
   "cell_type": "markdown",
   "metadata": {},
   "source": [
    "### ※ 문제256. 아래의 행렬의 곱을 구현하시오\n",
    "$$ \\begin{pmatrix}\n",
    "    1 & 2 & 3 \\\\\n",
    "    2 & 3 & 4 \\\\\n",
    "    \\end{pmatrix}*\n",
    "    \\begin{pmatrix}\n",
    "    1 & 0 & 0 \\\\\n",
    "    0 & 1 & 0 \\\\\n",
    "    0 & 0 & 1 \\\\\n",
    "    \\end{pmatrix} $$"
   ]
  },
  {
   "cell_type": "code",
   "execution_count": 7,
   "metadata": {
    "ExecuteTime": {
     "end_time": "2020-06-29T01:16:33.836829Z",
     "start_time": "2020-06-29T01:16:33.802Z"
    }
   },
   "outputs": [
    {
     "data": {
      "text/html": [
       "<table>\n",
       "<tbody>\n",
       "\t<tr><td>1</td><td>2</td><td>3</td></tr>\n",
       "\t<tr><td>2</td><td>3</td><td>4</td></tr>\n",
       "</tbody>\n",
       "</table>\n"
      ],
      "text/latex": [
       "\\begin{tabular}{lll}\n",
       "\t 1 & 2 & 3\\\\\n",
       "\t 2 & 3 & 4\\\\\n",
       "\\end{tabular}\n"
      ],
      "text/markdown": [
       "\n",
       "| 1 | 2 | 3 |\n",
       "| 2 | 3 | 4 |\n",
       "\n"
      ],
      "text/plain": [
       "     [,1] [,2] [,3]\n",
       "[1,] 1    2    3   \n",
       "[2,] 2    3    4   "
      ]
     },
     "metadata": {},
     "output_type": "display_data"
    }
   ],
   "source": [
    "b <- matrix(c(1,2,3,2,3,4),nrow=2,ncol=3, byrow=T)\n",
    "i <- diag(3)\n",
    "b%*%i"
   ]
  },
  {
   "cell_type": "markdown",
   "metadata": {},
   "source": [
    "### ※ 문제257. 역행렬구하기\n",
    "$$\\begin{pmatrix}\n",
    "    1 & 2 \\\\\n",
    "    3 & 4 \\\\\n",
    "    \\end{pmatrix}\n",
    "    \\begin{pmatrix}\n",
    "    x_{11} & x_{12} \\\\\n",
    "    x_{21} & x_{22} \\\\\n",
    "    \\end{pmatrix}=\\begin{pmatrix}\n",
    "    1 & 0 \\\\\n",
    "    0 & 1 \\\\\n",
    "    \\end{pmatrix}$$"
   ]
  },
  {
   "cell_type": "code",
   "execution_count": 8,
   "metadata": {
    "ExecuteTime": {
     "end_time": "2020-06-29T01:42:07.175695Z",
     "start_time": "2020-06-29T01:42:07.040Z"
    }
   },
   "outputs": [
    {
     "data": {
      "text/html": [
       "<table>\n",
       "<tbody>\n",
       "\t<tr><td>-2.0</td><td> 1.0</td></tr>\n",
       "\t<tr><td> 1.5</td><td>-0.5</td></tr>\n",
       "</tbody>\n",
       "</table>\n"
      ],
      "text/latex": [
       "\\begin{tabular}{ll}\n",
       "\t -2.0 &  1.0\\\\\n",
       "\t  1.5 & -0.5\\\\\n",
       "\\end{tabular}\n"
      ],
      "text/markdown": [
       "\n",
       "| -2.0 |  1.0 |\n",
       "|  1.5 | -0.5 |\n",
       "\n"
      ],
      "text/plain": [
       "     [,1] [,2]\n",
       "[1,] -2.0  1.0\n",
       "[2,]  1.5 -0.5"
      ]
     },
     "metadata": {},
     "output_type": "display_data"
    },
    {
     "data": {
      "text/html": [
       "<table>\n",
       "<tbody>\n",
       "\t<tr><td>1</td><td>0</td></tr>\n",
       "\t<tr><td>0</td><td>1</td></tr>\n",
       "</tbody>\n",
       "</table>\n"
      ],
      "text/latex": [
       "\\begin{tabular}{ll}\n",
       "\t 1 & 0\\\\\n",
       "\t 0 & 1\\\\\n",
       "\\end{tabular}\n"
      ],
      "text/markdown": [
       "\n",
       "| 1 | 0 |\n",
       "| 0 | 1 |\n",
       "\n"
      ],
      "text/plain": [
       "     [,1] [,2]\n",
       "[1,] 1    0   \n",
       "[2,] 0    1   "
      ]
     },
     "metadata": {},
     "output_type": "display_data"
    }
   ],
   "source": [
    "A <- matrix(c(1,2,3,4),nrow=2,ncol=2, byrow=T)\n",
    "solve(A)\n",
    "round(A %*% solve(A))"
   ]
  },
  {
   "cell_type": "markdown",
   "metadata": {},
   "source": [
    "### ※ 문제258. 의사역행렬로 구한 다중 회귀식의 회귀 계수를 구하는 함수를 책 264페이지를 보고 구현하시오\n",
    "$$ Y= X\\beta + \\epsilon,　　　　　 \\hat{\\beta}=(X^{T}X)^{-1}X^{T}Y$$"
   ]
  },
  {
   "cell_type": "code",
   "execution_count": 12,
   "metadata": {
    "ExecuteTime": {
     "end_time": "2020-06-29T02:10:13.370708Z",
     "start_time": "2020-06-29T02:10:13.344Z"
    }
   },
   "outputs": [],
   "source": [
    "reg <- function(y, x){\n",
    "    x <- as.matrix(x)\n",
    "    x <- cbind(intercept=1,x)\n",
    "    b <- solve(t(x)%*%x)%*%t(x)%*%y\n",
    "    colnames(b) <- 'estimate'\n",
    "    print(b)\n",
    "}"
   ]
  },
  {
   "cell_type": "markdown",
   "metadata": {},
   "source": [
    "    단순회귀분석 예시 : 챌린저호의 폭파원인 -> 온도, O형 링의 파손수 만 사용해서 분석\n",
    "    다중회귀분석 예시 :          ~         -> 비행기번호, 압력 다 사용해서 분석"
   ]
  },
  {
   "cell_type": "markdown",
   "metadata": {},
   "source": [
    "### ※ 문제259. O형링 폭파 원인에 가장 영향을 미친 요소가 온도, 비행기 번호, 압력인지 위에서 만든 reg 함수로 알아내시오"
   ]
  },
  {
   "cell_type": "code",
   "execution_count": 13,
   "metadata": {
    "ExecuteTime": {
     "end_time": "2020-06-29T02:10:15.165993Z",
     "start_time": "2020-06-29T02:10:15.133Z"
    }
   },
   "outputs": [
    {
     "name": "stdout",
     "output_type": "stream",
     "text": [
      "                         estimate\n",
      "intercept             3.527093383\n",
      "temperature          -0.051385940\n",
      "field_check_pressure  0.001757009\n",
      "flight_num            0.014292843\n"
     ]
    }
   ],
   "source": [
    "launch <- read.csv('challenger.csv',head=T)\n",
    "lnch2 <- launch[,-1]\n",
    "reg(y=launch$distress_ct,lnch2)"
   ]
  },
  {
   "cell_type": "markdown",
   "metadata": {},
   "source": [
    "```\n",
    "    O형링 파손에 영향을 주는 가장 큰 독립변수 : temperature -0.051385940\n",
    "    그 다음 변수 : flight_num 0.014292843\n",
    "```\n",
    "$$ \\hat{y}=3.527093383 - 0.051385940\\cdot X_{1} + 0.001577009\\cdot X_{2} + 0.014292843\\cdot X_{3} $$\n",
    "```\n",
    "    온도만 가지고 단순회귀식을 도출해보면\n",
    "```\n",
    "$$ \\hat{y}=3.70 - 0.048\\cdot x_{1}$$\n",
    "```\n",
    "     ea          temp(Ｆ)\n",
    "    2.21          31Ｆ\n",
    "    0.82          60Ｆ\n",
    "    0.34          70Ｆ\n",
    "```\n",
    "    화씨 30도에서 발사하는 것이 화씨 60도에서 발사하는 것 보다 3배 더 위험\n",
    "    화씨 70도에서 발사하는 것보다 7-8배 위험"
   ]
  },
  {
   "cell_type": "markdown",
   "metadata": {},
   "source": [
    "### ※ 문제260. 스마트폰 만족감(종속변수)에 영향을 미치는 요소 중 가장 영향력이 있는 독립변수는 무엇인가?"
   ]
  },
  {
   "cell_type": "code",
   "execution_count": 14,
   "metadata": {
    "ExecuteTime": {
     "end_time": "2020-06-29T02:22:30.489196Z",
     "start_time": "2020-06-29T02:22:30.440Z"
    }
   },
   "outputs": [
    {
     "data": {
      "text/html": [
       "<table>\n",
       "<thead><tr><th scope=col>외관</th><th scope=col>편의성</th><th scope=col>유용성</th><th scope=col>만족감</th></tr></thead>\n",
       "<tbody>\n",
       "\t<tr><td> 0.92028</td><td> 2.26322</td><td> 2.49969</td><td>5.00    </td></tr>\n",
       "\t<tr><td> 0.35472</td><td> 0.11779</td><td> 1.02933</td><td>3.00    </td></tr>\n",
       "\t<tr><td>-0.51868</td><td> 0.20008</td><td>-0.28899</td><td>3.00    </td></tr>\n",
       "\t<tr><td> 1.27550</td><td> 0.16089</td><td> 0.72871</td><td>4.33    </td></tr>\n",
       "\t<tr><td> 1.25506</td><td>-1.83269</td><td> 0.31254</td><td>3.33    </td></tr>\n",
       "\t<tr><td>-0.49746</td><td>-0.96887</td><td> 0.07472</td><td>4.00    </td></tr>\n",
       "</tbody>\n",
       "</table>\n"
      ],
      "text/latex": [
       "\\begin{tabular}{r|llll}\n",
       " 외관 & 편의성 & 유용성 & 만족감\\\\\n",
       "\\hline\n",
       "\t  0.92028 &  2.26322 &  2.49969 & 5.00    \\\\\n",
       "\t  0.35472 &  0.11779 &  1.02933 & 3.00    \\\\\n",
       "\t -0.51868 &  0.20008 & -0.28899 & 3.00    \\\\\n",
       "\t  1.27550 &  0.16089 &  0.72871 & 4.33    \\\\\n",
       "\t  1.25506 & -1.83269 &  0.31254 & 3.33    \\\\\n",
       "\t -0.49746 & -0.96887 &  0.07472 & 4.00    \\\\\n",
       "\\end{tabular}\n"
      ],
      "text/markdown": [
       "\n",
       "| 외관 | 편의성 | 유용성 | 만족감 |\n",
       "|---|---|---|---|\n",
       "|  0.92028 |  2.26322 |  2.49969 | 5.00     |\n",
       "|  0.35472 |  0.11779 |  1.02933 | 3.00     |\n",
       "| -0.51868 |  0.20008 | -0.28899 | 3.00     |\n",
       "|  1.27550 |  0.16089 |  0.72871 | 4.33     |\n",
       "|  1.25506 | -1.83269 |  0.31254 | 3.33     |\n",
       "| -0.49746 | -0.96887 |  0.07472 | 4.00     |\n",
       "\n"
      ],
      "text/plain": [
       "  외관     편의성   유용성   만족감\n",
       "1  0.92028  2.26322  2.49969 5.00  \n",
       "2  0.35472  0.11779  1.02933 3.00  \n",
       "3 -0.51868  0.20008 -0.28899 3.00  \n",
       "4  1.27550  0.16089  0.72871 4.33  \n",
       "5  1.25506 -1.83269  0.31254 3.33  \n",
       "6 -0.49746 -0.96887  0.07472 4.00  "
      ]
     },
     "metadata": {},
     "output_type": "display_data"
    },
    {
     "name": "stdout",
     "output_type": "stream",
     "text": [
      "           estimate\n",
      "intercept 3.5136006\n",
      "외관      0.2694261\n",
      "편의성    0.2105249\n",
      "유용성    0.1623154\n"
     ]
    }
   ],
   "source": [
    "smp <- read.csv('multi_hg.csv',head=T)\n",
    "head(smp)\n",
    "reg(smp$만족감,smp[,1:3]) # 외관"
   ]
  },
  {
   "cell_type": "markdown",
   "metadata": {},
   "source": [
    "### ※ 문제261. 회귀함수 lm을 이용해서 스마트폰 만족감의 회귀계수를 구하시오"
   ]
  },
  {
   "cell_type": "code",
   "execution_count": 15,
   "metadata": {
    "ExecuteTime": {
     "end_time": "2020-06-29T02:54:12.955332Z",
     "start_time": "2020-06-29T02:54:12.855Z"
    }
   },
   "outputs": [
    {
     "data": {
      "text/plain": [
       "\n",
       "Call:\n",
       "lm(formula = 만족감 ~ 외관 + 편의성 + 유용성, data = smp)\n",
       "\n",
       "Coefficients:\n",
       "(Intercept)         외관       편의성       유용성  \n",
       "     3.5136       0.2694       0.2105       0.1623  \n"
      ]
     },
     "metadata": {},
     "output_type": "display_data"
    }
   ],
   "source": [
    "attach(smp)\n",
    "smp_model <- lm(만족감~외관+편의성+유용성,data=smp)\n",
    "smp_model"
   ]
  },
  {
   "cell_type": "markdown",
   "metadata": {},
   "source": [
    "## ■ <b>회귀에서 정규화를 해야하는 경우</b>\n",
    "### ※ 보험회사의 의료비에 따른 보험비용 산정에 대한 예\n",
    "    1. 정규화를 하는 경우\n",
    "        보험 비용에 가장 영향을 크게 미치는 변수가 무엇인지 확인할 때\n",
    "        종속 변수와 독립변수의 영향도를 확인하고 싶을 때\n",
    "        \n",
    "    2. 정규화를 안해야하는 경우\n",
    "        나이가 한 살 더 늘어날 때 보험료가 얼마나 인상되어야 하는지 예측할 때\n",
    "        부양가족이 한 명 더 늘어날 때 보험료가 얼마나 인상되어야 하는지 예측할 때\n",
    "        \n",
    "    회귀식을 해석해서 정확한 보험료를 예측해야한다면 정규화를 하지 않는다\n",
    "\n",
    "## ■ <b>표준화와 정규화의 차이</b>\n",
    "```\n",
    "    1. 표준화 : 평균 0, 표준편차 1인 데이터 분포로 구성\n",
    "        ex) scale 함수\n",
    "    2. 정규화 : min/max 정규화, 데이터를 0~1 사이의 숫자로 변환\n",
    "        ML에서는 표준화보다 정규화가 더 좋은 결과가 나와서 더 선호\n",
    "```"
   ]
  },
  {
   "cell_type": "markdown",
   "metadata": {},
   "source": [
    "### ※ 문제262. (점심시간 문제) 미국 대학교 입학에 가장 크게 영향을 미치는 요소가 무엇인지 알아내시오"
   ]
  },
  {
   "cell_type": "code",
   "execution_count": 16,
   "metadata": {
    "ExecuteTime": {
     "end_time": "2020-06-29T03:03:58.946769Z",
     "start_time": "2020-06-29T03:03:58.891Z"
    },
    "scrolled": true
   },
   "outputs": [
    {
     "data": {
      "text/html": [
       "<table>\n",
       "<thead><tr><th scope=col>X</th><th scope=col>academic</th><th scope=col>sports</th><th scope=col>music</th><th scope=col>acceptance</th></tr></thead>\n",
       "<tbody>\n",
       "\t<tr><td>1       </td><td>230.1   </td><td>37.8    </td><td>62.90909</td><td>81.85185</td></tr>\n",
       "\t<tr><td>2       </td><td> 44.5   </td><td>39.3    </td><td>41.00000</td><td>38.51852</td></tr>\n",
       "\t<tr><td>3       </td><td> 17.2   </td><td>45.9    </td><td>63.00000</td><td>34.44444</td></tr>\n",
       "\t<tr><td>4       </td><td>151.5   </td><td>41.3    </td><td>68.51852</td><td>68.51852</td></tr>\n",
       "\t<tr><td>5       </td><td>180.8   </td><td>10.8    </td><td>53.09091</td><td>47.77778</td></tr>\n",
       "\t<tr><td>6       </td><td>  8.7   </td><td>48.9    </td><td>68.18182</td><td>26.66667</td></tr>\n",
       "</tbody>\n",
       "</table>\n"
      ],
      "text/latex": [
       "\\begin{tabular}{r|lllll}\n",
       " X & academic & sports & music & acceptance\\\\\n",
       "\\hline\n",
       "\t 1        & 230.1    & 37.8     & 62.90909 & 81.85185\\\\\n",
       "\t 2        &  44.5    & 39.3     & 41.00000 & 38.51852\\\\\n",
       "\t 3        &  17.2    & 45.9     & 63.00000 & 34.44444\\\\\n",
       "\t 4        & 151.5    & 41.3     & 68.51852 & 68.51852\\\\\n",
       "\t 5        & 180.8    & 10.8     & 53.09091 & 47.77778\\\\\n",
       "\t 6        &   8.7    & 48.9     & 68.18182 & 26.66667\\\\\n",
       "\\end{tabular}\n"
      ],
      "text/markdown": [
       "\n",
       "| X | academic | sports | music | acceptance |\n",
       "|---|---|---|---|---|\n",
       "| 1        | 230.1    | 37.8     | 62.90909 | 81.85185 |\n",
       "| 2        |  44.5    | 39.3     | 41.00000 | 38.51852 |\n",
       "| 3        |  17.2    | 45.9     | 63.00000 | 34.44444 |\n",
       "| 4        | 151.5    | 41.3     | 68.51852 | 68.51852 |\n",
       "| 5        | 180.8    | 10.8     | 53.09091 | 47.77778 |\n",
       "| 6        |   8.7    | 48.9     | 68.18182 | 26.66667 |\n",
       "\n"
      ],
      "text/plain": [
       "  X academic sports music    acceptance\n",
       "1 1 230.1    37.8   62.90909 81.85185  \n",
       "2 2  44.5    39.3   41.00000 38.51852  \n",
       "3 3  17.2    45.9   63.00000 34.44444  \n",
       "4 4 151.5    41.3   68.51852 68.51852  \n",
       "5 5 180.8    10.8   53.09091 47.77778  \n",
       "6 6   8.7    48.9   68.18182 26.66667  "
      ]
     },
     "metadata": {},
     "output_type": "display_data"
    },
    {
     "name": "stdout",
     "output_type": "stream",
     "text": [
      "                estimate\n",
      "intercept  -5.146439e-13\n",
      "academic   -6.473988e-15\n",
      "sports     -3.275505e-14\n",
      "music      -3.948231e-15\n",
      "acceptance  1.000000e+00\n"
     ]
    },
    {
     "data": {
      "text/plain": [
       "\n",
       "Call:\n",
       "lm(formula = acceptance ~ academic + sports + music, data = subj)\n",
       "\n",
       "Coefficients:\n",
       "(Intercept)     academic       sports        music  \n",
       "    11.4903       0.1558       0.5727       0.1046  \n"
      ]
     },
     "metadata": {},
     "output_type": "display_data"
    }
   ],
   "source": [
    "subj <- read.csv('sports.csv',head=T)\n",
    "head(subj)\n",
    "reg(y=subj$acceptance,x=subj[,-1])\n",
    "lm(acceptance~academic+sports+music,data=subj) # sports"
   ]
  },
  {
   "cell_type": "markdown",
   "metadata": {},
   "source": [
    "    * 정규화 여부에 따른 데이터 분석\n",
    "        1. 정규화를 했을 때 -> academic이 sports 보다 더 영향력이 높다\n",
    "        2. 정규화를 안했을 때 -> sports가 academic보다 더 높다\n",
    "```\n",
    "    종속변수에 더 영향력이 있는 독립변수를 알아내려면 정규화\n",
    "    전부 0~1 사이의 데이터로 변경하고 독립변수의 영향도를 비교\n",
    "```\n",
    "```\n",
    "    영향력 분석이 아니라 단지 sports 점수가 1점 올라갈 때 acceptance 점수가 몇 점 올라가는지 확인할 때는 정규화하지 않고 수행\n",
    "```"
   ]
  },
  {
   "cell_type": "markdown",
   "metadata": {},
   "source": [
    "## ■ <b>다중회귀분석 실습 (미국 국민의 의료비 데이터 회귀분석)</b>"
   ]
  },
  {
   "cell_type": "markdown",
   "metadata": {},
   "source": [
    "### ※ 문제263. 정규화를 하고 회귀계수(기울기)를 구하시오"
   ]
  },
  {
   "cell_type": "code",
   "execution_count": 24,
   "metadata": {
    "ExecuteTime": {
     "end_time": "2020-06-29T05:13:35.478937Z",
     "start_time": "2020-06-29T05:13:35.346Z"
    },
    "scrolled": true
   },
   "outputs": [
    {
     "data": {
      "text/html": [
       "<table>\n",
       "<thead><tr><th scope=col>age</th><th scope=col>sex</th><th scope=col>bmi</th><th scope=col>children</th><th scope=col>smoker</th><th scope=col>region</th><th scope=col>expenses</th></tr></thead>\n",
       "<tbody>\n",
       "\t<tr><td>19       </td><td>female   </td><td>27.9     </td><td>0        </td><td>yes      </td><td>southwest</td><td>16884.92 </td></tr>\n",
       "\t<tr><td>18       </td><td>male     </td><td>33.8     </td><td>1        </td><td>no       </td><td>southeast</td><td> 1725.55 </td></tr>\n",
       "\t<tr><td>28       </td><td>male     </td><td>33.0     </td><td>3        </td><td>no       </td><td>southeast</td><td> 4449.46 </td></tr>\n",
       "\t<tr><td>33       </td><td>male     </td><td>22.7     </td><td>0        </td><td>no       </td><td>northwest</td><td>21984.47 </td></tr>\n",
       "\t<tr><td>32       </td><td>male     </td><td>28.9     </td><td>0        </td><td>no       </td><td>northwest</td><td> 3866.86 </td></tr>\n",
       "\t<tr><td>31       </td><td>female   </td><td>25.7     </td><td>0        </td><td>no       </td><td>southeast</td><td> 3756.62 </td></tr>\n",
       "</tbody>\n",
       "</table>\n"
      ],
      "text/latex": [
       "\\begin{tabular}{r|lllllll}\n",
       " age & sex & bmi & children & smoker & region & expenses\\\\\n",
       "\\hline\n",
       "\t 19        & female    & 27.9      & 0         & yes       & southwest & 16884.92 \\\\\n",
       "\t 18        & male      & 33.8      & 1         & no        & southeast &  1725.55 \\\\\n",
       "\t 28        & male      & 33.0      & 3         & no        & southeast &  4449.46 \\\\\n",
       "\t 33        & male      & 22.7      & 0         & no        & northwest & 21984.47 \\\\\n",
       "\t 32        & male      & 28.9      & 0         & no        & northwest &  3866.86 \\\\\n",
       "\t 31        & female    & 25.7      & 0         & no        & southeast &  3756.62 \\\\\n",
       "\\end{tabular}\n"
      ],
      "text/markdown": [
       "\n",
       "| age | sex | bmi | children | smoker | region | expenses |\n",
       "|---|---|---|---|---|---|---|\n",
       "| 19        | female    | 27.9      | 0         | yes       | southwest | 16884.92  |\n",
       "| 18        | male      | 33.8      | 1         | no        | southeast |  1725.55  |\n",
       "| 28        | male      | 33.0      | 3         | no        | southeast |  4449.46  |\n",
       "| 33        | male      | 22.7      | 0         | no        | northwest | 21984.47  |\n",
       "| 32        | male      | 28.9      | 0         | no        | northwest |  3866.86  |\n",
       "| 31        | female    | 25.7      | 0         | no        | southeast |  3756.62  |\n",
       "\n"
      ],
      "text/plain": [
       "  age sex    bmi  children smoker region    expenses\n",
       "1 19  female 27.9 0        yes    southwest 16884.92\n",
       "2 18  male   33.8 1        no     southeast  1725.55\n",
       "3 28  male   33.0 3        no     southeast  4449.46\n",
       "4 33  male   22.7 0        no     northwest 21984.47\n",
       "5 32  male   28.9 0        no     northwest  3866.86\n",
       "6 31  female 25.7 0        no     southeast  3756.62"
      ]
     },
     "metadata": {},
     "output_type": "display_data"
    },
    {
     "data": {
      "text/html": [
       "<dl class=dl-horizontal>\n",
       "\t<dt>age</dt>\n",
       "\t\t<dd>0</dd>\n",
       "\t<dt>sex</dt>\n",
       "\t\t<dd>0</dd>\n",
       "\t<dt>bmi</dt>\n",
       "\t\t<dd>0</dd>\n",
       "\t<dt>children</dt>\n",
       "\t\t<dd>0</dd>\n",
       "\t<dt>smoker</dt>\n",
       "\t\t<dd>0</dd>\n",
       "\t<dt>region</dt>\n",
       "\t\t<dd>0</dd>\n",
       "\t<dt>expenses</dt>\n",
       "\t\t<dd>0</dd>\n",
       "</dl>\n"
      ],
      "text/latex": [
       "\\begin{description*}\n",
       "\\item[age] 0\n",
       "\\item[sex] 0\n",
       "\\item[bmi] 0\n",
       "\\item[children] 0\n",
       "\\item[smoker] 0\n",
       "\\item[region] 0\n",
       "\\item[expenses] 0\n",
       "\\end{description*}\n"
      ],
      "text/markdown": [
       "age\n",
       ":   0sex\n",
       ":   0bmi\n",
       ":   0children\n",
       ":   0smoker\n",
       ":   0region\n",
       ":   0expenses\n",
       ":   0\n",
       "\n"
      ],
      "text/plain": [
       "     age      sex      bmi children   smoker   region expenses \n",
       "       0        0        0        0        0        0        0 "
      ]
     },
     "metadata": {},
     "output_type": "display_data"
    },
    {
     "data": {
      "image/png": "[encoded data removed]",
      "text/plain": [
       "Plot with title \"Histogram of insurance$expenses\""
      ]
     },
     "metadata": {},
     "output_type": "display_data"
    }
   ],
   "source": [
    "insurance <- read.csv(\"insurance.csv\")\n",
    "head(insurance) \n",
    "\n",
    "colSums(is.na(insurance)) # 결측치 확인\n",
    "\n",
    "hist(insurance$expenses)"
   ]
  },
  {
   "cell_type": "code",
   "execution_count": 25,
   "metadata": {
    "ExecuteTime": {
     "end_time": "2020-06-29T05:18:12.416384Z",
     "start_time": "2020-06-29T05:18:12.371Z"
    }
   },
   "outputs": [
    {
     "data": {
      "text/html": [
       "<table>\n",
       "<thead><tr><th></th><th scope=col>age</th><th scope=col>bmi</th><th scope=col>children</th><th scope=col>expenses</th></tr></thead>\n",
       "<tbody>\n",
       "\t<tr><th scope=row>age</th><td>1.0000000 </td><td>0.10934101</td><td>0.04246900</td><td>0.29900819</td></tr>\n",
       "\t<tr><th scope=row>bmi</th><td>0.1093410 </td><td>1.00000000</td><td>0.01264471</td><td>0.19857626</td></tr>\n",
       "\t<tr><th scope=row>children</th><td>0.0424690 </td><td>0.01264471</td><td>1.00000000</td><td>0.06799823</td></tr>\n",
       "\t<tr><th scope=row>expenses</th><td>0.2990082 </td><td>0.19857626</td><td>0.06799823</td><td>1.00000000</td></tr>\n",
       "</tbody>\n",
       "</table>\n"
      ],
      "text/latex": [
       "\\begin{tabular}{r|llll}\n",
       "  & age & bmi & children & expenses\\\\\n",
       "\\hline\n",
       "\tage & 1.0000000  & 0.10934101 & 0.04246900 & 0.29900819\\\\\n",
       "\tbmi & 0.1093410  & 1.00000000 & 0.01264471 & 0.19857626\\\\\n",
       "\tchildren & 0.0424690  & 0.01264471 & 1.00000000 & 0.06799823\\\\\n",
       "\texpenses & 0.2990082  & 0.19857626 & 0.06799823 & 1.00000000\\\\\n",
       "\\end{tabular}\n"
      ],
      "text/markdown": [
       "\n",
       "| <!--/--> | age | bmi | children | expenses |\n",
       "|---|---|---|---|---|\n",
       "| age | 1.0000000  | 0.10934101 | 0.04246900 | 0.29900819 |\n",
       "| bmi | 0.1093410  | 1.00000000 | 0.01264471 | 0.19857626 |\n",
       "| children | 0.0424690  | 0.01264471 | 1.00000000 | 0.06799823 |\n",
       "| expenses | 0.2990082  | 0.19857626 | 0.06799823 | 1.00000000 |\n",
       "\n"
      ],
      "text/plain": [
       "         age       bmi        children   expenses  \n",
       "age      1.0000000 0.10934101 0.04246900 0.29900819\n",
       "bmi      0.1093410 1.00000000 0.01264471 0.19857626\n",
       "children 0.0424690 0.01264471 1.00000000 0.06799823\n",
       "expenses 0.2990082 0.19857626 0.06799823 1.00000000"
      ]
     },
     "metadata": {},
     "output_type": "display_data"
    }
   ],
   "source": [
    "normalize <- function(x) {\n",
    "  return ( (x-min(x)) / (max(x) - min(x))  ) }\n",
    "\n",
    "insurance_n  <- as.data.frame(lapply(insurance[,c(1,3,4,7)]  ,normalize))\n",
    "\n",
    "cor( insurance[    , c(\"age\",\"bmi\",\"children\",\"expenses\")] ) \n"
   ]
  },
  {
   "cell_type": "markdown",
   "metadata": {},
   "source": [
    "#### <b>어떤 상관관계도 강하지 않은 것으로 볼 수 있지만 일부 눈에 띄는 연관성이 있음</b>\n",
    "    age와 bmi는 약한 양의 상관관계를 보이고 있어서 나이가 들수록 몸무게가 증가하는 경향\n",
    "    age와 expenses를 보면 양의 상관관계를 보이고 있어서 나이가 들수록 의료비가 증가하는 경향\n",
    "```\n",
    "    psych 패키지를 이용해서 위의 상관관계를 시각화할 수 있다\n",
    "```"
   ]
  },
  {
   "cell_type": "code",
   "execution_count": 29,
   "metadata": {
    "ExecuteTime": {
     "end_time": "2020-06-29T05:22:39.738391Z",
     "start_time": "2020-06-29T05:22:30.836Z"
    }
   },
   "outputs": [
    {
     "name": "stderr",
     "output_type": "stream",
     "text": [
      "Installing package into 'C:/Users/knitwill/Documents/R/win-library/3.6'\n",
      "(as 'lib' is unspecified)\n",
      "Warning message:\n",
      "\"dependency 'mnormt' is not available\""
     ]
    },
    {
     "name": "stdout",
     "output_type": "stream",
     "text": [
      "package 'psych' successfully unpacked and MD5 sums checked\n",
      "\n",
      "The downloaded binary packages are in\n",
      "\tC:\\Users\\knitwill\\AppData\\Local\\Temp\\RtmpCeSBAV\\downloaded_packages\n"
     ]
    },
    {
     "name": "stderr",
     "output_type": "stream",
     "text": [
      "Warning message:\n",
      "\"package 'psych' was built under R version 3.6.3\""
     ]
    },
    {
     "ename": "ERROR",
     "evalue": "Error: package or namespace load failed for 'psych' in loadNamespace(j <- i[[1L]], c(lib.loc, .libPaths()), versionCheck = vI[[j]]):\n there is no package called 'mnormt'\n",
     "output_type": "error",
     "traceback": [
      "Error: package or namespace load failed for 'psych' in loadNamespace(j <- i[[1L]], c(lib.loc, .libPaths()), versionCheck = vI[[j]]):\n there is no package called 'mnormt'\nTraceback:\n",
      "1. library(psych)",
      "2. tryCatch({\n .     attr(package, \"LibPath\") <- which.lib.loc\n .     ns <- loadNamespace(package, lib.loc)\n .     env <- attachNamespace(ns, pos = pos, deps, exclude, include.only)\n . }, error = function(e) {\n .     P <- if (!is.null(cc <- conditionCall(e))) \n .         paste(\" in\", deparse(cc)[1L])\n .     else \"\"\n .     msg <- gettextf(\"package or namespace load failed for %s%s:\\n %s\", \n .         sQuote(package), P, conditionMessage(e))\n .     if (logical.return) \n .         message(paste(\"Error:\", msg), domain = NA)\n .     else stop(msg, call. = FALSE, domain = NA)\n . })",
      "3. tryCatchList(expr, classes, parentenv, handlers)",
      "4. tryCatchOne(expr, names, parentenv, handlers[[1L]])",
      "5. value[[3L]](cond)",
      "6. stop(msg, call. = FALSE, domain = NA)"
     ]
    }
   ],
   "source": [
    "install.packages('psych')\n",
    "library(psych)"
   ]
  },
  {
   "cell_type": "code",
   "execution_count": 30,
   "metadata": {
    "ExecuteTime": {
     "end_time": "2020-06-29T05:28:38.013581Z",
     "start_time": "2020-06-29T05:28:37.975Z"
    }
   },
   "outputs": [
    {
     "ename": "ERROR",
     "evalue": "Error in pairs.panels(insurance[c(\"age\", \"bmi\", \"children\", \"expenses\")]): 함수 \"pairs.panels\"를 찾을 수 없습니다\n",
     "output_type": "error",
     "traceback": [
      "Error in pairs.panels(insurance[c(\"age\", \"bmi\", \"children\", \"expenses\")]): 함수 \"pairs.panels\"를 찾을 수 없습니다\nTraceback:\n"
     ]
    }
   ],
   "source": [
    "pairs.panels(insurance[c('age','bmi','children','expenses')])"
   ]
  },
  {
   "cell_type": "markdown",
   "metadata": {},
   "source": [
    "#### <b> 산포도에 있는 달걀 모양의 객체는 상관관계 타원형 -> 상관관계의 강도를 시각화 타원형 중심에 있는 점은 x, y축 변수에 대한 평균값 지점을 나타낸다 </b>\n",
    "    타원이 늘어질수록 : 강한 상관관계\n",
    "    타원이 둥글수록 : 약한 상관관계\n",
    "    \n",
    "#### <b> 산포도 행렬 그래프에 그려진 곡선 -> 뢰스곡선(loess curve) x축과 y축 사이에 일반적인 관계</b>\n",
    "#### <b> 독립변수들의 상관관계를 통해 알 수 있는 점\n",
    "    1. 나이가 많을 수록 의료비가 더 많이든다.\n",
    "    2. 나이가 많을 수록 bmi(비만지수)가 더 높아진다.\n",
    "    3. 중년 무렵에 부양가족수가 최고점이 된다."
   ]
  },
  {
   "cell_type": "code",
   "execution_count": 22,
   "metadata": {
    "ExecuteTime": {
     "end_time": "2020-06-29T05:08:18.066150Z",
     "start_time": "2020-06-29T05:08:17.924Z"
    }
   },
   "outputs": [
    {
     "data": {
      "text/html": [
       "<table>\n",
       "<thead><tr><th scope=col>age</th><th scope=col>sex</th><th scope=col>bmi</th><th scope=col>children</th><th scope=col>smoker</th><th scope=col>region</th><th scope=col>expenses</th></tr></thead>\n",
       "<tbody>\n",
       "\t<tr><td>19       </td><td>female   </td><td>27.9     </td><td>0        </td><td>yes      </td><td>southwest</td><td>16884.92 </td></tr>\n",
       "\t<tr><td>18       </td><td>male     </td><td>33.8     </td><td>1        </td><td>no       </td><td>southeast</td><td> 1725.55 </td></tr>\n",
       "\t<tr><td>28       </td><td>male     </td><td>33.0     </td><td>3        </td><td>no       </td><td>southeast</td><td> 4449.46 </td></tr>\n",
       "\t<tr><td>33       </td><td>male     </td><td>22.7     </td><td>0        </td><td>no       </td><td>northwest</td><td>21984.47 </td></tr>\n",
       "\t<tr><td>32       </td><td>male     </td><td>28.9     </td><td>0        </td><td>no       </td><td>northwest</td><td> 3866.86 </td></tr>\n",
       "\t<tr><td>31       </td><td>female   </td><td>25.7     </td><td>0        </td><td>no       </td><td>southeast</td><td> 3756.62 </td></tr>\n",
       "</tbody>\n",
       "</table>\n"
      ],
      "text/latex": [
       "\\begin{tabular}{r|lllllll}\n",
       " age & sex & bmi & children & smoker & region & expenses\\\\\n",
       "\\hline\n",
       "\t 19        & female    & 27.9      & 0         & yes       & southwest & 16884.92 \\\\\n",
       "\t 18        & male      & 33.8      & 1         & no        & southeast &  1725.55 \\\\\n",
       "\t 28        & male      & 33.0      & 3         & no        & southeast &  4449.46 \\\\\n",
       "\t 33        & male      & 22.7      & 0         & no        & northwest & 21984.47 \\\\\n",
       "\t 32        & male      & 28.9      & 0         & no        & northwest &  3866.86 \\\\\n",
       "\t 31        & female    & 25.7      & 0         & no        & southeast &  3756.62 \\\\\n",
       "\\end{tabular}\n"
      ],
      "text/markdown": [
       "\n",
       "| age | sex | bmi | children | smoker | region | expenses |\n",
       "|---|---|---|---|---|---|---|\n",
       "| 19        | female    | 27.9      | 0         | yes       | southwest | 16884.92  |\n",
       "| 18        | male      | 33.8      | 1         | no        | southeast |  1725.55  |\n",
       "| 28        | male      | 33.0      | 3         | no        | southeast |  4449.46  |\n",
       "| 33        | male      | 22.7      | 0         | no        | northwest | 21984.47  |\n",
       "| 32        | male      | 28.9      | 0         | no        | northwest |  3866.86  |\n",
       "| 31        | female    | 25.7      | 0         | no        | southeast |  3756.62  |\n",
       "\n"
      ],
      "text/plain": [
       "  age sex    bmi  children smoker region    expenses\n",
       "1 19  female 27.9 0        yes    southwest 16884.92\n",
       "2 18  male   33.8 1        no     southeast  1725.55\n",
       "3 28  male   33.0 3        no     southeast  4449.46\n",
       "4 33  male   22.7 0        no     northwest 21984.47\n",
       "5 32  male   28.9 0        no     northwest  3866.86\n",
       "6 31  female 25.7 0        no     southeast  3756.62"
      ]
     },
     "metadata": {},
     "output_type": "display_data"
    },
    {
     "data": {
      "text/html": [
       "<dl class=dl-horizontal>\n",
       "\t<dt>age</dt>\n",
       "\t\t<dd>0</dd>\n",
       "\t<dt>sex</dt>\n",
       "\t\t<dd>0</dd>\n",
       "\t<dt>bmi</dt>\n",
       "\t\t<dd>0</dd>\n",
       "\t<dt>children</dt>\n",
       "\t\t<dd>0</dd>\n",
       "\t<dt>smoker</dt>\n",
       "\t\t<dd>0</dd>\n",
       "\t<dt>region</dt>\n",
       "\t\t<dd>0</dd>\n",
       "\t<dt>expenses</dt>\n",
       "\t\t<dd>0</dd>\n",
       "</dl>\n"
      ],
      "text/latex": [
       "\\begin{description*}\n",
       "\\item[age] 0\n",
       "\\item[sex] 0\n",
       "\\item[bmi] 0\n",
       "\\item[children] 0\n",
       "\\item[smoker] 0\n",
       "\\item[region] 0\n",
       "\\item[expenses] 0\n",
       "\\end{description*}\n"
      ],
      "text/markdown": [
       "age\n",
       ":   0sex\n",
       ":   0bmi\n",
       ":   0children\n",
       ":   0smoker\n",
       ":   0region\n",
       ":   0expenses\n",
       ":   0\n",
       "\n"
      ],
      "text/plain": [
       "     age      sex      bmi children   smoker   region expenses \n",
       "       0        0        0        0        0        0        0 "
      ]
     },
     "metadata": {},
     "output_type": "display_data"
    },
    {
     "data": {
      "text/html": [
       "<table>\n",
       "<thead><tr><th></th><th scope=col>age</th><th scope=col>bmi</th><th scope=col>children</th><th scope=col>expenses</th></tr></thead>\n",
       "<tbody>\n",
       "\t<tr><th scope=row>age</th><td>1.0000000 </td><td>0.10934101</td><td>0.04246900</td><td>0.29900819</td></tr>\n",
       "\t<tr><th scope=row>bmi</th><td>0.1093410 </td><td>1.00000000</td><td>0.01264471</td><td>0.19857626</td></tr>\n",
       "\t<tr><th scope=row>children</th><td>0.0424690 </td><td>0.01264471</td><td>1.00000000</td><td>0.06799823</td></tr>\n",
       "\t<tr><th scope=row>expenses</th><td>0.2990082 </td><td>0.19857626</td><td>0.06799823</td><td>1.00000000</td></tr>\n",
       "</tbody>\n",
       "</table>\n"
      ],
      "text/latex": [
       "\\begin{tabular}{r|llll}\n",
       "  & age & bmi & children & expenses\\\\\n",
       "\\hline\n",
       "\tage & 1.0000000  & 0.10934101 & 0.04246900 & 0.29900819\\\\\n",
       "\tbmi & 0.1093410  & 1.00000000 & 0.01264471 & 0.19857626\\\\\n",
       "\tchildren & 0.0424690  & 0.01264471 & 1.00000000 & 0.06799823\\\\\n",
       "\texpenses & 0.2990082  & 0.19857626 & 0.06799823 & 1.00000000\\\\\n",
       "\\end{tabular}\n"
      ],
      "text/markdown": [
       "\n",
       "| <!--/--> | age | bmi | children | expenses |\n",
       "|---|---|---|---|---|\n",
       "| age | 1.0000000  | 0.10934101 | 0.04246900 | 0.29900819 |\n",
       "| bmi | 0.1093410  | 1.00000000 | 0.01264471 | 0.19857626 |\n",
       "| children | 0.0424690  | 0.01264471 | 1.00000000 | 0.06799823 |\n",
       "| expenses | 0.2990082  | 0.19857626 | 0.06799823 | 1.00000000 |\n",
       "\n"
      ],
      "text/plain": [
       "         age       bmi        children   expenses  \n",
       "age      1.0000000 0.10934101 0.04246900 0.29900819\n",
       "bmi      0.1093410 1.00000000 0.01264471 0.19857626\n",
       "children 0.0424690 0.01264471 1.00000000 0.06799823\n",
       "expenses 0.2990082 0.19857626 0.06799823 1.00000000"
      ]
     },
     "metadata": {},
     "output_type": "display_data"
    },
    {
     "data": {
      "text/plain": [
       "\n",
       "Call:\n",
       "lm(formula = expenses ~ age + children + bmi + smoker + region, \n",
       "    data = insurance)\n",
       "\n",
       "Coefficients:\n",
       "    (Intercept)              age         children              bmi  \n",
       "       -11993.3            257.0            474.8            338.8  \n",
       "      smokeryes  regionnorthwest  regionsoutheast  regionsouthwest  \n",
       "        23835.2           -352.0          -1034.9           -958.6  \n"
      ]
     },
     "metadata": {},
     "output_type": "display_data"
    },
    {
     "name": "stderr",
     "output_type": "stream",
     "text": [
      "The following objects are masked from insurance (pos = 3):\n",
      "\n",
      "    age, bmi, children, expenses, region, sex, smoker\n",
      "\n"
     ]
    },
    {
     "data": {
      "text/plain": [
       "\n",
       "Call:\n",
       "lm(formula = expenses ~ ., data = insurance)\n",
       "\n",
       "Coefficients:\n",
       "    (Intercept)              age          sexmale              bmi  \n",
       "       -11941.6            256.8           -131.4            339.3  \n",
       "       children        smokeryes  regionnorthwest  regionsoutheast  \n",
       "          475.7          23847.5           -352.8          -1035.6  \n",
       "regionsouthwest  \n",
       "         -959.3  \n"
      ]
     },
     "metadata": {},
     "output_type": "display_data"
    }
   ],
   "source": [
    "m5 <- lm( expenses ~ age + children + bmi +smoker +region,  data=insurance)\n",
    "m5\n",
    "\n",
    "#또는\n",
    "attach(insurance)\n",
    "lm(expenses ~ .,  data= insurance)  "
   ]
  },
  {
   "cell_type": "code",
   "execution_count": 21,
   "metadata": {
    "ExecuteTime": {
     "end_time": "2020-06-29T05:04:32.091469Z",
     "start_time": "2020-06-29T05:04:31.983Z"
    }
   },
   "outputs": [
    {
     "data": {
      "text/html": [
       "<table>\n",
       "<thead><tr><th scope=col>age</th><th scope=col>sex</th><th scope=col>bmi</th><th scope=col>children</th><th scope=col>smoker</th><th scope=col>region</th><th scope=col>expenses</th></tr></thead>\n",
       "<tbody>\n",
       "\t<tr><td>19       </td><td>female   </td><td>27.9     </td><td>0        </td><td>yes      </td><td>southwest</td><td>16884.92 </td></tr>\n",
       "\t<tr><td>18       </td><td>male     </td><td>33.8     </td><td>1        </td><td>no       </td><td>southeast</td><td> 1725.55 </td></tr>\n",
       "\t<tr><td>28       </td><td>male     </td><td>33.0     </td><td>3        </td><td>no       </td><td>southeast</td><td> 4449.46 </td></tr>\n",
       "\t<tr><td>33       </td><td>male     </td><td>22.7     </td><td>0        </td><td>no       </td><td>northwest</td><td>21984.47 </td></tr>\n",
       "\t<tr><td>32       </td><td>male     </td><td>28.9     </td><td>0        </td><td>no       </td><td>northwest</td><td> 3866.86 </td></tr>\n",
       "\t<tr><td>31       </td><td>female   </td><td>25.7     </td><td>0        </td><td>no       </td><td>southeast</td><td> 3756.62 </td></tr>\n",
       "</tbody>\n",
       "</table>\n"
      ],
      "text/latex": [
       "\\begin{tabular}{r|lllllll}\n",
       " age & sex & bmi & children & smoker & region & expenses\\\\\n",
       "\\hline\n",
       "\t 19        & female    & 27.9      & 0         & yes       & southwest & 16884.92 \\\\\n",
       "\t 18        & male      & 33.8      & 1         & no        & southeast &  1725.55 \\\\\n",
       "\t 28        & male      & 33.0      & 3         & no        & southeast &  4449.46 \\\\\n",
       "\t 33        & male      & 22.7      & 0         & no        & northwest & 21984.47 \\\\\n",
       "\t 32        & male      & 28.9      & 0         & no        & northwest &  3866.86 \\\\\n",
       "\t 31        & female    & 25.7      & 0         & no        & southeast &  3756.62 \\\\\n",
       "\\end{tabular}\n"
      ],
      "text/markdown": [
       "\n",
       "| age | sex | bmi | children | smoker | region | expenses |\n",
       "|---|---|---|---|---|---|---|\n",
       "| 19        | female    | 27.9      | 0         | yes       | southwest | 16884.92  |\n",
       "| 18        | male      | 33.8      | 1         | no        | southeast |  1725.55  |\n",
       "| 28        | male      | 33.0      | 3         | no        | southeast |  4449.46  |\n",
       "| 33        | male      | 22.7      | 0         | no        | northwest | 21984.47  |\n",
       "| 32        | male      | 28.9      | 0         | no        | northwest |  3866.86  |\n",
       "| 31        | female    | 25.7      | 0         | no        | southeast |  3756.62  |\n",
       "\n"
      ],
      "text/plain": [
       "  age sex    bmi  children smoker region    expenses\n",
       "1 19  female 27.9 0        yes    southwest 16884.92\n",
       "2 18  male   33.8 1        no     southeast  1725.55\n",
       "3 28  male   33.0 3        no     southeast  4449.46\n",
       "4 33  male   22.7 0        no     northwest 21984.47\n",
       "5 32  male   28.9 0        no     northwest  3866.86\n",
       "6 31  female 25.7 0        no     southeast  3756.62"
      ]
     },
     "metadata": {},
     "output_type": "display_data"
    },
    {
     "data": {
      "text/html": [
       "<table>\n",
       "<thead><tr><th></th><th scope=col>age</th><th scope=col>bmi</th><th scope=col>children</th><th scope=col>expenses</th></tr></thead>\n",
       "<tbody>\n",
       "\t<tr><th scope=row>age</th><td>1.0000000 </td><td>0.10934101</td><td>0.04246900</td><td>0.29900819</td></tr>\n",
       "\t<tr><th scope=row>bmi</th><td>0.1093410 </td><td>1.00000000</td><td>0.01264471</td><td>0.19857626</td></tr>\n",
       "\t<tr><th scope=row>children</th><td>0.0424690 </td><td>0.01264471</td><td>1.00000000</td><td>0.06799823</td></tr>\n",
       "\t<tr><th scope=row>expenses</th><td>0.2990082 </td><td>0.19857626</td><td>0.06799823</td><td>1.00000000</td></tr>\n",
       "</tbody>\n",
       "</table>\n"
      ],
      "text/latex": [
       "\\begin{tabular}{r|llll}\n",
       "  & age & bmi & children & expenses\\\\\n",
       "\\hline\n",
       "\tage & 1.0000000  & 0.10934101 & 0.04246900 & 0.29900819\\\\\n",
       "\tbmi & 0.1093410  & 1.00000000 & 0.01264471 & 0.19857626\\\\\n",
       "\tchildren & 0.0424690  & 0.01264471 & 1.00000000 & 0.06799823\\\\\n",
       "\texpenses & 0.2990082  & 0.19857626 & 0.06799823 & 1.00000000\\\\\n",
       "\\end{tabular}\n"
      ],
      "text/markdown": [
       "\n",
       "| <!--/--> | age | bmi | children | expenses |\n",
       "|---|---|---|---|---|\n",
       "| age | 1.0000000  | 0.10934101 | 0.04246900 | 0.29900819 |\n",
       "| bmi | 0.1093410  | 1.00000000 | 0.01264471 | 0.19857626 |\n",
       "| children | 0.0424690  | 0.01264471 | 1.00000000 | 0.06799823 |\n",
       "| expenses | 0.2990082  | 0.19857626 | 0.06799823 | 1.00000000 |\n",
       "\n"
      ],
      "text/plain": [
       "         age       bmi        children   expenses  \n",
       "age      1.0000000 0.10934101 0.04246900 0.29900819\n",
       "bmi      0.1093410 1.00000000 0.01264471 0.19857626\n",
       "children 0.0424690 0.01264471 1.00000000 0.06799823\n",
       "expenses 0.2990082 0.19857626 0.06799823 1.00000000"
      ]
     },
     "metadata": {},
     "output_type": "display_data"
    },
    {
     "data": {
      "text/plain": [
       "\n",
       "Call:\n",
       "lm(formula = expenses ~ ., data = insurance)\n",
       "\n",
       "Coefficients:\n",
       "    (Intercept)              age          sexmale              bmi  \n",
       "       -11941.6            256.8           -131.4            339.3  \n",
       "       children        smokeryes  regionnorthwest  regionsoutheast  \n",
       "          475.7          23847.5           -352.8          -1035.6  \n",
       "regionsouthwest  \n",
       "         -959.3  \n"
      ]
     },
     "metadata": {},
     "output_type": "display_data"
    }
   ],
   "source": [
    "insurance <- read.csv(\"insurance.csv\")\n",
    "head(insurance) \n",
    "#2. 정규화 작업을 수행한다. \n",
    "normalize <- function(x) {\n",
    "      return ( (x-min(x)) / (max(x) - min(x))  ) }\n",
    "insurance_n  <- as.data.frame(lapply(insurance[,c(1,3,4,7)]  ,normalize))\n",
    "\n",
    "# 3. 독립변수와 종속변수간의 상관관계 분석 \n",
    "cor( insurance[    , c(\"age\",\"bmi\",\"children\",\"expenses\")] ) \n",
    "\n",
    "# 4. 회귀함수인 lm 을 이용해서 독립변수들의 회귀모수를 확인한다 (기울기)\n",
    "m5 <- lm( expenses ~ age + children + bmi +smoker +region,  data=insurance)\n",
    "\n",
    "#또는\n",
    "attach(insurance)\n",
    "lm(expenses ~ .,  data= insurance)  "
   ]
  },
  {
   "cell_type": "markdown",
   "metadata": {},
   "source": [
    "```\n",
    "Coefficients:\n",
    "    (Intercept)      age      sexmale     bmi    children  smokeryes  regionnorthwest  regionsoutheast  regionsouthwest  \n",
    "       -11941.6      256.8     -131.4    339.3    475.7     23847.5       -352.8          -1035.6          -959.3\n",
    "\n",
    "    1. 나이(age)가 1년씩 더해질 때 마다 평균적으로 연간 의료비가 $256.8 증가될 것으로 예상\n",
    "    2. 자녀(children)가 한 명씩 추가될 때 마다 연간 의료비가 $475.7 추가될 것으로 예상\n",
    "    3. 비만지수(bmi) 단위가 증가할 때 마다 연간 의료비가 $339.3 증가될 것으로 예상\n",
    "    \n",
    "    4. dummy 변수를 자동으로 추가해 변수의 값을 상대적으로 추정\n",
    "        dummy 변수 : \n",
    "            sexmale : 남성은 여성에 비해 매년 의료비가 $131.4 적게 든다고 예상\n",
    "            smokeryes : 흡연자는 비흡연자에 비해 매년 의료비가 $23847.5 추가될 것으로 예상\n",
    "            regionnorthwest :\n",
    "            regionsoutheast :\n",
    "            regionsouthwest :\n",
    "```\n"
   ]
  },
  {
   "cell_type": "markdown",
   "metadata": {},
   "source": [
    "### ※ 문제263. 지역에 따른 의료비에 차이가 어떤지 회귀분석 결과를 토대로 설명하시오\n",
    "```\n",
    "    regionnorthwest : northeast에 비해 northwest지역은 연간 의료비가 $352.8 적게 든다고 예상\n",
    "    regionsoutheast : northeast에 비해 southeast지역은 연간 의료비가 $1035.6 적게 든다고 예상\n",
    "    regionsouthwest : northeast에 비해 southwest지역은 연간 의료비가 $959.3 적게 든다고 예상\n",
    "```"
   ]
  },
  {
   "cell_type": "markdown",
   "metadata": {},
   "source": [
    "#### <b>※ Ml 분석 5단계</b>\n",
    "    1. 데이터 수집 및 데이터 설명\n",
    "    2. 데이터 탐색 및 분석\n",
    "    3. ML 모델 훈련\n",
    "    4. 모델 성능 평가\n",
    "    5. 모델 성능 개선"
   ]
  },
  {
   "cell_type": "code",
   "execution_count": 36,
   "metadata": {
    "ExecuteTime": {
     "end_time": "2020-06-29T06:10:02.558013Z",
     "start_time": "2020-06-29T06:10:02.449Z"
    }
   },
   "outputs": [
    {
     "data": {
      "text/plain": [
       "\n",
       "Call:\n",
       "lm(formula = expenses ~ ., data = insurance)\n",
       "\n",
       "Residuals:\n",
       "     Min       1Q   Median       3Q      Max \n",
       "-11302.7  -2850.9   -979.6   1383.9  29981.7 \n",
       "\n",
       "Coefficients:\n",
       "                Estimate Std. Error t value Pr(>|t|)    \n",
       "(Intercept)     -11941.6      987.8 -12.089  < 2e-16 ***\n",
       "age                256.8       11.9  21.586  < 2e-16 ***\n",
       "sexmale           -131.3      332.9  -0.395 0.693255    \n",
       "bmi                339.3       28.6  11.864  < 2e-16 ***\n",
       "children           475.7      137.8   3.452 0.000574 ***\n",
       "smokeryes        23847.5      413.1  57.723  < 2e-16 ***\n",
       "regionnorthwest   -352.8      476.3  -0.741 0.458976    \n",
       "regionsoutheast  -1035.6      478.7  -2.163 0.030685 *  \n",
       "regionsouthwest   -959.3      477.9  -2.007 0.044921 *  \n",
       "---\n",
       "Signif. codes:  0 '***' 0.001 '**' 0.01 '*' 0.05 '.' 0.1 ' ' 1\n",
       "\n",
       "Residual standard error: 6062 on 1329 degrees of freedom\n",
       "Multiple R-squared:  0.7509,\tAdjusted R-squared:  0.7494 \n",
       "F-statistic: 500.9 on 8 and 1329 DF,  p-value: < 2.2e-16\n"
      ]
     },
     "metadata": {},
     "output_type": "display_data"
    }
   ],
   "source": [
    "rs_m <- lm(expenses~., data=insurance)\n",
    "summary(rs_m)"
   ]
  },
  {
   "cell_type": "markdown",
   "metadata": {},
   "source": [
    "#### <b> 4단계모델성능평가</b>\n",
    "```\n",
    "    Residuals:\n",
    "         Min       1Q     Median     3Q      Max \n",
    "      -11302.7  -2850.9   -979.6   1383.9  29981.7 \n",
    "      \n",
    "    1. 모델이 최소 하나의 관측에 대해 거의 30000만 달러의 비용을 낮게 예측\n",
    "    2. 오차의 50%는 -$2850 ~ 1384 사이에 있다.\n",
    "```\n",
    "```\n",
    "    Coefficients:\n",
    "                    Estimate   Std. Error   t value   Pr(>|t|)    \n",
    "    (Intercept)     -11941.6      987.8     -12.089    < 2e-16 ***\n",
    "    age                256.8       11.9      21.586    < 2e-16 ***\n",
    "    sexmale           -131.3      332.9      -0.395   0.693255    \n",
    "    bmi                339.3       28.6      11.864    < 2e-16 ***\n",
    "    children           475.7      137.8       3.452   0.000574 ***\n",
    "    smokeryes        23847.5      413.1      57.723    < 2e-16 ***\n",
    "    regionnorthwest   -352.8      476.3      -0.741   0.458976    \n",
    "    regionsoutheast  -1035.6      478.7      -2.163   0.030685 *  \n",
    "    regionsouthwest   -959.3      477.9      -2.007   0.044921 *  \n",
    "    ---\n",
    "    Signif. codes:  0 '***' 0.001 '**' 0.01 '*' 0.05 '.' 0.1 ' ' 1\n",
    "    \n",
    "    추정된 회귀계수별로 표시된 p-value는 추정된 계수가 실제 0일 확률 추정치\n",
    "    p-value가 작은 경우 실제 계수가 0이 아닐 가능성이 높다는 것. 종속변수와의 관계가 없을 가능성이 아주 낮다\n",
    "    \n",
    "    유의수준보다 낮은 p-value는 통계적으로 유의한 것으로 간주\n",
    "    p-value가 0.05 미만으로 나온 독립변수가 유의한 변수\n",
    "```\n",
    "```\n",
    "    p-value : 귀무가설에 얻은 검정 통계랑의 값 이상으로 대립가설에서 유리한 데이터를 얻을 수 있는 확률\n",
    "        p-value > 유의수준 : 귀무가설 기각 X\n",
    "        p-value < 유의수준 : 대립가설 채택\n",
    "        \n",
    "    옆에 나온 *이 추정치로 충족되는 유의수준을 나타내는 각주에 해당\n",
    "```\n",
    "<br>\n",
    "Residual standard error: 6062 on 1329 degrees of freedom<br>\n",
    "<b>Multiple R-squared:  0.7509,\tAdjusted R-squared:  0.7494 </b><br>\n",
    "F-statistic: 500.9 on 8 and 1329 DF,  p-value: < 2.2e-16<br><br>\n",
    "\n",
    "\n",
    "#### <b>결정계수(R-squared) : 회귀모형의 데이터에 대한 설명력을 나타내는 척도</b>\n",
    "#### <b>수정된 결정계수(Adjusted R-squared) : 독립변수가 많은 회귀모형에서 penalty를 줘서 R-squared를 교정한 값 </b>\n",
    "        독립변수가 많으면 결정계수가 높아져 모형의 설명력을 측정하기 좋을 수 있으나 복잡하므로 복잡성을 보완하기 위해 사용\n",
    "            -> 독립변수가 많아진다고해서 무작정 커지지는 않는다.\n",
    "               R-squared와 Adjusted R-squared 차이가 크면 불필요한 변수가 있을 것으로 예상할 수 있다.\n",
    "```    \n",
    "    좋은 회귀모형의 조건\n",
    "        1. 데이터를 잘 설명\n",
    "        2. 간단\n",
    "```\n",
    "``` \n",
    "    <면접질문>\n",
    "        데이터의 종류에 따라 적합한 머신러닝 알고리즘은 무엇?\n",
    "        회귀분석에서 결정계수란?\n",
    "```    "
   ]
  },
  {
   "cell_type": "markdown",
   "metadata": {},
   "source": [
    "#### <b>5단계 모델성능개선</b>\n",
    "    파생변수를 생성해서 독립변수에 추가해서 성능을 개선\n",
    "    \n",
    "    1. 첫번째 파생변수\n",
    "        -> 나이가 많을수록 높은 의료비가 들거라는 연관성이 있으므로 나이 데이터를 더 크게 만들어서 파생변수를 생성"
   ]
  },
  {
   "cell_type": "code",
   "execution_count": 40,
   "metadata": {
    "ExecuteTime": {
     "end_time": "2020-06-29T07:08:12.702436Z",
     "start_time": "2020-06-29T07:08:12.641Z"
    }
   },
   "outputs": [
    {
     "data": {
      "text/html": [
       "<table>\n",
       "<thead><tr><th></th><th scope=col>age</th><th scope=col>bmi</th><th scope=col>children</th><th scope=col>expenses</th><th scope=col>age2</th></tr></thead>\n",
       "<tbody>\n",
       "\t<tr><th scope=row>age</th><td>1.0000000  </td><td>0.10934101 </td><td> 0.04246900</td><td>0.29900819 </td><td> 0.9883805 </td></tr>\n",
       "\t<tr><th scope=row>bmi</th><td>0.1093410  </td><td>1.00000000 </td><td> 0.01264471</td><td>0.19857626 </td><td> 0.1129004 </td></tr>\n",
       "\t<tr><th scope=row>children</th><td>0.0424690  </td><td>0.01264471 </td><td> 1.00000000</td><td>0.06799823 </td><td>-0.0032591 </td></tr>\n",
       "\t<tr><th scope=row>expenses</th><td>0.2990082  </td><td>0.19857626 </td><td> 0.06799823</td><td>1.00000000 </td><td> 0.3007721 </td></tr>\n",
       "\t<tr><th scope=row>age2</th><td>0.9883805  </td><td>0.11290036 </td><td>-0.00325910</td><td>0.30077213 </td><td> 1.0000000 </td></tr>\n",
       "</tbody>\n",
       "</table>\n"
      ],
      "text/latex": [
       "\\begin{tabular}{r|lllll}\n",
       "  & age & bmi & children & expenses & age2\\\\\n",
       "\\hline\n",
       "\tage & 1.0000000   & 0.10934101  &  0.04246900 & 0.29900819  &  0.9883805 \\\\\n",
       "\tbmi & 0.1093410   & 1.00000000  &  0.01264471 & 0.19857626  &  0.1129004 \\\\\n",
       "\tchildren & 0.0424690   & 0.01264471  &  1.00000000 & 0.06799823  & -0.0032591 \\\\\n",
       "\texpenses & 0.2990082   & 0.19857626  &  0.06799823 & 1.00000000  &  0.3007721 \\\\\n",
       "\tage2 & 0.9883805   & 0.11290036  & -0.00325910 & 0.30077213  &  1.0000000 \\\\\n",
       "\\end{tabular}\n"
      ],
      "text/markdown": [
       "\n",
       "| <!--/--> | age | bmi | children | expenses | age2 |\n",
       "|---|---|---|---|---|---|\n",
       "| age | 1.0000000   | 0.10934101  |  0.04246900 | 0.29900819  |  0.9883805  |\n",
       "| bmi | 0.1093410   | 1.00000000  |  0.01264471 | 0.19857626  |  0.1129004  |\n",
       "| children | 0.0424690   | 0.01264471  |  1.00000000 | 0.06799823  | -0.0032591  |\n",
       "| expenses | 0.2990082   | 0.19857626  |  0.06799823 | 1.00000000  |  0.3007721  |\n",
       "| age2 | 0.9883805   | 0.11290036  | -0.00325910 | 0.30077213  |  1.0000000  |\n",
       "\n"
      ],
      "text/plain": [
       "         age       bmi        children    expenses   age2      \n",
       "age      1.0000000 0.10934101  0.04246900 0.29900819  0.9883805\n",
       "bmi      0.1093410 1.00000000  0.01264471 0.19857626  0.1129004\n",
       "children 0.0424690 0.01264471  1.00000000 0.06799823 -0.0032591\n",
       "expenses 0.2990082 0.19857626  0.06799823 1.00000000  0.3007721\n",
       "age2     0.9883805 0.11290036 -0.00325910 0.30077213  1.0000000"
      ]
     },
     "metadata": {},
     "output_type": "display_data"
    },
    {
     "name": "stderr",
     "output_type": "stream",
     "text": [
      "The following objects are masked from insurance (pos = 3):\n",
      "\n",
      "    age, age2, bmi, bmi30, children, expenses, region, sex, smoker\n",
      "\n",
      "The following objects are masked from insurance (pos = 4):\n",
      "\n",
      "    age, age2, bmi, children, expenses, region, sex, smoker\n",
      "\n",
      "The following objects are masked from insurance (pos = 5):\n",
      "\n",
      "    age, bmi, children, expenses, region, sex, smoker\n",
      "\n",
      "The following objects are masked from insurance (pos = 6):\n",
      "\n",
      "    age, bmi, children, expenses, region, sex, smoker\n",
      "\n"
     ]
    },
    {
     "data": {
      "text/plain": [
       "\n",
       "Call:\n",
       "lm(formula = expenses ~ ., data = insurance)\n",
       "\n",
       "Residuals:\n",
       "     Min       1Q   Median       3Q      Max \n",
       "-12493.8  -3360.4    136.9   1310.8  29317.0 \n",
       "\n",
       "Coefficients:\n",
       "                 Estimate Std. Error t value Pr(>|t|)    \n",
       "(Intercept)     -2948.272   1828.553  -1.612 0.107123    \n",
       "age               -28.481     80.443  -0.354 0.723357    \n",
       "sexmale          -166.288    328.313  -0.506 0.612595    \n",
       "bmi               154.070     46.073   3.344 0.000849 ***\n",
       "children          630.455    142.365   4.428 1.03e-05 ***\n",
       "smokeryes       23857.060    407.349  58.567  < 2e-16 ***\n",
       "regionnorthwest  -400.413    469.636  -0.853 0.394033    \n",
       "regionsoutheast  -888.874    472.837  -1.880 0.060344 .  \n",
       "regionsouthwest  -947.344    471.206  -2.010 0.044584 *  \n",
       "age2                3.602      1.004   3.590 0.000343 ***\n",
       "bmi30            2725.683    547.814   4.976 7.36e-07 ***\n",
       "---\n",
       "Signif. codes:  0 '***' 0.001 '**' 0.01 '*' 0.05 '.' 0.1 ' ' 1\n",
       "\n",
       "Residual standard error: 5977 on 1327 degrees of freedom\n",
       "Multiple R-squared:  0.7582,\tAdjusted R-squared:  0.7564 \n",
       "F-statistic: 416.2 on 10 and 1327 DF,  p-value: < 2.2e-16\n"
      ]
     },
     "metadata": {},
     "output_type": "display_data"
    }
   ],
   "source": [
    "insurance$age2 <- insurance$age^2\n",
    "cor( insurance[    , c(\"age\",\"bmi\",\"children\",\"expenses\",'age2')] ) \n",
    "#dev.new()\n",
    "#pairs.panels(insurance[c('age','bmi','children','expenses','age2')])\n",
    "attach(insurance)\n",
    "rs_m2 <- lm(expenses ~ .,  data= insurance)\n",
    "summary(rs_m2)"
   ]
  },
  {
   "cell_type": "markdown",
   "metadata": {},
   "source": [
    "    2. 두번째 파생변수\n",
    "        비만인 사람(bmi가 30 이상) 의료비가 더 많이 든다"
   ]
  },
  {
   "cell_type": "code",
   "execution_count": 39,
   "metadata": {
    "ExecuteTime": {
     "end_time": "2020-06-29T07:07:26.956480Z",
     "start_time": "2020-06-29T07:07:26.878Z"
    }
   },
   "outputs": [
    {
     "data": {
      "text/html": [
       "<table>\n",
       "<thead><tr><th scope=col>age</th><th scope=col>sex</th><th scope=col>bmi</th><th scope=col>children</th><th scope=col>smoker</th><th scope=col>region</th><th scope=col>expenses</th><th scope=col>age2</th><th scope=col>bmi30</th></tr></thead>\n",
       "<tbody>\n",
       "\t<tr><td>19       </td><td>female   </td><td>27.9     </td><td>0        </td><td>yes      </td><td>southwest</td><td>16884.92 </td><td> 361     </td><td>0        </td></tr>\n",
       "\t<tr><td>18       </td><td>male     </td><td>33.8     </td><td>1        </td><td>no       </td><td>southeast</td><td> 1725.55 </td><td> 324     </td><td>1        </td></tr>\n",
       "\t<tr><td>28       </td><td>male     </td><td>33.0     </td><td>3        </td><td>no       </td><td>southeast</td><td> 4449.46 </td><td> 784     </td><td>1        </td></tr>\n",
       "\t<tr><td>33       </td><td>male     </td><td>22.7     </td><td>0        </td><td>no       </td><td>northwest</td><td>21984.47 </td><td>1089     </td><td>0        </td></tr>\n",
       "\t<tr><td>32       </td><td>male     </td><td>28.9     </td><td>0        </td><td>no       </td><td>northwest</td><td> 3866.86 </td><td>1024     </td><td>0        </td></tr>\n",
       "\t<tr><td>31       </td><td>female   </td><td>25.7     </td><td>0        </td><td>no       </td><td>southeast</td><td> 3756.62 </td><td> 961     </td><td>0        </td></tr>\n",
       "</tbody>\n",
       "</table>\n"
      ],
      "text/latex": [
       "\\begin{tabular}{r|lllllllll}\n",
       " age & sex & bmi & children & smoker & region & expenses & age2 & bmi30\\\\\n",
       "\\hline\n",
       "\t 19        & female    & 27.9      & 0         & yes       & southwest & 16884.92  &  361      & 0        \\\\\n",
       "\t 18        & male      & 33.8      & 1         & no        & southeast &  1725.55  &  324      & 1        \\\\\n",
       "\t 28        & male      & 33.0      & 3         & no        & southeast &  4449.46  &  784      & 1        \\\\\n",
       "\t 33        & male      & 22.7      & 0         & no        & northwest & 21984.47  & 1089      & 0        \\\\\n",
       "\t 32        & male      & 28.9      & 0         & no        & northwest &  3866.86  & 1024      & 0        \\\\\n",
       "\t 31        & female    & 25.7      & 0         & no        & southeast &  3756.62  &  961      & 0        \\\\\n",
       "\\end{tabular}\n"
      ],
      "text/markdown": [
       "\n",
       "| age | sex | bmi | children | smoker | region | expenses | age2 | bmi30 |\n",
       "|---|---|---|---|---|---|---|---|---|\n",
       "| 19        | female    | 27.9      | 0         | yes       | southwest | 16884.92  |  361      | 0         |\n",
       "| 18        | male      | 33.8      | 1         | no        | southeast |  1725.55  |  324      | 1         |\n",
       "| 28        | male      | 33.0      | 3         | no        | southeast |  4449.46  |  784      | 1         |\n",
       "| 33        | male      | 22.7      | 0         | no        | northwest | 21984.47  | 1089      | 0         |\n",
       "| 32        | male      | 28.9      | 0         | no        | northwest |  3866.86  | 1024      | 0         |\n",
       "| 31        | female    | 25.7      | 0         | no        | southeast |  3756.62  |  961      | 0         |\n",
       "\n"
      ],
      "text/plain": [
       "  age sex    bmi  children smoker region    expenses age2 bmi30\n",
       "1 19  female 27.9 0        yes    southwest 16884.92  361 0    \n",
       "2 18  male   33.8 1        no     southeast  1725.55  324 1    \n",
       "3 28  male   33.0 3        no     southeast  4449.46  784 1    \n",
       "4 33  male   22.7 0        no     northwest 21984.47 1089 0    \n",
       "5 32  male   28.9 0        no     northwest  3866.86 1024 0    \n",
       "6 31  female 25.7 0        no     southeast  3756.62  961 0    "
      ]
     },
     "metadata": {},
     "output_type": "display_data"
    },
    {
     "data": {
      "text/html": [
       "<table>\n",
       "<thead><tr><th></th><th scope=col>age</th><th scope=col>bmi</th><th scope=col>children</th><th scope=col>expenses</th><th scope=col>age2</th><th scope=col>bmi30</th></tr></thead>\n",
       "<tbody>\n",
       "\t<tr><th scope=row>age</th><td>1.0000000   </td><td>0.10934101  </td><td> 0.042468999</td><td>0.29900819  </td><td> 0.98838048 </td><td>0.085668398 </td></tr>\n",
       "\t<tr><th scope=row>bmi</th><td>0.1093410   </td><td>1.00000000  </td><td> 0.012644707</td><td>0.19857626  </td><td> 0.11290036 </td><td>0.799372587 </td></tr>\n",
       "\t<tr><th scope=row>children</th><td>0.0424690   </td><td>0.01264471  </td><td> 1.000000000</td><td>0.06799823  </td><td>-0.00325910 </td><td>0.009806687 </td></tr>\n",
       "\t<tr><th scope=row>expenses</th><td>0.2990082   </td><td>0.19857626  </td><td> 0.067998230</td><td>1.00000000  </td><td> 0.30077213 </td><td>0.199531734 </td></tr>\n",
       "\t<tr><th scope=row>age2</th><td>0.9883805   </td><td>0.11290036  </td><td>-0.003259100</td><td>0.30077213  </td><td> 1.00000000 </td><td>0.094221160 </td></tr>\n",
       "\t<tr><th scope=row>bmi30</th><td>0.0856684   </td><td>0.79937259  </td><td> 0.009806687</td><td>0.19953173  </td><td> 0.09422116 </td><td>1.000000000 </td></tr>\n",
       "</tbody>\n",
       "</table>\n"
      ],
      "text/latex": [
       "\\begin{tabular}{r|llllll}\n",
       "  & age & bmi & children & expenses & age2 & bmi30\\\\\n",
       "\\hline\n",
       "\tage & 1.0000000    & 0.10934101   &  0.042468999 & 0.29900819   &  0.98838048  & 0.085668398 \\\\\n",
       "\tbmi & 0.1093410    & 1.00000000   &  0.012644707 & 0.19857626   &  0.11290036  & 0.799372587 \\\\\n",
       "\tchildren & 0.0424690    & 0.01264471   &  1.000000000 & 0.06799823   & -0.00325910  & 0.009806687 \\\\\n",
       "\texpenses & 0.2990082    & 0.19857626   &  0.067998230 & 1.00000000   &  0.30077213  & 0.199531734 \\\\\n",
       "\tage2 & 0.9883805    & 0.11290036   & -0.003259100 & 0.30077213   &  1.00000000  & 0.094221160 \\\\\n",
       "\tbmi30 & 0.0856684    & 0.79937259   &  0.009806687 & 0.19953173   &  0.09422116  & 1.000000000 \\\\\n",
       "\\end{tabular}\n"
      ],
      "text/markdown": [
       "\n",
       "| <!--/--> | age | bmi | children | expenses | age2 | bmi30 |\n",
       "|---|---|---|---|---|---|---|\n",
       "| age | 1.0000000    | 0.10934101   |  0.042468999 | 0.29900819   |  0.98838048  | 0.085668398  |\n",
       "| bmi | 0.1093410    | 1.00000000   |  0.012644707 | 0.19857626   |  0.11290036  | 0.799372587  |\n",
       "| children | 0.0424690    | 0.01264471   |  1.000000000 | 0.06799823   | -0.00325910  | 0.009806687  |\n",
       "| expenses | 0.2990082    | 0.19857626   |  0.067998230 | 1.00000000   |  0.30077213  | 0.199531734  |\n",
       "| age2 | 0.9883805    | 0.11290036   | -0.003259100 | 0.30077213   |  1.00000000  | 0.094221160  |\n",
       "| bmi30 | 0.0856684    | 0.79937259   |  0.009806687 | 0.19953173   |  0.09422116  | 1.000000000  |\n",
       "\n"
      ],
      "text/plain": [
       "         age       bmi        children     expenses   age2        bmi30      \n",
       "age      1.0000000 0.10934101  0.042468999 0.29900819  0.98838048 0.085668398\n",
       "bmi      0.1093410 1.00000000  0.012644707 0.19857626  0.11290036 0.799372587\n",
       "children 0.0424690 0.01264471  1.000000000 0.06799823 -0.00325910 0.009806687\n",
       "expenses 0.2990082 0.19857626  0.067998230 1.00000000  0.30077213 0.199531734\n",
       "age2     0.9883805 0.11290036 -0.003259100 0.30077213  1.00000000 0.094221160\n",
       "bmi30    0.0856684 0.79937259  0.009806687 0.19953173  0.09422116 1.000000000"
      ]
     },
     "metadata": {},
     "output_type": "display_data"
    },
    {
     "name": "stderr",
     "output_type": "stream",
     "text": [
      "The following objects are masked from insurance (pos = 3):\n",
      "\n",
      "    age, age2, bmi, children, expenses, region, sex, smoker\n",
      "\n",
      "The following objects are masked from insurance (pos = 4):\n",
      "\n",
      "    age, bmi, children, expenses, region, sex, smoker\n",
      "\n",
      "The following objects are masked from insurance (pos = 5):\n",
      "\n",
      "    age, bmi, children, expenses, region, sex, smoker\n",
      "\n"
     ]
    },
    {
     "data": {
      "text/plain": [
       "\n",
       "Call:\n",
       "lm(formula = expenses ~ ., data = insurance)\n",
       "\n",
       "Residuals:\n",
       "     Min       1Q   Median       3Q      Max \n",
       "-12493.8  -3360.4    136.9   1310.8  29317.0 \n",
       "\n",
       "Coefficients:\n",
       "                 Estimate Std. Error t value Pr(>|t|)    \n",
       "(Intercept)     -2948.272   1828.553  -1.612 0.107123    \n",
       "age               -28.481     80.443  -0.354 0.723357    \n",
       "sexmale          -166.288    328.313  -0.506 0.612595    \n",
       "bmi               154.070     46.073   3.344 0.000849 ***\n",
       "children          630.455    142.365   4.428 1.03e-05 ***\n",
       "smokeryes       23857.060    407.349  58.567  < 2e-16 ***\n",
       "regionnorthwest  -400.413    469.636  -0.853 0.394033    \n",
       "regionsoutheast  -888.874    472.837  -1.880 0.060344 .  \n",
       "regionsouthwest  -947.344    471.206  -2.010 0.044584 *  \n",
       "age2                3.602      1.004   3.590 0.000343 ***\n",
       "bmi30            2725.683    547.814   4.976 7.36e-07 ***\n",
       "---\n",
       "Signif. codes:  0 '***' 0.001 '**' 0.01 '*' 0.05 '.' 0.1 ' ' 1\n",
       "\n",
       "Residual standard error: 5977 on 1327 degrees of freedom\n",
       "Multiple R-squared:  0.7582,\tAdjusted R-squared:  0.7564 \n",
       "F-statistic: 416.2 on 10 and 1327 DF,  p-value: < 2.2e-16\n"
      ]
     },
     "metadata": {},
     "output_type": "display_data"
    }
   ],
   "source": [
    "insurance$bmi30 <- ifelse(insurance$bmi>=30,1,0)\n",
    "head(insurance)\n",
    "\n",
    "cor( insurance[    , c(\"age\",\"bmi\",\"children\",\"expenses\",'age2','bmi30')] ) \n",
    "#dev.new()\n",
    "#pairs.panels(insurance[c('age','bmi','children','expenses','age2','bmi30')])\n",
    "\n",
    "attach(insurance)\n",
    "rs_m3 <- lm(expenses ~ .,  data= insurance)\n",
    "summary(rs_m2)"
   ]
  },
  {
   "cell_type": "markdown",
   "metadata": {},
   "source": [
    "    3. 두 특징이 결합된 특성을 가질 때(상호작용) 의료비에 미치는 영향을 확인하는 것으로 파생변수 추가"
   ]
  },
  {
   "cell_type": "code",
   "execution_count": 41,
   "metadata": {
    "ExecuteTime": {
     "end_time": "2020-06-29T07:09:21.862468Z",
     "start_time": "2020-06-29T07:09:21.825Z"
    }
   },
   "outputs": [
    {
     "data": {
      "text/plain": [
       "\n",
       "Call:\n",
       "lm(formula = expenses ~ age + age2 + children + bmi + sex + bmi30 * \n",
       "    smoker + region, data = insurance)\n",
       "\n",
       "Residuals:\n",
       "     Min       1Q   Median       3Q      Max \n",
       "-17297.1  -1656.0  -1262.7   -727.8  24161.6 \n",
       "\n",
       "Coefficients:\n",
       "                  Estimate Std. Error t value Pr(>|t|)    \n",
       "(Intercept)       139.0053  1363.1359   0.102 0.918792    \n",
       "age               -32.6181    59.8250  -0.545 0.585690    \n",
       "age2                3.7307     0.7463   4.999 6.54e-07 ***\n",
       "children          678.6017   105.8855   6.409 2.03e-10 ***\n",
       "bmi               119.7715    34.2796   3.494 0.000492 ***\n",
       "sexmale          -496.7690   244.3713  -2.033 0.042267 *  \n",
       "bmi30            -997.9355   422.9607  -2.359 0.018449 *  \n",
       "smokeryes       13404.5952   439.9591  30.468  < 2e-16 ***\n",
       "regionnorthwest  -279.1661   349.2826  -0.799 0.424285    \n",
       "regionsoutheast  -828.0345   351.6484  -2.355 0.018682 *  \n",
       "regionsouthwest -1222.1619   350.5314  -3.487 0.000505 ***\n",
       "bmi30:smokeryes 19810.1534   604.6769  32.762  < 2e-16 ***\n",
       "---\n",
       "Signif. codes:  0 '***' 0.001 '**' 0.01 '*' 0.05 '.' 0.1 ' ' 1\n",
       "\n",
       "Residual standard error: 4445 on 1326 degrees of freedom\n",
       "Multiple R-squared:  0.8664,\tAdjusted R-squared:  0.8653 \n",
       "F-statistic: 781.7 on 11 and 1326 DF,  p-value: < 2.2e-16\n"
      ]
     },
     "metadata": {},
     "output_type": "display_data"
    }
   ],
   "source": [
    "rs_m4 <- lm(expenses ~ age+age2+children+bmi+sex+bmi30*smoker+region,data=insurance) # bmi30*smoker : 비만+흡연자 파생변수를 모델생성시 추가\n",
    "summary(rs_m4)"
   ]
  },
  {
   "cell_type": "markdown",
   "metadata": {},
   "source": [
    "<b>bmi30:smokeryes <u>19810.1534</u>   604.6769  32.762  < 2e-16 ***</b> <- 매우 유의미한 변수\n",
    "    "
   ]
  },
  {
   "cell_type": "markdown",
   "metadata": {},
   "source": [
    "    흡연만 할 때 보다 비만인 사람이 흡연할 때 연간 의료비가 $6406 더 들것으로 예상\n",
    "    \n",
    "    R-squared : 0.7509 -> 0.7537 -> 0.7582 -> 0.8664 설명력이 더 증가"
   ]
  },
  {
   "cell_type": "markdown",
   "metadata": {},
   "source": [
    "### ※ 문제264. 현재 결정계수(0.8664)보다 더 올릴 수 있는 파생변수를 추가하시오"
   ]
  },
  {
   "cell_type": "code",
   "execution_count": 42,
   "metadata": {
    "ExecuteTime": {
     "end_time": "2020-06-29T07:51:36.538747Z",
     "start_time": "2020-06-29T07:51:36.385Z"
    }
   },
   "outputs": [
    {
     "data": {
      "text/plain": [
       "\n",
       "Call:\n",
       "lm(formula = expenses ~ age + age2 + children + bmi + sex + smoker * \n",
       "    age3 * child2 + smoker * bmi30 * child2 * age3 * region2, \n",
       "    data = insurance)\n",
       "\n",
       "Residuals:\n",
       "     Min       1Q   Median       3Q      Max \n",
       "-17080.6  -1687.4  -1140.2   -574.4  24165.2 \n",
       "\n",
       "Coefficients:\n",
       "                                      Estimate Std. Error t value Pr(>|t|)    \n",
       "(Intercept)                            61.6978  1471.7903   0.042  0.96657    \n",
       "age                                   -53.0479    65.9682  -0.804  0.42146    \n",
       "age2                                    3.9255     0.7681   5.110 3.69e-07 ***\n",
       "children                              610.9820   112.6597   5.423 6.97e-08 ***\n",
       "bmi                                   108.7634    35.0061   3.107  0.00193 ** \n",
       "sexmale                              -482.6631   247.0258  -1.954  0.05093 .  \n",
       "smokeryes                           13498.9257   764.9028  17.648  < 2e-16 ***\n",
       "age3                                  387.0997   673.3980   0.575  0.56550    \n",
       "child2                               2110.1356   780.9555   2.702  0.00698 ** \n",
       "bmi30                                -635.8050   601.4697  -1.057  0.29067    \n",
       "region2                              -554.7619   785.7891  -0.706  0.48032    \n",
       "smokeryes:age3                        657.6155  1114.8734   0.590  0.55539    \n",
       "smokeryes:child2                    -2321.5117  1892.5748  -1.227  0.22018    \n",
       "age3:child2                         -1593.3208  1222.3010  -1.304  0.19262    \n",
       "smokeryes:bmi30                     19869.1343  1136.1419  17.488  < 2e-16 ***\n",
       "child2:bmi30                          194.1207  1298.0351   0.150  0.88114    \n",
       "age3:bmi30                           -539.6039   703.5885  -0.767  0.44326    \n",
       "smokeryes:region2                    1044.0933  1581.9964   0.660  0.50938    \n",
       "bmi30:region2                         211.0174  1023.1919   0.206  0.83664    \n",
       "child2:region2                      -1078.7098  2268.2415  -0.476  0.63446    \n",
       "age3:region2                         1046.2223  1158.7569   0.903  0.36675    \n",
       "smokeryes:age3:child2                 177.2532  2682.9296   0.066  0.94733    \n",
       "smokeryes:child2:bmi30                 12.5020  2695.8423   0.005  0.99630    \n",
       "smokeryes:age3:bmi30                -1551.3444  1643.7395  -0.944  0.34545    \n",
       "age3:child2:bmi30                     455.7349  1760.6071   0.259  0.79579    \n",
       "smokeryes:bmi30:region2             -1283.8761  2094.0528  -0.613  0.53991    \n",
       "smokeryes:child2:region2              -12.6698  5431.9523  -0.002  0.99814    \n",
       "child2:bmi30:region2                -2818.8191  2769.1395  -1.018  0.30890    \n",
       "smokeryes:age3:region2              -2296.1061  2260.6170  -1.016  0.30996    \n",
       "age3:bmi30:region2                   -701.2707  1461.5539  -0.480  0.63144    \n",
       "age3:child2:region2                 -1548.1450  2938.5762  -0.527  0.59840    \n",
       "smokeryes:age3:child2:bmi30           737.0902  3743.4844   0.197  0.84394    \n",
       "smokeryes:child2:bmi30:region2       3321.4110  6298.9901   0.527  0.59808    \n",
       "smokeryes:age3:bmi30:region2         5162.7950  2982.4011   1.731  0.08367 .  \n",
       "smokeryes:age3:child2:region2        2206.0030  6615.1554   0.333  0.73883    \n",
       "age3:child2:bmi30:region2            4696.8635  3647.2942   1.288  0.19806    \n",
       "smokeryes:age3:child2:bmi30:region2 -5960.0836  7866.3561  -0.758  0.44879    \n",
       "---\n",
       "Signif. codes:  0 '***' 0.001 '**' 0.01 '*' 0.05 '.' 0.1 ' ' 1\n",
       "\n",
       "Residual standard error: 4459 on 1301 degrees of freedom\n",
       "Multiple R-squared:  0.8681,\tAdjusted R-squared:  0.8644 \n",
       "F-statistic: 237.8 on 36 and 1301 DF,  p-value: < 2.2e-16\n"
      ]
     },
     "metadata": {},
     "output_type": "display_data"
    }
   ],
   "source": [
    "insurance$age3 <- ifelse(insurance$age>=39,1,0)\n",
    "insurance$child2 <- ifelse(insurance$children==2,1,0)\n",
    "insurance$region2 <- ifelse(insurance$region=='southeast',1,0)\n",
    "insurance$sex2 <- ifelse(insurance$sex=='male',1,0)\n",
    "rs_m5 <- lm(expenses ~ age+age2+children+bmi+sex+smoker*age3*child2+smoker*bmi30*child2*age3*region2,data=insurance)\n",
    "summary(rs_m5)"
   ]
  },
  {
   "cell_type": "markdown",
   "metadata": {},
   "source": [
    "## ■ 다중공선성\n",
    "    - 여러개의 변수들이 상호간의 1차함수적 관계에 있는 상황을 복합적으로 표현\n",
    "    - 다중회귀분석은 설명변수가 2개 이상인 회귀모형을 분석대상으로 사용\n",
    "    - 독립변수들의 선형관계계수값이 1 또는 -1이 되어서는 안됨\n",
    "        즉, 한 독립변수가 정확이 다른 독립변수와 1차 함수관계에 있어서는 안되며 다른 독립변수의 일정 배수와 같아져서는 곤란함\n",
    "        이 가정이 필요한 이유는 두 독립변수가 정확히 1차 함수 관계에 있을 경우 종속변수의 변화를 설명하는데 실제로 필요한 정보는 둘 중 한 개의 독립변수만으로 충분\n",
    "    - 어떤 두 독립변수가 정확히 1차 함수관계에 있지 않으나 상관관계가 강하여 절댓값 1에 가까워지면 최소제곱법 적용이 어려워 다중공선성 현상이 발생"
   ]
  },
  {
   "cell_type": "code",
   "execution_count": 43,
   "metadata": {
    "ExecuteTime": {
     "end_time": "2020-06-29T08:05:00.032776Z",
     "start_time": "2020-06-29T08:04:24.185Z"
    }
   },
   "outputs": [
    {
     "name": "stderr",
     "output_type": "stream",
     "text": [
      "Installing package into 'C:/Users/knitwill/Documents/R/win-library/3.6'\n",
      "(as 'lib' is unspecified)\n",
      "also installing the dependencies 'SparseM', 'MatrixModels', 'sp', 'openxlsx', 'carData', 'abind', 'quantreg', 'maptools', 'rio'\n",
      "\n"
     ]
    },
    {
     "name": "stdout",
     "output_type": "stream",
     "text": [
      "package 'SparseM' successfully unpacked and MD5 sums checked\n",
      "package 'MatrixModels' successfully unpacked and MD5 sums checked\n",
      "package 'sp' successfully unpacked and MD5 sums checked\n",
      "package 'openxlsx' successfully unpacked and MD5 sums checked\n",
      "package 'carData' successfully unpacked and MD5 sums checked\n",
      "package 'abind' successfully unpacked and MD5 sums checked\n",
      "package 'quantreg' successfully unpacked and MD5 sums checked\n",
      "package 'maptools' successfully unpacked and MD5 sums checked\n",
      "package 'rio' successfully unpacked and MD5 sums checked\n",
      "package 'car' successfully unpacked and MD5 sums checked\n",
      "\n",
      "The downloaded binary packages are in\n",
      "\tC:\\Users\\knitwill\\AppData\\Local\\Temp\\RtmpCeSBAV\\downloaded_packages\n"
     ]
    },
    {
     "name": "stderr",
     "output_type": "stream",
     "text": [
      "Warning message:\n",
      "\"package 'car' was built under R version 3.6.3\"Loading required package: carData\n",
      "Warning message:\n",
      "\"package 'carData' was built under R version 3.6.3\""
     ]
    }
   ],
   "source": [
    "install.packages(\"car\")\n",
    "library(car)"
   ]
  },
  {
   "cell_type": "code",
   "execution_count": 44,
   "metadata": {
    "ExecuteTime": {
     "end_time": "2020-06-29T08:05:02.266399Z",
     "start_time": "2020-06-29T08:04:36.667Z"
    }
   },
   "outputs": [
    {
     "data": {
      "text/html": [
       "<table>\n",
       "<thead><tr><th scope=col>학생번호</th><th scope=col>시험점수</th><th scope=col>아이큐</th><th scope=col>공부시간</th></tr></thead>\n",
       "<tbody>\n",
       "\t<tr><td> 1 </td><td>100</td><td>125</td><td>30 </td></tr>\n",
       "\t<tr><td> 2 </td><td> 95</td><td>104</td><td>40 </td></tr>\n",
       "\t<tr><td> 3 </td><td> 92</td><td>110</td><td>25 </td></tr>\n",
       "\t<tr><td> 4 </td><td> 90</td><td>105</td><td>20 </td></tr>\n",
       "\t<tr><td> 5 </td><td> 85</td><td>100</td><td>20 </td></tr>\n",
       "\t<tr><td> 6 </td><td> 80</td><td>100</td><td>20 </td></tr>\n",
       "\t<tr><td> 7 </td><td> 78</td><td> 95</td><td>15 </td></tr>\n",
       "\t<tr><td> 8 </td><td> 75</td><td> 95</td><td>10 </td></tr>\n",
       "\t<tr><td> 9 </td><td> 72</td><td> 85</td><td> 0 </td></tr>\n",
       "\t<tr><td>10 </td><td> 65</td><td> 90</td><td> 5 </td></tr>\n",
       "</tbody>\n",
       "</table>\n"
      ],
      "text/latex": [
       "\\begin{tabular}{r|llll}\n",
       " 학생번호 & 시험점수 & 아이큐 & 공부시간\\\\\n",
       "\\hline\n",
       "\t  1  & 100 & 125 & 30 \\\\\n",
       "\t  2  &  95 & 104 & 40 \\\\\n",
       "\t  3  &  92 & 110 & 25 \\\\\n",
       "\t  4  &  90 & 105 & 20 \\\\\n",
       "\t  5  &  85 & 100 & 20 \\\\\n",
       "\t  6  &  80 & 100 & 20 \\\\\n",
       "\t  7  &  78 &  95 & 15 \\\\\n",
       "\t  8  &  75 &  95 & 10 \\\\\n",
       "\t  9  &  72 &  85 &  0 \\\\\n",
       "\t 10  &  65 &  90 &  5 \\\\\n",
       "\\end{tabular}\n"
      ],
      "text/markdown": [
       "\n",
       "| 학생번호 | 시험점수 | 아이큐 | 공부시간 |\n",
       "|---|---|---|---|\n",
       "|  1  | 100 | 125 | 30  |\n",
       "|  2  |  95 | 104 | 40  |\n",
       "|  3  |  92 | 110 | 25  |\n",
       "|  4  |  90 | 105 | 20  |\n",
       "|  5  |  85 | 100 | 20  |\n",
       "|  6  |  80 | 100 | 20  |\n",
       "|  7  |  78 |  95 | 15  |\n",
       "|  8  |  75 |  95 | 10  |\n",
       "|  9  |  72 |  85 |  0  |\n",
       "| 10  |  65 |  90 |  5  |\n",
       "\n"
      ],
      "text/plain": [
       "   학생번호 시험점수 아이큐 공부시간\n",
       "1   1       100      125    30      \n",
       "2   2        95      104    40      \n",
       "3   3        92      110    25      \n",
       "4   4        90      105    20      \n",
       "5   5        85      100    20      \n",
       "6   6        80      100    20      \n",
       "7   7        78       95    15      \n",
       "8   8        75       95    10      \n",
       "9   9        72       85     0      \n",
       "10 10        65       90     5      "
      ]
     },
     "metadata": {},
     "output_type": "display_data"
    }
   ],
   "source": [
    "test <- read.csv('test_vif1.csv')\n",
    "test"
   ]
  },
  {
   "cell_type": "code",
   "execution_count": 45,
   "metadata": {
    "ExecuteTime": {
     "end_time": "2020-06-29T08:05:17.204635Z",
     "start_time": "2020-06-29T08:05:17.173Z"
    }
   },
   "outputs": [
    {
     "data": {
      "text/html": [
       "<table>\n",
       "<thead><tr><th></th><th scope=col>아이큐</th><th scope=col>공부시간</th></tr></thead>\n",
       "<tbody>\n",
       "\t<tr><th scope=row>아이큐</th><td>1.0000000</td><td>0.7710712</td></tr>\n",
       "\t<tr><th scope=row>공부시간</th><td>0.7710712</td><td>1.0000000</td></tr>\n",
       "</tbody>\n",
       "</table>\n"
      ],
      "text/latex": [
       "\\begin{tabular}{r|ll}\n",
       "  & 아이큐 & 공부시간\\\\\n",
       "\\hline\n",
       "\t아이큐 & 1.0000000 & 0.7710712\\\\\n",
       "\t공부시간 & 0.7710712 & 1.0000000\\\\\n",
       "\\end{tabular}\n"
      ],
      "text/markdown": [
       "\n",
       "| <!--/--> | 아이큐 | 공부시간 |\n",
       "|---|---|---|\n",
       "| 아이큐 | 1.0000000 | 0.7710712 |\n",
       "| 공부시간 | 0.7710712 | 1.0000000 |\n",
       "\n"
      ],
      "text/plain": [
       "         아이큐    공부시간 \n",
       "아이큐   1.0000000 0.7710712\n",
       "공부시간 0.7710712 1.0000000"
      ]
     },
     "metadata": {},
     "output_type": "display_data"
    }
   ],
   "source": [
    "cor(test[,c('아이큐','공부시간')])"
   ]
  },
  {
   "cell_type": "code",
   "execution_count": 46,
   "metadata": {
    "ExecuteTime": {
     "end_time": "2020-06-29T08:08:26.042262Z",
     "start_time": "2020-06-29T08:08:26.006Z"
    }
   },
   "outputs": [
    {
     "data": {
      "text/plain": [
       "\n",
       "Call:\n",
       "lm(formula = test$시험점수 ~ ., data = test)\n",
       "\n",
       "Residuals:\n",
       "   Min     1Q Median     3Q    Max \n",
       "-6.341 -1.130 -0.191  1.450  5.542 \n",
       "\n",
       "Coefficients:\n",
       "            Estimate Std. Error t value Pr(>|t|)  \n",
       "(Intercept)  23.1561    15.9672   1.450   0.1903  \n",
       "아이큐        0.5094     0.1808   2.818   0.0259 *\n",
       "공부시간      0.4671     0.1720   2.717   0.0299 *\n",
       "---\n",
       "Signif. codes:  0 '***' 0.001 '**' 0.01 '*' 0.05 '.' 0.1 ' ' 1\n",
       "\n",
       "Residual standard error: 3.875 on 7 degrees of freedom\n",
       "Multiple R-squared:  0.9053,\tAdjusted R-squared:  0.8782 \n",
       "F-statistic: 33.45 on 2 and 7 DF,  p-value: 0.0002617\n"
      ]
     },
     "metadata": {},
     "output_type": "display_data"
    }
   ],
   "source": [
    "test <- test[,-1]\n",
    "m1 <- lm(test$시험점수~., data=test)\n",
    "summary(m1)"
   ]
  },
  {
   "cell_type": "code",
   "execution_count": 47,
   "metadata": {
    "ExecuteTime": {
     "end_time": "2020-06-29T08:09:45.663062Z",
     "start_time": "2020-06-29T08:09:45.632Z"
    }
   },
   "outputs": [
    {
     "data": {
      "text/html": [
       "<dl class=dl-horizontal>\n",
       "\t<dt>아이큐</dt>\n",
       "\t\t<dd>2.46640058055153</dd>\n",
       "\t<dt>공부시간</dt>\n",
       "\t\t<dd>2.46640058055153</dd>\n",
       "</dl>\n"
      ],
      "text/latex": [
       "\\begin{description*}\n",
       "\\item[아이큐] 2.46640058055153\n",
       "\\item[공부시간] 2.46640058055153\n",
       "\\end{description*}\n"
      ],
      "text/markdown": [
       "아이큐\n",
       ":   2.46640058055153공부시간\n",
       ":   2.46640058055153\n",
       "\n"
      ],
      "text/plain": [
       "  아이큐 공부시간 \n",
       "2.466401 2.466401 "
      ]
     },
     "metadata": {},
     "output_type": "display_data"
    }
   ],
   "source": [
    "vif(m1) # 다중공선성 확인"
   ]
  },
  {
   "cell_type": "markdown",
   "metadata": {},
   "source": [
    "    현업기준 \n",
    "        팽창계수(vif)가 보통 10보다 큰 것으로 골라내고 \n",
    "        엄격하게 하려면 5보다 큰 것\n",
    "        느슨하게 하려면 15~20으로 주로 골라낸다"
   ]
  },
  {
   "cell_type": "markdown",
   "metadata": {},
   "source": [
    "### ※ 문제265. (오늘의 마지막 문제) test_vif2.csv 데이터를 로드해서 다중회귀분석을 하고 다중공선성을 보이는지 독립변수들이 있는지 확인하시오\n",
    "    다중공선성을 보이는 독립변수들의 p-value 값이 어떻게 나타나고 있는지를 확인\n",
    "    독립변수의 p-value가 0.05 이내를 나타내는지 확인"
   ]
  },
  {
   "cell_type": "code",
   "execution_count": 49,
   "metadata": {
    "ExecuteTime": {
     "end_time": "2020-06-29T08:14:51.770393Z",
     "start_time": "2020-06-29T08:14:51.727Z"
    }
   },
   "outputs": [
    {
     "data": {
      "text/plain": [
       "\n",
       "Call:\n",
       "lm(formula = test2$시험점수 ~ ., data = test2)\n",
       "\n",
       "Coefficients:\n",
       "(Intercept)       아이큐     공부시간     등급평균  \n",
       "   50.30669      0.05875      0.48876      7.37578  \n"
      ]
     },
     "metadata": {},
     "output_type": "display_data"
    },
    {
     "data": {
      "text/html": [
       "<dl class=dl-horizontal>\n",
       "\t<dt>아이큐</dt>\n",
       "\t\t<dd>22.6435527642442</dd>\n",
       "\t<dt>공부시간</dt>\n",
       "\t\t<dd>2.51778624992124</dd>\n",
       "\t<dt>등급평균</dt>\n",
       "\t\t<dd>19.6582638361453</dd>\n",
       "</dl>\n"
      ],
      "text/latex": [
       "\\begin{description*}\n",
       "\\item[아이큐] 22.6435527642442\n",
       "\\item[공부시간] 2.51778624992124\n",
       "\\item[등급평균] 19.6582638361453\n",
       "\\end{description*}\n"
      ],
      "text/markdown": [
       "아이큐\n",
       ":   22.6435527642442공부시간\n",
       ":   2.51778624992124등급평균\n",
       ":   19.6582638361453\n",
       "\n"
      ],
      "text/plain": [
       "   아이큐  공부시간  등급평균 \n",
       "22.643553  2.517786 19.658264 "
      ]
     },
     "metadata": {},
     "output_type": "display_data"
    }
   ],
   "source": [
    "test2 <- read.csv('test_vif2.csv')\n",
    "test2 <- test2[,-1]\n",
    "\n",
    "test_m <- lm(test2$시험점수~., data=test2)\n",
    "test_m\n",
    "\n",
    "vif(test_m) # 아이큐"
   ]
  },
  {
   "cell_type": "code",
   "execution_count": 50,
   "metadata": {
    "ExecuteTime": {
     "end_time": "2020-06-29T08:17:30.288830Z",
     "start_time": "2020-06-29T08:17:30.226Z"
    }
   },
   "outputs": [
    {
     "data": {
      "text/plain": [
       "\n",
       "Call:\n",
       "lm(formula = test2$시험점수 ~ ., data = test2)\n",
       "\n",
       "Residuals:\n",
       "    Min      1Q  Median      3Q     Max \n",
       "-6.3146 -1.2184 -0.4266  1.5516  5.6358 \n",
       "\n",
       "Coefficients:\n",
       "            Estimate Std. Error t value Pr(>|t|)  \n",
       "(Intercept) 50.30669   35.70317   1.409   0.2085  \n",
       "아이큐       0.05875    0.55872   0.105   0.9197  \n",
       "공부시간     0.48876    0.17719   2.758   0.0329 *\n",
       "등급평균     7.37578    8.63161   0.855   0.4256  \n",
       "---\n",
       "Signif. codes:  0 '***' 0.001 '**' 0.01 '*' 0.05 '.' 0.1 ' ' 1\n",
       "\n",
       "Residual standard error: 3.952 on 6 degrees of freedom\n",
       "Multiple R-squared:  0.9155,\tAdjusted R-squared:  0.8733 \n",
       "F-statistic: 21.68 on 3 and 6 DF,  p-value: 0.001275\n"
      ]
     },
     "metadata": {},
     "output_type": "display_data"
    },
    {
     "data": {
      "text/html": [
       "<dl class=dl-horizontal>\n",
       "\t<dt>아이큐</dt>\n",
       "\t\t<dd>22.6435527642442</dd>\n",
       "\t<dt>공부시간</dt>\n",
       "\t\t<dd>2.51778624992124</dd>\n",
       "\t<dt>등급평균</dt>\n",
       "\t\t<dd>19.6582638361453</dd>\n",
       "</dl>\n"
      ],
      "text/latex": [
       "\\begin{description*}\n",
       "\\item[아이큐] 22.6435527642442\n",
       "\\item[공부시간] 2.51778624992124\n",
       "\\item[등급평균] 19.6582638361453\n",
       "\\end{description*}\n"
      ],
      "text/markdown": [
       "아이큐\n",
       ":   22.6435527642442공부시간\n",
       ":   2.51778624992124등급평균\n",
       ":   19.6582638361453\n",
       "\n"
      ],
      "text/plain": [
       "   아이큐  공부시간  등급평균 \n",
       "22.643553  2.517786 19.658264 "
      ]
     },
     "metadata": {},
     "output_type": "display_data"
    },
    {
     "data": {
      "text/html": [
       "<dl class=dl-horizontal>\n",
       "\t<dt>아이큐</dt>\n",
       "\t\t<dd>TRUE</dd>\n",
       "\t<dt>공부시간</dt>\n",
       "\t\t<dd>FALSE</dd>\n",
       "\t<dt>등급평균</dt>\n",
       "\t\t<dd>TRUE</dd>\n",
       "</dl>\n"
      ],
      "text/latex": [
       "\\begin{description*}\n",
       "\\item[아이큐] TRUE\n",
       "\\item[공부시간] FALSE\n",
       "\\item[등급평균] TRUE\n",
       "\\end{description*}\n"
      ],
      "text/markdown": [
       "아이큐\n",
       ":   TRUE공부시간\n",
       ":   FALSE등급평균\n",
       ":   TRUE\n",
       "\n"
      ],
      "text/plain": [
       "  아이큐 공부시간 등급평균 \n",
       "    TRUE    FALSE     TRUE "
      ]
     },
     "metadata": {},
     "output_type": "display_data"
    }
   ],
   "source": [
    "summary(test_m)\n",
    "vif(test_m)\n",
    "vif(test_m) > 15 # 아이큐, 등급평균"
   ]
  },
  {
   "cell_type": "code",
   "execution_count": null,
   "metadata": {},
   "outputs": [],
   "source": []
  }
 ],
 "metadata": {
  "kernelspec": {
   "display_name": "R",
   "language": "R",
   "name": "ir"
  },
  "language_info": {
   "codemirror_mode": "r",
   "file_extension": ".r",
   "mimetype": "text/x-r-source",
   "name": "R",
   "pygments_lexer": "r",
   "version": "3.6.1"
  },
  "toc": {
   "base_numbering": 1,
   "nav_menu": {},
   "number_sections": true,
   "sideBar": true,
   "skip_h1_title": false,
   "title_cell": "Table of Contents",
   "title_sidebar": "Contents",
   "toc_cell": false,
   "toc_position": {},
   "toc_section_display": true,
   "toc_window_display": false
  },
  "varInspector": {
   "cols": {
    "lenName": 16,
    "lenType": 16,
    "lenVar": 40
   },
   "kernels_config": {
    "python": {
     "delete_cmd_postfix": "",
     "delete_cmd_prefix": "del ",
     "library": "var_list.py",
     "varRefreshCmd": "print(var_dic_list())"
    },
    "r": {
     "delete_cmd_postfix": ") ",
     "delete_cmd_prefix": "rm(",
     "library": "var_list.r",
     "varRefreshCmd": "cat(var_dic_list()) "
    }
   },
   "types_to_exclude": [
    "module",
    "function",
    "builtin_function_or_method",
    "instance",
    "_Feature"
   ],
   "window_display": false
  }
 },
 "nbformat": 4,
 "nbformat_minor": 4
}
