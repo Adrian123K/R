{
 "cells": [
  {
   "cell_type": "markdown",
   "metadata": {},
   "source": [
    "### ※ 문제290. 아래의 myknn 함수를 만들고 유방암 데이터의 악성과 양성을 잘 분류하는지 확인하시오"
   ]
  },
  {
   "cell_type": "code",
   "execution_count": 1,
   "metadata": {
    "ExecuteTime": {
     "end_time": "2020-07-03T07:07:14.165367Z",
     "start_time": "2020-07-03T07:07:14.138Z"
    }
   },
   "outputs": [],
   "source": [
    "myknn <- function(train, test, cl, k) {\n",
    "  pred <- c()\n",
    "  for (i in 1:nrow(test)) {\n",
    "    temp <- t(t(train)-c(t(test[i,])))^2         \n",
    "    temp <- sqrt(rowSums(temp))\n",
    "    table <- data.frame(train, kind=cl, d=temp)\n",
    "    table$rnk <- rank(table$d, ties.method = 'min')\n",
    "    top <- table[table$rnk <= k,'kind']\n",
    "    pred <- append(pred, names(which.max(table(top))))\n",
    "  }\n",
    "  return(pred)\n",
    "}"
   ]
  },
  {
   "cell_type": "code",
   "execution_count": 2,
   "metadata": {
    "ExecuteTime": {
     "end_time": "2020-07-03T07:07:42.060316Z",
     "start_time": "2020-07-03T07:07:41.833Z"
    }
   },
   "outputs": [
    {
     "data": {
      "text/html": [
       "<ol class=list-inline>\n",
       "\t<li>'Maliganant'</li>\n",
       "\t<li>'Benign'</li>\n",
       "\t<li>'Benign'</li>\n",
       "\t<li>'Benign'</li>\n",
       "\t<li>'Benign'</li>\n",
       "\t<li>'Benign'</li>\n",
       "\t<li>'Benign'</li>\n",
       "\t<li>'Benign'</li>\n",
       "\t<li>'Maliganant'</li>\n",
       "\t<li>'Benign'</li>\n",
       "\t<li>'Benign'</li>\n",
       "\t<li>'Maliganant'</li>\n",
       "\t<li>'Benign'</li>\n",
       "\t<li>'Benign'</li>\n",
       "\t<li>'Maliganant'</li>\n",
       "\t<li>'Benign'</li>\n",
       "\t<li>'Maliganant'</li>\n",
       "\t<li>'Benign'</li>\n",
       "\t<li>'Maliganant'</li>\n",
       "\t<li>'Maliganant'</li>\n",
       "\t<li>'Benign'</li>\n",
       "\t<li>'Benign'</li>\n",
       "\t<li>'Benign'</li>\n",
       "\t<li>'Benign'</li>\n",
       "\t<li>'Benign'</li>\n",
       "\t<li>'Benign'</li>\n",
       "\t<li>'Benign'</li>\n",
       "\t<li>'Maliganant'</li>\n",
       "\t<li>'Benign'</li>\n",
       "\t<li>'Benign'</li>\n",
       "\t<li>'Benign'</li>\n",
       "\t<li>'Benign'</li>\n",
       "\t<li>'Maliganant'</li>\n",
       "\t<li>'Maliganant'</li>\n",
       "\t<li>'Benign'</li>\n",
       "\t<li>'Benign'</li>\n",
       "\t<li>'Benign'</li>\n",
       "\t<li>'Benign'</li>\n",
       "\t<li>'Benign'</li>\n",
       "\t<li>'Benign'</li>\n",
       "\t<li>'Benign'</li>\n",
       "\t<li>'Benign'</li>\n",
       "\t<li>'Maliganant'</li>\n",
       "\t<li>'Maliganant'</li>\n",
       "\t<li>'Benign'</li>\n",
       "\t<li>'Maliganant'</li>\n",
       "\t<li>'Benign'</li>\n",
       "\t<li>'Benign'</li>\n",
       "\t<li>'Benign'</li>\n",
       "\t<li>'Benign'</li>\n",
       "\t<li>'Maliganant'</li>\n",
       "\t<li>'Benign'</li>\n",
       "\t<li>'Benign'</li>\n",
       "\t<li>'Benign'</li>\n",
       "\t<li>'Benign'</li>\n",
       "\t<li>'Maliganant'</li>\n",
       "\t<li>'Benign'</li>\n",
       "</ol>\n"
      ],
      "text/latex": [
       "\\begin{enumerate*}\n",
       "\\item 'Maliganant'\n",
       "\\item 'Benign'\n",
       "\\item 'Benign'\n",
       "\\item 'Benign'\n",
       "\\item 'Benign'\n",
       "\\item 'Benign'\n",
       "\\item 'Benign'\n",
       "\\item 'Benign'\n",
       "\\item 'Maliganant'\n",
       "\\item 'Benign'\n",
       "\\item 'Benign'\n",
       "\\item 'Maliganant'\n",
       "\\item 'Benign'\n",
       "\\item 'Benign'\n",
       "\\item 'Maliganant'\n",
       "\\item 'Benign'\n",
       "\\item 'Maliganant'\n",
       "\\item 'Benign'\n",
       "\\item 'Maliganant'\n",
       "\\item 'Maliganant'\n",
       "\\item 'Benign'\n",
       "\\item 'Benign'\n",
       "\\item 'Benign'\n",
       "\\item 'Benign'\n",
       "\\item 'Benign'\n",
       "\\item 'Benign'\n",
       "\\item 'Benign'\n",
       "\\item 'Maliganant'\n",
       "\\item 'Benign'\n",
       "\\item 'Benign'\n",
       "\\item 'Benign'\n",
       "\\item 'Benign'\n",
       "\\item 'Maliganant'\n",
       "\\item 'Maliganant'\n",
       "\\item 'Benign'\n",
       "\\item 'Benign'\n",
       "\\item 'Benign'\n",
       "\\item 'Benign'\n",
       "\\item 'Benign'\n",
       "\\item 'Benign'\n",
       "\\item 'Benign'\n",
       "\\item 'Benign'\n",
       "\\item 'Maliganant'\n",
       "\\item 'Maliganant'\n",
       "\\item 'Benign'\n",
       "\\item 'Maliganant'\n",
       "\\item 'Benign'\n",
       "\\item 'Benign'\n",
       "\\item 'Benign'\n",
       "\\item 'Benign'\n",
       "\\item 'Maliganant'\n",
       "\\item 'Benign'\n",
       "\\item 'Benign'\n",
       "\\item 'Benign'\n",
       "\\item 'Benign'\n",
       "\\item 'Maliganant'\n",
       "\\item 'Benign'\n",
       "\\end{enumerate*}\n"
      ],
      "text/markdown": [
       "1. 'Maliganant'\n",
       "2. 'Benign'\n",
       "3. 'Benign'\n",
       "4. 'Benign'\n",
       "5. 'Benign'\n",
       "6. 'Benign'\n",
       "7. 'Benign'\n",
       "8. 'Benign'\n",
       "9. 'Maliganant'\n",
       "10. 'Benign'\n",
       "11. 'Benign'\n",
       "12. 'Maliganant'\n",
       "13. 'Benign'\n",
       "14. 'Benign'\n",
       "15. 'Maliganant'\n",
       "16. 'Benign'\n",
       "17. 'Maliganant'\n",
       "18. 'Benign'\n",
       "19. 'Maliganant'\n",
       "20. 'Maliganant'\n",
       "21. 'Benign'\n",
       "22. 'Benign'\n",
       "23. 'Benign'\n",
       "24. 'Benign'\n",
       "25. 'Benign'\n",
       "26. 'Benign'\n",
       "27. 'Benign'\n",
       "28. 'Maliganant'\n",
       "29. 'Benign'\n",
       "30. 'Benign'\n",
       "31. 'Benign'\n",
       "32. 'Benign'\n",
       "33. 'Maliganant'\n",
       "34. 'Maliganant'\n",
       "35. 'Benign'\n",
       "36. 'Benign'\n",
       "37. 'Benign'\n",
       "38. 'Benign'\n",
       "39. 'Benign'\n",
       "40. 'Benign'\n",
       "41. 'Benign'\n",
       "42. 'Benign'\n",
       "43. 'Maliganant'\n",
       "44. 'Maliganant'\n",
       "45. 'Benign'\n",
       "46. 'Maliganant'\n",
       "47. 'Benign'\n",
       "48. 'Benign'\n",
       "49. 'Benign'\n",
       "50. 'Benign'\n",
       "51. 'Maliganant'\n",
       "52. 'Benign'\n",
       "53. 'Benign'\n",
       "54. 'Benign'\n",
       "55. 'Benign'\n",
       "56. 'Maliganant'\n",
       "57. 'Benign'\n",
       "\n",
       "\n"
      ],
      "text/plain": [
       " [1] \"Maliganant\" \"Benign\"     \"Benign\"     \"Benign\"     \"Benign\"    \n",
       " [6] \"Benign\"     \"Benign\"     \"Benign\"     \"Maliganant\" \"Benign\"    \n",
       "[11] \"Benign\"     \"Maliganant\" \"Benign\"     \"Benign\"     \"Maliganant\"\n",
       "[16] \"Benign\"     \"Maliganant\" \"Benign\"     \"Maliganant\" \"Maliganant\"\n",
       "[21] \"Benign\"     \"Benign\"     \"Benign\"     \"Benign\"     \"Benign\"    \n",
       "[26] \"Benign\"     \"Benign\"     \"Maliganant\" \"Benign\"     \"Benign\"    \n",
       "[31] \"Benign\"     \"Benign\"     \"Maliganant\" \"Maliganant\" \"Benign\"    \n",
       "[36] \"Benign\"     \"Benign\"     \"Benign\"     \"Benign\"     \"Benign\"    \n",
       "[41] \"Benign\"     \"Benign\"     \"Maliganant\" \"Maliganant\" \"Benign\"    \n",
       "[46] \"Maliganant\" \"Benign\"     \"Benign\"     \"Benign\"     \"Benign\"    \n",
       "[51] \"Maliganant\" \"Benign\"     \"Benign\"     \"Benign\"     \"Benign\"    \n",
       "[56] \"Maliganant\" \"Benign\"    "
      ]
     },
     "metadata": {},
     "output_type": "display_data"
    }
   ],
   "source": [
    "# 1. 유방암 데이터를 로드 한다.\n",
    "wbcd <-  read.csv(\"wisc_bc_data.csv\", header=T,  stringsAsFactors=FALSE)\n",
    "\n",
    "# 2. diagnosis 를 factor 로 변환한다\n",
    "wbcd$diagnosis <- factor(wbcd$diagnosis,\n",
    "                         levels =c(\"B\",\"M\"),\n",
    "                         labels = c(\"Benign\",\"Maliganant\"))\n",
    "\n",
    "# 3. 데이터를 shuffle 시킨다.\n",
    "wbcd_shuffle <- wbcd[sample(nrow(wbcd)), ]\n",
    "\n",
    "# 4. 데이터에서 id 를 제외 시킨다\n",
    "wbcd2 <- wbcd_shuffle[-1]\n",
    "\n",
    "# 5. 데이터를 정규화 한다.\n",
    "normalize <- function(x) {\n",
    "  return ( (x-min(x)) / (max(x) - min(x))  )\n",
    "}\n",
    "\n",
    "wbcd_n  <- as.data.frame(lapply(wbcd2[2:31],normalize))\n",
    "\n",
    "# 6. train 데이터와 test 데이터로 9 대 1로 나눈다\n",
    "train_num<-round(0.9*nrow(wbcd_n),0)\n",
    "wbcd_train<-wbcd_n[1:train_num,]\n",
    "wbcd_test<-wbcd_n[(train_num+1):nrow(wbcd_n),]\n",
    "\n",
    "# 7. train 데이터를 데이터와 라벨로 나누고 test  데이터를 데이터와 라벨로 나누시오\n",
    "wbcd_train_label <- wbcd2[1:train_num,1]\n",
    "wbcd_test_label <- wbcd2[(train_num+1):nrow(wbcd_n),1]\n",
    "\n",
    "# 8. 직접 만든 my_knn 모델로 훈련시켜서 모델을 만들고 바로 그 모델에 test 데이터를 넣어서 정확도를 확인한다\n",
    "result1 <- myknn(train=wbcd_train, test=wbcd_test, cl=wbcd_train_label, k=21)\n",
    "result1"
   ]
  },
  {
   "cell_type": "code",
   "execution_count": null,
   "metadata": {},
   "outputs": [],
   "source": [
    "matrix([[ 1, -1, -1,  3],\n",
    "        [-1,  0, -1,  7],\n",
    "        [ 5, -2,  0,  1],\n",
    "        [ 6, -1, -1,  2],\n",
    "        [ 0, -2, -2,  0]])"
   ]
  },
  {
   "cell_type": "markdown",
   "metadata": {},
   "source": [
    "### ※ 문제292. 파이썬과 R에서 각각 아래의 행렬 연산을 수행하시오\n",
    "$$\\begin{bmatrix}\n",
    "    4 & 3 & 2 & 5 \\\\\n",
    "    2 & 4 & 2 & 9 \\\\\n",
    "    8 & 2 & 3 & 3 \\\\\n",
    "    9 & 3 & 2 & 4 \\\\\n",
    "    3 & 2 & 1 & 2 \\\\\n",
    "    \\end{bmatrix} - \n",
    "    \\begin{bmatrix}\n",
    "    3 & 4 & 3 & 2 \\\\\n",
    "    \\end{bmatrix} = \n",
    "    \\begin{bmatrix}\n",
    "    1 & -1 & -1 & 3 \\\\\n",
    "    -1 & 0 & -1 & 7 \\\\\n",
    "    5 & -2 & 0 & 1 \\\\\n",
    "    6 & -1 & -1 & 2 \\\\\n",
    "    0 & -2 & -2 & 0 \\\\\n",
    "    \\end{bmatrix}$$"
   ]
  },
  {
   "cell_type": "code",
   "execution_count": 3,
   "metadata": {
    "ExecuteTime": {
     "end_time": "2020-07-03T07:17:56.935548Z",
     "start_time": "2020-07-03T07:17:56.899Z"
    }
   },
   "outputs": [
    {
     "data": {
      "text/html": [
       "<table>\n",
       "<tbody>\n",
       "\t<tr><td>1 </td><td>-1</td><td>-1</td><td> 3</td></tr>\n",
       "\t<tr><td>0 </td><td> 3</td><td>-1</td><td> 7</td></tr>\n",
       "\t<tr><td>5 </td><td> 0</td><td> 0</td><td> 1</td></tr>\n",
       "\t<tr><td>8 </td><td> 1</td><td> 0</td><td> 3</td></tr>\n",
       "\t<tr><td>1 </td><td> 1</td><td>-3</td><td>-1</td></tr>\n",
       "</tbody>\n",
       "</table>\n"
      ],
      "text/latex": [
       "\\begin{tabular}{llll}\n",
       "\t 1  & -1 & -1 &  3\\\\\n",
       "\t 0  &  3 & -1 &  7\\\\\n",
       "\t 5  &  0 &  0 &  1\\\\\n",
       "\t 8  &  1 &  0 &  3\\\\\n",
       "\t 1  &  1 & -3 & -1\\\\\n",
       "\\end{tabular}\n"
      ],
      "text/markdown": [
       "\n",
       "| 1  | -1 | -1 |  3 |\n",
       "| 0  |  3 | -1 |  7 |\n",
       "| 5  |  0 |  0 |  1 |\n",
       "| 8  |  1 |  0 |  3 |\n",
       "| 1  |  1 | -3 | -1 |\n",
       "\n"
      ],
      "text/plain": [
       "     [,1] [,2] [,3] [,4]\n",
       "[1,] 1    -1   -1    3  \n",
       "[2,] 0     3   -1    7  \n",
       "[3,] 5     0    0    1  \n",
       "[4,] 8     1    0    3  \n",
       "[5,] 1     1   -3   -1  "
      ]
     },
     "metadata": {},
     "output_type": "display_data"
    }
   ],
   "source": [
    "a <- matrix(c(4,3,2,5,2,4,2,9,8,2,3,3,9,3,2,4,3,2,1,2),nrow=5,byrow = T)\n",
    "b <- matrix(c(3,4,3,2,2,1,3,2,3,2,3,2,1,2,2,1,2,1,4,3),nrow=5,byrow=T)\n",
    "a-b"
   ]
  },
  {
   "cell_type": "code",
   "execution_count": null,
   "metadata": {
    "ExecuteTime": {
     "end_time": "2020-07-03T07:27:30.024013Z",
     "start_time": "2020-07-03T07:27:24.608Z"
    }
   },
   "outputs": [],
   "source": [
    "c <- matrix(c(3,4,3,2),nrow=1,byrow=T)\n",
    "c"
   ]
  },
  {
   "cell_type": "code",
   "execution_count": null,
   "metadata": {},
   "outputs": [],
   "source": []
  },
  {
   "cell_type": "code",
   "execution_count": null,
   "metadata": {},
   "outputs": [],
   "source": []
  },
  {
   "cell_type": "code",
   "execution_count": null,
   "metadata": {},
   "outputs": [],
   "source": []
  },
  {
   "cell_type": "code",
   "execution_count": null,
   "metadata": {},
   "outputs": [],
   "source": []
  },
  {
   "cell_type": "code",
   "execution_count": null,
   "metadata": {},
   "outputs": [],
   "source": []
  },
  {
   "cell_type": "code",
   "execution_count": null,
   "metadata": {},
   "outputs": [],
   "source": []
  },
  {
   "cell_type": "code",
   "execution_count": null,
   "metadata": {},
   "outputs": [],
   "source": [
    " "
   ]
  }
 ],
 "metadata": {
  "kernelspec": {
   "display_name": "R",
   "language": "R",
   "name": "ir"
  },
  "toc": {
   "base_numbering": 1,
   "nav_menu": {},
   "number_sections": true,
   "sideBar": true,
   "skip_h1_title": false,
   "title_cell": "Table of Contents",
   "title_sidebar": "Contents",
   "toc_cell": false,
   "toc_position": {},
   "toc_section_display": true,
   "toc_window_display": false
  },
  "varInspector": {
   "cols": {
    "lenName": 16,
    "lenType": 16,
    "lenVar": 40
   },
   "kernels_config": {
    "python": {
     "delete_cmd_postfix": "",
     "delete_cmd_prefix": "del ",
     "library": "var_list.py",
     "varRefreshCmd": "print(var_dic_list())"
    },
    "r": {
     "delete_cmd_postfix": ") ",
     "delete_cmd_prefix": "rm(",
     "library": "var_list.r",
     "varRefreshCmd": "cat(var_dic_list()) "
    }
   },
   "types_to_exclude": [
    "module",
    "function",
    "builtin_function_or_method",
    "instance",
    "_Feature"
   ],
   "window_display": false
  }
 },
 "nbformat": 4,
 "nbformat_minor": 4
}
