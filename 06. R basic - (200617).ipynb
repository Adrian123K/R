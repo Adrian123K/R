{
 "cells": [
  {
   "cell_type": "markdown",
   "metadata": {},
   "source": [
    "## ■ 사분위수 그래프 그리기\n",
    "### □ 데이터를 관찰하는 순서\n",
    "<b>　　<u>평균값</u> ----> <u>중앙값</u> -> 최빈값 -> 범위 -> <u>사분위수 범위</u> -> <u>분산</u> -> 표준편차</b><br>\n",
    "　데이터의 중심이 어디인지 　　　　　　　　　데이터의 분포 파악        "
   ]
  },
  {
   "cell_type": "markdown",
   "metadata": {},
   "source": [
    "### ※ 문제132. 위의 농구선수 3명의 특점 점수의 평균값, 중앙값, 최빈값을 각각 구하시오"
   ]
  },
  {
   "cell_type": "code",
   "execution_count": 13,
   "metadata": {
    "ExecuteTime": {
     "end_time": "2020-06-17T01:07:40.908721Z",
     "start_time": "2020-06-17T01:07:40.848Z"
    }
   },
   "outputs": [
    {
     "name": "stdout",
     "output_type": "stream",
     "text": [
      "[1] 10\n",
      "[1] 10\n",
      "[1] 10\n"
     ]
    }
   ],
   "source": [
    "x1=c(7,8,9,9,10,10,11,11,12,13)\n",
    "x2=c(7,9,9,10,10,10,10,11,11,13)\n",
    "x3=c(1,1,7,7,10,10,10,10,11,13,30)\n",
    "print(mean(x1))\n",
    "print(mean(x2))\n",
    "print(mean(x3))"
   ]
  },
  {
   "cell_type": "code",
   "execution_count": 10,
   "metadata": {
    "ExecuteTime": {
     "end_time": "2020-06-17T01:02:58.076897Z",
     "start_time": "2020-06-17T01:02:58.031Z"
    }
   },
   "outputs": [
    {
     "data": {
      "text/html": [
       "<ol class=list-inline>\n",
       "\t<li>'9'</li>\n",
       "\t<li>'10'</li>\n",
       "\t<li>'11'</li>\n",
       "</ol>\n"
      ],
      "text/latex": [
       "\\begin{enumerate*}\n",
       "\\item '9'\n",
       "\\item '10'\n",
       "\\item '11'\n",
       "\\end{enumerate*}\n"
      ],
      "text/markdown": [
       "1. '9'\n",
       "2. '10'\n",
       "3. '11'\n",
       "\n",
       "\n"
      ],
      "text/plain": [
       "[1] \"9\"  \"10\" \"11\""
      ]
     },
     "metadata": {},
     "output_type": "display_data"
    },
    {
     "data": {
      "text/html": [
       "'10'"
      ],
      "text/latex": [
       "'10'"
      ],
      "text/markdown": [
       "'10'"
      ],
      "text/plain": [
       "[1] \"10\""
      ]
     },
     "metadata": {},
     "output_type": "display_data"
    },
    {
     "data": {
      "text/html": [
       "'10'"
      ],
      "text/latex": [
       "'10'"
      ],
      "text/markdown": [
       "'10'"
      ],
      "text/plain": [
       "[1] \"10\""
      ]
     },
     "metadata": {},
     "output_type": "display_data"
    }
   ],
   "source": [
    "names(table(x1))[table(x1)==max(table(x1))]\n",
    "names(table(x2))[table(x2)==max(table(x2))]\n",
    "names(table(x3))[table(x3)==max(table(x3))]"
   ]
  },
  {
   "cell_type": "markdown",
   "metadata": {},
   "source": [
    "#### ※ 중앙값, 평균값, 최빈값이 모두 동일해서 특정 선수를 선택하기 어렵다. 그래서 감독이 각 선소의 점수가 어떻게 분포되어 있는지 분포방식을 측정할 수 있으면 결정을 내리는데 도움을 줄 수 있을 것이다"
   ]
  },
  {
   "cell_type": "markdown",
   "metadata": {},
   "source": [
    "## ■ 범위(range)"
   ]
  },
  {
   "cell_type": "code",
   "execution_count": 14,
   "metadata": {
    "ExecuteTime": {
     "end_time": "2020-06-17T01:07:44.638366Z",
     "start_time": "2020-06-17T01:07:44.600Z"
    }
   },
   "outputs": [
    {
     "name": "stdout",
     "output_type": "stream",
     "text": [
      "[1]  7 13\n",
      "[1]  7 13\n",
      "[1]  1 30\n"
     ]
    }
   ],
   "source": [
    "print(range(x1))\n",
    "print(range(x2))\n",
    "print(range(x3))"
   ]
  },
  {
   "cell_type": "markdown",
   "metadata": {},
   "source": [
    "#### 범위는 그 자체로는 데이터의 폭만 설명할 뿐 그 안에서 데이터가 분포되는 방식은 설명해주지 않는다. 특히 이상치에 민감\n",
    "#### 특이하게 발생한 점(30점) 때문에 범위가 넓어져서 분석하기 어려움 -> 이상치로 부터 멀어질 필요가 있다\n",
    "### 이것은 사분위수 범위로 해결할 수 있다"
   ]
  },
  {
   "cell_type": "markdown",
   "metadata": {},
   "source": [
    "### ※ 문제133.  이상치 데이터(30점) 을 가지고 있는 3번째 선수의 점수 데이터로 4분위수 그래프를 그려보시오 !"
   ]
  },
  {
   "cell_type": "code",
   "execution_count": 17,
   "metadata": {
    "ExecuteTime": {
     "end_time": "2020-06-17T01:12:56.647651Z",
     "start_time": "2020-06-17T01:12:56.548Z"
    },
    "scrolled": true
   },
   "outputs": [
    {
     "name": "stdout",
     "output_type": "stream",
     "text": [
      "$stats\n",
      "     [,1]\n",
      "[1,]  7.0\n",
      "[2,]  7.0\n",
      "[3,] 10.0\n",
      "[4,] 10.5\n",
      "[5,] 13.0\n",
      "\n",
      "$n\n",
      "[1] 11\n",
      "\n",
      "$conf\n",
      "          [,1]\n",
      "[1,]  8.332642\n",
      "[2,] 11.667358\n",
      "\n",
      "$out\n",
      "[1]  1  1 30\n",
      "\n",
      "$group\n",
      "[1] 1 1 1\n",
      "\n",
      "$names\n",
      "[1] \"1\"\n",
      "\n"
     ]
    },
    {
     "data": {
      "text/html": [
       "<table>\n",
       "<tbody>\n",
       "\t<tr><td> 7.0</td></tr>\n",
       "\t<tr><td> 7.0</td></tr>\n",
       "\t<tr><td>10.0</td></tr>\n",
       "\t<tr><td>10.5</td></tr>\n",
       "\t<tr><td>13.0</td></tr>\n",
       "</tbody>\n",
       "</table>\n"
      ],
      "text/latex": [
       "\\begin{tabular}{l}\n",
       "\t  7.0\\\\\n",
       "\t  7.0\\\\\n",
       "\t 10.0\\\\\n",
       "\t 10.5\\\\\n",
       "\t 13.0\\\\\n",
       "\\end{tabular}\n"
      ],
      "text/markdown": [
       "\n",
       "|  7.0 |\n",
       "|  7.0 |\n",
       "| 10.0 |\n",
       "| 10.5 |\n",
       "| 13.0 |\n",
       "\n"
      ],
      "text/plain": [
       "     [,1]\n",
       "[1,]  7.0\n",
       "[2,]  7.0\n",
       "[3,] 10.0\n",
       "[4,] 10.5\n",
       "[5,] 13.0"
      ]
     },
     "metadata": {},
     "output_type": "display_data"
    },
    {
     "data": {
      "image/png": "[encoded data removed]",
      "text/plain": [
       "plot without title"
      ]
     },
     "metadata": {},
     "output_type": "display_data"
    }
   ],
   "source": [
    "rs=boxplot(x3)\n",
    "print(rs)\n",
    "rs$stats"
   ]
  },
  {
   "cell_type": "markdown",
   "metadata": {},
   "source": [
    "```R\n",
    "> rs$stats\n",
    "     [,1]\n",
    "[1,]  7.0\n",
    "[2,]  7.0\n",
    "[3,] 10.0\n",
    "[4,] 10.5\n",
    "[5,] 13.0 \n",
    "```"
   ]
  },
  {
   "cell_type": "markdown",
   "metadata": {},
   "source": [
    "#### ※ 이상치를 제거하고 가운데 50%의 데이터에만 집중함으로써 문제를 우회할 수 있다"
   ]
  },
  {
   "cell_type": "markdown",
   "metadata": {},
   "source": [
    "### 머신러닝 모델을 학습시킬 때도 이상치를 제거하고 머신러닝 모델을 학습시킨 결과가 훨씬 학습률이 좋아서 모델의 판별 정확도가 더 높다"
   ]
  },
  {
   "cell_type": "markdown",
   "metadata": {},
   "source": [
    "### ※ 문제134. 3명의 농구선수들의 점수를 가지고 사분위수 그래프를 그리는데 2번 선수와 3번 선수 두명의 그래프를 하나의 그래프로 출력하시오 !"
   ]
  },
  {
   "cell_type": "code",
   "execution_count": 20,
   "metadata": {
    "ExecuteTime": {
     "end_time": "2020-06-17T01:22:16.183215Z",
     "start_time": "2020-06-17T01:22:16.116Z"
    }
   },
   "outputs": [
    {
     "data": {
      "image/png": "[encoded data removed]",
      "text/plain": [
       "plot without title"
      ]
     },
     "metadata": {},
     "output_type": "display_data"
    }
   ],
   "source": [
    "boxplot(x2, x3)"
   ]
  },
  {
   "cell_type": "markdown",
   "metadata": {},
   "source": [
    "#### 2번 선수가 3번 선수보다 상대적으로 좁은 범위를 가지고 있다 -> 2번 선수가 더 일관성이 있고, 대부분의 경우에 3번 선수보다 더 높은 점수를 기록\n",
    "#### ∴ 둘 중 한 사람을 고른다면 2번 선수를 고를 것"
   ]
  },
  {
   "cell_type": "markdown",
   "metadata": {},
   "source": [
    "### ※문제135. 1번 선수와 2번 선수에 대한 사분위수 그래프를 비교할 수 있도록 같이 그리고 어떤 선수를 택할 지 정하시오"
   ]
  },
  {
   "cell_type": "code",
   "execution_count": 22,
   "metadata": {
    "ExecuteTime": {
     "end_time": "2020-06-17T01:22:54.097015Z",
     "start_time": "2020-06-17T01:22:54.021Z"
    }
   },
   "outputs": [
    {
     "name": "stdout",
     "output_type": "stream",
     "text": [
      "     [,1] [,2]\n",
      "[1,]    7    7\n",
      "[2,]    9    9\n",
      "[3,]   10   10\n",
      "[4,]   11   11\n",
      "[5,]   13   13\n"
     ]
    },
    {
     "data": {
      "image/png": "[encoded data removed]",
      "text/plain": [
       "plot without title"
      ]
     },
     "metadata": {},
     "output_type": "display_data"
    }
   ],
   "source": [
    "rs2=boxplot(x1, x2) \n",
    "print(rs2$stats)"
   ]
  },
  {
   "cell_type": "code",
   "execution_count": 26,
   "metadata": {
    "ExecuteTime": {
     "end_time": "2020-06-17T01:52:48.636705Z",
     "start_time": "2020-06-17T01:52:48.599Z"
    }
   },
   "outputs": [
    {
     "name": "stdout",
     "output_type": "stream",
     "text": [
      "[1] 3.333333\n",
      "[1] 2.444444\n",
      "[1] 59\n"
     ]
    }
   ],
   "source": [
    "print(var(x1))\n",
    "print(var(x2))\n",
    "print(var(x3))"
   ]
  },
  {
   "cell_type": "markdown",
   "metadata": {},
   "source": [
    "#### 정말 필요한 것은 평균값으로 부터의 거리를 제곱한 것이 아니라 거리 자체가 분포되어있는 양상을 알려주는 수 -> 표준편차"
   ]
  },
  {
   "cell_type": "code",
   "execution_count": 30,
   "metadata": {
    "ExecuteTime": {
     "end_time": "2020-06-17T01:55:05.016770Z",
     "start_time": "2020-06-17T01:55:04.977Z"
    }
   },
   "outputs": [
    {
     "name": "stdout",
     "output_type": "stream",
     "text": [
      "[1] 1.825742\n",
      "[1] 1.563472\n",
      "[1] 7.681146\n"
     ]
    }
   ],
   "source": [
    "print(sd(x1))\n",
    "print(sd(x2))\n",
    "print(sd(x3))"
   ]
  },
  {
   "cell_type": "markdown",
   "metadata": {},
   "source": [
    "#### 표준편차는 데이터가 정규분포를 다른다는 가정하에 주어진 값이 얼마나 평균으로부터 멀리 떨어졌는지를 빠르게 평가할 때 사용\n",
    "    정규분포 68% ------> 평균을 중심으로 σ=1.02\n",
    "    정규분포 95% ------> 평균을 중심으로 σ=1.96\n",
    "    정규분포 99% ------> 평균을 중심으로 σ=2.58"
   ]
  },
  {
   "cell_type": "code",
   "execution_count": null,
   "metadata": {},
   "outputs": [],
   "source": []
  },
  {
   "cell_type": "code",
   "execution_count": null,
   "metadata": {},
   "outputs": [],
   "source": []
  },
  {
   "cell_type": "code",
   "execution_count": null,
   "metadata": {},
   "outputs": [],
   "source": []
  },
  {
   "cell_type": "code",
   "execution_count": null,
   "metadata": {},
   "outputs": [],
   "source": []
  },
  {
   "cell_type": "code",
   "execution_count": null,
   "metadata": {},
   "outputs": [],
   "source": []
  },
  {
   "cell_type": "code",
   "execution_count": null,
   "metadata": {},
   "outputs": [],
   "source": []
  },
  {
   "cell_type": "code",
   "execution_count": null,
   "metadata": {},
   "outputs": [],
   "source": []
  },
  {
   "cell_type": "code",
   "execution_count": null,
   "metadata": {},
   "outputs": [],
   "source": []
  }
 ],
 "metadata": {
  "kernelspec": {
   "display_name": "R",
   "language": "R",
   "name": "ir"
  },
  "language_info": {
   "codemirror_mode": "r",
   "file_extension": ".r",
   "mimetype": "text/x-r-source",
   "name": "R",
   "pygments_lexer": "r",
   "version": "3.6.1"
  },
  "toc": {
   "base_numbering": 1,
   "nav_menu": {},
   "number_sections": true,
   "sideBar": true,
   "skip_h1_title": false,
   "title_cell": "Table of Contents",
   "title_sidebar": "Contents",
   "toc_cell": false,
   "toc_position": {},
   "toc_section_display": true,
   "toc_window_display": false
  },
  "varInspector": {
   "cols": {
    "lenName": 16,
    "lenType": 16,
    "lenVar": 40
   },
   "kernels_config": {
    "python": {
     "delete_cmd_postfix": "",
     "delete_cmd_prefix": "del ",
     "library": "var_list.py",
     "varRefreshCmd": "print(var_dic_list())"
    },
    "r": {
     "delete_cmd_postfix": ") ",
     "delete_cmd_prefix": "rm(",
     "library": "var_list.r",
     "varRefreshCmd": "cat(var_dic_list()) "
    }
   },
   "types_to_exclude": [
    "module",
    "function",
    "builtin_function_or_method",
    "instance",
    "_Feature"
   ],
   "window_display": false
  }
 },
 "nbformat": 4,
 "nbformat_minor": 4
}
