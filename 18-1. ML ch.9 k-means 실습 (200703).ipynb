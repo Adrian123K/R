{
 "cells": [
  {
   "cell_type": "markdown",
   "metadata": {},
   "source": [
    "## ■ k-means (k개의 평균들) 군집화 이론\n",
    "    k-means 알고리즘은 주어진 데이터를 k개의 클러스터로 묶는 알고리즘으로, 각 클러스터와 거리 차이의 분산을 최소화하는 방식으로 동작\n",
    "    \n",
    "    이 알고리즘은 자율학습의 일종으로 레이블이 달려있지 않은 입력 데이터에 레이블(정답)을 달아주는 역할을 수행"
   ]
  },
  {
   "cell_type": "markdown",
   "metadata": {},
   "source": [
    "### ※ 문제283. 아래 좌표의 1번, 2번 좌표의 유클리드 거리가 어떻게 되는지 R로 계산하시오"
   ]
  },
  {
   "cell_type": "code",
   "execution_count": 2,
   "metadata": {
    "ExecuteTime": {
     "end_time": "2020-07-03T01:19:23.381463Z",
     "start_time": "2020-07-03T01:19:23.346Z"
    }
   },
   "outputs": [
    {
     "name": "stdout",
     "output_type": "stream",
     "text": [
      "[1] 4\n"
     ]
    }
   ],
   "source": [
    "n1 <- c(4,4)\n",
    "n2 <- c(8,4)\n",
    "d <- sqrt(sum((n1-n2)^2))\n",
    "print(d)"
   ]
  },
  {
   "cell_type": "markdown",
   "metadata": {},
   "source": [
    "### ■ k-means 기본실습 1"
   ]
  },
  {
   "cell_type": "markdown",
   "metadata": {},
   "source": [
    "```R\n",
    "1. 기본 데이터 셋을 만든다 \n",
    "n1 <- c(4,4)\n",
    "n2 <- c(8,4)\n",
    "d <- sqrt(sum((n1-n2)^2))\n",
    "d\n",
    "\n",
    "c <- c(3,4,1,5,7,9,5,4,6,8,4,5,9,8,7,8,6,7,2,1)\n",
    "row <- c(\"A\",\"B\",\"C\",\"D\",\"E\",\"F\",\"G\",\"H\",\"I\",\"J\")\n",
    "col <- c(\"X\",\"Y\")\n",
    "data <- matrix( c, nrow= 10, ncol=2, byrow=TRUE, dimnames=list(row,col))\n",
    "data\n",
    "\n",
    "2. 위에서 만든 데이터셋으로 plot 그래프를 그린다\n",
    "plot(data)\n",
    "\n",
    "3. k-means 패키지를 설치한다\n",
    "install.packages(\"stats\")\n",
    "library(stats)\n",
    "\n",
    "4. kmeans 함수로 데이터를 분류한다.\n",
    "km <- kmeans(data,2) \n",
    "km\n",
    "\n",
    "    K-means clustering with 2 clusters of sizes 5, 5\n",
    "\n",
    "    Cluster means: # 각 군집의 좌표값\n",
    "      X   Y\n",
    "    1 3 3.8\n",
    "    2 7 8.0\n",
    "\n",
    "    Clustering vector:\n",
    "    A B C D E F G H I J \n",
    "    1 1 2 1 2 1 2 2 2 1 \n",
    "\n",
    "    Within cluster sum of squares by cluster:\n",
    "    [1] 20.8  8.0\n",
    "     (between_SS / total_SS =  74.5 %)\n",
    "\n",
    "    Available components:\n",
    "\n",
    "    [1] \"cluster\"      \"centers\"      \"totss\"        \"withinss\"     \"tot.withinss\" \"betweenss\"   \n",
    "    [7] \"size\"         \"iter\"         \"ifault\"\n",
    "\n",
    "km$centers # 각 좌표의 중앙점 확인\n",
    "km$cluster\n",
    "\n",
    "cbind(data, km$cluster)\n",
    "\n",
    "plot(round(km$center), col=km$center, pch=22, bg=km$center, xlim=range(0:10),ylim=range(0:10))\n",
    "\n",
    "par(new=T)\n",
    "plot( data, col=km$cluster+1, xlim=range(0:10), ylim=range(0:10) )\n",
    "\n",
    "install.packages(\"factoextra\")\n",
    "library(factoextra)\n",
    "\n",
    "fviz_cluster( km, data = data, stand=F)\n",
    "```"
   ]
  },
  {
   "cell_type": "code",
   "execution_count": 3,
   "metadata": {
    "ExecuteTime": {
     "end_time": "2020-07-03T01:55:38.720017Z",
     "start_time": "2020-07-03T01:55:07.566Z"
    }
   },
   "outputs": [
    {
     "data": {
      "text/html": [
       "4"
      ],
      "text/latex": [
       "4"
      ],
      "text/markdown": [
       "4"
      ],
      "text/plain": [
       "[1] 4"
      ]
     },
     "metadata": {},
     "output_type": "display_data"
    },
    {
     "data": {
      "text/html": [
       "<table>\n",
       "<thead><tr><th></th><th scope=col>X</th><th scope=col>Y</th><th scope=col></th></tr></thead>\n",
       "<tbody>\n",
       "\t<tr><th scope=row>A</th><td>3</td><td>4</td><td>1</td></tr>\n",
       "\t<tr><th scope=row>B</th><td>1</td><td>5</td><td>1</td></tr>\n",
       "\t<tr><th scope=row>C</th><td>7</td><td>9</td><td>2</td></tr>\n",
       "\t<tr><th scope=row>D</th><td>5</td><td>4</td><td>1</td></tr>\n",
       "\t<tr><th scope=row>E</th><td>6</td><td>8</td><td>2</td></tr>\n",
       "\t<tr><th scope=row>F</th><td>4</td><td>5</td><td>1</td></tr>\n",
       "\t<tr><th scope=row>G</th><td>9</td><td>8</td><td>2</td></tr>\n",
       "\t<tr><th scope=row>H</th><td>7</td><td>8</td><td>2</td></tr>\n",
       "\t<tr><th scope=row>I</th><td>6</td><td>7</td><td>2</td></tr>\n",
       "\t<tr><th scope=row>J</th><td>2</td><td>1</td><td>1</td></tr>\n",
       "</tbody>\n",
       "</table>\n"
      ],
      "text/latex": [
       "\\begin{tabular}{r|lll}\n",
       "  & X & Y & \\\\\n",
       "\\hline\n",
       "\tA & 3 & 4 & 1\\\\\n",
       "\tB & 1 & 5 & 1\\\\\n",
       "\tC & 7 & 9 & 2\\\\\n",
       "\tD & 5 & 4 & 1\\\\\n",
       "\tE & 6 & 8 & 2\\\\\n",
       "\tF & 4 & 5 & 1\\\\\n",
       "\tG & 9 & 8 & 2\\\\\n",
       "\tH & 7 & 8 & 2\\\\\n",
       "\tI & 6 & 7 & 2\\\\\n",
       "\tJ & 2 & 1 & 1\\\\\n",
       "\\end{tabular}\n"
      ],
      "text/markdown": [
       "\n",
       "| <!--/--> | X | Y |  |\n",
       "|---|---|---|---|\n",
       "| A | 3 | 4 | 1 |\n",
       "| B | 1 | 5 | 1 |\n",
       "| C | 7 | 9 | 2 |\n",
       "| D | 5 | 4 | 1 |\n",
       "| E | 6 | 8 | 2 |\n",
       "| F | 4 | 5 | 1 |\n",
       "| G | 9 | 8 | 2 |\n",
       "| H | 7 | 8 | 2 |\n",
       "| I | 6 | 7 | 2 |\n",
       "| J | 2 | 1 | 1 |\n",
       "\n"
      ],
      "text/plain": [
       "  X Y  \n",
       "A 3 4 1\n",
       "B 1 5 1\n",
       "C 7 9 2\n",
       "D 5 4 1\n",
       "E 6 8 2\n",
       "F 4 5 1\n",
       "G 9 8 2\n",
       "H 7 8 2\n",
       "I 6 7 2\n",
       "J 2 1 1"
      ]
     },
     "metadata": {},
     "output_type": "display_data"
    },
    {
     "name": "stderr",
     "output_type": "stream",
     "text": [
      "Installing package into 'C:/Users/knitwill/Documents/R/win-library/3.6'\n",
      "(as 'lib' is unspecified)\n",
      "also installing the dependencies 'corrplot', 'viridis', 'ellipse', 'flashClust', 'leaps', 'scatterplot3d', 'ggsci', 'cowplot', 'ggsignif', 'polynom', 'rstatix', 'dendextend', 'FactoMineR', 'ggpubr', 'ggrepel'\n",
      "\n"
     ]
    },
    {
     "name": "stdout",
     "output_type": "stream",
     "text": [
      "package 'corrplot' successfully unpacked and MD5 sums checked\n",
      "package 'viridis' successfully unpacked and MD5 sums checked\n",
      "package 'ellipse' successfully unpacked and MD5 sums checked\n",
      "package 'flashClust' successfully unpacked and MD5 sums checked\n",
      "package 'leaps' successfully unpacked and MD5 sums checked\n",
      "package 'scatterplot3d' successfully unpacked and MD5 sums checked\n",
      "package 'ggsci' successfully unpacked and MD5 sums checked\n",
      "package 'cowplot' successfully unpacked and MD5 sums checked\n",
      "package 'ggsignif' successfully unpacked and MD5 sums checked\n",
      "package 'polynom' successfully unpacked and MD5 sums checked\n",
      "package 'rstatix' successfully unpacked and MD5 sums checked\n",
      "package 'dendextend' successfully unpacked and MD5 sums checked\n",
      "package 'FactoMineR' successfully unpacked and MD5 sums checked\n",
      "package 'ggpubr' successfully unpacked and MD5 sums checked\n",
      "package 'ggrepel' successfully unpacked and MD5 sums checked\n",
      "package 'factoextra' successfully unpacked and MD5 sums checked\n",
      "\n",
      "The downloaded binary packages are in\n",
      "\tC:\\Users\\knitwill\\AppData\\Local\\Temp\\RtmpykWqtL\\downloaded_packages\n"
     ]
    },
    {
     "name": "stderr",
     "output_type": "stream",
     "text": [
      "Warning message:\n",
      "\"package 'factoextra' was built under R version 3.6.3\"Loading required package: ggplot2\n",
      "Warning message:\n",
      "\"package 'ggplot2' was built under R version 3.6.3\"Welcome! Want to learn more? See two factoextra-related books at https://goo.gl/ve3WBa\n"
     ]
    },
    {
     "data": {
      "image/png": "[encoded data removed]",
      "text/plain": [
       "plot without title"
      ]
     },
     "metadata": {},
     "output_type": "display_data"
    },
    {
     "data": {
      "image/png": "[encoded data removed]",
      "text/plain": [
       "plot without title"
      ]
     },
     "metadata": {},
     "output_type": "display_data"
    }
   ],
   "source": [
    "n1 <- c(4,4)\n",
    "n2 <- c(8,4)\n",
    "d <- sqrt(sum((n1-n2)^2))\n",
    "d\n",
    "\n",
    "c <- c(3,4,1,5,7,9,5,4,6,8,4,5,9,8,7,8,6,7,2,1)\n",
    "row <- c(\"A\",\"B\",\"C\",\"D\",\"E\",\"F\",\"G\",\"H\",\"I\",\"J\")\n",
    "col <- c(\"X\",\"Y\")\n",
    "data <- matrix( c, nrow= 10, ncol=2, byrow=TRUE, dimnames=list(row,col))\n",
    "\n",
    "#install.packages(\"stats\")\n",
    "library(stats)\n",
    "\n",
    "km <- kmeans(data,2) \n",
    "\n",
    "cbind(data, km$cluster)\n",
    "\n",
    "plot(round(km$center), col=km$center, pch=22, bg=km$center, xlim=range(0:10),ylim=range(0:10))\n",
    "par(new=T)\n",
    "plot( data, col=km$cluster+1, xlim=range(0:10), ylim=range(0:10) )\n",
    "\n",
    "install.packages(\"factoextra\")\n",
    "library(factoextra)\n",
    "\n",
    "fviz_cluster( km, data = data, stand=F)"
   ]
  },
  {
   "cell_type": "markdown",
   "metadata": {},
   "source": [
    "## ■ [쉬움주의] k-means 다시 이해하기 쉽게 실습 정리"
   ]
  },
  {
   "cell_type": "code",
   "execution_count": 4,
   "metadata": {
    "ExecuteTime": {
     "end_time": "2020-07-03T02:05:37.718609Z",
     "start_time": "2020-07-03T02:05:37.610Z"
    }
   },
   "outputs": [
    {
     "data": {
      "text/html": [
       "<table>\n",
       "<thead><tr><th></th><th scope=col>X</th><th scope=col>Y</th><th scope=col></th></tr></thead>\n",
       "<tbody>\n",
       "\t<tr><th scope=row>APPLE</th><td>10</td><td> 9</td><td>3 </td></tr>\n",
       "\t<tr><th scope=row>BACON</th><td> 1</td><td> 4</td><td>2 </td></tr>\n",
       "\t<tr><th scope=row>BANANA</th><td>10</td><td> 1</td><td>1 </td></tr>\n",
       "\t<tr><th scope=row>CARROT</th><td> 7</td><td>10</td><td>3 </td></tr>\n",
       "\t<tr><th scope=row>SAL</th><td> 3</td><td>10</td><td>3 </td></tr>\n",
       "\t<tr><th scope=row>CHEESE</th><td> 1</td><td> 1</td><td>2 </td></tr>\n",
       "\t<tr><th scope=row>TOMATO</th><td> 6</td><td> 7</td><td>3 </td></tr>\n",
       "</tbody>\n",
       "</table>\n"
      ],
      "text/latex": [
       "\\begin{tabular}{r|lll}\n",
       "  & X & Y & \\\\\n",
       "\\hline\n",
       "\tAPPLE & 10 &  9 & 3 \\\\\n",
       "\tBACON &  1 &  4 & 2 \\\\\n",
       "\tBANANA & 10 &  1 & 1 \\\\\n",
       "\tCARROT &  7 & 10 & 3 \\\\\n",
       "\tSAL &  3 & 10 & 3 \\\\\n",
       "\tCHEESE &  1 &  1 & 2 \\\\\n",
       "\tTOMATO &  6 &  7 & 3 \\\\\n",
       "\\end{tabular}\n"
      ],
      "text/markdown": [
       "\n",
       "| <!--/--> | X | Y |  |\n",
       "|---|---|---|---|\n",
       "| APPLE | 10 |  9 | 3  |\n",
       "| BACON |  1 |  4 | 2  |\n",
       "| BANANA | 10 |  1 | 1  |\n",
       "| CARROT |  7 | 10 | 3  |\n",
       "| SAL |  3 | 10 | 3  |\n",
       "| CHEESE |  1 |  1 | 2  |\n",
       "| TOMATO |  6 |  7 | 3  |\n",
       "\n"
      ],
      "text/plain": [
       "       X  Y   \n",
       "APPLE  10  9 3\n",
       "BACON   1  4 2\n",
       "BANANA 10  1 1\n",
       "CARROT  7 10 3\n",
       "SAL     3 10 3\n",
       "CHEESE  1  1 2\n",
       "TOMATO  6  7 3"
      ]
     },
     "metadata": {},
     "output_type": "display_data"
    },
    {
     "data": {
      "image/png": "[encoded data removed]",
      "text/plain": [
       "plot without title"
      ]
     },
     "metadata": {},
     "output_type": "display_data"
    }
   ],
   "source": [
    "# 1. 사과, 베이컨, 바나나, 당근, 셀러리, 치즈, 토마토 데이터를 준비한다. x축은 단맛, y축은 아삭한 정도\n",
    "\n",
    "c <- c(10,9,1,4,10,1,7,10,3,10,1,1,6,7)\n",
    "row <- c(\"APPLE\",\"BACON\",\"BANANA\",\"CARROT\",\"SAL\",\"CHEESE\",\"TOMATO\")\n",
    "col <- c(\"X\",\"Y\")\n",
    "data <- matrix( c, nrow= 7, ncol=2, byrow=TRUE, dimnames=list(row,col))\n",
    "\n",
    "# 2. 야채, 과일, 단백질 3가지를 k-means 가 잘 분류 했는지 시긱화 해서 확인한다. \n",
    "\n",
    "#install.packages(\"stats\")\n",
    "#library(stats)\n",
    "\n",
    "km <- kmeans(data,  3) \n",
    "cbind(data, km$cluster)\n",
    "\n",
    "plot(round(km$center), col=km$center, pch=22,  bg=km$center, xlim=range(0:10),ylim=range(0:10))\n",
    "par(new=T)  # 그래프 겹치기 \n",
    "plot( data, col=km$cluster+1, xlim=range(0:10), ylim=range(0:10), pch=22, bg=km$cluster+1 )"
   ]
  },
  {
   "cell_type": "code",
   "execution_count": null,
   "metadata": {
    "ExecuteTime": {
     "end_time": "2020-07-03T02:06:02.251462Z",
     "start_time": "2020-07-03T02:05:42.536Z"
    }
   },
   "outputs": [],
   "source": [
    "# 3. 야채, 과일, 단백질 3가지를 k-means 가 잘 분류 했는지 시각화 해서 확인한다. \n",
    "\n",
    "#install.packages(\"factoextra\")\n",
    "#library(factoextra)\n",
    "\n",
    "fviz_cluster( km, data = data, stand=F)"
   ]
  },
  {
   "cell_type": "markdown",
   "metadata": {},
   "source": [
    "### ※ 문제284. 국영수 점수 데이터를 가지고 k 값을 4 두고 학생들을 분류하시오!"
   ]
  },
  {
   "cell_type": "code",
   "execution_count": 12,
   "metadata": {
    "ExecuteTime": {
     "end_time": "2020-07-03T02:15:12.847777Z",
     "start_time": "2020-07-03T02:15:12.140Z"
    }
   },
   "outputs": [
    {
     "data": {
      "image/png": "[encoded data removed]",
      "text/plain": [
       "plot without title"
      ]
     },
     "metadata": {},
     "output_type": "display_data"
    }
   ],
   "source": [
    "aca <- read.csv('academy.csv')\n",
    "aca <- aca[,c(3,4)]\n",
    "km <- kmeans(aca, 4)\n",
    "fviz_cluster(km, data=aca, stand=F)"
   ]
  },
  {
   "cell_type": "markdown",
   "metadata": {},
   "source": [
    "    비지도학습은 정답이 없으므로 지도학습 분석에 도움을 받는 방법으로 사용\n",
    "        - 뷰노에서는 질병 폐사진, 정상 폐사진을 분류할 떄 라벨링(정답화)이 된 폐사진도 활용하지만 라벨링이 안된 폐사진도 비지도학습으로 분류\n",
    "        - 의사들이 라벨링한 것을 검증하는데 비지도학습 사용\n",
    "            공단 검진 흉부판독 시 대략 10가지 정도로 분류할 때 분류하는 인공지능 판독기가 있다면 유용"
   ]
  },
  {
   "cell_type": "code",
   "execution_count": null,
   "metadata": {},
   "outputs": [],
   "source": []
  },
  {
   "cell_type": "code",
   "execution_count": null,
   "metadata": {},
   "outputs": [],
   "source": []
  },
  {
   "cell_type": "code",
   "execution_count": null,
   "metadata": {},
   "outputs": [],
   "source": []
  },
  {
   "cell_type": "code",
   "execution_count": null,
   "metadata": {},
   "outputs": [],
   "source": []
  },
  {
   "cell_type": "code",
   "execution_count": null,
   "metadata": {},
   "outputs": [],
   "source": []
  },
  {
   "cell_type": "code",
   "execution_count": null,
   "metadata": {},
   "outputs": [],
   "source": []
  }
 ],
 "metadata": {
  "kernelspec": {
   "display_name": "R",
   "language": "R",
   "name": "ir"
  },
  "language_info": {
   "codemirror_mode": "r",
   "file_extension": ".r",
   "mimetype": "text/x-r-source",
   "name": "R",
   "pygments_lexer": "r",
   "version": "3.6.1"
  },
  "toc": {
   "base_numbering": 1,
   "nav_menu": {},
   "number_sections": true,
   "sideBar": true,
   "skip_h1_title": false,
   "title_cell": "Table of Contents",
   "title_sidebar": "Contents",
   "toc_cell": false,
   "toc_position": {},
   "toc_section_display": true,
   "toc_window_display": false
  },
  "varInspector": {
   "cols": {
    "lenName": 16,
    "lenType": 16,
    "lenVar": 40
   },
   "kernels_config": {
    "python": {
     "delete_cmd_postfix": "",
     "delete_cmd_prefix": "del ",
     "library": "var_list.py",
     "varRefreshCmd": "print(var_dic_list())"
    },
    "r": {
     "delete_cmd_postfix": ") ",
     "delete_cmd_prefix": "rm(",
     "library": "var_list.r",
     "varRefreshCmd": "cat(var_dic_list()) "
    }
   },
   "types_to_exclude": [
    "module",
    "function",
    "builtin_function_or_method",
    "instance",
    "_Feature"
   ],
   "window_display": false
  }
 },
 "nbformat": 4,
 "nbformat_minor": 4
}
