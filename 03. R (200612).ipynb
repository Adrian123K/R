{
 "cells": [
  {
   "cell_type": "markdown",
   "metadata": {},
   "source": [
    "## ■ R studio를 켤 때 emp3.csv가 자동으로 로드되게 하는 방법\n",
    "```\n",
    "c:\\program files\\r\\r-3.6.3\\etc\\\n",
    "rprofile.site\n",
    "```"
   ]
  },
  {
   "cell_type": "code",
   "execution_count": 1,
   "metadata": {
    "ExecuteTime": {
     "end_time": "2020-06-12T00:56:14.211599Z",
     "start_time": "2020-06-12T00:56:14.168Z"
    }
   },
   "outputs": [
    {
     "data": {
      "text/html": [
       "'D:/R'"
      ],
      "text/latex": [
       "'D:/R'"
      ],
      "text/markdown": [
       "'D:/R'"
      ],
      "text/plain": [
       "[1] \"D:/R\""
      ]
     },
     "metadata": {},
     "output_type": "display_data"
    }
   ],
   "source": [
    "getwd()"
   ]
  },
  {
   "cell_type": "markdown",
   "metadata": {},
   "source": [
    "#### ■ 일반함수\n",
    "```\n",
    "        Oracle     vs        R\n",
    "       nvl함수              is.na\n",
    "      decode 함수           ifelse\n",
    "      case 함수             ifelse\n",
    "      ```"
   ]
  },
  {
   "cell_type": "markdown",
   "metadata": {},
   "source": [
    "##### 예제: 이름, 월급, 등급을 출력하는데 월급이 1500 이상이면 등급을 A로 출력하고 아니면 B로 출력\n",
    "```sql\n",
    "select ename, sal, case when sal >= 1500 then 'A'\n",
    "                        else 'B' end as 등급\n",
    "    from emp;\n",
    "    ```"
   ]
  },
  {
   "cell_type": "code",
   "execution_count": 1,
   "metadata": {
    "ExecuteTime": {
     "end_time": "2020-06-12T02:07:06.076783Z",
     "start_time": "2020-06-12T02:07:04.586Z"
    }
   },
   "outputs": [
    {
     "name": "stderr",
     "output_type": "stream",
     "text": [
      "Warning message:\n",
      "\"package 'data.table' was built under R version 3.6.3\"Warning message:\n",
      "\"package 'doBy' was built under R version 3.6.3\""
     ]
    }
   ],
   "source": [
    "library(data.table)\n",
    "library(doBy)"
   ]
  },
  {
   "cell_type": "code",
   "execution_count": 6,
   "metadata": {
    "ExecuteTime": {
     "end_time": "2020-06-12T01:14:14.694602Z",
     "start_time": "2020-06-12T01:14:14.627Z"
    }
   },
   "outputs": [
    {
     "data": {
      "text/html": [
       "<table>\n",
       "<thead><tr><th></th><th scope=col>이름</th><th scope=col>월급</th><th scope=col>등급</th></tr></thead>\n",
       "<tbody>\n",
       "\t<tr><th scope=row>1</th><td>KING  </td><td>5000  </td><td>A     </td></tr>\n",
       "\t<tr><th scope=row>10</th><td>FORD  </td><td>3000  </td><td>A     </td></tr>\n",
       "\t<tr><th scope=row>12</th><td>SCOTT </td><td>3000  </td><td>A     </td></tr>\n",
       "\t<tr><th scope=row>4</th><td>JONES </td><td>2975  </td><td>A     </td></tr>\n",
       "\t<tr><th scope=row>2</th><td>BLAKE </td><td>2850  </td><td>A     </td></tr>\n",
       "\t<tr><th scope=row>3</th><td>CLARK </td><td>2450  </td><td>A     </td></tr>\n",
       "\t<tr><th scope=row>6</th><td>ALLEN </td><td>1600  </td><td>A     </td></tr>\n",
       "\t<tr><th scope=row>7</th><td>TURNER</td><td>1500  </td><td>A     </td></tr>\n",
       "\t<tr><th scope=row>14</th><td>MILLER</td><td>1300  </td><td>B     </td></tr>\n",
       "\t<tr><th scope=row>5</th><td>MARTIN</td><td>1250  </td><td>B     </td></tr>\n",
       "\t<tr><th scope=row>9</th><td>WARD  </td><td>1250  </td><td>B     </td></tr>\n",
       "\t<tr><th scope=row>13</th><td>ADAMS </td><td>1100  </td><td>B     </td></tr>\n",
       "\t<tr><th scope=row>8</th><td>JAMES </td><td> 950  </td><td>B     </td></tr>\n",
       "\t<tr><th scope=row>11</th><td>SMITH </td><td> 800  </td><td>B     </td></tr>\n",
       "</tbody>\n",
       "</table>\n"
      ],
      "text/latex": [
       "\\begin{tabular}{r|lll}\n",
       "  & 이름 & 월급 & 등급\\\\\n",
       "\\hline\n",
       "\t1 & KING   & 5000   & A     \\\\\n",
       "\t10 & FORD   & 3000   & A     \\\\\n",
       "\t12 & SCOTT  & 3000   & A     \\\\\n",
       "\t4 & JONES  & 2975   & A     \\\\\n",
       "\t2 & BLAKE  & 2850   & A     \\\\\n",
       "\t3 & CLARK  & 2450   & A     \\\\\n",
       "\t6 & ALLEN  & 1600   & A     \\\\\n",
       "\t7 & TURNER & 1500   & A     \\\\\n",
       "\t14 & MILLER & 1300   & B     \\\\\n",
       "\t5 & MARTIN & 1250   & B     \\\\\n",
       "\t9 & WARD   & 1250   & B     \\\\\n",
       "\t13 & ADAMS  & 1100   & B     \\\\\n",
       "\t8 & JAMES  &  950   & B     \\\\\n",
       "\t11 & SMITH  &  800   & B     \\\\\n",
       "\\end{tabular}\n"
      ],
      "text/markdown": [
       "\n",
       "| <!--/--> | 이름 | 월급 | 등급 |\n",
       "|---|---|---|---|\n",
       "| 1 | KING   | 5000   | A      |\n",
       "| 10 | FORD   | 3000   | A      |\n",
       "| 12 | SCOTT  | 3000   | A      |\n",
       "| 4 | JONES  | 2975   | A      |\n",
       "| 2 | BLAKE  | 2850   | A      |\n",
       "| 3 | CLARK  | 2450   | A      |\n",
       "| 6 | ALLEN  | 1600   | A      |\n",
       "| 7 | TURNER | 1500   | A      |\n",
       "| 14 | MILLER | 1300   | B      |\n",
       "| 5 | MARTIN | 1250   | B      |\n",
       "| 9 | WARD   | 1250   | B      |\n",
       "| 13 | ADAMS  | 1100   | B      |\n",
       "| 8 | JAMES  |  950   | B      |\n",
       "| 11 | SMITH  |  800   | B      |\n",
       "\n"
      ],
      "text/plain": [
       "   이름   월급 등급\n",
       "1  KING   5000 A   \n",
       "2  FORD   3000 A   \n",
       "3  SCOTT  3000 A   \n",
       "4  JONES  2975 A   \n",
       "5  BLAKE  2850 A   \n",
       "6  CLARK  2450 A   \n",
       "7  ALLEN  1600 A   \n",
       "8  TURNER 1500 A   \n",
       "9  MILLER 1300 B   \n",
       "10 MARTIN 1250 B   \n",
       "11 WARD   1250 B   \n",
       "12 ADAMS  1100 B   \n",
       "13 JAMES   950 B   \n",
       "14 SMITH   800 B   "
      ]
     },
     "metadata": {},
     "output_type": "display_data"
    }
   ],
   "source": [
    "orderBy(~-월급,data.table(이름=emp$ename, 월급=emp$sal, 등급=ifelse(emp$sal>=1500,'A','B')))"
   ]
  },
  {
   "cell_type": "markdown",
   "metadata": {},
   "source": [
    "### ※ 문제41. 이름, 직업, 보너스를 출력하는데 직업이 SALESMAN이면 보너스를 4000을 출력하고 ANALYST면 보너스를 6000을 출력하고 나머지 사원들은 0을 출력하시오"
   ]
  },
  {
   "cell_type": "code",
   "execution_count": 11,
   "metadata": {
    "ExecuteTime": {
     "end_time": "2020-06-12T01:18:36.106241Z",
     "start_time": "2020-06-12T01:18:36.061Z"
    }
   },
   "outputs": [
    {
     "data": {
      "text/html": [
       "<table>\n",
       "<thead><tr><th></th><th scope=col>emp.ename</th><th scope=col>emp.job</th><th scope=col>보너스</th></tr></thead>\n",
       "<tbody>\n",
       "\t<tr><th scope=row>10</th><td>FORD     </td><td>ANALYST  </td><td>6000     </td></tr>\n",
       "\t<tr><th scope=row>12</th><td>SCOTT    </td><td>ANALYST  </td><td>6000     </td></tr>\n",
       "\t<tr><th scope=row>5</th><td>MARTIN   </td><td>SALESMAN </td><td>4000     </td></tr>\n",
       "\t<tr><th scope=row>6</th><td>ALLEN    </td><td>SALESMAN </td><td>4000     </td></tr>\n",
       "\t<tr><th scope=row>7</th><td>TURNER   </td><td>SALESMAN </td><td>4000     </td></tr>\n",
       "\t<tr><th scope=row>9</th><td>WARD     </td><td>SALESMAN </td><td>4000     </td></tr>\n",
       "\t<tr><th scope=row>1</th><td>KING     </td><td>PRESIDENT</td><td>   0     </td></tr>\n",
       "\t<tr><th scope=row>2</th><td>BLAKE    </td><td>MANAGER  </td><td>   0     </td></tr>\n",
       "\t<tr><th scope=row>3</th><td>CLARK    </td><td>MANAGER  </td><td>   0     </td></tr>\n",
       "\t<tr><th scope=row>4</th><td>JONES    </td><td>MANAGER  </td><td>   0     </td></tr>\n",
       "\t<tr><th scope=row>8</th><td>JAMES    </td><td>CLERK    </td><td>   0     </td></tr>\n",
       "\t<tr><th scope=row>11</th><td>SMITH    </td><td>CLERK    </td><td>   0     </td></tr>\n",
       "\t<tr><th scope=row>13</th><td>ADAMS    </td><td>CLERK    </td><td>   0     </td></tr>\n",
       "\t<tr><th scope=row>14</th><td>MILLER   </td><td>CLERK    </td><td>   0     </td></tr>\n",
       "</tbody>\n",
       "</table>\n"
      ],
      "text/latex": [
       "\\begin{tabular}{r|lll}\n",
       "  & emp.ename & emp.job & 보너스\\\\\n",
       "\\hline\n",
       "\t10 & FORD      & ANALYST   & 6000     \\\\\n",
       "\t12 & SCOTT     & ANALYST   & 6000     \\\\\n",
       "\t5 & MARTIN    & SALESMAN  & 4000     \\\\\n",
       "\t6 & ALLEN     & SALESMAN  & 4000     \\\\\n",
       "\t7 & TURNER    & SALESMAN  & 4000     \\\\\n",
       "\t9 & WARD      & SALESMAN  & 4000     \\\\\n",
       "\t1 & KING      & PRESIDENT &    0     \\\\\n",
       "\t2 & BLAKE     & MANAGER   &    0     \\\\\n",
       "\t3 & CLARK     & MANAGER   &    0     \\\\\n",
       "\t4 & JONES     & MANAGER   &    0     \\\\\n",
       "\t8 & JAMES     & CLERK     &    0     \\\\\n",
       "\t11 & SMITH     & CLERK     &    0     \\\\\n",
       "\t13 & ADAMS     & CLERK     &    0     \\\\\n",
       "\t14 & MILLER    & CLERK     &    0     \\\\\n",
       "\\end{tabular}\n"
      ],
      "text/markdown": [
       "\n",
       "| <!--/--> | emp.ename | emp.job | 보너스 |\n",
       "|---|---|---|---|\n",
       "| 10 | FORD      | ANALYST   | 6000      |\n",
       "| 12 | SCOTT     | ANALYST   | 6000      |\n",
       "| 5 | MARTIN    | SALESMAN  | 4000      |\n",
       "| 6 | ALLEN     | SALESMAN  | 4000      |\n",
       "| 7 | TURNER    | SALESMAN  | 4000      |\n",
       "| 9 | WARD      | SALESMAN  | 4000      |\n",
       "| 1 | KING      | PRESIDENT |    0      |\n",
       "| 2 | BLAKE     | MANAGER   |    0      |\n",
       "| 3 | CLARK     | MANAGER   |    0      |\n",
       "| 4 | JONES     | MANAGER   |    0      |\n",
       "| 8 | JAMES     | CLERK     |    0      |\n",
       "| 11 | SMITH     | CLERK     |    0      |\n",
       "| 13 | ADAMS     | CLERK     |    0      |\n",
       "| 14 | MILLER    | CLERK     |    0      |\n",
       "\n"
      ],
      "text/plain": [
       "   emp.ename emp.job   보너스\n",
       "10 FORD      ANALYST   6000  \n",
       "12 SCOTT     ANALYST   6000  \n",
       "5  MARTIN    SALESMAN  4000  \n",
       "6  ALLEN     SALESMAN  4000  \n",
       "7  TURNER    SALESMAN  4000  \n",
       "9  WARD      SALESMAN  4000  \n",
       "1  KING      PRESIDENT    0  \n",
       "2  BLAKE     MANAGER      0  \n",
       "3  CLARK     MANAGER      0  \n",
       "4  JONES     MANAGER      0  \n",
       "8  JAMES     CLERK        0  \n",
       "11 SMITH     CLERK        0  \n",
       "13 ADAMS     CLERK        0  \n",
       "14 MILLER    CLERK        0  "
      ]
     },
     "metadata": {},
     "output_type": "display_data"
    }
   ],
   "source": [
    "orderBy(~-보너스,data.frame(emp$ename, emp$job, 보너스=ifelse(emp$job=='SALESMAN',4000,ifelse(emp$job=='ANALYST',6000,0))))"
   ]
  },
  {
   "cell_type": "markdown",
   "metadata": {},
   "source": [
    "### ※ 문제42. emp 테이블 프레임에 bonus라는 컬럼을 추가하고 위의 문제 41번의 보너스로 값을 갱신하시오"
   ]
  },
  {
   "cell_type": "code",
   "execution_count": 15,
   "metadata": {
    "ExecuteTime": {
     "end_time": "2020-06-12T01:22:30.403210Z",
     "start_time": "2020-06-12T01:22:30.364Z"
    }
   },
   "outputs": [
    {
     "name": "stdout",
     "output_type": "stream",
     "text": [
      "     이름 보너스\n",
      "1    KING      0\n",
      "2   BLAKE      0\n",
      "3   CLARK      0\n",
      "4   JONES      0\n",
      "5  MARTIN   4000\n",
      "6   ALLEN   4000\n",
      "7  TURNER   4000\n",
      "8   JAMES      0\n",
      "9    WARD   4000\n",
      "10   FORD   6000\n",
      "11  SMITH      0\n",
      "12  SCOTT   6000\n",
      "13  ADAMS      0\n",
      "14 MILLER      0\n",
      "   index empno  ename       job  mgr        hiredate  sal comm deptno bonus\n",
      "1      1  7839   KING PRESIDENT   NA 1981-11-17 0:00 5000   NA     10     0\n",
      "2      2  7698  BLAKE   MANAGER 7839 1981-05-01 0:00 2850   NA     30     0\n",
      "3      3  7782  CLARK   MANAGER 7839 1981-05-09 0:00 2450   NA     10     0\n",
      "4      4  7566  JONES   MANAGER 7839 1981-04-01 0:00 2975   NA     20     0\n",
      "5      5  7654 MARTIN  SALESMAN 7698 1981-09-10 0:00 1250 1400     30  4000\n",
      "6      6  7499  ALLEN  SALESMAN 7698 1981-02-11 0:00 1600  300     30  4000\n",
      "7      7  7844 TURNER  SALESMAN 7698 1981-08-21 0:00 1500    0     30  4000\n",
      "8      8  7900  JAMES     CLERK 7698 1981-12-11 0:00  950   NA     30     0\n",
      "9      9  7521   WARD  SALESMAN 7698 1981-02-23 0:00 1250  500     30  4000\n",
      "10    10  7902   FORD   ANALYST 7566 1981-12-11 0:00 3000   NA     20  6000\n",
      "11    11  7369  SMITH     CLERK 7902 1980-12-09 0:00  800   NA     20     0\n",
      "12    12  7788  SCOTT   ANALYST 7566 1982-12-22 0:00 3000   NA     20  6000\n",
      "13    13  7876  ADAMS     CLERK 7788 1983-01-15 0:00 1100   NA     20     0\n",
      "14    14  7934 MILLER     CLERK 7782 1982-01-11 0:00 1300   NA     10     0\n"
     ]
    }
   ],
   "source": [
    "emp$bonus=ifelse(emp$job=='SALESMAN',4000,ifelse(emp$job=='ANALYST',6000,0))\n",
    "print(data.frame(이름=emp$ename,보너스=emp$bonus))\n",
    "print(emp)"
   ]
  },
  {
   "cell_type": "markdown",
   "metadata": {},
   "source": [
    "### ※ 문제43. is.na 함수를 이용해서 커미션이 NA인 사원들의 이름과 커미션을 출력하시오"
   ]
  },
  {
   "cell_type": "code",
   "execution_count": 18,
   "metadata": {
    "ExecuteTime": {
     "end_time": "2020-06-12T01:45:10.495446Z",
     "start_time": "2020-06-12T01:45:10.458Z"
    }
   },
   "outputs": [
    {
     "data": {
      "text/html": [
       "<table>\n",
       "<thead><tr><th></th><th scope=col>ename</th><th scope=col>comm</th></tr></thead>\n",
       "<tbody>\n",
       "\t<tr><th scope=row>1</th><td>KING  </td><td>NA    </td></tr>\n",
       "\t<tr><th scope=row>2</th><td>BLAKE </td><td>NA    </td></tr>\n",
       "\t<tr><th scope=row>3</th><td>CLARK </td><td>NA    </td></tr>\n",
       "\t<tr><th scope=row>4</th><td>JONES </td><td>NA    </td></tr>\n",
       "\t<tr><th scope=row>8</th><td>JAMES </td><td>NA    </td></tr>\n",
       "\t<tr><th scope=row>10</th><td>FORD  </td><td>NA    </td></tr>\n",
       "\t<tr><th scope=row>11</th><td>SMITH </td><td>NA    </td></tr>\n",
       "\t<tr><th scope=row>12</th><td>SCOTT </td><td>NA    </td></tr>\n",
       "\t<tr><th scope=row>13</th><td>ADAMS </td><td>NA    </td></tr>\n",
       "\t<tr><th scope=row>14</th><td>MILLER</td><td>NA    </td></tr>\n",
       "</tbody>\n",
       "</table>\n"
      ],
      "text/latex": [
       "\\begin{tabular}{r|ll}\n",
       "  & ename & comm\\\\\n",
       "\\hline\n",
       "\t1 & KING   & NA    \\\\\n",
       "\t2 & BLAKE  & NA    \\\\\n",
       "\t3 & CLARK  & NA    \\\\\n",
       "\t4 & JONES  & NA    \\\\\n",
       "\t8 & JAMES  & NA    \\\\\n",
       "\t10 & FORD   & NA    \\\\\n",
       "\t11 & SMITH  & NA    \\\\\n",
       "\t12 & SCOTT  & NA    \\\\\n",
       "\t13 & ADAMS  & NA    \\\\\n",
       "\t14 & MILLER & NA    \\\\\n",
       "\\end{tabular}\n"
      ],
      "text/markdown": [
       "\n",
       "| <!--/--> | ename | comm |\n",
       "|---|---|---|\n",
       "| 1 | KING   | NA     |\n",
       "| 2 | BLAKE  | NA     |\n",
       "| 3 | CLARK  | NA     |\n",
       "| 4 | JONES  | NA     |\n",
       "| 8 | JAMES  | NA     |\n",
       "| 10 | FORD   | NA     |\n",
       "| 11 | SMITH  | NA     |\n",
       "| 12 | SCOTT  | NA     |\n",
       "| 13 | ADAMS  | NA     |\n",
       "| 14 | MILLER | NA     |\n",
       "\n"
      ],
      "text/plain": [
       "   ename  comm\n",
       "1  KING   NA  \n",
       "2  BLAKE  NA  \n",
       "3  CLARK  NA  \n",
       "4  JONES  NA  \n",
       "8  JAMES  NA  \n",
       "10 FORD   NA  \n",
       "11 SMITH  NA  \n",
       "12 SCOTT  NA  \n",
       "13 ADAMS  NA  \n",
       "14 MILLER NA  "
      ]
     },
     "metadata": {},
     "output_type": "display_data"
    }
   ],
   "source": [
    "emp[is.na(emp$comm),c('ename','comm')]"
   ]
  },
  {
   "cell_type": "markdown",
   "metadata": {},
   "source": [
    "### ※ 문제44. 이름과 커미션을 출력하는데 커미션이 NA인 사원들은 no comm으로 출력되게 하시오\n",
    "```sql\n",
    "select ename, nvl(to_char(comm),'no comm')\n",
    "    from emp;\n",
    "    ```"
   ]
  },
  {
   "cell_type": "code",
   "execution_count": 25,
   "metadata": {
    "ExecuteTime": {
     "end_time": "2020-06-12T01:49:18.896964Z",
     "start_time": "2020-06-12T01:49:18.855Z"
    }
   },
   "outputs": [
    {
     "data": {
      "text/html": [
       "<table>\n",
       "<thead><tr><th scope=col>이름</th><th scope=col>comm</th></tr></thead>\n",
       "<tbody>\n",
       "\t<tr><td>KING   </td><td>no comm</td></tr>\n",
       "\t<tr><td>BLAKE  </td><td>no comm</td></tr>\n",
       "\t<tr><td>CLARK  </td><td>no comm</td></tr>\n",
       "\t<tr><td>JONES  </td><td>no comm</td></tr>\n",
       "\t<tr><td>MARTIN </td><td>1400   </td></tr>\n",
       "\t<tr><td>ALLEN  </td><td>300    </td></tr>\n",
       "\t<tr><td>TURNER </td><td>0      </td></tr>\n",
       "\t<tr><td>JAMES  </td><td>no comm</td></tr>\n",
       "\t<tr><td>WARD   </td><td>500    </td></tr>\n",
       "\t<tr><td>FORD   </td><td>no comm</td></tr>\n",
       "\t<tr><td>SMITH  </td><td>no comm</td></tr>\n",
       "\t<tr><td>SCOTT  </td><td>no comm</td></tr>\n",
       "\t<tr><td>ADAMS  </td><td>no comm</td></tr>\n",
       "\t<tr><td>MILLER </td><td>no comm</td></tr>\n",
       "</tbody>\n",
       "</table>\n"
      ],
      "text/latex": [
       "\\begin{tabular}{r|ll}\n",
       " 이름 & comm\\\\\n",
       "\\hline\n",
       "\t KING    & no comm\\\\\n",
       "\t BLAKE   & no comm\\\\\n",
       "\t CLARK   & no comm\\\\\n",
       "\t JONES   & no comm\\\\\n",
       "\t MARTIN  & 1400   \\\\\n",
       "\t ALLEN   & 300    \\\\\n",
       "\t TURNER  & 0      \\\\\n",
       "\t JAMES   & no comm\\\\\n",
       "\t WARD    & 500    \\\\\n",
       "\t FORD    & no comm\\\\\n",
       "\t SMITH   & no comm\\\\\n",
       "\t SCOTT   & no comm\\\\\n",
       "\t ADAMS   & no comm\\\\\n",
       "\t MILLER  & no comm\\\\\n",
       "\\end{tabular}\n"
      ],
      "text/markdown": [
       "\n",
       "| 이름 | comm |\n",
       "|---|---|\n",
       "| KING    | no comm |\n",
       "| BLAKE   | no comm |\n",
       "| CLARK   | no comm |\n",
       "| JONES   | no comm |\n",
       "| MARTIN  | 1400    |\n",
       "| ALLEN   | 300     |\n",
       "| TURNER  | 0       |\n",
       "| JAMES   | no comm |\n",
       "| WARD    | 500     |\n",
       "| FORD    | no comm |\n",
       "| SMITH   | no comm |\n",
       "| SCOTT   | no comm |\n",
       "| ADAMS   | no comm |\n",
       "| MILLER  | no comm |\n",
       "\n"
      ],
      "text/plain": [
       "   이름   comm   \n",
       "1  KING   no comm\n",
       "2  BLAKE  no comm\n",
       "3  CLARK  no comm\n",
       "4  JONES  no comm\n",
       "5  MARTIN 1400   \n",
       "6  ALLEN  300    \n",
       "7  TURNER 0      \n",
       "8  JAMES  no comm\n",
       "9  WARD   500    \n",
       "10 FORD   no comm\n",
       "11 SMITH  no comm\n",
       "12 SCOTT  no comm\n",
       "13 ADAMS  no comm\n",
       "14 MILLER no comm"
      ]
     },
     "metadata": {},
     "output_type": "display_data"
    }
   ],
   "source": [
    "data.frame(이름=emp$ename,comm=ifelse(is.na(emp$comm),'no comm',emp$comm))"
   ]
  },
  {
   "cell_type": "markdown",
   "metadata": {},
   "source": [
    "#### ■ 그룹함수\n",
    "```\n",
    "        Oracle      vs       R\n",
    "        max                  max\n",
    "        min                  min\n",
    "        sum                  sum\n",
    "        avg                  mean\n",
    "        count                length(세로)\n",
    "                             table(가로)\n",
    "                             ```"
   ]
  },
  {
   "cell_type": "markdown",
   "metadata": {},
   "source": [
    "### ※ 문제45. 최대 월급을 출력하시오"
   ]
  },
  {
   "cell_type": "code",
   "execution_count": 27,
   "metadata": {
    "ExecuteTime": {
     "end_time": "2020-06-12T01:54:13.098338Z",
     "start_time": "2020-06-12T01:54:13.070Z"
    }
   },
   "outputs": [
    {
     "name": "stdout",
     "output_type": "stream",
     "text": [
      "[1] 5000\n"
     ]
    }
   ],
   "source": [
    "print(max(emp$sal))"
   ]
  },
  {
   "cell_type": "markdown",
   "metadata": {},
   "source": [
    "### ※ 문제46. 직업이 SALESMAN인 사원들의 최대월급을 출력하시오"
   ]
  },
  {
   "cell_type": "code",
   "execution_count": 37,
   "metadata": {
    "ExecuteTime": {
     "end_time": "2020-06-12T01:58:08.760310Z",
     "start_time": "2020-06-12T01:58:08.728Z"
    }
   },
   "outputs": [
    {
     "data": {
      "text/html": [
       "1600"
      ],
      "text/latex": [
       "1600"
      ],
      "text/markdown": [
       "1600"
      ],
      "text/plain": [
       "[1] 1600"
      ]
     },
     "metadata": {},
     "output_type": "display_data"
    }
   ],
   "source": [
    "rs=emp[emp$job=='SALESMAN','sal']\n",
    "max(rs)"
   ]
  },
  {
   "cell_type": "markdown",
   "metadata": {},
   "source": [
    "### ※ 문제47. 20번 부서번호인 사원들 중에서 최소월급을 출력하시오"
   ]
  },
  {
   "cell_type": "code",
   "execution_count": 38,
   "metadata": {
    "ExecuteTime": {
     "end_time": "2020-06-12T01:58:41.846105Z",
     "start_time": "2020-06-12T01:58:41.814Z"
    }
   },
   "outputs": [
    {
     "name": "stdout",
     "output_type": "stream",
     "text": [
      "[1] 800\n"
     ]
    }
   ],
   "source": [
    "rs=emp[emp$deptno==20,'sal']\n",
    "print(min(rs))"
   ]
  },
  {
   "cell_type": "markdown",
   "metadata": {},
   "source": [
    "### ※ 문제48. 직업, 직업별 최대월급을 출력하시오\n",
    "```sql\n",
    "select job, max(sal)\n",
    "    from emp\n",
    "    group by job;\n",
    "    ```"
   ]
  },
  {
   "cell_type": "code",
   "execution_count": 40,
   "metadata": {
    "ExecuteTime": {
     "end_time": "2020-06-12T02:01:21.431143Z",
     "start_time": "2020-06-12T02:01:21.388Z"
    }
   },
   "outputs": [
    {
     "data": {
      "text/html": [
       "<table>\n",
       "<thead><tr><th scope=col>job</th><th scope=col>sal</th></tr></thead>\n",
       "<tbody>\n",
       "\t<tr><td>ANALYST  </td><td>3000     </td></tr>\n",
       "\t<tr><td>CLERK    </td><td>1300     </td></tr>\n",
       "\t<tr><td>MANAGER  </td><td>2975     </td></tr>\n",
       "\t<tr><td>PRESIDENT</td><td>5000     </td></tr>\n",
       "\t<tr><td>SALESMAN </td><td>1600     </td></tr>\n",
       "</tbody>\n",
       "</table>\n"
      ],
      "text/latex": [
       "\\begin{tabular}{r|ll}\n",
       " job & sal\\\\\n",
       "\\hline\n",
       "\t ANALYST   & 3000     \\\\\n",
       "\t CLERK     & 1300     \\\\\n",
       "\t MANAGER   & 2975     \\\\\n",
       "\t PRESIDENT & 5000     \\\\\n",
       "\t SALESMAN  & 1600     \\\\\n",
       "\\end{tabular}\n"
      ],
      "text/markdown": [
       "\n",
       "| job | sal |\n",
       "|---|---|\n",
       "| ANALYST   | 3000      |\n",
       "| CLERK     | 1300      |\n",
       "| MANAGER   | 2975      |\n",
       "| PRESIDENT | 5000      |\n",
       "| SALESMAN  | 1600      |\n",
       "\n"
      ],
      "text/plain": [
       "  job       sal \n",
       "1 ANALYST   3000\n",
       "2 CLERK     1300\n",
       "3 MANAGER   2975\n",
       "4 PRESIDENT 5000\n",
       "5 SALESMAN  1600"
      ]
     },
     "metadata": {},
     "output_type": "display_data"
    }
   ],
   "source": [
    "aggregate(sal~job,   emp,   max)\n",
    "#        column 범위데이터  그룹함수"
   ]
  },
  {
   "cell_type": "markdown",
   "metadata": {},
   "source": [
    "### ※ 문제49. 부서번호, 부서번호별 토탈월급을 출력\n",
    "```sql\n",
    "select deptno, sum(sal)\n",
    "    from emp\n",
    "    group by deptno;\n",
    "    ```"
   ]
  },
  {
   "cell_type": "code",
   "execution_count": 3,
   "metadata": {
    "ExecuteTime": {
     "end_time": "2020-06-12T02:07:38.983414Z",
     "start_time": "2020-06-12T02:07:38.935Z"
    }
   },
   "outputs": [
    {
     "data": {
      "text/html": [
       "<table>\n",
       "<thead><tr><th scope=col>deptno</th><th scope=col>sal</th></tr></thead>\n",
       "<tbody>\n",
       "\t<tr><td>10   </td><td> 8750</td></tr>\n",
       "\t<tr><td>20   </td><td>10875</td></tr>\n",
       "\t<tr><td>30   </td><td> 9400</td></tr>\n",
       "</tbody>\n",
       "</table>\n"
      ],
      "text/latex": [
       "\\begin{tabular}{r|ll}\n",
       " deptno & sal\\\\\n",
       "\\hline\n",
       "\t 10    &  8750\\\\\n",
       "\t 20    & 10875\\\\\n",
       "\t 30    &  9400\\\\\n",
       "\\end{tabular}\n"
      ],
      "text/markdown": [
       "\n",
       "| deptno | sal |\n",
       "|---|---|\n",
       "| 10    |  8750 |\n",
       "| 20    | 10875 |\n",
       "| 30    |  9400 |\n",
       "\n"
      ],
      "text/plain": [
       "  deptno sal  \n",
       "1 10      8750\n",
       "2 20     10875\n",
       "3 30      9400"
      ]
     },
     "metadata": {},
     "output_type": "display_data"
    }
   ],
   "source": [
    "emp=read.csv('emp3.csv',header=T)\n",
    "aggregate(sal~deptno, emp, sum)"
   ]
  },
  {
   "cell_type": "markdown",
   "metadata": {},
   "source": [
    "### ※ 문제50. 위의 결과를 다시 출력하는데 토탈월급이 높은 것 부터 출력하시오"
   ]
  },
  {
   "cell_type": "code",
   "execution_count": 5,
   "metadata": {
    "ExecuteTime": {
     "end_time": "2020-06-12T02:08:10.356857Z",
     "start_time": "2020-06-12T02:08:10.320Z"
    }
   },
   "outputs": [
    {
     "data": {
      "text/html": [
       "<table>\n",
       "<thead><tr><th></th><th scope=col>부서번호</th><th scope=col>토탈월급</th></tr></thead>\n",
       "<tbody>\n",
       "\t<tr><th scope=row>2</th><td>20   </td><td>10875</td></tr>\n",
       "\t<tr><th scope=row>3</th><td>30   </td><td> 9400</td></tr>\n",
       "\t<tr><th scope=row>1</th><td>10   </td><td> 8750</td></tr>\n",
       "</tbody>\n",
       "</table>\n"
      ],
      "text/latex": [
       "\\begin{tabular}{r|ll}\n",
       "  & 부서번호 & 토탈월급\\\\\n",
       "\\hline\n",
       "\t2 & 20    & 10875\\\\\n",
       "\t3 & 30    &  9400\\\\\n",
       "\t1 & 10    &  8750\\\\\n",
       "\\end{tabular}\n"
      ],
      "text/markdown": [
       "\n",
       "| <!--/--> | 부서번호 | 토탈월급 |\n",
       "|---|---|---|\n",
       "| 2 | 20    | 10875 |\n",
       "| 3 | 30    |  9400 |\n",
       "| 1 | 10    |  8750 |\n",
       "\n"
      ],
      "text/plain": [
       "  부서번호 토탈월급\n",
       "2 20       10875   \n",
       "3 30        9400   \n",
       "1 10        8750   "
      ]
     },
     "metadata": {},
     "output_type": "display_data"
    }
   ],
   "source": [
    "rs=aggregate(sal~deptno,emp,sum)\n",
    "names(rs)=c('부서번호','토탈월급')\n",
    "orderBy(~-토탈월급,rs)"
   ]
  },
  {
   "cell_type": "markdown",
   "metadata": {},
   "source": [
    "### ※ 문제51. 직업, 직업별 인원수를 출력하시오"
   ]
  },
  {
   "cell_type": "code",
   "execution_count": 7,
   "metadata": {
    "ExecuteTime": {
     "end_time": "2020-06-12T02:09:02.810116Z",
     "start_time": "2020-06-12T02:09:02.772Z"
    }
   },
   "outputs": [
    {
     "data": {
      "text/html": [
       "<table>\n",
       "<thead><tr><th scope=col>job</th><th scope=col>empno</th></tr></thead>\n",
       "<tbody>\n",
       "\t<tr><td>ANALYST  </td><td>2        </td></tr>\n",
       "\t<tr><td>CLERK    </td><td>4        </td></tr>\n",
       "\t<tr><td>MANAGER  </td><td>3        </td></tr>\n",
       "\t<tr><td>PRESIDENT</td><td>1        </td></tr>\n",
       "\t<tr><td>SALESMAN </td><td>4        </td></tr>\n",
       "</tbody>\n",
       "</table>\n"
      ],
      "text/latex": [
       "\\begin{tabular}{r|ll}\n",
       " job & empno\\\\\n",
       "\\hline\n",
       "\t ANALYST   & 2        \\\\\n",
       "\t CLERK     & 4        \\\\\n",
       "\t MANAGER   & 3        \\\\\n",
       "\t PRESIDENT & 1        \\\\\n",
       "\t SALESMAN  & 4        \\\\\n",
       "\\end{tabular}\n"
      ],
      "text/markdown": [
       "\n",
       "| job | empno |\n",
       "|---|---|\n",
       "| ANALYST   | 2         |\n",
       "| CLERK     | 4         |\n",
       "| MANAGER   | 3         |\n",
       "| PRESIDENT | 1         |\n",
       "| SALESMAN  | 4         |\n",
       "\n"
      ],
      "text/plain": [
       "  job       empno\n",
       "1 ANALYST   2    \n",
       "2 CLERK     4    \n",
       "3 MANAGER   3    \n",
       "4 PRESIDENT 1    \n",
       "5 SALESMAN  4    "
      ]
     },
     "metadata": {},
     "output_type": "display_data"
    }
   ],
   "source": [
    "aggregate(empno~job,emp,length)"
   ]
  },
  {
   "cell_type": "code",
   "execution_count": null,
   "metadata": {},
   "outputs": [],
   "source": []
  },
  {
   "cell_type": "code",
   "execution_count": null,
   "metadata": {},
   "outputs": [],
   "source": []
  },
  {
   "cell_type": "code",
   "execution_count": null,
   "metadata": {},
   "outputs": [],
   "source": []
  },
  {
   "cell_type": "code",
   "execution_count": null,
   "metadata": {},
   "outputs": [],
   "source": []
  },
  {
   "cell_type": "code",
   "execution_count": null,
   "metadata": {},
   "outputs": [],
   "source": []
  }
 ],
 "metadata": {
  "kernelspec": {
   "display_name": "R",
   "language": "R",
   "name": "ir"
  },
  "language_info": {
   "codemirror_mode": "r",
   "file_extension": ".r",
   "mimetype": "text/x-r-source",
   "name": "R",
   "pygments_lexer": "r",
   "version": "3.6.1"
  },
  "toc": {
   "base_numbering": 1,
   "nav_menu": {},
   "number_sections": true,
   "sideBar": true,
   "skip_h1_title": false,
   "title_cell": "Table of Contents",
   "title_sidebar": "Contents",
   "toc_cell": false,
   "toc_position": {},
   "toc_section_display": true,
   "toc_window_display": false
  },
  "varInspector": {
   "cols": {
    "lenName": 16,
    "lenType": 16,
    "lenVar": 40
   },
   "kernels_config": {
    "python": {
     "delete_cmd_postfix": "",
     "delete_cmd_prefix": "del ",
     "library": "var_list.py",
     "varRefreshCmd": "print(var_dic_list())"
    },
    "r": {
     "delete_cmd_postfix": ") ",
     "delete_cmd_prefix": "rm(",
     "library": "var_list.r",
     "varRefreshCmd": "cat(var_dic_list()) "
    }
   },
   "types_to_exclude": [
    "module",
    "function",
    "builtin_function_or_method",
    "instance",
    "_Feature"
   ],
   "window_display": false
  }
 },
 "nbformat": 4,
 "nbformat_minor": 4
}
