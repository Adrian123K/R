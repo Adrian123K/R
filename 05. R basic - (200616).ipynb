{
 "cells": [
  {
   "cell_type": "markdown",
   "metadata": {},
   "source": [
    "## Data 분석 결과를 보고할 때 유용한 툴\n",
    "### 1. R markdown\n",
    "### 2. R shiny\n",
    "#### R의 강력한 그래픽 기능과 통계 분석 능력을 이용하고 사용자 상호작용을 쉽게 만들 수 있는 언어. 샤이니 패키지를 이용해서 편하게 사용자 인터페이스를 이용할 수 있다.\n",
    "```\n",
    "    <R shiny 기본 골격>\n",
    "           UI            &           Server\n",
    "        frontier                  backend tier\n",
    "        화면                      화면에서 요청한 데이터를 처리하는 부분\n",
    "```\n",
    "```\n",
    "    UI     <- (화면 개발에 필요한 코드 작성\n",
    "                ① csv file 불러오기\n",
    "                ② 결과 출력)\n",
    "    Server <- (서버단 코드 작성\n",
    "                ① data를 시각화 코드\n",
    "                    - 막대그래프\n",
    "                    - 원형그래프\n",
    "                    - 라인그래프\n",
    "                    - 히스토그램 그래프\n",
    "                    - 사분위수 그래프\n",
    "                ② ML 알고리즘 구현하는 코드)\n",
    "    실행하는 명령어 <- shinyApp(ui=ui, server=server)\n",
    "    ```"
   ]
  },
  {
   "cell_type": "code",
   "execution_count": 1,
   "metadata": {
    "ExecuteTime": {
     "end_time": "2020-06-16T01:08:30.503747Z",
     "start_time": "2020-06-16T01:08:29.256Z"
    }
   },
   "outputs": [
    {
     "name": "stderr",
     "output_type": "stream",
     "text": [
      "Warning message:\n",
      "\"package 'shiny' was built under R version 3.6.3\"\n",
      "Attaching package: 'shiny'\n",
      "\n",
      "The following object is masked from 'package:jsonlite':\n",
      "\n",
      "    validate\n",
      "\n"
     ]
    }
   ],
   "source": [
    "library(shiny)"
   ]
  },
  {
   "cell_type": "code",
   "execution_count": null,
   "metadata": {
    "ExecuteTime": {
     "start_time": "2020-06-16T01:09:11.587Z"
    }
   },
   "outputs": [
    {
     "name": "stderr",
     "output_type": "stream",
     "text": [
      "\n",
      "Listening on http://127.0.0.1:7208\n"
     ]
    }
   ],
   "source": [
    "ui<-fluidPage()\n",
    "server<-function(input, output){\n",
    "    \n",
    "}\n",
    "shinyApp(ui=ui, server=server)"
   ]
  },
  {
   "cell_type": "code",
   "execution_count": null,
   "metadata": {},
   "outputs": [],
   "source": []
  },
  {
   "cell_type": "code",
   "execution_count": null,
   "metadata": {},
   "outputs": [],
   "source": []
  },
  {
   "cell_type": "code",
   "execution_count": null,
   "metadata": {},
   "outputs": [],
   "source": []
  },
  {
   "cell_type": "code",
   "execution_count": null,
   "metadata": {},
   "outputs": [],
   "source": []
  }
 ],
 "metadata": {
  "kernelspec": {
   "display_name": "R",
   "language": "R",
   "name": "ir"
  },
  "language_info": {
   "codemirror_mode": "r",
   "file_extension": ".r",
   "mimetype": "text/x-r-source",
   "name": "R",
   "pygments_lexer": "r",
   "version": "3.6.1"
  },
  "toc": {
   "base_numbering": 1,
   "nav_menu": {},
   "number_sections": true,
   "sideBar": true,
   "skip_h1_title": false,
   "title_cell": "Table of Contents",
   "title_sidebar": "Contents",
   "toc_cell": false,
   "toc_position": {},
   "toc_section_display": true,
   "toc_window_display": false
  },
  "varInspector": {
   "cols": {
    "lenName": 16,
    "lenType": 16,
    "lenVar": 40
   },
   "kernels_config": {
    "python": {
     "delete_cmd_postfix": "",
     "delete_cmd_prefix": "del ",
     "library": "var_list.py",
     "varRefreshCmd": "print(var_dic_list())"
    },
    "r": {
     "delete_cmd_postfix": ") ",
     "delete_cmd_prefix": "rm(",
     "library": "var_list.r",
     "varRefreshCmd": "cat(var_dic_list()) "
    }
   },
   "types_to_exclude": [
    "module",
    "function",
    "builtin_function_or_method",
    "instance",
    "_Feature"
   ],
   "window_display": false
  }
 },
 "nbformat": 4,
 "nbformat_minor": 4
}
