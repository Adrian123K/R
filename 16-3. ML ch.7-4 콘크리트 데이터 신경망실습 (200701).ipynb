{
 "cells": [
  {
   "cell_type": "markdown",
   "metadata": {},
   "source": [
    "## ■ 신경망 실습1 (콘크리트 강도 예측하는 머신러닝 모델 만들기)\n",
    "    콘크리트의 재료의 조합을 어떻게 하느냐에 따라 콘크리트 강도가 달라지는데 재료의 조합을 알아내기 위한 인공신경망 구축\n",
    "    \n",
    "    자갈, 모래, 시멘트등을 몇대 몇 비율로 섞었을때 어느정도 강도가 나오는지 예측하는 신경망 \n",
    "```\n",
    "1.  콘크리트 데이터 소개 \n",
    "* 콘크리트 데이터 \n",
    "\n",
    " 1. mount of cement: 콘크리트의 총량\n",
    " 2. slag  :  시멘트 \n",
    " 3. ash   :  분 (시멘트)\n",
    " 4. water :  물\n",
    " 5. superplasticizer :  고성능 감수재(콘크리트 강도를 높이는 첨가제)\n",
    " 6. coarse aggregate :  굵은 자갈\n",
    " 7. fine  aggregate :  잔 자갈\n",
    " 8. aging time  :  숙성시간 \n",
    "\n",
    "# 2.  콘크리트 데이터를 R 로 로드한다.\n",
    " -  머신러닝 데이터 116번 \n",
    "\n",
    "concrete <- read.csv(\"concrete.csv\")\n",
    "str(concrete)\n",
    "\n",
    "hist(concrete$strength) \n",
    "\n",
    "# ML 모델의 학습이 잘 될 것이라는 예측\n",
    "\n",
    "# 3. 정규화 함수로 데이터를 정규화 작업\n",
    "normalize <- function(x) {\n",
    "    return ( (x-min(x)) / (max(x) - min(x) ) )\n",
    "}\n",
    "\n",
    "concrete_norm <- as.data.frame(lapply(concrete,normalize) ) \n",
    "\n",
    "# 4. 0~1사이로 데이터가 잘 변경되었는지 확인 \n",
    "\n",
    "summary( concrete_norm$strength)\n",
    "\n",
    "# 본래 데이터의 최소값, 최대값과 비교 \n",
    "summary( concrete$strength)\n",
    "\n",
    "# 5. 훈련 데이터,테스트 데이터를 나눈다 (8:2)\n",
    "\n",
    "concrete_train <- concrete_norm[1:773, ]\n",
    "concrete_test  <- concrete_norm[774:1030, ]\n",
    "\n",
    "# 6. neuralnet 패키지를 설치한다.\n",
    "\n",
    "install.packages(\"neuralnet\")\n",
    "library(neuralnet) \n",
    "\n",
    "# 7. neuralnet 패키지에 콘크리트 훈련 데이터를 넣어서 모델을 생성한다.\n",
    "\n",
    "concrete_model <- neuralnet(formula=strength ~ cement + slag + ash  +water +superplastic + coarseagg  + fineagg  + age,\n",
    "data =concrete_train)   \n",
    "\n",
    "# 9. 모델(신경망) 을 시각화\n",
    "\n",
    "plot(concrete_model )\n",
    "\n",
    "# 10. 만든 모델로 테스트 데이터를 가지고 테스트 한다\n",
    "\n",
    "model_results <-  compute(concrete_model, concrete_test[1:8])\n",
    "predicted_strength <-  model_results$net.result\n",
    "\n",
    "# 11.  예측값과 실제값간의 상관관계를 확인 \n",
    "\n",
    "cor(predicted_strength, concrete_test$strength)\n",
    "0.806285848\n",
    "\n",
    "# 12. 모델의 성능 개선 \n",
    "\n",
    "concrete_model2 <- neuralnet(formula=strength ~ cement + slag + ash  +\n",
    "water +superplastic + coarseagg  + fineagg  + age, data =concrete_train , hidden=c(5,2) )  \n",
    "\n",
    "hidden=  c(5,  2) \n",
    "#           ↑   ↑\n",
    "#  은닉1층 5개  은닉2층 2개 \n",
    "\n",
    "plot(concrete_model2)\n",
    "\n",
    "# 13. 위에서 만든 모델로 테스트를 수행한다. \n",
    "\n",
    "model_results <-  compute(concrete_model2, concrete_test[1:8])\n",
    "predicted_strength2 <-  model_results$net.result\n",
    "\n",
    "# 14.  예측값과 실제값간의 상관관계를 확인 \n",
    "\n",
    "cor(predicted_strength2, concrete_test$strength)\n",
    "\n",
    "0.9335748229\n",
    "```"
   ]
  },
  {
   "cell_type": "code",
   "execution_count": null,
   "metadata": {
    "ExecuteTime": {
     "end_time": "2020-07-01T06:24:34.628078Z",
     "start_time": "2020-07-01T06:24:07.312Z"
    }
   },
   "outputs": [],
   "source": [
    "concrete <- read.csv(\"concrete.csv\")\n",
    "str(concrete)\n",
    "\n",
    "hist(concrete$strength)\n",
    "\n",
    "# 3. 정규화 함수로 데이터를 정규화 작업\n",
    "normalize <- function(x) {\n",
    "  return ( (x-min(x)) / (max(x) - min(x) ) )\n",
    "}\n",
    "\n",
    "concrete_norm <- as.data.frame(lapply(concrete,normalize) ) \n",
    "\n",
    "# 4. 0~1사이로 데이터가 잘 변경되었는지 확인 \n",
    "\n",
    "summary( concrete_norm$strength)\n",
    "\n",
    "# 본래 데이터의 최소값, 최대값과 비교 \n",
    "summary( concrete$strength)\n",
    "\n",
    "# 5. 훈련 데이터,테스트 데이터를 나눈다 (8:2)\n",
    "\n",
    "concrete_train <- concrete_norm[1:773, ]\n",
    "concrete_test  <- concrete_norm[774:1030, ]\n",
    "\n",
    "# 6. neuralnet 패키지를 설치한다.\n",
    "\n",
    "install.packages(\"neuralnet\")\n",
    "library(neuralnet) \n",
    "\n",
    "# 7. neuralnet 패키지에 콘크리트 훈련 데이터를 넣어서 모델을 생성한다.\n",
    "\n",
    "concrete_model <- neuralnet(formula=strength ~ cement + slag + ash  +water +superplastic + coarseagg  + fineagg  + age,\n",
    "                            data =concrete_train)   \n",
    "\n",
    "# 9. 모델(신경망) 을 시각화\n",
    "\n",
    "plot(concrete_model )"
   ]
  },
  {
   "cell_type": "markdown",
   "metadata": {},
   "source": [
    "![neural](neural.png)"
   ]
  },
  {
   "cell_type": "code",
   "execution_count": null,
   "metadata": {
    "ExecuteTime": {
     "end_time": "2020-07-01T06:24:34.628078Z",
     "start_time": "2020-07-01T06:24:07.312Z"
    }
   },
   "outputs": [],
   "source": [
    "# 10. 만든 모델로 테스트 데이터를 가지고 테스트 한다\n",
    "\n",
    "model_results <-  compute(concrete_model, concrete_test[1:8])\n",
    "predicted_strength <-  model_results$net.result"
   ]
  },
  {
   "cell_type": "code",
   "execution_count": 3,
   "metadata": {
    "ExecuteTime": {
     "end_time": "2020-07-01T06:26:07.578696Z",
     "start_time": "2020-07-01T06:26:07.536Z"
    }
   },
   "outputs": [
    {
     "data": {
      "text/html": [
       "<table>\n",
       "<tbody>\n",
       "\t<tr><td>0.8063999</td></tr>\n",
       "</tbody>\n",
       "</table>\n"
      ],
      "text/latex": [
       "\\begin{tabular}{l}\n",
       "\t 0.8063999\\\\\n",
       "\\end{tabular}\n"
      ],
      "text/markdown": [
       "\n",
       "| 0.8063999 |\n",
       "\n"
      ],
      "text/plain": [
       "     [,1]     \n",
       "[1,] 0.8063999"
      ]
     },
     "metadata": {},
     "output_type": "display_data"
    }
   ],
   "source": [
    "# 11.  예측값과 실제값간의 상관관계를 확인 \n",
    "\n",
    "cor(predicted_strength, concrete_test$strength) # 수치형 데이터를 예측한 것이므로 상관관계로 모델 성능을 확인\n",
    "# 0.806285848"
   ]
  },
  {
   "cell_type": "code",
   "execution_count": null,
   "metadata": {
    "ExecuteTime": {
     "end_time": "2020-07-01T06:24:34.628078Z",
     "start_time": "2020-07-01T06:24:07.312Z"
    }
   },
   "outputs": [],
   "source": [
    "# 12. 모델의 성능 개선 \n",
    "\n",
    "concrete_model2 <- neuralnet(formula=strength ~ cement + slag + ash  +\n",
    "                               water +superplastic + coarseagg  + fineagg  + age, data =concrete_train , hidden=c(5,2) )  \n",
    "\n",
    "#hidden=  c(5,  2) \n",
    "#           ↑   ↑\n",
    "#  은닉1층 5개  은닉2층 2개 \n",
    "\n",
    "plot(concrete_model2)"
   ]
  },
  {
   "cell_type": "markdown",
   "metadata": {},
   "source": [
    "![hidden](hidden(5,2).png)"
   ]
  },
  {
   "cell_type": "code",
   "execution_count": 2,
   "metadata": {
    "ExecuteTime": {
     "end_time": "2020-07-01T06:25:42.956895Z",
     "start_time": "2020-07-01T06:25:42.908Z"
    }
   },
   "outputs": [
    {
     "data": {
      "text/html": [
       "<table>\n",
       "<tbody>\n",
       "\t<tr><td>0.9292545</td></tr>\n",
       "</tbody>\n",
       "</table>\n"
      ],
      "text/latex": [
       "\\begin{tabular}{l}\n",
       "\t 0.9292545\\\\\n",
       "\\end{tabular}\n"
      ],
      "text/markdown": [
       "\n",
       "| 0.9292545 |\n",
       "\n"
      ],
      "text/plain": [
       "     [,1]     \n",
       "[1,] 0.9292545"
      ]
     },
     "metadata": {},
     "output_type": "display_data"
    }
   ],
   "source": [
    "# 13. 위에서 만든 모델로 테스트를 수행한다. \n",
    "\n",
    "model_results <-  compute(concrete_model2, concrete_test[1:8])\n",
    "predicted_strength2 <-  model_results$net.result\n",
    "\n",
    "# 14.  예측값과 실제값간의 상관관계를 확인 \n",
    "\n",
    "cor(predicted_strength2, concrete_test$strength)"
   ]
  },
  {
   "cell_type": "markdown",
   "metadata": {},
   "source": [
    "### ※ 문제273. 위의 인공신경망의 층수와 뉴런수를 조정해서 콘크리스 강도 예측 신경망의 성능을 올리시오"
   ]
  },
  {
   "cell_type": "code",
   "execution_count": 5,
   "metadata": {
    "ExecuteTime": {
     "end_time": "2020-07-01T06:29:54.216769Z",
     "start_time": "2020-07-01T06:29:26.584Z"
    }
   },
   "outputs": [
    {
     "data": {
      "text/html": [
       "<table>\n",
       "<tbody>\n",
       "\t<tr><td>0.939223</td></tr>\n",
       "</tbody>\n",
       "</table>\n"
      ],
      "text/latex": [
       "\\begin{tabular}{l}\n",
       "\t 0.939223\\\\\n",
       "\\end{tabular}\n"
      ],
      "text/markdown": [
       "\n",
       "| 0.939223 |\n",
       "\n"
      ],
      "text/plain": [
       "     [,1]    \n",
       "[1,] 0.939223"
      ]
     },
     "metadata": {},
     "output_type": "display_data"
    }
   ],
   "source": [
    "concrete_model3 <- neuralnet(formula=strength ~ cement + slag + ash  +\n",
    "                               water +superplastic + coarseagg  + fineagg  + age, data =concrete_train , hidden=c(6,5,4,3,2) )  \n",
    "\n",
    "model_results <-  compute(concrete_model3, concrete_test[1:8])\n",
    "predicted_strength3 <-  model_results$net.result\n",
    "\n",
    "# 14.  예측값과 실제값간의 상관관계를 확인 \n",
    "\n",
    "cor(predicted_strength3, concrete_test$strength)"
   ]
  },
  {
   "cell_type": "code",
   "execution_count": null,
   "metadata": {},
   "outputs": [],
   "source": []
  },
  {
   "cell_type": "code",
   "execution_count": null,
   "metadata": {},
   "outputs": [],
   "source": []
  }
 ],
 "metadata": {
  "kernelspec": {
   "display_name": "R",
   "language": "R",
   "name": "ir"
  },
  "language_info": {
   "codemirror_mode": "r",
   "file_extension": ".r",
   "mimetype": "text/x-r-source",
   "name": "R",
   "pygments_lexer": "r",
   "version": "3.6.1"
  },
  "toc": {
   "base_numbering": 1,
   "nav_menu": {},
   "number_sections": true,
   "sideBar": true,
   "skip_h1_title": false,
   "title_cell": "Table of Contents",
   "title_sidebar": "Contents",
   "toc_cell": false,
   "toc_position": {},
   "toc_section_display": true,
   "toc_window_display": false
  },
  "varInspector": {
   "cols": {
    "lenName": 16,
    "lenType": 16,
    "lenVar": 40
   },
   "kernels_config": {
    "python": {
     "delete_cmd_postfix": "",
     "delete_cmd_prefix": "del ",
     "library": "var_list.py",
     "varRefreshCmd": "print(var_dic_list())"
    },
    "r": {
     "delete_cmd_postfix": ") ",
     "delete_cmd_prefix": "rm(",
     "library": "var_list.r",
     "varRefreshCmd": "cat(var_dic_list()) "
    }
   },
   "types_to_exclude": [
    "module",
    "function",
    "builtin_function_or_method",
    "instance",
    "_Feature"
   ],
   "window_display": false
  }
 },
 "nbformat": 4,
 "nbformat_minor": 4
}
