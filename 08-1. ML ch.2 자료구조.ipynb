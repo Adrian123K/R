{
 "cells": [
  {
   "cell_type": "markdown",
   "metadata": {},
   "source": [
    "## ■ R을 활용한 ML 2장\n",
    "### 3장부터 시작할 머신러닝 데이터 분석을 위해 데이터를 보는 방법과 머신러닝을 위해 데이터를 볼 때 필요한 함수들을 소개"
   ]
  },
  {
   "cell_type": "markdown",
   "metadata": {},
   "source": [
    "### □ 소목차\n",
    "#### 1. R의 자료구조의 종류\n",
    "#### 2. R에서 데이터를 로드하는 4가지 방법\n",
    "#### 3. 데이터의 전반적인 관찰(평균, 중앙, 최빈, 표준편차, 분산)\n",
    "#### 4. 수치형 데이터 살펴보기(히스토그램, 정규분포)\n",
    "#### 5. 범주형 데이터 살펴보기(산포도 그래프)\n",
    "#### 6. CrossTable(이원교차표)\n",
    "#### 7. 데이터 분석을 편하게 -> shiny 자동화 스크립트 개선2"
   ]
  },
  {
   "cell_type": "markdown",
   "metadata": {},
   "source": [
    "## ◆ 1. R의 자료구조의 종류\n",
    "    1. 벡터(vector)\n",
    "    2. 행렬(matrix)\n",
    "    3. 배열(array)\n",
    "    4. 데이터프레임(dataFrame)\n",
    "    5. 리스트(list)"
   ]
  },
  {
   "cell_type": "markdown",
   "metadata": {},
   "source": [
    "### ◇ 1. 벡터(vector)\n",
    "    같은 데이터 타입을 갖는 1차원 배열구조\n",
    "    c() 를 이용해서 구조 생성 가능"
   ]
  },
  {
   "cell_type": "code",
   "execution_count": 3,
   "metadata": {
    "ExecuteTime": {
     "end_time": "2020-06-19T02:00:35.910189Z",
     "start_time": "2020-06-19T02:00:35.875Z"
    }
   },
   "outputs": [
    {
     "name": "stdout",
     "output_type": "stream",
     "text": [
      "[1] 1 2 3 4 5\n",
      " num [1:5] 1 2 3 4 5\n"
     ]
    }
   ],
   "source": [
    "a<-c(1,2,3,4,5)\n",
    "print(a)\n",
    "str(a)"
   ]
  },
  {
   "cell_type": "markdown",
   "metadata": {},
   "source": [
    "### ※ 문제165. 아래의 숫자들을 출력하는 vector들을 생성하시오\n",
    "    1  2  3  4  5  6  7  8  9  10  11  12  13  14  15  16 ... 20"
   ]
  },
  {
   "cell_type": "code",
   "execution_count": 7,
   "metadata": {
    "ExecuteTime": {
     "end_time": "2020-06-19T02:02:09.753351Z",
     "start_time": "2020-06-19T02:02:09.720Z"
    }
   },
   "outputs": [
    {
     "name": "stdout",
     "output_type": "stream",
     "text": [
      " [1]  1  2  3  4  5  6  7  8  9 10 11 12 13 14 15 16 17 18 19 20\n"
     ]
    }
   ],
   "source": [
    "v<-c(1:20)\n",
    "print(v)"
   ]
  },
  {
   "cell_type": "markdown",
   "metadata": {},
   "source": [
    "### ※ 문제166. 아래의 숫자들을 출력하는 vector들을 생성하시오\n",
    "    1 1 1 1 1  2 2 2 2 2 2  3 3 3 3 3 3 3 3  4 4 4 4 4 4"
   ]
  },
  {
   "cell_type": "code",
   "execution_count": 10,
   "metadata": {
    "ExecuteTime": {
     "end_time": "2020-06-19T02:04:08.368828Z",
     "start_time": "2020-06-19T02:04:08.337Z"
    }
   },
   "outputs": [
    {
     "name": "stdout",
     "output_type": "stream",
     "text": [
      " [1] 1 1 1 1 1 2 2 2 2 2 2 3 3 3 3 3 3 3 3 4 4 4 4 4 4\n"
     ]
    }
   ],
   "source": [
    "v2<-c(rep(1,5),rep(2,6),rep(3,8),rep(4,6))\n",
    "print(v2)"
   ]
  },
  {
   "cell_type": "markdown",
   "metadata": {},
   "source": [
    "### ※ 문제167. 아래와 같이 출력하시오\n",
    "    jones jones jones jones king king king scott"
   ]
  },
  {
   "cell_type": "code",
   "execution_count": 13,
   "metadata": {
    "ExecuteTime": {
     "end_time": "2020-06-19T02:07:54.937212Z",
     "start_time": "2020-06-19T02:07:54.907Z"
    }
   },
   "outputs": [
    {
     "name": "stdout",
     "output_type": "stream",
     "text": [
      "[1] \"jones\" \"jones\" \"jones\" \"jones\" \"king\"  \"king\"  \"king\"  \"scott\"\n"
     ]
    }
   ],
   "source": [
    "v3<-c(rep('jones',4),rep('king',3),'scott')\n",
    "print(v3)"
   ]
  },
  {
   "cell_type": "code",
   "execution_count": 14,
   "metadata": {
    "ExecuteTime": {
     "end_time": "2020-06-19T02:07:55.888570Z",
     "start_time": "2020-06-19T02:07:55.848Z"
    }
   },
   "outputs": [
    {
     "data": {
      "text/plain": [
       "v3\n",
       "jones  king scott \n",
       "    4     3     1 "
      ]
     },
     "metadata": {},
     "output_type": "display_data"
    }
   ],
   "source": [
    "table(v3)"
   ]
  },
  {
   "cell_type": "markdown",
   "metadata": {},
   "source": [
    "### ※ 문제168. 위의 결과에서 scott을 제외하고 출력하시오"
   ]
  },
  {
   "cell_type": "code",
   "execution_count": 22,
   "metadata": {
    "ExecuteTime": {
     "end_time": "2020-06-19T02:10:05.686742Z",
     "start_time": "2020-06-19T02:10:05.655Z"
    }
   },
   "outputs": [
    {
     "data": {
      "text/plain": [
       "v3\n",
       "jones  king \n",
       "    4     3 "
      ]
     },
     "metadata": {},
     "output_type": "display_data"
    }
   ],
   "source": [
    "x<-table(v3)\n",
    "x[-3]"
   ]
  },
  {
   "cell_type": "markdown",
   "metadata": {},
   "source": [
    "#### ※ factor = vector + level, 순위 데이터를 모델링하는 머신러닝 알고리즘은 순서 factor를 기대"
   ]
  },
  {
   "cell_type": "code",
   "execution_count": 25,
   "metadata": {
    "ExecuteTime": {
     "end_time": "2020-06-19T02:15:05.359866Z",
     "start_time": "2020-06-19T02:15:05.330Z"
    }
   },
   "outputs": [
    {
     "name": "stdout",
     "output_type": "stream",
     "text": [
      " chr [1:3] \"middle\" \"low\" \"high\"\n"
     ]
    }
   ],
   "source": [
    "f1<-c('middle','low','high')\n",
    "str(f1)"
   ]
  },
  {
   "cell_type": "code",
   "execution_count": 26,
   "metadata": {
    "ExecuteTime": {
     "end_time": "2020-06-19T02:15:05.499476Z",
     "start_time": "2020-06-19T02:15:05.470Z"
    }
   },
   "outputs": [
    {
     "name": "stdout",
     "output_type": "stream",
     "text": [
      " Factor w/ 3 levels \"high\",\"low\",\"middle\": 3 2 1\n"
     ]
    }
   ],
   "source": [
    "f2<-factor(f1) # vector를 factor로 변환\n",
    "str(f2) \n",
    "# Factor w/ 3 levels \"high\",\"low\",\"middle\": 3 2 1 <- 알파벳 순으로 level이 자동 지정"
   ]
  },
  {
   "cell_type": "code",
   "execution_count": 31,
   "metadata": {
    "ExecuteTime": {
     "end_time": "2020-06-19T02:18:05.764946Z",
     "start_time": "2020-06-19T02:18:05.732Z"
    }
   },
   "outputs": [
    {
     "name": "stdout",
     "output_type": "stream",
     "text": [
      " Ord.factor w/ 3 levels \"low\"<\"middle\"<..: 2 1 3\n"
     ]
    }
   ],
   "source": [
    "f3<-factor(f1, order=T, level=c('low','middle','high')) # level을 지정하여 순위 부여가 가능\n",
    "str(f3)"
   ]
  },
  {
   "cell_type": "code",
   "execution_count": 34,
   "metadata": {
    "ExecuteTime": {
     "end_time": "2020-06-19T02:18:37.909618Z",
     "start_time": "2020-06-19T02:18:37.875Z"
    }
   },
   "outputs": [
    {
     "name": "stdout",
     "output_type": "stream",
     "text": [
      "[1] high\n",
      "Levels: low < middle < high\n",
      "[1] low\n",
      "Levels: low < middle < high\n"
     ]
    }
   ],
   "source": [
    "print(max(f3))\n",
    "print(min(f3))"
   ]
  },
  {
   "cell_type": "markdown",
   "metadata": {},
   "source": [
    "### ※ 문제169. 위에서 만든 f3의 factor의 요소를 출력하는데 아래와 같이 정렬되게해서 출력하시오 ! \n",
    "    high middle low\n",
    "    low middle high"
   ]
  },
  {
   "cell_type": "code",
   "execution_count": 39,
   "metadata": {
    "ExecuteTime": {
     "end_time": "2020-06-19T02:21:41.777398Z",
     "start_time": "2020-06-19T02:21:41.737Z"
    }
   },
   "outputs": [
    {
     "name": "stdout",
     "output_type": "stream",
     "text": [
      "[1] high   middle low   \n",
      "Levels: low < middle < high\n",
      "[1] low    middle high  \n",
      "Levels: low < middle < high\n"
     ]
    }
   ],
   "source": [
    "print(f3[order(f3,decreasing=T)])\n",
    "print(f3[order(f3,decreasing=F)])"
   ]
  },
  {
   "cell_type": "markdown",
   "metadata": {},
   "source": [
    "### 팩터 (factor)\n",
    "```\n",
    "   1. 범주(값의 목록) 을 갖는 vector \n",
    "   2. factor() 함수를 통해서 생성 \n",
    "   3. factor 는 nominal(범주) , ordinal(순서) 형식 2가지가 존재한다. \n",
    "   4. nominal은 level 순서의 값이 무의미하며 알파벳 순서로 정의\n",
    "   5. ordinal은 level 순서의 값을 직접 정의해서 원하는 순서를 정할 수 있다.\n",
    "   ```"
   ]
  },
  {
   "cell_type": "markdown",
   "metadata": {},
   "source": [
    "#### 팩터를 이용했을 때 장점 2가지\n",
    "    1. 레벨을 지정할 수  있기 때문에 데이터 목록을 전부 확인할 수 있다.\n",
    "    2. 순서를 지정할 수 있어서 크고 작음을 나타낼 수 있다. "
   ]
  },
  {
   "cell_type": "code",
   "execution_count": 41,
   "metadata": {
    "ExecuteTime": {
     "end_time": "2020-06-19T02:45:20.634252Z",
     "start_time": "2020-06-19T02:45:20.595Z"
    }
   },
   "outputs": [
    {
     "name": "stdout",
     "output_type": "stream",
     "text": [
      "[1] O  AB\n",
      "Levels: A B AB O\n"
     ]
    }
   ],
   "source": [
    "blood <- factor( c(\"O\",\"AB\",\"A\"), levels=c(\"A\",\"B\",\"AB\",\"O\"))\n",
    "print(blood[1:2])"
   ]
  },
  {
   "cell_type": "code",
   "execution_count": 46,
   "metadata": {
    "ExecuteTime": {
     "end_time": "2020-06-19T02:48:58.707536Z",
     "start_time": "2020-06-19T02:48:58.673Z"
    }
   },
   "outputs": [
    {
     "name": "stdout",
     "output_type": "stream",
     "text": [
      "[1] SEVERE   MILD     MODERATE\n",
      "Levels: MILD < MODERATE < SEVERE\n",
      "[1]  TRUE FALSE FALSE\n"
     ]
    }
   ],
   "source": [
    "symptoms <- factor( c(\"SEVERE\",\"MILD\",\"MODERATE\"),\n",
    "                    levels=c(\"MILD\",\"MODERATE\",\"SEVERE\"),\n",
    "                    ordered = TRUE) \n",
    "print(symptoms)\n",
    "print(symptoms>\"MODERATE\")"
   ]
  },
  {
   "cell_type": "markdown",
   "metadata": {},
   "source": [
    "### ◇ 리스트(list)\n",
    "```\n",
    "    - 서로 다른 데이터 구조(vector, data frame, array, list)의 중첩된 구조 \n",
    "    - list() 함수를 이용해서 데이터 구조를 중첩할 수 있다.\n",
    "    ```\n",
    "```\n",
    "    백터는 모든 항목이 같은 타입이어야 하는 반면, \n",
    "    리스트는 수집될 항목이 다른 타입이어도 된다. \n",
    "    이런 유연함 때문에 리스트는 다양한 타입의 입출력 데이터와 머신러닝 모델의 설정 파라미터 집합을 저장하는데 자주 사용된다.\n",
    "  ```"
   ]
  },
  {
   "cell_type": "markdown",
   "metadata": {},
   "source": [
    "※ 예제\n",
    "```\n",
    "    성별   카드유무   리뷰유무   급여   구매여부(정답)\n",
    "     남       Y         Y       280      Y\n",
    "     여       Y         N       300      N\n",
    "```\n",
    "#### 머신러닝 모델을 토대로 학습"
   ]
  },
  {
   "cell_type": "markdown",
   "metadata": {},
   "source": [
    "### ◇ 데이터 프레임(Data Frame)\n",
    "    - 각기 다른 데이터 타입을 갖는 컬럼으로 이루어진 2차원 테이블  구조 \n",
    "    - 데이터의 행과 열을 갖고 있기 때문에 스프레드시트나 데이터베이스와 유사한 구조이다. \n",
    "    - data.frame()  함수를 이용하여 생성하며 각 컬럼, 행의 이름을 지정할 수 있다."
   ]
  },
  {
   "cell_type": "markdown",
   "metadata": {},
   "source": [
    "### ※ 문제170. 데이터 시각화 자동화 구현 코드에 데이터 프레임을 볼 수 있는 코드를 추가하고 실행하시오\n",
    "```\n",
    "사이드 바에 추가\n",
    "  menuItem(\"Table\",\n",
    "             menuSubItem('Tableformat',tabName='tableformat') ),\n",
    "\n",
    "ui 쪽에 body 에\n",
    "  tabItems(\n",
    "    ##### table_format\n",
    "    tabItem(tabName = \"tableformat\",\n",
    "            mainPanel(\n",
    "              DT::dataTableOutput(\"table\")\n",
    "            )\n",
    "    )\n",
    " ),\n",
    "\n",
    "서버쪽에 \n",
    "  ####table_format\n",
    "  output$table <- DT::renderDataTable(DT::datatable({\n",
    "    req(input$file1)\n",
    "    file1 = input$file1\n",
    "    data1 = read.csv(file1$datapath)\n",
    "  }))\n",
    "  ```"
   ]
  },
  {
   "cell_type": "code",
   "execution_count": 52,
   "metadata": {
    "ExecuteTime": {
     "end_time": "2020-06-19T04:47:46.565466Z",
     "start_time": "2020-06-19T04:47:46.532Z"
    }
   },
   "outputs": [
    {
     "data": {
      "text/html": [
       "<table>\n",
       "<thead><tr><th scope=col>x</th><th scope=col>y</th></tr></thead>\n",
       "<tbody>\n",
       "\t<tr><td>1 </td><td> 2</td></tr>\n",
       "\t<tr><td>2 </td><td> 3</td></tr>\n",
       "\t<tr><td>3 </td><td> 4</td></tr>\n",
       "\t<tr><td>4 </td><td> 5</td></tr>\n",
       "\t<tr><td>5 </td><td>10</td></tr>\n",
       "</tbody>\n",
       "</table>\n"
      ],
      "text/latex": [
       "\\begin{tabular}{r|ll}\n",
       " x & y\\\\\n",
       "\\hline\n",
       "\t 1  &  2\\\\\n",
       "\t 2  &  3\\\\\n",
       "\t 3  &  4\\\\\n",
       "\t 4  &  5\\\\\n",
       "\t 5  & 10\\\\\n",
       "\\end{tabular}\n"
      ],
      "text/markdown": [
       "\n",
       "| x | y |\n",
       "|---|---|\n",
       "| 1  |  2 |\n",
       "| 2  |  3 |\n",
       "| 3  |  4 |\n",
       "| 4  |  5 |\n",
       "| 5  | 10 |\n",
       "\n"
      ],
      "text/plain": [
       "  x y \n",
       "1 1  2\n",
       "2 2  3\n",
       "3 3  4\n",
       "4 4  5\n",
       "5 5 10"
      ]
     },
     "metadata": {},
     "output_type": "display_data"
    }
   ],
   "source": [
    "k1<-data.frame(x=c(1,2,3,4,5),y=c(2,3,4,5,10))\n",
    "k1"
   ]
  },
  {
   "cell_type": "markdown",
   "metadata": {},
   "source": [
    "### ※ 문제171. 위의 k1 데이터프레임에서 맨 아래쪽행인 5 10 을 출력하시오"
   ]
  },
  {
   "cell_type": "code",
   "execution_count": 54,
   "metadata": {
    "ExecuteTime": {
     "end_time": "2020-06-19T04:48:02.113388Z",
     "start_time": "2020-06-19T04:48:02.083Z"
    }
   },
   "outputs": [
    {
     "data": {
      "text/html": [
       "<table>\n",
       "<thead><tr><th></th><th scope=col>x</th><th scope=col>y</th></tr></thead>\n",
       "<tbody>\n",
       "\t<tr><th scope=row>5</th><td>5 </td><td>10</td></tr>\n",
       "</tbody>\n",
       "</table>\n"
      ],
      "text/latex": [
       "\\begin{tabular}{r|ll}\n",
       "  & x & y\\\\\n",
       "\\hline\n",
       "\t5 & 5  & 10\\\\\n",
       "\\end{tabular}\n"
      ],
      "text/markdown": [
       "\n",
       "| <!--/--> | x | y |\n",
       "|---|---|---|\n",
       "| 5 | 5  | 10 |\n",
       "\n"
      ],
      "text/plain": [
       "  x y \n",
       "5 5 10"
      ]
     },
     "metadata": {},
     "output_type": "display_data"
    }
   ],
   "source": [
    "k1[5,1:2]"
   ]
  },
  {
   "cell_type": "markdown",
   "metadata": {},
   "source": [
    "### ※ 문제172. 위의 k1 데이터프레임에서 10만 출력하시오"
   ]
  },
  {
   "cell_type": "code",
   "execution_count": 56,
   "metadata": {
    "ExecuteTime": {
     "end_time": "2020-06-19T04:49:21.520166Z",
     "start_time": "2020-06-19T04:49:21.487Z"
    }
   },
   "outputs": [
    {
     "name": "stdout",
     "output_type": "stream",
     "text": [
      "[1] 10\n"
     ]
    }
   ],
   "source": [
    "print(k1[5,2])"
   ]
  },
  {
   "cell_type": "markdown",
   "metadata": {},
   "source": [
    "```\n",
    "  책 76페이지  data frame 구성시 옵션중에 stringAsFactors=FALSE 라는 옵션이 있는데 만약 이 옵션을 명시하지 않는다면 \n",
    "  R 은 모든 문자 백터를 팩터로 자동 변환한다. \n",
    "  전부 factor 로 변환할 필요는 없고 변환이 필요한 컬럼만 변환하면 되기 때문에 \n",
    "  stringAsFactors를 false 로 지정할 필요가 있다.\n",
    "  ```"
   ]
  },
  {
   "cell_type": "code",
   "execution_count": 63,
   "metadata": {
    "ExecuteTime": {
     "end_time": "2020-06-19T04:57:34.833049Z",
     "start_time": "2020-06-19T04:57:34.784Z"
    }
   },
   "outputs": [
    {
     "name": "stdout",
     "output_type": "stream",
     "text": [
      "'data.frame':\t14 obs. of  9 variables:\n",
      " $ index   : int  1 2 3 4 5 6 7 8 9 10 ...\n",
      " $ empno   : int  7839 7698 7782 7566 7654 7499 7844 7900 7521 7902 ...\n",
      " $ ename   : Factor w/ 14 levels \"ADAMS\",\"ALLEN\",..: 8 3 4 7 9 2 13 6 14 5 ...\n",
      " $ job     : Factor w/ 5 levels \"ANALYST\",\"CLERK\",..: 4 3 3 3 5 5 5 2 5 1 ...\n",
      " $ mgr     : int  NA 7839 7839 7839 7698 7698 7698 7698 7698 7566 ...\n",
      " $ hiredate: Factor w/ 13 levels \"1980-12-09 0:00\",..: 9 5 6 4 8 2 7 10 3 10 ...\n",
      " $ sal     : int  5000 2850 2450 2975 1250 1600 1500 950 1250 3000 ...\n",
      " $ comm    : int  NA NA NA NA 1400 300 0 NA 500 NA ...\n",
      " $ deptno  : int  10 30 10 20 30 30 30 30 30 20 ...\n",
      "'data.frame':\t4 obs. of  3 variables:\n",
      " $ deptno: int  10 20 30 40\n",
      " $ dname : Factor w/ 4 levels \"ACCOUNTING\",\"OPERATIONS\",..: 1 3 4 2\n",
      " $ loc   : Factor w/ 4 levels \"BOSTON\",\"CHICAGO\",..: 4 3 2 1\n"
     ]
    }
   ],
   "source": [
    "emp<-read.csv(\"emp3.csv\",head=T)\n",
    "dept<-read.csv('dept.csv',head=T)\n",
    "str(emp)\n",
    "str(dept)"
   ]
  },
  {
   "cell_type": "markdown",
   "metadata": {},
   "source": [
    "### ◇ 행렬(matrix)\n",
    "     - 같은 데이터 타입을 갖는 2차원 배열구조 \n",
    "     - matrix() 함수를 사용해서 vector 값과 표시할 행과 열을 지정 "
   ]
  },
  {
   "cell_type": "code",
   "execution_count": 64,
   "metadata": {
    "ExecuteTime": {
     "end_time": "2020-06-19T05:00:18.045478Z",
     "start_time": "2020-06-19T05:00:17.997Z"
    }
   },
   "outputs": [
    {
     "data": {
      "text/html": [
       "<table>\n",
       "<tbody>\n",
       "\t<tr><td>1</td><td>4</td><td>7</td></tr>\n",
       "\t<tr><td>2</td><td>5</td><td>8</td></tr>\n",
       "\t<tr><td>3</td><td>6</td><td>9</td></tr>\n",
       "</tbody>\n",
       "</table>\n"
      ],
      "text/latex": [
       "\\begin{tabular}{lll}\n",
       "\t 1 & 4 & 7\\\\\n",
       "\t 2 & 5 & 8\\\\\n",
       "\t 3 & 6 & 9\\\\\n",
       "\\end{tabular}\n"
      ],
      "text/markdown": [
       "\n",
       "| 1 | 4 | 7 |\n",
       "| 2 | 5 | 8 |\n",
       "| 3 | 6 | 9 |\n",
       "\n"
      ],
      "text/plain": [
       "     [,1] [,2] [,3]\n",
       "[1,] 1    4    7   \n",
       "[2,] 2    5    8   \n",
       "[3,] 3    6    9   "
      ]
     },
     "metadata": {},
     "output_type": "display_data"
    },
    {
     "data": {
      "text/html": [
       "<table>\n",
       "<tbody>\n",
       "\t<tr><td>1</td><td>2</td><td>3</td></tr>\n",
       "\t<tr><td>4</td><td>5</td><td>6</td></tr>\n",
       "\t<tr><td>7</td><td>8</td><td>9</td></tr>\n",
       "</tbody>\n",
       "</table>\n"
      ],
      "text/latex": [
       "\\begin{tabular}{lll}\n",
       "\t 1 & 2 & 3\\\\\n",
       "\t 4 & 5 & 6\\\\\n",
       "\t 7 & 8 & 9\\\\\n",
       "\\end{tabular}\n"
      ],
      "text/markdown": [
       "\n",
       "| 1 | 2 | 3 |\n",
       "| 4 | 5 | 6 |\n",
       "| 7 | 8 | 9 |\n",
       "\n"
      ],
      "text/plain": [
       "     [,1] [,2] [,3]\n",
       "[1,] 1    2    3   \n",
       "[2,] 4    5    6   \n",
       "[3,] 7    8    9   "
      ]
     },
     "metadata": {},
     "output_type": "display_data"
    }
   ],
   "source": [
    "matrix( c(1:9), nrow=3, ncol=3 ) \n",
    "matrix( c(1:9), nrow=3, ncol=3, byrow=T) "
   ]
  },
  {
   "cell_type": "markdown",
   "metadata": {},
   "source": [
    "### ※ 문제173. 아래의 행렬합을 구현하시오 !\n",
    "$$ \\begin{pmatrix}\n",
    "    1 & 2 & 3 \\\\\n",
    "    4 & 5 & 6 \\\\\n",
    "    7 & 8 & 9 \\\\\n",
    "\\end{pmatrix}+\n",
    "\\begin{pmatrix}\n",
    "    1 & 4 & 7 \\\\\n",
    "    2 & 5 & 8 \\\\\n",
    "    3 & 6 & 9 \\\\\n",
    "    \\end{pmatrix}$$"
   ]
  },
  {
   "cell_type": "code",
   "execution_count": 65,
   "metadata": {
    "ExecuteTime": {
     "end_time": "2020-06-19T05:04:00.928873Z",
     "start_time": "2020-06-19T05:04:00.891Z"
    },
    "scrolled": true
   },
   "outputs": [
    {
     "data": {
      "text/html": [
       "<table>\n",
       "<tbody>\n",
       "\t<tr><td> 2</td><td> 6</td><td>10</td></tr>\n",
       "\t<tr><td> 6</td><td>10</td><td>14</td></tr>\n",
       "\t<tr><td>10</td><td>14</td><td>18</td></tr>\n",
       "</tbody>\n",
       "</table>\n"
      ],
      "text/latex": [
       "\\begin{tabular}{lll}\n",
       "\t  2 &  6 & 10\\\\\n",
       "\t  6 & 10 & 14\\\\\n",
       "\t 10 & 14 & 18\\\\\n",
       "\\end{tabular}\n"
      ],
      "text/markdown": [
       "\n",
       "|  2 |  6 | 10 |\n",
       "|  6 | 10 | 14 |\n",
       "| 10 | 14 | 18 |\n",
       "\n"
      ],
      "text/plain": [
       "     [,1] [,2] [,3]\n",
       "[1,]  2    6   10  \n",
       "[2,]  6   10   14  \n",
       "[3,] 10   14   18  "
      ]
     },
     "metadata": {},
     "output_type": "display_data"
    }
   ],
   "source": [
    "a<-matrix(c(1:9),nrow=3, ncol=3, byrow=T)\n",
    "b<-matrix(c(1:9),nrow=3, ncol=3)\n",
    "a+b"
   ]
  },
  {
   "cell_type": "markdown",
   "metadata": {},
   "source": [
    "### ※ 문제174. 아래의 행렬곱을 구현하시오 !\n",
    "$$ \\begin{pmatrix}\n",
    "    1 & 2 & 3 \\\\\n",
    "    4 & 5 & 6 \\\\\n",
    "    7 & 8 & 9 \\\\\n",
    "\\end{pmatrix}+\n",
    "\\begin{pmatrix}\n",
    "    1 & 4 & 7 \\\\\n",
    "    2 & 5 & 8 \\\\\n",
    "    3 & 6 & 9 \\\\\n",
    "    \\end{pmatrix}$$"
   ]
  },
  {
   "cell_type": "code",
   "execution_count": 66,
   "metadata": {
    "ExecuteTime": {
     "end_time": "2020-06-19T05:04:19.863626Z",
     "start_time": "2020-06-19T05:04:19.820Z"
    }
   },
   "outputs": [
    {
     "data": {
      "text/html": [
       "<table>\n",
       "<tbody>\n",
       "\t<tr><td> 1</td><td> 8</td><td>21</td></tr>\n",
       "\t<tr><td> 8</td><td>25</td><td>48</td></tr>\n",
       "\t<tr><td>21</td><td>48</td><td>81</td></tr>\n",
       "</tbody>\n",
       "</table>\n"
      ],
      "text/latex": [
       "\\begin{tabular}{lll}\n",
       "\t  1 &  8 & 21\\\\\n",
       "\t  8 & 25 & 48\\\\\n",
       "\t 21 & 48 & 81\\\\\n",
       "\\end{tabular}\n"
      ],
      "text/markdown": [
       "\n",
       "|  1 |  8 | 21 |\n",
       "|  8 | 25 | 48 |\n",
       "| 21 | 48 | 81 |\n",
       "\n"
      ],
      "text/plain": [
       "     [,1] [,2] [,3]\n",
       "[1,]  1    8   21  \n",
       "[2,]  8   25   48  \n",
       "[3,] 21   48   81  "
      ]
     },
     "metadata": {},
     "output_type": "display_data"
    }
   ],
   "source": [
    "a*b"
   ]
  },
  {
   "cell_type": "markdown",
   "metadata": {},
   "source": [
    "### ※ 문제175. 아래의 행렬의 내적을 출력하시오\n",
    "$$ \\begin{pmatrix}\n",
    "    1 & 2 & 3 \\\\\n",
    "    4 & 5 & 6 \\\\\n",
    "    7 & 8 & 9 \\\\\n",
    "\\end{pmatrix}◎\n",
    "\\begin{pmatrix}\n",
    "    1 & 4 & 7 \\\\\n",
    "    2 & 5 & 8 \\\\\n",
    "    3 & 6 & 9 \\\\\n",
    "    \\end{pmatrix}$$"
   ]
  },
  {
   "cell_type": "code",
   "execution_count": 67,
   "metadata": {
    "ExecuteTime": {
     "end_time": "2020-06-19T05:06:18.723132Z",
     "start_time": "2020-06-19T05:06:18.656Z"
    }
   },
   "outputs": [
    {
     "data": {
      "text/html": [
       "<table>\n",
       "<tbody>\n",
       "\t<tr><td>14 </td><td> 32</td><td> 50</td></tr>\n",
       "\t<tr><td>32 </td><td> 77</td><td>122</td></tr>\n",
       "\t<tr><td>50 </td><td>122</td><td>194</td></tr>\n",
       "</tbody>\n",
       "</table>\n"
      ],
      "text/latex": [
       "\\begin{tabular}{lll}\n",
       "\t 14  &  32 &  50\\\\\n",
       "\t 32  &  77 & 122\\\\\n",
       "\t 50  & 122 & 194\\\\\n",
       "\\end{tabular}\n"
      ],
      "text/markdown": [
       "\n",
       "| 14  |  32 |  50 |\n",
       "| 32  |  77 | 122 |\n",
       "| 50  | 122 | 194 |\n",
       "\n"
      ],
      "text/plain": [
       "     [,1] [,2] [,3]\n",
       "[1,] 14    32   50 \n",
       "[2,] 32    77  122 \n",
       "[3,] 50   122  194 "
      ]
     },
     "metadata": {},
     "output_type": "display_data"
    }
   ],
   "source": [
    "a%*%b"
   ]
  },
  {
   "cell_type": "markdown",
   "metadata": {},
   "source": [
    "### ◇ 배열(array)\n",
    "    - 같은 데이터 타입을 갖는 다차원 배열 구조 \n",
    "    - matrix 는 2차원 행렬이고  array 는 다차원 행렬 \n",
    "    - array() 함수를 이용해서 다차원 배열을 생성할 수 있다."
   ]
  },
  {
   "cell_type": "code",
   "execution_count": 69,
   "metadata": {
    "ExecuteTime": {
     "end_time": "2020-06-19T05:10:04.530349Z",
     "start_time": "2020-06-19T05:10:04.482Z"
    },
    "scrolled": true
   },
   "outputs": [
    {
     "data": {
      "text/html": [
       "<table>\n",
       "<tbody>\n",
       "\t<tr><td>1 </td><td>4 </td><td>7 </td><td>10</td></tr>\n",
       "\t<tr><td>2 </td><td>5 </td><td>8 </td><td>11</td></tr>\n",
       "\t<tr><td>3 </td><td>6 </td><td>9 </td><td>12</td></tr>\n",
       "</tbody>\n",
       "</table>\n"
      ],
      "text/latex": [
       "\\begin{tabular}{llll}\n",
       "\t 1  & 4  & 7  & 10\\\\\n",
       "\t 2  & 5  & 8  & 11\\\\\n",
       "\t 3  & 6  & 9  & 12\\\\\n",
       "\\end{tabular}\n"
      ],
      "text/markdown": [
       "\n",
       "| 1  | 4  | 7  | 10 |\n",
       "| 2  | 5  | 8  | 11 |\n",
       "| 3  | 6  | 9  | 12 |\n",
       "\n"
      ],
      "text/plain": [
       "     [,1] [,2] [,3] [,4]\n",
       "[1,] 1    4    7    10  \n",
       "[2,] 2    5    8    11  \n",
       "[3,] 3    6    9    12  "
      ]
     },
     "metadata": {},
     "output_type": "display_data"
    },
    {
     "data": {
      "text/html": [
       "<ol class=list-inline>\n",
       "\t<li>1</li>\n",
       "\t<li>2</li>\n",
       "\t<li>3</li>\n",
       "\t<li>4</li>\n",
       "\t<li>5</li>\n",
       "\t<li>6</li>\n",
       "\t<li>7</li>\n",
       "\t<li>8</li>\n",
       "\t<li>9</li>\n",
       "\t<li>10</li>\n",
       "\t<li>11</li>\n",
       "\t<li>12</li>\n",
       "</ol>\n"
      ],
      "text/latex": [
       "\\begin{enumerate*}\n",
       "\\item 1\n",
       "\\item 2\n",
       "\\item 3\n",
       "\\item 4\n",
       "\\item 5\n",
       "\\item 6\n",
       "\\item 7\n",
       "\\item 8\n",
       "\\item 9\n",
       "\\item 10\n",
       "\\item 11\n",
       "\\item 12\n",
       "\\end{enumerate*}\n"
      ],
      "text/markdown": [
       "1. 1\n",
       "2. 2\n",
       "3. 3\n",
       "4. 4\n",
       "5. 5\n",
       "6. 6\n",
       "7. 7\n",
       "8. 8\n",
       "9. 9\n",
       "10. 10\n",
       "11. 11\n",
       "12. 12\n",
       "\n",
       "\n"
      ],
      "text/plain": [
       ", , 1\n",
       "\n",
       "     [,1] [,2]\n",
       "[1,]    1    3\n",
       "[2,]    2    4\n",
       "\n",
       ", , 2\n",
       "\n",
       "     [,1] [,2]\n",
       "[1,]    5    7\n",
       "[2,]    6    8\n",
       "\n",
       ", , 3\n",
       "\n",
       "     [,1] [,2]\n",
       "[1,]    9   11\n",
       "[2,]   10   12\n"
      ]
     },
     "metadata": {},
     "output_type": "display_data"
    },
    {
     "data": {
      "text/html": [
       "<ol class=list-inline>\n",
       "\t<li>1</li>\n",
       "\t<li>2</li>\n",
       "\t<li>3</li>\n",
       "\t<li>4</li>\n",
       "\t<li>5</li>\n",
       "\t<li>6</li>\n",
       "\t<li>7</li>\n",
       "\t<li>8</li>\n",
       "\t<li>9</li>\n",
       "\t<li>10</li>\n",
       "\t<li>11</li>\n",
       "\t<li>12</li>\n",
       "\t<li>1</li>\n",
       "\t<li>2</li>\n",
       "\t<li>3</li>\n",
       "\t<li>4</li>\n",
       "</ol>\n"
      ],
      "text/latex": [
       "\\begin{enumerate*}\n",
       "\\item 1\n",
       "\\item 2\n",
       "\\item 3\n",
       "\\item 4\n",
       "\\item 5\n",
       "\\item 6\n",
       "\\item 7\n",
       "\\item 8\n",
       "\\item 9\n",
       "\\item 10\n",
       "\\item 11\n",
       "\\item 12\n",
       "\\item 1\n",
       "\\item 2\n",
       "\\item 3\n",
       "\\item 4\n",
       "\\end{enumerate*}\n"
      ],
      "text/markdown": [
       "1. 1\n",
       "2. 2\n",
       "3. 3\n",
       "4. 4\n",
       "5. 5\n",
       "6. 6\n",
       "7. 7\n",
       "8. 8\n",
       "9. 9\n",
       "10. 10\n",
       "11. 11\n",
       "12. 12\n",
       "13. 1\n",
       "14. 2\n",
       "15. 3\n",
       "16. 4\n",
       "\n",
       "\n"
      ],
      "text/plain": [
       ", , 1, 1\n",
       "\n",
       "     [,1] [,2]\n",
       "[1,]    1    3\n",
       "[2,]    2    4\n",
       "\n",
       ", , 2, 1\n",
       "\n",
       "     [,1] [,2]\n",
       "[1,]    5    7\n",
       "[2,]    6    8\n",
       "\n",
       ", , 1, 2\n",
       "\n",
       "     [,1] [,2]\n",
       "[1,]    9   11\n",
       "[2,]   10   12\n",
       "\n",
       ", , 2, 2\n",
       "\n",
       "     [,1] [,2]\n",
       "[1,]    1    3\n",
       "[2,]    2    4\n"
      ]
     },
     "metadata": {},
     "output_type": "display_data"
    }
   ],
   "source": [
    "array( c(1:12) , dim=c(3,4) )   # 2차원 \n",
    "array( c(1:12) , dim=c(2,2,3) )  # 3차원 \n",
    "array( c(1:12) , dim=c(2,2,2,2) ) # 4차원 "
   ]
  },
  {
   "cell_type": "markdown",
   "metadata": {},
   "source": [
    "## ◆ 1. R의 자료구조의 종류\n",
    "    1. 벡터(vector) --> factor(순서를 갖는 벡터)\n",
    "    2. 행렬(matrix)\n",
    "    3. 배열(array)\n",
    "    4. 데이터프레임(dataFrame)\n",
    "    5. 리스트(list)"
   ]
  }
 ],
 "metadata": {
  "kernelspec": {
   "display_name": "R",
   "language": "R",
   "name": "ir"
  },
  "language_info": {
   "codemirror_mode": "r",
   "file_extension": ".r",
   "mimetype": "text/x-r-source",
   "name": "R",
   "pygments_lexer": "r",
   "version": "3.6.1"
  },
  "toc": {
   "base_numbering": 1,
   "nav_menu": {},
   "number_sections": true,
   "sideBar": true,
   "skip_h1_title": false,
   "title_cell": "Table of Contents",
   "title_sidebar": "Contents",
   "toc_cell": false,
   "toc_position": {},
   "toc_section_display": true,
   "toc_window_display": false
  },
  "varInspector": {
   "cols": {
    "lenName": 16,
    "lenType": 16,
    "lenVar": 40
   },
   "kernels_config": {
    "python": {
     "delete_cmd_postfix": "",
     "delete_cmd_prefix": "del ",
     "library": "var_list.py",
     "varRefreshCmd": "print(var_dic_list())"
    },
    "r": {
     "delete_cmd_postfix": ") ",
     "delete_cmd_prefix": "rm(",
     "library": "var_list.r",
     "varRefreshCmd": "cat(var_dic_list()) "
    }
   },
   "types_to_exclude": [
    "module",
    "function",
    "builtin_function_or_method",
    "instance",
    "_Feature"
   ],
   "window_display": false
  }
 },
 "nbformat": 4,
 "nbformat_minor": 4
}
