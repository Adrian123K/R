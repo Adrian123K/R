{
 "cells": [
  {
   "cell_type": "markdown",
   "metadata": {},
   "source": [
    "## □ kNN 머신러닝 알고리즘을 이용하여 유방암 데이터 분류 데이터 분석\n",
    "    1단계 : 데이터 수집\n",
    "    2단계 : 데이터 탐색과 준비\n",
    "    3단계 : 데이터 모델로 훈련\n",
    "    4단계 : 모델 성능 평가\n",
    "    5단계 : 모델 성능개선"
   ]
  },
  {
   "cell_type": "markdown",
   "metadata": {},
   "source": [
    "### ■ 1단계 : 데이터 수집\n",
    "    569개의 진단 데이터셋이며 암 조직 검사 예시\n",
    "    32개의 특징을 갖고 있으며 디지털 이미지에 존재하는 세포핵의 특성을 나타냄\n",
    "        반지름, 질감, 둘레, 넓이, 매끄러움, 조밀성, 오목함, 오목점, 대칭성, 프랙탈 차원\n",
    "        정답(라벨) : diagnosis(진단) 양성(B) / 악성(M)"
   ]
  },
  {
   "cell_type": "markdown",
   "metadata": {},
   "source": [
    "### ■ 2단계: 데이터 시각화"
   ]
  },
  {
   "cell_type": "code",
   "execution_count": 1,
   "metadata": {
    "ExecuteTime": {
     "end_time": "2020-06-23T06:14:27.605612Z",
     "start_time": "2020-06-23T06:14:27.507Z"
    }
   },
   "outputs": [
    {
     "data": {
      "text/plain": [
       "\n",
       "  B   M \n",
       "357 212 "
      ]
     },
     "metadata": {},
     "output_type": "display_data"
    }
   ],
   "source": [
    "#1. 데이터를 로드 한다.\n",
    "wbcd <- read.csv(\"wisc_bc_data.csv\", header=T,  stringsAsFactors=FALSE)\n",
    "table(wbcd$diagnosis)"
   ]
  },
  {
   "cell_type": "code",
   "execution_count": null,
   "metadata": {},
   "outputs": [],
   "source": [
    "#2. diagnosis 를 factor 로 변환한다\n",
    "wbcd$diagnosis <- factor(wbcd$diagnosis,\n",
    "                          levels =c(\"B\",\"M\"),\n",
    "                   labels = c(\"Benign\",\"Maliganant\"))\n",
    "\n",
    "#3. 데이터를 shuffle 시킨다.\n",
    "wbcd_shuffle <- wbcd[sample(nrow(wbcd)), ]\n",
    "\n",
    "#4. 데이터에서 id 를 제외 시킨다\n",
    "wbcd2 <- wbcd_shuffle[-1]\n",
    "\n",
    "#5. 데이터를 정규화 한다.\n",
    "normalize <- function(x) {\n",
    "      return ( (x-min(x)) / (max(x) - min(x))  )\n",
    "}\n",
    "wbcd_n  <- as.data.frame(lapply(wbcd2[2:31],normalize))\n",
    "\n",
    "#6. train 데이터와 test 데이터로 9 대 1로 나눈다\n",
    "train_num<-round(0.9*nrow(wbcd_n),0)\n",
    "wbcd_train<-wbcd_n[1:train_num,]\n",
    "wbcd_test<-wbcd_n[(train_num+1):nrow(wbcd_n),]\n",
    "\n",
    "#7. train 데이터를 데이터와 라벨로 나누고 test  데이터를 데이터와 라벨로 나누시오 ~\n",
    "wbcd_train_label <- wbcd2[1:train_num,1]\n",
    "wbcd_test_label <- wbcd2[(train_num+1):nrow(wbcd_n),1]\n",
    "\n",
    "#8. knn 모델로 훈련시켜서 모델을 만들고 바로 그 모델에 test 데이터를 넣어서 정확도를 확인한다\n",
    "result1 <- knn(train=wbcd_train, test=wbcd_test, cl=wbcd_train_label, k=21)\n",
    "result1"
   ]
  },
  {
   "cell_type": "code",
   "execution_count": null,
   "metadata": {},
   "outputs": [],
   "source": []
  },
  {
   "cell_type": "code",
   "execution_count": null,
   "metadata": {},
   "outputs": [],
   "source": []
  },
  {
   "cell_type": "code",
   "execution_count": null,
   "metadata": {},
   "outputs": [],
   "source": []
  },
  {
   "cell_type": "code",
   "execution_count": null,
   "metadata": {},
   "outputs": [],
   "source": []
  },
  {
   "cell_type": "code",
   "execution_count": null,
   "metadata": {},
   "outputs": [],
   "source": []
  }
 ],
 "metadata": {
  "kernelspec": {
   "display_name": "R",
   "language": "R",
   "name": "ir"
  },
  "language_info": {
   "codemirror_mode": "r",
   "file_extension": ".r",
   "mimetype": "text/x-r-source",
   "name": "R",
   "pygments_lexer": "r",
   "version": "3.6.1"
  },
  "toc": {
   "base_numbering": 1,
   "nav_menu": {},
   "number_sections": true,
   "sideBar": true,
   "skip_h1_title": false,
   "title_cell": "Table of Contents",
   "title_sidebar": "Contents",
   "toc_cell": false,
   "toc_position": {},
   "toc_section_display": true,
   "toc_window_display": false
  },
  "varInspector": {
   "cols": {
    "lenName": 16,
    "lenType": 16,
    "lenVar": 40
   },
   "kernels_config": {
    "python": {
     "delete_cmd_postfix": "",
     "delete_cmd_prefix": "del ",
     "library": "var_list.py",
     "varRefreshCmd": "print(var_dic_list())"
    },
    "r": {
     "delete_cmd_postfix": ") ",
     "delete_cmd_prefix": "rm(",
     "library": "var_list.r",
     "varRefreshCmd": "cat(var_dic_list()) "
    }
   },
   "types_to_exclude": [
    "module",
    "function",
    "builtin_function_or_method",
    "instance",
    "_Feature"
   ],
   "window_display": false
  }
 },
 "nbformat": 4,
 "nbformat_minor": 4
}
