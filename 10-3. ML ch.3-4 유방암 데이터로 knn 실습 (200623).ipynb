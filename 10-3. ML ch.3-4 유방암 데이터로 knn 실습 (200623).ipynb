{
 "cells": [
  {
   "cell_type": "markdown",
   "metadata": {},
   "source": [
    "## □ kNN 머신러닝 알고리즘을 이용하여 유방암 데이터 분류 데이터 분석\n",
    "    1단계 : 데이터 수집\n",
    "    2단계 : 데이터 탐색과 준비\n",
    "    3단계 : 데이터 모델로 훈련\n",
    "    4단계 : 모델 성능 평가\n",
    "    5단계 : 모델 성능개선"
   ]
  },
  {
   "cell_type": "markdown",
   "metadata": {},
   "source": [
    "### ■ 1단계 : 데이터 수집\n",
    "    569개의 진단 데이터셋이며 암 조직 검사 예시\n",
    "    32개의 특징을 갖고 있으며 디지털 이미지에 존재하는 세포핵의 특성을 나타냄\n",
    "        반지름, 질감, 둘레, 넓이, 매끄러움, 조밀성, 오목함, 오목점, 대칭성, 프랙탈 차원\n",
    "        정답(라벨) : diagnosis(진단) 양성(B) / 악성(M)"
   ]
  },
  {
   "cell_type": "markdown",
   "metadata": {},
   "source": [
    "### ■ 2단계: 데이터 시각화"
   ]
  },
  {
   "cell_type": "code",
   "execution_count": 1,
   "metadata": {
    "ExecuteTime": {
     "end_time": "2020-06-23T06:14:27.605612Z",
     "start_time": "2020-06-23T06:14:27.507Z"
    }
   },
   "outputs": [
    {
     "data": {
      "text/plain": [
       "\n",
       "  B   M \n",
       "357 212 "
      ]
     },
     "metadata": {},
     "output_type": "display_data"
    }
   ],
   "source": [
    "#1. 데이터를 로드 한다.\n",
    "wbcd <- read.csv(\"wisc_bc_data.csv\", header=T,  stringsAsFactors=FALSE)\n",
    "table(wbcd$diagnosis)"
   ]
  },
  {
   "cell_type": "markdown",
   "metadata": {},
   "source": [
    "    1. 정답에 해당하는 라벨 column의 데이터 분포를 막대그래프로 시각화\n",
    "        악성 데이터와 양성 데이터가 50:50으로 분포되어있는 것이 가장 이상적이나 보통은 그렇지 않기 때문에 데이터를 맞춰줄 필요가 있다\n",
    "        (모델의 정확도가 낮을 때 고려해볼 필요가 있음)\n",
    "        \n",
    "    2. 수치형 변수 데이터의 분포를 파악\n",
    "        - 정규분포 그래프\n",
    "        \n",
    "    3. 이상치가 있는지 확인해 볼 필요\n",
    "        - 사분위수 그래프\n",
    "    \n",
    "    4. 결측치가 많은 column이 무엇인지 확인\n",
    "        - 결측치를 다른 값으로 치환하거나 삭제 → 파생변수 생성\n",
    "        \n",
    "    "
   ]
  },
  {
   "cell_type": "code",
   "execution_count": null,
   "metadata": {},
   "outputs": [],
   "source": [
    "#2. diagnosis 를 factor 로 변환한다\n",
    "wbcd$diagnosis <- factor(wbcd$diagnosis,\n",
    "                          levels =c(\"B\",\"M\"),\n",
    "                   labels = c(\"Benign\",\"Maliganant\"))"
   ]
  },
  {
   "cell_type": "code",
   "execution_count": 2,
   "metadata": {
    "ExecuteTime": {
     "end_time": "2020-06-23T06:45:20.062956Z",
     "start_time": "2020-06-23T06:45:20.005Z"
    }
   },
   "outputs": [
    {
     "data": {
      "text/html": [
       "<dl class=dl-horizontal>\n",
       "\t<dt>id</dt>\n",
       "\t\t<dd>0</dd>\n",
       "\t<dt>diagnosis</dt>\n",
       "\t\t<dd>0</dd>\n",
       "\t<dt>radius_mean</dt>\n",
       "\t\t<dd>0</dd>\n",
       "\t<dt>texture_mean</dt>\n",
       "\t\t<dd>0</dd>\n",
       "\t<dt>perimeter_mean</dt>\n",
       "\t\t<dd>0</dd>\n",
       "\t<dt>area_mean</dt>\n",
       "\t\t<dd>0</dd>\n",
       "\t<dt>smoothness_mean</dt>\n",
       "\t\t<dd>0</dd>\n",
       "\t<dt>compactness_mean</dt>\n",
       "\t\t<dd>0</dd>\n",
       "\t<dt>concavity_mean</dt>\n",
       "\t\t<dd>0</dd>\n",
       "\t<dt>points_mean</dt>\n",
       "\t\t<dd>0</dd>\n",
       "\t<dt>symmetry_mean</dt>\n",
       "\t\t<dd>0</dd>\n",
       "\t<dt>dimension_mean</dt>\n",
       "\t\t<dd>0</dd>\n",
       "\t<dt>radius_se</dt>\n",
       "\t\t<dd>0</dd>\n",
       "\t<dt>texture_se</dt>\n",
       "\t\t<dd>0</dd>\n",
       "\t<dt>perimeter_se</dt>\n",
       "\t\t<dd>0</dd>\n",
       "\t<dt>area_se</dt>\n",
       "\t\t<dd>0</dd>\n",
       "\t<dt>smoothness_se</dt>\n",
       "\t\t<dd>0</dd>\n",
       "\t<dt>compactness_se</dt>\n",
       "\t\t<dd>0</dd>\n",
       "\t<dt>concavity_se</dt>\n",
       "\t\t<dd>0</dd>\n",
       "\t<dt>points_se</dt>\n",
       "\t\t<dd>0</dd>\n",
       "\t<dt>symmetry_se</dt>\n",
       "\t\t<dd>0</dd>\n",
       "\t<dt>dimension_se</dt>\n",
       "\t\t<dd>0</dd>\n",
       "\t<dt>radius_worst</dt>\n",
       "\t\t<dd>0</dd>\n",
       "\t<dt>texture_worst</dt>\n",
       "\t\t<dd>0</dd>\n",
       "\t<dt>perimeter_worst</dt>\n",
       "\t\t<dd>0</dd>\n",
       "\t<dt>area_worst</dt>\n",
       "\t\t<dd>0</dd>\n",
       "\t<dt>smoothness_worst</dt>\n",
       "\t\t<dd>0</dd>\n",
       "\t<dt>compactness_worst</dt>\n",
       "\t\t<dd>0</dd>\n",
       "\t<dt>concavity_worst</dt>\n",
       "\t\t<dd>0</dd>\n",
       "\t<dt>points_worst</dt>\n",
       "\t\t<dd>0</dd>\n",
       "\t<dt>symmetry_worst</dt>\n",
       "\t\t<dd>0</dd>\n",
       "\t<dt>dimension_worst</dt>\n",
       "\t\t<dd>0</dd>\n",
       "</dl>\n"
      ],
      "text/latex": [
       "\\begin{description*}\n",
       "\\item[id] 0\n",
       "\\item[diagnosis] 0\n",
       "\\item[radius\\textbackslash{}\\_mean] 0\n",
       "\\item[texture\\textbackslash{}\\_mean] 0\n",
       "\\item[perimeter\\textbackslash{}\\_mean] 0\n",
       "\\item[area\\textbackslash{}\\_mean] 0\n",
       "\\item[smoothness\\textbackslash{}\\_mean] 0\n",
       "\\item[compactness\\textbackslash{}\\_mean] 0\n",
       "\\item[concavity\\textbackslash{}\\_mean] 0\n",
       "\\item[points\\textbackslash{}\\_mean] 0\n",
       "\\item[symmetry\\textbackslash{}\\_mean] 0\n",
       "\\item[dimension\\textbackslash{}\\_mean] 0\n",
       "\\item[radius\\textbackslash{}\\_se] 0\n",
       "\\item[texture\\textbackslash{}\\_se] 0\n",
       "\\item[perimeter\\textbackslash{}\\_se] 0\n",
       "\\item[area\\textbackslash{}\\_se] 0\n",
       "\\item[smoothness\\textbackslash{}\\_se] 0\n",
       "\\item[compactness\\textbackslash{}\\_se] 0\n",
       "\\item[concavity\\textbackslash{}\\_se] 0\n",
       "\\item[points\\textbackslash{}\\_se] 0\n",
       "\\item[symmetry\\textbackslash{}\\_se] 0\n",
       "\\item[dimension\\textbackslash{}\\_se] 0\n",
       "\\item[radius\\textbackslash{}\\_worst] 0\n",
       "\\item[texture\\textbackslash{}\\_worst] 0\n",
       "\\item[perimeter\\textbackslash{}\\_worst] 0\n",
       "\\item[area\\textbackslash{}\\_worst] 0\n",
       "\\item[smoothness\\textbackslash{}\\_worst] 0\n",
       "\\item[compactness\\textbackslash{}\\_worst] 0\n",
       "\\item[concavity\\textbackslash{}\\_worst] 0\n",
       "\\item[points\\textbackslash{}\\_worst] 0\n",
       "\\item[symmetry\\textbackslash{}\\_worst] 0\n",
       "\\item[dimension\\textbackslash{}\\_worst] 0\n",
       "\\end{description*}\n"
      ],
      "text/markdown": [
       "id\n",
       ":   0diagnosis\n",
       ":   0radius_mean\n",
       ":   0texture_mean\n",
       ":   0perimeter_mean\n",
       ":   0area_mean\n",
       ":   0smoothness_mean\n",
       ":   0compactness_mean\n",
       ":   0concavity_mean\n",
       ":   0points_mean\n",
       ":   0symmetry_mean\n",
       ":   0dimension_mean\n",
       ":   0radius_se\n",
       ":   0texture_se\n",
       ":   0perimeter_se\n",
       ":   0area_se\n",
       ":   0smoothness_se\n",
       ":   0compactness_se\n",
       ":   0concavity_se\n",
       ":   0points_se\n",
       ":   0symmetry_se\n",
       ":   0dimension_se\n",
       ":   0radius_worst\n",
       ":   0texture_worst\n",
       ":   0perimeter_worst\n",
       ":   0area_worst\n",
       ":   0smoothness_worst\n",
       ":   0compactness_worst\n",
       ":   0concavity_worst\n",
       ":   0points_worst\n",
       ":   0symmetry_worst\n",
       ":   0dimension_worst\n",
       ":   0\n",
       "\n"
      ],
      "text/plain": [
       "               id         diagnosis       radius_mean      texture_mean \n",
       "                0                 0                 0                 0 \n",
       "   perimeter_mean         area_mean   smoothness_mean  compactness_mean \n",
       "                0                 0                 0                 0 \n",
       "   concavity_mean       points_mean     symmetry_mean    dimension_mean \n",
       "                0                 0                 0                 0 \n",
       "        radius_se        texture_se      perimeter_se           area_se \n",
       "                0                 0                 0                 0 \n",
       "    smoothness_se    compactness_se      concavity_se         points_se \n",
       "                0                 0                 0                 0 \n",
       "      symmetry_se      dimension_se      radius_worst     texture_worst \n",
       "                0                 0                 0                 0 \n",
       "  perimeter_worst        area_worst  smoothness_worst compactness_worst \n",
       "                0                 0                 0                 0 \n",
       "  concavity_worst      points_worst    symmetry_worst   dimension_worst \n",
       "                0                 0                 0                 0 "
      ]
     },
     "metadata": {},
     "output_type": "display_data"
    }
   ],
   "source": [
    "colSums(is.na(wbcd))"
   ]
  },
  {
   "cell_type": "code",
   "execution_count": 3,
   "metadata": {
    "ExecuteTime": {
     "end_time": "2020-06-23T06:48:13.355936Z",
     "start_time": "2020-06-23T06:48:13.317Z"
    }
   },
   "outputs": [
    {
     "data": {
      "text/html": [
       "<ol class=list-inline>\n",
       "\t<li>'id'</li>\n",
       "\t<li>'diagnosis'</li>\n",
       "\t<li>'radius_mean'</li>\n",
       "\t<li>'texture_mean'</li>\n",
       "\t<li>'perimeter_mean'</li>\n",
       "\t<li>'area_mean'</li>\n",
       "\t<li>'smoothness_mean'</li>\n",
       "\t<li>'compactness_mean'</li>\n",
       "\t<li>'concavity_mean'</li>\n",
       "\t<li>'points_mean'</li>\n",
       "\t<li>'symmetry_mean'</li>\n",
       "\t<li>'dimension_mean'</li>\n",
       "\t<li>'radius_se'</li>\n",
       "\t<li>'texture_se'</li>\n",
       "\t<li>'perimeter_se'</li>\n",
       "\t<li>'area_se'</li>\n",
       "\t<li>'smoothness_se'</li>\n",
       "\t<li>'compactness_se'</li>\n",
       "\t<li>'concavity_se'</li>\n",
       "\t<li>'points_se'</li>\n",
       "\t<li>'symmetry_se'</li>\n",
       "\t<li>'dimension_se'</li>\n",
       "\t<li>'radius_worst'</li>\n",
       "\t<li>'texture_worst'</li>\n",
       "\t<li>'perimeter_worst'</li>\n",
       "\t<li>'area_worst'</li>\n",
       "\t<li>'smoothness_worst'</li>\n",
       "\t<li>'compactness_worst'</li>\n",
       "\t<li>'concavity_worst'</li>\n",
       "\t<li>'points_worst'</li>\n",
       "\t<li>'symmetry_worst'</li>\n",
       "\t<li>'dimension_worst'</li>\n",
       "</ol>\n"
      ],
      "text/latex": [
       "\\begin{enumerate*}\n",
       "\\item 'id'\n",
       "\\item 'diagnosis'\n",
       "\\item 'radius\\_mean'\n",
       "\\item 'texture\\_mean'\n",
       "\\item 'perimeter\\_mean'\n",
       "\\item 'area\\_mean'\n",
       "\\item 'smoothness\\_mean'\n",
       "\\item 'compactness\\_mean'\n",
       "\\item 'concavity\\_mean'\n",
       "\\item 'points\\_mean'\n",
       "\\item 'symmetry\\_mean'\n",
       "\\item 'dimension\\_mean'\n",
       "\\item 'radius\\_se'\n",
       "\\item 'texture\\_se'\n",
       "\\item 'perimeter\\_se'\n",
       "\\item 'area\\_se'\n",
       "\\item 'smoothness\\_se'\n",
       "\\item 'compactness\\_se'\n",
       "\\item 'concavity\\_se'\n",
       "\\item 'points\\_se'\n",
       "\\item 'symmetry\\_se'\n",
       "\\item 'dimension\\_se'\n",
       "\\item 'radius\\_worst'\n",
       "\\item 'texture\\_worst'\n",
       "\\item 'perimeter\\_worst'\n",
       "\\item 'area\\_worst'\n",
       "\\item 'smoothness\\_worst'\n",
       "\\item 'compactness\\_worst'\n",
       "\\item 'concavity\\_worst'\n",
       "\\item 'points\\_worst'\n",
       "\\item 'symmetry\\_worst'\n",
       "\\item 'dimension\\_worst'\n",
       "\\end{enumerate*}\n"
      ],
      "text/markdown": [
       "1. 'id'\n",
       "2. 'diagnosis'\n",
       "3. 'radius_mean'\n",
       "4. 'texture_mean'\n",
       "5. 'perimeter_mean'\n",
       "6. 'area_mean'\n",
       "7. 'smoothness_mean'\n",
       "8. 'compactness_mean'\n",
       "9. 'concavity_mean'\n",
       "10. 'points_mean'\n",
       "11. 'symmetry_mean'\n",
       "12. 'dimension_mean'\n",
       "13. 'radius_se'\n",
       "14. 'texture_se'\n",
       "15. 'perimeter_se'\n",
       "16. 'area_se'\n",
       "17. 'smoothness_se'\n",
       "18. 'compactness_se'\n",
       "19. 'concavity_se'\n",
       "20. 'points_se'\n",
       "21. 'symmetry_se'\n",
       "22. 'dimension_se'\n",
       "23. 'radius_worst'\n",
       "24. 'texture_worst'\n",
       "25. 'perimeter_worst'\n",
       "26. 'area_worst'\n",
       "27. 'smoothness_worst'\n",
       "28. 'compactness_worst'\n",
       "29. 'concavity_worst'\n",
       "30. 'points_worst'\n",
       "31. 'symmetry_worst'\n",
       "32. 'dimension_worst'\n",
       "\n",
       "\n"
      ],
      "text/plain": [
       " [1] \"id\"                \"diagnosis\"         \"radius_mean\"      \n",
       " [4] \"texture_mean\"      \"perimeter_mean\"    \"area_mean\"        \n",
       " [7] \"smoothness_mean\"   \"compactness_mean\"  \"concavity_mean\"   \n",
       "[10] \"points_mean\"       \"symmetry_mean\"     \"dimension_mean\"   \n",
       "[13] \"radius_se\"         \"texture_se\"        \"perimeter_se\"     \n",
       "[16] \"area_se\"           \"smoothness_se\"     \"compactness_se\"   \n",
       "[19] \"concavity_se\"      \"points_se\"         \"symmetry_se\"      \n",
       "[22] \"dimension_se\"      \"radius_worst\"      \"texture_worst\"    \n",
       "[25] \"perimeter_worst\"   \"area_worst\"        \"smoothness_worst\" \n",
       "[28] \"compactness_worst\" \"concavity_worst\"   \"points_worst\"     \n",
       "[31] \"symmetry_worst\"    \"dimension_worst\"  "
      ]
     },
     "metadata": {},
     "output_type": "display_data"
    }
   ],
   "source": [
    "colnames(wbcd)"
   ]
  },
  {
   "cell_type": "code",
   "execution_count": 4,
   "metadata": {
    "ExecuteTime": {
     "end_time": "2020-06-23T06:48:27.337529Z",
     "start_time": "2020-06-23T06:48:27.238Z"
    }
   },
   "outputs": [],
   "source": [
    "library(outliers)\n",
    "grubbs.flag <- function(x) {\n",
    "  outliers <- NULL\n",
    "  test <- x\n",
    "  grubbs.result <- grubbs.test(test)\n",
    "  pv <- grubbs.result$p.value\n",
    "  while(pv < 0.05) {\n",
    "    outliers <- c(outliers,as.numeric(strsplit(grubbs.result$alternative,\" \")[[1]][3]))\n",
    "    test <- x[!x %in% outliers]\n",
    "    grubbs.result <- grubbs.test(test)\n",
    "    pv <- grubbs.result$p.value\n",
    "  }\n",
    "  return(data.frame(X=x,Outlier=(x %in% outliers)))\n",
    "}"
   ]
  },
  {
   "cell_type": "markdown",
   "metadata": {},
   "source": [
    "### ※ 문제222. wbcd의 radius_mean에 이상치가 몇 개 인지 확인하시오(True가 몇 개인지)"
   ]
  },
  {
   "cell_type": "code",
   "execution_count": 17,
   "metadata": {
    "ExecuteTime": {
     "end_time": "2020-06-23T06:54:55.351303Z",
     "start_time": "2020-06-23T06:54:55.314Z"
    }
   },
   "outputs": [
    {
     "data": {
      "text/html": [
       "<table>\n",
       "<thead><tr><th></th><th scope=col>X</th><th scope=col>Outlier</th></tr></thead>\n",
       "<tbody>\n",
       "\t<tr><th scope=row>166</th><td>27.22</td><td>TRUE </td></tr>\n",
       "\t<tr><th scope=row>276</th><td>28.11</td><td>TRUE </td></tr>\n",
       "\t<tr><th scope=row>461</th><td>27.42</td><td>TRUE </td></tr>\n",
       "</tbody>\n",
       "</table>\n"
      ],
      "text/latex": [
       "\\begin{tabular}{r|ll}\n",
       "  & X & Outlier\\\\\n",
       "\\hline\n",
       "\t166 & 27.22 & TRUE \\\\\n",
       "\t276 & 28.11 & TRUE \\\\\n",
       "\t461 & 27.42 & TRUE \\\\\n",
       "\\end{tabular}\n"
      ],
      "text/markdown": [
       "\n",
       "| <!--/--> | X | Outlier |\n",
       "|---|---|---|\n",
       "| 166 | 27.22 | TRUE  |\n",
       "| 276 | 28.11 | TRUE  |\n",
       "| 461 | 27.42 | TRUE  |\n",
       "\n"
      ],
      "text/plain": [
       "    X     Outlier\n",
       "166 27.22 TRUE   \n",
       "276 28.11 TRUE   \n",
       "461 27.42 TRUE   "
      ]
     },
     "metadata": {},
     "output_type": "display_data"
    }
   ],
   "source": [
    "rs <- grubbs.flag(wbcd$radius_mean)\n",
    "rs[rs$Outlier=='TRUE',]"
   ]
  },
  {
   "cell_type": "markdown",
   "metadata": {},
   "source": [
    "### ※ 문제223. wbcd의 모든 column에 이상치가 각각 몇 개 있는지 아래와 같이 출력되게 하시오"
   ]
  },
  {
   "cell_type": "code",
   "execution_count": 20,
   "metadata": {
    "ExecuteTime": {
     "end_time": "2020-06-23T07:16:11.438219Z",
     "start_time": "2020-06-23T07:16:11.338Z"
    }
   },
   "outputs": [
    {
     "name": "stdout",
     "output_type": "stream",
     "text": [
      "[1] \"texture_mean --> 1\"\n",
      "[1] \"perimeter_mean --> 3\"\n",
      "[1] \"area_mean --> 6\"\n",
      "[1] \"smoothness_mean --> 1\"\n",
      "[1] \"compactness_mean --> 2\"\n",
      "[1] \"concavity_mean --> 4\"\n",
      "[1] \"points_mean --> 1\"\n",
      "[1] \"symmetry_mean --> 2\"\n",
      "[1] \"dimension_mean --> 6\"\n",
      "[1] \"radius_se --> 7\"\n",
      "[1] \"texture_se --> 5\"\n",
      "[1] \"perimeter_se --> 14\"\n",
      "[1] \"area_se --> 14\"\n",
      "[1] \"smoothness_se --> 7\"\n",
      "[1] \"compactness_se --> 12\"\n",
      "[1] \"concavity_se --> 10\"\n",
      "[1] \"points_se --> 6\"\n",
      "[1] \"symmetry_se --> 13\"\n",
      "[1] \"dimension_se --> 17\"\n",
      "[1] \"radius_worst --> 1\"\n",
      "[1] \"texture_worst --> 1\"\n",
      "[1] \"perimeter_worst --> 1\"\n",
      "[1] \"area_worst --> 8\"\n",
      "[1] \"smoothness_worst --> 2\"\n",
      "[1] \"compactness_worst --> 6\"\n",
      "[1] \"concavity_worst --> 3\"\n",
      "[1] \"points_worst --> 0\"\n",
      "[1] \"symmetry_worst --> 5\"\n",
      "[1] \"dimension_worst --> 3\"\n"
     ]
    }
   ],
   "source": [
    "for (i in 4:length(colnames(wbcd))){\n",
    "  a = grubbs.flag(wbcd[,colnames(wbcd)[i]])\n",
    "  b = a[a$Outlier==TRUE,\"Outlier\"]\n",
    "  print(paste(colnames(wbcd)[i],'-->',length(b)))\n",
    "}"
   ]
  },
  {
   "cell_type": "code",
   "execution_count": 22,
   "metadata": {
    "ExecuteTime": {
     "end_time": "2020-06-23T07:16:52.119587Z",
     "start_time": "2020-06-23T07:16:52.083Z"
    }
   },
   "outputs": [
    {
     "data": {
      "text/plain": [
       "\n",
       "   B    M \n",
       "62.7 37.3 "
      ]
     },
     "metadata": {},
     "output_type": "display_data"
    }
   ],
   "source": [
    "# 양성과 악성의 비율을 확인\n",
    "round(prop.table(table(wbcd$diagnosis))*100,digit=1)"
   ]
  },
  {
   "cell_type": "code",
   "execution_count": 24,
   "metadata": {
    "ExecuteTime": {
     "end_time": "2020-06-23T07:17:37.538198Z",
     "start_time": "2020-06-23T07:17:37.344Z"
    }
   },
   "outputs": [
    {
     "data": {
      "text/html": [
       "<table>\n",
       "<thead><tr><th></th><th scope=col>id</th><th scope=col>diagnosis</th><th scope=col>radius_mean</th><th scope=col>texture_mean</th><th scope=col>perimeter_mean</th><th scope=col>area_mean</th><th scope=col>smoothness_mean</th><th scope=col>compactness_mean</th><th scope=col>concavity_mean</th><th scope=col>points_mean</th><th scope=col>...</th><th scope=col>radius_worst</th><th scope=col>texture_worst</th><th scope=col>perimeter_worst</th><th scope=col>area_worst</th><th scope=col>smoothness_worst</th><th scope=col>compactness_worst</th><th scope=col>concavity_worst</th><th scope=col>points_worst</th><th scope=col>symmetry_worst</th><th scope=col>dimension_worst</th></tr></thead>\n",
       "<tbody>\n",
       "\t<tr><th scope=row>308</th><td>    9047</td><td>B       </td><td>12.940  </td><td>16.17   </td><td> 83.18  </td><td> 507.6  </td><td>0.09879 </td><td>0.08836 </td><td>0.032960</td><td>0.023900</td><td>...     </td><td>13.860  </td><td>23.02   </td><td> 89.69  </td><td> 580.9  </td><td>0.11720 </td><td>0.19580 </td><td>0.18100 </td><td>0.08388 </td><td>0.3297  </td><td>0.07834 </td></tr>\n",
       "\t<tr><th scope=row>209</th><td>  893526</td><td>B       </td><td>13.500  </td><td>12.71   </td><td> 85.69  </td><td> 566.2  </td><td>0.07376 </td><td>0.03614 </td><td>0.002758</td><td>0.004419</td><td>...     </td><td>14.970  </td><td>16.94   </td><td> 95.48  </td><td> 698.7  </td><td>0.09023 </td><td>0.05836 </td><td>0.01379 </td><td>0.02210 </td><td>0.2267  </td><td>0.06192 </td></tr>\n",
       "\t<tr><th scope=row>191</th><td>  869104</td><td>M       </td><td>16.110  </td><td>18.05   </td><td>105.10  </td><td> 813.0  </td><td>0.09721 </td><td>0.11370 </td><td>0.094470</td><td>0.059430</td><td>...     </td><td>19.920  </td><td>25.27   </td><td>129.00  </td><td>1233.0  </td><td>0.13140 </td><td>0.22360 </td><td>0.28020 </td><td>0.12160 </td><td>0.2792  </td><td>0.08158 </td></tr>\n",
       "\t<tr><th scope=row>341</th><td>  905189</td><td>B       </td><td>16.140  </td><td>14.86   </td><td>104.30  </td><td> 800.0  </td><td>0.09495 </td><td>0.08501 </td><td>0.055000</td><td>0.045280</td><td>...     </td><td>17.710  </td><td>19.58   </td><td>115.90  </td><td> 947.9  </td><td>0.12060 </td><td>0.17220 </td><td>0.23100 </td><td>0.11290 </td><td>0.2778  </td><td>0.07012 </td></tr>\n",
       "\t<tr><th scope=row>534</th><td>87281702</td><td>M       </td><td>16.460  </td><td>20.11   </td><td>109.30  </td><td> 832.9  </td><td>0.09831 </td><td>0.15560 </td><td>0.179300</td><td>0.088660</td><td>...     </td><td>17.790  </td><td>28.45   </td><td>123.50  </td><td> 981.2  </td><td>0.14150 </td><td>0.46670 </td><td>0.58620 </td><td>0.20350 </td><td>0.3054  </td><td>0.09519 </td></tr>\n",
       "\t<tr><th scope=row>370</th><td>  886226</td><td>M       </td><td>19.450  </td><td>19.33   </td><td>126.50  </td><td>1169.0  </td><td>0.10350 </td><td>0.11880 </td><td>0.137900</td><td>0.085910</td><td>...     </td><td>25.700  </td><td>24.57   </td><td>163.10  </td><td>1972.0  </td><td>0.14970 </td><td>0.31610 </td><td>0.43170 </td><td>0.19990 </td><td>0.3379  </td><td>0.08950 </td></tr>\n",
       "\t<tr><th scope=row>278</th><td>  926954</td><td>M       </td><td>16.600  </td><td>28.08   </td><td>108.30  </td><td> 858.1  </td><td>0.08455 </td><td>0.10230 </td><td>0.092510</td><td>0.053020</td><td>...     </td><td>18.980  </td><td>34.12   </td><td>126.70  </td><td>1124.0  </td><td>0.11390 </td><td>0.30940 </td><td>0.34030 </td><td>0.14180 </td><td>0.2218  </td><td>0.07820 </td></tr>\n",
       "\t<tr><th scope=row>367</th><td> 8711202</td><td>M       </td><td>17.680  </td><td>20.74   </td><td>117.40  </td><td> 963.7  </td><td>0.11150 </td><td>0.16650 </td><td>0.185500</td><td>0.105400</td><td>...     </td><td>20.470  </td><td>25.11   </td><td>132.90  </td><td>1302.0  </td><td>0.14180 </td><td>0.34980 </td><td>0.35830 </td><td>0.15150 </td><td>0.2463  </td><td>0.07738 </td></tr>\n",
       "\t<tr><th scope=row>109</th><td>  923465</td><td>B       </td><td>10.820  </td><td>24.21   </td><td> 68.89  </td><td> 361.6  </td><td>0.08192 </td><td>0.06602 </td><td>0.015480</td><td>0.008160</td><td>...     </td><td>13.030  </td><td>31.45   </td><td> 83.90  </td><td> 505.6  </td><td>0.12040 </td><td>0.16330 </td><td>0.06194 </td><td>0.03264 </td><td>0.3059  </td><td>0.07626 </td></tr>\n",
       "\t<tr><th scope=row>533</th><td>90769602</td><td>B       </td><td>12.720  </td><td>17.67   </td><td> 80.98  </td><td> 501.3  </td><td>0.07896 </td><td>0.04522 </td><td>0.014020</td><td>0.018350</td><td>...     </td><td>13.820  </td><td>20.96   </td><td> 88.87  </td><td> 586.8  </td><td>0.10680 </td><td>0.09605 </td><td>0.03469 </td><td>0.03612 </td><td>0.2165  </td><td>0.06025 </td></tr>\n",
       "\t<tr><th scope=row>524</th><td>   92751</td><td>B       </td><td> 7.760  </td><td>24.54   </td><td> 47.92  </td><td> 181.0  </td><td>0.05263 </td><td>0.04362 </td><td>0.000000</td><td>0.000000</td><td>...     </td><td> 9.456  </td><td>30.37   </td><td> 59.16  </td><td> 268.6  </td><td>0.08996 </td><td>0.06444 </td><td>0.00000 </td><td>0.00000 </td><td>0.2871  </td><td>0.07039 </td></tr>\n",
       "\t<tr><th scope=row>297</th><td>  919555</td><td>M       </td><td>20.550  </td><td>20.86   </td><td>137.80  </td><td>1308.0  </td><td>0.10460 </td><td>0.17390 </td><td>0.208500</td><td>0.132200</td><td>...     </td><td>24.300  </td><td>25.48   </td><td>160.20  </td><td>1809.0  </td><td>0.12680 </td><td>0.31350 </td><td>0.44330 </td><td>0.21480 </td><td>0.3077  </td><td>0.07569 </td></tr>\n",
       "\t<tr><th scope=row>35</th><td>  915940</td><td>B       </td><td>14.580  </td><td>13.66   </td><td> 94.29  </td><td> 658.8  </td><td>0.09832 </td><td>0.08918 </td><td>0.082220</td><td>0.043490</td><td>...     </td><td>16.760  </td><td>17.24   </td><td>108.50  </td><td> 862.0  </td><td>0.12230 </td><td>0.19280 </td><td>0.24920 </td><td>0.09186 </td><td>0.2626  </td><td>0.07048 </td></tr>\n",
       "\t<tr><th scope=row>115</th><td>  857343</td><td>B       </td><td>11.760  </td><td>21.60   </td><td> 74.72  </td><td> 427.9  </td><td>0.08637 </td><td>0.04966 </td><td>0.016570</td><td>0.011150</td><td>...     </td><td>12.980  </td><td>25.72   </td><td> 82.98  </td><td> 516.5  </td><td>0.10850 </td><td>0.08615 </td><td>0.05523 </td><td>0.03715 </td><td>0.2433  </td><td>0.06563 </td></tr>\n",
       "\t<tr><th scope=row>51</th><td> 8810987</td><td>M       </td><td>13.860  </td><td>16.93   </td><td> 90.96  </td><td> 578.9  </td><td>0.10260 </td><td>0.15170 </td><td>0.099010</td><td>0.056020</td><td>...     </td><td>15.750  </td><td>26.93   </td><td>104.40  </td><td> 750.1  </td><td>0.14600 </td><td>0.43700 </td><td>0.46360 </td><td>0.16540 </td><td>0.3630  </td><td>0.10590 </td></tr>\n",
       "\t<tr><th scope=row>470</th><td>  909220</td><td>B       </td><td>14.040  </td><td>15.98   </td><td> 89.78  </td><td> 611.2  </td><td>0.08458 </td><td>0.05895 </td><td>0.035340</td><td>0.029440</td><td>...     </td><td>15.660  </td><td>21.58   </td><td>101.20  </td><td> 750.0  </td><td>0.11950 </td><td>0.12520 </td><td>0.11170 </td><td>0.07453 </td><td>0.2725  </td><td>0.07234 </td></tr>\n",
       "\t<tr><th scope=row>94</th><td> 9112594</td><td>B       </td><td>13.000  </td><td>25.13   </td><td> 82.61  </td><td> 520.2  </td><td>0.08369 </td><td>0.05073 </td><td>0.012060</td><td>0.017620</td><td>...     </td><td>14.340  </td><td>31.88   </td><td> 91.06  </td><td> 628.5  </td><td>0.12180 </td><td>0.10930 </td><td>0.04462 </td><td>0.05921 </td><td>0.2306  </td><td>0.06291 </td></tr>\n",
       "\t<tr><th scope=row>292</th><td> 9013005</td><td>B       </td><td>13.690  </td><td>16.07   </td><td> 87.84  </td><td> 579.1  </td><td>0.08302 </td><td>0.06374 </td><td>0.025560</td><td>0.020310</td><td>...     </td><td>14.840  </td><td>20.21   </td><td> 99.16  </td><td> 670.6  </td><td>0.11050 </td><td>0.20960 </td><td>0.13460 </td><td>0.06987 </td><td>0.3323  </td><td>0.07701 </td></tr>\n",
       "\t<tr><th scope=row>180</th><td>  862965</td><td>B       </td><td>12.180  </td><td>20.52   </td><td> 77.22  </td><td> 458.7  </td><td>0.08013 </td><td>0.04038 </td><td>0.023830</td><td>0.017700</td><td>...     </td><td>13.340  </td><td>32.84   </td><td> 84.58  </td><td> 547.8  </td><td>0.11230 </td><td>0.08862 </td><td>0.11450 </td><td>0.07431 </td><td>0.2694  </td><td>0.06878 </td></tr>\n",
       "\t<tr><th scope=row>194</th><td>84799002</td><td>M       </td><td>14.540  </td><td>27.54   </td><td> 96.73  </td><td> 658.8  </td><td>0.11390 </td><td>0.15950 </td><td>0.163900</td><td>0.073640</td><td>...     </td><td>17.460  </td><td>37.13   </td><td>124.10  </td><td> 943.2  </td><td>0.16780 </td><td>0.65770 </td><td>0.70260 </td><td>0.17120 </td><td>0.4218  </td><td>0.13410 </td></tr>\n",
       "\t<tr><th scope=row>567</th><td>  873885</td><td>M       </td><td>15.280  </td><td>22.41   </td><td> 98.92  </td><td> 710.6  </td><td>0.09057 </td><td>0.10520 </td><td>0.053750</td><td>0.032630</td><td>...     </td><td>17.800  </td><td>28.03   </td><td>113.80  </td><td> 973.1  </td><td>0.13010 </td><td>0.32990 </td><td>0.36300 </td><td>0.12260 </td><td>0.3175  </td><td>0.09772 </td></tr>\n",
       "\t<tr><th scope=row>149</th><td>  894335</td><td>B       </td><td>12.430  </td><td>17.00   </td><td> 78.60  </td><td> 477.3  </td><td>0.07557 </td><td>0.03454 </td><td>0.013420</td><td>0.016990</td><td>...     </td><td>12.900  </td><td>20.21   </td><td> 81.76  </td><td> 515.9  </td><td>0.08409 </td><td>0.04712 </td><td>0.02237 </td><td>0.02832 </td><td>0.1901  </td><td>0.05932 </td></tr>\n",
       "\t<tr><th scope=row>99</th><td> 8812844</td><td>B       </td><td>10.180  </td><td>17.53   </td><td> 65.12  </td><td> 313.1  </td><td>0.10610 </td><td>0.08502 </td><td>0.017680</td><td>0.019150</td><td>...     </td><td>11.170  </td><td>22.84   </td><td> 71.94  </td><td> 375.6  </td><td>0.14060 </td><td>0.14400 </td><td>0.06572 </td><td>0.05575 </td><td>0.3055  </td><td>0.08797 </td></tr>\n",
       "\t<tr><th scope=row>394</th><td> 8912049</td><td>M       </td><td>19.160  </td><td>26.60   </td><td>126.20  </td><td>1138.0  </td><td>0.10200 </td><td>0.14530 </td><td>0.192100</td><td>0.096640</td><td>...     </td><td>23.720  </td><td>35.90   </td><td>159.80  </td><td>1724.0  </td><td>0.17820 </td><td>0.38410 </td><td>0.57540 </td><td>0.18720 </td><td>0.3258  </td><td>0.09720 </td></tr>\n",
       "\t<tr><th scope=row>358</th><td> 8810528</td><td>B       </td><td>11.840  </td><td>18.94   </td><td> 75.51  </td><td> 428.0  </td><td>0.08871 </td><td>0.06900 </td><td>0.026690</td><td>0.013930</td><td>...     </td><td>13.300  </td><td>24.99   </td><td> 85.22  </td><td> 546.3  </td><td>0.12800 </td><td>0.18800 </td><td>0.14710 </td><td>0.06913 </td><td>0.2535  </td><td>0.07993 </td></tr>\n",
       "\t<tr><th scope=row>216</th><td>  858970</td><td>B       </td><td>10.170  </td><td>14.88   </td><td> 64.55  </td><td> 311.9  </td><td>0.11340 </td><td>0.08061 </td><td>0.010840</td><td>0.012900</td><td>...     </td><td>11.020  </td><td>17.45   </td><td> 69.86  </td><td> 368.6  </td><td>0.12750 </td><td>0.09866 </td><td>0.02168 </td><td>0.02579 </td><td>0.3557  </td><td>0.08020 </td></tr>\n",
       "\t<tr><th scope=row>468</th><td> 9110127</td><td>M       </td><td>18.030  </td><td>16.85   </td><td>117.50  </td><td> 990.0  </td><td>0.08947 </td><td>0.12320 </td><td>0.109000</td><td>0.062540</td><td>...     </td><td>20.380  </td><td>22.02   </td><td>133.30  </td><td>1292.0  </td><td>0.12630 </td><td>0.26660 </td><td>0.42900 </td><td>0.15350 </td><td>0.2842  </td><td>0.08225 </td></tr>\n",
       "\t<tr><th scope=row>487</th><td> 9113778</td><td>B       </td><td> 9.667  </td><td>18.49   </td><td> 61.49  </td><td> 289.1  </td><td>0.08946 </td><td>0.06258 </td><td>0.029480</td><td>0.015140</td><td>...     </td><td>11.140  </td><td>25.62   </td><td> 70.88  </td><td> 385.2  </td><td>0.12340 </td><td>0.15420 </td><td>0.12770 </td><td>0.06560 </td><td>0.3174  </td><td>0.08524 </td></tr>\n",
       "\t<tr><th scope=row>205</th><td>89864002</td><td>B       </td><td>11.710  </td><td>15.45   </td><td> 75.03  </td><td> 420.3  </td><td>0.11500 </td><td>0.07281 </td><td>0.040060</td><td>0.032500</td><td>...     </td><td>13.060  </td><td>18.16   </td><td> 84.16  </td><td> 516.4  </td><td>0.14600 </td><td>0.11150 </td><td>0.10870 </td><td>0.07864 </td><td>0.2765  </td><td>0.07806 </td></tr>\n",
       "\t<tr><th scope=row>377</th><td>  921644</td><td>B       </td><td>14.740  </td><td>25.42   </td><td> 94.70  </td><td> 668.6  </td><td>0.08275 </td><td>0.07214 </td><td>0.041050</td><td>0.030270</td><td>...     </td><td>16.510  </td><td>32.29   </td><td>107.40  </td><td> 826.4  </td><td>0.10600 </td><td>0.13760 </td><td>0.16110 </td><td>0.10950 </td><td>0.2722  </td><td>0.06956 </td></tr>\n",
       "\t<tr><th scope=row>...</th><td>...</td><td>...</td><td>...</td><td>...</td><td>...</td><td>...</td><td>...</td><td>...</td><td>...</td><td>...</td><td>   </td><td>...</td><td>...</td><td>...</td><td>...</td><td>...</td><td>...</td><td>...</td><td>...</td><td>...</td><td>...</td></tr>\n",
       "\t<tr><th scope=row>447</th><td>88411702</td><td>B       </td><td>13.750  </td><td>23.77   </td><td> 88.54  </td><td> 590.0  </td><td>0.08043 </td><td>0.06807 </td><td>0.046970</td><td>0.023440</td><td>...     </td><td>15.010  </td><td>26.34   </td><td> 98.00  </td><td> 706.0  </td><td>0.09368 </td><td>0.14420 </td><td>0.13590 </td><td>0.06106 </td><td>0.2663  </td><td>0.06321 </td></tr>\n",
       "\t<tr><th scope=row>169</th><td> 8711002</td><td>B       </td><td>13.150  </td><td>15.34   </td><td> 85.31  </td><td> 538.9  </td><td>0.09384 </td><td>0.08498 </td><td>0.092930</td><td>0.034830</td><td>...     </td><td>14.770  </td><td>20.50   </td><td> 97.67  </td><td> 677.3  </td><td>0.14780 </td><td>0.22560 </td><td>0.30090 </td><td>0.09722 </td><td>0.3849  </td><td>0.08633 </td></tr>\n",
       "\t<tr><th scope=row>15</th><td> 9111805</td><td>M       </td><td>19.590  </td><td>25.00   </td><td>127.70  </td><td>1191.0  </td><td>0.10320 </td><td>0.09871 </td><td>0.165500</td><td>0.090630</td><td>...     </td><td>21.440  </td><td>30.96   </td><td>139.80  </td><td>1421.0  </td><td>0.15280 </td><td>0.18450 </td><td>0.39770 </td><td>0.14660 </td><td>0.2293  </td><td>0.06091 </td></tr>\n",
       "\t<tr><th scope=row>111</th><td>  863031</td><td>B       </td><td>11.640  </td><td>18.33   </td><td> 75.17  </td><td> 412.5  </td><td>0.11420 </td><td>0.10170 </td><td>0.070700</td><td>0.034850</td><td>...     </td><td>13.140  </td><td>29.26   </td><td> 85.51  </td><td> 521.7  </td><td>0.16880 </td><td>0.26600 </td><td>0.28730 </td><td>0.12180 </td><td>0.2806  </td><td>0.09097 </td></tr>\n",
       "\t<tr><th scope=row>143</th><td>  926682</td><td>M       </td><td>20.130  </td><td>28.25   </td><td>131.20  </td><td>1261.0  </td><td>0.09780 </td><td>0.10340 </td><td>0.144000</td><td>0.097910</td><td>...     </td><td>23.690  </td><td>38.25   </td><td>155.00  </td><td>1731.0  </td><td>0.11660 </td><td>0.19220 </td><td>0.32150 </td><td>0.16280 </td><td>0.2572  </td><td>0.06637 </td></tr>\n",
       "\t<tr><th scope=row>60</th><td>   89122</td><td>M       </td><td>19.400  </td><td>18.18   </td><td>127.20  </td><td>1145.0  </td><td>0.10370 </td><td>0.14420 </td><td>0.162600</td><td>0.094640</td><td>...     </td><td>23.790  </td><td>28.65   </td><td>152.40  </td><td>1628.0  </td><td>0.15180 </td><td>0.37490 </td><td>0.43160 </td><td>0.22520 </td><td>0.3590  </td><td>0.07787 </td></tr>\n",
       "\t<tr><th scope=row>55</th><td>  878796</td><td>M       </td><td>23.290  </td><td>26.67   </td><td>158.90  </td><td>1685.0  </td><td>0.11410 </td><td>0.20840 </td><td>0.352300</td><td>0.162000</td><td>...     </td><td>25.120  </td><td>32.68   </td><td>177.00  </td><td>1986.0  </td><td>0.15360 </td><td>0.41670 </td><td>0.78920 </td><td>0.27330 </td><td>0.3198  </td><td>0.08762 </td></tr>\n",
       "\t<tr><th scope=row>347</th><td> 9010333</td><td>B       </td><td> 8.878  </td><td>15.49   </td><td> 56.74  </td><td> 241.0  </td><td>0.08293 </td><td>0.07698 </td><td>0.047210</td><td>0.023810</td><td>...     </td><td> 9.981  </td><td>17.70   </td><td> 65.27  </td><td> 302.0  </td><td>0.10150 </td><td>0.12480 </td><td>0.09441 </td><td>0.04762 </td><td>0.2434  </td><td>0.07431 </td></tr>\n",
       "\t<tr><th scope=row>527</th><td>88147202</td><td>B       </td><td>12.620  </td><td>23.97   </td><td> 81.35  </td><td> 496.4  </td><td>0.07903 </td><td>0.07529 </td><td>0.054380</td><td>0.020360</td><td>...     </td><td>14.200  </td><td>31.31   </td><td> 90.67  </td><td> 624.0  </td><td>0.12270 </td><td>0.34540 </td><td>0.39110 </td><td>0.11800 </td><td>0.2826  </td><td>0.09585 </td></tr>\n",
       "\t<tr><th scope=row>325</th><td>  883539</td><td>B       </td><td>12.420  </td><td>15.04   </td><td> 78.61  </td><td> 476.5  </td><td>0.07926 </td><td>0.03393 </td><td>0.010530</td><td>0.011080</td><td>...     </td><td>13.200  </td><td>20.37   </td><td> 83.85  </td><td> 543.4  </td><td>0.10370 </td><td>0.07776 </td><td>0.06243 </td><td>0.04052 </td><td>0.2901  </td><td>0.06783 </td></tr>\n",
       "\t<tr><th scope=row>455</th><td>  905686</td><td>B       </td><td>11.890  </td><td>21.17   </td><td> 76.39  </td><td> 433.8  </td><td>0.09773 </td><td>0.08120 </td><td>0.025550</td><td>0.021790</td><td>...     </td><td>13.050  </td><td>27.21   </td><td> 85.09  </td><td> 522.9  </td><td>0.14260 </td><td>0.21870 </td><td>0.11640 </td><td>0.08263 </td><td>0.3075  </td><td>0.07351 </td></tr>\n",
       "\t<tr><th scope=row>163</th><td>  901028</td><td>B       </td><td>13.870  </td><td>16.21   </td><td> 88.52  </td><td> 593.7  </td><td>0.08743 </td><td>0.05492 </td><td>0.015020</td><td>0.020880</td><td>...     </td><td>15.110  </td><td>25.58   </td><td> 96.74  </td><td> 694.4  </td><td>0.11530 </td><td>0.10080 </td><td>0.05285 </td><td>0.05556 </td><td>0.2362  </td><td>0.07113 </td></tr>\n",
       "\t<tr><th scope=row>141</th><td>  852781</td><td>M       </td><td>18.610  </td><td>20.25   </td><td>122.10  </td><td>1094.0  </td><td>0.09440 </td><td>0.10660 </td><td>0.149000</td><td>0.077310</td><td>...     </td><td>21.310  </td><td>27.26   </td><td>139.90  </td><td>1403.0  </td><td>0.13380 </td><td>0.21170 </td><td>0.34460 </td><td>0.14900 </td><td>0.2341  </td><td>0.07421 </td></tr>\n",
       "\t<tr><th scope=row>71</th><td>  855138</td><td>M       </td><td>13.480  </td><td>20.82   </td><td> 88.40  </td><td> 559.2  </td><td>0.10160 </td><td>0.12550 </td><td>0.106300</td><td>0.054390</td><td>...     </td><td>15.530  </td><td>26.02   </td><td>107.30  </td><td> 740.4  </td><td>0.16100 </td><td>0.42250 </td><td>0.50300 </td><td>0.22580 </td><td>0.2807  </td><td>0.10710 </td></tr>\n",
       "\t<tr><th scope=row>113</th><td>   86517</td><td>M       </td><td>18.660  </td><td>17.12   </td><td>121.40  </td><td>1077.0  </td><td>0.10540 </td><td>0.11000 </td><td>0.145700</td><td>0.086650</td><td>...     </td><td>22.250  </td><td>24.90   </td><td>145.40  </td><td>1549.0  </td><td>0.15030 </td><td>0.22910 </td><td>0.32720 </td><td>0.16740 </td><td>0.2894  </td><td>0.08456 </td></tr>\n",
       "\t<tr><th scope=row>248</th><td>  921386</td><td>B       </td><td>14.470  </td><td>24.99   </td><td> 95.81  </td><td> 656.4  </td><td>0.08837 </td><td>0.12300 </td><td>0.100900</td><td>0.038900</td><td>...     </td><td>16.220  </td><td>31.73   </td><td>113.50  </td><td> 808.9  </td><td>0.13400 </td><td>0.42020 </td><td>0.40400 </td><td>0.12050 </td><td>0.3187  </td><td>0.10230 </td></tr>\n",
       "\t<tr><th scope=row>58</th><td>  874158</td><td>B       </td><td>10.080  </td><td>15.11   </td><td> 63.76  </td><td> 317.5  </td><td>0.09267 </td><td>0.04695 </td><td>0.001597</td><td>0.002404</td><td>...     </td><td>11.870  </td><td>21.18   </td><td> 75.39  </td><td> 437.0  </td><td>0.15210 </td><td>0.10190 </td><td>0.00692 </td><td>0.01042 </td><td>0.2933  </td><td>0.07697 </td></tr>\n",
       "\t<tr><th scope=row>369</th><td>  893988</td><td>B       </td><td>11.540  </td><td>10.72   </td><td> 73.73  </td><td> 409.1  </td><td>0.08597 </td><td>0.05969 </td><td>0.013670</td><td>0.008907</td><td>...     </td><td>12.340  </td><td>12.87   </td><td> 81.23  </td><td> 467.8  </td><td>0.10920 </td><td>0.16260 </td><td>0.08324 </td><td>0.04715 </td><td>0.3390  </td><td>0.07434 </td></tr>\n",
       "\t<tr><th scope=row>8</th><td>   87880</td><td>M       </td><td>13.810  </td><td>23.75   </td><td> 91.56  </td><td> 597.8  </td><td>0.13230 </td><td>0.17680 </td><td>0.155800</td><td>0.091760</td><td>...     </td><td>19.200  </td><td>41.85   </td><td>128.50  </td><td>1153.0  </td><td>0.22260 </td><td>0.52090 </td><td>0.46460 </td><td>0.20130 </td><td>0.4432  </td><td>0.10860 </td></tr>\n",
       "\t<tr><th scope=row>20</th><td>  866714</td><td>B       </td><td>12.190  </td><td>13.29   </td><td> 79.08  </td><td> 455.8  </td><td>0.10660 </td><td>0.09509 </td><td>0.028550</td><td>0.028820</td><td>...     </td><td>13.340  </td><td>17.81   </td><td> 91.38  </td><td> 545.2  </td><td>0.14270 </td><td>0.25850 </td><td>0.09915 </td><td>0.08187 </td><td>0.3469  </td><td>0.09241 </td></tr>\n",
       "\t<tr><th scope=row>548</th><td> 9010598</td><td>B       </td><td>12.760  </td><td>18.84   </td><td> 81.87  </td><td> 496.6  </td><td>0.09676 </td><td>0.07952 </td><td>0.026880</td><td>0.017810</td><td>...     </td><td>13.750  </td><td>25.99   </td><td> 87.82  </td><td> 579.7  </td><td>0.12980 </td><td>0.18390 </td><td>0.12550 </td><td>0.08312 </td><td>0.2744  </td><td>0.07238 </td></tr>\n",
       "\t<tr><th scope=row>351</th><td>  909410</td><td>B       </td><td>14.020  </td><td>15.66   </td><td> 89.59  </td><td> 606.5  </td><td>0.07966 </td><td>0.05581 </td><td>0.020870</td><td>0.026520</td><td>...     </td><td>14.910  </td><td>19.31   </td><td> 96.53  </td><td> 688.9  </td><td>0.10340 </td><td>0.10170 </td><td>0.06260 </td><td>0.08216 </td><td>0.2136  </td><td>0.06710 </td></tr>\n",
       "\t<tr><th scope=row>400</th><td>  862261</td><td>B       </td><td> 9.787  </td><td>19.94   </td><td> 62.11  </td><td> 294.5  </td><td>0.10240 </td><td>0.05301 </td><td>0.006829</td><td>0.007937</td><td>...     </td><td>10.920  </td><td>26.29   </td><td> 68.81  </td><td> 366.1  </td><td>0.13160 </td><td>0.09473 </td><td>0.02049 </td><td>0.02381 </td><td>0.1934  </td><td>0.08988 </td></tr>\n",
       "\t<tr><th scope=row>33</th><td> 9113538</td><td>M       </td><td>17.600  </td><td>23.33   </td><td>119.00  </td><td> 980.5  </td><td>0.09289 </td><td>0.20040 </td><td>0.213600</td><td>0.100200</td><td>...     </td><td>21.570  </td><td>28.87   </td><td>143.60  </td><td>1437.0  </td><td>0.12070 </td><td>0.47850 </td><td>0.51650 </td><td>0.19960 </td><td>0.2301  </td><td>0.12240 </td></tr>\n",
       "\t<tr><th scope=row>85</th><td>  901549</td><td>B       </td><td>11.270  </td><td>12.96   </td><td> 73.16  </td><td> 386.3  </td><td>0.12370 </td><td>0.11110 </td><td>0.079000</td><td>0.055500</td><td>...     </td><td>12.840  </td><td>20.53   </td><td> 84.93  </td><td> 476.1  </td><td>0.16100 </td><td>0.24290 </td><td>0.22470 </td><td>0.13180 </td><td>0.3343  </td><td>0.09215 </td></tr>\n",
       "\t<tr><th scope=row>456</th><td>86973702</td><td>B       </td><td>14.440  </td><td>15.18   </td><td> 93.97  </td><td> 640.1  </td><td>0.09970 </td><td>0.10210 </td><td>0.084870</td><td>0.055320</td><td>...     </td><td>15.850  </td><td>19.85   </td><td>108.60  </td><td> 766.9  </td><td>0.13160 </td><td>0.27350 </td><td>0.31030 </td><td>0.15990 </td><td>0.2691  </td><td>0.07683 </td></tr>\n",
       "\t<tr><th scope=row>444</th><td>  912519</td><td>B       </td><td>13.470  </td><td>14.06   </td><td> 87.32  </td><td> 546.3  </td><td>0.10710 </td><td>0.11550 </td><td>0.057860</td><td>0.052660</td><td>...     </td><td>14.830  </td><td>18.32   </td><td> 94.94  </td><td> 660.2  </td><td>0.13930 </td><td>0.24990 </td><td>0.18480 </td><td>0.13350 </td><td>0.3227  </td><td>0.09326 </td></tr>\n",
       "\t<tr><th scope=row>430</th><td>  886776</td><td>M       </td><td>15.320  </td><td>17.27   </td><td>103.20  </td><td> 713.3  </td><td>0.13350 </td><td>0.22840 </td><td>0.244800</td><td>0.124200</td><td>...     </td><td>17.730  </td><td>22.66   </td><td>119.80  </td><td> 928.8  </td><td>0.17650 </td><td>0.45030 </td><td>0.44290 </td><td>0.22290 </td><td>0.3258  </td><td>0.11910 </td></tr>\n",
       "\t<tr><th scope=row>446</th><td> 8510824</td><td>B       </td><td> 9.504  </td><td>12.44   </td><td> 60.34  </td><td> 273.9  </td><td>0.10240 </td><td>0.06492 </td><td>0.029560</td><td>0.020760</td><td>...     </td><td>10.230  </td><td>15.66   </td><td> 65.13  </td><td> 314.9  </td><td>0.13240 </td><td>0.11480 </td><td>0.08867 </td><td>0.06227 </td><td>0.2450  </td><td>0.07773 </td></tr>\n",
       "\t<tr><th scope=row>462</th><td>  908445</td><td>M       </td><td>18.820  </td><td>21.97   </td><td>123.70  </td><td>1110.0  </td><td>0.10180 </td><td>0.13890 </td><td>0.159400</td><td>0.087440</td><td>...     </td><td>22.660  </td><td>30.93   </td><td>145.30  </td><td>1603.0  </td><td>0.13900 </td><td>0.34630 </td><td>0.39120 </td><td>0.17080 </td><td>0.3007  </td><td>0.08314 </td></tr>\n",
       "</tbody>\n",
       "</table>\n"
      ],
      "text/latex": [
       "\\begin{tabular}{r|llllllllllllllllllllllllllllllll}\n",
       "  & id & diagnosis & radius\\_mean & texture\\_mean & perimeter\\_mean & area\\_mean & smoothness\\_mean & compactness\\_mean & concavity\\_mean & points\\_mean & ... & radius\\_worst & texture\\_worst & perimeter\\_worst & area\\_worst & smoothness\\_worst & compactness\\_worst & concavity\\_worst & points\\_worst & symmetry\\_worst & dimension\\_worst\\\\\n",
       "\\hline\n",
       "\t308 &     9047 & B        & 12.940   & 16.17    &  83.18   &  507.6   & 0.09879  & 0.08836  & 0.032960 & 0.023900 & ...      & 13.860   & 23.02    &  89.69   &  580.9   & 0.11720  & 0.19580  & 0.18100  & 0.08388  & 0.3297   & 0.07834 \\\\\n",
       "\t209 &   893526 & B        & 13.500   & 12.71    &  85.69   &  566.2   & 0.07376  & 0.03614  & 0.002758 & 0.004419 & ...      & 14.970   & 16.94    &  95.48   &  698.7   & 0.09023  & 0.05836  & 0.01379  & 0.02210  & 0.2267   & 0.06192 \\\\\n",
       "\t191 &   869104 & M        & 16.110   & 18.05    & 105.10   &  813.0   & 0.09721  & 0.11370  & 0.094470 & 0.059430 & ...      & 19.920   & 25.27    & 129.00   & 1233.0   & 0.13140  & 0.22360  & 0.28020  & 0.12160  & 0.2792   & 0.08158 \\\\\n",
       "\t341 &   905189 & B        & 16.140   & 14.86    & 104.30   &  800.0   & 0.09495  & 0.08501  & 0.055000 & 0.045280 & ...      & 17.710   & 19.58    & 115.90   &  947.9   & 0.12060  & 0.17220  & 0.23100  & 0.11290  & 0.2778   & 0.07012 \\\\\n",
       "\t534 & 87281702 & M        & 16.460   & 20.11    & 109.30   &  832.9   & 0.09831  & 0.15560  & 0.179300 & 0.088660 & ...      & 17.790   & 28.45    & 123.50   &  981.2   & 0.14150  & 0.46670  & 0.58620  & 0.20350  & 0.3054   & 0.09519 \\\\\n",
       "\t370 &   886226 & M        & 19.450   & 19.33    & 126.50   & 1169.0   & 0.10350  & 0.11880  & 0.137900 & 0.085910 & ...      & 25.700   & 24.57    & 163.10   & 1972.0   & 0.14970  & 0.31610  & 0.43170  & 0.19990  & 0.3379   & 0.08950 \\\\\n",
       "\t278 &   926954 & M        & 16.600   & 28.08    & 108.30   &  858.1   & 0.08455  & 0.10230  & 0.092510 & 0.053020 & ...      & 18.980   & 34.12    & 126.70   & 1124.0   & 0.11390  & 0.30940  & 0.34030  & 0.14180  & 0.2218   & 0.07820 \\\\\n",
       "\t367 &  8711202 & M        & 17.680   & 20.74    & 117.40   &  963.7   & 0.11150  & 0.16650  & 0.185500 & 0.105400 & ...      & 20.470   & 25.11    & 132.90   & 1302.0   & 0.14180  & 0.34980  & 0.35830  & 0.15150  & 0.2463   & 0.07738 \\\\\n",
       "\t109 &   923465 & B        & 10.820   & 24.21    &  68.89   &  361.6   & 0.08192  & 0.06602  & 0.015480 & 0.008160 & ...      & 13.030   & 31.45    &  83.90   &  505.6   & 0.12040  & 0.16330  & 0.06194  & 0.03264  & 0.3059   & 0.07626 \\\\\n",
       "\t533 & 90769602 & B        & 12.720   & 17.67    &  80.98   &  501.3   & 0.07896  & 0.04522  & 0.014020 & 0.018350 & ...      & 13.820   & 20.96    &  88.87   &  586.8   & 0.10680  & 0.09605  & 0.03469  & 0.03612  & 0.2165   & 0.06025 \\\\\n",
       "\t524 &    92751 & B        &  7.760   & 24.54    &  47.92   &  181.0   & 0.05263  & 0.04362  & 0.000000 & 0.000000 & ...      &  9.456   & 30.37    &  59.16   &  268.6   & 0.08996  & 0.06444  & 0.00000  & 0.00000  & 0.2871   & 0.07039 \\\\\n",
       "\t297 &   919555 & M        & 20.550   & 20.86    & 137.80   & 1308.0   & 0.10460  & 0.17390  & 0.208500 & 0.132200 & ...      & 24.300   & 25.48    & 160.20   & 1809.0   & 0.12680  & 0.31350  & 0.44330  & 0.21480  & 0.3077   & 0.07569 \\\\\n",
       "\t35 &   915940 & B        & 14.580   & 13.66    &  94.29   &  658.8   & 0.09832  & 0.08918  & 0.082220 & 0.043490 & ...      & 16.760   & 17.24    & 108.50   &  862.0   & 0.12230  & 0.19280  & 0.24920  & 0.09186  & 0.2626   & 0.07048 \\\\\n",
       "\t115 &   857343 & B        & 11.760   & 21.60    &  74.72   &  427.9   & 0.08637  & 0.04966  & 0.016570 & 0.011150 & ...      & 12.980   & 25.72    &  82.98   &  516.5   & 0.10850  & 0.08615  & 0.05523  & 0.03715  & 0.2433   & 0.06563 \\\\\n",
       "\t51 &  8810987 & M        & 13.860   & 16.93    &  90.96   &  578.9   & 0.10260  & 0.15170  & 0.099010 & 0.056020 & ...      & 15.750   & 26.93    & 104.40   &  750.1   & 0.14600  & 0.43700  & 0.46360  & 0.16540  & 0.3630   & 0.10590 \\\\\n",
       "\t470 &   909220 & B        & 14.040   & 15.98    &  89.78   &  611.2   & 0.08458  & 0.05895  & 0.035340 & 0.029440 & ...      & 15.660   & 21.58    & 101.20   &  750.0   & 0.11950  & 0.12520  & 0.11170  & 0.07453  & 0.2725   & 0.07234 \\\\\n",
       "\t94 &  9112594 & B        & 13.000   & 25.13    &  82.61   &  520.2   & 0.08369  & 0.05073  & 0.012060 & 0.017620 & ...      & 14.340   & 31.88    &  91.06   &  628.5   & 0.12180  & 0.10930  & 0.04462  & 0.05921  & 0.2306   & 0.06291 \\\\\n",
       "\t292 &  9013005 & B        & 13.690   & 16.07    &  87.84   &  579.1   & 0.08302  & 0.06374  & 0.025560 & 0.020310 & ...      & 14.840   & 20.21    &  99.16   &  670.6   & 0.11050  & 0.20960  & 0.13460  & 0.06987  & 0.3323   & 0.07701 \\\\\n",
       "\t180 &   862965 & B        & 12.180   & 20.52    &  77.22   &  458.7   & 0.08013  & 0.04038  & 0.023830 & 0.017700 & ...      & 13.340   & 32.84    &  84.58   &  547.8   & 0.11230  & 0.08862  & 0.11450  & 0.07431  & 0.2694   & 0.06878 \\\\\n",
       "\t194 & 84799002 & M        & 14.540   & 27.54    &  96.73   &  658.8   & 0.11390  & 0.15950  & 0.163900 & 0.073640 & ...      & 17.460   & 37.13    & 124.10   &  943.2   & 0.16780  & 0.65770  & 0.70260  & 0.17120  & 0.4218   & 0.13410 \\\\\n",
       "\t567 &   873885 & M        & 15.280   & 22.41    &  98.92   &  710.6   & 0.09057  & 0.10520  & 0.053750 & 0.032630 & ...      & 17.800   & 28.03    & 113.80   &  973.1   & 0.13010  & 0.32990  & 0.36300  & 0.12260  & 0.3175   & 0.09772 \\\\\n",
       "\t149 &   894335 & B        & 12.430   & 17.00    &  78.60   &  477.3   & 0.07557  & 0.03454  & 0.013420 & 0.016990 & ...      & 12.900   & 20.21    &  81.76   &  515.9   & 0.08409  & 0.04712  & 0.02237  & 0.02832  & 0.1901   & 0.05932 \\\\\n",
       "\t99 &  8812844 & B        & 10.180   & 17.53    &  65.12   &  313.1   & 0.10610  & 0.08502  & 0.017680 & 0.019150 & ...      & 11.170   & 22.84    &  71.94   &  375.6   & 0.14060  & 0.14400  & 0.06572  & 0.05575  & 0.3055   & 0.08797 \\\\\n",
       "\t394 &  8912049 & M        & 19.160   & 26.60    & 126.20   & 1138.0   & 0.10200  & 0.14530  & 0.192100 & 0.096640 & ...      & 23.720   & 35.90    & 159.80   & 1724.0   & 0.17820  & 0.38410  & 0.57540  & 0.18720  & 0.3258   & 0.09720 \\\\\n",
       "\t358 &  8810528 & B        & 11.840   & 18.94    &  75.51   &  428.0   & 0.08871  & 0.06900  & 0.026690 & 0.013930 & ...      & 13.300   & 24.99    &  85.22   &  546.3   & 0.12800  & 0.18800  & 0.14710  & 0.06913  & 0.2535   & 0.07993 \\\\\n",
       "\t216 &   858970 & B        & 10.170   & 14.88    &  64.55   &  311.9   & 0.11340  & 0.08061  & 0.010840 & 0.012900 & ...      & 11.020   & 17.45    &  69.86   &  368.6   & 0.12750  & 0.09866  & 0.02168  & 0.02579  & 0.3557   & 0.08020 \\\\\n",
       "\t468 &  9110127 & M        & 18.030   & 16.85    & 117.50   &  990.0   & 0.08947  & 0.12320  & 0.109000 & 0.062540 & ...      & 20.380   & 22.02    & 133.30   & 1292.0   & 0.12630  & 0.26660  & 0.42900  & 0.15350  & 0.2842   & 0.08225 \\\\\n",
       "\t487 &  9113778 & B        &  9.667   & 18.49    &  61.49   &  289.1   & 0.08946  & 0.06258  & 0.029480 & 0.015140 & ...      & 11.140   & 25.62    &  70.88   &  385.2   & 0.12340  & 0.15420  & 0.12770  & 0.06560  & 0.3174   & 0.08524 \\\\\n",
       "\t205 & 89864002 & B        & 11.710   & 15.45    &  75.03   &  420.3   & 0.11500  & 0.07281  & 0.040060 & 0.032500 & ...      & 13.060   & 18.16    &  84.16   &  516.4   & 0.14600  & 0.11150  & 0.10870  & 0.07864  & 0.2765   & 0.07806 \\\\\n",
       "\t377 &   921644 & B        & 14.740   & 25.42    &  94.70   &  668.6   & 0.08275  & 0.07214  & 0.041050 & 0.030270 & ...      & 16.510   & 32.29    & 107.40   &  826.4   & 0.10600  & 0.13760  & 0.16110  & 0.10950  & 0.2722   & 0.06956 \\\\\n",
       "\t... & ... & ... & ... & ... & ... & ... & ... & ... & ... & ... &     & ... & ... & ... & ... & ... & ... & ... & ... & ... & ...\\\\\n",
       "\t447 & 88411702 & B        & 13.750   & 23.77    &  88.54   &  590.0   & 0.08043  & 0.06807  & 0.046970 & 0.023440 & ...      & 15.010   & 26.34    &  98.00   &  706.0   & 0.09368  & 0.14420  & 0.13590  & 0.06106  & 0.2663   & 0.06321 \\\\\n",
       "\t169 &  8711002 & B        & 13.150   & 15.34    &  85.31   &  538.9   & 0.09384  & 0.08498  & 0.092930 & 0.034830 & ...      & 14.770   & 20.50    &  97.67   &  677.3   & 0.14780  & 0.22560  & 0.30090  & 0.09722  & 0.3849   & 0.08633 \\\\\n",
       "\t15 &  9111805 & M        & 19.590   & 25.00    & 127.70   & 1191.0   & 0.10320  & 0.09871  & 0.165500 & 0.090630 & ...      & 21.440   & 30.96    & 139.80   & 1421.0   & 0.15280  & 0.18450  & 0.39770  & 0.14660  & 0.2293   & 0.06091 \\\\\n",
       "\t111 &   863031 & B        & 11.640   & 18.33    &  75.17   &  412.5   & 0.11420  & 0.10170  & 0.070700 & 0.034850 & ...      & 13.140   & 29.26    &  85.51   &  521.7   & 0.16880  & 0.26600  & 0.28730  & 0.12180  & 0.2806   & 0.09097 \\\\\n",
       "\t143 &   926682 & M        & 20.130   & 28.25    & 131.20   & 1261.0   & 0.09780  & 0.10340  & 0.144000 & 0.097910 & ...      & 23.690   & 38.25    & 155.00   & 1731.0   & 0.11660  & 0.19220  & 0.32150  & 0.16280  & 0.2572   & 0.06637 \\\\\n",
       "\t60 &    89122 & M        & 19.400   & 18.18    & 127.20   & 1145.0   & 0.10370  & 0.14420  & 0.162600 & 0.094640 & ...      & 23.790   & 28.65    & 152.40   & 1628.0   & 0.15180  & 0.37490  & 0.43160  & 0.22520  & 0.3590   & 0.07787 \\\\\n",
       "\t55 &   878796 & M        & 23.290   & 26.67    & 158.90   & 1685.0   & 0.11410  & 0.20840  & 0.352300 & 0.162000 & ...      & 25.120   & 32.68    & 177.00   & 1986.0   & 0.15360  & 0.41670  & 0.78920  & 0.27330  & 0.3198   & 0.08762 \\\\\n",
       "\t347 &  9010333 & B        &  8.878   & 15.49    &  56.74   &  241.0   & 0.08293  & 0.07698  & 0.047210 & 0.023810 & ...      &  9.981   & 17.70    &  65.27   &  302.0   & 0.10150  & 0.12480  & 0.09441  & 0.04762  & 0.2434   & 0.07431 \\\\\n",
       "\t527 & 88147202 & B        & 12.620   & 23.97    &  81.35   &  496.4   & 0.07903  & 0.07529  & 0.054380 & 0.020360 & ...      & 14.200   & 31.31    &  90.67   &  624.0   & 0.12270  & 0.34540  & 0.39110  & 0.11800  & 0.2826   & 0.09585 \\\\\n",
       "\t325 &   883539 & B        & 12.420   & 15.04    &  78.61   &  476.5   & 0.07926  & 0.03393  & 0.010530 & 0.011080 & ...      & 13.200   & 20.37    &  83.85   &  543.4   & 0.10370  & 0.07776  & 0.06243  & 0.04052  & 0.2901   & 0.06783 \\\\\n",
       "\t455 &   905686 & B        & 11.890   & 21.17    &  76.39   &  433.8   & 0.09773  & 0.08120  & 0.025550 & 0.021790 & ...      & 13.050   & 27.21    &  85.09   &  522.9   & 0.14260  & 0.21870  & 0.11640  & 0.08263  & 0.3075   & 0.07351 \\\\\n",
       "\t163 &   901028 & B        & 13.870   & 16.21    &  88.52   &  593.7   & 0.08743  & 0.05492  & 0.015020 & 0.020880 & ...      & 15.110   & 25.58    &  96.74   &  694.4   & 0.11530  & 0.10080  & 0.05285  & 0.05556  & 0.2362   & 0.07113 \\\\\n",
       "\t141 &   852781 & M        & 18.610   & 20.25    & 122.10   & 1094.0   & 0.09440  & 0.10660  & 0.149000 & 0.077310 & ...      & 21.310   & 27.26    & 139.90   & 1403.0   & 0.13380  & 0.21170  & 0.34460  & 0.14900  & 0.2341   & 0.07421 \\\\\n",
       "\t71 &   855138 & M        & 13.480   & 20.82    &  88.40   &  559.2   & 0.10160  & 0.12550  & 0.106300 & 0.054390 & ...      & 15.530   & 26.02    & 107.30   &  740.4   & 0.16100  & 0.42250  & 0.50300  & 0.22580  & 0.2807   & 0.10710 \\\\\n",
       "\t113 &    86517 & M        & 18.660   & 17.12    & 121.40   & 1077.0   & 0.10540  & 0.11000  & 0.145700 & 0.086650 & ...      & 22.250   & 24.90    & 145.40   & 1549.0   & 0.15030  & 0.22910  & 0.32720  & 0.16740  & 0.2894   & 0.08456 \\\\\n",
       "\t248 &   921386 & B        & 14.470   & 24.99    &  95.81   &  656.4   & 0.08837  & 0.12300  & 0.100900 & 0.038900 & ...      & 16.220   & 31.73    & 113.50   &  808.9   & 0.13400  & 0.42020  & 0.40400  & 0.12050  & 0.3187   & 0.10230 \\\\\n",
       "\t58 &   874158 & B        & 10.080   & 15.11    &  63.76   &  317.5   & 0.09267  & 0.04695  & 0.001597 & 0.002404 & ...      & 11.870   & 21.18    &  75.39   &  437.0   & 0.15210  & 0.10190  & 0.00692  & 0.01042  & 0.2933   & 0.07697 \\\\\n",
       "\t369 &   893988 & B        & 11.540   & 10.72    &  73.73   &  409.1   & 0.08597  & 0.05969  & 0.013670 & 0.008907 & ...      & 12.340   & 12.87    &  81.23   &  467.8   & 0.10920  & 0.16260  & 0.08324  & 0.04715  & 0.3390   & 0.07434 \\\\\n",
       "\t8 &    87880 & M        & 13.810   & 23.75    &  91.56   &  597.8   & 0.13230  & 0.17680  & 0.155800 & 0.091760 & ...      & 19.200   & 41.85    & 128.50   & 1153.0   & 0.22260  & 0.52090  & 0.46460  & 0.20130  & 0.4432   & 0.10860 \\\\\n",
       "\t20 &   866714 & B        & 12.190   & 13.29    &  79.08   &  455.8   & 0.10660  & 0.09509  & 0.028550 & 0.028820 & ...      & 13.340   & 17.81    &  91.38   &  545.2   & 0.14270  & 0.25850  & 0.09915  & 0.08187  & 0.3469   & 0.09241 \\\\\n",
       "\t548 &  9010598 & B        & 12.760   & 18.84    &  81.87   &  496.6   & 0.09676  & 0.07952  & 0.026880 & 0.017810 & ...      & 13.750   & 25.99    &  87.82   &  579.7   & 0.12980  & 0.18390  & 0.12550  & 0.08312  & 0.2744   & 0.07238 \\\\\n",
       "\t351 &   909410 & B        & 14.020   & 15.66    &  89.59   &  606.5   & 0.07966  & 0.05581  & 0.020870 & 0.026520 & ...      & 14.910   & 19.31    &  96.53   &  688.9   & 0.10340  & 0.10170  & 0.06260  & 0.08216  & 0.2136   & 0.06710 \\\\\n",
       "\t400 &   862261 & B        &  9.787   & 19.94    &  62.11   &  294.5   & 0.10240  & 0.05301  & 0.006829 & 0.007937 & ...      & 10.920   & 26.29    &  68.81   &  366.1   & 0.13160  & 0.09473  & 0.02049  & 0.02381  & 0.1934   & 0.08988 \\\\\n",
       "\t33 &  9113538 & M        & 17.600   & 23.33    & 119.00   &  980.5   & 0.09289  & 0.20040  & 0.213600 & 0.100200 & ...      & 21.570   & 28.87    & 143.60   & 1437.0   & 0.12070  & 0.47850  & 0.51650  & 0.19960  & 0.2301   & 0.12240 \\\\\n",
       "\t85 &   901549 & B        & 11.270   & 12.96    &  73.16   &  386.3   & 0.12370  & 0.11110  & 0.079000 & 0.055500 & ...      & 12.840   & 20.53    &  84.93   &  476.1   & 0.16100  & 0.24290  & 0.22470  & 0.13180  & 0.3343   & 0.09215 \\\\\n",
       "\t456 & 86973702 & B        & 14.440   & 15.18    &  93.97   &  640.1   & 0.09970  & 0.10210  & 0.084870 & 0.055320 & ...      & 15.850   & 19.85    & 108.60   &  766.9   & 0.13160  & 0.27350  & 0.31030  & 0.15990  & 0.2691   & 0.07683 \\\\\n",
       "\t444 &   912519 & B        & 13.470   & 14.06    &  87.32   &  546.3   & 0.10710  & 0.11550  & 0.057860 & 0.052660 & ...      & 14.830   & 18.32    &  94.94   &  660.2   & 0.13930  & 0.24990  & 0.18480  & 0.13350  & 0.3227   & 0.09326 \\\\\n",
       "\t430 &   886776 & M        & 15.320   & 17.27    & 103.20   &  713.3   & 0.13350  & 0.22840  & 0.244800 & 0.124200 & ...      & 17.730   & 22.66    & 119.80   &  928.8   & 0.17650  & 0.45030  & 0.44290  & 0.22290  & 0.3258   & 0.11910 \\\\\n",
       "\t446 &  8510824 & B        &  9.504   & 12.44    &  60.34   &  273.9   & 0.10240  & 0.06492  & 0.029560 & 0.020760 & ...      & 10.230   & 15.66    &  65.13   &  314.9   & 0.13240  & 0.11480  & 0.08867  & 0.06227  & 0.2450   & 0.07773 \\\\\n",
       "\t462 &   908445 & M        & 18.820   & 21.97    & 123.70   & 1110.0   & 0.10180  & 0.13890  & 0.159400 & 0.087440 & ...      & 22.660   & 30.93    & 145.30   & 1603.0   & 0.13900  & 0.34630  & 0.39120  & 0.17080  & 0.3007   & 0.08314 \\\\\n",
       "\\end{tabular}\n"
      ],
      "text/markdown": [
       "\n",
       "| <!--/--> | id | diagnosis | radius_mean | texture_mean | perimeter_mean | area_mean | smoothness_mean | compactness_mean | concavity_mean | points_mean | ... | radius_worst | texture_worst | perimeter_worst | area_worst | smoothness_worst | compactness_worst | concavity_worst | points_worst | symmetry_worst | dimension_worst |\n",
       "|---|---|---|---|---|---|---|---|---|---|---|---|---|---|---|---|---|---|---|---|---|---|\n",
       "| 308 |     9047 | B        | 12.940   | 16.17    |  83.18   |  507.6   | 0.09879  | 0.08836  | 0.032960 | 0.023900 | ...      | 13.860   | 23.02    |  89.69   |  580.9   | 0.11720  | 0.19580  | 0.18100  | 0.08388  | 0.3297   | 0.07834  |\n",
       "| 209 |   893526 | B        | 13.500   | 12.71    |  85.69   |  566.2   | 0.07376  | 0.03614  | 0.002758 | 0.004419 | ...      | 14.970   | 16.94    |  95.48   |  698.7   | 0.09023  | 0.05836  | 0.01379  | 0.02210  | 0.2267   | 0.06192  |\n",
       "| 191 |   869104 | M        | 16.110   | 18.05    | 105.10   |  813.0   | 0.09721  | 0.11370  | 0.094470 | 0.059430 | ...      | 19.920   | 25.27    | 129.00   | 1233.0   | 0.13140  | 0.22360  | 0.28020  | 0.12160  | 0.2792   | 0.08158  |\n",
       "| 341 |   905189 | B        | 16.140   | 14.86    | 104.30   |  800.0   | 0.09495  | 0.08501  | 0.055000 | 0.045280 | ...      | 17.710   | 19.58    | 115.90   |  947.9   | 0.12060  | 0.17220  | 0.23100  | 0.11290  | 0.2778   | 0.07012  |\n",
       "| 534 | 87281702 | M        | 16.460   | 20.11    | 109.30   |  832.9   | 0.09831  | 0.15560  | 0.179300 | 0.088660 | ...      | 17.790   | 28.45    | 123.50   |  981.2   | 0.14150  | 0.46670  | 0.58620  | 0.20350  | 0.3054   | 0.09519  |\n",
       "| 370 |   886226 | M        | 19.450   | 19.33    | 126.50   | 1169.0   | 0.10350  | 0.11880  | 0.137900 | 0.085910 | ...      | 25.700   | 24.57    | 163.10   | 1972.0   | 0.14970  | 0.31610  | 0.43170  | 0.19990  | 0.3379   | 0.08950  |\n",
       "| 278 |   926954 | M        | 16.600   | 28.08    | 108.30   |  858.1   | 0.08455  | 0.10230  | 0.092510 | 0.053020 | ...      | 18.980   | 34.12    | 126.70   | 1124.0   | 0.11390  | 0.30940  | 0.34030  | 0.14180  | 0.2218   | 0.07820  |\n",
       "| 367 |  8711202 | M        | 17.680   | 20.74    | 117.40   |  963.7   | 0.11150  | 0.16650  | 0.185500 | 0.105400 | ...      | 20.470   | 25.11    | 132.90   | 1302.0   | 0.14180  | 0.34980  | 0.35830  | 0.15150  | 0.2463   | 0.07738  |\n",
       "| 109 |   923465 | B        | 10.820   | 24.21    |  68.89   |  361.6   | 0.08192  | 0.06602  | 0.015480 | 0.008160 | ...      | 13.030   | 31.45    |  83.90   |  505.6   | 0.12040  | 0.16330  | 0.06194  | 0.03264  | 0.3059   | 0.07626  |\n",
       "| 533 | 90769602 | B        | 12.720   | 17.67    |  80.98   |  501.3   | 0.07896  | 0.04522  | 0.014020 | 0.018350 | ...      | 13.820   | 20.96    |  88.87   |  586.8   | 0.10680  | 0.09605  | 0.03469  | 0.03612  | 0.2165   | 0.06025  |\n",
       "| 524 |    92751 | B        |  7.760   | 24.54    |  47.92   |  181.0   | 0.05263  | 0.04362  | 0.000000 | 0.000000 | ...      |  9.456   | 30.37    |  59.16   |  268.6   | 0.08996  | 0.06444  | 0.00000  | 0.00000  | 0.2871   | 0.07039  |\n",
       "| 297 |   919555 | M        | 20.550   | 20.86    | 137.80   | 1308.0   | 0.10460  | 0.17390  | 0.208500 | 0.132200 | ...      | 24.300   | 25.48    | 160.20   | 1809.0   | 0.12680  | 0.31350  | 0.44330  | 0.21480  | 0.3077   | 0.07569  |\n",
       "| 35 |   915940 | B        | 14.580   | 13.66    |  94.29   |  658.8   | 0.09832  | 0.08918  | 0.082220 | 0.043490 | ...      | 16.760   | 17.24    | 108.50   |  862.0   | 0.12230  | 0.19280  | 0.24920  | 0.09186  | 0.2626   | 0.07048  |\n",
       "| 115 |   857343 | B        | 11.760   | 21.60    |  74.72   |  427.9   | 0.08637  | 0.04966  | 0.016570 | 0.011150 | ...      | 12.980   | 25.72    |  82.98   |  516.5   | 0.10850  | 0.08615  | 0.05523  | 0.03715  | 0.2433   | 0.06563  |\n",
       "| 51 |  8810987 | M        | 13.860   | 16.93    |  90.96   |  578.9   | 0.10260  | 0.15170  | 0.099010 | 0.056020 | ...      | 15.750   | 26.93    | 104.40   |  750.1   | 0.14600  | 0.43700  | 0.46360  | 0.16540  | 0.3630   | 0.10590  |\n",
       "| 470 |   909220 | B        | 14.040   | 15.98    |  89.78   |  611.2   | 0.08458  | 0.05895  | 0.035340 | 0.029440 | ...      | 15.660   | 21.58    | 101.20   |  750.0   | 0.11950  | 0.12520  | 0.11170  | 0.07453  | 0.2725   | 0.07234  |\n",
       "| 94 |  9112594 | B        | 13.000   | 25.13    |  82.61   |  520.2   | 0.08369  | 0.05073  | 0.012060 | 0.017620 | ...      | 14.340   | 31.88    |  91.06   |  628.5   | 0.12180  | 0.10930  | 0.04462  | 0.05921  | 0.2306   | 0.06291  |\n",
       "| 292 |  9013005 | B        | 13.690   | 16.07    |  87.84   |  579.1   | 0.08302  | 0.06374  | 0.025560 | 0.020310 | ...      | 14.840   | 20.21    |  99.16   |  670.6   | 0.11050  | 0.20960  | 0.13460  | 0.06987  | 0.3323   | 0.07701  |\n",
       "| 180 |   862965 | B        | 12.180   | 20.52    |  77.22   |  458.7   | 0.08013  | 0.04038  | 0.023830 | 0.017700 | ...      | 13.340   | 32.84    |  84.58   |  547.8   | 0.11230  | 0.08862  | 0.11450  | 0.07431  | 0.2694   | 0.06878  |\n",
       "| 194 | 84799002 | M        | 14.540   | 27.54    |  96.73   |  658.8   | 0.11390  | 0.15950  | 0.163900 | 0.073640 | ...      | 17.460   | 37.13    | 124.10   |  943.2   | 0.16780  | 0.65770  | 0.70260  | 0.17120  | 0.4218   | 0.13410  |\n",
       "| 567 |   873885 | M        | 15.280   | 22.41    |  98.92   |  710.6   | 0.09057  | 0.10520  | 0.053750 | 0.032630 | ...      | 17.800   | 28.03    | 113.80   |  973.1   | 0.13010  | 0.32990  | 0.36300  | 0.12260  | 0.3175   | 0.09772  |\n",
       "| 149 |   894335 | B        | 12.430   | 17.00    |  78.60   |  477.3   | 0.07557  | 0.03454  | 0.013420 | 0.016990 | ...      | 12.900   | 20.21    |  81.76   |  515.9   | 0.08409  | 0.04712  | 0.02237  | 0.02832  | 0.1901   | 0.05932  |\n",
       "| 99 |  8812844 | B        | 10.180   | 17.53    |  65.12   |  313.1   | 0.10610  | 0.08502  | 0.017680 | 0.019150 | ...      | 11.170   | 22.84    |  71.94   |  375.6   | 0.14060  | 0.14400  | 0.06572  | 0.05575  | 0.3055   | 0.08797  |\n",
       "| 394 |  8912049 | M        | 19.160   | 26.60    | 126.20   | 1138.0   | 0.10200  | 0.14530  | 0.192100 | 0.096640 | ...      | 23.720   | 35.90    | 159.80   | 1724.0   | 0.17820  | 0.38410  | 0.57540  | 0.18720  | 0.3258   | 0.09720  |\n",
       "| 358 |  8810528 | B        | 11.840   | 18.94    |  75.51   |  428.0   | 0.08871  | 0.06900  | 0.026690 | 0.013930 | ...      | 13.300   | 24.99    |  85.22   |  546.3   | 0.12800  | 0.18800  | 0.14710  | 0.06913  | 0.2535   | 0.07993  |\n",
       "| 216 |   858970 | B        | 10.170   | 14.88    |  64.55   |  311.9   | 0.11340  | 0.08061  | 0.010840 | 0.012900 | ...      | 11.020   | 17.45    |  69.86   |  368.6   | 0.12750  | 0.09866  | 0.02168  | 0.02579  | 0.3557   | 0.08020  |\n",
       "| 468 |  9110127 | M        | 18.030   | 16.85    | 117.50   |  990.0   | 0.08947  | 0.12320  | 0.109000 | 0.062540 | ...      | 20.380   | 22.02    | 133.30   | 1292.0   | 0.12630  | 0.26660  | 0.42900  | 0.15350  | 0.2842   | 0.08225  |\n",
       "| 487 |  9113778 | B        |  9.667   | 18.49    |  61.49   |  289.1   | 0.08946  | 0.06258  | 0.029480 | 0.015140 | ...      | 11.140   | 25.62    |  70.88   |  385.2   | 0.12340  | 0.15420  | 0.12770  | 0.06560  | 0.3174   | 0.08524  |\n",
       "| 205 | 89864002 | B        | 11.710   | 15.45    |  75.03   |  420.3   | 0.11500  | 0.07281  | 0.040060 | 0.032500 | ...      | 13.060   | 18.16    |  84.16   |  516.4   | 0.14600  | 0.11150  | 0.10870  | 0.07864  | 0.2765   | 0.07806  |\n",
       "| 377 |   921644 | B        | 14.740   | 25.42    |  94.70   |  668.6   | 0.08275  | 0.07214  | 0.041050 | 0.030270 | ...      | 16.510   | 32.29    | 107.40   |  826.4   | 0.10600  | 0.13760  | 0.16110  | 0.10950  | 0.2722   | 0.06956  |\n",
       "| ... | ... | ... | ... | ... | ... | ... | ... | ... | ... | ... |     | ... | ... | ... | ... | ... | ... | ... | ... | ... | ... |\n",
       "| 447 | 88411702 | B        | 13.750   | 23.77    |  88.54   |  590.0   | 0.08043  | 0.06807  | 0.046970 | 0.023440 | ...      | 15.010   | 26.34    |  98.00   |  706.0   | 0.09368  | 0.14420  | 0.13590  | 0.06106  | 0.2663   | 0.06321  |\n",
       "| 169 |  8711002 | B        | 13.150   | 15.34    |  85.31   |  538.9   | 0.09384  | 0.08498  | 0.092930 | 0.034830 | ...      | 14.770   | 20.50    |  97.67   |  677.3   | 0.14780  | 0.22560  | 0.30090  | 0.09722  | 0.3849   | 0.08633  |\n",
       "| 15 |  9111805 | M        | 19.590   | 25.00    | 127.70   | 1191.0   | 0.10320  | 0.09871  | 0.165500 | 0.090630 | ...      | 21.440   | 30.96    | 139.80   | 1421.0   | 0.15280  | 0.18450  | 0.39770  | 0.14660  | 0.2293   | 0.06091  |\n",
       "| 111 |   863031 | B        | 11.640   | 18.33    |  75.17   |  412.5   | 0.11420  | 0.10170  | 0.070700 | 0.034850 | ...      | 13.140   | 29.26    |  85.51   |  521.7   | 0.16880  | 0.26600  | 0.28730  | 0.12180  | 0.2806   | 0.09097  |\n",
       "| 143 |   926682 | M        | 20.130   | 28.25    | 131.20   | 1261.0   | 0.09780  | 0.10340  | 0.144000 | 0.097910 | ...      | 23.690   | 38.25    | 155.00   | 1731.0   | 0.11660  | 0.19220  | 0.32150  | 0.16280  | 0.2572   | 0.06637  |\n",
       "| 60 |    89122 | M        | 19.400   | 18.18    | 127.20   | 1145.0   | 0.10370  | 0.14420  | 0.162600 | 0.094640 | ...      | 23.790   | 28.65    | 152.40   | 1628.0   | 0.15180  | 0.37490  | 0.43160  | 0.22520  | 0.3590   | 0.07787  |\n",
       "| 55 |   878796 | M        | 23.290   | 26.67    | 158.90   | 1685.0   | 0.11410  | 0.20840  | 0.352300 | 0.162000 | ...      | 25.120   | 32.68    | 177.00   | 1986.0   | 0.15360  | 0.41670  | 0.78920  | 0.27330  | 0.3198   | 0.08762  |\n",
       "| 347 |  9010333 | B        |  8.878   | 15.49    |  56.74   |  241.0   | 0.08293  | 0.07698  | 0.047210 | 0.023810 | ...      |  9.981   | 17.70    |  65.27   |  302.0   | 0.10150  | 0.12480  | 0.09441  | 0.04762  | 0.2434   | 0.07431  |\n",
       "| 527 | 88147202 | B        | 12.620   | 23.97    |  81.35   |  496.4   | 0.07903  | 0.07529  | 0.054380 | 0.020360 | ...      | 14.200   | 31.31    |  90.67   |  624.0   | 0.12270  | 0.34540  | 0.39110  | 0.11800  | 0.2826   | 0.09585  |\n",
       "| 325 |   883539 | B        | 12.420   | 15.04    |  78.61   |  476.5   | 0.07926  | 0.03393  | 0.010530 | 0.011080 | ...      | 13.200   | 20.37    |  83.85   |  543.4   | 0.10370  | 0.07776  | 0.06243  | 0.04052  | 0.2901   | 0.06783  |\n",
       "| 455 |   905686 | B        | 11.890   | 21.17    |  76.39   |  433.8   | 0.09773  | 0.08120  | 0.025550 | 0.021790 | ...      | 13.050   | 27.21    |  85.09   |  522.9   | 0.14260  | 0.21870  | 0.11640  | 0.08263  | 0.3075   | 0.07351  |\n",
       "| 163 |   901028 | B        | 13.870   | 16.21    |  88.52   |  593.7   | 0.08743  | 0.05492  | 0.015020 | 0.020880 | ...      | 15.110   | 25.58    |  96.74   |  694.4   | 0.11530  | 0.10080  | 0.05285  | 0.05556  | 0.2362   | 0.07113  |\n",
       "| 141 |   852781 | M        | 18.610   | 20.25    | 122.10   | 1094.0   | 0.09440  | 0.10660  | 0.149000 | 0.077310 | ...      | 21.310   | 27.26    | 139.90   | 1403.0   | 0.13380  | 0.21170  | 0.34460  | 0.14900  | 0.2341   | 0.07421  |\n",
       "| 71 |   855138 | M        | 13.480   | 20.82    |  88.40   |  559.2   | 0.10160  | 0.12550  | 0.106300 | 0.054390 | ...      | 15.530   | 26.02    | 107.30   |  740.4   | 0.16100  | 0.42250  | 0.50300  | 0.22580  | 0.2807   | 0.10710  |\n",
       "| 113 |    86517 | M        | 18.660   | 17.12    | 121.40   | 1077.0   | 0.10540  | 0.11000  | 0.145700 | 0.086650 | ...      | 22.250   | 24.90    | 145.40   | 1549.0   | 0.15030  | 0.22910  | 0.32720  | 0.16740  | 0.2894   | 0.08456  |\n",
       "| 248 |   921386 | B        | 14.470   | 24.99    |  95.81   |  656.4   | 0.08837  | 0.12300  | 0.100900 | 0.038900 | ...      | 16.220   | 31.73    | 113.50   |  808.9   | 0.13400  | 0.42020  | 0.40400  | 0.12050  | 0.3187   | 0.10230  |\n",
       "| 58 |   874158 | B        | 10.080   | 15.11    |  63.76   |  317.5   | 0.09267  | 0.04695  | 0.001597 | 0.002404 | ...      | 11.870   | 21.18    |  75.39   |  437.0   | 0.15210  | 0.10190  | 0.00692  | 0.01042  | 0.2933   | 0.07697  |\n",
       "| 369 |   893988 | B        | 11.540   | 10.72    |  73.73   |  409.1   | 0.08597  | 0.05969  | 0.013670 | 0.008907 | ...      | 12.340   | 12.87    |  81.23   |  467.8   | 0.10920  | 0.16260  | 0.08324  | 0.04715  | 0.3390   | 0.07434  |\n",
       "| 8 |    87880 | M        | 13.810   | 23.75    |  91.56   |  597.8   | 0.13230  | 0.17680  | 0.155800 | 0.091760 | ...      | 19.200   | 41.85    | 128.50   | 1153.0   | 0.22260  | 0.52090  | 0.46460  | 0.20130  | 0.4432   | 0.10860  |\n",
       "| 20 |   866714 | B        | 12.190   | 13.29    |  79.08   |  455.8   | 0.10660  | 0.09509  | 0.028550 | 0.028820 | ...      | 13.340   | 17.81    |  91.38   |  545.2   | 0.14270  | 0.25850  | 0.09915  | 0.08187  | 0.3469   | 0.09241  |\n",
       "| 548 |  9010598 | B        | 12.760   | 18.84    |  81.87   |  496.6   | 0.09676  | 0.07952  | 0.026880 | 0.017810 | ...      | 13.750   | 25.99    |  87.82   |  579.7   | 0.12980  | 0.18390  | 0.12550  | 0.08312  | 0.2744   | 0.07238  |\n",
       "| 351 |   909410 | B        | 14.020   | 15.66    |  89.59   |  606.5   | 0.07966  | 0.05581  | 0.020870 | 0.026520 | ...      | 14.910   | 19.31    |  96.53   |  688.9   | 0.10340  | 0.10170  | 0.06260  | 0.08216  | 0.2136   | 0.06710  |\n",
       "| 400 |   862261 | B        |  9.787   | 19.94    |  62.11   |  294.5   | 0.10240  | 0.05301  | 0.006829 | 0.007937 | ...      | 10.920   | 26.29    |  68.81   |  366.1   | 0.13160  | 0.09473  | 0.02049  | 0.02381  | 0.1934   | 0.08988  |\n",
       "| 33 |  9113538 | M        | 17.600   | 23.33    | 119.00   |  980.5   | 0.09289  | 0.20040  | 0.213600 | 0.100200 | ...      | 21.570   | 28.87    | 143.60   | 1437.0   | 0.12070  | 0.47850  | 0.51650  | 0.19960  | 0.2301   | 0.12240  |\n",
       "| 85 |   901549 | B        | 11.270   | 12.96    |  73.16   |  386.3   | 0.12370  | 0.11110  | 0.079000 | 0.055500 | ...      | 12.840   | 20.53    |  84.93   |  476.1   | 0.16100  | 0.24290  | 0.22470  | 0.13180  | 0.3343   | 0.09215  |\n",
       "| 456 | 86973702 | B        | 14.440   | 15.18    |  93.97   |  640.1   | 0.09970  | 0.10210  | 0.084870 | 0.055320 | ...      | 15.850   | 19.85    | 108.60   |  766.9   | 0.13160  | 0.27350  | 0.31030  | 0.15990  | 0.2691   | 0.07683  |\n",
       "| 444 |   912519 | B        | 13.470   | 14.06    |  87.32   |  546.3   | 0.10710  | 0.11550  | 0.057860 | 0.052660 | ...      | 14.830   | 18.32    |  94.94   |  660.2   | 0.13930  | 0.24990  | 0.18480  | 0.13350  | 0.3227   | 0.09326  |\n",
       "| 430 |   886776 | M        | 15.320   | 17.27    | 103.20   |  713.3   | 0.13350  | 0.22840  | 0.244800 | 0.124200 | ...      | 17.730   | 22.66    | 119.80   |  928.8   | 0.17650  | 0.45030  | 0.44290  | 0.22290  | 0.3258   | 0.11910  |\n",
       "| 446 |  8510824 | B        |  9.504   | 12.44    |  60.34   |  273.9   | 0.10240  | 0.06492  | 0.029560 | 0.020760 | ...      | 10.230   | 15.66    |  65.13   |  314.9   | 0.13240  | 0.11480  | 0.08867  | 0.06227  | 0.2450   | 0.07773  |\n",
       "| 462 |   908445 | M        | 18.820   | 21.97    | 123.70   | 1110.0   | 0.10180  | 0.13890  | 0.159400 | 0.087440 | ...      | 22.660   | 30.93    | 145.30   | 1603.0   | 0.13900  | 0.34630  | 0.39120  | 0.17080  | 0.3007   | 0.08314  |\n",
       "\n"
      ],
      "text/plain": [
       "    id       diagnosis radius_mean texture_mean perimeter_mean area_mean\n",
       "308     9047 B         12.940      16.17         83.18          507.6   \n",
       "209   893526 B         13.500      12.71         85.69          566.2   \n",
       "191   869104 M         16.110      18.05        105.10          813.0   \n",
       "341   905189 B         16.140      14.86        104.30          800.0   \n",
       "534 87281702 M         16.460      20.11        109.30          832.9   \n",
       "370   886226 M         19.450      19.33        126.50         1169.0   \n",
       "278   926954 M         16.600      28.08        108.30          858.1   \n",
       "367  8711202 M         17.680      20.74        117.40          963.7   \n",
       "109   923465 B         10.820      24.21         68.89          361.6   \n",
       "533 90769602 B         12.720      17.67         80.98          501.3   \n",
       "524    92751 B          7.760      24.54         47.92          181.0   \n",
       "297   919555 M         20.550      20.86        137.80         1308.0   \n",
       "35    915940 B         14.580      13.66         94.29          658.8   \n",
       "115   857343 B         11.760      21.60         74.72          427.9   \n",
       "51   8810987 M         13.860      16.93         90.96          578.9   \n",
       "470   909220 B         14.040      15.98         89.78          611.2   \n",
       "94   9112594 B         13.000      25.13         82.61          520.2   \n",
       "292  9013005 B         13.690      16.07         87.84          579.1   \n",
       "180   862965 B         12.180      20.52         77.22          458.7   \n",
       "194 84799002 M         14.540      27.54         96.73          658.8   \n",
       "567   873885 M         15.280      22.41         98.92          710.6   \n",
       "149   894335 B         12.430      17.00         78.60          477.3   \n",
       "99   8812844 B         10.180      17.53         65.12          313.1   \n",
       "394  8912049 M         19.160      26.60        126.20         1138.0   \n",
       "358  8810528 B         11.840      18.94         75.51          428.0   \n",
       "216   858970 B         10.170      14.88         64.55          311.9   \n",
       "468  9110127 M         18.030      16.85        117.50          990.0   \n",
       "487  9113778 B          9.667      18.49         61.49          289.1   \n",
       "205 89864002 B         11.710      15.45         75.03          420.3   \n",
       "377   921644 B         14.740      25.42         94.70          668.6   \n",
       "... ...      ...       ...         ...          ...            ...      \n",
       "447 88411702 B         13.750      23.77         88.54          590.0   \n",
       "169  8711002 B         13.150      15.34         85.31          538.9   \n",
       "15   9111805 M         19.590      25.00        127.70         1191.0   \n",
       "111   863031 B         11.640      18.33         75.17          412.5   \n",
       "143   926682 M         20.130      28.25        131.20         1261.0   \n",
       "60     89122 M         19.400      18.18        127.20         1145.0   \n",
       "55    878796 M         23.290      26.67        158.90         1685.0   \n",
       "347  9010333 B          8.878      15.49         56.74          241.0   \n",
       "527 88147202 B         12.620      23.97         81.35          496.4   \n",
       "325   883539 B         12.420      15.04         78.61          476.5   \n",
       "455   905686 B         11.890      21.17         76.39          433.8   \n",
       "163   901028 B         13.870      16.21         88.52          593.7   \n",
       "141   852781 M         18.610      20.25        122.10         1094.0   \n",
       "71    855138 M         13.480      20.82         88.40          559.2   \n",
       "113    86517 M         18.660      17.12        121.40         1077.0   \n",
       "248   921386 B         14.470      24.99         95.81          656.4   \n",
       "58    874158 B         10.080      15.11         63.76          317.5   \n",
       "369   893988 B         11.540      10.72         73.73          409.1   \n",
       "8      87880 M         13.810      23.75         91.56          597.8   \n",
       "20    866714 B         12.190      13.29         79.08          455.8   \n",
       "548  9010598 B         12.760      18.84         81.87          496.6   \n",
       "351   909410 B         14.020      15.66         89.59          606.5   \n",
       "400   862261 B          9.787      19.94         62.11          294.5   \n",
       "33   9113538 M         17.600      23.33        119.00          980.5   \n",
       "85    901549 B         11.270      12.96         73.16          386.3   \n",
       "456 86973702 B         14.440      15.18         93.97          640.1   \n",
       "444   912519 B         13.470      14.06         87.32          546.3   \n",
       "430   886776 M         15.320      17.27        103.20          713.3   \n",
       "446  8510824 B          9.504      12.44         60.34          273.9   \n",
       "462   908445 M         18.820      21.97        123.70         1110.0   \n",
       "    smoothness_mean compactness_mean concavity_mean points_mean ...\n",
       "308 0.09879         0.08836          0.032960       0.023900    ...\n",
       "209 0.07376         0.03614          0.002758       0.004419    ...\n",
       "191 0.09721         0.11370          0.094470       0.059430    ...\n",
       "341 0.09495         0.08501          0.055000       0.045280    ...\n",
       "534 0.09831         0.15560          0.179300       0.088660    ...\n",
       "370 0.10350         0.11880          0.137900       0.085910    ...\n",
       "278 0.08455         0.10230          0.092510       0.053020    ...\n",
       "367 0.11150         0.16650          0.185500       0.105400    ...\n",
       "109 0.08192         0.06602          0.015480       0.008160    ...\n",
       "533 0.07896         0.04522          0.014020       0.018350    ...\n",
       "524 0.05263         0.04362          0.000000       0.000000    ...\n",
       "297 0.10460         0.17390          0.208500       0.132200    ...\n",
       "35  0.09832         0.08918          0.082220       0.043490    ...\n",
       "115 0.08637         0.04966          0.016570       0.011150    ...\n",
       "51  0.10260         0.15170          0.099010       0.056020    ...\n",
       "470 0.08458         0.05895          0.035340       0.029440    ...\n",
       "94  0.08369         0.05073          0.012060       0.017620    ...\n",
       "292 0.08302         0.06374          0.025560       0.020310    ...\n",
       "180 0.08013         0.04038          0.023830       0.017700    ...\n",
       "194 0.11390         0.15950          0.163900       0.073640    ...\n",
       "567 0.09057         0.10520          0.053750       0.032630    ...\n",
       "149 0.07557         0.03454          0.013420       0.016990    ...\n",
       "99  0.10610         0.08502          0.017680       0.019150    ...\n",
       "394 0.10200         0.14530          0.192100       0.096640    ...\n",
       "358 0.08871         0.06900          0.026690       0.013930    ...\n",
       "216 0.11340         0.08061          0.010840       0.012900    ...\n",
       "468 0.08947         0.12320          0.109000       0.062540    ...\n",
       "487 0.08946         0.06258          0.029480       0.015140    ...\n",
       "205 0.11500         0.07281          0.040060       0.032500    ...\n",
       "377 0.08275         0.07214          0.041050       0.030270    ...\n",
       "... ...             ...              ...            ...            \n",
       "447 0.08043         0.06807          0.046970       0.023440    ...\n",
       "169 0.09384         0.08498          0.092930       0.034830    ...\n",
       "15  0.10320         0.09871          0.165500       0.090630    ...\n",
       "111 0.11420         0.10170          0.070700       0.034850    ...\n",
       "143 0.09780         0.10340          0.144000       0.097910    ...\n",
       "60  0.10370         0.14420          0.162600       0.094640    ...\n",
       "55  0.11410         0.20840          0.352300       0.162000    ...\n",
       "347 0.08293         0.07698          0.047210       0.023810    ...\n",
       "527 0.07903         0.07529          0.054380       0.020360    ...\n",
       "325 0.07926         0.03393          0.010530       0.011080    ...\n",
       "455 0.09773         0.08120          0.025550       0.021790    ...\n",
       "163 0.08743         0.05492          0.015020       0.020880    ...\n",
       "141 0.09440         0.10660          0.149000       0.077310    ...\n",
       "71  0.10160         0.12550          0.106300       0.054390    ...\n",
       "113 0.10540         0.11000          0.145700       0.086650    ...\n",
       "248 0.08837         0.12300          0.100900       0.038900    ...\n",
       "58  0.09267         0.04695          0.001597       0.002404    ...\n",
       "369 0.08597         0.05969          0.013670       0.008907    ...\n",
       "8   0.13230         0.17680          0.155800       0.091760    ...\n",
       "20  0.10660         0.09509          0.028550       0.028820    ...\n",
       "548 0.09676         0.07952          0.026880       0.017810    ...\n",
       "351 0.07966         0.05581          0.020870       0.026520    ...\n",
       "400 0.10240         0.05301          0.006829       0.007937    ...\n",
       "33  0.09289         0.20040          0.213600       0.100200    ...\n",
       "85  0.12370         0.11110          0.079000       0.055500    ...\n",
       "456 0.09970         0.10210          0.084870       0.055320    ...\n",
       "444 0.10710         0.11550          0.057860       0.052660    ...\n",
       "430 0.13350         0.22840          0.244800       0.124200    ...\n",
       "446 0.10240         0.06492          0.029560       0.020760    ...\n",
       "462 0.10180         0.13890          0.159400       0.087440    ...\n",
       "    radius_worst texture_worst perimeter_worst area_worst smoothness_worst\n",
       "308 13.860       23.02          89.69           580.9     0.11720         \n",
       "209 14.970       16.94          95.48           698.7     0.09023         \n",
       "191 19.920       25.27         129.00          1233.0     0.13140         \n",
       "341 17.710       19.58         115.90           947.9     0.12060         \n",
       "534 17.790       28.45         123.50           981.2     0.14150         \n",
       "370 25.700       24.57         163.10          1972.0     0.14970         \n",
       "278 18.980       34.12         126.70          1124.0     0.11390         \n",
       "367 20.470       25.11         132.90          1302.0     0.14180         \n",
       "109 13.030       31.45          83.90           505.6     0.12040         \n",
       "533 13.820       20.96          88.87           586.8     0.10680         \n",
       "524  9.456       30.37          59.16           268.6     0.08996         \n",
       "297 24.300       25.48         160.20          1809.0     0.12680         \n",
       "35  16.760       17.24         108.50           862.0     0.12230         \n",
       "115 12.980       25.72          82.98           516.5     0.10850         \n",
       "51  15.750       26.93         104.40           750.1     0.14600         \n",
       "470 15.660       21.58         101.20           750.0     0.11950         \n",
       "94  14.340       31.88          91.06           628.5     0.12180         \n",
       "292 14.840       20.21          99.16           670.6     0.11050         \n",
       "180 13.340       32.84          84.58           547.8     0.11230         \n",
       "194 17.460       37.13         124.10           943.2     0.16780         \n",
       "567 17.800       28.03         113.80           973.1     0.13010         \n",
       "149 12.900       20.21          81.76           515.9     0.08409         \n",
       "99  11.170       22.84          71.94           375.6     0.14060         \n",
       "394 23.720       35.90         159.80          1724.0     0.17820         \n",
       "358 13.300       24.99          85.22           546.3     0.12800         \n",
       "216 11.020       17.45          69.86           368.6     0.12750         \n",
       "468 20.380       22.02         133.30          1292.0     0.12630         \n",
       "487 11.140       25.62          70.88           385.2     0.12340         \n",
       "205 13.060       18.16          84.16           516.4     0.14600         \n",
       "377 16.510       32.29         107.40           826.4     0.10600         \n",
       "... ...          ...           ...             ...        ...             \n",
       "447 15.010       26.34          98.00           706.0     0.09368         \n",
       "169 14.770       20.50          97.67           677.3     0.14780         \n",
       "15  21.440       30.96         139.80          1421.0     0.15280         \n",
       "111 13.140       29.26          85.51           521.7     0.16880         \n",
       "143 23.690       38.25         155.00          1731.0     0.11660         \n",
       "60  23.790       28.65         152.40          1628.0     0.15180         \n",
       "55  25.120       32.68         177.00          1986.0     0.15360         \n",
       "347  9.981       17.70          65.27           302.0     0.10150         \n",
       "527 14.200       31.31          90.67           624.0     0.12270         \n",
       "325 13.200       20.37          83.85           543.4     0.10370         \n",
       "455 13.050       27.21          85.09           522.9     0.14260         \n",
       "163 15.110       25.58          96.74           694.4     0.11530         \n",
       "141 21.310       27.26         139.90          1403.0     0.13380         \n",
       "71  15.530       26.02         107.30           740.4     0.16100         \n",
       "113 22.250       24.90         145.40          1549.0     0.15030         \n",
       "248 16.220       31.73         113.50           808.9     0.13400         \n",
       "58  11.870       21.18          75.39           437.0     0.15210         \n",
       "369 12.340       12.87          81.23           467.8     0.10920         \n",
       "8   19.200       41.85         128.50          1153.0     0.22260         \n",
       "20  13.340       17.81          91.38           545.2     0.14270         \n",
       "548 13.750       25.99          87.82           579.7     0.12980         \n",
       "351 14.910       19.31          96.53           688.9     0.10340         \n",
       "400 10.920       26.29          68.81           366.1     0.13160         \n",
       "33  21.570       28.87         143.60          1437.0     0.12070         \n",
       "85  12.840       20.53          84.93           476.1     0.16100         \n",
       "456 15.850       19.85         108.60           766.9     0.13160         \n",
       "444 14.830       18.32          94.94           660.2     0.13930         \n",
       "430 17.730       22.66         119.80           928.8     0.17650         \n",
       "446 10.230       15.66          65.13           314.9     0.13240         \n",
       "462 22.660       30.93         145.30          1603.0     0.13900         \n",
       "    compactness_worst concavity_worst points_worst symmetry_worst\n",
       "308 0.19580           0.18100         0.08388      0.3297        \n",
       "209 0.05836           0.01379         0.02210      0.2267        \n",
       "191 0.22360           0.28020         0.12160      0.2792        \n",
       "341 0.17220           0.23100         0.11290      0.2778        \n",
       "534 0.46670           0.58620         0.20350      0.3054        \n",
       "370 0.31610           0.43170         0.19990      0.3379        \n",
       "278 0.30940           0.34030         0.14180      0.2218        \n",
       "367 0.34980           0.35830         0.15150      0.2463        \n",
       "109 0.16330           0.06194         0.03264      0.3059        \n",
       "533 0.09605           0.03469         0.03612      0.2165        \n",
       "524 0.06444           0.00000         0.00000      0.2871        \n",
       "297 0.31350           0.44330         0.21480      0.3077        \n",
       "35  0.19280           0.24920         0.09186      0.2626        \n",
       "115 0.08615           0.05523         0.03715      0.2433        \n",
       "51  0.43700           0.46360         0.16540      0.3630        \n",
       "470 0.12520           0.11170         0.07453      0.2725        \n",
       "94  0.10930           0.04462         0.05921      0.2306        \n",
       "292 0.20960           0.13460         0.06987      0.3323        \n",
       "180 0.08862           0.11450         0.07431      0.2694        \n",
       "194 0.65770           0.70260         0.17120      0.4218        \n",
       "567 0.32990           0.36300         0.12260      0.3175        \n",
       "149 0.04712           0.02237         0.02832      0.1901        \n",
       "99  0.14400           0.06572         0.05575      0.3055        \n",
       "394 0.38410           0.57540         0.18720      0.3258        \n",
       "358 0.18800           0.14710         0.06913      0.2535        \n",
       "216 0.09866           0.02168         0.02579      0.3557        \n",
       "468 0.26660           0.42900         0.15350      0.2842        \n",
       "487 0.15420           0.12770         0.06560      0.3174        \n",
       "205 0.11150           0.10870         0.07864      0.2765        \n",
       "377 0.13760           0.16110         0.10950      0.2722        \n",
       "... ...               ...             ...          ...           \n",
       "447 0.14420           0.13590         0.06106      0.2663        \n",
       "169 0.22560           0.30090         0.09722      0.3849        \n",
       "15  0.18450           0.39770         0.14660      0.2293        \n",
       "111 0.26600           0.28730         0.12180      0.2806        \n",
       "143 0.19220           0.32150         0.16280      0.2572        \n",
       "60  0.37490           0.43160         0.22520      0.3590        \n",
       "55  0.41670           0.78920         0.27330      0.3198        \n",
       "347 0.12480           0.09441         0.04762      0.2434        \n",
       "527 0.34540           0.39110         0.11800      0.2826        \n",
       "325 0.07776           0.06243         0.04052      0.2901        \n",
       "455 0.21870           0.11640         0.08263      0.3075        \n",
       "163 0.10080           0.05285         0.05556      0.2362        \n",
       "141 0.21170           0.34460         0.14900      0.2341        \n",
       "71  0.42250           0.50300         0.22580      0.2807        \n",
       "113 0.22910           0.32720         0.16740      0.2894        \n",
       "248 0.42020           0.40400         0.12050      0.3187        \n",
       "58  0.10190           0.00692         0.01042      0.2933        \n",
       "369 0.16260           0.08324         0.04715      0.3390        \n",
       "8   0.52090           0.46460         0.20130      0.4432        \n",
       "20  0.25850           0.09915         0.08187      0.3469        \n",
       "548 0.18390           0.12550         0.08312      0.2744        \n",
       "351 0.10170           0.06260         0.08216      0.2136        \n",
       "400 0.09473           0.02049         0.02381      0.1934        \n",
       "33  0.47850           0.51650         0.19960      0.2301        \n",
       "85  0.24290           0.22470         0.13180      0.3343        \n",
       "456 0.27350           0.31030         0.15990      0.2691        \n",
       "444 0.24990           0.18480         0.13350      0.3227        \n",
       "430 0.45030           0.44290         0.22290      0.3258        \n",
       "446 0.11480           0.08867         0.06227      0.2450        \n",
       "462 0.34630           0.39120         0.17080      0.3007        \n",
       "    dimension_worst\n",
       "308 0.07834        \n",
       "209 0.06192        \n",
       "191 0.08158        \n",
       "341 0.07012        \n",
       "534 0.09519        \n",
       "370 0.08950        \n",
       "278 0.07820        \n",
       "367 0.07738        \n",
       "109 0.07626        \n",
       "533 0.06025        \n",
       "524 0.07039        \n",
       "297 0.07569        \n",
       "35  0.07048        \n",
       "115 0.06563        \n",
       "51  0.10590        \n",
       "470 0.07234        \n",
       "94  0.06291        \n",
       "292 0.07701        \n",
       "180 0.06878        \n",
       "194 0.13410        \n",
       "567 0.09772        \n",
       "149 0.05932        \n",
       "99  0.08797        \n",
       "394 0.09720        \n",
       "358 0.07993        \n",
       "216 0.08020        \n",
       "468 0.08225        \n",
       "487 0.08524        \n",
       "205 0.07806        \n",
       "377 0.06956        \n",
       "... ...            \n",
       "447 0.06321        \n",
       "169 0.08633        \n",
       "15  0.06091        \n",
       "111 0.09097        \n",
       "143 0.06637        \n",
       "60  0.07787        \n",
       "55  0.08762        \n",
       "347 0.07431        \n",
       "527 0.09585        \n",
       "325 0.06783        \n",
       "455 0.07351        \n",
       "163 0.07113        \n",
       "141 0.07421        \n",
       "71  0.10710        \n",
       "113 0.08456        \n",
       "248 0.10230        \n",
       "58  0.07697        \n",
       "369 0.07434        \n",
       "8   0.10860        \n",
       "20  0.09241        \n",
       "548 0.07238        \n",
       "351 0.06710        \n",
       "400 0.08988        \n",
       "33  0.12240        \n",
       "85  0.09215        \n",
       "456 0.07683        \n",
       "444 0.09326        \n",
       "430 0.11910        \n",
       "446 0.07773        \n",
       "462 0.08314        "
      ]
     },
     "metadata": {},
     "output_type": "display_data"
    }
   ],
   "source": [
    "#3. 데이터를 shuffle 시킨다.\n",
    "# wbcd[sample(10),] # 1번~10번까지의 데이터가 섞여서 출력이됨\n",
    "wbcd_shuffle <- wbcd[sample(nrow(wbcd)), ]\n",
    "wbcd_shuffle"
   ]
  },
  {
   "cell_type": "code",
   "execution_count": 26,
   "metadata": {
    "ExecuteTime": {
     "end_time": "2020-06-23T07:19:01.451285Z",
     "start_time": "2020-06-23T07:19:01.402Z"
    }
   },
   "outputs": [
    {
     "data": {
      "text/html": [
       "<table>\n",
       "<thead><tr><th></th><th scope=col>diagnosis</th><th scope=col>radius_mean</th><th scope=col>texture_mean</th><th scope=col>perimeter_mean</th><th scope=col>area_mean</th><th scope=col>smoothness_mean</th><th scope=col>compactness_mean</th><th scope=col>concavity_mean</th><th scope=col>points_mean</th><th scope=col>symmetry_mean</th><th scope=col>...</th><th scope=col>radius_worst</th><th scope=col>texture_worst</th><th scope=col>perimeter_worst</th><th scope=col>area_worst</th><th scope=col>smoothness_worst</th><th scope=col>compactness_worst</th><th scope=col>concavity_worst</th><th scope=col>points_worst</th><th scope=col>symmetry_worst</th><th scope=col>dimension_worst</th></tr></thead>\n",
       "<tbody>\n",
       "\t<tr><th scope=row>308</th><td>B       </td><td>12.94   </td><td>16.17   </td><td> 83.18  </td><td> 507.6  </td><td>0.09879 </td><td>0.08836 </td><td>0.032960</td><td>0.023900</td><td>0.1735  </td><td>...     </td><td>13.86   </td><td>23.02   </td><td> 89.69  </td><td> 580.9  </td><td>0.11720 </td><td>0.19580 </td><td>0.18100 </td><td>0.08388 </td><td>0.3297  </td><td>0.07834 </td></tr>\n",
       "\t<tr><th scope=row>209</th><td>B       </td><td>13.50   </td><td>12.71   </td><td> 85.69  </td><td> 566.2  </td><td>0.07376 </td><td>0.03614 </td><td>0.002758</td><td>0.004419</td><td>0.1365  </td><td>...     </td><td>14.97   </td><td>16.94   </td><td> 95.48  </td><td> 698.7  </td><td>0.09023 </td><td>0.05836 </td><td>0.01379 </td><td>0.02210 </td><td>0.2267  </td><td>0.06192 </td></tr>\n",
       "\t<tr><th scope=row>191</th><td>M       </td><td>16.11   </td><td>18.05   </td><td>105.10  </td><td> 813.0  </td><td>0.09721 </td><td>0.11370 </td><td>0.094470</td><td>0.059430</td><td>0.1861  </td><td>...     </td><td>19.92   </td><td>25.27   </td><td>129.00  </td><td>1233.0  </td><td>0.13140 </td><td>0.22360 </td><td>0.28020 </td><td>0.12160 </td><td>0.2792  </td><td>0.08158 </td></tr>\n",
       "\t<tr><th scope=row>341</th><td>B       </td><td>16.14   </td><td>14.86   </td><td>104.30  </td><td> 800.0  </td><td>0.09495 </td><td>0.08501 </td><td>0.055000</td><td>0.045280</td><td>0.1735  </td><td>...     </td><td>17.71   </td><td>19.58   </td><td>115.90  </td><td> 947.9  </td><td>0.12060 </td><td>0.17220 </td><td>0.23100 </td><td>0.11290 </td><td>0.2778  </td><td>0.07012 </td></tr>\n",
       "\t<tr><th scope=row>534</th><td>M       </td><td>16.46   </td><td>20.11   </td><td>109.30  </td><td> 832.9  </td><td>0.09831 </td><td>0.15560 </td><td>0.179300</td><td>0.088660</td><td>0.1794  </td><td>...     </td><td>17.79   </td><td>28.45   </td><td>123.50  </td><td> 981.2  </td><td>0.14150 </td><td>0.46670 </td><td>0.58620 </td><td>0.20350 </td><td>0.3054  </td><td>0.09519 </td></tr>\n",
       "\t<tr><th scope=row>370</th><td>M       </td><td>19.45   </td><td>19.33   </td><td>126.50  </td><td>1169.0  </td><td>0.10350 </td><td>0.11880 </td><td>0.137900</td><td>0.085910</td><td>0.1776  </td><td>...     </td><td>25.70   </td><td>24.57   </td><td>163.10  </td><td>1972.0  </td><td>0.14970 </td><td>0.31610 </td><td>0.43170 </td><td>0.19990 </td><td>0.3379  </td><td>0.08950 </td></tr>\n",
       "</tbody>\n",
       "</table>\n"
      ],
      "text/latex": [
       "\\begin{tabular}{r|lllllllllllllllllllllllllllllll}\n",
       "  & diagnosis & radius\\_mean & texture\\_mean & perimeter\\_mean & area\\_mean & smoothness\\_mean & compactness\\_mean & concavity\\_mean & points\\_mean & symmetry\\_mean & ... & radius\\_worst & texture\\_worst & perimeter\\_worst & area\\_worst & smoothness\\_worst & compactness\\_worst & concavity\\_worst & points\\_worst & symmetry\\_worst & dimension\\_worst\\\\\n",
       "\\hline\n",
       "\t308 & B        & 12.94    & 16.17    &  83.18   &  507.6   & 0.09879  & 0.08836  & 0.032960 & 0.023900 & 0.1735   & ...      & 13.86    & 23.02    &  89.69   &  580.9   & 0.11720  & 0.19580  & 0.18100  & 0.08388  & 0.3297   & 0.07834 \\\\\n",
       "\t209 & B        & 13.50    & 12.71    &  85.69   &  566.2   & 0.07376  & 0.03614  & 0.002758 & 0.004419 & 0.1365   & ...      & 14.97    & 16.94    &  95.48   &  698.7   & 0.09023  & 0.05836  & 0.01379  & 0.02210  & 0.2267   & 0.06192 \\\\\n",
       "\t191 & M        & 16.11    & 18.05    & 105.10   &  813.0   & 0.09721  & 0.11370  & 0.094470 & 0.059430 & 0.1861   & ...      & 19.92    & 25.27    & 129.00   & 1233.0   & 0.13140  & 0.22360  & 0.28020  & 0.12160  & 0.2792   & 0.08158 \\\\\n",
       "\t341 & B        & 16.14    & 14.86    & 104.30   &  800.0   & 0.09495  & 0.08501  & 0.055000 & 0.045280 & 0.1735   & ...      & 17.71    & 19.58    & 115.90   &  947.9   & 0.12060  & 0.17220  & 0.23100  & 0.11290  & 0.2778   & 0.07012 \\\\\n",
       "\t534 & M        & 16.46    & 20.11    & 109.30   &  832.9   & 0.09831  & 0.15560  & 0.179300 & 0.088660 & 0.1794   & ...      & 17.79    & 28.45    & 123.50   &  981.2   & 0.14150  & 0.46670  & 0.58620  & 0.20350  & 0.3054   & 0.09519 \\\\\n",
       "\t370 & M        & 19.45    & 19.33    & 126.50   & 1169.0   & 0.10350  & 0.11880  & 0.137900 & 0.085910 & 0.1776   & ...      & 25.70    & 24.57    & 163.10   & 1972.0   & 0.14970  & 0.31610  & 0.43170  & 0.19990  & 0.3379   & 0.08950 \\\\\n",
       "\\end{tabular}\n"
      ],
      "text/markdown": [
       "\n",
       "| <!--/--> | diagnosis | radius_mean | texture_mean | perimeter_mean | area_mean | smoothness_mean | compactness_mean | concavity_mean | points_mean | symmetry_mean | ... | radius_worst | texture_worst | perimeter_worst | area_worst | smoothness_worst | compactness_worst | concavity_worst | points_worst | symmetry_worst | dimension_worst |\n",
       "|---|---|---|---|---|---|---|---|---|---|---|---|---|---|---|---|---|---|---|---|---|---|\n",
       "| 308 | B        | 12.94    | 16.17    |  83.18   |  507.6   | 0.09879  | 0.08836  | 0.032960 | 0.023900 | 0.1735   | ...      | 13.86    | 23.02    |  89.69   |  580.9   | 0.11720  | 0.19580  | 0.18100  | 0.08388  | 0.3297   | 0.07834  |\n",
       "| 209 | B        | 13.50    | 12.71    |  85.69   |  566.2   | 0.07376  | 0.03614  | 0.002758 | 0.004419 | 0.1365   | ...      | 14.97    | 16.94    |  95.48   |  698.7   | 0.09023  | 0.05836  | 0.01379  | 0.02210  | 0.2267   | 0.06192  |\n",
       "| 191 | M        | 16.11    | 18.05    | 105.10   |  813.0   | 0.09721  | 0.11370  | 0.094470 | 0.059430 | 0.1861   | ...      | 19.92    | 25.27    | 129.00   | 1233.0   | 0.13140  | 0.22360  | 0.28020  | 0.12160  | 0.2792   | 0.08158  |\n",
       "| 341 | B        | 16.14    | 14.86    | 104.30   |  800.0   | 0.09495  | 0.08501  | 0.055000 | 0.045280 | 0.1735   | ...      | 17.71    | 19.58    | 115.90   |  947.9   | 0.12060  | 0.17220  | 0.23100  | 0.11290  | 0.2778   | 0.07012  |\n",
       "| 534 | M        | 16.46    | 20.11    | 109.30   |  832.9   | 0.09831  | 0.15560  | 0.179300 | 0.088660 | 0.1794   | ...      | 17.79    | 28.45    | 123.50   |  981.2   | 0.14150  | 0.46670  | 0.58620  | 0.20350  | 0.3054   | 0.09519  |\n",
       "| 370 | M        | 19.45    | 19.33    | 126.50   | 1169.0   | 0.10350  | 0.11880  | 0.137900 | 0.085910 | 0.1776   | ...      | 25.70    | 24.57    | 163.10   | 1972.0   | 0.14970  | 0.31610  | 0.43170  | 0.19990  | 0.3379   | 0.08950  |\n",
       "\n"
      ],
      "text/plain": [
       "    diagnosis radius_mean texture_mean perimeter_mean area_mean smoothness_mean\n",
       "308 B         12.94       16.17         83.18          507.6    0.09879        \n",
       "209 B         13.50       12.71         85.69          566.2    0.07376        \n",
       "191 M         16.11       18.05        105.10          813.0    0.09721        \n",
       "341 B         16.14       14.86        104.30          800.0    0.09495        \n",
       "534 M         16.46       20.11        109.30          832.9    0.09831        \n",
       "370 M         19.45       19.33        126.50         1169.0    0.10350        \n",
       "    compactness_mean concavity_mean points_mean symmetry_mean ... radius_worst\n",
       "308 0.08836          0.032960       0.023900    0.1735        ... 13.86       \n",
       "209 0.03614          0.002758       0.004419    0.1365        ... 14.97       \n",
       "191 0.11370          0.094470       0.059430    0.1861        ... 19.92       \n",
       "341 0.08501          0.055000       0.045280    0.1735        ... 17.71       \n",
       "534 0.15560          0.179300       0.088660    0.1794        ... 17.79       \n",
       "370 0.11880          0.137900       0.085910    0.1776        ... 25.70       \n",
       "    texture_worst perimeter_worst area_worst smoothness_worst compactness_worst\n",
       "308 23.02          89.69           580.9     0.11720          0.19580          \n",
       "209 16.94          95.48           698.7     0.09023          0.05836          \n",
       "191 25.27         129.00          1233.0     0.13140          0.22360          \n",
       "341 19.58         115.90           947.9     0.12060          0.17220          \n",
       "534 28.45         123.50           981.2     0.14150          0.46670          \n",
       "370 24.57         163.10          1972.0     0.14970          0.31610          \n",
       "    concavity_worst points_worst symmetry_worst dimension_worst\n",
       "308 0.18100         0.08388      0.3297         0.07834        \n",
       "209 0.01379         0.02210      0.2267         0.06192        \n",
       "191 0.28020         0.12160      0.2792         0.08158        \n",
       "341 0.23100         0.11290      0.2778         0.07012        \n",
       "534 0.58620         0.20350      0.3054         0.09519        \n",
       "370 0.43170         0.19990      0.3379         0.08950        "
      ]
     },
     "metadata": {},
     "output_type": "display_data"
    }
   ],
   "source": [
    "#4. 데이터에서 id 를 제외 시킨다\n",
    "wbcd2 <- wbcd_shuffle[-1]\n",
    "head(wbcd2)"
   ]
  },
  {
   "cell_type": "code",
   "execution_count": 29,
   "metadata": {
    "ExecuteTime": {
     "end_time": "2020-06-23T07:26:19.435725Z",
     "start_time": "2020-06-23T07:26:19.362Z"
    }
   },
   "outputs": [
    {
     "data": {
      "text/plain": [
       "  radius_mean      texture_mean    perimeter_mean     area_mean     \n",
       " Min.   :0.0000   Min.   :0.0000   Min.   :0.0000   Min.   :0.0000  \n",
       " 1st Qu.:0.2233   1st Qu.:0.2185   1st Qu.:0.2168   1st Qu.:0.1174  \n",
       " Median :0.3024   Median :0.3088   Median :0.2933   Median :0.1729  \n",
       " Mean   :0.3382   Mean   :0.3240   Mean   :0.3329   Mean   :0.2169  \n",
       " 3rd Qu.:0.4164   3rd Qu.:0.4089   3rd Qu.:0.4168   3rd Qu.:0.2711  \n",
       " Max.   :1.0000   Max.   :1.0000   Max.   :1.0000   Max.   :1.0000  \n",
       " smoothness_mean  compactness_mean concavity_mean     points_mean    \n",
       " Min.   :0.0000   Min.   :0.0000   Min.   :0.00000   Min.   :0.0000  \n",
       " 1st Qu.:0.3046   1st Qu.:0.1397   1st Qu.:0.06926   1st Qu.:0.1009  \n",
       " Median :0.3904   Median :0.2247   Median :0.14419   Median :0.1665  \n",
       " Mean   :0.3948   Mean   :0.2606   Mean   :0.20806   Mean   :0.2431  \n",
       " 3rd Qu.:0.4755   3rd Qu.:0.3405   3rd Qu.:0.30623   3rd Qu.:0.3678  \n",
       " Max.   :1.0000   Max.   :1.0000   Max.   :1.00000   Max.   :1.0000  \n",
       " symmetry_mean    dimension_mean     radius_se         texture_se    \n",
       " Min.   :0.0000   Min.   :0.0000   Min.   :0.00000   Min.   :0.0000  \n",
       " 1st Qu.:0.2823   1st Qu.:0.1630   1st Qu.:0.04378   1st Qu.:0.1047  \n",
       " Median :0.3697   Median :0.2439   Median :0.07702   Median :0.1653  \n",
       " Mean   :0.3796   Mean   :0.2704   Mean   :0.10635   Mean   :0.1893  \n",
       " 3rd Qu.:0.4530   3rd Qu.:0.3404   3rd Qu.:0.13304   3rd Qu.:0.2462  \n",
       " Max.   :1.0000   Max.   :1.0000   Max.   :1.00000   Max.   :1.0000  \n",
       "  perimeter_se        area_se        smoothness_se    compactness_se   \n",
       " Min.   :0.00000   Min.   :0.00000   Min.   :0.0000   Min.   :0.00000  \n",
       " 1st Qu.:0.04000   1st Qu.:0.02064   1st Qu.:0.1175   1st Qu.:0.08132  \n",
       " Median :0.07209   Median :0.03311   Median :0.1586   Median :0.13667  \n",
       " Mean   :0.09938   Mean   :0.06264   Mean   :0.1811   Mean   :0.17444  \n",
       " 3rd Qu.:0.12251   3rd Qu.:0.07170   3rd Qu.:0.2187   3rd Qu.:0.22680  \n",
       " Max.   :1.00000   Max.   :1.00000   Max.   :1.0000   Max.   :1.00000  \n",
       "  concavity_se       points_se       symmetry_se      dimension_se    \n",
       " Min.   :0.00000   Min.   :0.0000   Min.   :0.0000   Min.   :0.00000  \n",
       " 1st Qu.:0.03811   1st Qu.:0.1447   1st Qu.:0.1024   1st Qu.:0.04675  \n",
       " Median :0.06538   Median :0.2070   Median :0.1526   Median :0.07919  \n",
       " Mean   :0.08054   Mean   :0.2235   Mean   :0.1781   Mean   :0.10019  \n",
       " 3rd Qu.:0.10619   3rd Qu.:0.2787   3rd Qu.:0.2195   3rd Qu.:0.12656  \n",
       " Max.   :1.00000   Max.   :1.0000   Max.   :1.0000   Max.   :1.00000  \n",
       "  radius_worst    texture_worst    perimeter_worst    area_worst     \n",
       " Min.   :0.0000   Min.   :0.0000   Min.   :0.0000   Min.   :0.00000  \n",
       " 1st Qu.:0.1807   1st Qu.:0.2415   1st Qu.:0.1678   1st Qu.:0.08113  \n",
       " Median :0.2504   Median :0.3569   Median :0.2353   Median :0.12321  \n",
       " Mean   :0.2967   Mean   :0.3640   Mean   :0.2831   Mean   :0.17091  \n",
       " 3rd Qu.:0.3863   3rd Qu.:0.4717   3rd Qu.:0.3735   3rd Qu.:0.22090  \n",
       " Max.   :1.0000   Max.   :1.0000   Max.   :1.0000   Max.   :1.00000  \n",
       " smoothness_worst compactness_worst concavity_worst    points_worst   \n",
       " Min.   :0.0000   Min.   :0.0000    Min.   :0.00000   Min.   :0.0000  \n",
       " 1st Qu.:0.3000   1st Qu.:0.1163    1st Qu.:0.09145   1st Qu.:0.2231  \n",
       " Median :0.3971   Median :0.1791    Median :0.18107   Median :0.3434  \n",
       " Mean   :0.4041   Mean   :0.2202    Mean   :0.21740   Mean   :0.3938  \n",
       " 3rd Qu.:0.4942   3rd Qu.:0.3025    3rd Qu.:0.30583   3rd Qu.:0.5546  \n",
       " Max.   :1.0000   Max.   :1.0000    Max.   :1.00000   Max.   :1.0000  \n",
       " symmetry_worst   dimension_worst \n",
       " Min.   :0.0000   Min.   :0.0000  \n",
       " 1st Qu.:0.1851   1st Qu.:0.1077  \n",
       " Median :0.2478   Median :0.1640  \n",
       " Mean   :0.2633   Mean   :0.1896  \n",
       " 3rd Qu.:0.3182   3rd Qu.:0.2429  \n",
       " Max.   :1.0000   Max.   :1.0000  "
      ]
     },
     "metadata": {},
     "output_type": "display_data"
    }
   ],
   "source": [
    "#5. 데이터를 정규화 한다.\n",
    "normalize <- function(x) {\n",
    "      return ( (x-min(x)) / (max(x) - min(x))  )\n",
    "}\n",
    "# 서로 단위가 다른 데이터를 전부 0-1사이의 데이터로 맞춰준다\n",
    "\n",
    "wbcd_n  <- as.data.frame(lapply(wbcd2[2:31],normalize))\n",
    "summary(wbcd_n)"
   ]
  },
  {
   "cell_type": "code",
   "execution_count": 41,
   "metadata": {
    "ExecuteTime": {
     "end_time": "2020-06-23T07:36:12.652063Z",
     "start_time": "2020-06-23T07:36:12.612Z"
    }
   },
   "outputs": [],
   "source": [
    "#6. train 데이터와 test 데이터로 9 대 1로 나눈다\n",
    "train_num<-round(0.9*nrow(wbcd_n),0)\n",
    "wbcd_train<-wbcd_n[1:train_num,]\n",
    "wbcd_test<-wbcd_n[(train_num+1):nrow(wbcd_n),]"
   ]
  },
  {
   "cell_type": "code",
   "execution_count": 42,
   "metadata": {
    "ExecuteTime": {
     "end_time": "2020-06-23T07:36:13.088747Z",
     "start_time": "2020-06-23T07:36:13.034Z"
    }
   },
   "outputs": [],
   "source": [
    "#7. train 데이터를 데이터와 라벨로 나누고 test  데이터를 데이터와 라벨로 나누시오 ~\n",
    "wbcd_train_labels <- wbcd2[1:train_num,1]\n",
    "wbcd_test_labels <- wbcd2[(train_num+1):nrow(wbcd_n),1]"
   ]
  },
  {
   "cell_type": "code",
   "execution_count": 43,
   "metadata": {
    "ExecuteTime": {
     "end_time": "2020-06-23T07:36:15.362303Z",
     "start_time": "2020-06-23T07:36:13.615Z"
    }
   },
   "outputs": [
    {
     "name": "stderr",
     "output_type": "stream",
     "text": [
      "Installing package into 'C:/Users/knitwill/Documents/R/win-library/3.6'\n",
      "(as 'lib' is unspecified)\n",
      "Warning message:\n",
      "\"package 'class' is in use and will not be installed\""
     ]
    }
   ],
   "source": [
    "install.packages('class')\n",
    "library(class)"
   ]
  },
  {
   "cell_type": "markdown",
   "metadata": {},
   "source": [
    "### ■ 3단계: 데이터로 모델 훈련"
   ]
  },
  {
   "cell_type": "code",
   "execution_count": null,
   "metadata": {
    "ExecuteTime": {
     "end_time": "2020-06-23T07:38:29.215157Z",
     "start_time": "2020-06-23T07:38:29.141Z"
    }
   },
   "outputs": [],
   "source": [
    "#8. knn 모델로 훈련시켜서 모델을 만들고 바로 그 모델에 test 데이터를 넣어서 정확도를 확인한다\n",
    "rs <- knn(train=wbcd_train, test=wbcd_test, cl=wbcd_train_labels, k=21)"
   ]
  },
  {
   "cell_type": "markdown",
   "metadata": {},
   "source": [
    "### ■ 4단계: 모델 성능평가"
   ]
  },
  {
   "cell_type": "code",
   "execution_count": 52,
   "metadata": {
    "ExecuteTime": {
     "end_time": "2020-06-23T07:52:15.759854Z",
     "start_time": "2020-06-23T07:52:15.727Z"
    }
   },
   "outputs": [
    {
     "name": "stdout",
     "output_type": "stream",
     "text": [
      "    예측\n",
      "실제  B  M\n",
      "   B 34  0\n",
      "   M  2 21\n"
     ]
    }
   ],
   "source": [
    "x <- data.frame(실제=wbcd_test_labels, 예측=rs)\n",
    "table(x)"
   ]
  },
  {
   "cell_type": "markdown",
   "metadata": {},
   "source": [
    "### ※ 문제224. 주어진 k값으로 모델을 훈련시키고 모델 성능평가 결과를 댓글로 올리시오"
   ]
  },
  {
   "cell_type": "code",
   "execution_count": 55,
   "metadata": {
    "ExecuteTime": {
     "end_time": "2020-06-23T08:00:53.351847Z",
     "start_time": "2020-06-23T08:00:53.315Z"
    }
   },
   "outputs": [
    {
     "data": {
      "text/plain": [
       "    예측\n",
       "실제  B  M\n",
       "   B 33  1\n",
       "   M  2 21"
      ]
     },
     "metadata": {},
     "output_type": "display_data"
    }
   ],
   "source": [
    "rs2 <- knn(train=wbcd_train, test=wbcd_test, cl=wbcd_train_labels, k=51)\n",
    "x <- data.frame(실제=wbcd_test_labels, 예측=rs2)\n",
    "table(x)"
   ]
  },
  {
   "cell_type": "markdown",
   "metadata": {},
   "source": [
    "### ※ 문제225. CrossTable 함수를 이용해서 모델의 성능을 확인하시오"
   ]
  },
  {
   "cell_type": "code",
   "execution_count": 56,
   "metadata": {
    "ExecuteTime": {
     "end_time": "2020-06-23T08:03:21.794659Z",
     "start_time": "2020-06-23T08:03:21.395Z"
    }
   },
   "outputs": [
    {
     "name": "stderr",
     "output_type": "stream",
     "text": [
      "Warning message:\n",
      "\"package 'gmodels' was built under R version 3.6.3\""
     ]
    }
   ],
   "source": [
    "library(gmodels)"
   ]
  },
  {
   "cell_type": "code",
   "execution_count": 58,
   "metadata": {
    "ExecuteTime": {
     "end_time": "2020-06-23T08:03:55.810998Z",
     "start_time": "2020-06-23T08:03:55.778Z"
    }
   },
   "outputs": [
    {
     "name": "stdout",
     "output_type": "stream",
     "text": [
      "\n",
      " \n",
      "   Cell Contents\n",
      "|-------------------------|\n",
      "|                       N |\n",
      "| Chi-square contribution |\n",
      "|           N / Row Total |\n",
      "|           N / Col Total |\n",
      "|         N / Table Total |\n",
      "|-------------------------|\n",
      "\n",
      " \n",
      "Total Observations in Table:  57 \n",
      "\n",
      " \n",
      "                 | rs2 \n",
      "wbcd_test_labels |         B |         M | Row Total | \n",
      "-----------------|-----------|-----------|-----------|\n",
      "               B |        33 |         1 |        34 | \n",
      "                 |     7.039 |    11.199 |           | \n",
      "                 |     0.971 |     0.029 |     0.596 | \n",
      "                 |     0.943 |     0.045 |           | \n",
      "                 |     0.579 |     0.018 |           | \n",
      "-----------------|-----------|-----------|-----------|\n",
      "               M |         2 |        21 |        23 | \n",
      "                 |    10.406 |    16.555 |           | \n",
      "                 |     0.087 |     0.913 |     0.404 | \n",
      "                 |     0.057 |     0.955 |           | \n",
      "                 |     0.035 |     0.368 |           | \n",
      "-----------------|-----------|-----------|-----------|\n",
      "    Column Total |        35 |        22 |        57 | \n",
      "                 |     0.614 |     0.386 |           | \n",
      "-----------------|-----------|-----------|-----------|\n",
      "\n",
      " \n"
     ]
    }
   ],
   "source": [
    "g2 <- CrossTable(x=wbcd_test_labels, y=rs2,chisq=F)"
   ]
  },
  {
   "cell_type": "markdown",
   "metadata": {},
   "source": [
    "### ※ 문제226. 적절한 k 값을 알아내기 위한 시각화 코드를 참고해서 우리가 테스트한 변수로 변경해서 그래프를 시각화 하시오\n",
    "### 　　　　　 시각화 한 그래프를 첨부"
   ]
  },
  {
   "cell_type": "code",
   "execution_count": null,
   "metadata": {},
   "outputs": [],
   "source": []
  }
 ],
 "metadata": {
  "kernelspec": {
   "display_name": "R",
   "language": "R",
   "name": "ir"
  },
  "language_info": {
   "codemirror_mode": "r",
   "file_extension": ".r",
   "mimetype": "text/x-r-source",
   "name": "R",
   "pygments_lexer": "r",
   "version": "3.6.1"
  },
  "toc": {
   "base_numbering": 1,
   "nav_menu": {},
   "number_sections": true,
   "sideBar": true,
   "skip_h1_title": false,
   "title_cell": "Table of Contents",
   "title_sidebar": "Contents",
   "toc_cell": false,
   "toc_position": {},
   "toc_section_display": true,
   "toc_window_display": false
  },
  "varInspector": {
   "cols": {
    "lenName": 16,
    "lenType": 16,
    "lenVar": 40
   },
   "kernels_config": {
    "python": {
     "delete_cmd_postfix": "",
     "delete_cmd_prefix": "del ",
     "library": "var_list.py",
     "varRefreshCmd": "print(var_dic_list())"
    },
    "r": {
     "delete_cmd_postfix": ") ",
     "delete_cmd_prefix": "rm(",
     "library": "var_list.r",
     "varRefreshCmd": "cat(var_dic_list()) "
    }
   },
   "types_to_exclude": [
    "module",
    "function",
    "builtin_function_or_method",
    "instance",
    "_Feature"
   ],
   "window_display": false
  }
 },
 "nbformat": 4,
 "nbformat_minor": 4
}
