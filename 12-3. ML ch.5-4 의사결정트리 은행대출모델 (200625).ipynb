{
 "cells": [
  {
   "cell_type": "markdown",
   "metadata": {},
   "source": [
    "## ■ (의사결정트리 실습2) 은행 대출 채무를 불이행할 것 같은 고객이 누구인가 ?\n",
    "    1. 데이터 정보\n",
    "        독일의 한 신용기관에서 얻은 대출정보\n",
    "        신용 데이터셋은 1000개의 대출 예시와 대출금액과 대출 신청자의 특성을 나타내는 일련의 수치특징과 명목특징을 포함하고 있다."
   ]
  },
  {
   "cell_type": "code",
   "execution_count": null,
   "metadata": {},
   "outputs": [],
   "source": [
    "# 1. 데이터를 로드한다.\n",
    "\n",
    "credit <- read.csv(\"credit.csv\",head=T,stringsAsFactors = T)\n",
    "\n",
    "str(credit) "
   ]
  },
  {
   "cell_type": "code",
   "execution_count": null,
   "metadata": {},
   "outputs": [],
   "source": [
    "# 2. 데이터에 각 컬럼들을 이해한다. \n",
    "#라벨 컬럼 :  default  --->  yes : 대출금 상환 안함 no  : 대출금 상환 \n",
    "\n",
    "prop.table( table(credit$default)  )\n",
    "\n",
    "#no   yes \n",
    "#0.7   0.3 \n",
    "\n",
    "#-  계좌 소개 :  \n",
    "#checking_balance --> 예금계좌\n",
    "#saving_balance   --> 적금계좌 \n",
    "\n",
    "#-  amount    :  대출 금액 250마크르 ~ 18424 마르크 ( 100 마르크가 우리나라돈 6~7만원 )\n",
    "\n",
    "summary( credit$amount)\n",
    "\n",
    "#은행의 목표 :  과거의 데이터를 분석해보니 대출금 상환 불이행자가 30%나 되어서 앞으로는 30% 이내로 떨어뜨리는게  은행의 목표\n",
    "#그에 맞는 model 을 생성해야한다."
   ]
  },
  {
   "cell_type": "code",
   "execution_count": null,
   "metadata": {},
   "outputs": [],
   "source": [
    "# 3. 데이터가 명목형 데이터인지 확인해본다.\n",
    "\n",
    "str(credit) "
   ]
  },
  {
   "cell_type": "code",
   "execution_count": null,
   "metadata": {},
   "outputs": [],
   "source": [
    "# 4. 데이터를 shuffle 시킨다.\n",
    "\n",
    "set.seed(31)\n",
    "\n",
    "credit_shuffle <-  credit[ sample( nrow(credit) ),  ]"
   ]
  },
  {
   "cell_type": "code",
   "execution_count": null,
   "metadata": {},
   "outputs": [],
   "source": [
    "# 5. 데이터를 9 대 1로 나눈다.\n",
    "\n",
    "train_num <- round( 0.9 * nrow(credit_shuffle), 0) \n",
    "\n",
    "credit_train <- credit_shuffle[1:train_num ,  ]\n",
    "\n",
    "credit_test  <- credit_shuffle[(train_num+1) : nrow(credit_shuffle),  ]"
   ]
  },
  {
   "cell_type": "code",
   "execution_count": null,
   "metadata": {},
   "outputs": [],
   "source": [
    "# 6. C5.0 패키지와 훈련 데이터를 이용해서 모델을 생성한다.\n",
    "\n",
    "library(C50)\n",
    "\n",
    "credit_model <- C5.0( credit_train[ ,-17] , credit_train[  , 17] )"
   ]
  },
  {
   "cell_type": "code",
   "execution_count": null,
   "metadata": {},
   "outputs": [],
   "source": [
    "# 7. 위에서 만든 모델을 이용해서 테스트 데이터의 라벨을 예측한다.\n",
    "\n",
    "credit_result <-  predict( credit_model, credit_test[  , -17] )"
   ]
  },
  {
   "cell_type": "code",
   "execution_count": null,
   "metadata": {},
   "outputs": [],
   "source": [
    "# 8. 이원 교차표로 결과를 확인한다.\n",
    "\n",
    "library(gmodels)\n",
    "\n",
    "CrossTable(  credit_test[   , 17], credit_result )\n",
    "#                ↑                     ↑\n",
    "#              실제                   예측"
   ]
  },
  {
   "cell_type": "markdown",
   "metadata": {},
   "source": [
    "### ※문제. 부스팅 기법을 이용해서 위의 의사결정트리 모델의 정확도를 올리시오 !"
   ]
  },
  {
   "cell_type": "code",
   "execution_count": null,
   "metadata": {},
   "outputs": [],
   "source": []
  },
  {
   "cell_type": "code",
   "execution_count": null,
   "metadata": {},
   "outputs": [],
   "source": []
  },
  {
   "cell_type": "code",
   "execution_count": null,
   "metadata": {},
   "outputs": [],
   "source": []
  },
  {
   "cell_type": "code",
   "execution_count": null,
   "metadata": {},
   "outputs": [],
   "source": []
  },
  {
   "cell_type": "code",
   "execution_count": null,
   "metadata": {},
   "outputs": [],
   "source": []
  },
  {
   "cell_type": "code",
   "execution_count": null,
   "metadata": {},
   "outputs": [],
   "source": []
  },
  {
   "cell_type": "code",
   "execution_count": null,
   "metadata": {},
   "outputs": [],
   "source": []
  }
 ],
 "metadata": {
  "kernelspec": {
   "display_name": "R",
   "language": "R",
   "name": "ir"
  },
  "language_info": {
   "codemirror_mode": "r",
   "file_extension": ".r",
   "mimetype": "text/x-r-source",
   "name": "R",
   "pygments_lexer": "r",
   "version": "3.6.1"
  },
  "toc": {
   "base_numbering": 1,
   "nav_menu": {},
   "number_sections": true,
   "sideBar": true,
   "skip_h1_title": false,
   "title_cell": "Table of Contents",
   "title_sidebar": "Contents",
   "toc_cell": false,
   "toc_position": {},
   "toc_section_display": true,
   "toc_window_display": false
  },
  "varInspector": {
   "cols": {
    "lenName": 16,
    "lenType": 16,
    "lenVar": 40
   },
   "kernels_config": {
    "python": {
     "delete_cmd_postfix": "",
     "delete_cmd_prefix": "del ",
     "library": "var_list.py",
     "varRefreshCmd": "print(var_dic_list())"
    },
    "r": {
     "delete_cmd_postfix": ") ",
     "delete_cmd_prefix": "rm(",
     "library": "var_list.r",
     "varRefreshCmd": "cat(var_dic_list()) "
    }
   },
   "types_to_exclude": [
    "module",
    "function",
    "builtin_function_or_method",
    "instance",
    "_Feature"
   ],
   "window_display": false
  }
 },
 "nbformat": 4,
 "nbformat_minor": 4
}
