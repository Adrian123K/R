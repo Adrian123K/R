{
 "cells": [
  {
   "cell_type": "markdown",
   "metadata": {},
   "source": [
    "## ■ 나이브 베이즈 알고리즘으로 선호하는 영화 장르 예측하기 "
   ]
  },
  {
   "cell_type": "code",
   "execution_count": 1,
   "metadata": {
    "ExecuteTime": {
     "end_time": "2020-06-25T01:02:37.683482Z",
     "start_time": "2020-06-25T01:02:23.993Z"
    }
   },
   "outputs": [
    {
     "name": "stderr",
     "output_type": "stream",
     "text": [
      "Installing package into 'C:/Users/knitwill/Documents/R/win-library/3.6'\n",
      "(as 'lib' is unspecified)\n"
     ]
    },
    {
     "name": "stdout",
     "output_type": "stream",
     "text": [
      "package 'e1071' successfully unpacked and MD5 sums checked\n",
      "\n",
      "The downloaded binary packages are in\n",
      "\tC:\\Users\\knitwill\\AppData\\Local\\Temp\\Rtmp2VuvAi\\downloaded_packages\n"
     ]
    },
    {
     "name": "stderr",
     "output_type": "stream",
     "text": [
      "Warning message:\n",
      "\"package 'e1071' was built under R version 3.6.3\""
     ]
    },
    {
     "name": "stdout",
     "output_type": "stream",
     "text": [
      "'data.frame':\t39 obs. of  6 variables:\n",
      " $ 나이    : Factor w/ 5 levels \"10대\",\"10대 \",..: 3 5 1 3 1 5 2 4 4 5 ...\n",
      " $ 성별    : Factor w/ 2 levels \"남\",\"여\": 2 1 2 2 1 1 1 1 1 1 ...\n",
      " $ 직업    : Factor w/ 8 levels \"IT\",\"디자이너\",..: 2 8 8 2 7 6 7 1 4 6 ...\n",
      " $ 결혼여부: Factor w/ 2 levels \"NO\",\"YES\": 1 1 1 2 1 1 1 1 2 1 ...\n",
      " $ 이성친구: Factor w/ 2 levels \"NO\",\"YES\": 2 1 2 1 1 1 1 2 1 1 ...\n",
      " $ 장르    : Factor w/ 7 levels \"SF\",\"공포\",\"로맨틱\",..: 3 2 3 3 6 2 6 1 5 2 ...\n"
     ]
    },
    {
     "data": {
      "text/html": [
       "39"
      ],
      "text/latex": [
       "39"
      ],
      "text/markdown": [
       "39"
      ],
      "text/plain": [
       "[1] 39"
      ]
     },
     "metadata": {},
     "output_type": "display_data"
    }
   ],
   "source": [
    "# 2. 관련된 패키지를 설치 합니다.\n",
    "install.packages(\"e1071\")\n",
    "library(e1071)\n",
    "\n",
    "# 3. 데이터를 로드 합니다.\n",
    "movie <- read.csv(\"movie.csv\", header=T, stringsAsFactors=TRUE)\n",
    "str(movie)\n",
    "nrow(movie)"
   ]
  },
  {
   "cell_type": "code",
   "execution_count": 2,
   "metadata": {
    "ExecuteTime": {
     "end_time": "2020-06-25T01:02:41.371493Z",
     "start_time": "2020-06-25T01:02:41.345Z"
    }
   },
   "outputs": [],
   "source": [
    "# 4. 컬럼명을 영어로 변경합니다. \n",
    "colnames(movie) <- c(\"age\",\"gender\",\"job\",\"marry\",\"friend\",\"m_type\")"
   ]
  },
  {
   "cell_type": "code",
   "execution_count": 3,
   "metadata": {
    "ExecuteTime": {
     "end_time": "2020-06-25T01:02:45.910690Z",
     "start_time": "2020-06-25T01:02:45.815Z"
    }
   },
   "outputs": [
    {
     "data": {
      "text/html": [
       "<table>\n",
       "<thead><tr><th scope=col>age</th><th scope=col>gender</th><th scope=col>job</th><th scope=col>marry</th><th scope=col>friend</th><th scope=col>m_type</th></tr></thead>\n",
       "<tbody>\n",
       "\t<tr><td>20대       </td><td>여         </td><td>디자이너   </td><td>NO         </td><td>YES        </td><td>로맨틱     </td></tr>\n",
       "\t<tr><td>40대       </td><td>남         </td><td>홍보/마케팅</td><td>NO         </td><td>NO         </td><td>공포       </td></tr>\n",
       "\t<tr><td>10대       </td><td>여         </td><td>홍보/마케팅</td><td>NO         </td><td>YES        </td><td>로맨틱     </td></tr>\n",
       "\t<tr><td>20대       </td><td>여         </td><td>디자이너   </td><td>YES        </td><td>NO         </td><td>로맨틱     </td></tr>\n",
       "\t<tr><td>10대       </td><td>남         </td><td>학생       </td><td>NO         </td><td>NO         </td><td>액션       </td></tr>\n",
       "\t<tr><td>40대       </td><td>남         </td><td>자영업     </td><td>NO         </td><td>NO         </td><td>공포       </td></tr>\n",
       "\t<tr><td>10대       </td><td>남         </td><td>학생       </td><td>NO         </td><td>NO         </td><td>액션       </td></tr>\n",
       "\t<tr><td>30대       </td><td>남         </td><td>IT         </td><td>NO         </td><td>YES        </td><td>SF         </td></tr>\n",
       "\t<tr><td>30대       </td><td>남         </td><td>언론       </td><td>YES        </td><td>NO         </td><td>스릴러     </td></tr>\n",
       "\t<tr><td>40대       </td><td>남         </td><td>자영업     </td><td>NO         </td><td>NO         </td><td>공포       </td></tr>\n",
       "\t<tr><td>10대       </td><td>남         </td><td>학생       </td><td>NO         </td><td>NO         </td><td>액션       </td></tr>\n",
       "\t<tr><td>20대       </td><td>여         </td><td>홍보/마케팅</td><td>YES        </td><td>NO         </td><td>로맨틱     </td></tr>\n",
       "\t<tr><td>30대       </td><td>여         </td><td>IT         </td><td>YES        </td><td>NO         </td><td>SF         </td></tr>\n",
       "\t<tr><td>30대       </td><td>남         </td><td>언론       </td><td>YES        </td><td>NO         </td><td>스릴러     </td></tr>\n",
       "\t<tr><td>10대       </td><td>여         </td><td>학생       </td><td>NO         </td><td>YES        </td><td>로맨틱     </td></tr>\n",
       "\t<tr><td>20대       </td><td>남         </td><td>학생       </td><td>NO         </td><td>NO         </td><td>코미디     </td></tr>\n",
       "\t<tr><td>20대       </td><td>여         </td><td>디자이너   </td><td>YES        </td><td>NO         </td><td>로맨틱     </td></tr>\n",
       "\t<tr><td>30대       </td><td>남         </td><td>언론       </td><td>NO         </td><td>YES        </td><td>스릴러     </td></tr>\n",
       "\t<tr><td>30대       </td><td>남         </td><td>영업       </td><td>NO         </td><td>NO         </td><td>코미디     </td></tr>\n",
       "\t<tr><td>10대       </td><td>남         </td><td>학생       </td><td>NO         </td><td>NO         </td><td>액션       </td></tr>\n",
       "\t<tr><td>10대       </td><td>여         </td><td>학생       </td><td>NO         </td><td>YES        </td><td>로맨틱     </td></tr>\n",
       "\t<tr><td>30대       </td><td>남         </td><td>영업       </td><td>NO         </td><td>NO         </td><td>코미디     </td></tr>\n",
       "\t<tr><td>40대       </td><td>남         </td><td>영업       </td><td>NO         </td><td>NO         </td><td>공포       </td></tr>\n",
       "\t<tr><td>40대       </td><td>남         </td><td>홍보/마케팅</td><td>NO         </td><td>NO         </td><td>코미디     </td></tr>\n",
       "\t<tr><td>30대       </td><td>남         </td><td>IT         </td><td>YES        </td><td>NO         </td><td>SF         </td></tr>\n",
       "\t<tr><td>30대       </td><td>남         </td><td>언론       </td><td>NO         </td><td>YES        </td><td>스릴러     </td></tr>\n",
       "\t<tr><td>10대       </td><td>여         </td><td>학생       </td><td>NO         </td><td>YES        </td><td>로맨틱     </td></tr>\n",
       "\t<tr><td>20대       </td><td>남         </td><td>학생       </td><td>NO         </td><td>NO         </td><td>코미디     </td></tr>\n",
       "\t<tr><td>30대       </td><td>여         </td><td>IT         </td><td>YES        </td><td>NO         </td><td>SF         </td></tr>\n",
       "\t<tr><td>10대       </td><td>남         </td><td>학생       </td><td>NO         </td><td>NO         </td><td>액션       </td></tr>\n",
       "\t<tr><td>10대       </td><td>남         </td><td>무직       </td><td>NO         </td><td>NO         </td><td>무협       </td></tr>\n",
       "\t<tr><td>30대       </td><td>남         </td><td>언론       </td><td>YES        </td><td>NO         </td><td>스릴러     </td></tr>\n",
       "\t<tr><td>30대       </td><td>남         </td><td>무직       </td><td>NO         </td><td>NO         </td><td>무협       </td></tr>\n",
       "\t<tr><td>30대       </td><td>여         </td><td>IT         </td><td>YES        </td><td>NO         </td><td>SF         </td></tr>\n",
       "\t<tr><td>20대       </td><td>남         </td><td>무직       </td><td>NO         </td><td>NO         </td><td>무협       </td></tr>\n",
       "\t<tr><td>40대       </td><td>남         </td><td>홍보/마케팅</td><td>NO         </td><td>NO         </td><td>공포       </td></tr>\n",
       "\t<tr><td>40대       </td><td>남         </td><td>무직       </td><td>NO         </td><td>NO         </td><td>무협       </td></tr>\n",
       "\t<tr><td>40대       </td><td>남         </td><td>무직       </td><td>NO         </td><td>NO         </td><td>무협       </td></tr>\n",
       "</tbody>\n",
       "</table>\n"
      ],
      "text/latex": [
       "\\begin{tabular}{r|llllll}\n",
       " age & gender & job & marry & friend & m\\_type\\\\\n",
       "\\hline\n",
       "\t 20대        & 여          & 디자이너    & NO          & YES         & 로맨틱     \\\\\n",
       "\t 40대        & 남          & 홍보/마케팅 & NO          & NO          & 공포       \\\\\n",
       "\t 10대        & 여          & 홍보/마케팅 & NO          & YES         & 로맨틱     \\\\\n",
       "\t 20대        & 여          & 디자이너    & YES         & NO          & 로맨틱     \\\\\n",
       "\t 10대        & 남          & 학생        & NO          & NO          & 액션       \\\\\n",
       "\t 40대        & 남          & 자영업      & NO          & NO          & 공포       \\\\\n",
       "\t 10대        & 남          & 학생        & NO          & NO          & 액션       \\\\\n",
       "\t 30대        & 남          & IT          & NO          & YES         & SF         \\\\\n",
       "\t 30대        & 남          & 언론        & YES         & NO          & 스릴러     \\\\\n",
       "\t 40대        & 남          & 자영업      & NO          & NO          & 공포       \\\\\n",
       "\t 10대        & 남          & 학생        & NO          & NO          & 액션       \\\\\n",
       "\t 20대        & 여          & 홍보/마케팅 & YES         & NO          & 로맨틱     \\\\\n",
       "\t 30대        & 여          & IT          & YES         & NO          & SF         \\\\\n",
       "\t 30대        & 남          & 언론        & YES         & NO          & 스릴러     \\\\\n",
       "\t 10대        & 여          & 학생        & NO          & YES         & 로맨틱     \\\\\n",
       "\t 20대        & 남          & 학생        & NO          & NO          & 코미디     \\\\\n",
       "\t 20대        & 여          & 디자이너    & YES         & NO          & 로맨틱     \\\\\n",
       "\t 30대        & 남          & 언론        & NO          & YES         & 스릴러     \\\\\n",
       "\t 30대        & 남          & 영업        & NO          & NO          & 코미디     \\\\\n",
       "\t 10대        & 남          & 학생        & NO          & NO          & 액션       \\\\\n",
       "\t 10대        & 여          & 학생        & NO          & YES         & 로맨틱     \\\\\n",
       "\t 30대        & 남          & 영업        & NO          & NO          & 코미디     \\\\\n",
       "\t 40대        & 남          & 영업        & NO          & NO          & 공포       \\\\\n",
       "\t 40대        & 남          & 홍보/마케팅 & NO          & NO          & 코미디     \\\\\n",
       "\t 30대        & 남          & IT          & YES         & NO          & SF         \\\\\n",
       "\t 30대        & 남          & 언론        & NO          & YES         & 스릴러     \\\\\n",
       "\t 10대        & 여          & 학생        & NO          & YES         & 로맨틱     \\\\\n",
       "\t 20대        & 남          & 학생        & NO          & NO          & 코미디     \\\\\n",
       "\t 30대        & 여          & IT          & YES         & NO          & SF         \\\\\n",
       "\t 10대        & 남          & 학생        & NO          & NO          & 액션       \\\\\n",
       "\t 10대        & 남          & 무직        & NO          & NO          & 무협       \\\\\n",
       "\t 30대        & 남          & 언론        & YES         & NO          & 스릴러     \\\\\n",
       "\t 30대        & 남          & 무직        & NO          & NO          & 무협       \\\\\n",
       "\t 30대        & 여          & IT          & YES         & NO          & SF         \\\\\n",
       "\t 20대        & 남          & 무직        & NO          & NO          & 무협       \\\\\n",
       "\t 40대        & 남          & 홍보/마케팅 & NO          & NO          & 공포       \\\\\n",
       "\t 40대        & 남          & 무직        & NO          & NO          & 무협       \\\\\n",
       "\t 40대        & 남          & 무직        & NO          & NO          & 무협       \\\\\n",
       "\\end{tabular}\n"
      ],
      "text/markdown": [
       "\n",
       "| age | gender | job | marry | friend | m_type |\n",
       "|---|---|---|---|---|---|\n",
       "| 20대        | 여          | 디자이너    | NO          | YES         | 로맨틱      |\n",
       "| 40대        | 남          | 홍보/마케팅 | NO          | NO          | 공포        |\n",
       "| 10대        | 여          | 홍보/마케팅 | NO          | YES         | 로맨틱      |\n",
       "| 20대        | 여          | 디자이너    | YES         | NO          | 로맨틱      |\n",
       "| 10대        | 남          | 학생        | NO          | NO          | 액션        |\n",
       "| 40대        | 남          | 자영업      | NO          | NO          | 공포        |\n",
       "| 10대        | 남          | 학생        | NO          | NO          | 액션        |\n",
       "| 30대        | 남          | IT          | NO          | YES         | SF          |\n",
       "| 30대        | 남          | 언론        | YES         | NO          | 스릴러      |\n",
       "| 40대        | 남          | 자영업      | NO          | NO          | 공포        |\n",
       "| 10대        | 남          | 학생        | NO          | NO          | 액션        |\n",
       "| 20대        | 여          | 홍보/마케팅 | YES         | NO          | 로맨틱      |\n",
       "| 30대        | 여          | IT          | YES         | NO          | SF          |\n",
       "| 30대        | 남          | 언론        | YES         | NO          | 스릴러      |\n",
       "| 10대        | 여          | 학생        | NO          | YES         | 로맨틱      |\n",
       "| 20대        | 남          | 학생        | NO          | NO          | 코미디      |\n",
       "| 20대        | 여          | 디자이너    | YES         | NO          | 로맨틱      |\n",
       "| 30대        | 남          | 언론        | NO          | YES         | 스릴러      |\n",
       "| 30대        | 남          | 영업        | NO          | NO          | 코미디      |\n",
       "| 10대        | 남          | 학생        | NO          | NO          | 액션        |\n",
       "| 10대        | 여          | 학생        | NO          | YES         | 로맨틱      |\n",
       "| 30대        | 남          | 영업        | NO          | NO          | 코미디      |\n",
       "| 40대        | 남          | 영업        | NO          | NO          | 공포        |\n",
       "| 40대        | 남          | 홍보/마케팅 | NO          | NO          | 코미디      |\n",
       "| 30대        | 남          | IT          | YES         | NO          | SF          |\n",
       "| 30대        | 남          | 언론        | NO          | YES         | 스릴러      |\n",
       "| 10대        | 여          | 학생        | NO          | YES         | 로맨틱      |\n",
       "| 20대        | 남          | 학생        | NO          | NO          | 코미디      |\n",
       "| 30대        | 여          | IT          | YES         | NO          | SF          |\n",
       "| 10대        | 남          | 학생        | NO          | NO          | 액션        |\n",
       "| 10대        | 남          | 무직        | NO          | NO          | 무협        |\n",
       "| 30대        | 남          | 언론        | YES         | NO          | 스릴러      |\n",
       "| 30대        | 남          | 무직        | NO          | NO          | 무협        |\n",
       "| 30대        | 여          | IT          | YES         | NO          | SF          |\n",
       "| 20대        | 남          | 무직        | NO          | NO          | 무협        |\n",
       "| 40대        | 남          | 홍보/마케팅 | NO          | NO          | 공포        |\n",
       "| 40대        | 남          | 무직        | NO          | NO          | 무협        |\n",
       "| 40대        | 남          | 무직        | NO          | NO          | 무협        |\n",
       "\n"
      ],
      "text/plain": [
       "   age   gender job         marry friend m_type\n",
       "1  20대  여     디자이너    NO    YES    로맨틱\n",
       "2  40대  남     홍보/마케팅 NO    NO     공포  \n",
       "3  10대  여     홍보/마케팅 NO    YES    로맨틱\n",
       "4  20대  여     디자이너    YES   NO     로맨틱\n",
       "5  10대  남     학생        NO    NO     액션  \n",
       "6  40대  남     자영업      NO    NO     공포  \n",
       "7  10대  남     학생        NO    NO     액션  \n",
       "8  30대  남     IT          NO    YES    SF    \n",
       "9  30대  남     언론        YES   NO     스릴러\n",
       "10 40대  남     자영업      NO    NO     공포  \n",
       "11 10대  남     학생        NO    NO     액션  \n",
       "12 20대  여     홍보/마케팅 YES   NO     로맨틱\n",
       "13 30대  여     IT          YES   NO     SF    \n",
       "14 30대  남     언론        YES   NO     스릴러\n",
       "15 10대  여     학생        NO    YES    로맨틱\n",
       "16 20대  남     학생        NO    NO     코미디\n",
       "17 20대  여     디자이너    YES   NO     로맨틱\n",
       "18 30대  남     언론        NO    YES    스릴러\n",
       "19 30대  남     영업        NO    NO     코미디\n",
       "20 10대  남     학생        NO    NO     액션  \n",
       "21 10대  여     학생        NO    YES    로맨틱\n",
       "22 30대  남     영업        NO    NO     코미디\n",
       "23 40대  남     영업        NO    NO     공포  \n",
       "24 40대  남     홍보/마케팅 NO    NO     코미디\n",
       "25 30대  남     IT          YES   NO     SF    \n",
       "26 30대  남     언론        NO    YES    스릴러\n",
       "27 10대  여     학생        NO    YES    로맨틱\n",
       "28 20대  남     학생        NO    NO     코미디\n",
       "29 30대  여     IT          YES   NO     SF    \n",
       "30 10대  남     학생        NO    NO     액션  \n",
       "31 10대  남     무직        NO    NO     무협  \n",
       "32 30대  남     언론        YES   NO     스릴러\n",
       "33 30대  남     무직        NO    NO     무협  \n",
       "34 30대  여     IT          YES   NO     SF    \n",
       "35 20대  남     무직        NO    NO     무협  \n",
       "36 40대  남     홍보/마케팅 NO    NO     공포  \n",
       "37 40대  남     무직        NO    NO     무협  \n",
       "38 40대  남     무직        NO    NO     무협  "
      ]
     },
     "metadata": {},
     "output_type": "display_data"
    },
    {
     "data": {
      "text/html": [
       "<table>\n",
       "<thead><tr><th></th><th scope=col>age</th><th scope=col>gender</th><th scope=col>job</th><th scope=col>marry</th><th scope=col>friend</th><th scope=col>m_type</th></tr></thead>\n",
       "<tbody>\n",
       "\t<tr><th scope=row>39</th><td>20대       </td><td>여         </td><td>홍보/마케팅</td><td>YES        </td><td>NO         </td><td>로맨틱     </td></tr>\n",
       "</tbody>\n",
       "</table>\n"
      ],
      "text/latex": [
       "\\begin{tabular}{r|llllll}\n",
       "  & age & gender & job & marry & friend & m\\_type\\\\\n",
       "\\hline\n",
       "\t39 & 20대        & 여          & 홍보/마케팅 & YES         & NO          & 로맨틱     \\\\\n",
       "\\end{tabular}\n"
      ],
      "text/markdown": [
       "\n",
       "| <!--/--> | age | gender | job | marry | friend | m_type |\n",
       "|---|---|---|---|---|---|---|\n",
       "| 39 | 20대        | 여          | 홍보/마케팅 | YES         | NO          | 로맨틱      |\n",
       "\n"
      ],
      "text/plain": [
       "   age  gender job         marry friend m_type\n",
       "39 20대 여     홍보/마케팅 YES   NO     로맨틱"
      ]
     },
     "metadata": {},
     "output_type": "display_data"
    }
   ],
   "source": [
    "# 5. 38개의 행으로 훈련시키고 나머지 39번째 하나의 행으로 테스트 합니다. \n",
    "train <- movie[1:38,]\n",
    "test <- movie[39,]\n",
    "train\n",
    "test # 장르가 로맨틱이지만 ML 모델에게는 정답을 알려주지 않고 다른 데이터만 넣어서 장르를 맞추는지 확인"
   ]
  },
  {
   "cell_type": "code",
   "execution_count": 4,
   "metadata": {
    "ExecuteTime": {
     "end_time": "2020-06-25T01:03:03.828346Z",
     "start_time": "2020-06-25T01:03:03.795Z"
    }
   },
   "outputs": [
    {
     "data": {
      "text/html": [
       "6"
      ],
      "text/latex": [
       "6"
      ],
      "text/markdown": [
       "6"
      ],
      "text/plain": [
       "[1] 6"
      ]
     },
     "metadata": {},
     "output_type": "display_data"
    }
   ],
   "source": [
    "# 6. 훈련 데이터로 나이브 베이즈 모델을 생성합니다. \n",
    "ncol(train) # 6, 6번째 column이 정답 라벨"
   ]
  },
  {
   "cell_type": "code",
   "execution_count": 5,
   "metadata": {
    "ExecuteTime": {
     "end_time": "2020-06-25T01:03:37.071797Z",
     "start_time": "2020-06-25T01:03:37.023Z"
    }
   },
   "outputs": [
    {
     "data": {
      "text/plain": [
       "\n",
       "Naive Bayes Classifier for Discrete Predictors\n",
       "\n",
       "Call:\n",
       "naiveBayes.default(x = train[, 1:5], y = train$m_type, laplace = 1e-04)\n",
       "\n",
       "A-priori probabilities:\n",
       "train$m_type\n",
       "       SF      공포    로맨틱      무협    스릴러      액션    코미디 \n",
       "0.1315789 0.1315789 0.2105263 0.1315789 0.1315789 0.1315789 0.1315789 \n",
       "\n",
       "Conditional probabilities:\n",
       "            age\n",
       "train$m_type         10대        10대          20대         30대         40대\n",
       "      SF     1.999800e-05 1.999800e-05 1.999800e-05 9.999200e-01 1.999800e-05\n",
       "      공포   1.999800e-05 1.999800e-05 1.999800e-05 1.999800e-05 9.999200e-01\n",
       "      로맨틱 4.999813e-01 1.249922e-05 4.999813e-01 1.249922e-05 1.249922e-05\n",
       "      무협   2.000000e-01 1.999800e-05 2.000000e-01 2.000000e-01 3.999800e-01\n",
       "      스릴러 1.999800e-05 1.999800e-05 1.999800e-05 9.999200e-01 1.999800e-05\n",
       "      액션   2.000000e-01 7.999400e-01 1.999800e-05 1.999800e-05 1.999800e-05\n",
       "      코미디 1.999800e-05 1.999800e-05 3.999800e-01 3.999800e-01 2.000000e-01\n",
       "\n",
       "            gender\n",
       "train$m_type           남           여\n",
       "      SF     4.000040e-01 5.999960e-01\n",
       "      공포   9.999800e-01 1.999920e-05\n",
       "      로맨틱 1.249969e-05 9.999875e-01\n",
       "      무협   9.999800e-01 1.999920e-05\n",
       "      스릴러 9.999800e-01 1.999920e-05\n",
       "      액션   9.999800e-01 1.999920e-05\n",
       "      코미디 9.999800e-01 1.999920e-05\n",
       "\n",
       "            job\n",
       "train$m_type           IT     디자이너         무직         언론         영업\n",
       "      SF     9.998600e-01 1.999680e-05 1.999680e-05 1.999680e-05 1.999680e-05\n",
       "      공포   1.999680e-05 1.999680e-05 1.999680e-05 1.999680e-05 1.999880e-01\n",
       "      로맨틱 1.249875e-05 3.749750e-01 1.249875e-05 1.249875e-05 1.249875e-05\n",
       "      무협   1.999680e-05 1.999680e-05 9.998600e-01 1.999680e-05 1.999680e-05\n",
       "      스릴러 1.999680e-05 1.999680e-05 1.999680e-05 9.998600e-01 1.999680e-05\n",
       "      액션   1.999680e-05 1.999680e-05 1.999680e-05 1.999680e-05 1.999680e-05\n",
       "      코미디 1.999680e-05 1.999680e-05 1.999680e-05 1.999680e-05 3.999560e-01\n",
       "            job\n",
       "train$m_type       자영업         학생  홍보/마케팅\n",
       "      SF     1.999680e-05 1.999680e-05 1.999680e-05\n",
       "      공포   3.999560e-01 1.999680e-05 3.999560e-01\n",
       "      로맨틱 1.249875e-05 3.749750e-01 2.499875e-01\n",
       "      무협   1.999680e-05 1.999680e-05 1.999680e-05\n",
       "      스릴러 1.999680e-05 1.999680e-05 1.999680e-05\n",
       "      액션   1.999680e-05 9.998600e-01 1.999680e-05\n",
       "      코미디 1.999680e-05 3.999560e-01 1.999880e-01\n",
       "\n",
       "            marry\n",
       "train$m_type           NO          YES\n",
       "      SF     0.2000119995 0.7999880005\n",
       "      공포   0.9999800008 0.0000199992\n",
       "      로맨틱 0.6249968751 0.3750031249\n",
       "      무협   0.9999800008 0.0000199992\n",
       "      스릴러 0.4000039998 0.5999960002\n",
       "      액션   0.9999800008 0.0000199992\n",
       "      코미디 0.9999800008 0.0000199992\n",
       "\n",
       "            friend\n",
       "train$m_type           NO          YES\n",
       "      SF     0.7999880005 0.2000119995\n",
       "      공포   0.9999800008 0.0000199992\n",
       "      로맨틱 0.3750031249 0.6249968751\n",
       "      무협   0.9999800008 0.0000199992\n",
       "      스릴러 0.5999960002 0.4000039998\n",
       "      액션   0.9999800008 0.0000199992\n",
       "      코미디 0.9999800008 0.0000199992\n"
      ]
     },
     "metadata": {},
     "output_type": "display_data"
    }
   ],
   "source": [
    "model <- naiveBayes(train[ ,1:5], train$m_type , laplace=0.0001)\n",
    "model"
   ]
  },
  {
   "cell_type": "code",
   "execution_count": 6,
   "metadata": {
    "ExecuteTime": {
     "end_time": "2020-06-25T01:04:42.709668Z",
     "start_time": "2020-06-25T01:04:42.649Z"
    }
   },
   "outputs": [
    {
     "data": {
      "text/html": [
       "로맨틱\n",
       "<details>\n",
       "\t<summary style=display:list-item;cursor:pointer>\n",
       "\t\t<strong>Levels</strong>:\n",
       "\t</summary>\n",
       "\t<ol class=list-inline>\n",
       "\t\t<li>'SF'</li>\n",
       "\t\t<li>'공포'</li>\n",
       "\t\t<li>'로맨틱'</li>\n",
       "\t\t<li>'무협'</li>\n",
       "\t\t<li>'스릴러'</li>\n",
       "\t\t<li>'액션'</li>\n",
       "\t\t<li>'코미디'</li>\n",
       "\t</ol>\n",
       "</details>"
      ],
      "text/latex": [
       "로맨틱\n",
       "\\emph{Levels}: \\begin{enumerate*}\n",
       "\\item 'SF'\n",
       "\\item '공포'\n",
       "\\item '로맨틱'\n",
       "\\item '무협'\n",
       "\\item '스릴러'\n",
       "\\item '액션'\n",
       "\\item '코미디'\n",
       "\\end{enumerate*}\n"
      ],
      "text/markdown": [
       "로맨틱\n",
       "**Levels**: 1. 'SF'\n",
       "2. '공포'\n",
       "3. '로맨틱'\n",
       "4. '무협'\n",
       "5. '스릴러'\n",
       "6. '액션'\n",
       "7. '코미디'\n",
       "\n",
       "\n"
      ],
      "text/plain": [
       "[1] 로맨틱\n",
       "Levels: SF 공포 로맨틱 무협 스릴러 액션 코미디"
      ]
     },
     "metadata": {},
     "output_type": "display_data"
    }
   ],
   "source": [
    "#7. 테스트 데이터를 잘 예측하는지 확인합니다. \n",
    "result <- predict( model, test)\n",
    "result # 로맨틱"
   ]
  },
  {
   "cell_type": "code",
   "execution_count": null,
   "metadata": {},
   "outputs": [],
   "source": [
    "test2 <- data.frame(age='20대', gender='남', job='학생', marry='NO',friend='NO')\n",
    "result <- predict( model, test2)\n",
    "result "
   ]
  },
  {
   "cell_type": "code",
   "execution_count": null,
   "metadata": {},
   "outputs": [],
   "source": []
  },
  {
   "cell_type": "code",
   "execution_count": null,
   "metadata": {},
   "outputs": [],
   "source": []
  },
  {
   "cell_type": "code",
   "execution_count": null,
   "metadata": {},
   "outputs": [],
   "source": []
  },
  {
   "cell_type": "code",
   "execution_count": null,
   "metadata": {},
   "outputs": [],
   "source": []
  },
  {
   "cell_type": "code",
   "execution_count": null,
   "metadata": {},
   "outputs": [],
   "source": []
  }
 ],
 "metadata": {
  "kernelspec": {
   "display_name": "R",
   "language": "R",
   "name": "ir"
  },
  "language_info": {
   "codemirror_mode": "r",
   "file_extension": ".r",
   "mimetype": "text/x-r-source",
   "name": "R",
   "pygments_lexer": "r",
   "version": "3.6.1"
  },
  "toc": {
   "base_numbering": 1,
   "nav_menu": {},
   "number_sections": true,
   "sideBar": true,
   "skip_h1_title": false,
   "title_cell": "Table of Contents",
   "title_sidebar": "Contents",
   "toc_cell": false,
   "toc_position": {},
   "toc_section_display": true,
   "toc_window_display": false
  },
  "varInspector": {
   "cols": {
    "lenName": 16,
    "lenType": 16,
    "lenVar": 40
   },
   "kernels_config": {
    "python": {
     "delete_cmd_postfix": "",
     "delete_cmd_prefix": "del ",
     "library": "var_list.py",
     "varRefreshCmd": "print(var_dic_list())"
    },
    "r": {
     "delete_cmd_postfix": ") ",
     "delete_cmd_prefix": "rm(",
     "library": "var_list.r",
     "varRefreshCmd": "cat(var_dic_list()) "
    }
   },
   "types_to_exclude": [
    "module",
    "function",
    "builtin_function_or_method",
    "instance",
    "_Feature"
   ],
   "window_display": false
  }
 },
 "nbformat": 4,
 "nbformat_minor": 4
}
