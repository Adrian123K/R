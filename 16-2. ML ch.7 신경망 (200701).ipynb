{
 "cells": [
  {
   "cell_type": "markdown",
   "metadata": {},
   "source": [
    "## <b>■ 단층 신경망과 다층 신경망의 차이</b>\n",
    "    "
   ]
  },
  {
   "cell_type": "markdown",
   "metadata": {},
   "source": [
    "### <b>■ 활성화 함수</b>\n",
    "    활성화 함수 : 입력신호의 총 합이 활성화를 일으킬지 정하는 역할을 하는 함수\n",
    "    \n",
    "$$ k = x_{0}w_{0}+x_{1}w_{1}+x_{2}w_{2}$$\n",
    "$$ y = f(k) $$\n",
    "<center><b> 1 : 신호가 흐른다<br>0 : 신호가 안흐른다</b></center>\n",
    "\n",
    "#### ■ 활성화 함수의 종류\n",
    "    1. 계단함수 : 입력신호의 총 합이 임계치를 넘느냐 안넘느냐를 1, 0으로 리턴\n",
    "$$f(0.3)=1, f(-0.2)=-1$$\n",
    "    2. 시그모이드 함수 : 계단함수는 무조건 0 아니면 1을 리턴하지만 시그모이드 함수는 0~1사이의 연속적인 실수값을 리턴\n",
    "        단층 : 입력층 -> 출력층\n",
    "        다층 : 입력층 -> 은닉층 -> 출력층\n",
    "        신경망을 단층이 아닌 다층 신경망을 사용하려면 활성화함수를 시그모이드(sigmoid) 함수를 사용해야한다.\n",
    "$$f(x)={{1}\\over{1+e^{-x}}}$$\n",
    "\n",
    "    3. ReLU 함수 : Rectified Linear Unit\n",
    "        시그모이드 함수의 단점때문에 나온 함수\n",
    "            -> 전파가 역전파 될 때 기울기 소실로 인해 앞층까지 전파가 안된다는 단점\n",
    "            \n",
    "    프랭크 로젠블라트 (단층 퍼셉트론) ---> 룸멜하트와 맥클리랜드 (오차역전파법)\n",
    "![gv](https://smartstuartkim.files.wordpress.com/2019/02/vanishinggradient-1.png?w=1140&h=492)\n",
    "\n",
    "\n"
   ]
  },
  {
   "cell_type": "markdown",
   "metadata": {},
   "source": [
    "### ※ 문제269. R로 ReLU 함수를 만들고 ReLU함수 그래프를 그리시오"
   ]
  },
  {
   "cell_type": "code",
   "execution_count": 3,
   "metadata": {
    "ExecuteTime": {
     "end_time": "2020-07-01T05:27:16.090000Z",
     "start_time": "2020-07-01T05:27:16.052Z"
    }
   },
   "outputs": [],
   "source": [
    "relu <- function(x){ifelse(x>0,x,0)}\n",
    "x <- seq(-10,10,0.01)"
   ]
  },
  {
   "cell_type": "code",
   "execution_count": 5,
   "metadata": {
    "ExecuteTime": {
     "end_time": "2020-07-01T05:29:05.539422Z",
     "start_time": "2020-07-01T05:29:05.258Z"
    }
   },
   "outputs": [
    {
     "data": {
      "image/png": "[encoded data removed]",
      "text/plain": [
       "plot without title"
      ]
     },
     "metadata": {},
     "output_type": "display_data"
    }
   ],
   "source": [
    "plot(x,relu(x),col='red')"
   ]
  },
  {
   "cell_type": "markdown",
   "metadata": {},
   "source": [
    "### ※ 문제270. 활성화함수인 계단함수를 R로 생성하고 계단 그래프를 그리시오"
   ]
  },
  {
   "cell_type": "code",
   "execution_count": 7,
   "metadata": {
    "ExecuteTime": {
     "end_time": "2020-07-01T05:37:40.914235Z",
     "start_time": "2020-07-01T05:37:40.712Z"
    }
   },
   "outputs": [
    {
     "data": {
      "image/png": "[encoded data removed]",
      "text/plain": [
       "plot without title"
      ]
     },
     "metadata": {},
     "output_type": "display_data"
    }
   ],
   "source": [
    "step <- function(x){ifelse(x>0,1,0)}\n",
    "plot(x,step(x),col='blue',type='o')"
   ]
  },
  {
   "cell_type": "markdown",
   "metadata": {},
   "source": [
    "### ※ 문제271. R로 시그모이드 함수를 생성하시오"
   ]
  },
  {
   "cell_type": "code",
   "execution_count": 10,
   "metadata": {
    "ExecuteTime": {
     "end_time": "2020-07-01T05:54:26.249553Z",
     "start_time": "2020-07-01T05:54:26.198Z"
    }
   },
   "outputs": [
    {
     "data": {
      "text/html": [
       "0.5"
      ],
      "text/latex": [
       "0.5"
      ],
      "text/markdown": [
       "0.5"
      ],
      "text/plain": [
       "[1] 0.5"
      ]
     },
     "metadata": {},
     "output_type": "display_data"
    }
   ],
   "source": [
    "sigmoid <- function(x){\n",
    "    return (1/(1+exp(-x)))\n",
    "}\n",
    "sigmoid(0)"
   ]
  },
  {
   "cell_type": "markdown",
   "metadata": {},
   "source": [
    "### ※ 문제272. 시그모이드 함수를 그래프로 그리시오"
   ]
  },
  {
   "cell_type": "code",
   "execution_count": 12,
   "metadata": {
    "ExecuteTime": {
     "end_time": "2020-07-01T05:56:02.086385Z",
     "start_time": "2020-07-01T05:56:01.902Z"
    }
   },
   "outputs": [
    {
     "data": {
      "image/png": "[encoded data removed]",
      "text/plain": [
       "plot without title"
      ]
     },
     "metadata": {},
     "output_type": "display_data"
    }
   ],
   "source": [
    "plot(x,sigmoid(x),col='red')"
   ]
  },
  {
   "cell_type": "code",
   "execution_count": null,
   "metadata": {},
   "outputs": [],
   "source": []
  },
  {
   "cell_type": "code",
   "execution_count": null,
   "metadata": {},
   "outputs": [],
   "source": []
  },
  {
   "cell_type": "code",
   "execution_count": null,
   "metadata": {},
   "outputs": [],
   "source": []
  },
  {
   "cell_type": "code",
   "execution_count": null,
   "metadata": {},
   "outputs": [],
   "source": []
  },
  {
   "cell_type": "code",
   "execution_count": null,
   "metadata": {},
   "outputs": [],
   "source": []
  },
  {
   "cell_type": "code",
   "execution_count": null,
   "metadata": {},
   "outputs": [],
   "source": []
  },
  {
   "cell_type": "code",
   "execution_count": null,
   "metadata": {},
   "outputs": [],
   "source": []
  }
 ],
 "metadata": {
  "kernelspec": {
   "display_name": "R",
   "language": "R",
   "name": "ir"
  },
  "language_info": {
   "codemirror_mode": "r",
   "file_extension": ".r",
   "mimetype": "text/x-r-source",
   "name": "R",
   "pygments_lexer": "r",
   "version": "3.6.1"
  },
  "toc": {
   "base_numbering": 1,
   "nav_menu": {},
   "number_sections": true,
   "sideBar": true,
   "skip_h1_title": false,
   "title_cell": "Table of Contents",
   "title_sidebar": "Contents",
   "toc_cell": false,
   "toc_position": {},
   "toc_section_display": true,
   "toc_window_display": false
  },
  "varInspector": {
   "cols": {
    "lenName": 16,
    "lenType": 16,
    "lenVar": 40
   },
   "kernels_config": {
    "python": {
     "delete_cmd_postfix": "",
     "delete_cmd_prefix": "del ",
     "library": "var_list.py",
     "varRefreshCmd": "print(var_dic_list())"
    },
    "r": {
     "delete_cmd_postfix": ") ",
     "delete_cmd_prefix": "rm(",
     "library": "var_list.r",
     "varRefreshCmd": "cat(var_dic_list()) "
    }
   },
   "types_to_exclude": [
    "module",
    "function",
    "builtin_function_or_method",
    "instance",
    "_Feature"
   ],
   "window_display": false
  }
 },
 "nbformat": 4,
 "nbformat_minor": 4
}
