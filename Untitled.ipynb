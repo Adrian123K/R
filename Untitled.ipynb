{
 "cells": [
  {
   "cell_type": "markdown",
   "metadata": {},
   "source": [
    "# ■ KNN 알고리즘"
   ]
  },
  {
   "cell_type": "markdown",
   "metadata": {},
   "source": [
    "## □ kNN 알고리즘이란 무엇인가?\n",
    "```\n",
    "    k Nearest Neighbor 의 약자로 k개의 최근접 이웃이라는 뜻\n",
    "    ML 지도학습에서 분류에 해당하는 알고리즘\n",
    "```\n",
    "```\n",
    "    새로 들어온 데이터가 기존 데이터의 그룹에 어느 그룹에 속하는지 찾을 때 거리가 가까운 데이터의 그룹을 자기 그룹으로 선택하는 아주 간단한 알고리즘\n",
    "```"
   ]
  },
  {
   "cell_type": "markdown",
   "metadata": {},
   "source": [
    "## □ kNN 알고리즘의 장단점\n",
    "```\n",
    "    장점\n",
    "        단순하고 효율적\n",
    "        모델을 훈련시키지 않음\n",
    "```\n",
    "```\n",
    "    단점\n",
    "        모델을 생성하지 않아서 특징과 클래스간의 관계를 이해하는 능력이 제약된다\n",
    "        적절한 k값을 모델 개발자가 직접 알아내야한다.\n",
    "```"
   ]
  },
  {
   "cell_type": "markdown",
   "metadata": {},
   "source": [
    "## □ kNN의 원리\n",
    "    새로 들어온 데이터가 기존 데이터 중에서 어느 데이터에 더 인접해 있는지 거리를 계산해서 가장 가까운 거리에 있는 데이터를 자기의 이웃으로 선택하는 것\n",
    "    거리를 계산할 때 사용하는 수학식 -> 유클리드 거리 계산식\n",
    "    \n",
    "    p.121"
   ]
  },
  {
   "cell_type": "markdown",
   "metadata": {},
   "source": [
    "### ◆ 유클리드 거리 공식을 R로 구현하기\n",
    "    1. 두 점의 좌표를 지정한다\n",
    "```R\n",
    "        a=c(2,4)\n",
    "        b=c(5,6)\n",
    "```\n",
    "    2. 두 점 사이의 거리를 구한다"
   ]
  },
  {
   "cell_type": "code",
   "execution_count": 2,
   "metadata": {
    "ExecuteTime": {
     "end_time": "2020-06-23T03:10:59.499078Z",
     "start_time": "2020-06-23T03:10:59.460Z"
    }
   },
   "outputs": [
    {
     "name": "stdout",
     "output_type": "stream",
     "text": [
      "[1] 3.605551\n"
     ]
    }
   ],
   "source": [
    "a=c(2,4)\n",
    "b=c(5,6)\n",
    "d=sqrt((b[1]-a[1])^2+(b[2]-a[2])^2)\n",
    "print(d)"
   ]
  },
  {
   "cell_type": "code",
   "execution_count": null,
   "metadata": {},
   "outputs": [],
   "source": []
  }
 ],
 "metadata": {
  "kernelspec": {
   "display_name": "R",
   "language": "R",
   "name": "ir"
  },
  "language_info": {
   "codemirror_mode": "r",
   "file_extension": ".r",
   "mimetype": "text/x-r-source",
   "name": "R",
   "pygments_lexer": "r",
   "version": "3.6.1"
  },
  "toc": {
   "base_numbering": 1,
   "nav_menu": {},
   "number_sections": true,
   "sideBar": true,
   "skip_h1_title": false,
   "title_cell": "Table of Contents",
   "title_sidebar": "Contents",
   "toc_cell": false,
   "toc_position": {},
   "toc_section_display": true,
   "toc_window_display": false
  },
  "varInspector": {
   "cols": {
    "lenName": 16,
    "lenType": 16,
    "lenVar": 40
   },
   "kernels_config": {
    "python": {
     "delete_cmd_postfix": "",
     "delete_cmd_prefix": "del ",
     "library": "var_list.py",
     "varRefreshCmd": "print(var_dic_list())"
    },
    "r": {
     "delete_cmd_postfix": ") ",
     "delete_cmd_prefix": "rm(",
     "library": "var_list.r",
     "varRefreshCmd": "cat(var_dic_list()) "
    }
   },
   "types_to_exclude": [
    "module",
    "function",
    "builtin_function_or_method",
    "instance",
    "_Feature"
   ],
   "window_display": false
  }
 },
 "nbformat": 4,
 "nbformat_minor": 4
}
