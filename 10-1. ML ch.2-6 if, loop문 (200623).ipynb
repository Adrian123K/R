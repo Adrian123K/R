{
 "cells": [
  {
   "cell_type": "markdown",
   "metadata": {},
   "source": [
    "### ※ 문제206. 아래의 파이썬 코드를 R 코드로 변환 하시오 !\n",
    "```python\n",
    "import  csv\n",
    "file = open(\"d:\\\\emp2.csv\",\"r\")\n",
    "emp_csv = csv.reader(file)\n",
    "\n",
    "sal = []  \n",
    "for  emp_list  in  emp_csv:\n",
    "    sal.append(emp_ist[5])\n",
    "print (sal) \n",
    "[5000, 2850, 2450, 2975, 1250, 1600, 1500,....]\n",
    "    ```"
   ]
  },
  {
   "cell_type": "code",
   "execution_count": 3,
   "metadata": {
    "ExecuteTime": {
     "end_time": "2020-06-23T01:08:23.452453Z",
     "start_time": "2020-06-23T01:08:23.411Z"
    }
   },
   "outputs": [
    {
     "data": {
      "text/html": [
       "<ol class=list-inline>\n",
       "\t<li>5000</li>\n",
       "\t<li>2850</li>\n",
       "\t<li>2450</li>\n",
       "\t<li>2975</li>\n",
       "\t<li>1250</li>\n",
       "\t<li>1600</li>\n",
       "\t<li>1500</li>\n",
       "\t<li>950</li>\n",
       "\t<li>1250</li>\n",
       "\t<li>3000</li>\n",
       "\t<li>800</li>\n",
       "\t<li>3000</li>\n",
       "\t<li>1100</li>\n",
       "\t<li>1300</li>\n",
       "</ol>\n"
      ],
      "text/latex": [
       "\\begin{enumerate*}\n",
       "\\item 5000\n",
       "\\item 2850\n",
       "\\item 2450\n",
       "\\item 2975\n",
       "\\item 1250\n",
       "\\item 1600\n",
       "\\item 1500\n",
       "\\item 950\n",
       "\\item 1250\n",
       "\\item 3000\n",
       "\\item 800\n",
       "\\item 3000\n",
       "\\item 1100\n",
       "\\item 1300\n",
       "\\end{enumerate*}\n"
      ],
      "text/markdown": [
       "1. 5000\n",
       "2. 2850\n",
       "3. 2450\n",
       "4. 2975\n",
       "5. 1250\n",
       "6. 1600\n",
       "7. 1500\n",
       "8. 950\n",
       "9. 1250\n",
       "10. 3000\n",
       "11. 800\n",
       "12. 3000\n",
       "13. 1100\n",
       "14. 1300\n",
       "\n",
       "\n"
      ],
      "text/plain": [
       " [1] 5000 2850 2450 2975 1250 1600 1500  950 1250 3000  800 3000 1100 1300"
      ]
     },
     "metadata": {},
     "output_type": "display_data"
    }
   ],
   "source": [
    "emp<-read.csv('emp3.csv',head=T)\n",
    "sal<-c()\n",
    "for (i in 1:length(emp$sal)){\n",
    "  sal[i]<-emp$sal[i]\n",
    "}\n",
    "sal"
   ]
  },
  {
   "cell_type": "markdown",
   "metadata": {},
   "source": [
    "### ※ 문제207. 위의 코드를 수정해서 직업이 SALESMAN인 사원들의 월급만 a리스트에 담기게 하시오"
   ]
  },
  {
   "cell_type": "code",
   "execution_count": 4,
   "metadata": {
    "ExecuteTime": {
     "end_time": "2020-06-23T01:17:17.895454Z",
     "start_time": "2020-06-23T01:17:17.845Z"
    }
   },
   "outputs": [
    {
     "data": {
      "text/html": [
       "<ol class=list-inline>\n",
       "\t<li>1250</li>\n",
       "\t<li>1600</li>\n",
       "\t<li>1500</li>\n",
       "\t<li>1250</li>\n",
       "</ol>\n"
      ],
      "text/latex": [
       "\\begin{enumerate*}\n",
       "\\item 1250\n",
       "\\item 1600\n",
       "\\item 1500\n",
       "\\item 1250\n",
       "\\end{enumerate*}\n"
      ],
      "text/markdown": [
       "1. 1250\n",
       "2. 1600\n",
       "3. 1500\n",
       "4. 1250\n",
       "\n",
       "\n"
      ],
      "text/plain": [
       "[1] 1250 1600 1500 1250"
      ]
     },
     "metadata": {},
     "output_type": "display_data"
    }
   ],
   "source": [
    "emp<-read.csv('emp3.csv',head=T)\n",
    "sal_sale<-c()\n",
    "cnt<-1\n",
    "for (i in 1:length(emp$sal)){\n",
    "  if (emp$job[i]=='SALESMAN'){\n",
    "    sal_sale[cnt]<-emp$sal[i]\n",
    "    cnt<-cnt+1\n",
    "  }\n",
    "}\n",
    "sal_sale"
   ]
  },
  {
   "cell_type": "markdown",
   "metadata": {},
   "source": [
    "### ※ 문제208. 위의 코드를 수정해서 부서번호가 20번인 사원들의 토탈월급을 출력하시오"
   ]
  },
  {
   "cell_type": "code",
   "execution_count": 5,
   "metadata": {
    "ExecuteTime": {
     "end_time": "2020-06-23T01:20:28.060513Z",
     "start_time": "2020-06-23T01:20:28.002Z"
    }
   },
   "outputs": [
    {
     "data": {
      "text/html": [
       "10875"
      ],
      "text/latex": [
       "10875"
      ],
      "text/markdown": [
       "10875"
      ],
      "text/plain": [
       "[1] 10875"
      ]
     },
     "metadata": {},
     "output_type": "display_data"
    }
   ],
   "source": [
    "dept_sal<-0\n",
    "cnt<-1\n",
    "for (i in 1:length(emp$sal)){\n",
    "  if (emp$deptno[i]==20){\n",
    "    dept_sal[cnt]<-emp$sal[i]\n",
    "    cnt<-cnt+1\n",
    "  }\n",
    "}\n",
    "sum(dept_sal)"
   ]
  },
  {
   "cell_type": "markdown",
   "metadata": {},
   "source": [
    "### ※ 문제209. 위의 코드를 이용해서 부서번호를 넣고 실행하면 해당 부서번호의 토탈월급이 출력되는 함수를 생성하시오"
   ]
  },
  {
   "cell_type": "code",
   "execution_count": 6,
   "metadata": {
    "ExecuteTime": {
     "end_time": "2020-06-23T01:46:59.672741Z",
     "start_time": "2020-06-23T01:46:57.895Z"
    }
   },
   "outputs": [
    {
     "name": "stdout",
     "output_type": "stream",
     "text": [
      "10\n",
      "[1] 8750\n"
     ]
    }
   ],
   "source": [
    "income_deptno<-function(){\n",
    "  dept<-readline()\n",
    "  rs<-c()\n",
    "  cnt<-1\n",
    "  for (i in 1:length(emp$sal)){\n",
    "    if (emp$deptno[i]==dept){\n",
    "      rs[cnt]<-emp$sal[i]\n",
    "      cnt<-cnt+1\n",
    "    }\n",
    "  }\n",
    "  print(sum(rs))\n",
    "}\n",
    "income_deptno()"
   ]
  },
  {
   "cell_type": "markdown",
   "metadata": {},
   "source": [
    "### ※ 문제210. 사원 테이블의 월급의 최대값, 최소값, 평균값, 중앙값, 분산, 표준편차가 출력되게 하시오! (mean ,median, var,  sd를 사용)"
   ]
  },
  {
   "cell_type": "code",
   "execution_count": 7,
   "metadata": {
    "ExecuteTime": {
     "end_time": "2020-06-23T01:48:10.978006Z",
     "start_time": "2020-06-23T01:48:10.934Z"
    }
   },
   "outputs": [
    {
     "name": "stdout",
     "output_type": "stream",
     "text": [
      "최대값 5000 \n",
      " 최소값 800 \n",
      " 평균값 2073.214 \n",
      " 중앙값 1550 \n",
      " 분산값 1398314 \n",
      " 표준편차 1182.503"
     ]
    }
   ],
   "source": [
    "x <- c()\n",
    "for  ( i in 1:length(emp$sal)){\n",
    "    x[i] <-  emp$sal[i]\n",
    "}\n",
    "cat('최대값', max(x), '\\n', \n",
    "    '최소값', min(x), '\\n',\n",
    "    '평균값', mean(x),'\\n',\n",
    "    '중앙값', median(x),'\\n',\n",
    "    '분산값', var(x) , '\\n',\n",
    "    '표준편차',sd(x) )"
   ]
  },
  {
   "cell_type": "markdown",
   "metadata": {},
   "source": [
    "### ※ 문제211. 위의 코드를 이용해서 아래와 같이 함수로 만들어서 위의 결과가 실행되게 하시오\n",
    "```R\n",
    "stats('emp')\n",
    "```"
   ]
  },
  {
   "cell_type": "code",
   "execution_count": 8,
   "metadata": {
    "ExecuteTime": {
     "end_time": "2020-06-23T02:00:14.498377Z",
     "start_time": "2020-06-23T02:00:11.914Z"
    }
   },
   "outputs": [
    {
     "name": "stdout",
     "output_type": "stream",
     "text": [
      "which table?emp\n",
      "which column?sal\n",
      "max 5000 \n",
      " min 800 \n",
      " mean 2073.214 \n",
      " median 1550 \n",
      " var 1398314 \n",
      " std 1182.503"
     ]
    }
   ],
   "source": [
    "stats<-function(){\n",
    "  tb <- readline(prompt = 'which table?')\n",
    "  col <- readline(prompt = 'which column?')\n",
    "  table_name <- get(tb)\n",
    "  data <- table_name[,col]\n",
    "  rs <- c()\n",
    "  for (i in 1:length(data)){\n",
    "    rs[i]<-data[i]\n",
    "  }\n",
    "  cat('max', max(rs), '\\n', \n",
    "      'min', min(rs), '\\n',\n",
    "      'mean', mean(rs),'\\n',\n",
    "      'median', median(rs),'\\n',\n",
    "      'var', var(rs) , '\\n',\n",
    "      'std',sd(rs) )\n",
    "}\n",
    "stats()"
   ]
  },
  {
   "cell_type": "markdown",
   "metadata": {},
   "source": [
    "## ■ R에서 탐색기 활성화"
   ]
  },
  {
   "cell_type": "code",
   "execution_count": 9,
   "metadata": {
    "ExecuteTime": {
     "end_time": "2020-06-23T02:02:19.155369Z",
     "start_time": "2020-06-23T02:02:14.708Z"
    }
   },
   "outputs": [
    {
     "ename": "ERROR",
     "evalue": "Error in file.choose(): 파일선택이 취소되었습니다\n",
     "output_type": "error",
     "traceback": [
      "Error in file.choose(): 파일선택이 취소되었습니다\nTraceback:\n",
      "1. file.choose()"
     ]
    }
   ],
   "source": [
    "fname<-file.choose()\n",
    "fname\n",
    "table<-read.csv(fname,head=T)\n",
    "head(table)"
   ]
  },
  {
   "cell_type": "markdown",
   "metadata": {},
   "source": [
    "### ※ 문제212. 문제211번의 stats() 함수를 실행하면 윈도우 탐색기가 열리면서 csv파일을 선택할 수 있게 하시오"
   ]
  },
  {
   "cell_type": "code",
   "execution_count": 10,
   "metadata": {
    "ExecuteTime": {
     "end_time": "2020-06-23T02:07:43.549985Z",
     "start_time": "2020-06-23T02:07:18.062Z"
    }
   },
   "outputs": [
    {
     "name": "stdout",
     "output_type": "stream",
     "text": [
      "which column?chicken\n",
      "[1] \"year\"        \"hairshop\"    \"restaurant\"  \"sushi\"       \"chicken\"    \n",
      "[6] \"cafe\"        \"korean_food\" \"beer\"       \n",
      "max 1193 \n",
      " min 507 \n",
      " mean 765.1 \n",
      " median 774 \n",
      " var 57168.77 \n",
      " std 239.0999"
     ]
    }
   ],
   "source": [
    "stats<-function(){\n",
    "  tb <- file.choose()\n",
    "  table <- read.csv(tb, head=T)\n",
    "  print(colnames(table))\n",
    "  col <- readline(prompt = 'which column?')\n",
    "  data <- table[,col]\n",
    "  rs <- c()\n",
    "  for (i in 1:length(data)){\n",
    "    rs[i]<-data[i]\n",
    "  }\n",
    "  cat('max', max(rs), '\\n', \n",
    "      'min', min(rs), '\\n',\n",
    "      'mean', mean(rs),'\\n',\n",
    "      'median', median(rs),'\\n',\n",
    "      'var', var(rs) , '\\n',\n",
    "      'std',sd(rs) )\n",
    "}\n",
    "stats()"
   ]
  },
  {
   "cell_type": "markdown",
   "metadata": {},
   "source": [
    "### ※ 문제213. 위의 코드를 수정해서 사분위수 그래프가 같이 출력되게 하시오"
   ]
  },
  {
   "cell_type": "code",
   "execution_count": 12,
   "metadata": {
    "ExecuteTime": {
     "end_time": "2020-06-23T02:19:00.996493Z",
     "start_time": "2020-06-23T02:18:54.478Z"
    }
   },
   "outputs": [
    {
     "name": "stdout",
     "output_type": "stream",
     "text": [
      "which column?sal\n",
      "[1] \"index\"    \"empno\"    \"ename\"    \"job\"      \"mgr\"      \"hiredate\" \"sal\"     \n",
      "[8] \"comm\"     \"deptno\"  \n",
      "max 5000 \n",
      " min 800 \n",
      " mean 2073.214 \n",
      " median 1550 \n",
      " var 1398314 \n",
      " std 1182.503"
     ]
    },
    {
     "data": {
      "image/png": "[encoded data removed]",
      "text/plain": [
       "Plot with title \"sal Summary\""
      ]
     },
     "metadata": {},
     "output_type": "display_data"
    }
   ],
   "source": [
    "stats<-function(){\n",
    "  tb <- file.choose()\n",
    "  table <- read.csv(tb, head=T)\n",
    "  print(colnames(table))\n",
    "  col <- readline(prompt = 'which column?')\n",
    "  data <- table[,col]\n",
    "  rs <- c()\n",
    "  for (i in 1:length(data)){\n",
    "    rs[i]<-data[i]\n",
    "  }\n",
    "  cat('max', max(rs), '\\n', \n",
    "      'min', min(rs), '\\n',\n",
    "      'mean', mean(rs),'\\n',\n",
    "      'median', median(rs),'\\n',\n",
    "      'var', var(rs) , '\\n',\n",
    "      'std',sd(rs) )\n",
    "  \n",
    "  boxplot(rs,main=list(paste(col,'Summary')))\n",
    "}\n",
    "stats()"
   ]
  },
  {
   "cell_type": "markdown",
   "metadata": {},
   "source": [
    "### ※ 문제214. R을 실행하자마자 위의 스크립트를 수행할 수 있도록 하시오\n",
    "```\n",
    "    ※ 순서\n",
    "        1. 위의 스크립트를 myfunc.R 이라는 이름으로 저장\n",
    "        2. source('myfunc.R')\n",
    "```"
   ]
  },
  {
   "cell_type": "code",
   "execution_count": null,
   "metadata": {},
   "outputs": [],
   "source": [
    "stats<-function(){\n",
    "  tb <- file.choose()\n",
    "  table <- read.csv(tb, head=T)\n",
    "  print(colnames(table))\n",
    "  col <- readline(prompt = 'which column?')\n",
    "  data <- table[,col]\n",
    "  rs <- c()\n",
    "  for (i in 1:length(data)){\n",
    "    rs[i]<-data[i]\n",
    "  }\n",
    "  cat('max', max(rs), '\\n', \n",
    "      'min', min(rs), '\\n',\n",
    "      'mean', mean(rs),'\\n',\n",
    "      'median', median(rs),'\\n',\n",
    "      'var', var(rs) , '\\n',\n",
    "      'std',sd(rs) )\n",
    "  \n",
    "  boxplot(rs,main=list(paste(col,'Summary')))\n",
    "}\n",
    "stats()"
   ]
  },
  {
   "cell_type": "code",
   "execution_count": 13,
   "metadata": {
    "ExecuteTime": {
     "end_time": "2020-06-23T02:21:11.367106Z",
     "start_time": "2020-06-23T02:21:01.465Z"
    }
   },
   "outputs": [
    {
     "name": "stdout",
     "output_type": "stream",
     "text": [
      "which column?sal\n",
      "[1] \"index\"    \"empno\"    \"ename\"    \"job\"      \"mgr\"      \"hiredate\" \"sal\"     \n",
      "[8] \"comm\"     \"deptno\"  \n",
      "max 5000 \n",
      " min 800 \n",
      " mean 2073.214 \n",
      " median 1550 \n",
      " var 1398314 \n",
      " std 1182.503"
     ]
    },
    {
     "data": {
      "image/png": "[encoded data removed]",
      "text/plain": [
       "Plot with title \"sal Summary\""
      ]
     },
     "metadata": {},
     "output_type": "display_data"
    }
   ],
   "source": [
    "source('myfunc.R')"
   ]
  },
  {
   "cell_type": "code",
   "execution_count": null,
   "metadata": {},
   "outputs": [],
   "source": []
  },
  {
   "cell_type": "code",
   "execution_count": null,
   "metadata": {},
   "outputs": [],
   "source": []
  },
  {
   "cell_type": "code",
   "execution_count": null,
   "metadata": {},
   "outputs": [],
   "source": []
  },
  {
   "cell_type": "code",
   "execution_count": null,
   "metadata": {},
   "outputs": [],
   "source": []
  },
  {
   "cell_type": "code",
   "execution_count": null,
   "metadata": {},
   "outputs": [],
   "source": []
  },
  {
   "cell_type": "code",
   "execution_count": null,
   "metadata": {},
   "outputs": [],
   "source": []
  }
 ],
 "metadata": {
  "kernelspec": {
   "display_name": "R",
   "language": "R",
   "name": "ir"
  },
  "language_info": {
   "codemirror_mode": "r",
   "file_extension": ".r",
   "mimetype": "text/x-r-source",
   "name": "R",
   "pygments_lexer": "r",
   "version": "3.6.1"
  },
  "toc": {
   "base_numbering": 1,
   "nav_menu": {},
   "number_sections": true,
   "sideBar": true,
   "skip_h1_title": false,
   "title_cell": "Table of Contents",
   "title_sidebar": "Contents",
   "toc_cell": false,
   "toc_position": {},
   "toc_section_display": true,
   "toc_window_display": false
  },
  "varInspector": {
   "cols": {
    "lenName": 16,
    "lenType": 16,
    "lenVar": 40
   },
   "kernels_config": {
    "python": {
     "delete_cmd_postfix": "",
     "delete_cmd_prefix": "del ",
     "library": "var_list.py",
     "varRefreshCmd": "print(var_dic_list())"
    },
    "r": {
     "delete_cmd_postfix": ") ",
     "delete_cmd_prefix": "rm(",
     "library": "var_list.r",
     "varRefreshCmd": "cat(var_dic_list()) "
    }
   },
   "types_to_exclude": [
    "module",
    "function",
    "builtin_function_or_method",
    "instance",
    "_Feature"
   ],
   "window_display": false
  }
 },
 "nbformat": 4,
 "nbformat_minor": 4
}
