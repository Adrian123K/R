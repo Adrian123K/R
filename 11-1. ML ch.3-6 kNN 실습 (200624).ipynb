{
 "cells": [
  {
   "cell_type": "markdown",
   "metadata": {},
   "source": [
    "## ■ 데이터 분석 진행단계\n",
    "```\n",
    "    1단계 : 데이터 수집 -> 데이터 출처, 설명\n",
    "    2단계 : 데이터 탐색과 준비 -> 결측, 이상치, 정규분포(히스토그램) 머신러닝 모델이 학습하기 적합한 데이터인지 설명 필요\n",
    "    3단계 : 데이터 모델로 훈련 -> kNN(유클리드 거리) : 따로 학습하는 것이 아니라 적절한 k값 선정\n",
    "    4단계 : 모델 성능평가 -> 이원교차표를 통해 정확도 확인. \n",
    "                ex) 병원모델예측 -> 양성/ 실제 -> 악성 ≫ 이런 모델 사용 불가\n",
    "    5단계 : 모델 성능개선 -> 시각화를 통해 적절한 k값 선정 후 사용\n",
    "```\n",
    "```\n",
    "    <산출물>\n",
    "        - 머신러닝 모델을 활용할 수 있는 자동화 스크립트 또는 홈페이지\n",
    "        - 분석결과 ppt\n",
    "```"
   ]
  },
  {
   "cell_type": "markdown",
   "metadata": {},
   "source": [
    "### □ 머신러닝 활용 산출물 만들기"
   ]
  },
  {
   "cell_type": "markdown",
   "metadata": {},
   "source": [
    "### ※ 문제"
   ]
  },
  {
   "cell_type": "code",
   "execution_count": null,
   "metadata": {},
   "outputs": [],
   "source": []
  },
  {
   "cell_type": "code",
   "execution_count": null,
   "metadata": {},
   "outputs": [],
   "source": []
  },
  {
   "cell_type": "code",
   "execution_count": null,
   "metadata": {},
   "outputs": [],
   "source": []
  }
 ],
 "metadata": {
  "kernelspec": {
   "display_name": "R",
   "language": "R",
   "name": "ir"
  },
  "language_info": {
   "codemirror_mode": "r",
   "file_extension": ".r",
   "mimetype": "text/x-r-source",
   "name": "R",
   "pygments_lexer": "r",
   "version": "3.6.1"
  },
  "toc": {
   "base_numbering": 1,
   "nav_menu": {},
   "number_sections": true,
   "sideBar": true,
   "skip_h1_title": false,
   "title_cell": "Table of Contents",
   "title_sidebar": "Contents",
   "toc_cell": false,
   "toc_position": {},
   "toc_section_display": true,
   "toc_window_display": false
  },
  "varInspector": {
   "cols": {
    "lenName": 16,
    "lenType": 16,
    "lenVar": 40
   },
   "kernels_config": {
    "python": {
     "delete_cmd_postfix": "",
     "delete_cmd_prefix": "del ",
     "library": "var_list.py",
     "varRefreshCmd": "print(var_dic_list())"
    },
    "r": {
     "delete_cmd_postfix": ") ",
     "delete_cmd_prefix": "rm(",
     "library": "var_list.r",
     "varRefreshCmd": "cat(var_dic_list()) "
    }
   },
   "types_to_exclude": [
    "module",
    "function",
    "builtin_function_or_method",
    "instance",
    "_Feature"
   ],
   "window_display": false
  }
 },
 "nbformat": 4,
 "nbformat_minor": 4
}
