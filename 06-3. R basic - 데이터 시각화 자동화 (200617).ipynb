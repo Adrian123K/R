{
 "cells": [
  {
   "cell_type": "markdown",
   "metadata": {},
   "source": [
    "## ■ R shiny를 이용해서 데이터 시각화 자동화 하기"
   ]
  },
  {
   "cell_type": "markdown",
   "metadata": {},
   "source": [
    "### 그래프 4개(막대그래프, 원형그래프, 라인 그래프, 산포도 그래프) 를 통합한 코드를 구현하시오"
   ]
  },
  {
   "cell_type": "code",
   "execution_count": null,
   "metadata": {},
   "outputs": [],
   "source": [
    "############## set this file location to working directory ##########################\n",
    "packages <- 'rstudioapi'\n",
    "if (length(setdiff(packages, rownames(installed.packages()))) > 0) {\n",
    "  install.packages(setdiff(packages, rownames(installed.packages())))\n",
    "}\n",
    "library('rstudioapi')\n",
    "current_dir<-dirname(rstudioapi::getSourceEditorContext()$path)\n",
    "setwd(current_dir)\n",
    "\n",
    "package_in<-function(p_name,option=1){\n",
    "  packages <- p_name\n",
    "  if (length(setdiff(packages, rownames(installed.packages()))) > 0) {\n",
    "    install.packages(setdiff(packages, rownames(installed.packages())))\n",
    "  }\n",
    "  if (option==1){\n",
    "    library(p_name,character.only = TRUE)\n",
    "  }\n",
    "}"
   ]
  },
  {
   "cell_type": "code",
   "execution_count": null,
   "metadata": {},
   "outputs": [],
   "source": [
    "###########################1. 패키지 설치##########################################\n",
    "\n",
    "package_in('shinydashboard')\n",
    "package_in('shiny')\n",
    "package_in('ggplot2')\n",
    "package_in('plotly')\n",
    "package_in('lattice')"
   ]
  },
  {
   "cell_type": "markdown",
   "metadata": {},
   "source": [
    "### ※package_in() : 매개변수로 준 패키지가 R 환경에 설치되어있는지 확인하고 없으면 설치, 있으면 library(패키지)"
   ]
  },
  {
   "cell_type": "code",
   "execution_count": null,
   "metadata": {},
   "outputs": [],
   "source": [
    "######################### 2. 화면 개발 ###########################################\n",
    "\n",
    "sidebar <- dashboardSidebar(\n",
    "  sidebarMenu(\n",
    "    fileInput(\"file1\", \"Choose CSV File\", ### csv 파일 불러오는 화면 구현, 'file1' -> parameter로 사용\n",
    "              multiple = FALSE,\n",
    "              accept = c(\"text/csv\",\".xlsx\",\".txt\",\n",
    "                         \"text/comma-separated-values,text/plain\",\n",
    "                         \".csv\")),\n",
    "    \n",
    "    menuItem(\"Plot\",\n",
    "             menuSubItem('Barplot',tabName='barplot'),\n",
    "             menuSubItem('Piechart',tabName='piechart'),\n",
    "             menuSubItem('Lineplot',tabName='lineplot'),\n",
    "             menuSubItem('Scatterplot',tabName='scatterplot')\n",
    "    )\n",
    "  )\n",
    ")\n",
    "\n",
    "body <- dashboardBody(\n",
    "  tabItems(\n",
    "    ##### bar plot\n",
    "    tabItem(tabName = \"barplot\",\n",
    "            sidebarPanel(\n",
    "              selectInput(\"in_sel_bar_yVar\",\"y Variable:\", choices = NULL),\n",
    "              selectInput(\"in_sel_bar_xVar\",\"x Variable:\", choices = NULL)\n",
    "            ),\n",
    "            mainPanel(\n",
    "              plotOutput('plot_bar')\n",
    "            )\n",
    "    ),\n",
    "    ##### piechart\n",
    "    tabItem(tabName = \"piechart\",\n",
    "            sidebarPanel(\n",
    "              selectInput(\"in_sel_pie_xVar\",\"x Variable:\", choices = NULL)\n",
    "            ),\n",
    "            mainPanel(\n",
    "              plotlyOutput('plot_pie')\n",
    "            )\n",
    "    ),\n",
    "    ##### line plot\n",
    "    tabItem(tabName = \"lineplot\",\n",
    "            sidebarPanel(\n",
    "              selectInput(\"in_sel_line_yVar\",\"y Variable:\", choices = NULL),\n",
    "              selectInput(\"in_sel_line_xVar\",\"x Variable:\", choices = NULL)\n",
    "            ),\n",
    "            mainPanel(\n",
    "              plotlyOutput('plot_line')\n",
    "            )\n",
    "    ),\n",
    "    ##### scatter plot\n",
    "    tabItem(tabName = \"scatterplot\",\n",
    "            sidebarPanel(\n",
    "              selectInput(\"in_sel_scatter_yVar\",\"y Variable:\", choices = NULL),\n",
    "              selectInput(\"in_sel_scatter_xVar\",\"x Variable:\", choices = NULL)\n",
    "            ),\n",
    "            mainPanel(\n",
    "              plotOutput('plot_scatter'),\n",
    "              textOutput('text_scatter')\n",
    "            )\n",
    "    )\n",
    "  )\n",
    ")\n",
    "\n",
    "ui<-dashboardPage(\n",
    "  dashboardHeader(title='my graph'),\n",
    "  sidebar,\n",
    "  body\n",
    ")"
   ]
  },
  {
   "cell_type": "code",
   "execution_count": null,
   "metadata": {},
   "outputs": [],
   "source": [
    "######################3. 서버단 개발 ########################################\n",
    "server <- function(input, output,session) {\n",
    "  options(warn = -1)\n",
    "  options(shiny.maxRequestSize = 30*1024^2)\n",
    "  dataload<-reactive({\n",
    "    req(input$file1) ### server로 파일을 불러온다.\n",
    "    file1 = input$file1 ### 받아온 parameter file1을 file1 parameter로 넣는다(server내에서 사용)\n",
    "    data1 = read.csv(file1$datapath) ### 불러온 csv,txt 등 파일을 data1 parameter에 넣는다\n",
    "      \n",
    "    updateSelectInput(session, \"in_sel_bar_xVar\", choices = colnames(data1))\n",
    "    updateSelectInput(session, \"in_sel_bar_yVar\", choices = colnames(data1))\n",
    "    \n",
    "    updateSelectInput(session, \"in_sel_pie_xVar\", choices = data1[,1])\n",
    "    \n",
    "    updateSelectInput(session, \"in_sel_line_xVar\", choices = colnames(data1))\n",
    "    updateSelectInput(session, \"in_sel_line_yVar\", choices = colnames(data1))\n",
    "    \n",
    "    updateSelectInput(session, \"in_sel_scatter_xVar\", choices = colnames(data1))\n",
    "    updateSelectInput(session, \"in_sel_scatter_yVar\", choices = colnames(data1))\n",
    "    \n",
    "    return(data1)\n",
    "  })\n",
    " ####nomal_bar\n",
    "  output$plot_bar <- renderPlot({\n",
    "    table_in<-dataload()\n",
    "    \n",
    "    xdata<-as.factor(table_in[,input$in_sel_bar_xVar])\n",
    "    ydata<-as.factor(table_in[,input$in_sel_bar_yVar])\n",
    "    fdata=data.frame(x=xdata,y=ydata)\n",
    "    \n",
    "    ggplot(fdata) + \n",
    "      geom_bar(aes_string(x='x',y='y',fill='x'),stat = \"identity\",show.legend=F)\n",
    "  })\n",
    "  \n",
    "  output$plot_pie <- renderPlotly({\n",
    "    table_in<-dataload()\n",
    "    plot_ly(table_in, labels = ~colnames(table_in)[-1], values=~as.factor( table_in[table_in[,1] == input$in_sel_pie_xVar,-1] ),type='pie')\n",
    "  })\n",
    "  \n",
    "  output$plot_line <- renderPlotly({\n",
    "    table_in<-dataload()\n",
    "    x <- list(title = input$in_sel_line_xVar)\n",
    "    y <- list(title = input$in_sel_line_yVar)\n",
    "    plot_ly(data = table_in,x=~table_in[,input$in_sel_line_xVar],y=~table_in[,input$in_sel_line_yVar],type='scatter',mode='dot')%>%\n",
    "      layout(xaxis = x, yaxis = y)\n",
    "  })\n",
    "    \n",
    "  output$plot_scatter <- renderPlot({\n",
    "    table_in<-dataload()\n",
    "    xyplot(table_in[,input$in_sel_scatter_yVar]~table_in[,input$in_sel_scatter_xVar], grid=T,type=c('p','smooth'),col.line='darkorange',lwd=2, xlab=input$in_sel_scatter_xVar,ylab=input$in_sel_scatter_yVar)\n",
    "  })\n",
    "  \n",
    "  output$text_scatter <- renderText({\n",
    "    table_in<-dataload()\n",
    "    paste(\"The correlation between the two is: \", cor(table_in[,input$in_sel_scatter_yVar],table_in[,input$in_sel_scatter_xVar]))\n",
    "  })\n",
    "}"
   ]
  },
  {
   "cell_type": "code",
   "execution_count": null,
   "metadata": {},
   "outputs": [],
   "source": [
    "######################### 4. 샤이니 실행 ###############################\n",
    "\n",
    "shinyApp(ui = ui, server = server)"
   ]
  },
  {
   "cell_type": "markdown",
   "metadata": {},
   "source": [
    "    sidebar : 파일 불러오는 코드/ 그래프 종류 메뉴들\n",
    "    body : x, y축 column 선택, 그래프 출력 화면\n",
    "    ui : sidebar 변수, body 변수 지정\n",
    "    server : dataload 함수, 그래프 출력 함수"
   ]
  },
  {
   "cell_type": "code",
   "execution_count": null,
   "metadata": {},
   "outputs": [],
   "source": []
  },
  {
   "cell_type": "code",
   "execution_count": null,
   "metadata": {},
   "outputs": [],
   "source": []
  },
  {
   "cell_type": "code",
   "execution_count": null,
   "metadata": {},
   "outputs": [],
   "source": []
  }
 ],
 "metadata": {
  "kernelspec": {
   "display_name": "R",
   "language": "R",
   "name": "ir"
  },
  "language_info": {
   "codemirror_mode": "r",
   "file_extension": ".r",
   "mimetype": "text/x-r-source",
   "name": "R",
   "pygments_lexer": "r",
   "version": "3.6.1"
  },
  "toc": {
   "base_numbering": 1,
   "nav_menu": {},
   "number_sections": true,
   "sideBar": true,
   "skip_h1_title": false,
   "title_cell": "Table of Contents",
   "title_sidebar": "Contents",
   "toc_cell": false,
   "toc_position": {},
   "toc_section_display": true,
   "toc_window_display": false
  },
  "varInspector": {
   "cols": {
    "lenName": 16,
    "lenType": 16,
    "lenVar": 40
   },
   "kernels_config": {
    "python": {
     "delete_cmd_postfix": "",
     "delete_cmd_prefix": "del ",
     "library": "var_list.py",
     "varRefreshCmd": "print(var_dic_list())"
    },
    "r": {
     "delete_cmd_postfix": ") ",
     "delete_cmd_prefix": "rm(",
     "library": "var_list.r",
     "varRefreshCmd": "cat(var_dic_list()) "
    }
   },
   "types_to_exclude": [
    "module",
    "function",
    "builtin_function_or_method",
    "instance",
    "_Feature"
   ],
   "window_display": false
  }
 },
 "nbformat": 4,
 "nbformat_minor": 4
}
