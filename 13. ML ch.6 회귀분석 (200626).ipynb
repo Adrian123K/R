{
 "cells": [
  {
   "cell_type": "code",
   "execution_count": 4,
   "metadata": {
    "ExecuteTime": {
     "end_time": "2020-06-27T05:50:51.543383Z",
     "start_time": "2020-06-27T05:50:51.464Z"
    }
   },
   "outputs": [
    {
     "data": {
      "text/html": [
       "<table>\n",
       "<thead><tr><th scope=col>growth</th><th scope=col>tannin</th></tr></thead>\n",
       "<tbody>\n",
       "\t<tr><td>12</td><td>0 </td></tr>\n",
       "\t<tr><td>10</td><td>1 </td></tr>\n",
       "\t<tr><td> 8</td><td>2 </td></tr>\n",
       "\t<tr><td>11</td><td>3 </td></tr>\n",
       "\t<tr><td> 6</td><td>4 </td></tr>\n",
       "\t<tr><td> 7</td><td>5 </td></tr>\n",
       "\t<tr><td> 2</td><td>6 </td></tr>\n",
       "\t<tr><td> 3</td><td>7 </td></tr>\n",
       "\t<tr><td> 3</td><td>8 </td></tr>\n",
       "</tbody>\n",
       "</table>\n"
      ],
      "text/latex": [
       "\\begin{tabular}{r|ll}\n",
       " growth & tannin\\\\\n",
       "\\hline\n",
       "\t 12 & 0 \\\\\n",
       "\t 10 & 1 \\\\\n",
       "\t  8 & 2 \\\\\n",
       "\t 11 & 3 \\\\\n",
       "\t  6 & 4 \\\\\n",
       "\t  7 & 5 \\\\\n",
       "\t  2 & 6 \\\\\n",
       "\t  3 & 7 \\\\\n",
       "\t  3 & 8 \\\\\n",
       "\\end{tabular}\n"
      ],
      "text/markdown": [
       "\n",
       "| growth | tannin |\n",
       "|---|---|\n",
       "| 12 | 0  |\n",
       "| 10 | 1  |\n",
       "|  8 | 2  |\n",
       "| 11 | 3  |\n",
       "|  6 | 4  |\n",
       "|  7 | 5  |\n",
       "|  2 | 6  |\n",
       "|  3 | 7  |\n",
       "|  3 | 8  |\n",
       "\n"
      ],
      "text/plain": [
       "  growth tannin\n",
       "1 12     0     \n",
       "2 10     1     \n",
       "3  8     2     \n",
       "4 11     3     \n",
       "5  6     4     \n",
       "6  7     5     \n",
       "7  2     6     \n",
       "8  3     7     \n",
       "9  3     8     "
      ]
     },
     "metadata": {},
     "output_type": "display_data"
    }
   ],
   "source": [
    "# 1. 데이터를 로드한다. \n",
    "reg <- read.table(\"regression.txt\", header=T) \n",
    "reg"
   ]
  },
  {
   "cell_type": "markdown",
   "metadata": {},
   "source": [
    "```\n",
    "    growth tannin\n",
    "1     12      0\n",
    "2     10      1\n",
    "3      8      2\n",
    "4     11      3\n",
    "5      6      4\n",
    "6      7      5\n",
    "7      2      6\n",
    "8      3      7\n",
    "9      3      8\n",
    "\n",
    "※ 데이터 설명:  애벌래에 사료에 탄닌(영양제)의 양에 따라 애벌래의  성장률이 어떻게 되는지 조사한 데이터.\n",
    "               맛이 없어서 잘 안먹어서 성장이 떨어지는 결과가 나타남\n",
    "               ```"
   ]
  },
  {
   "cell_type": "code",
   "execution_count": 5,
   "metadata": {
    "ExecuteTime": {
     "end_time": "2020-06-27T05:50:56.826438Z",
     "start_time": "2020-06-27T05:50:56.637Z"
    }
   },
   "outputs": [
    {
     "name": "stderr",
     "output_type": "stream",
     "text": [
      "The following objects are masked from reg (pos = 3):\n",
      "\n",
      "    growth, tannin\n",
      "\n"
     ]
    },
    {
     "data": {
      "text/plain": [
       "\n",
       "Call:\n",
       "lm(formula = growth ~ tannin, data = reg)\n",
       "\n",
       "Coefficients:\n",
       "(Intercept)       tannin  \n",
       "     11.756       -1.217  \n"
      ]
     },
     "metadata": {},
     "output_type": "display_data"
    },
    {
     "data": {
      "image/png": "[encoded data removed]",
      "text/plain": [
       "plot without title"
      ]
     },
     "metadata": {},
     "output_type": "display_data"
    }
   ],
   "source": [
    "#  2. 데이터를 시각화 한다. \n",
    "attach(reg)\n",
    "plot(growth~tannin, data = reg, pch=21, col='blue', bg='red')\n",
    "#         y ~ x \n",
    "\n",
    "# 3. 회귀분석을 해서 회귀 계수인 기울기와 절편을 구하시오 !\n",
    "m <- lm( growth ~ tannin, data=reg)\n",
    "  #         ↑     ↑           ↑\n",
    "  #  회귀함수  종속변수  독립변수 \n",
    "m"
   ]
  },
  {
   "cell_type": "markdown",
   "metadata": {},
   "source": [
    "```\n",
    "    Coefficients: (Intercept)       tannin  \n",
    "                     11.756       -1.217  \n",
    "                     ```"
   ]
  },
  {
   "cell_type": "code",
   "execution_count": 3,
   "metadata": {
    "ExecuteTime": {
     "end_time": "2020-06-27T05:50:33.154891Z",
     "start_time": "2020-06-27T05:50:33.090Z"
    }
   },
   "outputs": [
    {
     "ename": "ERROR",
     "evalue": "Error in int_abline(a = a, b = b, h = h, v = v, untf = untf, ...): plot.new has not been called yet\n",
     "output_type": "error",
     "traceback": [
      "Error in int_abline(a = a, b = b, h = h, v = v, untf = untf, ...): plot.new has not been called yet\nTraceback:\n",
      "1. abline(m, col = \"red\")",
      "2. int_abline(a = a, b = b, h = h, v = v, untf = untf, ...)"
     ]
    }
   ],
   "source": [
    "# 4. 위의 산포도 그래프에 회귀 직선을 그린다. \n",
    "abline( m ,  col='red')  "
   ]
  },
  {
   "cell_type": "code",
   "execution_count": null,
   "metadata": {},
   "outputs": [],
   "source": [
    "# 5. 그래프 제목을 회귀 직선의 방정식으로 출력되게한다. \n",
    "title(paste( '성장률=', round(m$coefficients[2], 4), \"* 탄닌 + \", round(m$coefficients[1], 4)))\n",
    "# 6. 위의 그래프에 잔차를 그린다. \n",
    "y_hat <- predict( m, tannin=tannin)\n",
    "y_hat\n",
    "\n",
    "join <- function(i){\n",
    "    lines( c(tannin[i], tannin[i]), c( growth[i],y_hat[i]), col=\"green\")\n",
    "}\n",
    "sapply(1:9, join) "
   ]
  },
  {
   "cell_type": "markdown",
   "metadata": {},
   "source": [
    "### ※ 문제250. 광고비가 매출에 미치는 영향에 대해 회귀식과 그래프를 시각화 하시오 !"
   ]
  },
  {
   "cell_type": "code",
   "execution_count": 6,
   "metadata": {
    "ExecuteTime": {
     "end_time": "2020-06-27T06:10:02.847087Z",
     "start_time": "2020-06-27T06:10:02.426Z"
    }
   },
   "outputs": [
    {
     "data": {
      "text/html": [
       "<table>\n",
       "<thead><tr><th scope=col>h_year</th><th scope=col>cost</th><th scope=col>input</th></tr></thead>\n",
       "<tbody>\n",
       "\t<tr><td>2001</td><td>13  </td><td> 94 </td></tr>\n",
       "\t<tr><td>2002</td><td> 8  </td><td> 70 </td></tr>\n",
       "\t<tr><td>2003</td><td>10  </td><td> 90 </td></tr>\n",
       "\t<tr><td>2004</td><td>15  </td><td>100 </td></tr>\n",
       "\t<tr><td>2005</td><td>12  </td><td> 95 </td></tr>\n",
       "\t<tr><td>2006</td><td>15  </td><td>100 </td></tr>\n",
       "\t<tr><td>2007</td><td>14  </td><td> 85 </td></tr>\n",
       "\t<tr><td>2008</td><td>15  </td><td> 95 </td></tr>\n",
       "\t<tr><td>2009</td><td>17  </td><td>105 </td></tr>\n",
       "\t<tr><td>2010</td><td>19  </td><td>105 </td></tr>\n",
       "\t<tr><td>2011</td><td>20  </td><td>110 </td></tr>\n",
       "\t<tr><td>2012</td><td>21  </td><td>105 </td></tr>\n",
       "\t<tr><td>2013</td><td>22  </td><td>104 </td></tr>\n",
       "\t<tr><td>2014</td><td>21  </td><td>105 </td></tr>\n",
       "\t<tr><td>2015</td><td>25  </td><td>121 </td></tr>\n",
       "</tbody>\n",
       "</table>\n"
      ],
      "text/latex": [
       "\\begin{tabular}{r|lll}\n",
       " h\\_year & cost & input\\\\\n",
       "\\hline\n",
       "\t 2001 & 13   &  94 \\\\\n",
       "\t 2002 &  8   &  70 \\\\\n",
       "\t 2003 & 10   &  90 \\\\\n",
       "\t 2004 & 15   & 100 \\\\\n",
       "\t 2005 & 12   &  95 \\\\\n",
       "\t 2006 & 15   & 100 \\\\\n",
       "\t 2007 & 14   &  85 \\\\\n",
       "\t 2008 & 15   &  95 \\\\\n",
       "\t 2009 & 17   & 105 \\\\\n",
       "\t 2010 & 19   & 105 \\\\\n",
       "\t 2011 & 20   & 110 \\\\\n",
       "\t 2012 & 21   & 105 \\\\\n",
       "\t 2013 & 22   & 104 \\\\\n",
       "\t 2014 & 21   & 105 \\\\\n",
       "\t 2015 & 25   & 121 \\\\\n",
       "\\end{tabular}\n"
      ],
      "text/markdown": [
       "\n",
       "| h_year | cost | input |\n",
       "|---|---|---|\n",
       "| 2001 | 13   |  94  |\n",
       "| 2002 |  8   |  70  |\n",
       "| 2003 | 10   |  90  |\n",
       "| 2004 | 15   | 100  |\n",
       "| 2005 | 12   |  95  |\n",
       "| 2006 | 15   | 100  |\n",
       "| 2007 | 14   |  85  |\n",
       "| 2008 | 15   |  95  |\n",
       "| 2009 | 17   | 105  |\n",
       "| 2010 | 19   | 105  |\n",
       "| 2011 | 20   | 110  |\n",
       "| 2012 | 21   | 105  |\n",
       "| 2013 | 22   | 104  |\n",
       "| 2014 | 21   | 105  |\n",
       "| 2015 | 25   | 121  |\n",
       "\n"
      ],
      "text/plain": [
       "   h_year cost input\n",
       "1  2001   13    94  \n",
       "2  2002    8    70  \n",
       "3  2003   10    90  \n",
       "4  2004   15   100  \n",
       "5  2005   12    95  \n",
       "6  2006   15   100  \n",
       "7  2007   14    85  \n",
       "8  2008   15    95  \n",
       "9  2009   17   105  \n",
       "10 2010   19   105  \n",
       "11 2011   20   110  \n",
       "12 2012   21   105  \n",
       "13 2013   22   104  \n",
       "14 2014   21   105  \n",
       "15 2015   25   121  "
      ]
     },
     "metadata": {},
     "output_type": "display_data"
    },
    {
     "name": "stdout",
     "output_type": "stream",
     "text": [
      "'data.frame':\t15 obs. of  3 variables:\n",
      " $ h_year: int  2001 2002 2003 2004 2005 2006 2007 2008 2009 2010 ...\n",
      " $ cost  : int  13 8 10 15 12 15 14 15 17 19 ...\n",
      " $ input : int  94 70 90 100 95 100 85 95 105 105 ...\n"
     ]
    },
    {
     "data": {
      "text/plain": [
       "\n",
       "Call:\n",
       "lm(formula = input ~ cost, data = adv)\n",
       "\n",
       "Coefficients:\n",
       "(Intercept)         cost  \n",
       "     62.929        2.186  \n"
      ]
     },
     "metadata": {},
     "output_type": "display_data"
    },
    {
     "data": {
      "text/html": [
       "<dl class=dl-horizontal>\n",
       "\t<dt>1</dt>\n",
       "\t\t<dd>91.3535018648985</dd>\n",
       "\t<dt>2</dt>\n",
       "\t\t<dd>80.4210526315789</dd>\n",
       "\t<dt>3</dt>\n",
       "\t\t<dd>84.7940323249068</dd>\n",
       "\t<dt>4</dt>\n",
       "\t\t<dd>95.7264815582263</dd>\n",
       "\t<dt>5</dt>\n",
       "\t\t<dd>89.1670120182346</dd>\n",
       "\t<dt>6</dt>\n",
       "\t\t<dd>95.7264815582263</dd>\n",
       "\t<dt>7</dt>\n",
       "\t\t<dd>93.5399917115624</dd>\n",
       "\t<dt>8</dt>\n",
       "\t\t<dd>95.7264815582263</dd>\n",
       "\t<dt>9</dt>\n",
       "\t\t<dd>100.099461251554</dd>\n",
       "\t<dt>10</dt>\n",
       "\t\t<dd>104.472440944882</dd>\n",
       "\t<dt>11</dt>\n",
       "\t\t<dd>106.658930791546</dd>\n",
       "\t<dt>12</dt>\n",
       "\t\t<dd>108.84542063821</dd>\n",
       "\t<dt>13</dt>\n",
       "\t\t<dd>111.031910484874</dd>\n",
       "\t<dt>14</dt>\n",
       "\t\t<dd>108.84542063821</dd>\n",
       "\t<dt>15</dt>\n",
       "\t\t<dd>117.591380024865</dd>\n",
       "</dl>\n"
      ],
      "text/latex": [
       "\\begin{description*}\n",
       "\\item[1] 91.3535018648985\n",
       "\\item[2] 80.4210526315789\n",
       "\\item[3] 84.7940323249068\n",
       "\\item[4] 95.7264815582263\n",
       "\\item[5] 89.1670120182346\n",
       "\\item[6] 95.7264815582263\n",
       "\\item[7] 93.5399917115624\n",
       "\\item[8] 95.7264815582263\n",
       "\\item[9] 100.099461251554\n",
       "\\item[10] 104.472440944882\n",
       "\\item[11] 106.658930791546\n",
       "\\item[12] 108.84542063821\n",
       "\\item[13] 111.031910484874\n",
       "\\item[14] 108.84542063821\n",
       "\\item[15] 117.591380024865\n",
       "\\end{description*}\n"
      ],
      "text/markdown": [
       "1\n",
       ":   91.35350186489852\n",
       ":   80.42105263157893\n",
       ":   84.79403232490684\n",
       ":   95.72648155822635\n",
       ":   89.16701201823466\n",
       ":   95.72648155822637\n",
       ":   93.53999171156248\n",
       ":   95.72648155822639\n",
       ":   100.09946125155410\n",
       ":   104.47244094488211\n",
       ":   106.65893079154612\n",
       ":   108.8454206382113\n",
       ":   111.03191048487414\n",
       ":   108.8454206382115\n",
       ":   117.591380024865\n",
       "\n"
      ],
      "text/plain": [
       "        1         2         3         4         5         6         7         8 \n",
       " 91.35350  80.42105  84.79403  95.72648  89.16701  95.72648  93.53999  95.72648 \n",
       "        9        10        11        12        13        14        15 \n",
       "100.09946 104.47244 106.65893 108.84542 111.03191 108.84542 117.59138 "
      ]
     },
     "metadata": {},
     "output_type": "display_data"
    },
    {
     "data": {
      "text/html": [
       "<ol>\n",
       "\t<li>NULL</li>\n",
       "\t<li>NULL</li>\n",
       "\t<li>NULL</li>\n",
       "\t<li>NULL</li>\n",
       "\t<li>NULL</li>\n",
       "\t<li>NULL</li>\n",
       "\t<li>NULL</li>\n",
       "\t<li>NULL</li>\n",
       "\t<li>NULL</li>\n",
       "\t<li>NULL</li>\n",
       "\t<li>NULL</li>\n",
       "\t<li>NULL</li>\n",
       "\t<li>NULL</li>\n",
       "\t<li>NULL</li>\n",
       "\t<li>NULL</li>\n",
       "</ol>\n"
      ],
      "text/latex": [
       "\\begin{enumerate}\n",
       "\\item NULL\n",
       "\\item NULL\n",
       "\\item NULL\n",
       "\\item NULL\n",
       "\\item NULL\n",
       "\\item NULL\n",
       "\\item NULL\n",
       "\\item NULL\n",
       "\\item NULL\n",
       "\\item NULL\n",
       "\\item NULL\n",
       "\\item NULL\n",
       "\\item NULL\n",
       "\\item NULL\n",
       "\\item NULL\n",
       "\\end{enumerate}\n"
      ],
      "text/markdown": [
       "1. NULL\n",
       "2. NULL\n",
       "3. NULL\n",
       "4. NULL\n",
       "5. NULL\n",
       "6. NULL\n",
       "7. NULL\n",
       "8. NULL\n",
       "9. NULL\n",
       "10. NULL\n",
       "11. NULL\n",
       "12. NULL\n",
       "13. NULL\n",
       "14. NULL\n",
       "15. NULL\n",
       "\n",
       "\n"
      ],
      "text/plain": [
       "[[1]]\n",
       "NULL\n",
       "\n",
       "[[2]]\n",
       "NULL\n",
       "\n",
       "[[3]]\n",
       "NULL\n",
       "\n",
       "[[4]]\n",
       "NULL\n",
       "\n",
       "[[5]]\n",
       "NULL\n",
       "\n",
       "[[6]]\n",
       "NULL\n",
       "\n",
       "[[7]]\n",
       "NULL\n",
       "\n",
       "[[8]]\n",
       "NULL\n",
       "\n",
       "[[9]]\n",
       "NULL\n",
       "\n",
       "[[10]]\n",
       "NULL\n",
       "\n",
       "[[11]]\n",
       "NULL\n",
       "\n",
       "[[12]]\n",
       "NULL\n",
       "\n",
       "[[13]]\n",
       "NULL\n",
       "\n",
       "[[14]]\n",
       "NULL\n",
       "\n",
       "[[15]]\n",
       "NULL\n"
      ]
     },
     "metadata": {},
     "output_type": "display_data"
    },
    {
     "data": {
      "image/png": "[encoded data removed]",
      "text/plain": [
       "Plot with title \"증가율= 2.1865 *광고비+  62.9291\""
      ]
     },
     "metadata": {},
     "output_type": "display_data"
    }
   ],
   "source": [
    "# 1. 데이터를 로드한다. \n",
    "adv <- read.csv(\"simple_hg.csv\", header=T) \n",
    "adv\n",
    "str(adv)\n",
    "\n",
    "#  2. 데이터를 시각화 한다. \n",
    "attach(adv)\n",
    "plot(input~cost, data = adv, pch=21, col='blue', bg='red')\n",
    "#       y ~ x \n",
    "\n",
    "# 3. 회귀분석을 해서 회귀 계수인 기울기와 절편을 구하시오 !\n",
    "adv_m <- lm( input ~ cost, data=adv)\n",
    "\n",
    "adv_m # 회귀계수-> 직선의 기울기\n",
    "\n",
    "# 4. 위의 산포도 그래프에 회귀 직선을 그린다. \n",
    "abline( adv_m ,  col='red')  \n",
    "\n",
    "# 5. 그래프 제목을 회귀 직선의 방정식으로 출력되게한다. \n",
    "title(paste( '증가율=', round(adv_m$coefficients[2], 4), \"*광고비+ \", round(adv_m$coefficients[1], 4)))\n",
    "\n",
    "# 6. 위의 그래프에 잔차를 그린다. \n",
    "y_hat <- predict( adv_m, cost=cost) # \n",
    "y_hat\n",
    "\n",
    "join <- function(i){\n",
    "  lines( c(cost[i], cost[i]), c( input[i],y_hat[i]), col=\"green\")\n",
    "}\n",
    "sapply(1:nrow(adv), join) # \n"
   ]
  },
  {
   "cell_type": "markdown",
   "metadata": {},
   "source": [
    "## ■ 우주왕복선 챌린저호의 폭파원인 분석"
   ]
  },
  {
   "cell_type": "code",
   "execution_count": 8,
   "metadata": {
    "ExecuteTime": {
     "end_time": "2020-06-27T06:25:13.285981Z",
     "start_time": "2020-06-27T06:25:13.194Z"
    }
   },
   "outputs": [
    {
     "data": {
      "text/html": [
       "<table>\n",
       "<thead><tr><th scope=col>distress_ct</th><th scope=col>temperature</th><th scope=col>field_check_pressure</th><th scope=col>flight_num</th></tr></thead>\n",
       "<tbody>\n",
       "\t<tr><td>0  </td><td>66 </td><td> 50</td><td> 1 </td></tr>\n",
       "\t<tr><td>1  </td><td>70 </td><td> 50</td><td> 2 </td></tr>\n",
       "\t<tr><td>0  </td><td>69 </td><td> 50</td><td> 3 </td></tr>\n",
       "\t<tr><td>0  </td><td>68 </td><td> 50</td><td> 4 </td></tr>\n",
       "\t<tr><td>0  </td><td>67 </td><td> 50</td><td> 5 </td></tr>\n",
       "\t<tr><td>0  </td><td>72 </td><td> 50</td><td> 6 </td></tr>\n",
       "\t<tr><td>0  </td><td>73 </td><td>100</td><td> 7 </td></tr>\n",
       "\t<tr><td>0  </td><td>70 </td><td>100</td><td> 8 </td></tr>\n",
       "\t<tr><td>1  </td><td>57 </td><td>200</td><td> 9 </td></tr>\n",
       "\t<tr><td>1  </td><td>63 </td><td>200</td><td>10 </td></tr>\n",
       "\t<tr><td>1  </td><td>70 </td><td>200</td><td>11 </td></tr>\n",
       "\t<tr><td>0  </td><td>78 </td><td>200</td><td>12 </td></tr>\n",
       "\t<tr><td>0  </td><td>67 </td><td>200</td><td>13 </td></tr>\n",
       "\t<tr><td>2  </td><td>53 </td><td>200</td><td>14 </td></tr>\n",
       "\t<tr><td>0  </td><td>67 </td><td>200</td><td>15 </td></tr>\n",
       "\t<tr><td>0  </td><td>75 </td><td>200</td><td>16 </td></tr>\n",
       "\t<tr><td>0  </td><td>70 </td><td>200</td><td>17 </td></tr>\n",
       "\t<tr><td>0  </td><td>81 </td><td>200</td><td>18 </td></tr>\n",
       "\t<tr><td>0  </td><td>76 </td><td>200</td><td>19 </td></tr>\n",
       "\t<tr><td>0  </td><td>79 </td><td>200</td><td>20 </td></tr>\n",
       "\t<tr><td>2  </td><td>75 </td><td>200</td><td>21 </td></tr>\n",
       "\t<tr><td>0  </td><td>76 </td><td>200</td><td>22 </td></tr>\n",
       "\t<tr><td>1  </td><td>58 </td><td>200</td><td>23 </td></tr>\n",
       "</tbody>\n",
       "</table>\n"
      ],
      "text/latex": [
       "\\begin{tabular}{r|llll}\n",
       " distress\\_ct & temperature & field\\_check\\_pressure & flight\\_num\\\\\n",
       "\\hline\n",
       "\t 0   & 66  &  50 &  1 \\\\\n",
       "\t 1   & 70  &  50 &  2 \\\\\n",
       "\t 0   & 69  &  50 &  3 \\\\\n",
       "\t 0   & 68  &  50 &  4 \\\\\n",
       "\t 0   & 67  &  50 &  5 \\\\\n",
       "\t 0   & 72  &  50 &  6 \\\\\n",
       "\t 0   & 73  & 100 &  7 \\\\\n",
       "\t 0   & 70  & 100 &  8 \\\\\n",
       "\t 1   & 57  & 200 &  9 \\\\\n",
       "\t 1   & 63  & 200 & 10 \\\\\n",
       "\t 1   & 70  & 200 & 11 \\\\\n",
       "\t 0   & 78  & 200 & 12 \\\\\n",
       "\t 0   & 67  & 200 & 13 \\\\\n",
       "\t 2   & 53  & 200 & 14 \\\\\n",
       "\t 0   & 67  & 200 & 15 \\\\\n",
       "\t 0   & 75  & 200 & 16 \\\\\n",
       "\t 0   & 70  & 200 & 17 \\\\\n",
       "\t 0   & 81  & 200 & 18 \\\\\n",
       "\t 0   & 76  & 200 & 19 \\\\\n",
       "\t 0   & 79  & 200 & 20 \\\\\n",
       "\t 2   & 75  & 200 & 21 \\\\\n",
       "\t 0   & 76  & 200 & 22 \\\\\n",
       "\t 1   & 58  & 200 & 23 \\\\\n",
       "\\end{tabular}\n"
      ],
      "text/markdown": [
       "\n",
       "| distress_ct | temperature | field_check_pressure | flight_num |\n",
       "|---|---|---|---|\n",
       "| 0   | 66  |  50 |  1  |\n",
       "| 1   | 70  |  50 |  2  |\n",
       "| 0   | 69  |  50 |  3  |\n",
       "| 0   | 68  |  50 |  4  |\n",
       "| 0   | 67  |  50 |  5  |\n",
       "| 0   | 72  |  50 |  6  |\n",
       "| 0   | 73  | 100 |  7  |\n",
       "| 0   | 70  | 100 |  8  |\n",
       "| 1   | 57  | 200 |  9  |\n",
       "| 1   | 63  | 200 | 10  |\n",
       "| 1   | 70  | 200 | 11  |\n",
       "| 0   | 78  | 200 | 12  |\n",
       "| 0   | 67  | 200 | 13  |\n",
       "| 2   | 53  | 200 | 14  |\n",
       "| 0   | 67  | 200 | 15  |\n",
       "| 0   | 75  | 200 | 16  |\n",
       "| 0   | 70  | 200 | 17  |\n",
       "| 0   | 81  | 200 | 18  |\n",
       "| 0   | 76  | 200 | 19  |\n",
       "| 0   | 79  | 200 | 20  |\n",
       "| 2   | 75  | 200 | 21  |\n",
       "| 0   | 76  | 200 | 22  |\n",
       "| 1   | 58  | 200 | 23  |\n",
       "\n"
      ],
      "text/plain": [
       "   distress_ct temperature field_check_pressure flight_num\n",
       "1  0           66           50                   1        \n",
       "2  1           70           50                   2        \n",
       "3  0           69           50                   3        \n",
       "4  0           68           50                   4        \n",
       "5  0           67           50                   5        \n",
       "6  0           72           50                   6        \n",
       "7  0           73          100                   7        \n",
       "8  0           70          100                   8        \n",
       "9  1           57          200                   9        \n",
       "10 1           63          200                  10        \n",
       "11 1           70          200                  11        \n",
       "12 0           78          200                  12        \n",
       "13 0           67          200                  13        \n",
       "14 2           53          200                  14        \n",
       "15 0           67          200                  15        \n",
       "16 0           75          200                  16        \n",
       "17 0           70          200                  17        \n",
       "18 0           81          200                  18        \n",
       "19 0           76          200                  19        \n",
       "20 0           79          200                  20        \n",
       "21 2           75          200                  21        \n",
       "22 0           76          200                  22        \n",
       "23 1           58          200                  23        "
      ]
     },
     "metadata": {},
     "output_type": "display_data"
    },
    {
     "data": {
      "text/plain": [
       "\n",
       "Call:\n",
       "lm(formula = distress_ct ~ temperature, data = launch)\n",
       "\n",
       "Coefficients:\n",
       "(Intercept)  temperature  \n",
       "    3.69841     -0.04754  \n"
      ]
     },
     "metadata": {},
     "output_type": "display_data"
    }
   ],
   "source": [
    "# 1. 데이터를 로드한다. \n",
    "launch <- read.csv(\"challenger.csv\")\n",
    "launch\n",
    "\n",
    "# distress_ct :  O형링 파손수 \n",
    "# temperature :  온도 \n",
    "# field_check_pressure : 압력 \n",
    "# flight_num  : 비행기 번호 \n",
    "\n",
    "# 2. lm 회귀함수로 기울기와 절편을 구한다. \n",
    "attach(launch)\n",
    "lm( distress_ct ~ temperature,  launch )\n",
    "#       ↑              ↑\n",
    "#       y축            x축 \n",
    "\n",
    "# Call: lm(formula = distress_ct ~ temperature, data = launch)\n",
    "# Coefficients: (Intercept)  temperature  \n",
    "#               3.69841     -0.04754  \n",
    "#                 ↑           ↑\n",
    "#               절편         기울기 "
   ]
  },
  {
   "cell_type": "markdown",
   "metadata": {},
   "source": [
    "### ※ 문제. 책 251 페이지에 나오는  plot 그래프를 그리시오 !\n",
    "        x축 :  온도\n",
    "        y축  :  o형링 파손수 \n",
    "    공식 :   plot(y축~x축, data=데이터셋 이름) "
   ]
  },
  {
   "cell_type": "code",
   "execution_count": null,
   "metadata": {},
   "outputs": [],
   "source": [
    "plot( distress_ct ~ temperature,  data=launch,  col=\"red\", bg=\"red\", pch=21)"
   ]
  },
  {
   "cell_type": "markdown",
   "metadata": {},
   "source": [
    "### ※ 문제. 위의 plot 그래프의 data 에 맞는 회귀직선을 그리시오 !"
   ]
  },
  {
   "cell_type": "code",
   "execution_count": null,
   "metadata": {},
   "outputs": [],
   "source": [
    "m <- lm( distress_ct ~ temperature, launch)\n",
    "abline( m ,  col=\"blue\")  "
   ]
  },
  {
   "cell_type": "markdown",
   "metadata": {},
   "source": [
    "### ※문제. 위의 그래프에 제목에 회귀직선의 방정식이 출력되게 하시오 ! \n",
    "        y = -0.04754 x + 3.69841 "
   ]
  },
  {
   "cell_type": "code",
   "execution_count": 9,
   "metadata": {
    "ExecuteTime": {
     "end_time": "2020-06-27T06:25:20.802336Z",
     "start_time": "2020-06-27T06:25:20.589Z"
    }
   },
   "outputs": [
    {
     "name": "stderr",
     "output_type": "stream",
     "text": [
      "The following objects are masked from launch (pos = 3):\n",
      "\n",
      "    distress_ct, field_check_pressure, flight_num, temperature\n",
      "\n"
     ]
    },
    {
     "data": {
      "text/html": [
       "<ol class=list-inline>\n",
       "\t<li>'distress_ct'</li>\n",
       "\t<li>'temperature'</li>\n",
       "\t<li>'field_check_pressure'</li>\n",
       "\t<li>'flight_num'</li>\n",
       "</ol>\n"
      ],
      "text/latex": [
       "\\begin{enumerate*}\n",
       "\\item 'distress\\_ct'\n",
       "\\item 'temperature'\n",
       "\\item 'field\\_check\\_pressure'\n",
       "\\item 'flight\\_num'\n",
       "\\end{enumerate*}\n"
      ],
      "text/markdown": [
       "1. 'distress_ct'\n",
       "2. 'temperature'\n",
       "3. 'field_check_pressure'\n",
       "4. 'flight_num'\n",
       "\n",
       "\n"
      ],
      "text/plain": [
       "[1] \"distress_ct\"          \"temperature\"          \"field_check_pressure\"\n",
       "[4] \"flight_num\"          "
      ]
     },
     "metadata": {},
     "output_type": "display_data"
    },
    {
     "data": {
      "image/png": "[encoded data removed]",
      "text/plain": [
       "Plot with title \"파손수= 3.6984 * 온도 +  -0.0475\""
      ]
     },
     "metadata": {},
     "output_type": "display_data"
    }
   ],
   "source": [
    "attach(launch)\n",
    "names(launch)\n",
    "plot(distress_ct ~ temperature, data=launch)\n",
    "m <- lm(distress_ct  ~  temperature, launch)\n",
    "abline(m, col='red')\n",
    "title(paste('파손수=', round(m$coefficients[1], 4), \"* 온도 + \", \n",
    "round(m$coefficients[2], 4)))"
   ]
  },
  {
   "cell_type": "code",
   "execution_count": 10,
   "metadata": {
    "ExecuteTime": {
     "end_time": "2020-06-27T06:25:35.486226Z",
     "start_time": "2020-06-27T06:25:35.447Z"
    }
   },
   "outputs": [
    {
     "data": {
      "text/html": [
       "-0.511126385574056"
      ],
      "text/latex": [
       "-0.511126385574056"
      ],
      "text/markdown": [
       "-0.511126385574056"
      ],
      "text/plain": [
       "[1] -0.5111264"
      ]
     },
     "metadata": {},
     "output_type": "display_data"
    }
   ],
   "source": [
    "cor(launch$temperature,launch$distress_ct)"
   ]
  },
  {
   "cell_type": "markdown",
   "metadata": {},
   "source": [
    "## ■코스피 지수 수익율과 삼성전자와 현대자동차 수익율의 상관관계"
   ]
  },
  {
   "cell_type": "code",
   "execution_count": null,
   "metadata": {},
   "outputs": [],
   "source": [
    "k_index <- read.csv(\"K_index.csv\", header=T,  stringsAsFactors=F)\n",
    "s_stock <- read.csv(\"S_stock.csv\", header=T, stringsAsFactors=F)\n",
    "h_stock <- read.csv(\"H_stock.csv\", header=T,  stringsAsFactors=F)\n",
    "\n",
    "all_data <- merge(merge(k_index,s_stock), h_stock)\n",
    "\n",
    "head(all_data)\n",
    "attach(all_data)\n",
    "#             y축(삼성 수익율 등락 비율)\n",
    "#               ↓\n",
    "plot(k_rate, s_rate, col=\"blue\")\n",
    "#      ↑\n",
    "#   x축(코스피 등락 비율) \n",
    "\n",
    "plot(k_rate, h_rate, col=\"blue\")"
   ]
  },
  {
   "cell_type": "markdown",
   "metadata": {},
   "source": [
    "### 문제. 코스피 등락 비율과 삼성 수익율 등락 비율을 plot 그래프로 그리고 그 그래프에 회귀직선을 그으시오 !  "
   ]
  },
  {
   "cell_type": "code",
   "execution_count": null,
   "metadata": {},
   "outputs": [],
   "source": [
    "plot(k_rate, s_rate, col=\"blue\")\n",
    "model_s <- lm( s_rate ~ k_rate, data=all_data)\n",
    "abline( model_s,  col=\"red\") "
   ]
  },
  {
   "cell_type": "markdown",
   "metadata": {},
   "source": [
    "### ※문제253. 현대자동차도 마찬가지로 회귀 그래프를 만드시오 ! "
   ]
  },
  {
   "cell_type": "code",
   "execution_count": null,
   "metadata": {},
   "outputs": [],
   "source": [
    "plot(k_rate, h_rate, col=\"blue\")\n",
    "model_h <- lm( h_rate ~ k_rate, data=all_data)\n",
    "abline( model_h,  col=\"red\") "
   ]
  },
  {
   "cell_type": "markdown",
   "metadata": {},
   "source": [
    "### ※문제. 현대 자동차와 삼성전자 그래프를 하나의 화면으로 출력되게 하시오 !  "
   ]
  },
  {
   "cell_type": "code",
   "execution_count": null,
   "metadata": {},
   "outputs": [],
   "source": [
    "graphics.off()\n",
    "par(mfrow=c(1,2), new=T)\n",
    "par(mar=c(2,2,2,2) )\n",
    "\n",
    "plot(k_rate, s_rate, col=\"blue\")\n",
    "model_s <- lm( s_rate ~ k_rate, data=all_data)\n",
    "abline( model_s,  col=\"red\") \n",
    "\n",
    "plot(k_rate, h_rate, col=\"blue\")\n",
    "model_h <- lm( h_rate ~ k_rate, data=all_data)\n",
    "abline( model_h,  col=\"red\") "
   ]
  },
  {
   "cell_type": "code",
   "execution_count": null,
   "metadata": {},
   "outputs": [],
   "source": []
  },
  {
   "cell_type": "code",
   "execution_count": null,
   "metadata": {},
   "outputs": [],
   "source": []
  },
  {
   "cell_type": "code",
   "execution_count": null,
   "metadata": {},
   "outputs": [],
   "source": []
  }
 ],
 "metadata": {
  "kernelspec": {
   "display_name": "R",
   "language": "R",
   "name": "ir"
  },
  "language_info": {
   "codemirror_mode": "r",
   "file_extension": ".r",
   "mimetype": "text/x-r-source",
   "name": "R",
   "pygments_lexer": "r",
   "version": "3.6.1"
  },
  "toc": {
   "base_numbering": 1,
   "nav_menu": {},
   "number_sections": true,
   "sideBar": true,
   "skip_h1_title": false,
   "title_cell": "Table of Contents",
   "title_sidebar": "Contents",
   "toc_cell": false,
   "toc_position": {},
   "toc_section_display": true,
   "toc_window_display": false
  }
 },
 "nbformat": 4,
 "nbformat_minor": 4
}
