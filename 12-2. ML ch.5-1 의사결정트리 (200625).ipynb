{
 "cells": [
  {
   "cell_type": "markdown",
   "metadata": {},
   "source": [
    "## ■ 데이터별 사용하는 알고리즘 분류\n",
    "    수치형 데이터   ->   명목형 데이터   ->   숫자와 문자가 섞여있는 경우\n",
    "    kNN 알고리즘         나이브베이즈               의사결정트리"
   ]
  },
  {
   "cell_type": "code",
   "execution_count": 1,
   "metadata": {
    "ExecuteTime": {
     "end_time": "2020-06-25T05:21:46.959037Z",
     "start_time": "2020-06-25T05:21:46.880Z"
    }
   },
   "outputs": [
    {
     "name": "stdout",
     "output_type": "stream",
     "text": [
      "'data.frame':\t30 obs. of  7 variables:\n",
      " $ cust_no    : int  1 2 3 4 5 6 7 8 9 10 ...\n",
      " $ gender     : Factor w/ 2 levels \"남\",\"여\": 1 2 2 2 2 2 2 2 2 1 ...\n",
      " $ age        : Factor w/ 3 levels \"20대\",\"30대\",..: 2 1 1 3 2 2 1 1 2 3 ...\n",
      " $ job        : Factor w/ 2 levels \"NO\",\"YES\": 1 2 2 1 1 1 1 1 2 2 ...\n",
      " $ marry      : Factor w/ 2 levels \"NO\",\"YES\": 2 2 2 1 2 1 2 2 2 1 ...\n",
      " $ car        : Factor w/ 2 levels \"NO\",\"YES\": 1 2 1 1 1 2 1 2 1 2 ...\n",
      " $ cupon_react: Factor w/ 2 levels \"NO\",\"YES\": 1 1 1 1 1 1 1 2 2 1 ...\n"
     ]
    },
    {
     "data": {
      "text/html": [
       "<table>\n",
       "<thead><tr><th scope=col>cust_no</th><th scope=col>gender</th><th scope=col>age</th><th scope=col>job</th><th scope=col>marry</th><th scope=col>car</th><th scope=col>cupon_react</th></tr></thead>\n",
       "<tbody>\n",
       "\t<tr><td>1   </td><td>남  </td><td>30대</td><td>NO  </td><td>YES </td><td>NO  </td><td>NO  </td></tr>\n",
       "\t<tr><td>2   </td><td>여  </td><td>20대</td><td>YES </td><td>YES </td><td>YES </td><td>NO  </td></tr>\n",
       "\t<tr><td>3   </td><td>여  </td><td>20대</td><td>YES </td><td>YES </td><td>NO  </td><td>NO  </td></tr>\n",
       "\t<tr><td>4   </td><td>여  </td><td>40대</td><td>NO  </td><td>NO  </td><td>NO  </td><td>NO  </td></tr>\n",
       "\t<tr><td>5   </td><td>여  </td><td>30대</td><td>NO  </td><td>YES </td><td>NO  </td><td>NO  </td></tr>\n",
       "\t<tr><td>6   </td><td>여  </td><td>30대</td><td>NO  </td><td>NO  </td><td>YES </td><td>NO  </td></tr>\n",
       "</tbody>\n",
       "</table>\n"
      ],
      "text/latex": [
       "\\begin{tabular}{r|lllllll}\n",
       " cust\\_no & gender & age & job & marry & car & cupon\\_react\\\\\n",
       "\\hline\n",
       "\t 1    & 남   & 30대 & NO   & YES  & NO   & NO  \\\\\n",
       "\t 2    & 여   & 20대 & YES  & YES  & YES  & NO  \\\\\n",
       "\t 3    & 여   & 20대 & YES  & YES  & NO   & NO  \\\\\n",
       "\t 4    & 여   & 40대 & NO   & NO   & NO   & NO  \\\\\n",
       "\t 5    & 여   & 30대 & NO   & YES  & NO   & NO  \\\\\n",
       "\t 6    & 여   & 30대 & NO   & NO   & YES  & NO  \\\\\n",
       "\\end{tabular}\n"
      ],
      "text/markdown": [
       "\n",
       "| cust_no | gender | age | job | marry | car | cupon_react |\n",
       "|---|---|---|---|---|---|---|\n",
       "| 1    | 남   | 30대 | NO   | YES  | NO   | NO   |\n",
       "| 2    | 여   | 20대 | YES  | YES  | YES  | NO   |\n",
       "| 3    | 여   | 20대 | YES  | YES  | NO   | NO   |\n",
       "| 4    | 여   | 40대 | NO   | NO   | NO   | NO   |\n",
       "| 5    | 여   | 30대 | NO   | YES  | NO   | NO   |\n",
       "| 6    | 여   | 30대 | NO   | NO   | YES  | NO   |\n",
       "\n"
      ],
      "text/plain": [
       "  cust_no gender age  job marry car cupon_react\n",
       "1 1       남     30대 NO  YES   NO  NO         \n",
       "2 2       여     20대 YES YES   YES NO         \n",
       "3 3       여     20대 YES YES   NO  NO         \n",
       "4 4       여     40대 NO  NO    NO  NO         \n",
       "5 5       여     30대 NO  YES   NO  NO         \n",
       "6 6       여     30대 NO  NO    YES NO         "
      ]
     },
     "metadata": {},
     "output_type": "display_data"
    }
   ],
   "source": [
    "# 예제: 구매여부에 가장 큰 영향을 준 column을 찾기위해 정보획득량을 구하시오\n",
    "skin <- read.csv('skin.csv',head=T, stringsAsFactors = T)\n",
    "str(skin)\n",
    "head(skin)"
   ]
  },
  {
   "cell_type": "code",
   "execution_count": 2,
   "metadata": {
    "ExecuteTime": {
     "end_time": "2020-06-25T05:22:35.384841Z",
     "start_time": "2020-06-25T05:22:16.410Z"
    }
   },
   "outputs": [
    {
     "name": "stderr",
     "output_type": "stream",
     "text": [
      "Installing package into 'C:/Users/knitwill/Documents/R/win-library/3.6'\n",
      "(as 'lib' is unspecified)\n",
      "also installing the dependency 'entropy'\n",
      "\n"
     ]
    },
    {
     "name": "stdout",
     "output_type": "stream",
     "text": [
      "package 'entropy' successfully unpacked and MD5 sums checked\n",
      "package 'FSelector' successfully unpacked and MD5 sums checked\n",
      "\n",
      "The downloaded binary packages are in\n",
      "\tC:\\Users\\knitwill\\AppData\\Local\\Temp\\RtmpYBFqWl\\downloaded_packages\n"
     ]
    },
    {
     "name": "stderr",
     "output_type": "stream",
     "text": [
      "Warning message:\n",
      "\"package 'FSelector' was built under R version 3.6.3\""
     ]
    }
   ],
   "source": [
    "install.packages('FSelector')\n",
    "library(FSelector)"
   ]
  },
  {
   "cell_type": "code",
   "execution_count": 3,
   "metadata": {
    "ExecuteTime": {
     "end_time": "2020-06-25T05:23:42.222797Z",
     "start_time": "2020-06-25T05:23:42.022Z"
    }
   },
   "outputs": [
    {
     "name": "stdout",
     "output_type": "stream",
     "text": [
      "        attr_importance\n",
      "cust_no     0.000000000\n",
      "gender      0.116295990\n",
      "age         0.028169964\n",
      "job         0.019819441\n",
      "marry       0.323650198\n",
      "car         0.008690515\n"
     ]
    }
   ],
   "source": [
    "weights <- information.gain(cupon_react~., skin, unit='log2')\n",
    "print(weights)"
   ]
  },
  {
   "cell_type": "markdown",
   "metadata": {},
   "source": [
    "### ※ 문제239. 지방간을 일으키는 원인중에 가장 큰 영향력있는 요인이 무엇인지 정보획득량을 구해서 알아내시오\n",
    "    데이터 fatliver2.csv"
   ]
  },
  {
   "cell_type": "code",
   "execution_count": 4,
   "metadata": {
    "ExecuteTime": {
     "end_time": "2020-06-25T05:50:14.948558Z",
     "start_time": "2020-06-25T05:50:14.860Z"
    }
   },
   "outputs": [
    {
     "name": "stdout",
     "output_type": "stream",
     "text": [
      "'data.frame':\t510 obs. of  5 variables:\n",
      " $ AGE     : Factor w/ 8 levels \"10대\",\"20대\",..: 4 5 5 3 6 4 2 3 3 3 ...\n",
      " $ GENDER  : Factor w/ 2 levels \"남자\",\"여자\": 1 2 2 1 2 2 1 1 1 2 ...\n",
      " $ DRINK   : Factor w/ 2 levels \"음주많음\",\"음주적음\": 1 2 2 1 2 2 2 1 2 2 ...\n",
      " $ SMOKING : Factor w/ 2 levels \"금연\",\"흡연\": 1 1 1 2 1 1 1 1 2 1 ...\n",
      " $ FATLIVER: Factor w/ 2 levels \"no\",\"yes\": 2 1 1 1 1 1 2 2 1 1 ...\n",
      "        attr_importance\n",
      "AGE         0.032256902\n",
      "GENDER      0.028650604\n",
      "DRINK       0.012189492\n",
      "SMOKING     0.009812076\n"
     ]
    }
   ],
   "source": [
    "fat <- read.csv('fatliver2.csv',head=T,stringsAsFactors = T)\n",
    "str(fat)\n",
    "\n",
    "rs <- information.gain(FATLIVER~., fat, unit='log2')\n",
    "print(rs)"
   ]
  },
  {
   "cell_type": "code",
   "execution_count": 5,
   "metadata": {
    "ExecuteTime": {
     "end_time": "2020-06-25T05:53:25.177912Z",
     "start_time": "2020-06-25T05:53:11.692Z"
    }
   },
   "outputs": [
    {
     "name": "stderr",
     "output_type": "stream",
     "text": [
      "Installing package into 'C:/Users/knitwill/Documents/R/win-library/3.6'\n",
      "(as 'lib' is unspecified)\n",
      "also installing the dependencies 'libcoin', 'mvtnorm', 'Formula', 'inum', 'partykit', 'Cubist'\n",
      "\n"
     ]
    },
    {
     "name": "stdout",
     "output_type": "stream",
     "text": [
      "package 'libcoin' successfully unpacked and MD5 sums checked\n",
      "package 'mvtnorm' successfully unpacked and MD5 sums checked\n",
      "package 'Formula' successfully unpacked and MD5 sums checked\n",
      "package 'inum' successfully unpacked and MD5 sums checked\n",
      "package 'partykit' successfully unpacked and MD5 sums checked\n",
      "package 'Cubist' successfully unpacked and MD5 sums checked\n",
      "package 'C50' successfully unpacked and MD5 sums checked\n",
      "\n",
      "The downloaded binary packages are in\n",
      "\tC:\\Users\\knitwill\\AppData\\Local\\Temp\\RtmpYBFqWl\\downloaded_packages\n"
     ]
    },
    {
     "name": "stderr",
     "output_type": "stream",
     "text": [
      "Warning message:\n",
      "\"package 'C50' was built under R version 3.6.3\""
     ]
    }
   ],
   "source": [
    "# 1. 의사결정 패키지인 C50 패키지를 설치한다.\n",
    "install.packages(\"C50\")\n",
    "library(C50)"
   ]
  },
  {
   "cell_type": "code",
   "execution_count": 6,
   "metadata": {
    "ExecuteTime": {
     "end_time": "2020-06-25T05:55:55.206301Z",
     "start_time": "2020-06-25T05:55:55.146Z"
    }
   },
   "outputs": [
    {
     "data": {
      "text/html": [
       "30"
      ],
      "text/latex": [
       "30"
      ],
      "text/markdown": [
       "30"
      ],
      "text/plain": [
       "[1] 30"
      ]
     },
     "metadata": {},
     "output_type": "display_data"
    },
    {
     "data": {
      "text/html": [
       "29"
      ],
      "text/latex": [
       "29"
      ],
      "text/markdown": [
       "29"
      ],
      "text/plain": [
       "[1] 29"
      ]
     },
     "metadata": {},
     "output_type": "display_data"
    },
    {
     "data": {
      "text/html": [
       "<table>\n",
       "<thead><tr><th></th><th scope=col>cust_no</th><th scope=col>gender</th><th scope=col>age</th><th scope=col>job</th><th scope=col>marry</th><th scope=col>car</th><th scope=col>cupon_react</th></tr></thead>\n",
       "<tbody>\n",
       "\t<tr><th scope=row>30</th><td>30  </td><td>여  </td><td>40대</td><td>YES </td><td>YES </td><td>NO  </td><td>YES </td></tr>\n",
       "</tbody>\n",
       "</table>\n"
      ],
      "text/latex": [
       "\\begin{tabular}{r|lllllll}\n",
       "  & cust\\_no & gender & age & job & marry & car & cupon\\_react\\\\\n",
       "\\hline\n",
       "\t30 & 30   & 여   & 40대 & YES  & YES  & NO   & YES \\\\\n",
       "\\end{tabular}\n"
      ],
      "text/markdown": [
       "\n",
       "| <!--/--> | cust_no | gender | age | job | marry | car | cupon_react |\n",
       "|---|---|---|---|---|---|---|---|\n",
       "| 30 | 30   | 여   | 40대 | YES  | YES  | NO   | YES  |\n",
       "\n"
      ],
      "text/plain": [
       "   cust_no gender age  job marry car cupon_react\n",
       "30 30      여     40대 YES YES   NO  YES        "
      ]
     },
     "metadata": {},
     "output_type": "display_data"
    }
   ],
   "source": [
    "# 2. 백화점 화장품 고객 데이터를 로드하고 shuffle 한다.\n",
    "skin <- read.csv(\"skin.csv\", header=T )\n",
    "nrow(skin)\n",
    "\n",
    "skin_real_test_cust <- skin[30,  ] # 모델 생성 후 정확도를 올린 후 최종적으로 모델이 잘 맞추는지 확인하기 위해 한 건 제외\n",
    "skin2 <-  skin[ 1:29, ] \n",
    "nrow(skin2) \n",
    "\n",
    "skin_real_test_cust\n",
    "#cust_no gender age job marry car cupon_react\n",
    "#30      30 female  40 YES   YES  NO         YES\n",
    "\n",
    "skin2 <- skin2[ , -1] # 고객번호를 제외시킨다. \n",
    "\n",
    "set.seed(11)\n",
    "skin2_shuffle <- skin2[sample(nrow(skin2)),    ]  # shuffle 시킴 "
   ]
  },
  {
   "cell_type": "code",
   "execution_count": 7,
   "metadata": {
    "ExecuteTime": {
     "end_time": "2020-06-25T05:55:57.356244Z",
     "start_time": "2020-06-25T05:55:57.310Z"
    }
   },
   "outputs": [
    {
     "data": {
      "text/html": [
       "20"
      ],
      "text/latex": [
       "20"
      ],
      "text/markdown": [
       "20"
      ],
      "text/plain": [
       "[1] 20"
      ]
     },
     "metadata": {},
     "output_type": "display_data"
    },
    {
     "data": {
      "text/html": [
       "9"
      ],
      "text/latex": [
       "9"
      ],
      "text/markdown": [
       "9"
      ],
      "text/plain": [
       "[1] 9"
      ]
     },
     "metadata": {},
     "output_type": "display_data"
    }
   ],
   "source": [
    "# 3. 화장품 고객 데이터를 7대 3로 train 과 test 로 나눈다.\n",
    "train_num <-  round(0.7 * nrow(skin2_shuffle), 0) \n",
    "skin2_train <- skin2_shuffle[1:train_num,  ]  \n",
    "skin2_test  <- skin2_shuffle[(train_num+1) : nrow(skin2_shuffle), ] \n",
    "nrow(skin2_train)  # 20\n",
    "nrow(skin2_test)   #  9 "
   ]
  },
  {
   "cell_type": "code",
   "execution_count": 8,
   "metadata": {
    "ExecuteTime": {
     "end_time": "2020-06-25T05:55:58.476648Z",
     "start_time": "2020-06-25T05:55:58.184Z"
    }
   },
   "outputs": [
    {
     "name": "stdout",
     "output_type": "stream",
     "text": [
      "c50 code called exit with value 1\n"
     ]
    }
   ],
   "source": [
    "# 4. C50 패키지를 이용해서 분류 모델을 생성한다. \n",
    "library(C50)\n",
    "skin_model <- C5.0(skin2_train[  , -6],  skin2_train$cupon_react )  \n",
    "#                       ↑                        ↑\n",
    "#               라벨을 뺀 train 전체 data    train 데이터의 라벨 "
   ]
  },
  {
   "cell_type": "code",
   "execution_count": 9,
   "metadata": {
    "ExecuteTime": {
     "end_time": "2020-06-25T05:56:06.740081Z",
     "start_time": "2020-06-25T05:56:06.705Z"
    }
   },
   "outputs": [
    {
     "ename": "ERROR",
     "evalue": "Error in predict.C5.0(skin_model, skin2_test[, -6]): either a tree or rules must be provided\n",
     "output_type": "error",
     "traceback": [
      "Error in predict.C5.0(skin_model, skin2_test[, -6]): either a tree or rules must be provided\nTraceback:\n",
      "1. predict(skin_model, skin2_test[, -6])",
      "2. predict.C5.0(skin_model, skin2_test[, -6])"
     ]
    }
   ],
   "source": [
    "# 5. 위에서 만든 skin_model 를 이용해서 테스테 데이터의 라벨을 예측하시오!\n",
    "skin2_result  <- predict( skin_model , skin2_test[  , -6])\n",
    "#                                              ↑\n",
    "#                                   라벨을 뺀 테스트 데이터 전체 "
   ]
  },
  {
   "cell_type": "code",
   "execution_count": null,
   "metadata": {},
   "outputs": [],
   "source": [
    "# 6. 이원 교차표로 결과를 확인하시오 !\n",
    "library(gmodels)\n",
    "CrossTable( skin2_test[  , 6],  skin2_result ) "
   ]
  },
  {
   "cell_type": "markdown",
   "metadata": {},
   "source": [
    "### ※문제. 위의 의사결정트리의 성능을 높이시오 !"
   ]
  },
  {
   "cell_type": "code",
   "execution_count": null,
   "metadata": {},
   "outputs": [],
   "source": []
  },
  {
   "cell_type": "code",
   "execution_count": null,
   "metadata": {},
   "outputs": [],
   "source": []
  }
 ],
 "metadata": {
  "kernelspec": {
   "display_name": "R",
   "language": "R",
   "name": "ir"
  },
  "language_info": {
   "codemirror_mode": "r",
   "file_extension": ".r",
   "mimetype": "text/x-r-source",
   "name": "R",
   "pygments_lexer": "r",
   "version": "3.6.1"
  },
  "toc": {
   "base_numbering": 1,
   "nav_menu": {},
   "number_sections": true,
   "sideBar": true,
   "skip_h1_title": false,
   "title_cell": "Table of Contents",
   "title_sidebar": "Contents",
   "toc_cell": false,
   "toc_position": {},
   "toc_section_display": true,
   "toc_window_display": false
  },
  "varInspector": {
   "cols": {
    "lenName": 16,
    "lenType": 16,
    "lenVar": 40
   },
   "kernels_config": {
    "python": {
     "delete_cmd_postfix": "",
     "delete_cmd_prefix": "del ",
     "library": "var_list.py",
     "varRefreshCmd": "print(var_dic_list())"
    },
    "r": {
     "delete_cmd_postfix": ") ",
     "delete_cmd_prefix": "rm(",
     "library": "var_list.r",
     "varRefreshCmd": "cat(var_dic_list()) "
    }
   },
   "types_to_exclude": [
    "module",
    "function",
    "builtin_function_or_method",
    "instance",
    "_Feature"
   ],
   "window_display": false
  }
 },
 "nbformat": 4,
 "nbformat_minor": 4
}
