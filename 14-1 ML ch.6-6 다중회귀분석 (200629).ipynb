{
 "cells": [
  {
   "cell_type": "markdown",
   "metadata": {},
   "source": [
    "# ■ 회귀분석\n",
    "    1. 단순 회귀분석\n",
    "        - 단순 회귀분석 이론 \n",
    "        - 단순 회귀분석 실습1 : 애벌레 사료와 탄닌 함유량과의 관계\n",
    "        - 단순 회귀분석 실습2 : 우주 왕복선 챌린저 폭파원인\n",
    "        - 상관관계 ( 다중회귀 -> 다중공선성(multicolinearity)\n",
    "        - 자동화 스크립트 개선 ( 산포도 그래프 + 회귀직선 추가 )            \n",
    "    2. 다중 회귀분석\n",
    "        "
   ]
  },
  {
   "cell_type": "markdown",
   "metadata": {},
   "source": [
    "## ■ 다중회귀분석\n",
    "```\n",
    "    단순선형회귀분석 -> 목적이 하나의 독립변수만을 가지고 종속변수를 예측하기 위한 회귀모형을 만들기 위한 것\n",
    "    다중회귀분석 -> 목적이 여러개의 독립변수들을 가지고 종속변수를 예측하기 위한 회귀모형을 만들기 위한 것\n",
    "```\n",
    "```\n",
    "    질문1. 집 값에 영향을 미치는 요소가 여러 독립 변수들 중 무엇?\n",
    "```\n",
    "\n",
    "![다중회귀식](http://cfile259.uf.daum.net/image/9923BA3E5EF897C425BDC1)"
   ]
  },
  {
   "cell_type": "markdown",
   "metadata": {},
   "source": [
    "### □ 다중선형 회귀식을 이해하기 위한 사전 지식\n",
    "```\n",
    "        1. 전치행렬 : 행과 열을 교환하여 얻은 행렬\n",
    "        2. 단위행렬 : 주 대각선의 원소가 모두 1이며 나머지 원소는 모두 0인 정사각 행렬\n",
    "        3. 역행렬 : 원래 행렬과 곱했을때 단위행렬이 되는 행렬\n",
    "```\n",
    "![역행렬](http://cfile263.uf.daum.net/image/99DB88335A0BB5441C52A3)\n",
    "```\n",
    "        4. 의사역행렬(Pseudo inverse matrix) \n",
    "            역행렬은 정방행렬일 때만 구할 수 있다. 따라서 직사각행렬일 때는 역행렬을 구할 수 없으므로 의사역행렬을 구해야한다\n",
    "            - 정방행렬\n",
    "```\n",
    "$$B=\\begin{pmatrix} a & b \\\\  c & d \\\\  \\end{pmatrix}$$\n",
    "$$B^{-1}={{1}\\over{ad-bc}}\\begin{pmatrix} d & -b \\\\ -c & a \\\\ \\end{pmatrix}$$\n",
    "```\n",
    "            - 비 정방행렬\n",
    "```\n",
    "$$A=\\begin{pmatrix} x_{11} & x_{12} & x_{13} & x_{14} \\\\ x_{21} & x_{22} & x_{23} & x_{24} \\\\ x_{31} & x_{32} & x_{33} & x_{34} \\\\ \\end{pmatrix}$$\n",
    "$$A \\cdot A^{T} : 정방행렬　　det(A)≠0　일　때　역행렬이　존재$$"
   ]
  },
  {
   "cell_type": "markdown",
   "metadata": {},
   "source": [
    "### ※ 문제255. 아래의 행렬을 r로 구현하고 아래의 행렬의 전치행렬을 구하시오\n",
    "$$ \\begin{pmatrix}\n",
    "    1 & 2 \\\\\n",
    "    3 & 4 \\\\\n",
    "    5 & 6 \\\\\n",
    "    \\end{pmatrix}$$"
   ]
  },
  {
   "cell_type": "code",
   "execution_count": 1,
   "metadata": {
    "ExecuteTime": {
     "end_time": "2020-06-29T01:06:01.445489Z",
     "start_time": "2020-06-29T01:06:01.374Z"
    }
   },
   "outputs": [
    {
     "data": {
      "text/html": [
       "<table>\n",
       "<tbody>\n",
       "\t<tr><td>1</td><td>2</td><td>3</td></tr>\n",
       "\t<tr><td>4</td><td>5</td><td>6</td></tr>\n",
       "</tbody>\n",
       "</table>\n"
      ],
      "text/latex": [
       "\\begin{tabular}{lll}\n",
       "\t 1 & 2 & 3\\\\\n",
       "\t 4 & 5 & 6\\\\\n",
       "\\end{tabular}\n"
      ],
      "text/markdown": [
       "\n",
       "| 1 | 2 | 3 |\n",
       "| 4 | 5 | 6 |\n",
       "\n"
      ],
      "text/plain": [
       "     [,1] [,2] [,3]\n",
       "[1,] 1    2    3   \n",
       "[2,] 4    5    6   "
      ]
     },
     "metadata": {},
     "output_type": "display_data"
    }
   ],
   "source": [
    "A <- matrix(c(1,2,3,4,5,6), nrow = 3, ncol = 2, byrow=T)\n",
    "A\n",
    "t(A)"
   ]
  },
  {
   "cell_type": "markdown",
   "metadata": {},
   "source": [
    "### ※ 문제256. 아래의 행렬의 곱을 구현하시오\n",
    "$$ \\begin{pmatrix}\n",
    "    1 & 2 & 3 \\\\\n",
    "    2 & 3 & 4 \\\\\n",
    "    \\end{pmatrix}*\n",
    "    \\begin{pmatrix}\n",
    "    1 & 0 & 0 \\\\\n",
    "    0 & 1 & 0 \\\\\n",
    "    0 & 0 & 1 \\\\\n",
    "    \\end{pmatrix} $$"
   ]
  },
  {
   "cell_type": "code",
   "execution_count": 7,
   "metadata": {
    "ExecuteTime": {
     "end_time": "2020-06-29T01:16:33.836829Z",
     "start_time": "2020-06-29T01:16:33.802Z"
    }
   },
   "outputs": [
    {
     "data": {
      "text/html": [
       "<table>\n",
       "<tbody>\n",
       "\t<tr><td>1</td><td>2</td><td>3</td></tr>\n",
       "\t<tr><td>2</td><td>3</td><td>4</td></tr>\n",
       "</tbody>\n",
       "</table>\n"
      ],
      "text/latex": [
       "\\begin{tabular}{lll}\n",
       "\t 1 & 2 & 3\\\\\n",
       "\t 2 & 3 & 4\\\\\n",
       "\\end{tabular}\n"
      ],
      "text/markdown": [
       "\n",
       "| 1 | 2 | 3 |\n",
       "| 2 | 3 | 4 |\n",
       "\n"
      ],
      "text/plain": [
       "     [,1] [,2] [,3]\n",
       "[1,] 1    2    3   \n",
       "[2,] 2    3    4   "
      ]
     },
     "metadata": {},
     "output_type": "display_data"
    }
   ],
   "source": [
    "b <- matrix(c(1,2,3,2,3,4),nrow=2,ncol=3, byrow=T)\n",
    "i <- diag(3)\n",
    "b%*%i"
   ]
  },
  {
   "cell_type": "markdown",
   "metadata": {},
   "source": [
    "### ※ 문제257. 역행렬구하기\n",
    "$$\\begin{pmatrix}\n",
    "    1 & 2 \\\\\n",
    "    3 & 4 \\\\\n",
    "    \\end{pmatrix}\n",
    "    \\begin{pmatrix}\n",
    "    x_{11} & x_{12} \\\\\n",
    "    x_{21} & x_{22} \\\\\n",
    "    \\end{pmatrix}=\\begin{pmatrix}\n",
    "    1 & 0 \\\\\n",
    "    0 & 1 \\\\\n",
    "    \\end{pmatrix}$$"
   ]
  },
  {
   "cell_type": "code",
   "execution_count": 8,
   "metadata": {
    "ExecuteTime": {
     "end_time": "2020-06-29T01:42:07.175695Z",
     "start_time": "2020-06-29T01:42:07.040Z"
    }
   },
   "outputs": [
    {
     "data": {
      "text/html": [
       "<table>\n",
       "<tbody>\n",
       "\t<tr><td>-2.0</td><td> 1.0</td></tr>\n",
       "\t<tr><td> 1.5</td><td>-0.5</td></tr>\n",
       "</tbody>\n",
       "</table>\n"
      ],
      "text/latex": [
       "\\begin{tabular}{ll}\n",
       "\t -2.0 &  1.0\\\\\n",
       "\t  1.5 & -0.5\\\\\n",
       "\\end{tabular}\n"
      ],
      "text/markdown": [
       "\n",
       "| -2.0 |  1.0 |\n",
       "|  1.5 | -0.5 |\n",
       "\n"
      ],
      "text/plain": [
       "     [,1] [,2]\n",
       "[1,] -2.0  1.0\n",
       "[2,]  1.5 -0.5"
      ]
     },
     "metadata": {},
     "output_type": "display_data"
    },
    {
     "data": {
      "text/html": [
       "<table>\n",
       "<tbody>\n",
       "\t<tr><td>1</td><td>0</td></tr>\n",
       "\t<tr><td>0</td><td>1</td></tr>\n",
       "</tbody>\n",
       "</table>\n"
      ],
      "text/latex": [
       "\\begin{tabular}{ll}\n",
       "\t 1 & 0\\\\\n",
       "\t 0 & 1\\\\\n",
       "\\end{tabular}\n"
      ],
      "text/markdown": [
       "\n",
       "| 1 | 0 |\n",
       "| 0 | 1 |\n",
       "\n"
      ],
      "text/plain": [
       "     [,1] [,2]\n",
       "[1,] 1    0   \n",
       "[2,] 0    1   "
      ]
     },
     "metadata": {},
     "output_type": "display_data"
    }
   ],
   "source": [
    "A <- matrix(c(1,2,3,4),nrow=2,ncol=2, byrow=T)\n",
    "solve(A)\n",
    "round(A %*% solve(A))"
   ]
  },
  {
   "cell_type": "markdown",
   "metadata": {},
   "source": [
    "### ※ 문제258. 의사역행렬로 구한 다중 회귀식의 회귀 계수를 구하는 함수를 책 264페이지를 보고 구현하시오\n",
    "$$ Y= X\\beta + \\epsilon,　　　　　 \\hat{\\beta}=(X^{T}X)^{-1}X^{T}Y$$"
   ]
  },
  {
   "cell_type": "code",
   "execution_count": 12,
   "metadata": {
    "ExecuteTime": {
     "end_time": "2020-06-29T02:10:13.370708Z",
     "start_time": "2020-06-29T02:10:13.344Z"
    }
   },
   "outputs": [],
   "source": [
    "reg <- function(y, x){\n",
    "    x <- as.matrix(x)\n",
    "    x <- cbind(intercept=1,x)\n",
    "    b <- solve(t(x)%*%x)%*%t(x)%*%y\n",
    "    colnames(b) <- 'estimate'\n",
    "    print(b)\n",
    "}"
   ]
  },
  {
   "cell_type": "markdown",
   "metadata": {},
   "source": [
    "    단순회귀분석 예시 : 챌린저호의 폭파원인 -> 온도, O형 링의 파손수 만 사용해서 분석\n",
    "    다중회귀분석 예시 :          ~         -> 비행기번호, 압력 다 사용해서 분석"
   ]
  },
  {
   "cell_type": "markdown",
   "metadata": {},
   "source": [
    "### ※ 문제259. O형링 폭파 원인에 가장 영향을 미친 요소가 온도, 비행기 번호, 압력인지 위에서 만든 reg 함수로 알아내시오"
   ]
  },
  {
   "cell_type": "code",
   "execution_count": 13,
   "metadata": {
    "ExecuteTime": {
     "end_time": "2020-06-29T02:10:15.165993Z",
     "start_time": "2020-06-29T02:10:15.133Z"
    }
   },
   "outputs": [
    {
     "name": "stdout",
     "output_type": "stream",
     "text": [
      "                         estimate\n",
      "intercept             3.527093383\n",
      "temperature          -0.051385940\n",
      "field_check_pressure  0.001757009\n",
      "flight_num            0.014292843\n"
     ]
    }
   ],
   "source": [
    "launch <- read.csv('challenger.csv',head=T)\n",
    "lnch2 <- launch[,-1]\n",
    "reg(y=launch$distress_ct,lnch2)"
   ]
  },
  {
   "cell_type": "markdown",
   "metadata": {},
   "source": [
    "```\n",
    "    O형링 파손에 영향을 주는 가장 큰 독립변수 : temperature -0.051385940\n",
    "    그 다음 변수 : flight_num 0.014292843\n",
    "```\n",
    "$$ \\hat{y}=3.527093383 - 0.051385940\\cdot X_{1} + 0.001577009\\cdot X_{2} + 0.014292843\\cdot X_{3} $$\n",
    "```\n",
    "    온도만 가지고 단순회귀식을 도출해보면\n",
    "```\n",
    "$$ \\hat{y}=3.70 - 0.048\\cdot x_{1}$$\n",
    "```\n",
    "     ea          temp(Ｆ)\n",
    "    2.21          31Ｆ\n",
    "    0.82          60Ｆ\n",
    "    0.34          70Ｆ\n",
    "```\n",
    "    화씨 30도에서 발사하는 것이 화씨 60도에서 발사하는 것 보다 3배 더 위험\n",
    "    화씨 70도에서 발사하는 것보다 7-8배 위험"
   ]
  },
  {
   "cell_type": "code",
   "execution_count": null,
   "metadata": {},
   "outputs": [],
   "source": []
  },
  {
   "cell_type": "code",
   "execution_count": null,
   "metadata": {},
   "outputs": [],
   "source": []
  },
  {
   "cell_type": "code",
   "execution_count": null,
   "metadata": {},
   "outputs": [],
   "source": []
  },
  {
   "cell_type": "code",
   "execution_count": null,
   "metadata": {},
   "outputs": [],
   "source": []
  },
  {
   "cell_type": "code",
   "execution_count": null,
   "metadata": {},
   "outputs": [],
   "source": []
  },
  {
   "cell_type": "code",
   "execution_count": null,
   "metadata": {},
   "outputs": [],
   "source": []
  },
  {
   "cell_type": "code",
   "execution_count": null,
   "metadata": {},
   "outputs": [],
   "source": []
  }
 ],
 "metadata": {
  "kernelspec": {
   "display_name": "R",
   "language": "R",
   "name": "ir"
  },
  "language_info": {
   "codemirror_mode": "r",
   "file_extension": ".r",
   "mimetype": "text/x-r-source",
   "name": "R",
   "pygments_lexer": "r",
   "version": "3.6.1"
  },
  "toc": {
   "base_numbering": 1,
   "nav_menu": {},
   "number_sections": true,
   "sideBar": true,
   "skip_h1_title": false,
   "title_cell": "Table of Contents",
   "title_sidebar": "Contents",
   "toc_cell": false,
   "toc_position": {},
   "toc_section_display": true,
   "toc_window_display": false
  },
  "varInspector": {
   "cols": {
    "lenName": 16,
    "lenType": 16,
    "lenVar": 40
   },
   "kernels_config": {
    "python": {
     "delete_cmd_postfix": "",
     "delete_cmd_prefix": "del ",
     "library": "var_list.py",
     "varRefreshCmd": "print(var_dic_list())"
    },
    "r": {
     "delete_cmd_postfix": ") ",
     "delete_cmd_prefix": "rm(",
     "library": "var_list.r",
     "varRefreshCmd": "cat(var_dic_list()) "
    }
   },
   "types_to_exclude": [
    "module",
    "function",
    "builtin_function_or_method",
    "instance",
    "_Feature"
   ],
   "window_display": false
  }
 },
 "nbformat": 4,
 "nbformat_minor": 4
}
