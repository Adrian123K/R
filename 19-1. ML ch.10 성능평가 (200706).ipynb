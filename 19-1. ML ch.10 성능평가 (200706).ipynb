{
 "cells": [
  {
   "cell_type": "markdown",
   "metadata": {},
   "source": [
    "## <b>■ 모델 성능평가</b>\n",
    "\n",
    "    학습목표: 앞에서는 우리가 여러 머신러닝 모델을 생성해보았습니다.\n",
    "    여러가지 머신러닝 모델에서 현재 분석하는 데이터에 맞는 모델은 이 모델이다! 라고 판단할 수 있게 하는데\n",
    "    도움을 주는 내용이 바로 이번 장의 내용입니다\n",
    "\n",
    "    면접질문1. 제출한 데이터 분석 포트폴리오의 분석 모델로 이 머신러닝 모델을 선택한 이유가 무엇입니까?\n",
    "        답: 모델 성능 평가를 통해서 확인한 결과 해당 머신러닝 모델이 가장 우수했기 때문입니다.\n",
    "\n",
    "### <b>■ 모델 성능평가가 중요한 이유?</b>\n",
    "\n",
    "    머신러닝이 수행한 결과(분류/예측)에 대한 공정한 평가를 통해\n",
    "    머신러닝이 앞으로도 미래의 데이터에 대해 잘 분류하고 예측할 수 있도록 해주고\n",
    "    분류결과가 요행으로 맞힌 것이 아니라는 것을 확인할 수 있게 해줌과 동시에 분류결과 일반화 가능하기 때문\n",
    "\n",
    "### <b>■ 그동안 성능평가에서 사용한 방법?</b>\n",
    "\n",
    "    정확도\n",
    "\n",
    "### <b>■ 정확도란?</b>\n",
    "\n",
    "    학습자가 맞거나 틀린 비율을 의미\n",
    "\n",
    "### <b>■ 모델 성능평가를 위해 정확도만으로는 충분하지 않은 이유?</b>\n",
    "\n",
    "    암 판정을 하는 분류기가 99%의 정확도를 가지고 있다면 1%의 오류율을 보유하고 있기 때문에\n",
    "    어떤 데이터에 대해서는 오류를 범할 수도 있다는 가능성이 여전히 존재\n",
    "    정확도만으로는 성능을 측정하는데 충분하지가 않기에 정확도와 더불어 분류기의 유용성을 판단할 수 있는\n",
    "    또다른 성능 척도를 정의하는 것이 중요 ! '정확도+성능척도'\n",
    " \n",
    "\n",
    "### <b>■ 다른 성능척도에는 어떤것이 존재?</b>\n",
    "\n",
    "    Kappa 통계량\n",
    "    민감도와 특이도\n",
    "    정밀도와 재현율\n",
    "    Roc 곡선\n",
    "        ex. 기존의 갑상샘 환자들의 경우 한 쪽만 제거했을 때 다른 한 쪽에 암이 발생할 확률이 % -> 한 쪽만 제거\n",
    "        \n",
    "### <b>■ 정확도 계산하는 방법(이원교차표 분석)</b>\n",
    "                Positive           Negative\n",
    "    Positive      TP=20              FP=20\n",
    "    Negative      FN=100             TN=880\n",
    "    \n",
    "        TP(True Positive) : 기계가 병이 있다고 예측했는데 맞힌 경우\n",
    "        FP(False Positive) : 기계가 병이 없다고 예측했는데 맞힌 경우\n",
    "        TN(True Negative) : 기계가 병이 있다고 예측했는데 틀린 경우\n",
    "        FN(False Negative) : 기계가 병이 없다고 예측했는데 틀힌 경우\n",
    "            → 병원에서는 FN이 0이어야 좋음"
   ]
  },
  {
   "cell_type": "markdown",
   "metadata": {},
   "source": [
    "### <b>■ 카파 통계량 (p.449)</b>\n",
    "<b>$\\kappa$ 통계량 : 두 관찰자간의 측정 범주 값에 대한 일치도를 측정하는 방법</b><br>\n",
    "$$\\kappa = {{Pr(a)-Pr(e)}\\over {1-Pr(e)}}$$<br>\n",
    "<center><b> Pr(a)</b>　: 데이터에서 관찰된 2명의 평가자들의 일치확률<br>\n",
    "    <b>Pr(e)</b>　: 2명의 평가자들이 데이터로부터 계산된 확률적 일치확률 (우연히 일치할 확률)<br>\n",
    "    <b>$\\kappa$가 0이면 완전 불일치이고, 1이면 완전 일치</b></center><br>\n",
    "\n",
    "    예시: 시험을 응시한 학생이 100명이라고 할 때, 2명의 평가자가 합격, 불합격을 각각 판정하고 두 평가자의 일치도를 아래와 같이 보여준다.\n",
    "                               평가자A\n",
    "                          합격          불합격\n",
    "        평가자 B합격       40            10       50\n",
    "              불합격       20            30       50\n",
    "                          60            40\n",
    "<center><b>Pr(a)</b> : 데이터에서 관찰된 두 평가자들의 일치확률<br><br></center>\n",
    "$$Pr(a)={{40+30}\\over {100}}=0.7$$<br><br>\n",
    "    <center><b>Pr(e)</b> : 2명의 평가자들이 데이터로부터 계산된 확률적 일치확률<br><br>\n",
    "            <b> 평가자A는 합격을 60명, 불합격을 40명 주었다.</b><br>\n",
    "            <b> 평가자A는 합격확률 60% 의 확률, 불합격확률 40% 의 확률</b><br>\n",
    "            <b> 평가자B는 합격을 50명, 불합격을 50명 주었다.</b><br>\n",
    "        <b> 평가자B는 합격확률 50%의 확률, 불합격확률 50%의 확률</b></center><br><br>\n",
    "    <center><b>평가자 A와 평가자 B가 모두 '합격'을 줄 확률?</b></center>\n",
    "$$0.6\\times 0.5=0.3$$<br>\n",
    "    <center><b>평가자 A와 평가자 B가 모두 '불합격'을 줄 확률?</b></center>\n",
    "$$0.4\\times 0.5=0.2$$<br>\n",
    "    <center><b>Pr(e)는 이 둘을 더해서 $0.3+0.2=0.5$</b><br></center>\n",
    "        $$∴\\kappa = {{0.7-0.5}\\over{1-0.5}}=0.4　(보통일치)$$<br>\n",
    "        \n",
    "#### <b>※ 정확도 뿐만 아니라 kappa지수도 같이 설명하면서 이 모델에서 나온 정확도가 우연히 나온게 아니다 라는 것을 합리적으로 설명</b>"
   ]
  },
  {
   "cell_type": "markdown",
   "metadata": {},
   "source": [
    "### <b>■ 민감도와 특이도(p.454)</b>\n",
    "    유용한 분류기를 찾으려면 지나치게 보수적인 예측과 지나치게 공격적인 예측사이에서의 균형이 필요\n",
    "    \n",
    "    보수적인 예측과 공격적인 예측에 대한 것을 정하는 기준이 되는 정보가 민감도와 특이도\n",
    "\n",
    "<b><h3>민감도</h3><br> $${{TP}\\over {TP+FN}}$$<br><br>\n",
    "    실제 참인 것 중에서 참이라고 예측한 비율<br>\n",
    "    실제 구매한 사람 중에서 구매할 것이라고 예측한 사람의 비율</b><br><br>\n",
    "    \n",
    "<b><h3>특이도</h3><br> $${{TN}\\over {TN+FP}}$$<br><br>\n",
    "    실제 거짓인 것 중에 거짓으로 예측한 비율<br>\n",
    "    실제 구매안 한 사람중에서 구매안 할 것으로 예측한 사람의 비율</b>\n",
    "    \n",
    "    민감도와 특이도는 0~1까지의 범위에 있으며, 값이 1에 가까울수록 바람직하나 실제로 한쪽이 높으면 한쪽이 낮아져서 둘 다 높게 맞출 수 없다.\n",
    "    그래서 여러 모델 중 하나를 선택해야한다면 민감도를 최고로 높게 맞춰놓고 그중에서 특이도가 높은 것을 선택"
   ]
  },
  {
   "cell_type": "markdown",
   "metadata": {},
   "source": [
    "### ※ 문제293.(이원교차표 그리기) sms_result.csv를 로드해서 이원 교차표를 그리시오"
   ]
  },
  {
   "cell_type": "code",
   "execution_count": 3,
   "metadata": {
    "ExecuteTime": {
     "end_time": "2020-07-06T03:13:56.733044Z",
     "start_time": "2020-07-06T03:13:56.681Z"
    }
   },
   "outputs": [
    {
     "data": {
      "text/html": [
       "<table>\n",
       "<thead><tr><th scope=col>actual_type</th><th scope=col>predict_type</th><th scope=col>prob_spam</th><th scope=col>prob_ham</th></tr></thead>\n",
       "<tbody>\n",
       "\t<tr><td>ham    </td><td>ham    </td><td>0.00000</td><td>1.00000</td></tr>\n",
       "\t<tr><td>ham    </td><td>ham    </td><td>0.00000</td><td>1.00000</td></tr>\n",
       "\t<tr><td>ham    </td><td>ham    </td><td>0.00016</td><td>0.99984</td></tr>\n",
       "\t<tr><td>ham    </td><td>ham    </td><td>0.00004</td><td>0.99996</td></tr>\n",
       "\t<tr><td>spam   </td><td>spam   </td><td>1.00000</td><td>0.00000</td></tr>\n",
       "\t<tr><td>ham    </td><td>ham    </td><td>0.00020</td><td>0.99980</td></tr>\n",
       "</tbody>\n",
       "</table>\n"
      ],
      "text/latex": [
       "\\begin{tabular}{r|llll}\n",
       " actual\\_type & predict\\_type & prob\\_spam & prob\\_ham\\\\\n",
       "\\hline\n",
       "\t ham     & ham     & 0.00000 & 1.00000\\\\\n",
       "\t ham     & ham     & 0.00000 & 1.00000\\\\\n",
       "\t ham     & ham     & 0.00016 & 0.99984\\\\\n",
       "\t ham     & ham     & 0.00004 & 0.99996\\\\\n",
       "\t spam    & spam    & 1.00000 & 0.00000\\\\\n",
       "\t ham     & ham     & 0.00020 & 0.99980\\\\\n",
       "\\end{tabular}\n"
      ],
      "text/markdown": [
       "\n",
       "| actual_type | predict_type | prob_spam | prob_ham |\n",
       "|---|---|---|---|\n",
       "| ham     | ham     | 0.00000 | 1.00000 |\n",
       "| ham     | ham     | 0.00000 | 1.00000 |\n",
       "| ham     | ham     | 0.00016 | 0.99984 |\n",
       "| ham     | ham     | 0.00004 | 0.99996 |\n",
       "| spam    | spam    | 1.00000 | 0.00000 |\n",
       "| ham     | ham     | 0.00020 | 0.99980 |\n",
       "\n"
      ],
      "text/plain": [
       "  actual_type predict_type prob_spam prob_ham\n",
       "1 ham         ham          0.00000   1.00000 \n",
       "2 ham         ham          0.00000   1.00000 \n",
       "3 ham         ham          0.00016   0.99984 \n",
       "4 ham         ham          0.00004   0.99996 \n",
       "5 spam        spam         1.00000   0.00000 \n",
       "6 ham         ham          0.00020   0.99980 "
      ]
     },
     "metadata": {},
     "output_type": "display_data"
    }
   ],
   "source": [
    "# 1. 데이터 확인\n",
    "sms_result <- read.csv('sms_results.csv')\n",
    "head(sms_result)"
   ]
  },
  {
   "cell_type": "code",
   "execution_count": 5,
   "metadata": {
    "ExecuteTime": {
     "end_time": "2020-07-06T03:15:28.920406Z",
     "start_time": "2020-07-06T03:15:28.435Z"
    }
   },
   "outputs": [
    {
     "name": "stderr",
     "output_type": "stream",
     "text": [
      "Warning message:\n",
      "\"package 'gmodels' was built under R version 3.6.3\""
     ]
    },
    {
     "name": "stdout",
     "output_type": "stream",
     "text": [
      "\n",
      " \n",
      "   Cell Contents\n",
      "|-------------------------|\n",
      "|                       N |\n",
      "| Chi-square contribution |\n",
      "|           N / Row Total |\n",
      "|           N / Col Total |\n",
      "|         N / Table Total |\n",
      "|-------------------------|\n",
      "\n",
      " \n",
      "Total Observations in Table:  1390 \n",
      "\n",
      " \n",
      "                | sms_result[, 1] \n",
      "sms_result[, 2] |       ham |      spam | Row Total | \n",
      "----------------|-----------|-----------|-----------|\n",
      "            ham |      1203 |        31 |      1234 | \n",
      "                |    16.128 |   106.377 |           | \n",
      "                |     0.975 |     0.025 |     0.888 | \n",
      "                |     0.997 |     0.169 |           | \n",
      "                |     0.865 |     0.022 |           | \n",
      "----------------|-----------|-----------|-----------|\n",
      "           spam |         4 |       152 |       156 | \n",
      "                |   127.580 |   841.470 |           | \n",
      "                |     0.026 |     0.974 |     0.112 | \n",
      "                |     0.003 |     0.831 |           | \n",
      "                |     0.003 |     0.109 |           | \n",
      "----------------|-----------|-----------|-----------|\n",
      "   Column Total |      1207 |       183 |      1390 | \n",
      "                |     0.868 |     0.132 |           | \n",
      "----------------|-----------|-----------|-----------|\n",
      "\n",
      " \n"
     ]
    }
   ],
   "source": [
    "# 2. 이원교차표 그리기\n",
    "library(gmodels)\n",
    "CrossTable(sms_result[,2],sms_result[,1])"
   ]
  },
  {
   "cell_type": "markdown",
   "metadata": {},
   "source": [
    "## <b>■ 정밀도와 재현율</b>\n",
    "<b><h3> 정밀도</h></b> <br>\n",
    "<b>참인 것으로 예측한 것 중에 실제 참인 것의 비율<br>\n",
    "구매할 것으로 예측한 사람중에서 실제 구매한 사람의 비율<br></b>\n",
    "$${{TP}\\over {TP+FP}}={{20}\\over {20+90}}=0.1818$$<br>\n",
    "\n",
    "<b><h3> 재현율</h></b> <br>\n",
    "<b>실제 참인 것 중에서 참이라고 예측한 비율<br>\n",
    "실제 구매한 사람들 중에서 구매할 것이라 예측한 사람의 비율</b>\n",
    "$${{TP}\\over {TP+FN}}={{20}\\over {20+10}}=0.6667　(민감도와 동일)$$\n",
    "\n",
    "    1. 소극적 예측\n",
    "        암이라고 판단하는 것 자체를 소극적으로 관측하여 확실한 경우가 아니라면 암으로 판단하지 않는 것\n",
    "        정밀도↑, 재현율↓\n",
    "        \n",
    "    2. 공격적 예측\n",
    "        조금만 의심이 가도 암으로 판단하는 것\n",
    "        정밀도↓, 재현율↑\n",
    "        \n",
    "## <b>■ ROC 곡선(Receiver Operating Characteristic Curve)</b>\n",
    "    민감도와 특이도가 어떤 관계를 갖는지 표현한 그래프\n",
    "![roccurve](https://img1.daumcdn.net/thumb/R1280x0/?scode=mtistory2&fname=http%3A%2F%2Fcfile28.uf.tistory.com%2Fimage%2F262E8E3F544837AD274972)\n",
    "\n",
    "    AUC (Area Under the ROC Curve)\n",
    "        ROC curve 아래쪽 면적이 넓을 수록 좋은 분류"
   ]
  },
  {
   "cell_type": "markdown",
   "metadata": {},
   "source": [
    "### ※ 면접 질문으로 오전에 배웠던 내용 정리\n",
    "    면접질문2. 정확도 외에 머신러닝 모델을 평가하는 척도가 무엇이 있는가?\n",
    "        답: 카파통계량, 민감도, 특이도, 정밀도, 재현율, ROC curve, AUC\n",
    "    \n",
    "    면접질문3. 카파통계량이란?\n",
    "        답: ML 모델이 출력한 정확도가 우연히 나온 것인지 아닌지를 나타낸 지표, 두 관찰자간의 측정값에 대한 일치도\n",
    "    \n",
    "    면접질문4. 정확도가 비슷한 두 모델이 있고 그 중 하나의 모델을 선택해야 한다면?\n",
    "        답: 민감도를 최대한 올려놓고 민감도가 비슷하다면 특이도가 가장 높은 모델을 선택"
   ]
  },
  {
   "cell_type": "markdown",
   "metadata": {},
   "source": [
    "### <b>■ 모델 성능 평가를 위한 실습</b>\n",
    "    1. 이원교차표\n",
    "    2. 정확도\n",
    "    3. 카파통계량\n",
    "    4. 민감도\n",
    "    5. 특이도\n",
    "    6. 정밀도\n",
    "    7. 재현율\n",
    "    8. ROC curve와 AUC"
   ]
  },
  {
   "cell_type": "code",
   "execution_count": null,
   "metadata": {},
   "outputs": [],
   "source": []
  },
  {
   "cell_type": "code",
   "execution_count": null,
   "metadata": {},
   "outputs": [],
   "source": []
  }
 ],
 "metadata": {
  "kernelspec": {
   "display_name": "R",
   "language": "R",
   "name": "ir"
  },
  "toc": {
   "base_numbering": 1,
   "nav_menu": {},
   "number_sections": true,
   "sideBar": true,
   "skip_h1_title": false,
   "title_cell": "Table of Contents",
   "title_sidebar": "Contents",
   "toc_cell": false,
   "toc_position": {},
   "toc_section_display": true,
   "toc_window_display": false
  },
  "varInspector": {
   "cols": {
    "lenName": 16,
    "lenType": 16,
    "lenVar": 40
   },
   "kernels_config": {
    "python": {
     "delete_cmd_postfix": "",
     "delete_cmd_prefix": "del ",
     "library": "var_list.py",
     "varRefreshCmd": "print(var_dic_list())"
    },
    "r": {
     "delete_cmd_postfix": ") ",
     "delete_cmd_prefix": "rm(",
     "library": "var_list.r",
     "varRefreshCmd": "cat(var_dic_list()) "
    }
   },
   "types_to_exclude": [
    "module",
    "function",
    "builtin_function_or_method",
    "instance",
    "_Feature"
   ],
   "window_display": false
  }
 },
 "nbformat": 4,
 "nbformat_minor": 4
}
