{
 "cells": [
  {
   "cell_type": "markdown",
   "metadata": {},
   "source": [
    "## <b>■ 와인 데이터의 모델트리</b>"
   ]
  },
  {
   "cell_type": "code",
   "execution_count": 3,
   "metadata": {
    "ExecuteTime": {
     "end_time": "2020-06-30T05:08:56.079061Z",
     "start_time": "2020-06-30T05:08:55.464Z"
    }
   },
   "outputs": [
    {
     "data": {
      "text/plain": [
       "\n",
       "Call:\n",
       "cubist.default(x = wine_train[-12], y = wine_train$quality)\n",
       "\n",
       "Number of samples: 3750 \n",
       "Number of predictors: 11 \n",
       "\n",
       "Number of committees: 1 \n",
       "Number of rules: 25 \n"
      ]
     },
     "metadata": {},
     "output_type": "display_data"
    },
    {
     "name": "stdout",
     "output_type": "stream",
     "text": [
      "[1] 0.6201015\n",
      "[1] 0.5339725\n"
     ]
    }
   ],
   "source": [
    "# 1. 회귀트리 모델 생성하는 작업의 1번 ~ 3번까지 다시 반복 \n",
    "wine <- read.csv(\"whitewines.csv\")\n",
    "\n",
    "wine_train <- wine[1:3750,  ]\n",
    "wine_test <- wine[3751:4898, ]\n",
    "\n",
    "#install.packages('Cubist')\n",
    "#library(Cubist)\n",
    "\n",
    "model_tree <- cubist(wine_train[-12], wine_train$quality) \n",
    "model_tree\n",
    "\n",
    "# 4. 만든 모델과 테스트 데이터로 예측을 한다.\n",
    "p.cubist <- predict( model_tree, wine_test) \n",
    "\n",
    "# 5. 예측값(p.m5p) 과 테스트 데이터의 라벨간의 상관관계를 확인한다\n",
    "print(cor( p.cubist , wine_test$quality ))\n",
    "\n",
    "#6. 예측값(p.m5p) 과 테스트 데이터의 라벨간의 평균절대오차를 확인 한다.\n",
    "MAE <-  function( actual, predicted) {\n",
    "  mean(abs(actual - predicted)) \n",
    "}\n",
    "print(MAE(wine_test$quality, p.cubist))"
   ]
  },
  {
   "cell_type": "code",
   "execution_count": null,
   "metadata": {},
   "outputs": [],
   "source": []
  }
 ],
 "metadata": {
  "kernelspec": {
   "display_name": "R",
   "language": "R",
   "name": "ir"
  },
  "language_info": {
   "codemirror_mode": "r",
   "file_extension": ".r",
   "mimetype": "text/x-r-source",
   "name": "R",
   "pygments_lexer": "r",
   "version": "3.6.1"
  },
  "toc": {
   "base_numbering": 1,
   "nav_menu": {},
   "number_sections": true,
   "sideBar": true,
   "skip_h1_title": false,
   "title_cell": "Table of Contents",
   "title_sidebar": "Contents",
   "toc_cell": false,
   "toc_position": {},
   "toc_section_display": true,
   "toc_window_display": false
  },
  "varInspector": {
   "cols": {
    "lenName": 16,
    "lenType": 16,
    "lenVar": 40
   },
   "kernels_config": {
    "python": {
     "delete_cmd_postfix": "",
     "delete_cmd_prefix": "del ",
     "library": "var_list.py",
     "varRefreshCmd": "print(var_dic_list())"
    },
    "r": {
     "delete_cmd_postfix": ") ",
     "delete_cmd_prefix": "rm(",
     "library": "var_list.r",
     "varRefreshCmd": "cat(var_dic_list()) "
    }
   },
   "types_to_exclude": [
    "module",
    "function",
    "builtin_function_or_method",
    "instance",
    "_Feature"
   ],
   "window_display": false
  }
 },
 "nbformat": 4,
 "nbformat_minor": 4
}
