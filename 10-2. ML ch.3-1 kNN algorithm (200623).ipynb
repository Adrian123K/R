{
 "cells": [
  {
   "cell_type": "markdown",
   "metadata": {},
   "source": [
    "## □ kNN 알고리즘이란 무엇인가?\n",
    "```\n",
    "    k Nearest Neighbor 의 약자로 k개의 최근접 이웃이라는 뜻\n",
    "    ML 지도학습에서 분류에 해당하는 알고리즘\n",
    "```\n",
    "```\n",
    "    새로 들어온 데이터가 기존 데이터의 그룹에 어느 그룹에 속하는지 찾을 때 거리가 가까운 데이터의 그룹을 자기 그룹으로 선택하는 아주 간단한 알고리즘\n",
    "```\n",
    "\n",
    "## □ kNN 알고리즘의 장단점\n",
    "```\n",
    "    장점\n",
    "        단순하고 효율적\n",
    "        모델을 훈련시키지 않음\n",
    "```\n",
    "```\n",
    "    단점\n",
    "        모델을 생성하지 않아서 특징과 클래스간의 관계를 이해하는 능력이 제약된다\n",
    "        적절한 k값을 모델 개발자가 직접 알아내야한다.\n",
    "```\n",
    "\n",
    "## □ kNN의 원리\n",
    "    새로 들어온 데이터가 기존 데이터 중에서 어느 데이터에 더 인접해 있는지 거리를 계산해서 가장 가까운 거리에 있는 데이터를 자기의 이웃으로 선택하는 것\n",
    "    거리를 계산할 때 사용하는 수학식 -> 유클리드 거리 계산식\n",
    "    \n",
    "    p.121\n",
    "\n",
    "### ◆ 유클리드 거리 공식을 R로 구현하기\n",
    "    1. 두 점의 좌표를 지정한다\n",
    "```R\n",
    "        a=c(2,4)\n",
    "        b=c(5,6)\n",
    "```\n",
    "    2. 두 점 사이의 거리를 구한다"
   ]
  },
  {
   "cell_type": "code",
   "execution_count": 1,
   "metadata": {
    "ExecuteTime": {
     "end_time": "2020-06-23T04:59:11.242230Z",
     "start_time": "2020-06-23T04:59:11.164Z"
    }
   },
   "outputs": [
    {
     "name": "stdout",
     "output_type": "stream",
     "text": [
      "[1] 3.605551\n"
     ]
    }
   ],
   "source": [
    "a=c(2,4)\n",
    "b=c(5,6)\n",
    "d=sqrt((b[1]-a[1])^2+(b[2]-a[2])^2)\n",
    "print(d)"
   ]
  },
  {
   "cell_type": "markdown",
   "metadata": {},
   "source": [
    "### ◆ 3차원에서 두 점 사이의 거리 구하기"
   ]
  },
  {
   "cell_type": "code",
   "execution_count": 2,
   "metadata": {
    "ExecuteTime": {
     "end_time": "2020-06-23T04:59:25.869028Z",
     "start_time": "2020-06-23T04:59:25.829Z"
    }
   },
   "outputs": [
    {
     "data": {
      "text/html": [
       "4.12310562561766"
      ],
      "text/latex": [
       "4.12310562561766"
      ],
      "text/markdown": [
       "4.12310562561766"
      ],
      "text/plain": [
       "[1] 4.123106"
      ]
     },
     "metadata": {},
     "output_type": "display_data"
    }
   ],
   "source": [
    "a<-c(0,3,2)\n",
    "b<-c(2,0,0)\n",
    "sqrt(sum((a-b)^2))"
   ]
  },
  {
   "cell_type": "markdown",
   "metadata": {},
   "source": [
    "### ※ 문제215. a 지점과 b 지점사이의 거리를 구하는 distance라는 함수를 생성하시오"
   ]
  },
  {
   "cell_type": "code",
   "execution_count": 4,
   "metadata": {
    "ExecuteTime": {
     "end_time": "2020-06-23T05:00:02.134026Z",
     "start_time": "2020-06-23T05:00:02.077Z"
    }
   },
   "outputs": [
    {
     "data": {
      "text/html": [
       "4.12310562561766"
      ],
      "text/latex": [
       "4.12310562561766"
      ],
      "text/markdown": [
       "4.12310562561766"
      ],
      "text/plain": [
       "[1] 4.123106"
      ]
     },
     "metadata": {},
     "output_type": "display_data"
    }
   ],
   "source": [
    "dist<-function(a,b){\n",
    "  sqrt(sum((a-b)^2))\n",
    "}\n",
    "a<-c(0,3,2)\n",
    "b<-c(2,0,0)\n",
    "dist(a,b)"
   ]
  },
  {
   "cell_type": "markdown",
   "metadata": {},
   "source": [
    "### ※ 문제216. 위에서 만든 distance 함수를 이용해서 여러개의 지점과 c(4,4) 지점과의 거리를 각각 비교하시오"
   ]
  },
  {
   "cell_type": "code",
   "execution_count": 8,
   "metadata": {
    "ExecuteTime": {
     "end_time": "2020-06-23T05:07:39.977250Z",
     "start_time": "2020-06-23T05:07:39.947Z"
    }
   },
   "outputs": [],
   "source": [
    "x <- c(1,2,4,5,6,1)\n",
    "y <- c(5,6,5,2,3,7)\n",
    "dist<-function(a,b){\n",
    "    return (sqrt(sum((a-b)^2)))\n",
    "}"
   ]
  },
  {
   "cell_type": "code",
   "execution_count": 11,
   "metadata": {
    "ExecuteTime": {
     "end_time": "2020-06-23T05:08:04.425828Z",
     "start_time": "2020-06-23T05:08:04.388Z"
    }
   },
   "outputs": [
    {
     "name": "stdout",
     "output_type": "stream",
     "text": [
      "[1] 3.162278 2.828427 1.000000 2.236068 2.236068 4.242641\n"
     ]
    }
   ],
   "source": [
    "temp <- c()\n",
    "for (i in 1:length(x)){\n",
    "    temp <- append(temp,dist(c(x[i],y[i]),c(4,4)))\n",
    "}\n",
    "print(temp)"
   ]
  },
  {
   "cell_type": "markdown",
   "metadata": {},
   "source": [
    "### ※ 문제217. 위의 결과에서 가장 작은 값만 출력하시오"
   ]
  },
  {
   "cell_type": "code",
   "execution_count": 12,
   "metadata": {
    "ExecuteTime": {
     "end_time": "2020-06-23T05:09:53.663871Z",
     "start_time": "2020-06-23T05:09:53.635Z"
    }
   },
   "outputs": [
    {
     "name": "stdout",
     "output_type": "stream",
     "text": [
      "[1] 1\n"
     ]
    }
   ],
   "source": [
    "print(min(temp))"
   ]
  },
  {
   "cell_type": "markdown",
   "metadata": {},
   "source": [
    "### ※ 문제218. 토마토와 가장 가까운 거리에 있는 음식의 종류가 무엇인지 출력하시오"
   ]
  },
  {
   "cell_type": "code",
   "execution_count": 16,
   "metadata": {
    "ExecuteTime": {
     "end_time": "2020-06-23T05:25:10.108851Z",
     "start_time": "2020-06-23T05:25:10.057Z"
    }
   },
   "outputs": [
    {
     "data": {
      "text/html": [
       "5"
      ],
      "text/latex": [
       "5"
      ],
      "text/markdown": [
       "5"
      ],
      "text/plain": [
       "[1] 5"
      ]
     },
     "metadata": {},
     "output_type": "display_data"
    }
   ],
   "source": [
    "fruits <- data.frame(재료=c('사과','베이컨','당근','바나나','셀러리','치즈'),\n",
    "                       단맛=c(10,1,10,7,3,1),\n",
    "                       아삭한맛=c(9,4,1,10,10,1),\n",
    "                       음식종류=c('과일','단백질','과일','채소','채소','단백질'))\n",
    "토마토 <- c(6,4)\n",
    "temp <- c()\n",
    "dist<-function(a,b){\n",
    "  return (sqrt(sum((a-b)^2)))\n",
    "}\n",
    "for (i in 1:length(fruits$재료)){\n",
    "  temp <- append(temp,dist(c(fruits$단맛[i],fruits$아삭한맛[i]),토마토))\n",
    "}\n",
    "fruits$dist <- temp\n",
    "min(fruits$dist)"
   ]
  },
  {
   "cell_type": "markdown",
   "metadata": {},
   "source": [
    "### ※ 문제219. 위에서 만든 fruits의 파생변수인 dist를 이용해서 순위 파생변수를 추가하시오"
   ]
  },
  {
   "cell_type": "code",
   "execution_count": 17,
   "metadata": {
    "ExecuteTime": {
     "end_time": "2020-06-23T05:29:05.937573Z",
     "start_time": "2020-06-23T05:29:05.862Z"
    }
   },
   "outputs": [
    {
     "name": "stderr",
     "output_type": "stream",
     "text": [
      "Warning message:\n",
      "\"package 'dplyr' was built under R version 3.6.3\"\n",
      "Attaching package: 'dplyr'\n",
      "\n",
      "The following objects are masked from 'package:stats':\n",
      "\n",
      "    filter, lag\n",
      "\n",
      "The following objects are masked from 'package:base':\n",
      "\n",
      "    intersect, setdiff, setequal, union\n",
      "\n"
     ]
    },
    {
     "data": {
      "text/html": [
       "<table>\n",
       "<thead><tr><th scope=col>재료</th><th scope=col>단맛</th><th scope=col>아삭한맛</th><th scope=col>음식종류</th><th scope=col>dist</th><th scope=col>rnk</th></tr></thead>\n",
       "<tbody>\n",
       "\t<tr><td>사과    </td><td>10      </td><td> 9      </td><td>과일    </td><td>6.403124</td><td>4       </td></tr>\n",
       "\t<tr><td>베이컨  </td><td> 1      </td><td> 4      </td><td>단백질  </td><td>5.000000</td><td>1       </td></tr>\n",
       "\t<tr><td>당근    </td><td>10      </td><td> 1      </td><td>과일    </td><td>5.000000</td><td>1       </td></tr>\n",
       "\t<tr><td>바나나  </td><td> 7      </td><td>10      </td><td>채소    </td><td>6.082763</td><td>3       </td></tr>\n",
       "\t<tr><td>셀러리  </td><td> 3      </td><td>10      </td><td>채소    </td><td>6.708204</td><td>5       </td></tr>\n",
       "\t<tr><td>치즈    </td><td> 1      </td><td> 1      </td><td>단백질  </td><td>5.830952</td><td>2       </td></tr>\n",
       "</tbody>\n",
       "</table>\n"
      ],
      "text/latex": [
       "\\begin{tabular}{r|llllll}\n",
       " 재료 & 단맛 & 아삭한맛 & 음식종류 & dist & rnk\\\\\n",
       "\\hline\n",
       "\t 사과     & 10       &  9       & 과일     & 6.403124 & 4       \\\\\n",
       "\t 베이컨   &  1       &  4       & 단백질   & 5.000000 & 1       \\\\\n",
       "\t 당근     & 10       &  1       & 과일     & 5.000000 & 1       \\\\\n",
       "\t 바나나   &  7       & 10       & 채소     & 6.082763 & 3       \\\\\n",
       "\t 셀러리   &  3       & 10       & 채소     & 6.708204 & 5       \\\\\n",
       "\t 치즈     &  1       &  1       & 단백질   & 5.830952 & 2       \\\\\n",
       "\\end{tabular}\n"
      ],
      "text/markdown": [
       "\n",
       "| 재료 | 단맛 | 아삭한맛 | 음식종류 | dist | rnk |\n",
       "|---|---|---|---|---|---|\n",
       "| 사과     | 10       |  9       | 과일     | 6.403124 | 4        |\n",
       "| 베이컨   |  1       |  4       | 단백질   | 5.000000 | 1        |\n",
       "| 당근     | 10       |  1       | 과일     | 5.000000 | 1        |\n",
       "| 바나나   |  7       | 10       | 채소     | 6.082763 | 3        |\n",
       "| 셀러리   |  3       | 10       | 채소     | 6.708204 | 5        |\n",
       "| 치즈     |  1       |  1       | 단백질   | 5.830952 | 2        |\n",
       "\n"
      ],
      "text/plain": [
       "  재료   단맛 아삭한맛 음식종류 dist     rnk\n",
       "1 사과   10    9       과일     6.403124 4  \n",
       "2 베이컨  1    4       단백질   5.000000 1  \n",
       "3 당근   10    1       과일     5.000000 1  \n",
       "4 바나나  7   10       채소     6.082763 3  \n",
       "5 셀러리  3   10       채소     6.708204 5  \n",
       "6 치즈    1    1       단백질   5.830952 2  "
      ]
     },
     "metadata": {},
     "output_type": "display_data"
    }
   ],
   "source": [
    "library(dplyr)\n",
    "fruits$rnk <- dense_rank(fruits$dist)\n",
    "fruits"
   ]
  },
  {
   "cell_type": "markdown",
   "metadata": {},
   "source": [
    "### ※ 문제220. 위의 결과에서 순위가 3위까지인것만 출력하시오"
   ]
  },
  {
   "cell_type": "code",
   "execution_count": 25,
   "metadata": {
    "ExecuteTime": {
     "end_time": "2020-06-23T05:50:11.249488Z",
     "start_time": "2020-06-23T05:50:11.207Z"
    }
   },
   "outputs": [
    {
     "data": {
      "text/html": [
       "<ol class=list-inline>\n",
       "\t<li>단백질</li>\n",
       "\t<li>과일</li>\n",
       "\t<li>채소</li>\n",
       "\t<li>단백질</li>\n",
       "</ol>\n",
       "\n",
       "<details>\n",
       "\t<summary style=display:list-item;cursor:pointer>\n",
       "\t\t<strong>Levels</strong>:\n",
       "\t</summary>\n",
       "\t<ol class=list-inline>\n",
       "\t\t<li>'과일'</li>\n",
       "\t\t<li>'단백질'</li>\n",
       "\t\t<li>'채소'</li>\n",
       "\t</ol>\n",
       "</details>"
      ],
      "text/latex": [
       "\\begin{enumerate*}\n",
       "\\item 단백질\n",
       "\\item 과일\n",
       "\\item 채소\n",
       "\\item 단백질\n",
       "\\end{enumerate*}\n",
       "\n",
       "\\emph{Levels}: \\begin{enumerate*}\n",
       "\\item '과일'\n",
       "\\item '단백질'\n",
       "\\item '채소'\n",
       "\\end{enumerate*}\n"
      ],
      "text/markdown": [
       "1. 단백질\n",
       "2. 과일\n",
       "3. 채소\n",
       "4. 단백질\n",
       "\n",
       "\n",
       "\n",
       "**Levels**: 1. '과일'\n",
       "2. '단백질'\n",
       "3. '채소'\n",
       "\n",
       "\n"
      ],
      "text/plain": [
       "[1] 단백질 과일   채소   단백질\n",
       "Levels: 과일 단백질 채소"
      ]
     },
     "metadata": {},
     "output_type": "display_data"
    }
   ],
   "source": [
    "fruits[fruits$rnk<=3,'음식종류']"
   ]
  },
  {
   "cell_type": "markdown",
   "metadata": {},
   "source": [
    "### ※ 문제221. 위의 결과에서 최빈값을 출력하시오"
   ]
  },
  {
   "cell_type": "code",
   "execution_count": 26,
   "metadata": {
    "ExecuteTime": {
     "end_time": "2020-06-23T05:54:09.350829Z",
     "start_time": "2020-06-23T05:54:09.318Z"
    }
   },
   "outputs": [
    {
     "data": {
      "text/html": [
       "'단백질'"
      ],
      "text/latex": [
       "'단백질'"
      ],
      "text/markdown": [
       "'단백질'"
      ],
      "text/plain": [
       "[1] \"단백질\""
      ]
     },
     "metadata": {},
     "output_type": "display_data"
    }
   ],
   "source": [
    "rs<-fruits[fruits$rnk<=3,'음식종류'] # rnk<=3 : k parameter\n",
    "names(table(rs)[table(rs)==max(table(rs))])"
   ]
  },
  {
   "cell_type": "code",
   "execution_count": null,
   "metadata": {},
   "outputs": [],
   "source": []
  }
 ],
 "metadata": {
  "kernelspec": {
   "display_name": "R",
   "language": "R",
   "name": "ir"
  },
  "language_info": {
   "codemirror_mode": "r",
   "file_extension": ".r",
   "mimetype": "text/x-r-source",
   "name": "R",
   "pygments_lexer": "r",
   "version": "3.6.1"
  },
  "toc": {
   "base_numbering": 1,
   "nav_menu": {},
   "number_sections": true,
   "sideBar": true,
   "skip_h1_title": false,
   "title_cell": "Table of Contents",
   "title_sidebar": "Contents",
   "toc_cell": false,
   "toc_position": {},
   "toc_section_display": true,
   "toc_window_display": false
  },
  "varInspector": {
   "cols": {
    "lenName": 16,
    "lenType": 16,
    "lenVar": 40
   },
   "kernels_config": {
    "python": {
     "delete_cmd_postfix": "",
     "delete_cmd_prefix": "del ",
     "library": "var_list.py",
     "varRefreshCmd": "print(var_dic_list())"
    },
    "r": {
     "delete_cmd_postfix": ") ",
     "delete_cmd_prefix": "rm(",
     "library": "var_list.r",
     "varRefreshCmd": "cat(var_dic_list()) "
    }
   },
   "types_to_exclude": [
    "module",
    "function",
    "builtin_function_or_method",
    "instance",
    "_Feature"
   ],
   "window_display": false
  }
 },
 "nbformat": 4,
 "nbformat_minor": 4
}
