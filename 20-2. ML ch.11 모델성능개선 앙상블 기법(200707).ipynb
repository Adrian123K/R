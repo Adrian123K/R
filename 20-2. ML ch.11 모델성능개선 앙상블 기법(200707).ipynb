{
 "cells": [
  {
   "cell_type": "markdown",
   "metadata": {},
   "source": [
    "# <b>■ 앙상블 기법</b>\n",
    "    다양한 전문가 팀을 만드는 것과 유사한 원리를 활용하틑 메타 학습방법\n",
    "    모든 앙상블 방법은 약한 학습자 여러개를 결합하면 강한 학습자가 만들어진다는 아이디어를 기반\n",
    "    앙상블 모형은 여러개의 분류모형을 같이 사용하여 한꺼번에 평가하는 모형\n",
    "    \n",
    "    예시) 정확도가 60% 밖에 되지 않는 분류기 모형들이 즐비한데 이 모형들을 최소한 몇 개를 써야 정확도를 90%를 능가하게 만들 수 있는가?"
   ]
  },
  {
   "cell_type": "code",
   "execution_count": null,
   "metadata": {
    "ExecuteTime": {
     "end_time": "2020-07-07T06:17:52.733215Z",
     "start_time": "2020-07-07T06:17:48.748Z"
    }
   },
   "outputs": [],
   "source": [
    "ret_err <- function(n,err) {\n",
    "  sum <- 0 \n",
    "  for(i in floor(n/2):n) { \n",
    "    sum <- sum + choose(n,i) * err^i * (1-err)^(n-i)\n",
    "  }\n",
    "  sum\n",
    "}\n",
    "\n",
    "for(j in 1:60) {\n",
    "  err <- ret_err(j , 0.4)\n",
    "  cat(j,'--->',1-err,'\\n') \n",
    "  if(1-err >= 0.9) break\n",
    "}"
   ]
  },
  {
   "cell_type": "markdown",
   "metadata": {},
   "source": [
    "## <b>■ 앙상블</b>\n",
    "    여러 모델을 이용하여 데이터를 학습하고 모든 모델의 예측 결과를 평균하여 예측\n",
    "\n",
    "### <b>■ 앙상블의 종류</b>\n",
    "    1. 배깅(Bagging)    \n",
    "    2. 부스팅(Boosting)\n",
    "![앙상블](https://2.bp.blogspot.com/-uE81xNXVYao/WmhKTaMcwJI/AAAAAAAAALk/pzCtjPmRDY4RG6JB2RiysFyfxrBtRyGmQCLcBGAs/s640/%25EC%25BA%25A1%25EC%25B2%2598.PNG)\n",
    "### <b>■ 앙상블의 장점</b>\n",
    "    1. Low bias : 예측값의 범위가 정답으로부터 얼마나 멀리 있는지\n",
    "    2. Low Variance : 학습된 모델별로 예측한 값들의 차이"
   ]
  },
  {
   "cell_type": "markdown",
   "metadata": {},
   "source": [
    "## <b>■ Bagging</b>\n",
    "    학습 데이터를 랜덤으로 sampling해서 여러개의 bag에 분할하고 각 bag 별로 모델을 학습한 후 각 결과를 합하여 최종결과를 추출\n",
    "![bagging](http://thumbnail.egloos.net/600x0/http://pds26.egloos.com/pds/201705/12/93/b0207093_5915c18b7f946.png)\n",
    "\n",
    "    Bagging + Decision Tree = Random Forest\n",
    "    \n",
    "![ranforest](https://www.researchgate.net/profile/Erika_Amstalden_van_Hove/publication/228540194/figure/fig1/AS:301839783350274@1448975620988/The-Random-Forest-classifier-is-an-ensemble-of-decision-trees-where-the-single-trees-are.png)"
   ]
  },
  {
   "cell_type": "markdown",
   "metadata": {},
   "source": [
    "## <b>■ Boosting</b>\n",
    "    모델이 학습을 여러번 할 때 이전 모델들이 예측하지 못한 에러 데이터에 가중치를 부여해서 다음 시행에 성능을 높일 수 있게 한다\n",
    "![boosting](https://4.bp.blogspot.com/-RaiT4BqWABE/WmhRZnx9dCI/AAAAAAAAAMg/-qgbI85Ru3UKkXCywZlUKTYEvBkZlS-3wCLcBGAs/s640/%25EC%25BA%25A1%25EC%25B2%2598.PNG)\n",
    "\n",
    "    1. Ada Boost\n",
    "    2. Xg Boost\n",
    "    3. Light GBM"
   ]
  },
  {
   "cell_type": "markdown",
   "metadata": {},
   "source": [
    "### <b>■ Bagging 실습(독일 은행 데이터)</b>"
   ]
  },
  {
   "cell_type": "code",
   "execution_count": null,
   "metadata": {
    "ExecuteTime": {
     "end_time": "2020-07-07T07:22:10.779144Z",
     "start_time": "2020-07-07T07:22:02.506Z"
    }
   },
   "outputs": [],
   "source": [
    "install.packages('ipred')"
   ]
  },
  {
   "cell_type": "code",
   "execution_count": 2,
   "metadata": {
    "ExecuteTime": {
     "end_time": "2020-07-07T07:23:21.628296Z",
     "start_time": "2020-07-07T07:23:21.584Z"
    }
   },
   "outputs": [
    {
     "name": "stderr",
     "output_type": "stream",
     "text": [
      "Warning message:\n",
      "\"package 'ipred' was built under R version 3.6.3\""
     ]
    },
    {
     "ename": "ERROR",
     "evalue": "Error in value[[3L]](cond): Package 'ipred' version 0.9.8 cannot be unloaded:\n Error in unloadNamespace(package) : namespace 'ipred' is imported by 'recipes' so cannot be unloaded\n\n",
     "output_type": "error",
     "traceback": [
      "Error in value[[3L]](cond): Package 'ipred' version 0.9.8 cannot be unloaded:\n Error in unloadNamespace(package) : namespace 'ipred' is imported by 'recipes' so cannot be unloaded\n\nTraceback:\n",
      "1. library(ipred)",
      "2. tryCatch(unloadNamespace(package), error = function(e) {\n .     P <- if (!is.null(cc <- conditionCall(e))) \n .         paste(\"Error in\", deparse(cc)[1L], \": \")\n .     else \"Error : \"\n .     stop(gettextf(\"Package %s version %s cannot be unloaded:\\n %s\", \n .         sQuote(package), oldversion, paste0(P, conditionMessage(e), \n .             \"\\n\")), domain = NA)\n . })",
      "3. tryCatchList(expr, classes, parentenv, handlers)",
      "4. tryCatchOne(expr, names, parentenv, handlers[[1L]])",
      "5. value[[3L]](cond)",
      "6. stop(gettextf(\"Package %s version %s cannot be unloaded:\\n %s\", \n .     sQuote(package), oldversion, paste0(P, conditionMessage(e), \n .         \"\\n\")), domain = NA)"
     ]
    }
   ],
   "source": [
    "library(ipred)"
   ]
  },
  {
   "cell_type": "code",
   "execution_count": null,
   "metadata": {},
   "outputs": [],
   "source": [
    "credit <- read.csv('credit.csv',stringsAsFactors = T)\n",
    "\n",
    "set.seed(300)\n",
    "mybag <- bagging(default~., data=credit, nbagg=25) # nbagg=25 : 앙상블에 사용되는  bag의 개수\n",
    "credit_pred <- predict(mybag, credit)\n",
    "table(credit_pred,credit$default)\n",
    "prop.table(table(credit_pred==credit$default))"
   ]
  },
  {
   "cell_type": "markdown",
   "metadata": {},
   "source": [
    "### ※ 문제299. bag의 개수를 50개로 늘리고 정확도를 확인하시오"
   ]
  },
  {
   "cell_type": "code",
   "execution_count": null,
   "metadata": {},
   "outputs": [],
   "source": [
    "mybag <- bagging(default~., data=credit, nbagg=50) \n",
    "credit_pred <- predict(mybag, credit)\n",
    "table(credit_pred,credit$default)\n",
    "prop.table(table(credit_pred==credit$default))"
   ]
  },
  {
   "cell_type": "markdown",
   "metadata": {},
   "source": [
    "## <b>■ 부스팅(Boosting)</b>\n",
    "    Adaptive Boost -> 격려, 향상\n",
    "    \n",
    "    배깅(Bagging)을 좀 더 개선시킨 알고리즘\n",
    "    샘플링하는 과정에서 복원추출 할 때 동일한 확률로 하는 게 아니라 추출할 때 마다 확률을 서로 다르게 개선시키는 방법을 사용\n",
    "    처음에는 모두 동일한 확률로 복원추출하지만 다음 추출과정에서는 오분류된 데이터를 추출확률을 더 높게 조정하고 올바르게 분류된 데이터는 추출확률을 낮춰 복원추출\n",
    "    이 방법을 정해진 단계의 수 만큼 반복적으로 사용"
   ]
  },
  {
   "cell_type": "markdown",
   "metadata": {},
   "source": [
    "### <b>■ Boosting 실습(독일 은행 데이터)</b>"
   ]
  },
  {
   "cell_type": "code",
   "execution_count": 4,
   "metadata": {
    "ExecuteTime": {
     "end_time": "2020-07-07T07:31:40.497431Z",
     "start_time": "2020-07-07T07:31:35.182Z"
    }
   },
   "outputs": [
    {
     "name": "stderr",
     "output_type": "stream",
     "text": [
      "Installing package into 'C:/Users/knitwill/Documents/R/win-library/3.6'\n",
      "(as 'lib' is unspecified)\n",
      "also installing the dependency 'doParallel'\n",
      "\n"
     ]
    },
    {
     "name": "stdout",
     "output_type": "stream",
     "text": [
      "package 'doParallel' successfully unpacked and MD5 sums checked\n",
      "package 'adabag' successfully unpacked and MD5 sums checked\n",
      "\n",
      "The downloaded binary packages are in\n",
      "\tC:\\Users\\knitwill\\AppData\\Local\\Temp\\Rtmp4ssEOb\\downloaded_packages\n"
     ]
    },
    {
     "name": "stderr",
     "output_type": "stream",
     "text": [
      "Warning message:\n",
      "\"package 'adabag' was built under R version 3.6.3\"Loading required package: rpart\n",
      "Loading required package: caret\n",
      "Warning message:\n",
      "\"package 'caret' was built under R version 3.6.3\"Loading required package: lattice\n",
      "Loading required package: ggplot2\n",
      "Warning message:\n",
      "\"package 'ggplot2' was built under R version 3.6.3\"\n",
      "Attaching package: 'caret'\n",
      "\n",
      "The following object is masked _by_ '.GlobalEnv':\n",
      "\n",
      "    MAE\n",
      "\n",
      "Loading required package: foreach\n",
      "Loading required package: doParallel\n",
      "Warning message:\n",
      "\"package 'doParallel' was built under R version 3.6.3\"Loading required package: iterators\n",
      "Loading required package: parallel\n"
     ]
    }
   ],
   "source": [
    "install.packages('adabag')\n",
    "library(adabag)"
   ]
  },
  {
   "cell_type": "code",
   "execution_count": 5,
   "metadata": {
    "ExecuteTime": {
     "end_time": "2020-07-07T07:32:55.424358Z",
     "start_time": "2020-07-07T07:32:24.713Z"
    }
   },
   "outputs": [
    {
     "data": {
      "text/html": [
       "<ol class=list-inline>\n",
       "\t<li>'no'</li>\n",
       "\t<li>'yes'</li>\n",
       "\t<li>'no'</li>\n",
       "\t<li>'no'</li>\n",
       "\t<li>'yes'</li>\n",
       "\t<li>'no'</li>\n",
       "</ol>\n"
      ],
      "text/latex": [
       "\\begin{enumerate*}\n",
       "\\item 'no'\n",
       "\\item 'yes'\n",
       "\\item 'no'\n",
       "\\item 'no'\n",
       "\\item 'yes'\n",
       "\\item 'no'\n",
       "\\end{enumerate*}\n"
      ],
      "text/markdown": [
       "1. 'no'\n",
       "2. 'yes'\n",
       "3. 'no'\n",
       "4. 'no'\n",
       "5. 'yes'\n",
       "6. 'no'\n",
       "\n",
       "\n"
      ],
      "text/plain": [
       "[1] \"no\"  \"yes\" \"no\"  \"no\"  \"yes\" \"no\" "
      ]
     },
     "metadata": {},
     "output_type": "display_data"
    },
    {
     "data": {
      "text/plain": [
       "               Observed Class\n",
       "Predicted Class  no yes\n",
       "            no  700   0\n",
       "            yes   0 300"
      ]
     },
     "metadata": {},
     "output_type": "display_data"
    },
    {
     "data": {
      "text/plain": [
       "     \n",
       "       no yes\n",
       "  no  700   0\n",
       "  yes   0 300"
      ]
     },
     "metadata": {},
     "output_type": "display_data"
    }
   ],
   "source": [
    "set.seed(300)\n",
    "\n",
    "credit <- read.csv('credit.csv',stringsAsFactors = T)\n",
    "m_adaboost <- boosting(default~., data=credit)\n",
    "p_adaboost <- predict(m_adaboost, credit)\n",
    "\n",
    "head(p_adaboost$class)\n",
    "p_adaboost$confusion\n",
    "table(p_adaboost$class,credit$default)"
   ]
  },
  {
   "cell_type": "markdown",
   "metadata": {},
   "source": [
    "### ※ 문제300. (오늘의 마지막 문제) 독버섯 데이터를 부스팅 알고리즘에 적용해서 모델을 생성하고 정확도를 확인하시오"
   ]
  },
  {
   "cell_type": "code",
   "execution_count": 6,
   "metadata": {
    "ExecuteTime": {
     "end_time": "2020-07-07T07:38:38.372982Z",
     "start_time": "2020-07-07T07:37:58.023Z"
    }
   },
   "outputs": [
    {
     "name": "stdout",
     "output_type": "stream",
     "text": [
      "'data.frame':\t8124 obs. of  23 variables:\n",
      " $ type                    : Factor w/ 2 levels \"edible\",\"poisonous\": 2 1 1 2 1 1 1 1 2 1 ...\n",
      " $ cap_shape               : Factor w/ 6 levels \"bell\",\"conical\",..: 3 3 1 3 3 3 1 1 3 1 ...\n",
      " $ cap_surface             : Factor w/ 4 levels \"fibrous\",\"grooves\",..: 4 4 4 3 4 3 4 3 3 4 ...\n",
      " $ cap_color               : Factor w/ 10 levels \"brown\",\"buff\",..: 1 10 9 9 4 10 9 9 9 10 ...\n",
      " $ bruises                 : Factor w/ 2 levels \"no\",\"yes\": 2 2 2 2 1 2 2 2 2 2 ...\n",
      " $ odor                    : Factor w/ 9 levels \"almond\",\"anise\",..: 8 1 2 8 7 1 1 2 8 1 ...\n",
      " $ gill_attachment         : Factor w/ 2 levels \"attached\",\"free\": 2 2 2 2 2 2 2 2 2 2 ...\n",
      " $ gill_spacing            : Factor w/ 2 levels \"close\",\"crowded\": 1 1 1 1 2 1 1 1 1 1 ...\n",
      " $ gill_size               : Factor w/ 2 levels \"broad\",\"narrow\": 2 1 1 2 1 1 1 1 2 1 ...\n",
      " $ gill_color              : Factor w/ 12 levels \"black\",\"brown\",..: 1 1 2 2 1 2 5 2 8 5 ...\n",
      " $ stalk_shape             : Factor w/ 2 levels \"enlarging\",\"tapering\": 1 1 1 1 2 1 1 1 1 1 ...\n",
      " $ stalk_root              : Factor w/ 5 levels \"bulbous\",\"club\",..: 3 2 2 3 3 2 2 2 3 2 ...\n",
      " $ stalk_surface_above_ring: Factor w/ 4 levels \"fibrous\",\"scaly\",..: 4 4 4 4 4 4 4 4 4 4 ...\n",
      " $ stalk_surface_below_ring: Factor w/ 4 levels \"fibrous\",\"scaly\",..: 4 4 4 4 4 4 4 4 4 4 ...\n",
      " $ stalk_color_above_ring  : Factor w/ 9 levels \"brown\",\"buff\",..: 8 8 8 8 8 8 8 8 8 8 ...\n",
      " $ stalk_color_below_ring  : Factor w/ 9 levels \"brown\",\"buff\",..: 8 8 8 8 8 8 8 8 8 8 ...\n",
      " $ veil_type               : Factor w/ 1 level \"partial\": 1 1 1 1 1 1 1 1 1 1 ...\n",
      " $ veil_color              : Factor w/ 4 levels \"brown\",\"orange\",..: 3 3 3 3 3 3 3 3 3 3 ...\n",
      " $ ring_number             : Factor w/ 3 levels \"none\",\"one\",\"two\": 2 2 2 2 2 2 2 2 2 2 ...\n",
      " $ ring_type               : Factor w/ 5 levels \"evanescent\",\"flaring\",..: 5 5 5 5 1 5 5 5 5 5 ...\n",
      " $ spore_print_color       : Factor w/ 9 levels \"black\",\"brown\",..: 1 2 2 1 2 1 1 2 1 1 ...\n",
      " $ population              : Factor w/ 6 levels \"abundant\",\"clustered\",..: 4 3 3 4 1 3 3 4 5 4 ...\n",
      " $ habitat                 : Factor w/ 7 levels \"grasses\",\"leaves\",..: 5 1 3 5 1 1 3 3 1 3 ...\n"
     ]
    },
    {
     "data": {
      "text/plain": [
       "           \n",
       "            edible poisonous\n",
       "  edible      4208         0\n",
       "  poisonous      0      3916"
      ]
     },
     "metadata": {},
     "output_type": "display_data"
    }
   ],
   "source": [
    "#install.packages('adabag')\n",
    "#library(adabag)\n",
    "\n",
    "set.seed(300)\n",
    "\n",
    "mushroom <- read.csv('mushrooms.csv',stringsAsFactors = T)\n",
    "str(mushroom)\n",
    "m_adaboost <- boosting(type~., data=mushroom)\n",
    "p_adaboost <- predict(m_adaboost, mushroom)\n",
    "\n",
    "table(p_adaboost$class,mushroom$type)"
   ]
  },
  {
   "cell_type": "code",
   "execution_count": null,
   "metadata": {},
   "outputs": [],
   "source": []
  },
  {
   "cell_type": "code",
   "execution_count": null,
   "metadata": {},
   "outputs": [],
   "source": []
  }
 ],
 "metadata": {
  "kernelspec": {
   "display_name": "R",
   "language": "R",
   "name": "ir"
  },
  "language_info": {
   "codemirror_mode": "r",
   "file_extension": ".r",
   "mimetype": "text/x-r-source",
   "name": "R",
   "pygments_lexer": "r",
   "version": "3.6.1"
  },
  "toc": {
   "base_numbering": 1,
   "nav_menu": {},
   "number_sections": true,
   "sideBar": true,
   "skip_h1_title": false,
   "title_cell": "Table of Contents",
   "title_sidebar": "Contents",
   "toc_cell": false,
   "toc_position": {},
   "toc_section_display": true,
   "toc_window_display": false
  },
  "varInspector": {
   "cols": {
    "lenName": 16,
    "lenType": 16,
    "lenVar": 40
   },
   "kernels_config": {
    "python": {
     "delete_cmd_postfix": "",
     "delete_cmd_prefix": "del ",
     "library": "var_list.py",
     "varRefreshCmd": "print(var_dic_list())"
    },
    "r": {
     "delete_cmd_postfix": ") ",
     "delete_cmd_prefix": "rm(",
     "library": "var_list.r",
     "varRefreshCmd": "cat(var_dic_list()) "
    }
   },
   "types_to_exclude": [
    "module",
    "function",
    "builtin_function_or_method",
    "instance",
    "_Feature"
   ],
   "window_display": false
  }
 },
 "nbformat": 4,
 "nbformat_minor": 4
}
