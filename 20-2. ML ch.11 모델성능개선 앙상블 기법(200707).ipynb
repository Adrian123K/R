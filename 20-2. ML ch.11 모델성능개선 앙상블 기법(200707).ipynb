{
 "cells": [
  {
   "cell_type": "markdown",
   "metadata": {},
   "source": [
    "# <b>■ 앙상블 기법</b>\n",
    "    다양한 전문가 팀을 만드는 것과 유사한 원리를 활용하틑 메타 학습방법\n",
    "    모든 앙상블 방법은 약한 학습자 여러개를 결합하면 강한 학습자가 만들어진다는 아이디어를 기반\n",
    "    앙상블 모형은 여러개의 분류모형을 같이 사용하여 한꺼번에 평가하는 모형\n",
    "    \n",
    "    예시) 정확도가 60% 밖에 되지 않는 분류기 모형들이 즐비한데 이 모형들을 최소한 몇 개를 써야 정확도를 90%를 능가하게 만들 수 있는가?"
   ]
  },
  {
   "cell_type": "code",
   "execution_count": null,
   "metadata": {
    "ExecuteTime": {
     "end_time": "2020-07-07T06:17:52.733215Z",
     "start_time": "2020-07-07T06:17:48.748Z"
    }
   },
   "outputs": [],
   "source": [
    "ret_err <- function(n,err) {\n",
    "  sum <- 0 \n",
    "  for(i in floor(n/2):n) { \n",
    "    sum <- sum + choose(n,i) * err^i * (1-err)^(n-i)\n",
    "  }\n",
    "  sum\n",
    "}\n",
    "\n",
    "for(j in 1:60) {\n",
    "  err <- ret_err(j , 0.4)\n",
    "  cat(j,'--->',1-err,'\\n') \n",
    "  if(1-err >= 0.9) break\n",
    "}"
   ]
  },
  {
   "cell_type": "markdown",
   "metadata": {},
   "source": [
    "## <b>■ 앙상블</b>\n",
    "    여러 모델을 이용하여 데이터를 학습하고 모든 모델의 예측 결과를 평균하여 예측\n",
    "\n",
    "### <b>■ 앙상블의 종류</b>\n",
    "    1. 배깅(Bagging)    \n",
    "    2. 부스팅(Boosting)\n",
    "![앙상블](https://2.bp.blogspot.com/-uE81xNXVYao/WmhKTaMcwJI/AAAAAAAAALk/pzCtjPmRDY4RG6JB2RiysFyfxrBtRyGmQCLcBGAs/s640/%25EC%25BA%25A1%25EC%25B2%2598.PNG)\n",
    "### <b>■ 앙상블의 장점</b>\n",
    "    1. Low bias : 예측값의 범위가 정답으로부터 얼마나 멀리 있는지\n",
    "    2. Low Variance : 학습된 모델별로 예측한 값들의 차이"
   ]
  },
  {
   "cell_type": "markdown",
   "metadata": {},
   "source": [
    "## <b>■ Bagging</b>\n",
    "    학습 데이터를 랜덤으로 sampling해서 여러개의 bag에 분할하고 각 bag 별로 모델을 학습한 후 각 결과를 합하여 최종결과를 추출\n",
    "![bagging](http://thumbnail.egloos.net/600x0/http://pds26.egloos.com/pds/201705/12/93/b0207093_5915c18b7f946.png)\n",
    "\n",
    "    Bagging + Decision Tree = Random Forest\n",
    "    \n",
    "![ranforest](https://www.researchgate.net/profile/Erika_Amstalden_van_Hove/publication/228540194/figure/fig1/AS:301839783350274@1448975620988/The-Random-Forest-classifier-is-an-ensemble-of-decision-trees-where-the-single-trees-are.png)"
   ]
  },
  {
   "cell_type": "markdown",
   "metadata": {},
   "source": [
    "## <b>■ Boosting</b>\n",
    "    모델이 학습을 여러번 할 때 이전 모델들이 예측하지 못한 에러 데이터에 가중치를 부여해서 다음 시행에 성능을 높일 수 있게 한다\n",
    "![boosting](https://4.bp.blogspot.com/-RaiT4BqWABE/WmhRZnx9dCI/AAAAAAAAAMg/-qgbI85Ru3UKkXCywZlUKTYEvBkZlS-3wCLcBGAs/s640/%25EC%25BA%25A1%25EC%25B2%2598.PNG)\n",
    "\n",
    "    1. Ada Boost\n",
    "    2. Xg Boost\n",
    "    3. Light GBM"
   ]
  },
  {
   "cell_type": "markdown",
   "metadata": {},
   "source": [
    "### <b>■ Bagging 실습(독일 은행 데이터)</b>"
   ]
  },
  {
   "cell_type": "code",
   "execution_count": null,
   "metadata": {},
   "outputs": [],
   "source": []
  },
  {
   "cell_type": "code",
   "execution_count": null,
   "metadata": {},
   "outputs": [],
   "source": []
  },
  {
   "cell_type": "code",
   "execution_count": null,
   "metadata": {},
   "outputs": [],
   "source": []
  }
 ],
 "metadata": {
  "kernelspec": {
   "display_name": "R",
   "language": "R",
   "name": "ir"
  },
  "language_info": {
   "codemirror_mode": "r",
   "file_extension": ".r",
   "mimetype": "text/x-r-source",
   "name": "R",
   "pygments_lexer": "r",
   "version": "3.6.1"
  },
  "toc": {
   "base_numbering": 1,
   "nav_menu": {},
   "number_sections": true,
   "sideBar": true,
   "skip_h1_title": false,
   "title_cell": "Table of Contents",
   "title_sidebar": "Contents",
   "toc_cell": false,
   "toc_position": {},
   "toc_section_display": true,
   "toc_window_display": false
  },
  "varInspector": {
   "cols": {
    "lenName": 16,
    "lenType": 16,
    "lenVar": 40
   },
   "kernels_config": {
    "python": {
     "delete_cmd_postfix": "",
     "delete_cmd_prefix": "del ",
     "library": "var_list.py",
     "varRefreshCmd": "print(var_dic_list())"
    },
    "r": {
     "delete_cmd_postfix": ") ",
     "delete_cmd_prefix": "rm(",
     "library": "var_list.r",
     "varRefreshCmd": "cat(var_dic_list()) "
    }
   },
   "types_to_exclude": [
    "module",
    "function",
    "builtin_function_or_method",
    "instance",
    "_Feature"
   ],
   "window_display": false
  }
 },
 "nbformat": 4,
 "nbformat_minor": 4
}
