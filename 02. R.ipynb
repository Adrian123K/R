{
 "cells": [
  {
   "cell_type": "markdown",
   "metadata": {},
   "source": [
    "#### 11기 머신러닝 수업목차에 나오는 교육영상과 책을 미리 읽어오면 더 이해가 잘되니까 틈나는대로 보고 그 단원을 완성하는 것은 코드로 관련 머신러닝 알고리즘을 구현하면 완성"
   ]
  },
  {
   "cell_type": "markdown",
   "metadata": {},
   "source": [
    "## ■ R\n",
    "### 뉴질랜드 aukland 대학의 Rebert Gentleman과 Ross Ihaka가 1995년에 개발한 소프트웨어\n",
    "### 데이터 분석을 위한 통계 및 그래픽스를 지원하는 무료 소프트웨어"
   ]
  },
  {
   "cell_type": "markdown",
   "metadata": {},
   "source": [
    "## ■ 작업 디렉토리 설정 및 emp.csv 로드하는 방법"
   ]
  },
  {
   "cell_type": "code",
   "execution_count": 2,
   "metadata": {
    "ExecuteTime": {
     "end_time": "2020-06-11T00:54:11.006030Z",
     "start_time": "2020-06-11T00:54:10.980Z"
    }
   },
   "outputs": [],
   "source": [
    "setwd(\"d:/R\")"
   ]
  },
  {
   "cell_type": "code",
   "execution_count": 3,
   "metadata": {
    "ExecuteTime": {
     "end_time": "2020-06-11T00:54:14.845352Z",
     "start_time": "2020-06-11T00:54:14.759Z"
    }
   },
   "outputs": [
    {
     "data": {
      "text/html": [
       "'d:/R'"
      ],
      "text/latex": [
       "'d:/R'"
      ],
      "text/markdown": [
       "'d:/R'"
      ],
      "text/plain": [
       "[1] \"d:/R\""
      ]
     },
     "metadata": {},
     "output_type": "display_data"
    }
   ],
   "source": [
    "getwd()"
   ]
  },
  {
   "cell_type": "code",
   "execution_count": 4,
   "metadata": {
    "ExecuteTime": {
     "end_time": "2020-06-11T00:55:34.986569Z",
     "start_time": "2020-06-11T00:55:34.916Z"
    }
   },
   "outputs": [
    {
     "data": {
      "text/html": [
       "<table>\n",
       "<thead><tr><th scope=col>index</th><th scope=col>empno</th><th scope=col>ename</th><th scope=col>job</th><th scope=col>mgr</th><th scope=col>hiredate</th><th scope=col>sal</th><th scope=col>comm</th><th scope=col>deptno</th></tr></thead>\n",
       "<tbody>\n",
       "\t<tr><td> 1             </td><td>7839           </td><td>KING           </td><td>PRESIDENT      </td><td>  NA           </td><td>1981-11-17 0:00</td><td>5000           </td><td>  NA           </td><td>10             </td></tr>\n",
       "\t<tr><td> 2             </td><td>7698           </td><td>BLAKE          </td><td>MANAGER        </td><td>7839           </td><td>1981-05-01 0:00</td><td>2850           </td><td>  NA           </td><td>30             </td></tr>\n",
       "\t<tr><td> 3             </td><td>7782           </td><td>CLARK          </td><td>MANAGER        </td><td>7839           </td><td>1981-05-09 0:00</td><td>2450           </td><td>  NA           </td><td>10             </td></tr>\n",
       "\t<tr><td> 4             </td><td>7566           </td><td>JONES          </td><td>MANAGER        </td><td>7839           </td><td>1981-04-01 0:00</td><td>2975           </td><td>  NA           </td><td>20             </td></tr>\n",
       "\t<tr><td> 5             </td><td>7654           </td><td>MARTIN         </td><td>SALESMAN       </td><td>7698           </td><td>1981-09-10 0:00</td><td>1250           </td><td>1400           </td><td>30             </td></tr>\n",
       "\t<tr><td> 6             </td><td>7499           </td><td>ALLEN          </td><td>SALESMAN       </td><td>7698           </td><td>1981-02-11 0:00</td><td>1600           </td><td> 300           </td><td>30             </td></tr>\n",
       "\t<tr><td> 7             </td><td>7844           </td><td>TURNER         </td><td>SALESMAN       </td><td>7698           </td><td>1981-08-21 0:00</td><td>1500           </td><td>   0           </td><td>30             </td></tr>\n",
       "\t<tr><td> 8             </td><td>7900           </td><td>JAMES          </td><td>CLERK          </td><td>7698           </td><td>1981-12-11 0:00</td><td> 950           </td><td>  NA           </td><td>30             </td></tr>\n",
       "\t<tr><td> 9             </td><td>7521           </td><td>WARD           </td><td>SALESMAN       </td><td>7698           </td><td>1981-02-23 0:00</td><td>1250           </td><td> 500           </td><td>30             </td></tr>\n",
       "\t<tr><td>10             </td><td>7902           </td><td>FORD           </td><td>ANALYST        </td><td>7566           </td><td>1981-12-11 0:00</td><td>3000           </td><td>  NA           </td><td>20             </td></tr>\n",
       "\t<tr><td>11             </td><td>7369           </td><td>SMITH          </td><td>CLERK          </td><td>7902           </td><td>1980-12-09 0:00</td><td> 800           </td><td>  NA           </td><td>20             </td></tr>\n",
       "\t<tr><td>12             </td><td>7788           </td><td>SCOTT          </td><td>ANALYST        </td><td>7566           </td><td>1982-12-22 0:00</td><td>3000           </td><td>  NA           </td><td>20             </td></tr>\n",
       "\t<tr><td>13             </td><td>7876           </td><td>ADAMS          </td><td>CLERK          </td><td>7788           </td><td>1983-01-15 0:00</td><td>1100           </td><td>  NA           </td><td>20             </td></tr>\n",
       "\t<tr><td>14             </td><td>7934           </td><td>MILLER         </td><td>CLERK          </td><td>7782           </td><td>1982-01-11 0:00</td><td>1300           </td><td>  NA           </td><td>10             </td></tr>\n",
       "</tbody>\n",
       "</table>\n"
      ],
      "text/latex": [
       "\\begin{tabular}{r|lllllllll}\n",
       " index & empno & ename & job & mgr & hiredate & sal & comm & deptno\\\\\n",
       "\\hline\n",
       "\t  1              & 7839            & KING            & PRESIDENT       &   NA            & 1981-11-17 0:00 & 5000            &   NA            & 10             \\\\\n",
       "\t  2              & 7698            & BLAKE           & MANAGER         & 7839            & 1981-05-01 0:00 & 2850            &   NA            & 30             \\\\\n",
       "\t  3              & 7782            & CLARK           & MANAGER         & 7839            & 1981-05-09 0:00 & 2450            &   NA            & 10             \\\\\n",
       "\t  4              & 7566            & JONES           & MANAGER         & 7839            & 1981-04-01 0:00 & 2975            &   NA            & 20             \\\\\n",
       "\t  5              & 7654            & MARTIN          & SALESMAN        & 7698            & 1981-09-10 0:00 & 1250            & 1400            & 30             \\\\\n",
       "\t  6              & 7499            & ALLEN           & SALESMAN        & 7698            & 1981-02-11 0:00 & 1600            &  300            & 30             \\\\\n",
       "\t  7              & 7844            & TURNER          & SALESMAN        & 7698            & 1981-08-21 0:00 & 1500            &    0            & 30             \\\\\n",
       "\t  8              & 7900            & JAMES           & CLERK           & 7698            & 1981-12-11 0:00 &  950            &   NA            & 30             \\\\\n",
       "\t  9              & 7521            & WARD            & SALESMAN        & 7698            & 1981-02-23 0:00 & 1250            &  500            & 30             \\\\\n",
       "\t 10              & 7902            & FORD            & ANALYST         & 7566            & 1981-12-11 0:00 & 3000            &   NA            & 20             \\\\\n",
       "\t 11              & 7369            & SMITH           & CLERK           & 7902            & 1980-12-09 0:00 &  800            &   NA            & 20             \\\\\n",
       "\t 12              & 7788            & SCOTT           & ANALYST         & 7566            & 1982-12-22 0:00 & 3000            &   NA            & 20             \\\\\n",
       "\t 13              & 7876            & ADAMS           & CLERK           & 7788            & 1983-01-15 0:00 & 1100            &   NA            & 20             \\\\\n",
       "\t 14              & 7934            & MILLER          & CLERK           & 7782            & 1982-01-11 0:00 & 1300            &   NA            & 10             \\\\\n",
       "\\end{tabular}\n"
      ],
      "text/markdown": [
       "\n",
       "| index | empno | ename | job | mgr | hiredate | sal | comm | deptno |\n",
       "|---|---|---|---|---|---|---|---|---|\n",
       "|  1              | 7839            | KING            | PRESIDENT       |   NA            | 1981-11-17 0:00 | 5000            |   NA            | 10              |\n",
       "|  2              | 7698            | BLAKE           | MANAGER         | 7839            | 1981-05-01 0:00 | 2850            |   NA            | 30              |\n",
       "|  3              | 7782            | CLARK           | MANAGER         | 7839            | 1981-05-09 0:00 | 2450            |   NA            | 10              |\n",
       "|  4              | 7566            | JONES           | MANAGER         | 7839            | 1981-04-01 0:00 | 2975            |   NA            | 20              |\n",
       "|  5              | 7654            | MARTIN          | SALESMAN        | 7698            | 1981-09-10 0:00 | 1250            | 1400            | 30              |\n",
       "|  6              | 7499            | ALLEN           | SALESMAN        | 7698            | 1981-02-11 0:00 | 1600            |  300            | 30              |\n",
       "|  7              | 7844            | TURNER          | SALESMAN        | 7698            | 1981-08-21 0:00 | 1500            |    0            | 30              |\n",
       "|  8              | 7900            | JAMES           | CLERK           | 7698            | 1981-12-11 0:00 |  950            |   NA            | 30              |\n",
       "|  9              | 7521            | WARD            | SALESMAN        | 7698            | 1981-02-23 0:00 | 1250            |  500            | 30              |\n",
       "| 10              | 7902            | FORD            | ANALYST         | 7566            | 1981-12-11 0:00 | 3000            |   NA            | 20              |\n",
       "| 11              | 7369            | SMITH           | CLERK           | 7902            | 1980-12-09 0:00 |  800            |   NA            | 20              |\n",
       "| 12              | 7788            | SCOTT           | ANALYST         | 7566            | 1982-12-22 0:00 | 3000            |   NA            | 20              |\n",
       "| 13              | 7876            | ADAMS           | CLERK           | 7788            | 1983-01-15 0:00 | 1100            |   NA            | 20              |\n",
       "| 14              | 7934            | MILLER          | CLERK           | 7782            | 1982-01-11 0:00 | 1300            |   NA            | 10              |\n",
       "\n"
      ],
      "text/plain": [
       "   index empno ename  job       mgr  hiredate        sal  comm deptno\n",
       "1   1    7839  KING   PRESIDENT   NA 1981-11-17 0:00 5000   NA 10    \n",
       "2   2    7698  BLAKE  MANAGER   7839 1981-05-01 0:00 2850   NA 30    \n",
       "3   3    7782  CLARK  MANAGER   7839 1981-05-09 0:00 2450   NA 10    \n",
       "4   4    7566  JONES  MANAGER   7839 1981-04-01 0:00 2975   NA 20    \n",
       "5   5    7654  MARTIN SALESMAN  7698 1981-09-10 0:00 1250 1400 30    \n",
       "6   6    7499  ALLEN  SALESMAN  7698 1981-02-11 0:00 1600  300 30    \n",
       "7   7    7844  TURNER SALESMAN  7698 1981-08-21 0:00 1500    0 30    \n",
       "8   8    7900  JAMES  CLERK     7698 1981-12-11 0:00  950   NA 30    \n",
       "9   9    7521  WARD   SALESMAN  7698 1981-02-23 0:00 1250  500 30    \n",
       "10 10    7902  FORD   ANALYST   7566 1981-12-11 0:00 3000   NA 20    \n",
       "11 11    7369  SMITH  CLERK     7902 1980-12-09 0:00  800   NA 20    \n",
       "12 12    7788  SCOTT  ANALYST   7566 1982-12-22 0:00 3000   NA 20    \n",
       "13 13    7876  ADAMS  CLERK     7788 1983-01-15 0:00 1100   NA 20    \n",
       "14 14    7934  MILLER CLERK     7782 1982-01-11 0:00 1300   NA 10    "
      ]
     },
     "metadata": {},
     "output_type": "display_data"
    }
   ],
   "source": [
    "emp<-read.csv('emp3.csv',header=T)\n",
    "emp"
   ]
  },
  {
   "cell_type": "markdown",
   "metadata": {},
   "source": [
    "## ■ SQL과 R의 차이\n",
    "### 아주 긴 SQL 코드를 R 코드로는 아주 단순하게 작성할 수 있다.\n",
    "```sql\n",
    "select deptno, sum(decode(job,'SALESMAN',sal,0)),\n",
    "               sum(decode(job,'ANALYST',sal,0)),\n",
    "               sum(decode(job,'CLERK',sal,0)),\n",
    "               sum(decode(job,'MANAGER',sal,0)),\n",
    "               sum(decode(job,'PRESIDENT',sal,0))\n",
    "    from emp\n",
    "    group by deptno;\n",
    "```"
   ]
  },
  {
   "cell_type": "code",
   "execution_count": 5,
   "metadata": {
    "ExecuteTime": {
     "end_time": "2020-06-11T01:02:26.122131Z",
     "start_time": "2020-06-11T01:02:26.062Z"
    }
   },
   "outputs": [
    {
     "data": {
      "text/html": [
       "<table>\n",
       "<thead><tr><th></th><th scope=col>ANALYST</th><th scope=col>CLERK</th><th scope=col>MANAGER</th><th scope=col>PRESIDENT</th><th scope=col>SALESMAN</th></tr></thead>\n",
       "<tbody>\n",
       "\t<tr><th scope=row>10</th><td>  NA</td><td>1300</td><td>2450</td><td>5000</td><td>  NA</td></tr>\n",
       "\t<tr><th scope=row>20</th><td>6000</td><td>1900</td><td>2975</td><td>  NA</td><td>  NA</td></tr>\n",
       "\t<tr><th scope=row>30</th><td>  NA</td><td> 950</td><td>2850</td><td>  NA</td><td>5600</td></tr>\n",
       "</tbody>\n",
       "</table>\n"
      ],
      "text/latex": [
       "\\begin{tabular}{r|lllll}\n",
       "  & ANALYST & CLERK & MANAGER & PRESIDENT & SALESMAN\\\\\n",
       "\\hline\n",
       "\t10 &   NA & 1300 & 2450 & 5000 &   NA\\\\\n",
       "\t20 & 6000 & 1900 & 2975 &   NA &   NA\\\\\n",
       "\t30 &   NA &  950 & 2850 &   NA & 5600\\\\\n",
       "\\end{tabular}\n"
      ],
      "text/markdown": [
       "\n",
       "| <!--/--> | ANALYST | CLERK | MANAGER | PRESIDENT | SALESMAN |\n",
       "|---|---|---|---|---|---|\n",
       "| 10 |   NA | 1300 | 2450 | 5000 |   NA |\n",
       "| 20 | 6000 | 1900 | 2975 |   NA |   NA |\n",
       "| 30 |   NA |  950 | 2850 |   NA | 5600 |\n",
       "\n"
      ],
      "text/plain": [
       "   ANALYST CLERK MANAGER PRESIDENT SALESMAN\n",
       "10   NA    1300  2450    5000        NA    \n",
       "20 6000    1900  2975      NA        NA    \n",
       "30   NA     950  2850      NA      5600    "
      ]
     },
     "metadata": {},
     "output_type": "display_data"
    }
   ],
   "source": [
    "attach(emp)\n",
    "tapply(sal,list(deptno,job),sum)"
   ]
  },
  {
   "cell_type": "markdown",
   "metadata": {},
   "source": [
    "※ attach(emp)를 안하면 다음과 같이 작성해야한다.  \n",
    "```R\n",
    "tapply(emp$sal,list(emp$deptno, emp$job),sum)\n",
    "```"
   ]
  },
  {
   "cell_type": "markdown",
   "metadata": {},
   "source": [
    "### SQL로는 시각화를 할 수 없지만 R은 데이터 시각화가 아주 강력하다"
   ]
  },
  {
   "cell_type": "markdown",
   "metadata": {},
   "source": [
    "## ■ R의 자료구조 (R에서 데이터를 저장하는 구조)\n",
    "### 1. vector\n",
    "####       같은 데이터 타입을 갖는 1차원 배열구조\n",
    "### 2. matrix\n",
    "####       같은 데이터 타입을 갖는 2차원 배열구조\n",
    "### 3. array\n",
    "####       같은 데이터 타입을 갖는 다차원 배열구조\n",
    "### 4. data.frame\n",
    "####       같은 데이터 타입을 갖는 컬럼으로 이루어진 2차원 배열구조(RDBMS의 table과 유사)\n",
    "### 5. list\n",
    "####       서로 다른 데이터 구조(vector, matrix, array, data frame)인 데이터 타입이 중첩된 구조\n",
    "\n",
    "![구조](r자료구조.png)\n",
    "\n",
    "```\n",
    "      Oracle          vs          R\n",
    "     desc emp                  str(emp)\n",
    "```"
   ]
  },
  {
   "cell_type": "code",
   "execution_count": 6,
   "metadata": {
    "ExecuteTime": {
     "end_time": "2020-06-11T01:13:34.301326Z",
     "start_time": "2020-06-11T01:13:34.265Z"
    }
   },
   "outputs": [
    {
     "name": "stdout",
     "output_type": "stream",
     "text": [
      "'data.frame':\t14 obs. of  9 variables:\n",
      " $ index   : int  1 2 3 4 5 6 7 8 9 10 ...\n",
      " $ empno   : int  7839 7698 7782 7566 7654 7499 7844 7900 7521 7902 ...\n",
      " $ ename   : Factor w/ 14 levels \"ADAMS\",\"ALLEN\",..: 8 3 4 7 9 2 13 6 14 5 ...\n",
      " $ job     : Factor w/ 5 levels \"ANALYST\",\"CLERK\",..: 4 3 3 3 5 5 5 2 5 1 ...\n",
      " $ mgr     : int  NA 7839 7839 7839 7698 7698 7698 7698 7698 7566 ...\n",
      " $ hiredate: Factor w/ 13 levels \"1980-12-09 0:00\",..: 9 5 6 4 8 2 7 10 3 10 ...\n",
      " $ sal     : int  5000 2850 2450 2975 1250 1600 1500 950 1250 3000 ...\n",
      " $ comm    : int  NA NA NA NA 1400 300 0 NA 500 NA ...\n",
      " $ deptno  : int  10 30 10 20 30 30 30 30 30 20 ...\n"
     ]
    }
   ],
   "source": [
    "str(emp)"
   ]
  },
  {
   "cell_type": "markdown",
   "metadata": {},
   "source": [
    "## ■ R에서의 기본 데이터 검색"
   ]
  },
  {
   "cell_type": "markdown",
   "metadata": {},
   "source": [
    "### ※ 문제1. emp 데이터 프레임에서 이름과 월급을 출력하시오"
   ]
  },
  {
   "cell_type": "code",
   "execution_count": 9,
   "metadata": {
    "ExecuteTime": {
     "end_time": "2020-06-11T01:18:42.474069Z",
     "start_time": "2020-06-11T01:18:42.436Z"
    }
   },
   "outputs": [
    {
     "data": {
      "text/html": [
       "<table>\n",
       "<thead><tr><th scope=col>ename</th><th scope=col>sal</th></tr></thead>\n",
       "<tbody>\n",
       "\t<tr><td>KING  </td><td>5000  </td></tr>\n",
       "\t<tr><td>BLAKE </td><td>2850  </td></tr>\n",
       "\t<tr><td>CLARK </td><td>2450  </td></tr>\n",
       "\t<tr><td>JONES </td><td>2975  </td></tr>\n",
       "\t<tr><td>MARTIN</td><td>1250  </td></tr>\n",
       "\t<tr><td>ALLEN </td><td>1600  </td></tr>\n",
       "\t<tr><td>TURNER</td><td>1500  </td></tr>\n",
       "\t<tr><td>JAMES </td><td> 950  </td></tr>\n",
       "\t<tr><td>WARD  </td><td>1250  </td></tr>\n",
       "\t<tr><td>FORD  </td><td>3000  </td></tr>\n",
       "\t<tr><td>SMITH </td><td> 800  </td></tr>\n",
       "\t<tr><td>SCOTT </td><td>3000  </td></tr>\n",
       "\t<tr><td>ADAMS </td><td>1100  </td></tr>\n",
       "\t<tr><td>MILLER</td><td>1300  </td></tr>\n",
       "</tbody>\n",
       "</table>\n"
      ],
      "text/latex": [
       "\\begin{tabular}{r|ll}\n",
       " ename & sal\\\\\n",
       "\\hline\n",
       "\t KING   & 5000  \\\\\n",
       "\t BLAKE  & 2850  \\\\\n",
       "\t CLARK  & 2450  \\\\\n",
       "\t JONES  & 2975  \\\\\n",
       "\t MARTIN & 1250  \\\\\n",
       "\t ALLEN  & 1600  \\\\\n",
       "\t TURNER & 1500  \\\\\n",
       "\t JAMES  &  950  \\\\\n",
       "\t WARD   & 1250  \\\\\n",
       "\t FORD   & 3000  \\\\\n",
       "\t SMITH  &  800  \\\\\n",
       "\t SCOTT  & 3000  \\\\\n",
       "\t ADAMS  & 1100  \\\\\n",
       "\t MILLER & 1300  \\\\\n",
       "\\end{tabular}\n"
      ],
      "text/markdown": [
       "\n",
       "| ename | sal |\n",
       "|---|---|\n",
       "| KING   | 5000   |\n",
       "| BLAKE  | 2850   |\n",
       "| CLARK  | 2450   |\n",
       "| JONES  | 2975   |\n",
       "| MARTIN | 1250   |\n",
       "| ALLEN  | 1600   |\n",
       "| TURNER | 1500   |\n",
       "| JAMES  |  950   |\n",
       "| WARD   | 1250   |\n",
       "| FORD   | 3000   |\n",
       "| SMITH  |  800   |\n",
       "| SCOTT  | 3000   |\n",
       "| ADAMS  | 1100   |\n",
       "| MILLER | 1300   |\n",
       "\n"
      ],
      "text/plain": [
       "   ename  sal \n",
       "1  KING   5000\n",
       "2  BLAKE  2850\n",
       "3  CLARK  2450\n",
       "4  JONES  2975\n",
       "5  MARTIN 1250\n",
       "6  ALLEN  1600\n",
       "7  TURNER 1500\n",
       "8  JAMES   950\n",
       "9  WARD   1250\n",
       "10 FORD   3000\n",
       "11 SMITH   800\n",
       "12 SCOTT  3000\n",
       "13 ADAMS  1100\n",
       "14 MILLER 1300"
      ]
     },
     "metadata": {},
     "output_type": "display_data"
    }
   ],
   "source": [
    "emp[,c('ename','sal')] # c() : combine"
   ]
  },
  {
   "cell_type": "markdown",
   "metadata": {},
   "source": [
    "### ※ 문제2. 월급이 3000 이상인 사원들의 이름과 월급을 출력하시오"
   ]
  },
  {
   "cell_type": "code",
   "execution_count": 24,
   "metadata": {
    "ExecuteTime": {
     "end_time": "2020-06-11T01:21:48.731120Z",
     "start_time": "2020-06-11T01:21:48.697Z"
    }
   },
   "outputs": [
    {
     "data": {
      "text/html": [
       "<table>\n",
       "<thead><tr><th></th><th scope=col>ename</th><th scope=col>sal</th></tr></thead>\n",
       "<tbody>\n",
       "\t<tr><th scope=row>1</th><td>KING </td><td>5000 </td></tr>\n",
       "\t<tr><th scope=row>10</th><td>FORD </td><td>3000 </td></tr>\n",
       "\t<tr><th scope=row>12</th><td>SCOTT</td><td>3000 </td></tr>\n",
       "</tbody>\n",
       "</table>\n"
      ],
      "text/latex": [
       "\\begin{tabular}{r|ll}\n",
       "  & ename & sal\\\\\n",
       "\\hline\n",
       "\t1 & KING  & 5000 \\\\\n",
       "\t10 & FORD  & 3000 \\\\\n",
       "\t12 & SCOTT & 3000 \\\\\n",
       "\\end{tabular}\n"
      ],
      "text/markdown": [
       "\n",
       "| <!--/--> | ename | sal |\n",
       "|---|---|---|\n",
       "| 1 | KING  | 5000  |\n",
       "| 10 | FORD  | 3000  |\n",
       "| 12 | SCOTT | 3000  |\n",
       "\n"
      ],
      "text/plain": [
       "   ename sal \n",
       "1  KING  5000\n",
       "10 FORD  3000\n",
       "12 SCOTT 3000"
      ]
     },
     "metadata": {},
     "output_type": "display_data"
    }
   ],
   "source": [
    "emp=read.csv('emp3.csv',header=T)\n",
    "emp[emp$sal>=3000,c('ename','sal')]"
   ]
  },
  {
   "cell_type": "markdown",
   "metadata": {},
   "source": [
    "### ※ 문제3. 월급이 2000 이상인 사원들의 이름과 월급을 출력하시오"
   ]
  },
  {
   "cell_type": "code",
   "execution_count": 25,
   "metadata": {
    "ExecuteTime": {
     "end_time": "2020-06-11T01:21:58.089946Z",
     "start_time": "2020-06-11T01:21:58.053Z"
    }
   },
   "outputs": [
    {
     "data": {
      "text/html": [
       "<table>\n",
       "<thead><tr><th></th><th scope=col>ename</th><th scope=col>sal</th></tr></thead>\n",
       "<tbody>\n",
       "\t<tr><th scope=row>1</th><td>KING </td><td>5000 </td></tr>\n",
       "\t<tr><th scope=row>2</th><td>BLAKE</td><td>2850 </td></tr>\n",
       "\t<tr><th scope=row>3</th><td>CLARK</td><td>2450 </td></tr>\n",
       "\t<tr><th scope=row>4</th><td>JONES</td><td>2975 </td></tr>\n",
       "\t<tr><th scope=row>10</th><td>FORD </td><td>3000 </td></tr>\n",
       "\t<tr><th scope=row>12</th><td>SCOTT</td><td>3000 </td></tr>\n",
       "</tbody>\n",
       "</table>\n"
      ],
      "text/latex": [
       "\\begin{tabular}{r|ll}\n",
       "  & ename & sal\\\\\n",
       "\\hline\n",
       "\t1 & KING  & 5000 \\\\\n",
       "\t2 & BLAKE & 2850 \\\\\n",
       "\t3 & CLARK & 2450 \\\\\n",
       "\t4 & JONES & 2975 \\\\\n",
       "\t10 & FORD  & 3000 \\\\\n",
       "\t12 & SCOTT & 3000 \\\\\n",
       "\\end{tabular}\n"
      ],
      "text/markdown": [
       "\n",
       "| <!--/--> | ename | sal |\n",
       "|---|---|---|\n",
       "| 1 | KING  | 5000  |\n",
       "| 2 | BLAKE | 2850  |\n",
       "| 3 | CLARK | 2450  |\n",
       "| 4 | JONES | 2975  |\n",
       "| 10 | FORD  | 3000  |\n",
       "| 12 | SCOTT | 3000  |\n",
       "\n"
      ],
      "text/plain": [
       "   ename sal \n",
       "1  KING  5000\n",
       "2  BLAKE 2850\n",
       "3  CLARK 2450\n",
       "4  JONES 2975\n",
       "10 FORD  3000\n",
       "12 SCOTT 3000"
      ]
     },
     "metadata": {},
     "output_type": "display_data"
    }
   ],
   "source": [
    "emp[emp$sal>=2000,c('ename','sal')]"
   ]
  },
  {
   "cell_type": "markdown",
   "metadata": {},
   "source": [
    "### ※ R에서 사용하는 연산자 3가지\n",
    "#### 1. 산술연산자  : +, _, *, /\n",
    "#### 2. 비교연산자 : >, <, >=, <=, ==, !=\n",
    "#### 3. 논리연산자 : & (벡터화 됐을 때 연산) / &&(벡터화 되지 않았을 때 연산) / | (벡터화 됐을 때 연산)/ || (벡터화 되지 않았을 때 연산)/ ! (not)"
   ]
  },
  {
   "cell_type": "markdown",
   "metadata": {},
   "source": [
    "## ■ 벡터화 된 연산 vs 벡터화 되지 않은 연산"
   ]
  },
  {
   "cell_type": "code",
   "execution_count": 62,
   "metadata": {
    "ExecuteTime": {
     "end_time": "2020-06-11T02:23:46.344891Z",
     "start_time": "2020-06-11T02:23:46.312Z"
    }
   },
   "outputs": [
    {
     "name": "stdout",
     "output_type": "stream",
     "text": [
      "[1] 1 2 3\n",
      "[1] FALSE  TRUE FALSE\n"
     ]
    }
   ],
   "source": [
    "# 벡터화 된 연산\n",
    "x=c(1,2,3)\n",
    "print(x)\n",
    "print(x > c(1,1,1) & x < c(3,3,3))"
   ]
  },
  {
   "cell_type": "code",
   "execution_count": 60,
   "metadata": {
    "ExecuteTime": {
     "end_time": "2020-06-11T02:23:34.072007Z",
     "start_time": "2020-06-11T02:23:34.039Z"
    }
   },
   "outputs": [
    {
     "name": "stdout",
     "output_type": "stream",
     "text": [
      "[1] TRUE\n"
     ]
    }
   ],
   "source": [
    "# 벡터화 되지 않은 연산\n",
    "x2=1\n",
    "print(x2 > -2 && x2 < 2)"
   ]
  },
  {
   "cell_type": "markdown",
   "metadata": {},
   "source": [
    "### ※ 문제4. 직업이 SALESMAN인 사원들의 이름과 월급과 직업을 출력하시오"
   ]
  },
  {
   "cell_type": "code",
   "execution_count": 41,
   "metadata": {
    "ExecuteTime": {
     "end_time": "2020-06-11T01:55:31.916231Z",
     "start_time": "2020-06-11T01:55:31.880Z"
    }
   },
   "outputs": [
    {
     "data": {
      "text/html": [
       "<table>\n",
       "<thead><tr><th></th><th scope=col>ename</th><th scope=col>sal</th><th scope=col>job</th></tr></thead>\n",
       "<tbody>\n",
       "\t<tr><th scope=row>5</th><td>MARTIN  </td><td>1250    </td><td>SALESMAN</td></tr>\n",
       "\t<tr><th scope=row>6</th><td>ALLEN   </td><td>1600    </td><td>SALESMAN</td></tr>\n",
       "\t<tr><th scope=row>7</th><td>TURNER  </td><td>1500    </td><td>SALESMAN</td></tr>\n",
       "\t<tr><th scope=row>9</th><td>WARD    </td><td>1250    </td><td>SALESMAN</td></tr>\n",
       "</tbody>\n",
       "</table>\n"
      ],
      "text/latex": [
       "\\begin{tabular}{r|lll}\n",
       "  & ename & sal & job\\\\\n",
       "\\hline\n",
       "\t5 & MARTIN   & 1250     & SALESMAN\\\\\n",
       "\t6 & ALLEN    & 1600     & SALESMAN\\\\\n",
       "\t7 & TURNER   & 1500     & SALESMAN\\\\\n",
       "\t9 & WARD     & 1250     & SALESMAN\\\\\n",
       "\\end{tabular}\n"
      ],
      "text/markdown": [
       "\n",
       "| <!--/--> | ename | sal | job |\n",
       "|---|---|---|---|\n",
       "| 5 | MARTIN   | 1250     | SALESMAN |\n",
       "| 6 | ALLEN    | 1600     | SALESMAN |\n",
       "| 7 | TURNER   | 1500     | SALESMAN |\n",
       "| 9 | WARD     | 1250     | SALESMAN |\n",
       "\n"
      ],
      "text/plain": [
       "  ename  sal  job     \n",
       "5 MARTIN 1250 SALESMAN\n",
       "6 ALLEN  1600 SALESMAN\n",
       "7 TURNER 1500 SALESMAN\n",
       "9 WARD   1250 SALESMAN"
      ]
     },
     "metadata": {},
     "output_type": "display_data"
    }
   ],
   "source": [
    "emp[emp$job=='SALESMAN',c('ename','sal','job')]"
   ]
  },
  {
   "cell_type": "markdown",
   "metadata": {},
   "source": [
    "### ※ 문제5. 직업이 SALESMAN이고 월급이 1000 이상인 사원들의 이름과 월급과 직업을 출력하시오"
   ]
  },
  {
   "cell_type": "code",
   "execution_count": 42,
   "metadata": {
    "ExecuteTime": {
     "end_time": "2020-06-11T01:57:56.061217Z",
     "start_time": "2020-06-11T01:57:56.023Z"
    }
   },
   "outputs": [
    {
     "data": {
      "text/html": [
       "<table>\n",
       "<thead><tr><th></th><th scope=col>ename</th><th scope=col>sal</th><th scope=col>job</th></tr></thead>\n",
       "<tbody>\n",
       "\t<tr><th scope=row>5</th><td>MARTIN  </td><td>1250    </td><td>SALESMAN</td></tr>\n",
       "\t<tr><th scope=row>6</th><td>ALLEN   </td><td>1600    </td><td>SALESMAN</td></tr>\n",
       "\t<tr><th scope=row>7</th><td>TURNER  </td><td>1500    </td><td>SALESMAN</td></tr>\n",
       "\t<tr><th scope=row>9</th><td>WARD    </td><td>1250    </td><td>SALESMAN</td></tr>\n",
       "</tbody>\n",
       "</table>\n"
      ],
      "text/latex": [
       "\\begin{tabular}{r|lll}\n",
       "  & ename & sal & job\\\\\n",
       "\\hline\n",
       "\t5 & MARTIN   & 1250     & SALESMAN\\\\\n",
       "\t6 & ALLEN    & 1600     & SALESMAN\\\\\n",
       "\t7 & TURNER   & 1500     & SALESMAN\\\\\n",
       "\t9 & WARD     & 1250     & SALESMAN\\\\\n",
       "\\end{tabular}\n"
      ],
      "text/markdown": [
       "\n",
       "| <!--/--> | ename | sal | job |\n",
       "|---|---|---|---|\n",
       "| 5 | MARTIN   | 1250     | SALESMAN |\n",
       "| 6 | ALLEN    | 1600     | SALESMAN |\n",
       "| 7 | TURNER   | 1500     | SALESMAN |\n",
       "| 9 | WARD     | 1250     | SALESMAN |\n",
       "\n"
      ],
      "text/plain": [
       "  ename  sal  job     \n",
       "5 MARTIN 1250 SALESMAN\n",
       "6 ALLEN  1600 SALESMAN\n",
       "7 TURNER 1500 SALESMAN\n",
       "9 WARD   1250 SALESMAN"
      ]
     },
     "metadata": {},
     "output_type": "display_data"
    }
   ],
   "source": [
    "emp[emp$job=='SALESMAN' & emp$sal>=1000, c('ename','sal','job')]"
   ]
  },
  {
   "cell_type": "markdown",
   "metadata": {},
   "source": [
    "#### ※ emp\\\\$job이나 emp\\$sal은 벡터이다. 벡터란 같은 데이터 타입을 갖는 1차원 구조이다"
   ]
  },
  {
   "cell_type": "markdown",
   "metadata": {},
   "source": [
    "## ■ 연결 연산자\n",
    "```\n",
    "        Oracle    vs    R\n",
    "          ||          paste\n",
    "          ```"
   ]
  },
  {
   "cell_type": "markdown",
   "metadata": {},
   "source": [
    "### ※ 문제6. 아래와 같이 결과를 출력하시오\n",
    "```sql\n",
    "select ename||'의 직업은'|| job\n",
    "    from emp;\n",
    "    ```"
   ]
  },
  {
   "cell_type": "code",
   "execution_count": 47,
   "metadata": {
    "ExecuteTime": {
     "end_time": "2020-06-11T02:06:56.858184Z",
     "start_time": "2020-06-11T02:06:56.821Z"
    }
   },
   "outputs": [
    {
     "data": {
      "text/html": [
       "<ol class=list-inline>\n",
       "\t<li>'KING 의 직업은 PRESIDENT'</li>\n",
       "\t<li>'BLAKE 의 직업은 MANAGER'</li>\n",
       "\t<li>'CLARK 의 직업은 MANAGER'</li>\n",
       "\t<li>'JONES 의 직업은 MANAGER'</li>\n",
       "\t<li>'MARTIN 의 직업은 SALESMAN'</li>\n",
       "\t<li>'ALLEN 의 직업은 SALESMAN'</li>\n",
       "\t<li>'TURNER 의 직업은 SALESMAN'</li>\n",
       "\t<li>'JAMES 의 직업은 CLERK'</li>\n",
       "\t<li>'WARD 의 직업은 SALESMAN'</li>\n",
       "\t<li>'FORD 의 직업은 ANALYST'</li>\n",
       "\t<li>'SMITH 의 직업은 CLERK'</li>\n",
       "\t<li>'SCOTT 의 직업은 ANALYST'</li>\n",
       "\t<li>'ADAMS 의 직업은 CLERK'</li>\n",
       "\t<li>'MILLER 의 직업은 CLERK'</li>\n",
       "</ol>\n"
      ],
      "text/latex": [
       "\\begin{enumerate*}\n",
       "\\item 'KING 의 직업은 PRESIDENT'\n",
       "\\item 'BLAKE 의 직업은 MANAGER'\n",
       "\\item 'CLARK 의 직업은 MANAGER'\n",
       "\\item 'JONES 의 직업은 MANAGER'\n",
       "\\item 'MARTIN 의 직업은 SALESMAN'\n",
       "\\item 'ALLEN 의 직업은 SALESMAN'\n",
       "\\item 'TURNER 의 직업은 SALESMAN'\n",
       "\\item 'JAMES 의 직업은 CLERK'\n",
       "\\item 'WARD 의 직업은 SALESMAN'\n",
       "\\item 'FORD 의 직업은 ANALYST'\n",
       "\\item 'SMITH 의 직업은 CLERK'\n",
       "\\item 'SCOTT 의 직업은 ANALYST'\n",
       "\\item 'ADAMS 의 직업은 CLERK'\n",
       "\\item 'MILLER 의 직업은 CLERK'\n",
       "\\end{enumerate*}\n"
      ],
      "text/markdown": [
       "1. 'KING 의 직업은 PRESIDENT'\n",
       "2. 'BLAKE 의 직업은 MANAGER'\n",
       "3. 'CLARK 의 직업은 MANAGER'\n",
       "4. 'JONES 의 직업은 MANAGER'\n",
       "5. 'MARTIN 의 직업은 SALESMAN'\n",
       "6. 'ALLEN 의 직업은 SALESMAN'\n",
       "7. 'TURNER 의 직업은 SALESMAN'\n",
       "8. 'JAMES 의 직업은 CLERK'\n",
       "9. 'WARD 의 직업은 SALESMAN'\n",
       "10. 'FORD 의 직업은 ANALYST'\n",
       "11. 'SMITH 의 직업은 CLERK'\n",
       "12. 'SCOTT 의 직업은 ANALYST'\n",
       "13. 'ADAMS 의 직업은 CLERK'\n",
       "14. 'MILLER 의 직업은 CLERK'\n",
       "\n",
       "\n"
      ],
      "text/plain": [
       " [1] \"KING 의 직업은 PRESIDENT\"  \"BLAKE 의 직업은 MANAGER\"  \n",
       " [3] \"CLARK 의 직업은 MANAGER\"   \"JONES 의 직업은 MANAGER\"  \n",
       " [5] \"MARTIN 의 직업은 SALESMAN\" \"ALLEN 의 직업은 SALESMAN\" \n",
       " [7] \"TURNER 의 직업은 SALESMAN\" \"JAMES 의 직업은 CLERK\"    \n",
       " [9] \"WARD 의 직업은 SALESMAN\"   \"FORD 의 직업은 ANALYST\"   \n",
       "[11] \"SMITH 의 직업은 CLERK\"     \"SCOTT 의 직업은 ANALYST\"  \n",
       "[13] \"ADAMS 의 직업은 CLERK\"     \"MILLER 의 직업은 CLERK\"   "
      ]
     },
     "metadata": {},
     "output_type": "display_data"
    }
   ],
   "source": [
    "paste(emp$ename,'의 직업은',emp$job)"
   ]
  },
  {
   "cell_type": "code",
   "execution_count": 48,
   "metadata": {
    "ExecuteTime": {
     "end_time": "2020-06-11T02:07:28.835348Z",
     "start_time": "2020-06-11T02:07:08.377Z"
    }
   },
   "outputs": [
    {
     "name": "stderr",
     "output_type": "stream",
     "text": [
      "Installing package into 'C:/Users/knitwill/Documents/R/win-library/3.6'\n",
      "(as 'lib' is unspecified)\n"
     ]
    },
    {
     "name": "stdout",
     "output_type": "stream",
     "text": [
      "package 'data.table' successfully unpacked and MD5 sums checked\n",
      "\n",
      "The downloaded binary packages are in\n",
      "\tC:\\Users\\knitwill\\AppData\\Local\\Temp\\RtmpWwdHCw\\downloaded_packages\n"
     ]
    }
   ],
   "source": [
    "install.packages(\"data.table\")"
   ]
  },
  {
   "cell_type": "code",
   "execution_count": 50,
   "metadata": {
    "ExecuteTime": {
     "end_time": "2020-06-11T02:10:34.422841Z",
     "start_time": "2020-06-11T02:10:34.332Z"
    }
   },
   "outputs": [
    {
     "data": {
      "text/html": [
       "<table>\n",
       "<thead><tr><th scope=col>V1</th></tr></thead>\n",
       "<tbody>\n",
       "\t<tr><td>KING 의 직업은 PRESIDENT </td></tr>\n",
       "\t<tr><td>BLAKE 의 직업은 MANAGER  </td></tr>\n",
       "\t<tr><td>CLARK 의 직업은 MANAGER  </td></tr>\n",
       "\t<tr><td>JONES 의 직업은 MANAGER  </td></tr>\n",
       "\t<tr><td>MARTIN 의 직업은 SALESMAN</td></tr>\n",
       "\t<tr><td>ALLEN 의 직업은 SALESMAN </td></tr>\n",
       "\t<tr><td>TURNER 의 직업은 SALESMAN</td></tr>\n",
       "\t<tr><td>JAMES 의 직업은 CLERK    </td></tr>\n",
       "\t<tr><td>WARD 의 직업은 SALESMAN  </td></tr>\n",
       "\t<tr><td>FORD 의 직업은 ANALYST   </td></tr>\n",
       "\t<tr><td>SMITH 의 직업은 CLERK    </td></tr>\n",
       "\t<tr><td>SCOTT 의 직업은 ANALYST  </td></tr>\n",
       "\t<tr><td>ADAMS 의 직업은 CLERK    </td></tr>\n",
       "\t<tr><td>MILLER 의 직업은 CLERK   </td></tr>\n",
       "</tbody>\n",
       "</table>\n"
      ],
      "text/latex": [
       "\\begin{tabular}{r|l}\n",
       " V1\\\\\n",
       "\\hline\n",
       "\t KING 의 직업은 PRESIDENT \\\\\n",
       "\t BLAKE 의 직업은 MANAGER  \\\\\n",
       "\t CLARK 의 직업은 MANAGER  \\\\\n",
       "\t JONES 의 직업은 MANAGER  \\\\\n",
       "\t MARTIN 의 직업은 SALESMAN\\\\\n",
       "\t ALLEN 의 직업은 SALESMAN \\\\\n",
       "\t TURNER 의 직업은 SALESMAN\\\\\n",
       "\t JAMES 의 직업은 CLERK    \\\\\n",
       "\t WARD 의 직업은 SALESMAN  \\\\\n",
       "\t FORD 의 직업은 ANALYST   \\\\\n",
       "\t SMITH 의 직업은 CLERK    \\\\\n",
       "\t SCOTT 의 직업은 ANALYST  \\\\\n",
       "\t ADAMS 의 직업은 CLERK    \\\\\n",
       "\t MILLER 의 직업은 CLERK   \\\\\n",
       "\\end{tabular}\n"
      ],
      "text/markdown": [
       "\n",
       "| V1 |\n",
       "|---|\n",
       "| KING 의 직업은 PRESIDENT  |\n",
       "| BLAKE 의 직업은 MANAGER   |\n",
       "| CLARK 의 직업은 MANAGER   |\n",
       "| JONES 의 직업은 MANAGER   |\n",
       "| MARTIN 의 직업은 SALESMAN |\n",
       "| ALLEN 의 직업은 SALESMAN  |\n",
       "| TURNER 의 직업은 SALESMAN |\n",
       "| JAMES 의 직업은 CLERK     |\n",
       "| WARD 의 직업은 SALESMAN   |\n",
       "| FORD 의 직업은 ANALYST    |\n",
       "| SMITH 의 직업은 CLERK     |\n",
       "| SCOTT 의 직업은 ANALYST   |\n",
       "| ADAMS 의 직업은 CLERK     |\n",
       "| MILLER 의 직업은 CLERK    |\n",
       "\n"
      ],
      "text/plain": [
       "   V1                       \n",
       "1  KING 의 직업은 PRESIDENT \n",
       "2  BLAKE 의 직업은 MANAGER  \n",
       "3  CLARK 의 직업은 MANAGER  \n",
       "4  JONES 의 직업은 MANAGER  \n",
       "5  MARTIN 의 직업은 SALESMAN\n",
       "6  ALLEN 의 직업은 SALESMAN \n",
       "7  TURNER 의 직업은 SALESMAN\n",
       "8  JAMES 의 직업은 CLERK    \n",
       "9  WARD 의 직업은 SALESMAN  \n",
       "10 FORD 의 직업은 ANALYST   \n",
       "11 SMITH 의 직업은 CLERK    \n",
       "12 SCOTT 의 직업은 ANALYST  \n",
       "13 ADAMS 의 직업은 CLERK    \n",
       "14 MILLER 의 직업은 CLERK   "
      ]
     },
     "metadata": {},
     "output_type": "display_data"
    }
   ],
   "source": [
    "data.table(paste(emp$ename,'의 직업은',emp$job))"
   ]
  },
  {
   "cell_type": "markdown",
   "metadata": {},
   "source": [
    "## ■ 기타 비교 연산자\n",
    "```\n",
    "    SQL        vs           R\n",
    "    in                     %in%\n",
    "    like                   grep\n",
    "    is null                is.na\n",
    "    between .. and         >= & <=\n",
    "    ```"
   ]
  },
  {
   "cell_type": "markdown",
   "metadata": {},
   "source": [
    "### ※ 문제7. 직업이 SALESMAN, ANALYST인 사원들의 이름, 월급, 직업을 출력하시오"
   ]
  },
  {
   "cell_type": "code",
   "execution_count": 51,
   "metadata": {
    "ExecuteTime": {
     "end_time": "2020-06-11T02:13:33.808913Z",
     "start_time": "2020-06-11T02:13:33.772Z"
    }
   },
   "outputs": [
    {
     "data": {
      "text/html": [
       "<table>\n",
       "<thead><tr><th></th><th scope=col>ename</th><th scope=col>sal</th><th scope=col>job</th></tr></thead>\n",
       "<tbody>\n",
       "\t<tr><th scope=row>5</th><td>MARTIN  </td><td>1250    </td><td>SALESMAN</td></tr>\n",
       "\t<tr><th scope=row>6</th><td>ALLEN   </td><td>1600    </td><td>SALESMAN</td></tr>\n",
       "\t<tr><th scope=row>7</th><td>TURNER  </td><td>1500    </td><td>SALESMAN</td></tr>\n",
       "\t<tr><th scope=row>9</th><td>WARD    </td><td>1250    </td><td>SALESMAN</td></tr>\n",
       "\t<tr><th scope=row>10</th><td>FORD    </td><td>3000    </td><td>ANALYST </td></tr>\n",
       "\t<tr><th scope=row>12</th><td>SCOTT   </td><td>3000    </td><td>ANALYST </td></tr>\n",
       "</tbody>\n",
       "</table>\n"
      ],
      "text/latex": [
       "\\begin{tabular}{r|lll}\n",
       "  & ename & sal & job\\\\\n",
       "\\hline\n",
       "\t5 & MARTIN   & 1250     & SALESMAN\\\\\n",
       "\t6 & ALLEN    & 1600     & SALESMAN\\\\\n",
       "\t7 & TURNER   & 1500     & SALESMAN\\\\\n",
       "\t9 & WARD     & 1250     & SALESMAN\\\\\n",
       "\t10 & FORD     & 3000     & ANALYST \\\\\n",
       "\t12 & SCOTT    & 3000     & ANALYST \\\\\n",
       "\\end{tabular}\n"
      ],
      "text/markdown": [
       "\n",
       "| <!--/--> | ename | sal | job |\n",
       "|---|---|---|---|\n",
       "| 5 | MARTIN   | 1250     | SALESMAN |\n",
       "| 6 | ALLEN    | 1600     | SALESMAN |\n",
       "| 7 | TURNER   | 1500     | SALESMAN |\n",
       "| 9 | WARD     | 1250     | SALESMAN |\n",
       "| 10 | FORD     | 3000     | ANALYST  |\n",
       "| 12 | SCOTT    | 3000     | ANALYST  |\n",
       "\n"
      ],
      "text/plain": [
       "   ename  sal  job     \n",
       "5  MARTIN 1250 SALESMAN\n",
       "6  ALLEN  1600 SALESMAN\n",
       "7  TURNER 1500 SALESMAN\n",
       "9  WARD   1250 SALESMAN\n",
       "10 FORD   3000 ANALYST \n",
       "12 SCOTT  3000 ANALYST "
      ]
     },
     "metadata": {},
     "output_type": "display_data"
    }
   ],
   "source": [
    "emp[emp$job %in% c('SALESMAN','ANALYST'),c('ename','sal','job')]"
   ]
  },
  {
   "cell_type": "markdown",
   "metadata": {},
   "source": [
    "### ※ 문제8. 직업이 SALESMAN, ANALYST가 아닌 사원들의 이름, 월급, 직업을 출력하시오"
   ]
  },
  {
   "cell_type": "code",
   "execution_count": 55,
   "metadata": {
    "ExecuteTime": {
     "end_time": "2020-06-11T02:16:55.749626Z",
     "start_time": "2020-06-11T02:16:55.715Z"
    }
   },
   "outputs": [
    {
     "data": {
      "text/html": [
       "<table>\n",
       "<thead><tr><th></th><th scope=col>ename</th><th scope=col>sal</th><th scope=col>job</th></tr></thead>\n",
       "<tbody>\n",
       "\t<tr><th scope=row>1</th><td>KING     </td><td>5000     </td><td>PRESIDENT</td></tr>\n",
       "\t<tr><th scope=row>2</th><td>BLAKE    </td><td>2850     </td><td>MANAGER  </td></tr>\n",
       "\t<tr><th scope=row>3</th><td>CLARK    </td><td>2450     </td><td>MANAGER  </td></tr>\n",
       "\t<tr><th scope=row>4</th><td>JONES    </td><td>2975     </td><td>MANAGER  </td></tr>\n",
       "\t<tr><th scope=row>8</th><td>JAMES    </td><td> 950     </td><td>CLERK    </td></tr>\n",
       "\t<tr><th scope=row>11</th><td>SMITH    </td><td> 800     </td><td>CLERK    </td></tr>\n",
       "\t<tr><th scope=row>13</th><td>ADAMS    </td><td>1100     </td><td>CLERK    </td></tr>\n",
       "\t<tr><th scope=row>14</th><td>MILLER   </td><td>1300     </td><td>CLERK    </td></tr>\n",
       "</tbody>\n",
       "</table>\n"
      ],
      "text/latex": [
       "\\begin{tabular}{r|lll}\n",
       "  & ename & sal & job\\\\\n",
       "\\hline\n",
       "\t1 & KING      & 5000      & PRESIDENT\\\\\n",
       "\t2 & BLAKE     & 2850      & MANAGER  \\\\\n",
       "\t3 & CLARK     & 2450      & MANAGER  \\\\\n",
       "\t4 & JONES     & 2975      & MANAGER  \\\\\n",
       "\t8 & JAMES     &  950      & CLERK    \\\\\n",
       "\t11 & SMITH     &  800      & CLERK    \\\\\n",
       "\t13 & ADAMS     & 1100      & CLERK    \\\\\n",
       "\t14 & MILLER    & 1300      & CLERK    \\\\\n",
       "\\end{tabular}\n"
      ],
      "text/markdown": [
       "\n",
       "| <!--/--> | ename | sal | job |\n",
       "|---|---|---|---|\n",
       "| 1 | KING      | 5000      | PRESIDENT |\n",
       "| 2 | BLAKE     | 2850      | MANAGER   |\n",
       "| 3 | CLARK     | 2450      | MANAGER   |\n",
       "| 4 | JONES     | 2975      | MANAGER   |\n",
       "| 8 | JAMES     |  950      | CLERK     |\n",
       "| 11 | SMITH     |  800      | CLERK     |\n",
       "| 13 | ADAMS     | 1100      | CLERK     |\n",
       "| 14 | MILLER    | 1300      | CLERK     |\n",
       "\n"
      ],
      "text/plain": [
       "   ename  sal  job      \n",
       "1  KING   5000 PRESIDENT\n",
       "2  BLAKE  2850 MANAGER  \n",
       "3  CLARK  2450 MANAGER  \n",
       "4  JONES  2975 MANAGER  \n",
       "8  JAMES   950 CLERK    \n",
       "11 SMITH   800 CLERK    \n",
       "13 ADAMS  1100 CLERK    \n",
       "14 MILLER 1300 CLERK    "
      ]
     },
     "metadata": {},
     "output_type": "display_data"
    }
   ],
   "source": [
    "emp[!emp$job %in% c('SALESMAN','ANALYST'),c('ename','sal','job')]"
   ]
  },
  {
   "cell_type": "markdown",
   "metadata": {},
   "source": [
    "### ※ 문제9. 커미션이 null인 사원들의 이름, 월급, 커미션을 출력하시오"
   ]
  },
  {
   "cell_type": "code",
   "execution_count": 58,
   "metadata": {
    "ExecuteTime": {
     "end_time": "2020-06-11T02:20:37.539256Z",
     "start_time": "2020-06-11T02:20:37.498Z"
    }
   },
   "outputs": [
    {
     "data": {
      "text/html": [
       "<table>\n",
       "<thead><tr><th></th><th scope=col>ename</th><th scope=col>sal</th><th scope=col>comm</th></tr></thead>\n",
       "<tbody>\n",
       "\t<tr><th scope=row>1</th><td>KING  </td><td>5000  </td><td>NA    </td></tr>\n",
       "\t<tr><th scope=row>2</th><td>BLAKE </td><td>2850  </td><td>NA    </td></tr>\n",
       "\t<tr><th scope=row>3</th><td>CLARK </td><td>2450  </td><td>NA    </td></tr>\n",
       "\t<tr><th scope=row>4</th><td>JONES </td><td>2975  </td><td>NA    </td></tr>\n",
       "\t<tr><th scope=row>8</th><td>JAMES </td><td> 950  </td><td>NA    </td></tr>\n",
       "\t<tr><th scope=row>10</th><td>FORD  </td><td>3000  </td><td>NA    </td></tr>\n",
       "\t<tr><th scope=row>11</th><td>SMITH </td><td> 800  </td><td>NA    </td></tr>\n",
       "\t<tr><th scope=row>12</th><td>SCOTT </td><td>3000  </td><td>NA    </td></tr>\n",
       "\t<tr><th scope=row>13</th><td>ADAMS </td><td>1100  </td><td>NA    </td></tr>\n",
       "\t<tr><th scope=row>14</th><td>MILLER</td><td>1300  </td><td>NA    </td></tr>\n",
       "</tbody>\n",
       "</table>\n"
      ],
      "text/latex": [
       "\\begin{tabular}{r|lll}\n",
       "  & ename & sal & comm\\\\\n",
       "\\hline\n",
       "\t1 & KING   & 5000   & NA    \\\\\n",
       "\t2 & BLAKE  & 2850   & NA    \\\\\n",
       "\t3 & CLARK  & 2450   & NA    \\\\\n",
       "\t4 & JONES  & 2975   & NA    \\\\\n",
       "\t8 & JAMES  &  950   & NA    \\\\\n",
       "\t10 & FORD   & 3000   & NA    \\\\\n",
       "\t11 & SMITH  &  800   & NA    \\\\\n",
       "\t12 & SCOTT  & 3000   & NA    \\\\\n",
       "\t13 & ADAMS  & 1100   & NA    \\\\\n",
       "\t14 & MILLER & 1300   & NA    \\\\\n",
       "\\end{tabular}\n"
      ],
      "text/markdown": [
       "\n",
       "| <!--/--> | ename | sal | comm |\n",
       "|---|---|---|---|\n",
       "| 1 | KING   | 5000   | NA     |\n",
       "| 2 | BLAKE  | 2850   | NA     |\n",
       "| 3 | CLARK  | 2450   | NA     |\n",
       "| 4 | JONES  | 2975   | NA     |\n",
       "| 8 | JAMES  |  950   | NA     |\n",
       "| 10 | FORD   | 3000   | NA     |\n",
       "| 11 | SMITH  |  800   | NA     |\n",
       "| 12 | SCOTT  | 3000   | NA     |\n",
       "| 13 | ADAMS  | 1100   | NA     |\n",
       "| 14 | MILLER | 1300   | NA     |\n",
       "\n"
      ],
      "text/plain": [
       "   ename  sal  comm\n",
       "1  KING   5000 NA  \n",
       "2  BLAKE  2850 NA  \n",
       "3  CLARK  2450 NA  \n",
       "4  JONES  2975 NA  \n",
       "8  JAMES   950 NA  \n",
       "10 FORD   3000 NA  \n",
       "11 SMITH   800 NA  \n",
       "12 SCOTT  3000 NA  \n",
       "13 ADAMS  1100 NA  \n",
       "14 MILLER 1300 NA  "
      ]
     },
     "metadata": {},
     "output_type": "display_data"
    }
   ],
   "source": [
    "emp[is.na(emp$comm),c('ename','sal','comm')]"
   ]
  },
  {
   "cell_type": "markdown",
   "metadata": {},
   "source": [
    "### ※ 문제10. 커미션이 null이 아닌 사원들의 이름, 월급, 커미션을 출력하시오"
   ]
  },
  {
   "cell_type": "code",
   "execution_count": 59,
   "metadata": {
    "ExecuteTime": {
     "end_time": "2020-06-11T02:21:56.354032Z",
     "start_time": "2020-06-11T02:21:56.320Z"
    }
   },
   "outputs": [
    {
     "data": {
      "text/html": [
       "<table>\n",
       "<thead><tr><th></th><th scope=col>ename</th><th scope=col>sal</th><th scope=col>comm</th></tr></thead>\n",
       "<tbody>\n",
       "\t<tr><th scope=row>5</th><td>MARTIN</td><td>1250  </td><td>1400  </td></tr>\n",
       "\t<tr><th scope=row>6</th><td>ALLEN </td><td>1600  </td><td> 300  </td></tr>\n",
       "\t<tr><th scope=row>7</th><td>TURNER</td><td>1500  </td><td>   0  </td></tr>\n",
       "\t<tr><th scope=row>9</th><td>WARD  </td><td>1250  </td><td> 500  </td></tr>\n",
       "</tbody>\n",
       "</table>\n"
      ],
      "text/latex": [
       "\\begin{tabular}{r|lll}\n",
       "  & ename & sal & comm\\\\\n",
       "\\hline\n",
       "\t5 & MARTIN & 1250   & 1400  \\\\\n",
       "\t6 & ALLEN  & 1600   &  300  \\\\\n",
       "\t7 & TURNER & 1500   &    0  \\\\\n",
       "\t9 & WARD   & 1250   &  500  \\\\\n",
       "\\end{tabular}\n"
      ],
      "text/markdown": [
       "\n",
       "| <!--/--> | ename | sal | comm |\n",
       "|---|---|---|---|\n",
       "| 5 | MARTIN | 1250   | 1400   |\n",
       "| 6 | ALLEN  | 1600   |  300   |\n",
       "| 7 | TURNER | 1500   |    0   |\n",
       "| 9 | WARD   | 1250   |  500   |\n",
       "\n"
      ],
      "text/plain": [
       "  ename  sal  comm\n",
       "5 MARTIN 1250 1400\n",
       "6 ALLEN  1600  300\n",
       "7 TURNER 1500    0\n",
       "9 WARD   1250  500"
      ]
     },
     "metadata": {},
     "output_type": "display_data"
    }
   ],
   "source": [
    "emp[!is.na(emp$comm),c('ename','sal','comm')]"
   ]
  },
  {
   "cell_type": "markdown",
   "metadata": {},
   "source": [
    "### ※ 문제11. 이름의 첫번째 철자가 A로 시작하는 사원들의 이름, 월급을 출력"
   ]
  },
  {
   "cell_type": "markdown",
   "metadata": {},
   "source": [
    "    정규식 표현>\n",
    "    ^ 첫번째\n",
    "    $ 마지막\n",
    "    . 한자리수\n",
    "    * 여러개(wild card)"
   ]
  },
  {
   "cell_type": "code",
   "execution_count": 63,
   "metadata": {
    "ExecuteTime": {
     "end_time": "2020-06-11T02:48:28.452905Z",
     "start_time": "2020-06-11T02:48:28.420Z"
    }
   },
   "outputs": [
    {
     "data": {
      "text/html": [
       "<table>\n",
       "<thead><tr><th></th><th scope=col>ename</th><th scope=col>sal</th></tr></thead>\n",
       "<tbody>\n",
       "\t<tr><th scope=row>6</th><td>ALLEN</td><td>1600 </td></tr>\n",
       "\t<tr><th scope=row>13</th><td>ADAMS</td><td>1100 </td></tr>\n",
       "</tbody>\n",
       "</table>\n"
      ],
      "text/latex": [
       "\\begin{tabular}{r|ll}\n",
       "  & ename & sal\\\\\n",
       "\\hline\n",
       "\t6 & ALLEN & 1600 \\\\\n",
       "\t13 & ADAMS & 1100 \\\\\n",
       "\\end{tabular}\n"
      ],
      "text/markdown": [
       "\n",
       "| <!--/--> | ename | sal |\n",
       "|---|---|---|\n",
       "| 6 | ALLEN | 1600  |\n",
       "| 13 | ADAMS | 1100  |\n",
       "\n"
      ],
      "text/plain": [
       "   ename sal \n",
       "6  ALLEN 1600\n",
       "13 ADAMS 1100"
      ]
     },
     "metadata": {},
     "output_type": "display_data"
    }
   ],
   "source": [
    "emp[grep(\"^A\",emp$ename),c('ename','sal')]"
   ]
  },
  {
   "cell_type": "markdown",
   "metadata": {},
   "source": [
    "### ※ 문제12. 이름의 끝글자가 T로 끝나는 사원들의 이름을 출력"
   ]
  },
  {
   "cell_type": "code",
   "execution_count": 70,
   "metadata": {
    "ExecuteTime": {
     "end_time": "2020-06-11T02:51:48.028429Z",
     "start_time": "2020-06-11T02:51:47.857Z"
    }
   },
   "outputs": [
    {
     "name": "stdout",
     "output_type": "stream",
     "text": [
      "[1] SCOTT\n",
      "14 Levels: ADAMS ALLEN BLAKE CLARK FORD JAMES JONES KING MARTIN ... WARD\n"
     ]
    }
   ],
   "source": [
    "print(emp[grep(\"T$\",emp$ename),'ename'])"
   ]
  },
  {
   "cell_type": "markdown",
   "metadata": {},
   "source": [
    "### ※ 문제13. 이름의 두번째 철자가 M인 사원들의 이름, 월급을 출력"
   ]
  },
  {
   "cell_type": "code",
   "execution_count": 79,
   "metadata": {
    "ExecuteTime": {
     "end_time": "2020-06-11T02:53:31.722184Z",
     "start_time": "2020-06-11T02:53:31.689Z"
    }
   },
   "outputs": [
    {
     "data": {
      "text/html": [
       "<table>\n",
       "<thead><tr><th></th><th scope=col>ename</th><th scope=col>sal</th></tr></thead>\n",
       "<tbody>\n",
       "\t<tr><th scope=row>11</th><td>SMITH</td><td>800  </td></tr>\n",
       "</tbody>\n",
       "</table>\n"
      ],
      "text/latex": [
       "\\begin{tabular}{r|ll}\n",
       "  & ename & sal\\\\\n",
       "\\hline\n",
       "\t11 & SMITH & 800  \\\\\n",
       "\\end{tabular}\n"
      ],
      "text/markdown": [
       "\n",
       "| <!--/--> | ename | sal |\n",
       "|---|---|---|\n",
       "| 11 | SMITH | 800   |\n",
       "\n"
      ],
      "text/plain": [
       "   ename sal\n",
       "11 SMITH 800"
      ]
     },
     "metadata": {},
     "output_type": "display_data"
    }
   ],
   "source": [
    "emp[grep('^.M',emp$ename),c('ename','sal')]"
   ]
  },
  {
   "cell_type": "markdown",
   "metadata": {},
   "source": [
    "### ※ 문제14. 이름의 세번째 철자가 L인 사원들의 이름, 월급을 출력"
   ]
  },
  {
   "cell_type": "code",
   "execution_count": 80,
   "metadata": {
    "ExecuteTime": {
     "end_time": "2020-06-11T02:57:28.191705Z",
     "start_time": "2020-06-11T02:57:28.159Z"
    }
   },
   "outputs": [
    {
     "data": {
      "text/html": [
       "<table>\n",
       "<thead><tr><th></th><th scope=col>ename</th><th scope=col>sal</th></tr></thead>\n",
       "<tbody>\n",
       "\t<tr><th scope=row>6</th><td>ALLEN </td><td>1600  </td></tr>\n",
       "\t<tr><th scope=row>14</th><td>MILLER</td><td>1300  </td></tr>\n",
       "</tbody>\n",
       "</table>\n"
      ],
      "text/latex": [
       "\\begin{tabular}{r|ll}\n",
       "  & ename & sal\\\\\n",
       "\\hline\n",
       "\t6 & ALLEN  & 1600  \\\\\n",
       "\t14 & MILLER & 1300  \\\\\n",
       "\\end{tabular}\n"
      ],
      "text/markdown": [
       "\n",
       "| <!--/--> | ename | sal |\n",
       "|---|---|---|\n",
       "| 6 | ALLEN  | 1600   |\n",
       "| 14 | MILLER | 1300   |\n",
       "\n"
      ],
      "text/plain": [
       "   ename  sal \n",
       "6  ALLEN  1600\n",
       "14 MILLER 1300"
      ]
     },
     "metadata": {},
     "output_type": "display_data"
    }
   ],
   "source": [
    "emp[grep('^..L',emp$ename),c('ename','sal')]"
   ]
  },
  {
   "cell_type": "markdown",
   "metadata": {},
   "source": [
    "## ■ 중복제거\n",
    "```\n",
    "    SQL           vs           R\n",
    "  distinct                   unique\n",
    "  ```"
   ]
  },
  {
   "cell_type": "markdown",
   "metadata": {},
   "source": [
    "### ※ 문제15. 부서번호를 출력하는데 중복을 제거해서 출력하시오"
   ]
  },
  {
   "cell_type": "code",
   "execution_count": 86,
   "metadata": {
    "ExecuteTime": {
     "end_time": "2020-06-11T03:01:29.546967Z",
     "start_time": "2020-06-11T03:01:29.509Z"
    }
   },
   "outputs": [
    {
     "name": "stdout",
     "output_type": "stream",
     "text": [
      "  부서번호\n",
      "1       10\n",
      "2       30\n",
      "3       20\n"
     ]
    }
   ],
   "source": [
    "print(data.frame(\"부서번호\"=unique(emp$deptno)))"
   ]
  },
  {
   "cell_type": "markdown",
   "metadata": {},
   "source": [
    "## ■ 정렬작업\n",
    "```\n",
    "      SQL         vs          R\n",
    "    order by                data frame의 order 옵션\n",
    "                            doBy 패키지 -> orderBy 함수\n",
    "                            ```"
   ]
  },
  {
   "cell_type": "code",
   "execution_count": 87,
   "metadata": {
    "ExecuteTime": {
     "end_time": "2020-06-11T03:03:23.182033Z",
     "start_time": "2020-06-11T03:02:58.871Z"
    }
   },
   "outputs": [
    {
     "name": "stderr",
     "output_type": "stream",
     "text": [
      "Installing package into 'C:/Users/knitwill/Documents/R/win-library/3.6'\n",
      "(as 'lib' is unspecified)\n",
      "also installing the dependencies 'minqa', 'nloptr', 'statmod', 'RcppEigen', 'lme4', 'pbkrtest', 'Deriv'\n",
      "\n"
     ]
    },
    {
     "name": "stdout",
     "output_type": "stream",
     "text": [
      "package 'minqa' successfully unpacked and MD5 sums checked\n",
      "package 'nloptr' successfully unpacked and MD5 sums checked\n",
      "package 'statmod' successfully unpacked and MD5 sums checked\n",
      "package 'RcppEigen' successfully unpacked and MD5 sums checked\n",
      "package 'lme4' successfully unpacked and MD5 sums checked\n",
      "package 'pbkrtest' successfully unpacked and MD5 sums checked\n",
      "package 'Deriv' successfully unpacked and MD5 sums checked\n",
      "package 'doBy' successfully unpacked and MD5 sums checked\n",
      "\n",
      "The downloaded binary packages are in\n",
      "\tC:\\Users\\knitwill\\AppData\\Local\\Temp\\RtmpWwdHCw\\downloaded_packages\n"
     ]
    }
   ],
   "source": [
    "install.packages(\"doBy\")"
   ]
  },
  {
   "cell_type": "markdown",
   "metadata": {},
   "source": [
    "### ※ 문제16. 이름과 월급을 출력하는데 월급이 높은 사원부터 출력하시오"
   ]
  },
  {
   "cell_type": "code",
   "execution_count": 89,
   "metadata": {
    "ExecuteTime": {
     "end_time": "2020-06-11T03:04:08.129725Z",
     "start_time": "2020-06-11T03:04:08.093Z"
    }
   },
   "outputs": [
    {
     "data": {
      "text/html": [
       "<table>\n",
       "<thead><tr><th></th><th scope=col>ename</th><th scope=col>sal</th></tr></thead>\n",
       "<tbody>\n",
       "\t<tr><th scope=row>1</th><td>KING  </td><td>5000  </td></tr>\n",
       "\t<tr><th scope=row>10</th><td>FORD  </td><td>3000  </td></tr>\n",
       "\t<tr><th scope=row>12</th><td>SCOTT </td><td>3000  </td></tr>\n",
       "\t<tr><th scope=row>4</th><td>JONES </td><td>2975  </td></tr>\n",
       "\t<tr><th scope=row>2</th><td>BLAKE </td><td>2850  </td></tr>\n",
       "\t<tr><th scope=row>3</th><td>CLARK </td><td>2450  </td></tr>\n",
       "\t<tr><th scope=row>6</th><td>ALLEN </td><td>1600  </td></tr>\n",
       "\t<tr><th scope=row>7</th><td>TURNER</td><td>1500  </td></tr>\n",
       "\t<tr><th scope=row>14</th><td>MILLER</td><td>1300  </td></tr>\n",
       "\t<tr><th scope=row>5</th><td>MARTIN</td><td>1250  </td></tr>\n",
       "\t<tr><th scope=row>9</th><td>WARD  </td><td>1250  </td></tr>\n",
       "\t<tr><th scope=row>13</th><td>ADAMS </td><td>1100  </td></tr>\n",
       "\t<tr><th scope=row>8</th><td>JAMES </td><td> 950  </td></tr>\n",
       "\t<tr><th scope=row>11</th><td>SMITH </td><td> 800  </td></tr>\n",
       "</tbody>\n",
       "</table>\n"
      ],
      "text/latex": [
       "\\begin{tabular}{r|ll}\n",
       "  & ename & sal\\\\\n",
       "\\hline\n",
       "\t1 & KING   & 5000  \\\\\n",
       "\t10 & FORD   & 3000  \\\\\n",
       "\t12 & SCOTT  & 3000  \\\\\n",
       "\t4 & JONES  & 2975  \\\\\n",
       "\t2 & BLAKE  & 2850  \\\\\n",
       "\t3 & CLARK  & 2450  \\\\\n",
       "\t6 & ALLEN  & 1600  \\\\\n",
       "\t7 & TURNER & 1500  \\\\\n",
       "\t14 & MILLER & 1300  \\\\\n",
       "\t5 & MARTIN & 1250  \\\\\n",
       "\t9 & WARD   & 1250  \\\\\n",
       "\t13 & ADAMS  & 1100  \\\\\n",
       "\t8 & JAMES  &  950  \\\\\n",
       "\t11 & SMITH  &  800  \\\\\n",
       "\\end{tabular}\n"
      ],
      "text/markdown": [
       "\n",
       "| <!--/--> | ename | sal |\n",
       "|---|---|---|\n",
       "| 1 | KING   | 5000   |\n",
       "| 10 | FORD   | 3000   |\n",
       "| 12 | SCOTT  | 3000   |\n",
       "| 4 | JONES  | 2975   |\n",
       "| 2 | BLAKE  | 2850   |\n",
       "| 3 | CLARK  | 2450   |\n",
       "| 6 | ALLEN  | 1600   |\n",
       "| 7 | TURNER | 1500   |\n",
       "| 14 | MILLER | 1300   |\n",
       "| 5 | MARTIN | 1250   |\n",
       "| 9 | WARD   | 1250   |\n",
       "| 13 | ADAMS  | 1100   |\n",
       "| 8 | JAMES  |  950   |\n",
       "| 11 | SMITH  |  800   |\n",
       "\n"
      ],
      "text/plain": [
       "   ename  sal \n",
       "1  KING   5000\n",
       "10 FORD   3000\n",
       "12 SCOTT  3000\n",
       "4  JONES  2975\n",
       "2  BLAKE  2850\n",
       "3  CLARK  2450\n",
       "6  ALLEN  1600\n",
       "7  TURNER 1500\n",
       "14 MILLER 1300\n",
       "5  MARTIN 1250\n",
       "9  WARD   1250\n",
       "13 ADAMS  1100\n",
       "8  JAMES   950\n",
       "11 SMITH   800"
      ]
     },
     "metadata": {},
     "output_type": "display_data"
    }
   ],
   "source": [
    "emp[order(emp$sal, decreasing = T),c('ename','sal')]"
   ]
  },
  {
   "cell_type": "markdown",
   "metadata": {},
   "source": [
    "### ※ 문제17. 직업이 SALESMAN인 사원들의 이름, 월급, 직업을 출력하는데 월급이 높은 사원부터 출력"
   ]
  },
  {
   "cell_type": "code",
   "execution_count": 96,
   "metadata": {
    "ExecuteTime": {
     "end_time": "2020-06-11T03:10:34.444261Z",
     "start_time": "2020-06-11T03:10:34.407Z"
    }
   },
   "outputs": [
    {
     "data": {
      "text/html": [
       "<table>\n",
       "<thead><tr><th></th><th scope=col>ename</th><th scope=col>sal</th><th scope=col>job</th></tr></thead>\n",
       "<tbody>\n",
       "\t<tr><th scope=row>6</th><td>ALLEN   </td><td>1600    </td><td>SALESMAN</td></tr>\n",
       "\t<tr><th scope=row>7</th><td>TURNER  </td><td>1500    </td><td>SALESMAN</td></tr>\n",
       "\t<tr><th scope=row>5</th><td>MARTIN  </td><td>1250    </td><td>SALESMAN</td></tr>\n",
       "\t<tr><th scope=row>9</th><td>WARD    </td><td>1250    </td><td>SALESMAN</td></tr>\n",
       "</tbody>\n",
       "</table>\n"
      ],
      "text/latex": [
       "\\begin{tabular}{r|lll}\n",
       "  & ename & sal & job\\\\\n",
       "\\hline\n",
       "\t6 & ALLEN    & 1600     & SALESMAN\\\\\n",
       "\t7 & TURNER   & 1500     & SALESMAN\\\\\n",
       "\t5 & MARTIN   & 1250     & SALESMAN\\\\\n",
       "\t9 & WARD     & 1250     & SALESMAN\\\\\n",
       "\\end{tabular}\n"
      ],
      "text/markdown": [
       "\n",
       "| <!--/--> | ename | sal | job |\n",
       "|---|---|---|---|\n",
       "| 6 | ALLEN    | 1600     | SALESMAN |\n",
       "| 7 | TURNER   | 1500     | SALESMAN |\n",
       "| 5 | MARTIN   | 1250     | SALESMAN |\n",
       "| 9 | WARD     | 1250     | SALESMAN |\n",
       "\n"
      ],
      "text/plain": [
       "  ename  sal  job     \n",
       "6 ALLEN  1600 SALESMAN\n",
       "7 TURNER 1500 SALESMAN\n",
       "5 MARTIN 1250 SALESMAN\n",
       "9 WARD   1250 SALESMAN"
      ]
     },
     "metadata": {},
     "output_type": "display_data"
    }
   ],
   "source": [
    "rs=emp[emp$job=='SALESMAN',c('ename','sal','job')]\n",
    "rs[order(rs$sal,decreasing = T),]"
   ]
  },
  {
   "cell_type": "markdown",
   "metadata": {},
   "source": [
    "R에서 모든 변수들을 다 보고싶을 때 ls()"
   ]
  },
  {
   "cell_type": "code",
   "execution_count": 97,
   "metadata": {
    "ExecuteTime": {
     "end_time": "2020-06-11T03:11:14.514690Z",
     "start_time": "2020-06-11T03:11:14.482Z"
    }
   },
   "outputs": [
    {
     "data": {
      "text/html": [
       "<ol class=list-inline>\n",
       "\t<li>'addr'</li>\n",
       "\t<li>'date4'</li>\n",
       "\t<li>'df1'</li>\n",
       "\t<li>'df2'</li>\n",
       "\t<li>'df3'</li>\n",
       "\t<li>'df4'</li>\n",
       "\t<li>'df5'</li>\n",
       "\t<li>'df7'</li>\n",
       "\t<li>'df8'</li>\n",
       "\t<li>'dff'</li>\n",
       "\t<li>'emp'</li>\n",
       "\t<li>'height'</li>\n",
       "\t<li>'hobby'</li>\n",
       "\t<li>'i'</li>\n",
       "\t<li>'iter'</li>\n",
       "\t<li>'mem2'</li>\n",
       "\t<li>'mem3'</li>\n",
       "\t<li>'member'</li>\n",
       "\t<li>'name'</li>\n",
       "\t<li>'new'</li>\n",
       "\t<li>'no'</li>\n",
       "\t<li>'pal1'</li>\n",
       "\t<li>'price'</li>\n",
       "\t<li>'prob'</li>\n",
       "\t<li>'qty'</li>\n",
       "\t<li>'rs'</li>\n",
       "\t<li>'sales'</li>\n",
       "\t<li>'sales2'</li>\n",
       "\t<li>'sum'</li>\n",
       "\t<li>'tel'</li>\n",
       "\t<li>'v1'</li>\n",
       "\t<li>'v2'</li>\n",
       "\t<li>'v3'</li>\n",
       "\t<li>'v4'</li>\n",
       "\t<li>'v5'</li>\n",
       "\t<li>'v6'</li>\n",
       "\t<li>'v7'</li>\n",
       "\t<li>'v8'</li>\n",
       "\t<li>'var_dic_list'</li>\n",
       "\t<li>'vec1'</li>\n",
       "\t<li>'vec2'</li>\n",
       "\t<li>'vec3'</li>\n",
       "\t<li>'x'</li>\n",
       "\t<li>'x2'</li>\n",
       "\t<li>'y'</li>\n",
       "</ol>\n"
      ],
      "text/latex": [
       "\\begin{enumerate*}\n",
       "\\item 'addr'\n",
       "\\item 'date4'\n",
       "\\item 'df1'\n",
       "\\item 'df2'\n",
       "\\item 'df3'\n",
       "\\item 'df4'\n",
       "\\item 'df5'\n",
       "\\item 'df7'\n",
       "\\item 'df8'\n",
       "\\item 'dff'\n",
       "\\item 'emp'\n",
       "\\item 'height'\n",
       "\\item 'hobby'\n",
       "\\item 'i'\n",
       "\\item 'iter'\n",
       "\\item 'mem2'\n",
       "\\item 'mem3'\n",
       "\\item 'member'\n",
       "\\item 'name'\n",
       "\\item 'new'\n",
       "\\item 'no'\n",
       "\\item 'pal1'\n",
       "\\item 'price'\n",
       "\\item 'prob'\n",
       "\\item 'qty'\n",
       "\\item 'rs'\n",
       "\\item 'sales'\n",
       "\\item 'sales2'\n",
       "\\item 'sum'\n",
       "\\item 'tel'\n",
       "\\item 'v1'\n",
       "\\item 'v2'\n",
       "\\item 'v3'\n",
       "\\item 'v4'\n",
       "\\item 'v5'\n",
       "\\item 'v6'\n",
       "\\item 'v7'\n",
       "\\item 'v8'\n",
       "\\item 'var\\_dic\\_list'\n",
       "\\item 'vec1'\n",
       "\\item 'vec2'\n",
       "\\item 'vec3'\n",
       "\\item 'x'\n",
       "\\item 'x2'\n",
       "\\item 'y'\n",
       "\\end{enumerate*}\n"
      ],
      "text/markdown": [
       "1. 'addr'\n",
       "2. 'date4'\n",
       "3. 'df1'\n",
       "4. 'df2'\n",
       "5. 'df3'\n",
       "6. 'df4'\n",
       "7. 'df5'\n",
       "8. 'df7'\n",
       "9. 'df8'\n",
       "10. 'dff'\n",
       "11. 'emp'\n",
       "12. 'height'\n",
       "13. 'hobby'\n",
       "14. 'i'\n",
       "15. 'iter'\n",
       "16. 'mem2'\n",
       "17. 'mem3'\n",
       "18. 'member'\n",
       "19. 'name'\n",
       "20. 'new'\n",
       "21. 'no'\n",
       "22. 'pal1'\n",
       "23. 'price'\n",
       "24. 'prob'\n",
       "25. 'qty'\n",
       "26. 'rs'\n",
       "27. 'sales'\n",
       "28. 'sales2'\n",
       "29. 'sum'\n",
       "30. 'tel'\n",
       "31. 'v1'\n",
       "32. 'v2'\n",
       "33. 'v3'\n",
       "34. 'v4'\n",
       "35. 'v5'\n",
       "36. 'v6'\n",
       "37. 'v7'\n",
       "38. 'v8'\n",
       "39. 'var_dic_list'\n",
       "40. 'vec1'\n",
       "41. 'vec2'\n",
       "42. 'vec3'\n",
       "43. 'x'\n",
       "44. 'x2'\n",
       "45. 'y'\n",
       "\n",
       "\n"
      ],
      "text/plain": [
       " [1] \"addr\"         \"date4\"        \"df1\"          \"df2\"          \"df3\"         \n",
       " [6] \"df4\"          \"df5\"          \"df7\"          \"df8\"          \"dff\"         \n",
       "[11] \"emp\"          \"height\"       \"hobby\"        \"i\"            \"iter\"        \n",
       "[16] \"mem2\"         \"mem3\"         \"member\"       \"name\"         \"new\"         \n",
       "[21] \"no\"           \"pal1\"         \"price\"        \"prob\"         \"qty\"         \n",
       "[26] \"rs\"           \"sales\"        \"sales2\"       \"sum\"          \"tel\"         \n",
       "[31] \"v1\"           \"v2\"           \"v3\"           \"v4\"           \"v5\"          \n",
       "[36] \"v6\"           \"v7\"           \"v8\"           \"var_dic_list\" \"vec1\"        \n",
       "[41] \"vec2\"         \"vec3\"         \"x\"            \"x2\"           \"y\"           "
      ]
     },
     "metadata": {},
     "output_type": "display_data"
    }
   ],
   "source": [
    "ls()"
   ]
  },
  {
   "cell_type": "markdown",
   "metadata": {},
   "source": [
    "x, x2 변수를 지우고 싶다면?"
   ]
  },
  {
   "cell_type": "code",
   "execution_count": 100,
   "metadata": {
    "ExecuteTime": {
     "end_time": "2020-06-11T03:11:54.763450Z",
     "start_time": "2020-06-11T03:11:54.736Z"
    }
   },
   "outputs": [
    {
     "name": "stderr",
     "output_type": "stream",
     "text": [
      "Warning message in rm(x, x2):\n",
      "\"객체 'x'를 찾을 수 없습니다\""
     ]
    }
   ],
   "source": [
    "rm(x, x2)"
   ]
  },
  {
   "cell_type": "code",
   "execution_count": 101,
   "metadata": {
    "ExecuteTime": {
     "end_time": "2020-06-11T03:11:58.177434Z",
     "start_time": "2020-06-11T03:11:58.148Z"
    }
   },
   "outputs": [
    {
     "data": {
      "text/html": [
       "<ol class=list-inline>\n",
       "\t<li>'addr'</li>\n",
       "\t<li>'date4'</li>\n",
       "\t<li>'df1'</li>\n",
       "\t<li>'df2'</li>\n",
       "\t<li>'df3'</li>\n",
       "\t<li>'df4'</li>\n",
       "\t<li>'df5'</li>\n",
       "\t<li>'df7'</li>\n",
       "\t<li>'df8'</li>\n",
       "\t<li>'dff'</li>\n",
       "\t<li>'emp'</li>\n",
       "\t<li>'height'</li>\n",
       "\t<li>'hobby'</li>\n",
       "\t<li>'i'</li>\n",
       "\t<li>'iter'</li>\n",
       "\t<li>'mem2'</li>\n",
       "\t<li>'mem3'</li>\n",
       "\t<li>'member'</li>\n",
       "\t<li>'name'</li>\n",
       "\t<li>'new'</li>\n",
       "\t<li>'no'</li>\n",
       "\t<li>'pal1'</li>\n",
       "\t<li>'price'</li>\n",
       "\t<li>'prob'</li>\n",
       "\t<li>'qty'</li>\n",
       "\t<li>'rs'</li>\n",
       "\t<li>'sales'</li>\n",
       "\t<li>'sales2'</li>\n",
       "\t<li>'sum'</li>\n",
       "\t<li>'tel'</li>\n",
       "\t<li>'v1'</li>\n",
       "\t<li>'v2'</li>\n",
       "\t<li>'v3'</li>\n",
       "\t<li>'v4'</li>\n",
       "\t<li>'v5'</li>\n",
       "\t<li>'v6'</li>\n",
       "\t<li>'v7'</li>\n",
       "\t<li>'v8'</li>\n",
       "\t<li>'var_dic_list'</li>\n",
       "\t<li>'vec1'</li>\n",
       "\t<li>'vec2'</li>\n",
       "\t<li>'vec3'</li>\n",
       "\t<li>'y'</li>\n",
       "</ol>\n"
      ],
      "text/latex": [
       "\\begin{enumerate*}\n",
       "\\item 'addr'\n",
       "\\item 'date4'\n",
       "\\item 'df1'\n",
       "\\item 'df2'\n",
       "\\item 'df3'\n",
       "\\item 'df4'\n",
       "\\item 'df5'\n",
       "\\item 'df7'\n",
       "\\item 'df8'\n",
       "\\item 'dff'\n",
       "\\item 'emp'\n",
       "\\item 'height'\n",
       "\\item 'hobby'\n",
       "\\item 'i'\n",
       "\\item 'iter'\n",
       "\\item 'mem2'\n",
       "\\item 'mem3'\n",
       "\\item 'member'\n",
       "\\item 'name'\n",
       "\\item 'new'\n",
       "\\item 'no'\n",
       "\\item 'pal1'\n",
       "\\item 'price'\n",
       "\\item 'prob'\n",
       "\\item 'qty'\n",
       "\\item 'rs'\n",
       "\\item 'sales'\n",
       "\\item 'sales2'\n",
       "\\item 'sum'\n",
       "\\item 'tel'\n",
       "\\item 'v1'\n",
       "\\item 'v2'\n",
       "\\item 'v3'\n",
       "\\item 'v4'\n",
       "\\item 'v5'\n",
       "\\item 'v6'\n",
       "\\item 'v7'\n",
       "\\item 'v8'\n",
       "\\item 'var\\_dic\\_list'\n",
       "\\item 'vec1'\n",
       "\\item 'vec2'\n",
       "\\item 'vec3'\n",
       "\\item 'y'\n",
       "\\end{enumerate*}\n"
      ],
      "text/markdown": [
       "1. 'addr'\n",
       "2. 'date4'\n",
       "3. 'df1'\n",
       "4. 'df2'\n",
       "5. 'df3'\n",
       "6. 'df4'\n",
       "7. 'df5'\n",
       "8. 'df7'\n",
       "9. 'df8'\n",
       "10. 'dff'\n",
       "11. 'emp'\n",
       "12. 'height'\n",
       "13. 'hobby'\n",
       "14. 'i'\n",
       "15. 'iter'\n",
       "16. 'mem2'\n",
       "17. 'mem3'\n",
       "18. 'member'\n",
       "19. 'name'\n",
       "20. 'new'\n",
       "21. 'no'\n",
       "22. 'pal1'\n",
       "23. 'price'\n",
       "24. 'prob'\n",
       "25. 'qty'\n",
       "26. 'rs'\n",
       "27. 'sales'\n",
       "28. 'sales2'\n",
       "29. 'sum'\n",
       "30. 'tel'\n",
       "31. 'v1'\n",
       "32. 'v2'\n",
       "33. 'v3'\n",
       "34. 'v4'\n",
       "35. 'v5'\n",
       "36. 'v6'\n",
       "37. 'v7'\n",
       "38. 'v8'\n",
       "39. 'var_dic_list'\n",
       "40. 'vec1'\n",
       "41. 'vec2'\n",
       "42. 'vec3'\n",
       "43. 'y'\n",
       "\n",
       "\n"
      ],
      "text/plain": [
       " [1] \"addr\"         \"date4\"        \"df1\"          \"df2\"          \"df3\"         \n",
       " [6] \"df4\"          \"df5\"          \"df7\"          \"df8\"          \"dff\"         \n",
       "[11] \"emp\"          \"height\"       \"hobby\"        \"i\"            \"iter\"        \n",
       "[16] \"mem2\"         \"mem3\"         \"member\"       \"name\"         \"new\"         \n",
       "[21] \"no\"           \"pal1\"         \"price\"        \"prob\"         \"qty\"         \n",
       "[26] \"rs\"           \"sales\"        \"sales2\"       \"sum\"          \"tel\"         \n",
       "[31] \"v1\"           \"v2\"           \"v3\"           \"v4\"           \"v5\"          \n",
       "[36] \"v6\"           \"v7\"           \"v8\"           \"var_dic_list\" \"vec1\"        \n",
       "[41] \"vec2\"         \"vec3\"         \"y\"           "
      ]
     },
     "metadata": {},
     "output_type": "display_data"
    }
   ],
   "source": [
    "ls()"
   ]
  },
  {
   "cell_type": "markdown",
   "metadata": {},
   "source": [
    "### ※ 문제18. (점심시간 문제) 부서번호가 20번인 사원들의 이름과 월급과 부서번호를 출력하는데 월급이 높은 사원부터 출력"
   ]
  },
  {
   "cell_type": "code",
   "execution_count": 102,
   "metadata": {
    "ExecuteTime": {
     "end_time": "2020-06-11T03:13:45.951799Z",
     "start_time": "2020-06-11T03:13:45.915Z"
    }
   },
   "outputs": [
    {
     "data": {
      "text/html": [
       "<table>\n",
       "<thead><tr><th></th><th scope=col>ename</th><th scope=col>sal</th><th scope=col>deptno</th></tr></thead>\n",
       "<tbody>\n",
       "\t<tr><th scope=row>4</th><td>JONES</td><td>2975 </td><td>20   </td></tr>\n",
       "\t<tr><th scope=row>10</th><td>FORD </td><td>3000 </td><td>20   </td></tr>\n",
       "\t<tr><th scope=row>11</th><td>SMITH</td><td> 800 </td><td>20   </td></tr>\n",
       "\t<tr><th scope=row>12</th><td>SCOTT</td><td>3000 </td><td>20   </td></tr>\n",
       "\t<tr><th scope=row>13</th><td>ADAMS</td><td>1100 </td><td>20   </td></tr>\n",
       "</tbody>\n",
       "</table>\n"
      ],
      "text/latex": [
       "\\begin{tabular}{r|lll}\n",
       "  & ename & sal & deptno\\\\\n",
       "\\hline\n",
       "\t4 & JONES & 2975  & 20   \\\\\n",
       "\t10 & FORD  & 3000  & 20   \\\\\n",
       "\t11 & SMITH &  800  & 20   \\\\\n",
       "\t12 & SCOTT & 3000  & 20   \\\\\n",
       "\t13 & ADAMS & 1100  & 20   \\\\\n",
       "\\end{tabular}\n"
      ],
      "text/markdown": [
       "\n",
       "| <!--/--> | ename | sal | deptno |\n",
       "|---|---|---|---|\n",
       "| 4 | JONES | 2975  | 20    |\n",
       "| 10 | FORD  | 3000  | 20    |\n",
       "| 11 | SMITH |  800  | 20    |\n",
       "| 12 | SCOTT | 3000  | 20    |\n",
       "| 13 | ADAMS | 1100  | 20    |\n",
       "\n"
      ],
      "text/plain": [
       "   ename sal  deptno\n",
       "4  JONES 2975 20    \n",
       "10 FORD  3000 20    \n",
       "11 SMITH  800 20    \n",
       "12 SCOTT 3000 20    \n",
       "13 ADAMS 1100 20    "
      ]
     },
     "metadata": {},
     "output_type": "display_data"
    }
   ],
   "source": [
    "emp[emp$deptno==20,c('ename','sal','deptno')]"
   ]
  },
  {
   "cell_type": "code",
   "execution_count": null,
   "metadata": {},
   "outputs": [],
   "source": []
  },
  {
   "cell_type": "code",
   "execution_count": null,
   "metadata": {},
   "outputs": [],
   "source": []
  },
  {
   "cell_type": "code",
   "execution_count": null,
   "metadata": {},
   "outputs": [],
   "source": []
  },
  {
   "cell_type": "code",
   "execution_count": null,
   "metadata": {},
   "outputs": [],
   "source": []
  },
  {
   "cell_type": "code",
   "execution_count": null,
   "metadata": {},
   "outputs": [],
   "source": []
  }
 ],
 "metadata": {
  "kernelspec": {
   "display_name": "R",
   "language": "R",
   "name": "ir"
  },
  "language_info": {
   "codemirror_mode": "r",
   "file_extension": ".r",
   "mimetype": "text/x-r-source",
   "name": "R",
   "pygments_lexer": "r",
   "version": "3.6.1"
  },
  "toc": {
   "base_numbering": 1,
   "nav_menu": {},
   "number_sections": true,
   "sideBar": true,
   "skip_h1_title": false,
   "title_cell": "Table of Contents",
   "title_sidebar": "Contents",
   "toc_cell": false,
   "toc_position": {},
   "toc_section_display": true,
   "toc_window_display": false
  },
  "varInspector": {
   "cols": {
    "lenName": 16,
    "lenType": 16,
    "lenVar": 40
   },
   "kernels_config": {
    "python": {
     "delete_cmd_postfix": "",
     "delete_cmd_prefix": "del ",
     "library": "var_list.py",
     "varRefreshCmd": "print(var_dic_list())"
    },
    "r": {
     "delete_cmd_postfix": ") ",
     "delete_cmd_prefix": "rm(",
     "library": "var_list.r",
     "varRefreshCmd": "cat(var_dic_list()) "
    }
   },
   "position": {
    "height": "364px",
    "left": "1485px",
    "right": "20px",
    "top": "87px",
    "width": "426px"
   },
   "types_to_exclude": [
    "module",
    "function",
    "builtin_function_or_method",
    "instance",
    "_Feature"
   ],
   "window_display": true
  }
 },
 "nbformat": 4,
 "nbformat_minor": 4
}
