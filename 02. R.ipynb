{
 "cells": [
  {
   "cell_type": "markdown",
   "metadata": {},
   "source": [
    "#### 11기 머신러닝 수업목차에 나오는 교육영상과 책을 미리 읽어오면 더 이해가 잘되니까 틈나는대로 보고 그 단원을 완성하는 것은 코드로 관련 머신러닝 알고리즘을 구현하면 완성"
   ]
  },
  {
   "cell_type": "markdown",
   "metadata": {},
   "source": [
    "## ■ R\n",
    "### 뉴질랜드 aukland 대학의 Rebert Gentleman과 Ross Ihaka가 1995년에 개발한 소프트웨어\n",
    "### 데이터 분석을 위한 통계 및 그래픽스를 지원하는 무료 소프트웨어"
   ]
  },
  {
   "cell_type": "markdown",
   "metadata": {},
   "source": [
    "## ■ 작업 디렉토리 설정 및 emp.csv 로드하는 방법"
   ]
  },
  {
   "cell_type": "code",
   "execution_count": 2,
   "metadata": {
    "ExecuteTime": {
     "end_time": "2020-06-11T00:54:11.006030Z",
     "start_time": "2020-06-11T00:54:10.980Z"
    }
   },
   "outputs": [],
   "source": [
    "setwd(\"d:/R\")"
   ]
  },
  {
   "cell_type": "code",
   "execution_count": 3,
   "metadata": {
    "ExecuteTime": {
     "end_time": "2020-06-11T00:54:14.845352Z",
     "start_time": "2020-06-11T00:54:14.759Z"
    }
   },
   "outputs": [
    {
     "data": {
      "text/html": [
       "'d:/R'"
      ],
      "text/latex": [
       "'d:/R'"
      ],
      "text/markdown": [
       "'d:/R'"
      ],
      "text/plain": [
       "[1] \"d:/R\""
      ]
     },
     "metadata": {},
     "output_type": "display_data"
    }
   ],
   "source": [
    "getwd()"
   ]
  },
  {
   "cell_type": "code",
   "execution_count": 4,
   "metadata": {
    "ExecuteTime": {
     "end_time": "2020-06-11T00:55:34.986569Z",
     "start_time": "2020-06-11T00:55:34.916Z"
    }
   },
   "outputs": [
    {
     "data": {
      "text/html": [
       "<table>\n",
       "<thead><tr><th scope=col>index</th><th scope=col>empno</th><th scope=col>ename</th><th scope=col>job</th><th scope=col>mgr</th><th scope=col>hiredate</th><th scope=col>sal</th><th scope=col>comm</th><th scope=col>deptno</th></tr></thead>\n",
       "<tbody>\n",
       "\t<tr><td> 1             </td><td>7839           </td><td>KING           </td><td>PRESIDENT      </td><td>  NA           </td><td>1981-11-17 0:00</td><td>5000           </td><td>  NA           </td><td>10             </td></tr>\n",
       "\t<tr><td> 2             </td><td>7698           </td><td>BLAKE          </td><td>MANAGER        </td><td>7839           </td><td>1981-05-01 0:00</td><td>2850           </td><td>  NA           </td><td>30             </td></tr>\n",
       "\t<tr><td> 3             </td><td>7782           </td><td>CLARK          </td><td>MANAGER        </td><td>7839           </td><td>1981-05-09 0:00</td><td>2450           </td><td>  NA           </td><td>10             </td></tr>\n",
       "\t<tr><td> 4             </td><td>7566           </td><td>JONES          </td><td>MANAGER        </td><td>7839           </td><td>1981-04-01 0:00</td><td>2975           </td><td>  NA           </td><td>20             </td></tr>\n",
       "\t<tr><td> 5             </td><td>7654           </td><td>MARTIN         </td><td>SALESMAN       </td><td>7698           </td><td>1981-09-10 0:00</td><td>1250           </td><td>1400           </td><td>30             </td></tr>\n",
       "\t<tr><td> 6             </td><td>7499           </td><td>ALLEN          </td><td>SALESMAN       </td><td>7698           </td><td>1981-02-11 0:00</td><td>1600           </td><td> 300           </td><td>30             </td></tr>\n",
       "\t<tr><td> 7             </td><td>7844           </td><td>TURNER         </td><td>SALESMAN       </td><td>7698           </td><td>1981-08-21 0:00</td><td>1500           </td><td>   0           </td><td>30             </td></tr>\n",
       "\t<tr><td> 8             </td><td>7900           </td><td>JAMES          </td><td>CLERK          </td><td>7698           </td><td>1981-12-11 0:00</td><td> 950           </td><td>  NA           </td><td>30             </td></tr>\n",
       "\t<tr><td> 9             </td><td>7521           </td><td>WARD           </td><td>SALESMAN       </td><td>7698           </td><td>1981-02-23 0:00</td><td>1250           </td><td> 500           </td><td>30             </td></tr>\n",
       "\t<tr><td>10             </td><td>7902           </td><td>FORD           </td><td>ANALYST        </td><td>7566           </td><td>1981-12-11 0:00</td><td>3000           </td><td>  NA           </td><td>20             </td></tr>\n",
       "\t<tr><td>11             </td><td>7369           </td><td>SMITH          </td><td>CLERK          </td><td>7902           </td><td>1980-12-09 0:00</td><td> 800           </td><td>  NA           </td><td>20             </td></tr>\n",
       "\t<tr><td>12             </td><td>7788           </td><td>SCOTT          </td><td>ANALYST        </td><td>7566           </td><td>1982-12-22 0:00</td><td>3000           </td><td>  NA           </td><td>20             </td></tr>\n",
       "\t<tr><td>13             </td><td>7876           </td><td>ADAMS          </td><td>CLERK          </td><td>7788           </td><td>1983-01-15 0:00</td><td>1100           </td><td>  NA           </td><td>20             </td></tr>\n",
       "\t<tr><td>14             </td><td>7934           </td><td>MILLER         </td><td>CLERK          </td><td>7782           </td><td>1982-01-11 0:00</td><td>1300           </td><td>  NA           </td><td>10             </td></tr>\n",
       "</tbody>\n",
       "</table>\n"
      ],
      "text/latex": [
       "\\begin{tabular}{r|lllllllll}\n",
       " index & empno & ename & job & mgr & hiredate & sal & comm & deptno\\\\\n",
       "\\hline\n",
       "\t  1              & 7839            & KING            & PRESIDENT       &   NA            & 1981-11-17 0:00 & 5000            &   NA            & 10             \\\\\n",
       "\t  2              & 7698            & BLAKE           & MANAGER         & 7839            & 1981-05-01 0:00 & 2850            &   NA            & 30             \\\\\n",
       "\t  3              & 7782            & CLARK           & MANAGER         & 7839            & 1981-05-09 0:00 & 2450            &   NA            & 10             \\\\\n",
       "\t  4              & 7566            & JONES           & MANAGER         & 7839            & 1981-04-01 0:00 & 2975            &   NA            & 20             \\\\\n",
       "\t  5              & 7654            & MARTIN          & SALESMAN        & 7698            & 1981-09-10 0:00 & 1250            & 1400            & 30             \\\\\n",
       "\t  6              & 7499            & ALLEN           & SALESMAN        & 7698            & 1981-02-11 0:00 & 1600            &  300            & 30             \\\\\n",
       "\t  7              & 7844            & TURNER          & SALESMAN        & 7698            & 1981-08-21 0:00 & 1500            &    0            & 30             \\\\\n",
       "\t  8              & 7900            & JAMES           & CLERK           & 7698            & 1981-12-11 0:00 &  950            &   NA            & 30             \\\\\n",
       "\t  9              & 7521            & WARD            & SALESMAN        & 7698            & 1981-02-23 0:00 & 1250            &  500            & 30             \\\\\n",
       "\t 10              & 7902            & FORD            & ANALYST         & 7566            & 1981-12-11 0:00 & 3000            &   NA            & 20             \\\\\n",
       "\t 11              & 7369            & SMITH           & CLERK           & 7902            & 1980-12-09 0:00 &  800            &   NA            & 20             \\\\\n",
       "\t 12              & 7788            & SCOTT           & ANALYST         & 7566            & 1982-12-22 0:00 & 3000            &   NA            & 20             \\\\\n",
       "\t 13              & 7876            & ADAMS           & CLERK           & 7788            & 1983-01-15 0:00 & 1100            &   NA            & 20             \\\\\n",
       "\t 14              & 7934            & MILLER          & CLERK           & 7782            & 1982-01-11 0:00 & 1300            &   NA            & 10             \\\\\n",
       "\\end{tabular}\n"
      ],
      "text/markdown": [
       "\n",
       "| index | empno | ename | job | mgr | hiredate | sal | comm | deptno |\n",
       "|---|---|---|---|---|---|---|---|---|\n",
       "|  1              | 7839            | KING            | PRESIDENT       |   NA            | 1981-11-17 0:00 | 5000            |   NA            | 10              |\n",
       "|  2              | 7698            | BLAKE           | MANAGER         | 7839            | 1981-05-01 0:00 | 2850            |   NA            | 30              |\n",
       "|  3              | 7782            | CLARK           | MANAGER         | 7839            | 1981-05-09 0:00 | 2450            |   NA            | 10              |\n",
       "|  4              | 7566            | JONES           | MANAGER         | 7839            | 1981-04-01 0:00 | 2975            |   NA            | 20              |\n",
       "|  5              | 7654            | MARTIN          | SALESMAN        | 7698            | 1981-09-10 0:00 | 1250            | 1400            | 30              |\n",
       "|  6              | 7499            | ALLEN           | SALESMAN        | 7698            | 1981-02-11 0:00 | 1600            |  300            | 30              |\n",
       "|  7              | 7844            | TURNER          | SALESMAN        | 7698            | 1981-08-21 0:00 | 1500            |    0            | 30              |\n",
       "|  8              | 7900            | JAMES           | CLERK           | 7698            | 1981-12-11 0:00 |  950            |   NA            | 30              |\n",
       "|  9              | 7521            | WARD            | SALESMAN        | 7698            | 1981-02-23 0:00 | 1250            |  500            | 30              |\n",
       "| 10              | 7902            | FORD            | ANALYST         | 7566            | 1981-12-11 0:00 | 3000            |   NA            | 20              |\n",
       "| 11              | 7369            | SMITH           | CLERK           | 7902            | 1980-12-09 0:00 |  800            |   NA            | 20              |\n",
       "| 12              | 7788            | SCOTT           | ANALYST         | 7566            | 1982-12-22 0:00 | 3000            |   NA            | 20              |\n",
       "| 13              | 7876            | ADAMS           | CLERK           | 7788            | 1983-01-15 0:00 | 1100            |   NA            | 20              |\n",
       "| 14              | 7934            | MILLER          | CLERK           | 7782            | 1982-01-11 0:00 | 1300            |   NA            | 10              |\n",
       "\n"
      ],
      "text/plain": [
       "   index empno ename  job       mgr  hiredate        sal  comm deptno\n",
       "1   1    7839  KING   PRESIDENT   NA 1981-11-17 0:00 5000   NA 10    \n",
       "2   2    7698  BLAKE  MANAGER   7839 1981-05-01 0:00 2850   NA 30    \n",
       "3   3    7782  CLARK  MANAGER   7839 1981-05-09 0:00 2450   NA 10    \n",
       "4   4    7566  JONES  MANAGER   7839 1981-04-01 0:00 2975   NA 20    \n",
       "5   5    7654  MARTIN SALESMAN  7698 1981-09-10 0:00 1250 1400 30    \n",
       "6   6    7499  ALLEN  SALESMAN  7698 1981-02-11 0:00 1600  300 30    \n",
       "7   7    7844  TURNER SALESMAN  7698 1981-08-21 0:00 1500    0 30    \n",
       "8   8    7900  JAMES  CLERK     7698 1981-12-11 0:00  950   NA 30    \n",
       "9   9    7521  WARD   SALESMAN  7698 1981-02-23 0:00 1250  500 30    \n",
       "10 10    7902  FORD   ANALYST   7566 1981-12-11 0:00 3000   NA 20    \n",
       "11 11    7369  SMITH  CLERK     7902 1980-12-09 0:00  800   NA 20    \n",
       "12 12    7788  SCOTT  ANALYST   7566 1982-12-22 0:00 3000   NA 20    \n",
       "13 13    7876  ADAMS  CLERK     7788 1983-01-15 0:00 1100   NA 20    \n",
       "14 14    7934  MILLER CLERK     7782 1982-01-11 0:00 1300   NA 10    "
      ]
     },
     "metadata": {},
     "output_type": "display_data"
    }
   ],
   "source": [
    "emp<-read.csv('emp3.csv',header=T)\n",
    "emp"
   ]
  },
  {
   "cell_type": "markdown",
   "metadata": {},
   "source": [
    "## ■ SQL과 R의 차이\n",
    "### 아주 긴 SQL 코드를 R 코드로는 아주 단순하게 작성할 수 있다.\n",
    "```sql\n",
    "select deptno, sum(decode(job,'SALESMAN',sal,0)),\n",
    "               sum(decode(job,'ANALYST',sal,0)),\n",
    "               sum(decode(job,'CLERK',sal,0)),\n",
    "               sum(decode(job,'MANAGER',sal,0)),\n",
    "               sum(decode(job,'PRESIDENT',sal,0))\n",
    "    from emp\n",
    "    group by deptno;\n",
    "```"
   ]
  },
  {
   "cell_type": "code",
   "execution_count": 5,
   "metadata": {
    "ExecuteTime": {
     "end_time": "2020-06-11T01:02:26.122131Z",
     "start_time": "2020-06-11T01:02:26.062Z"
    }
   },
   "outputs": [
    {
     "data": {
      "text/html": [
       "<table>\n",
       "<thead><tr><th></th><th scope=col>ANALYST</th><th scope=col>CLERK</th><th scope=col>MANAGER</th><th scope=col>PRESIDENT</th><th scope=col>SALESMAN</th></tr></thead>\n",
       "<tbody>\n",
       "\t<tr><th scope=row>10</th><td>  NA</td><td>1300</td><td>2450</td><td>5000</td><td>  NA</td></tr>\n",
       "\t<tr><th scope=row>20</th><td>6000</td><td>1900</td><td>2975</td><td>  NA</td><td>  NA</td></tr>\n",
       "\t<tr><th scope=row>30</th><td>  NA</td><td> 950</td><td>2850</td><td>  NA</td><td>5600</td></tr>\n",
       "</tbody>\n",
       "</table>\n"
      ],
      "text/latex": [
       "\\begin{tabular}{r|lllll}\n",
       "  & ANALYST & CLERK & MANAGER & PRESIDENT & SALESMAN\\\\\n",
       "\\hline\n",
       "\t10 &   NA & 1300 & 2450 & 5000 &   NA\\\\\n",
       "\t20 & 6000 & 1900 & 2975 &   NA &   NA\\\\\n",
       "\t30 &   NA &  950 & 2850 &   NA & 5600\\\\\n",
       "\\end{tabular}\n"
      ],
      "text/markdown": [
       "\n",
       "| <!--/--> | ANALYST | CLERK | MANAGER | PRESIDENT | SALESMAN |\n",
       "|---|---|---|---|---|---|\n",
       "| 10 |   NA | 1300 | 2450 | 5000 |   NA |\n",
       "| 20 | 6000 | 1900 | 2975 |   NA |   NA |\n",
       "| 30 |   NA |  950 | 2850 |   NA | 5600 |\n",
       "\n"
      ],
      "text/plain": [
       "   ANALYST CLERK MANAGER PRESIDENT SALESMAN\n",
       "10   NA    1300  2450    5000        NA    \n",
       "20 6000    1900  2975      NA        NA    \n",
       "30   NA     950  2850      NA      5600    "
      ]
     },
     "metadata": {},
     "output_type": "display_data"
    }
   ],
   "source": [
    "attach(emp)\n",
    "tapply(sal,list(deptno,job),sum)"
   ]
  },
  {
   "cell_type": "markdown",
   "metadata": {},
   "source": [
    "※ attach(emp)를 안하면 다음과 같이 작성해야한다.  \n",
    "```R\n",
    "tapply(emp$sal,list(emp$deptno, emp$job),sum)\n",
    "```"
   ]
  },
  {
   "cell_type": "markdown",
   "metadata": {},
   "source": [
    "### SQL로는 시각화를 할 수 없지만 R은 데이터 시각화가 아주 강력하다"
   ]
  },
  {
   "cell_type": "markdown",
   "metadata": {},
   "source": [
    "## ■ R의 자료구조 (R에서 데이터를 저장하는 구조)\n",
    "### 1. vector\n",
    "####       같은 데이터 타입을 갖는 1차원 배열구조\n",
    "### 2. matrix\n",
    "####       같은 데이터 타입을 갖는 2차원 배열구조\n",
    "### 3. array\n",
    "####       같은 데이터 타입을 갖는 다차원 배열구조\n",
    "### 4. data.frame\n",
    "####       같은 데이터 타입을 갖는 컬럼으로 이루어진 2차원 배열구조(RDBMS의 table과 유사)\n",
    "### 5. list\n",
    "####       서로 다른 데이터 구조(vector, matrix, array, data frame)인 데이터 타입이 중첩된 구조\n",
    "\n",
    "![구조](r자료구조.png)\n",
    "\n",
    "```\n",
    "      Oracle          vs          R\n",
    "     desc emp                  str(emp)\n",
    "```"
   ]
  },
  {
   "cell_type": "code",
   "execution_count": 6,
   "metadata": {
    "ExecuteTime": {
     "end_time": "2020-06-11T01:13:34.301326Z",
     "start_time": "2020-06-11T01:13:34.265Z"
    }
   },
   "outputs": [
    {
     "name": "stdout",
     "output_type": "stream",
     "text": [
      "'data.frame':\t14 obs. of  9 variables:\n",
      " $ index   : int  1 2 3 4 5 6 7 8 9 10 ...\n",
      " $ empno   : int  7839 7698 7782 7566 7654 7499 7844 7900 7521 7902 ...\n",
      " $ ename   : Factor w/ 14 levels \"ADAMS\",\"ALLEN\",..: 8 3 4 7 9 2 13 6 14 5 ...\n",
      " $ job     : Factor w/ 5 levels \"ANALYST\",\"CLERK\",..: 4 3 3 3 5 5 5 2 5 1 ...\n",
      " $ mgr     : int  NA 7839 7839 7839 7698 7698 7698 7698 7698 7566 ...\n",
      " $ hiredate: Factor w/ 13 levels \"1980-12-09 0:00\",..: 9 5 6 4 8 2 7 10 3 10 ...\n",
      " $ sal     : int  5000 2850 2450 2975 1250 1600 1500 950 1250 3000 ...\n",
      " $ comm    : int  NA NA NA NA 1400 300 0 NA 500 NA ...\n",
      " $ deptno  : int  10 30 10 20 30 30 30 30 30 20 ...\n"
     ]
    }
   ],
   "source": [
    "str(emp)"
   ]
  },
  {
   "cell_type": "markdown",
   "metadata": {},
   "source": [
    "## ■ R에서의 기본 데이터 검색"
   ]
  },
  {
   "cell_type": "markdown",
   "metadata": {},
   "source": [
    "### ※ 문제1. emp 데이터 프레임에서 이름과 월급을 출력하시오"
   ]
  },
  {
   "cell_type": "code",
   "execution_count": 9,
   "metadata": {
    "ExecuteTime": {
     "end_time": "2020-06-11T01:18:42.474069Z",
     "start_time": "2020-06-11T01:18:42.436Z"
    }
   },
   "outputs": [
    {
     "data": {
      "text/html": [
       "<table>\n",
       "<thead><tr><th scope=col>ename</th><th scope=col>sal</th></tr></thead>\n",
       "<tbody>\n",
       "\t<tr><td>KING  </td><td>5000  </td></tr>\n",
       "\t<tr><td>BLAKE </td><td>2850  </td></tr>\n",
       "\t<tr><td>CLARK </td><td>2450  </td></tr>\n",
       "\t<tr><td>JONES </td><td>2975  </td></tr>\n",
       "\t<tr><td>MARTIN</td><td>1250  </td></tr>\n",
       "\t<tr><td>ALLEN </td><td>1600  </td></tr>\n",
       "\t<tr><td>TURNER</td><td>1500  </td></tr>\n",
       "\t<tr><td>JAMES </td><td> 950  </td></tr>\n",
       "\t<tr><td>WARD  </td><td>1250  </td></tr>\n",
       "\t<tr><td>FORD  </td><td>3000  </td></tr>\n",
       "\t<tr><td>SMITH </td><td> 800  </td></tr>\n",
       "\t<tr><td>SCOTT </td><td>3000  </td></tr>\n",
       "\t<tr><td>ADAMS </td><td>1100  </td></tr>\n",
       "\t<tr><td>MILLER</td><td>1300  </td></tr>\n",
       "</tbody>\n",
       "</table>\n"
      ],
      "text/latex": [
       "\\begin{tabular}{r|ll}\n",
       " ename & sal\\\\\n",
       "\\hline\n",
       "\t KING   & 5000  \\\\\n",
       "\t BLAKE  & 2850  \\\\\n",
       "\t CLARK  & 2450  \\\\\n",
       "\t JONES  & 2975  \\\\\n",
       "\t MARTIN & 1250  \\\\\n",
       "\t ALLEN  & 1600  \\\\\n",
       "\t TURNER & 1500  \\\\\n",
       "\t JAMES  &  950  \\\\\n",
       "\t WARD   & 1250  \\\\\n",
       "\t FORD   & 3000  \\\\\n",
       "\t SMITH  &  800  \\\\\n",
       "\t SCOTT  & 3000  \\\\\n",
       "\t ADAMS  & 1100  \\\\\n",
       "\t MILLER & 1300  \\\\\n",
       "\\end{tabular}\n"
      ],
      "text/markdown": [
       "\n",
       "| ename | sal |\n",
       "|---|---|\n",
       "| KING   | 5000   |\n",
       "| BLAKE  | 2850   |\n",
       "| CLARK  | 2450   |\n",
       "| JONES  | 2975   |\n",
       "| MARTIN | 1250   |\n",
       "| ALLEN  | 1600   |\n",
       "| TURNER | 1500   |\n",
       "| JAMES  |  950   |\n",
       "| WARD   | 1250   |\n",
       "| FORD   | 3000   |\n",
       "| SMITH  |  800   |\n",
       "| SCOTT  | 3000   |\n",
       "| ADAMS  | 1100   |\n",
       "| MILLER | 1300   |\n",
       "\n"
      ],
      "text/plain": [
       "   ename  sal \n",
       "1  KING   5000\n",
       "2  BLAKE  2850\n",
       "3  CLARK  2450\n",
       "4  JONES  2975\n",
       "5  MARTIN 1250\n",
       "6  ALLEN  1600\n",
       "7  TURNER 1500\n",
       "8  JAMES   950\n",
       "9  WARD   1250\n",
       "10 FORD   3000\n",
       "11 SMITH   800\n",
       "12 SCOTT  3000\n",
       "13 ADAMS  1100\n",
       "14 MILLER 1300"
      ]
     },
     "metadata": {},
     "output_type": "display_data"
    }
   ],
   "source": [
    "emp[,c('ename','sal')] # c() : combine"
   ]
  },
  {
   "cell_type": "markdown",
   "metadata": {},
   "source": [
    "### ※ 문제2. 월급이 3000 이상인 사원들의 이름과 월급을 출력하시오"
   ]
  },
  {
   "cell_type": "code",
   "execution_count": 24,
   "metadata": {
    "ExecuteTime": {
     "end_time": "2020-06-11T01:21:48.731120Z",
     "start_time": "2020-06-11T01:21:48.697Z"
    }
   },
   "outputs": [
    {
     "data": {
      "text/html": [
       "<table>\n",
       "<thead><tr><th></th><th scope=col>ename</th><th scope=col>sal</th></tr></thead>\n",
       "<tbody>\n",
       "\t<tr><th scope=row>1</th><td>KING </td><td>5000 </td></tr>\n",
       "\t<tr><th scope=row>10</th><td>FORD </td><td>3000 </td></tr>\n",
       "\t<tr><th scope=row>12</th><td>SCOTT</td><td>3000 </td></tr>\n",
       "</tbody>\n",
       "</table>\n"
      ],
      "text/latex": [
       "\\begin{tabular}{r|ll}\n",
       "  & ename & sal\\\\\n",
       "\\hline\n",
       "\t1 & KING  & 5000 \\\\\n",
       "\t10 & FORD  & 3000 \\\\\n",
       "\t12 & SCOTT & 3000 \\\\\n",
       "\\end{tabular}\n"
      ],
      "text/markdown": [
       "\n",
       "| <!--/--> | ename | sal |\n",
       "|---|---|---|\n",
       "| 1 | KING  | 5000  |\n",
       "| 10 | FORD  | 3000  |\n",
       "| 12 | SCOTT | 3000  |\n",
       "\n"
      ],
      "text/plain": [
       "   ename sal \n",
       "1  KING  5000\n",
       "10 FORD  3000\n",
       "12 SCOTT 3000"
      ]
     },
     "metadata": {},
     "output_type": "display_data"
    }
   ],
   "source": [
    "emp=read.csv('emp3.csv',header=T)\n",
    "emp[emp$sal>=3000,c('ename','sal')]"
   ]
  },
  {
   "cell_type": "markdown",
   "metadata": {},
   "source": [
    "### ※ 문제3. 월급이 2000 이상인 사원들의 이름과 월급을 출력하시오"
   ]
  },
  {
   "cell_type": "code",
   "execution_count": 25,
   "metadata": {
    "ExecuteTime": {
     "end_time": "2020-06-11T01:21:58.089946Z",
     "start_time": "2020-06-11T01:21:58.053Z"
    }
   },
   "outputs": [
    {
     "data": {
      "text/html": [
       "<table>\n",
       "<thead><tr><th></th><th scope=col>ename</th><th scope=col>sal</th></tr></thead>\n",
       "<tbody>\n",
       "\t<tr><th scope=row>1</th><td>KING </td><td>5000 </td></tr>\n",
       "\t<tr><th scope=row>2</th><td>BLAKE</td><td>2850 </td></tr>\n",
       "\t<tr><th scope=row>3</th><td>CLARK</td><td>2450 </td></tr>\n",
       "\t<tr><th scope=row>4</th><td>JONES</td><td>2975 </td></tr>\n",
       "\t<tr><th scope=row>10</th><td>FORD </td><td>3000 </td></tr>\n",
       "\t<tr><th scope=row>12</th><td>SCOTT</td><td>3000 </td></tr>\n",
       "</tbody>\n",
       "</table>\n"
      ],
      "text/latex": [
       "\\begin{tabular}{r|ll}\n",
       "  & ename & sal\\\\\n",
       "\\hline\n",
       "\t1 & KING  & 5000 \\\\\n",
       "\t2 & BLAKE & 2850 \\\\\n",
       "\t3 & CLARK & 2450 \\\\\n",
       "\t4 & JONES & 2975 \\\\\n",
       "\t10 & FORD  & 3000 \\\\\n",
       "\t12 & SCOTT & 3000 \\\\\n",
       "\\end{tabular}\n"
      ],
      "text/markdown": [
       "\n",
       "| <!--/--> | ename | sal |\n",
       "|---|---|---|\n",
       "| 1 | KING  | 5000  |\n",
       "| 2 | BLAKE | 2850  |\n",
       "| 3 | CLARK | 2450  |\n",
       "| 4 | JONES | 2975  |\n",
       "| 10 | FORD  | 3000  |\n",
       "| 12 | SCOTT | 3000  |\n",
       "\n"
      ],
      "text/plain": [
       "   ename sal \n",
       "1  KING  5000\n",
       "2  BLAKE 2850\n",
       "3  CLARK 2450\n",
       "4  JONES 2975\n",
       "10 FORD  3000\n",
       "12 SCOTT 3000"
      ]
     },
     "metadata": {},
     "output_type": "display_data"
    }
   ],
   "source": [
    "emp[emp$sal>=2000,c('ename','sal')]"
   ]
  },
  {
   "cell_type": "markdown",
   "metadata": {},
   "source": [
    "### ※ R에서 사용하는 연산자 3가지\n",
    "#### 1. 산술연산자  : +, _, *, /\n",
    "#### 2. 비교연산자 : >, <, >=, <=, ==, !=\n",
    "#### 3. 논리연산자 : & (벡터화 됐을 때 연산) / &&(벡터화 되지 않았을 때 연산) / | (벡터화 됐을 때 연산)/ || (벡터화 되지 않았을 때 연산)/ ! (not)"
   ]
  },
  {
   "cell_type": "markdown",
   "metadata": {},
   "source": [
    "## ■ 벡터화 된 연산 vs 벡터화 되지 않은 연산"
   ]
  },
  {
   "cell_type": "code",
   "execution_count": 62,
   "metadata": {
    "ExecuteTime": {
     "end_time": "2020-06-11T02:23:46.344891Z",
     "start_time": "2020-06-11T02:23:46.312Z"
    }
   },
   "outputs": [
    {
     "name": "stdout",
     "output_type": "stream",
     "text": [
      "[1] 1 2 3\n",
      "[1] FALSE  TRUE FALSE\n"
     ]
    }
   ],
   "source": [
    "# 벡터화 된 연산\n",
    "x=c(1,2,3)\n",
    "print(x)\n",
    "print(x > c(1,1,1) & x < c(3,3,3))"
   ]
  },
  {
   "cell_type": "code",
   "execution_count": 60,
   "metadata": {
    "ExecuteTime": {
     "end_time": "2020-06-11T02:23:34.072007Z",
     "start_time": "2020-06-11T02:23:34.039Z"
    }
   },
   "outputs": [
    {
     "name": "stdout",
     "output_type": "stream",
     "text": [
      "[1] TRUE\n"
     ]
    }
   ],
   "source": [
    "# 벡터화 되지 않은 연산\n",
    "x2=1\n",
    "print(x2 > -2 && x2 < 2)"
   ]
  },
  {
   "cell_type": "markdown",
   "metadata": {},
   "source": [
    "### ※ 문제4. 직업이 SALESMAN인 사원들의 이름과 월급과 직업을 출력하시오"
   ]
  },
  {
   "cell_type": "code",
   "execution_count": 41,
   "metadata": {
    "ExecuteTime": {
     "end_time": "2020-06-11T01:55:31.916231Z",
     "start_time": "2020-06-11T01:55:31.880Z"
    }
   },
   "outputs": [
    {
     "data": {
      "text/html": [
       "<table>\n",
       "<thead><tr><th></th><th scope=col>ename</th><th scope=col>sal</th><th scope=col>job</th></tr></thead>\n",
       "<tbody>\n",
       "\t<tr><th scope=row>5</th><td>MARTIN  </td><td>1250    </td><td>SALESMAN</td></tr>\n",
       "\t<tr><th scope=row>6</th><td>ALLEN   </td><td>1600    </td><td>SALESMAN</td></tr>\n",
       "\t<tr><th scope=row>7</th><td>TURNER  </td><td>1500    </td><td>SALESMAN</td></tr>\n",
       "\t<tr><th scope=row>9</th><td>WARD    </td><td>1250    </td><td>SALESMAN</td></tr>\n",
       "</tbody>\n",
       "</table>\n"
      ],
      "text/latex": [
       "\\begin{tabular}{r|lll}\n",
       "  & ename & sal & job\\\\\n",
       "\\hline\n",
       "\t5 & MARTIN   & 1250     & SALESMAN\\\\\n",
       "\t6 & ALLEN    & 1600     & SALESMAN\\\\\n",
       "\t7 & TURNER   & 1500     & SALESMAN\\\\\n",
       "\t9 & WARD     & 1250     & SALESMAN\\\\\n",
       "\\end{tabular}\n"
      ],
      "text/markdown": [
       "\n",
       "| <!--/--> | ename | sal | job |\n",
       "|---|---|---|---|\n",
       "| 5 | MARTIN   | 1250     | SALESMAN |\n",
       "| 6 | ALLEN    | 1600     | SALESMAN |\n",
       "| 7 | TURNER   | 1500     | SALESMAN |\n",
       "| 9 | WARD     | 1250     | SALESMAN |\n",
       "\n"
      ],
      "text/plain": [
       "  ename  sal  job     \n",
       "5 MARTIN 1250 SALESMAN\n",
       "6 ALLEN  1600 SALESMAN\n",
       "7 TURNER 1500 SALESMAN\n",
       "9 WARD   1250 SALESMAN"
      ]
     },
     "metadata": {},
     "output_type": "display_data"
    }
   ],
   "source": [
    "emp[emp$job=='SALESMAN',c('ename','sal','job')]"
   ]
  },
  {
   "cell_type": "markdown",
   "metadata": {},
   "source": [
    "### ※ 문제5. 직업이 SALESMAN이고 월급이 1000 이상인 사원들의 이름과 월급과 직업을 출력하시오"
   ]
  },
  {
   "cell_type": "code",
   "execution_count": 42,
   "metadata": {
    "ExecuteTime": {
     "end_time": "2020-06-11T01:57:56.061217Z",
     "start_time": "2020-06-11T01:57:56.023Z"
    }
   },
   "outputs": [
    {
     "data": {
      "text/html": [
       "<table>\n",
       "<thead><tr><th></th><th scope=col>ename</th><th scope=col>sal</th><th scope=col>job</th></tr></thead>\n",
       "<tbody>\n",
       "\t<tr><th scope=row>5</th><td>MARTIN  </td><td>1250    </td><td>SALESMAN</td></tr>\n",
       "\t<tr><th scope=row>6</th><td>ALLEN   </td><td>1600    </td><td>SALESMAN</td></tr>\n",
       "\t<tr><th scope=row>7</th><td>TURNER  </td><td>1500    </td><td>SALESMAN</td></tr>\n",
       "\t<tr><th scope=row>9</th><td>WARD    </td><td>1250    </td><td>SALESMAN</td></tr>\n",
       "</tbody>\n",
       "</table>\n"
      ],
      "text/latex": [
       "\\begin{tabular}{r|lll}\n",
       "  & ename & sal & job\\\\\n",
       "\\hline\n",
       "\t5 & MARTIN   & 1250     & SALESMAN\\\\\n",
       "\t6 & ALLEN    & 1600     & SALESMAN\\\\\n",
       "\t7 & TURNER   & 1500     & SALESMAN\\\\\n",
       "\t9 & WARD     & 1250     & SALESMAN\\\\\n",
       "\\end{tabular}\n"
      ],
      "text/markdown": [
       "\n",
       "| <!--/--> | ename | sal | job |\n",
       "|---|---|---|---|\n",
       "| 5 | MARTIN   | 1250     | SALESMAN |\n",
       "| 6 | ALLEN    | 1600     | SALESMAN |\n",
       "| 7 | TURNER   | 1500     | SALESMAN |\n",
       "| 9 | WARD     | 1250     | SALESMAN |\n",
       "\n"
      ],
      "text/plain": [
       "  ename  sal  job     \n",
       "5 MARTIN 1250 SALESMAN\n",
       "6 ALLEN  1600 SALESMAN\n",
       "7 TURNER 1500 SALESMAN\n",
       "9 WARD   1250 SALESMAN"
      ]
     },
     "metadata": {},
     "output_type": "display_data"
    }
   ],
   "source": [
    "emp[emp$job=='SALESMAN' & emp$sal>=1000, c('ename','sal','job')]"
   ]
  },
  {
   "cell_type": "markdown",
   "metadata": {},
   "source": [
    "#### ※ emp\\\\$job이나 emp\\$sal은 벡터이다. 벡터란 같은 데이터 타입을 갖는 1차원 구조이다"
   ]
  },
  {
   "cell_type": "markdown",
   "metadata": {},
   "source": [
    "## ■ 연결 연산자\n",
    "```\n",
    "        Oracle    vs    R\n",
    "          ||          paste\n",
    "          ```"
   ]
  },
  {
   "cell_type": "markdown",
   "metadata": {},
   "source": [
    "### ※ 문제6. 아래와 같이 결과를 출력하시오\n",
    "```sql\n",
    "select ename||'의 직업은'|| job\n",
    "    from emp;\n",
    "    ```"
   ]
  },
  {
   "cell_type": "code",
   "execution_count": 47,
   "metadata": {
    "ExecuteTime": {
     "end_time": "2020-06-11T02:06:56.858184Z",
     "start_time": "2020-06-11T02:06:56.821Z"
    }
   },
   "outputs": [
    {
     "data": {
      "text/html": [
       "<ol class=list-inline>\n",
       "\t<li>'KING 의 직업은 PRESIDENT'</li>\n",
       "\t<li>'BLAKE 의 직업은 MANAGER'</li>\n",
       "\t<li>'CLARK 의 직업은 MANAGER'</li>\n",
       "\t<li>'JONES 의 직업은 MANAGER'</li>\n",
       "\t<li>'MARTIN 의 직업은 SALESMAN'</li>\n",
       "\t<li>'ALLEN 의 직업은 SALESMAN'</li>\n",
       "\t<li>'TURNER 의 직업은 SALESMAN'</li>\n",
       "\t<li>'JAMES 의 직업은 CLERK'</li>\n",
       "\t<li>'WARD 의 직업은 SALESMAN'</li>\n",
       "\t<li>'FORD 의 직업은 ANALYST'</li>\n",
       "\t<li>'SMITH 의 직업은 CLERK'</li>\n",
       "\t<li>'SCOTT 의 직업은 ANALYST'</li>\n",
       "\t<li>'ADAMS 의 직업은 CLERK'</li>\n",
       "\t<li>'MILLER 의 직업은 CLERK'</li>\n",
       "</ol>\n"
      ],
      "text/latex": [
       "\\begin{enumerate*}\n",
       "\\item 'KING 의 직업은 PRESIDENT'\n",
       "\\item 'BLAKE 의 직업은 MANAGER'\n",
       "\\item 'CLARK 의 직업은 MANAGER'\n",
       "\\item 'JONES 의 직업은 MANAGER'\n",
       "\\item 'MARTIN 의 직업은 SALESMAN'\n",
       "\\item 'ALLEN 의 직업은 SALESMAN'\n",
       "\\item 'TURNER 의 직업은 SALESMAN'\n",
       "\\item 'JAMES 의 직업은 CLERK'\n",
       "\\item 'WARD 의 직업은 SALESMAN'\n",
       "\\item 'FORD 의 직업은 ANALYST'\n",
       "\\item 'SMITH 의 직업은 CLERK'\n",
       "\\item 'SCOTT 의 직업은 ANALYST'\n",
       "\\item 'ADAMS 의 직업은 CLERK'\n",
       "\\item 'MILLER 의 직업은 CLERK'\n",
       "\\end{enumerate*}\n"
      ],
      "text/markdown": [
       "1. 'KING 의 직업은 PRESIDENT'\n",
       "2. 'BLAKE 의 직업은 MANAGER'\n",
       "3. 'CLARK 의 직업은 MANAGER'\n",
       "4. 'JONES 의 직업은 MANAGER'\n",
       "5. 'MARTIN 의 직업은 SALESMAN'\n",
       "6. 'ALLEN 의 직업은 SALESMAN'\n",
       "7. 'TURNER 의 직업은 SALESMAN'\n",
       "8. 'JAMES 의 직업은 CLERK'\n",
       "9. 'WARD 의 직업은 SALESMAN'\n",
       "10. 'FORD 의 직업은 ANALYST'\n",
       "11. 'SMITH 의 직업은 CLERK'\n",
       "12. 'SCOTT 의 직업은 ANALYST'\n",
       "13. 'ADAMS 의 직업은 CLERK'\n",
       "14. 'MILLER 의 직업은 CLERK'\n",
       "\n",
       "\n"
      ],
      "text/plain": [
       " [1] \"KING 의 직업은 PRESIDENT\"  \"BLAKE 의 직업은 MANAGER\"  \n",
       " [3] \"CLARK 의 직업은 MANAGER\"   \"JONES 의 직업은 MANAGER\"  \n",
       " [5] \"MARTIN 의 직업은 SALESMAN\" \"ALLEN 의 직업은 SALESMAN\" \n",
       " [7] \"TURNER 의 직업은 SALESMAN\" \"JAMES 의 직업은 CLERK\"    \n",
       " [9] \"WARD 의 직업은 SALESMAN\"   \"FORD 의 직업은 ANALYST\"   \n",
       "[11] \"SMITH 의 직업은 CLERK\"     \"SCOTT 의 직업은 ANALYST\"  \n",
       "[13] \"ADAMS 의 직업은 CLERK\"     \"MILLER 의 직업은 CLERK\"   "
      ]
     },
     "metadata": {},
     "output_type": "display_data"
    }
   ],
   "source": [
    "paste(emp$ename,'의 직업은',emp$job)"
   ]
  },
  {
   "cell_type": "code",
   "execution_count": 48,
   "metadata": {
    "ExecuteTime": {
     "end_time": "2020-06-11T02:07:28.835348Z",
     "start_time": "2020-06-11T02:07:08.377Z"
    }
   },
   "outputs": [
    {
     "name": "stderr",
     "output_type": "stream",
     "text": [
      "Installing package into 'C:/Users/knitwill/Documents/R/win-library/3.6'\n",
      "(as 'lib' is unspecified)\n"
     ]
    },
    {
     "name": "stdout",
     "output_type": "stream",
     "text": [
      "package 'data.table' successfully unpacked and MD5 sums checked\n",
      "\n",
      "The downloaded binary packages are in\n",
      "\tC:\\Users\\knitwill\\AppData\\Local\\Temp\\RtmpWwdHCw\\downloaded_packages\n"
     ]
    }
   ],
   "source": [
    "install.packages(\"data.table\")"
   ]
  },
  {
   "cell_type": "code",
   "execution_count": 50,
   "metadata": {
    "ExecuteTime": {
     "end_time": "2020-06-11T02:10:34.422841Z",
     "start_time": "2020-06-11T02:10:34.332Z"
    }
   },
   "outputs": [
    {
     "data": {
      "text/html": [
       "<table>\n",
       "<thead><tr><th scope=col>V1</th></tr></thead>\n",
       "<tbody>\n",
       "\t<tr><td>KING 의 직업은 PRESIDENT </td></tr>\n",
       "\t<tr><td>BLAKE 의 직업은 MANAGER  </td></tr>\n",
       "\t<tr><td>CLARK 의 직업은 MANAGER  </td></tr>\n",
       "\t<tr><td>JONES 의 직업은 MANAGER  </td></tr>\n",
       "\t<tr><td>MARTIN 의 직업은 SALESMAN</td></tr>\n",
       "\t<tr><td>ALLEN 의 직업은 SALESMAN </td></tr>\n",
       "\t<tr><td>TURNER 의 직업은 SALESMAN</td></tr>\n",
       "\t<tr><td>JAMES 의 직업은 CLERK    </td></tr>\n",
       "\t<tr><td>WARD 의 직업은 SALESMAN  </td></tr>\n",
       "\t<tr><td>FORD 의 직업은 ANALYST   </td></tr>\n",
       "\t<tr><td>SMITH 의 직업은 CLERK    </td></tr>\n",
       "\t<tr><td>SCOTT 의 직업은 ANALYST  </td></tr>\n",
       "\t<tr><td>ADAMS 의 직업은 CLERK    </td></tr>\n",
       "\t<tr><td>MILLER 의 직업은 CLERK   </td></tr>\n",
       "</tbody>\n",
       "</table>\n"
      ],
      "text/latex": [
       "\\begin{tabular}{r|l}\n",
       " V1\\\\\n",
       "\\hline\n",
       "\t KING 의 직업은 PRESIDENT \\\\\n",
       "\t BLAKE 의 직업은 MANAGER  \\\\\n",
       "\t CLARK 의 직업은 MANAGER  \\\\\n",
       "\t JONES 의 직업은 MANAGER  \\\\\n",
       "\t MARTIN 의 직업은 SALESMAN\\\\\n",
       "\t ALLEN 의 직업은 SALESMAN \\\\\n",
       "\t TURNER 의 직업은 SALESMAN\\\\\n",
       "\t JAMES 의 직업은 CLERK    \\\\\n",
       "\t WARD 의 직업은 SALESMAN  \\\\\n",
       "\t FORD 의 직업은 ANALYST   \\\\\n",
       "\t SMITH 의 직업은 CLERK    \\\\\n",
       "\t SCOTT 의 직업은 ANALYST  \\\\\n",
       "\t ADAMS 의 직업은 CLERK    \\\\\n",
       "\t MILLER 의 직업은 CLERK   \\\\\n",
       "\\end{tabular}\n"
      ],
      "text/markdown": [
       "\n",
       "| V1 |\n",
       "|---|\n",
       "| KING 의 직업은 PRESIDENT  |\n",
       "| BLAKE 의 직업은 MANAGER   |\n",
       "| CLARK 의 직업은 MANAGER   |\n",
       "| JONES 의 직업은 MANAGER   |\n",
       "| MARTIN 의 직업은 SALESMAN |\n",
       "| ALLEN 의 직업은 SALESMAN  |\n",
       "| TURNER 의 직업은 SALESMAN |\n",
       "| JAMES 의 직업은 CLERK     |\n",
       "| WARD 의 직업은 SALESMAN   |\n",
       "| FORD 의 직업은 ANALYST    |\n",
       "| SMITH 의 직업은 CLERK     |\n",
       "| SCOTT 의 직업은 ANALYST   |\n",
       "| ADAMS 의 직업은 CLERK     |\n",
       "| MILLER 의 직업은 CLERK    |\n",
       "\n"
      ],
      "text/plain": [
       "   V1                       \n",
       "1  KING 의 직업은 PRESIDENT \n",
       "2  BLAKE 의 직업은 MANAGER  \n",
       "3  CLARK 의 직업은 MANAGER  \n",
       "4  JONES 의 직업은 MANAGER  \n",
       "5  MARTIN 의 직업은 SALESMAN\n",
       "6  ALLEN 의 직업은 SALESMAN \n",
       "7  TURNER 의 직업은 SALESMAN\n",
       "8  JAMES 의 직업은 CLERK    \n",
       "9  WARD 의 직업은 SALESMAN  \n",
       "10 FORD 의 직업은 ANALYST   \n",
       "11 SMITH 의 직업은 CLERK    \n",
       "12 SCOTT 의 직업은 ANALYST  \n",
       "13 ADAMS 의 직업은 CLERK    \n",
       "14 MILLER 의 직업은 CLERK   "
      ]
     },
     "metadata": {},
     "output_type": "display_data"
    }
   ],
   "source": [
    "data.table(paste(emp$ename,'의 직업은',emp$job))"
   ]
  },
  {
   "cell_type": "markdown",
   "metadata": {},
   "source": [
    "## ■ 기타 비교 연산자\n",
    "```\n",
    "    SQL        vs           R\n",
    "    in                     %in%\n",
    "    like                   grep\n",
    "    is null                is.na\n",
    "    between .. and         >= & <=\n",
    "    ```"
   ]
  },
  {
   "cell_type": "markdown",
   "metadata": {},
   "source": [
    "### ※ 문제7. 직업이 SALESMAN, ANALYST인 사원들의 이름, 월급, 직업을 출력하시오"
   ]
  },
  {
   "cell_type": "code",
   "execution_count": 51,
   "metadata": {
    "ExecuteTime": {
     "end_time": "2020-06-11T02:13:33.808913Z",
     "start_time": "2020-06-11T02:13:33.772Z"
    }
   },
   "outputs": [
    {
     "data": {
      "text/html": [
       "<table>\n",
       "<thead><tr><th></th><th scope=col>ename</th><th scope=col>sal</th><th scope=col>job</th></tr></thead>\n",
       "<tbody>\n",
       "\t<tr><th scope=row>5</th><td>MARTIN  </td><td>1250    </td><td>SALESMAN</td></tr>\n",
       "\t<tr><th scope=row>6</th><td>ALLEN   </td><td>1600    </td><td>SALESMAN</td></tr>\n",
       "\t<tr><th scope=row>7</th><td>TURNER  </td><td>1500    </td><td>SALESMAN</td></tr>\n",
       "\t<tr><th scope=row>9</th><td>WARD    </td><td>1250    </td><td>SALESMAN</td></tr>\n",
       "\t<tr><th scope=row>10</th><td>FORD    </td><td>3000    </td><td>ANALYST </td></tr>\n",
       "\t<tr><th scope=row>12</th><td>SCOTT   </td><td>3000    </td><td>ANALYST </td></tr>\n",
       "</tbody>\n",
       "</table>\n"
      ],
      "text/latex": [
       "\\begin{tabular}{r|lll}\n",
       "  & ename & sal & job\\\\\n",
       "\\hline\n",
       "\t5 & MARTIN   & 1250     & SALESMAN\\\\\n",
       "\t6 & ALLEN    & 1600     & SALESMAN\\\\\n",
       "\t7 & TURNER   & 1500     & SALESMAN\\\\\n",
       "\t9 & WARD     & 1250     & SALESMAN\\\\\n",
       "\t10 & FORD     & 3000     & ANALYST \\\\\n",
       "\t12 & SCOTT    & 3000     & ANALYST \\\\\n",
       "\\end{tabular}\n"
      ],
      "text/markdown": [
       "\n",
       "| <!--/--> | ename | sal | job |\n",
       "|---|---|---|---|\n",
       "| 5 | MARTIN   | 1250     | SALESMAN |\n",
       "| 6 | ALLEN    | 1600     | SALESMAN |\n",
       "| 7 | TURNER   | 1500     | SALESMAN |\n",
       "| 9 | WARD     | 1250     | SALESMAN |\n",
       "| 10 | FORD     | 3000     | ANALYST  |\n",
       "| 12 | SCOTT    | 3000     | ANALYST  |\n",
       "\n"
      ],
      "text/plain": [
       "   ename  sal  job     \n",
       "5  MARTIN 1250 SALESMAN\n",
       "6  ALLEN  1600 SALESMAN\n",
       "7  TURNER 1500 SALESMAN\n",
       "9  WARD   1250 SALESMAN\n",
       "10 FORD   3000 ANALYST \n",
       "12 SCOTT  3000 ANALYST "
      ]
     },
     "metadata": {},
     "output_type": "display_data"
    }
   ],
   "source": [
    "emp[emp$job %in% c('SALESMAN','ANALYST'),c('ename','sal','job')]"
   ]
  },
  {
   "cell_type": "markdown",
   "metadata": {},
   "source": [
    "### ※ 문제8. 직업이 SALESMAN, ANALYST가 아닌 사원들의 이름, 월급, 직업을 출력하시오"
   ]
  },
  {
   "cell_type": "code",
   "execution_count": 55,
   "metadata": {
    "ExecuteTime": {
     "end_time": "2020-06-11T02:16:55.749626Z",
     "start_time": "2020-06-11T02:16:55.715Z"
    }
   },
   "outputs": [
    {
     "data": {
      "text/html": [
       "<table>\n",
       "<thead><tr><th></th><th scope=col>ename</th><th scope=col>sal</th><th scope=col>job</th></tr></thead>\n",
       "<tbody>\n",
       "\t<tr><th scope=row>1</th><td>KING     </td><td>5000     </td><td>PRESIDENT</td></tr>\n",
       "\t<tr><th scope=row>2</th><td>BLAKE    </td><td>2850     </td><td>MANAGER  </td></tr>\n",
       "\t<tr><th scope=row>3</th><td>CLARK    </td><td>2450     </td><td>MANAGER  </td></tr>\n",
       "\t<tr><th scope=row>4</th><td>JONES    </td><td>2975     </td><td>MANAGER  </td></tr>\n",
       "\t<tr><th scope=row>8</th><td>JAMES    </td><td> 950     </td><td>CLERK    </td></tr>\n",
       "\t<tr><th scope=row>11</th><td>SMITH    </td><td> 800     </td><td>CLERK    </td></tr>\n",
       "\t<tr><th scope=row>13</th><td>ADAMS    </td><td>1100     </td><td>CLERK    </td></tr>\n",
       "\t<tr><th scope=row>14</th><td>MILLER   </td><td>1300     </td><td>CLERK    </td></tr>\n",
       "</tbody>\n",
       "</table>\n"
      ],
      "text/latex": [
       "\\begin{tabular}{r|lll}\n",
       "  & ename & sal & job\\\\\n",
       "\\hline\n",
       "\t1 & KING      & 5000      & PRESIDENT\\\\\n",
       "\t2 & BLAKE     & 2850      & MANAGER  \\\\\n",
       "\t3 & CLARK     & 2450      & MANAGER  \\\\\n",
       "\t4 & JONES     & 2975      & MANAGER  \\\\\n",
       "\t8 & JAMES     &  950      & CLERK    \\\\\n",
       "\t11 & SMITH     &  800      & CLERK    \\\\\n",
       "\t13 & ADAMS     & 1100      & CLERK    \\\\\n",
       "\t14 & MILLER    & 1300      & CLERK    \\\\\n",
       "\\end{tabular}\n"
      ],
      "text/markdown": [
       "\n",
       "| <!--/--> | ename | sal | job |\n",
       "|---|---|---|---|\n",
       "| 1 | KING      | 5000      | PRESIDENT |\n",
       "| 2 | BLAKE     | 2850      | MANAGER   |\n",
       "| 3 | CLARK     | 2450      | MANAGER   |\n",
       "| 4 | JONES     | 2975      | MANAGER   |\n",
       "| 8 | JAMES     |  950      | CLERK     |\n",
       "| 11 | SMITH     |  800      | CLERK     |\n",
       "| 13 | ADAMS     | 1100      | CLERK     |\n",
       "| 14 | MILLER    | 1300      | CLERK     |\n",
       "\n"
      ],
      "text/plain": [
       "   ename  sal  job      \n",
       "1  KING   5000 PRESIDENT\n",
       "2  BLAKE  2850 MANAGER  \n",
       "3  CLARK  2450 MANAGER  \n",
       "4  JONES  2975 MANAGER  \n",
       "8  JAMES   950 CLERK    \n",
       "11 SMITH   800 CLERK    \n",
       "13 ADAMS  1100 CLERK    \n",
       "14 MILLER 1300 CLERK    "
      ]
     },
     "metadata": {},
     "output_type": "display_data"
    }
   ],
   "source": [
    "emp[!emp$job %in% c('SALESMAN','ANALYST'),c('ename','sal','job')]"
   ]
  },
  {
   "cell_type": "markdown",
   "metadata": {},
   "source": [
    "### ※ 문제9. 커미션이 null인 사원들의 이름, 월급, 커미션을 출력하시오"
   ]
  },
  {
   "cell_type": "code",
   "execution_count": 58,
   "metadata": {
    "ExecuteTime": {
     "end_time": "2020-06-11T02:20:37.539256Z",
     "start_time": "2020-06-11T02:20:37.498Z"
    }
   },
   "outputs": [
    {
     "data": {
      "text/html": [
       "<table>\n",
       "<thead><tr><th></th><th scope=col>ename</th><th scope=col>sal</th><th scope=col>comm</th></tr></thead>\n",
       "<tbody>\n",
       "\t<tr><th scope=row>1</th><td>KING  </td><td>5000  </td><td>NA    </td></tr>\n",
       "\t<tr><th scope=row>2</th><td>BLAKE </td><td>2850  </td><td>NA    </td></tr>\n",
       "\t<tr><th scope=row>3</th><td>CLARK </td><td>2450  </td><td>NA    </td></tr>\n",
       "\t<tr><th scope=row>4</th><td>JONES </td><td>2975  </td><td>NA    </td></tr>\n",
       "\t<tr><th scope=row>8</th><td>JAMES </td><td> 950  </td><td>NA    </td></tr>\n",
       "\t<tr><th scope=row>10</th><td>FORD  </td><td>3000  </td><td>NA    </td></tr>\n",
       "\t<tr><th scope=row>11</th><td>SMITH </td><td> 800  </td><td>NA    </td></tr>\n",
       "\t<tr><th scope=row>12</th><td>SCOTT </td><td>3000  </td><td>NA    </td></tr>\n",
       "\t<tr><th scope=row>13</th><td>ADAMS </td><td>1100  </td><td>NA    </td></tr>\n",
       "\t<tr><th scope=row>14</th><td>MILLER</td><td>1300  </td><td>NA    </td></tr>\n",
       "</tbody>\n",
       "</table>\n"
      ],
      "text/latex": [
       "\\begin{tabular}{r|lll}\n",
       "  & ename & sal & comm\\\\\n",
       "\\hline\n",
       "\t1 & KING   & 5000   & NA    \\\\\n",
       "\t2 & BLAKE  & 2850   & NA    \\\\\n",
       "\t3 & CLARK  & 2450   & NA    \\\\\n",
       "\t4 & JONES  & 2975   & NA    \\\\\n",
       "\t8 & JAMES  &  950   & NA    \\\\\n",
       "\t10 & FORD   & 3000   & NA    \\\\\n",
       "\t11 & SMITH  &  800   & NA    \\\\\n",
       "\t12 & SCOTT  & 3000   & NA    \\\\\n",
       "\t13 & ADAMS  & 1100   & NA    \\\\\n",
       "\t14 & MILLER & 1300   & NA    \\\\\n",
       "\\end{tabular}\n"
      ],
      "text/markdown": [
       "\n",
       "| <!--/--> | ename | sal | comm |\n",
       "|---|---|---|---|\n",
       "| 1 | KING   | 5000   | NA     |\n",
       "| 2 | BLAKE  | 2850   | NA     |\n",
       "| 3 | CLARK  | 2450   | NA     |\n",
       "| 4 | JONES  | 2975   | NA     |\n",
       "| 8 | JAMES  |  950   | NA     |\n",
       "| 10 | FORD   | 3000   | NA     |\n",
       "| 11 | SMITH  |  800   | NA     |\n",
       "| 12 | SCOTT  | 3000   | NA     |\n",
       "| 13 | ADAMS  | 1100   | NA     |\n",
       "| 14 | MILLER | 1300   | NA     |\n",
       "\n"
      ],
      "text/plain": [
       "   ename  sal  comm\n",
       "1  KING   5000 NA  \n",
       "2  BLAKE  2850 NA  \n",
       "3  CLARK  2450 NA  \n",
       "4  JONES  2975 NA  \n",
       "8  JAMES   950 NA  \n",
       "10 FORD   3000 NA  \n",
       "11 SMITH   800 NA  \n",
       "12 SCOTT  3000 NA  \n",
       "13 ADAMS  1100 NA  \n",
       "14 MILLER 1300 NA  "
      ]
     },
     "metadata": {},
     "output_type": "display_data"
    }
   ],
   "source": [
    "emp[is.na(emp$comm),c('ename','sal','comm')]"
   ]
  },
  {
   "cell_type": "markdown",
   "metadata": {},
   "source": [
    "### ※ 문제10. 커미션이 null이 아닌 사원들의 이름, 월급, 커미션을 출력하시오"
   ]
  },
  {
   "cell_type": "code",
   "execution_count": 59,
   "metadata": {
    "ExecuteTime": {
     "end_time": "2020-06-11T02:21:56.354032Z",
     "start_time": "2020-06-11T02:21:56.320Z"
    }
   },
   "outputs": [
    {
     "data": {
      "text/html": [
       "<table>\n",
       "<thead><tr><th></th><th scope=col>ename</th><th scope=col>sal</th><th scope=col>comm</th></tr></thead>\n",
       "<tbody>\n",
       "\t<tr><th scope=row>5</th><td>MARTIN</td><td>1250  </td><td>1400  </td></tr>\n",
       "\t<tr><th scope=row>6</th><td>ALLEN </td><td>1600  </td><td> 300  </td></tr>\n",
       "\t<tr><th scope=row>7</th><td>TURNER</td><td>1500  </td><td>   0  </td></tr>\n",
       "\t<tr><th scope=row>9</th><td>WARD  </td><td>1250  </td><td> 500  </td></tr>\n",
       "</tbody>\n",
       "</table>\n"
      ],
      "text/latex": [
       "\\begin{tabular}{r|lll}\n",
       "  & ename & sal & comm\\\\\n",
       "\\hline\n",
       "\t5 & MARTIN & 1250   & 1400  \\\\\n",
       "\t6 & ALLEN  & 1600   &  300  \\\\\n",
       "\t7 & TURNER & 1500   &    0  \\\\\n",
       "\t9 & WARD   & 1250   &  500  \\\\\n",
       "\\end{tabular}\n"
      ],
      "text/markdown": [
       "\n",
       "| <!--/--> | ename | sal | comm |\n",
       "|---|---|---|---|\n",
       "| 5 | MARTIN | 1250   | 1400   |\n",
       "| 6 | ALLEN  | 1600   |  300   |\n",
       "| 7 | TURNER | 1500   |    0   |\n",
       "| 9 | WARD   | 1250   |  500   |\n",
       "\n"
      ],
      "text/plain": [
       "  ename  sal  comm\n",
       "5 MARTIN 1250 1400\n",
       "6 ALLEN  1600  300\n",
       "7 TURNER 1500    0\n",
       "9 WARD   1250  500"
      ]
     },
     "metadata": {},
     "output_type": "display_data"
    }
   ],
   "source": [
    "emp[!is.na(emp$comm),c('ename','sal','comm')]"
   ]
  },
  {
   "cell_type": "markdown",
   "metadata": {},
   "source": [
    "### ※ 문제11. 이름의 첫번째 철자가 A로 시작하는 사원들의 이름, 월급을 출력"
   ]
  },
  {
   "cell_type": "markdown",
   "metadata": {},
   "source": [
    "    정규식 표현>\n",
    "    ^ 첫번째\n",
    "    $ 마지막\n",
    "    . 한자리수\n",
    "    * 여러개(wild card)"
   ]
  },
  {
   "cell_type": "code",
   "execution_count": 63,
   "metadata": {
    "ExecuteTime": {
     "end_time": "2020-06-11T02:48:28.452905Z",
     "start_time": "2020-06-11T02:48:28.420Z"
    }
   },
   "outputs": [
    {
     "data": {
      "text/html": [
       "<table>\n",
       "<thead><tr><th></th><th scope=col>ename</th><th scope=col>sal</th></tr></thead>\n",
       "<tbody>\n",
       "\t<tr><th scope=row>6</th><td>ALLEN</td><td>1600 </td></tr>\n",
       "\t<tr><th scope=row>13</th><td>ADAMS</td><td>1100 </td></tr>\n",
       "</tbody>\n",
       "</table>\n"
      ],
      "text/latex": [
       "\\begin{tabular}{r|ll}\n",
       "  & ename & sal\\\\\n",
       "\\hline\n",
       "\t6 & ALLEN & 1600 \\\\\n",
       "\t13 & ADAMS & 1100 \\\\\n",
       "\\end{tabular}\n"
      ],
      "text/markdown": [
       "\n",
       "| <!--/--> | ename | sal |\n",
       "|---|---|---|\n",
       "| 6 | ALLEN | 1600  |\n",
       "| 13 | ADAMS | 1100  |\n",
       "\n"
      ],
      "text/plain": [
       "   ename sal \n",
       "6  ALLEN 1600\n",
       "13 ADAMS 1100"
      ]
     },
     "metadata": {},
     "output_type": "display_data"
    }
   ],
   "source": [
    "emp[grep(\"^A\",emp$ename),c('ename','sal')]"
   ]
  },
  {
   "cell_type": "markdown",
   "metadata": {},
   "source": [
    "### ※ 문제12. 이름의 끝글자가 T로 끝나는 사원들의 이름을 출력"
   ]
  },
  {
   "cell_type": "code",
   "execution_count": 70,
   "metadata": {
    "ExecuteTime": {
     "end_time": "2020-06-11T02:51:48.028429Z",
     "start_time": "2020-06-11T02:51:47.857Z"
    }
   },
   "outputs": [
    {
     "name": "stdout",
     "output_type": "stream",
     "text": [
      "[1] SCOTT\n",
      "14 Levels: ADAMS ALLEN BLAKE CLARK FORD JAMES JONES KING MARTIN ... WARD\n"
     ]
    }
   ],
   "source": [
    "print(emp[grep(\"T$\",emp$ename),'ename'])"
   ]
  },
  {
   "cell_type": "markdown",
   "metadata": {},
   "source": [
    "### ※ 문제13. 이름의 두번째 철자가 M인 사원들의 이름, 월급을 출력"
   ]
  },
  {
   "cell_type": "code",
   "execution_count": 79,
   "metadata": {
    "ExecuteTime": {
     "end_time": "2020-06-11T02:53:31.722184Z",
     "start_time": "2020-06-11T02:53:31.689Z"
    }
   },
   "outputs": [
    {
     "data": {
      "text/html": [
       "<table>\n",
       "<thead><tr><th></th><th scope=col>ename</th><th scope=col>sal</th></tr></thead>\n",
       "<tbody>\n",
       "\t<tr><th scope=row>11</th><td>SMITH</td><td>800  </td></tr>\n",
       "</tbody>\n",
       "</table>\n"
      ],
      "text/latex": [
       "\\begin{tabular}{r|ll}\n",
       "  & ename & sal\\\\\n",
       "\\hline\n",
       "\t11 & SMITH & 800  \\\\\n",
       "\\end{tabular}\n"
      ],
      "text/markdown": [
       "\n",
       "| <!--/--> | ename | sal |\n",
       "|---|---|---|\n",
       "| 11 | SMITH | 800   |\n",
       "\n"
      ],
      "text/plain": [
       "   ename sal\n",
       "11 SMITH 800"
      ]
     },
     "metadata": {},
     "output_type": "display_data"
    }
   ],
   "source": [
    "emp[grep('^.M',emp$ename),c('ename','sal')]"
   ]
  },
  {
   "cell_type": "markdown",
   "metadata": {},
   "source": [
    "### ※ 문제14. 이름의 세번째 철자가 L인 사원들의 이름, 월급을 출력"
   ]
  },
  {
   "cell_type": "code",
   "execution_count": 80,
   "metadata": {
    "ExecuteTime": {
     "end_time": "2020-06-11T02:57:28.191705Z",
     "start_time": "2020-06-11T02:57:28.159Z"
    }
   },
   "outputs": [
    {
     "data": {
      "text/html": [
       "<table>\n",
       "<thead><tr><th></th><th scope=col>ename</th><th scope=col>sal</th></tr></thead>\n",
       "<tbody>\n",
       "\t<tr><th scope=row>6</th><td>ALLEN </td><td>1600  </td></tr>\n",
       "\t<tr><th scope=row>14</th><td>MILLER</td><td>1300  </td></tr>\n",
       "</tbody>\n",
       "</table>\n"
      ],
      "text/latex": [
       "\\begin{tabular}{r|ll}\n",
       "  & ename & sal\\\\\n",
       "\\hline\n",
       "\t6 & ALLEN  & 1600  \\\\\n",
       "\t14 & MILLER & 1300  \\\\\n",
       "\\end{tabular}\n"
      ],
      "text/markdown": [
       "\n",
       "| <!--/--> | ename | sal |\n",
       "|---|---|---|\n",
       "| 6 | ALLEN  | 1600   |\n",
       "| 14 | MILLER | 1300   |\n",
       "\n"
      ],
      "text/plain": [
       "   ename  sal \n",
       "6  ALLEN  1600\n",
       "14 MILLER 1300"
      ]
     },
     "metadata": {},
     "output_type": "display_data"
    }
   ],
   "source": [
    "emp[grep('^..L',emp$ename),c('ename','sal')]"
   ]
  },
  {
   "cell_type": "markdown",
   "metadata": {},
   "source": [
    "## ■ 중복제거\n",
    "```\n",
    "    SQL           vs           R\n",
    "  distinct                   unique\n",
    "  ```"
   ]
  },
  {
   "cell_type": "markdown",
   "metadata": {},
   "source": [
    "### ※ 문제15. 부서번호를 출력하는데 중복을 제거해서 출력하시오"
   ]
  },
  {
   "cell_type": "code",
   "execution_count": 86,
   "metadata": {
    "ExecuteTime": {
     "end_time": "2020-06-11T03:01:29.546967Z",
     "start_time": "2020-06-11T03:01:29.509Z"
    }
   },
   "outputs": [
    {
     "name": "stdout",
     "output_type": "stream",
     "text": [
      "  부서번호\n",
      "1       10\n",
      "2       30\n",
      "3       20\n"
     ]
    }
   ],
   "source": [
    "print(data.frame(\"부서번호\"=unique(emp$deptno)))"
   ]
  },
  {
   "cell_type": "markdown",
   "metadata": {},
   "source": [
    "## ■ 정렬작업\n",
    "```\n",
    "      SQL         vs          R\n",
    "    order by                data frame의 order 옵션\n",
    "                            doBy 패키지 -> orderBy 함수\n",
    "                            ```"
   ]
  },
  {
   "cell_type": "code",
   "execution_count": 87,
   "metadata": {
    "ExecuteTime": {
     "end_time": "2020-06-11T03:03:23.182033Z",
     "start_time": "2020-06-11T03:02:58.871Z"
    }
   },
   "outputs": [
    {
     "name": "stderr",
     "output_type": "stream",
     "text": [
      "Installing package into 'C:/Users/knitwill/Documents/R/win-library/3.6'\n",
      "(as 'lib' is unspecified)\n",
      "also installing the dependencies 'minqa', 'nloptr', 'statmod', 'RcppEigen', 'lme4', 'pbkrtest', 'Deriv'\n",
      "\n"
     ]
    },
    {
     "name": "stdout",
     "output_type": "stream",
     "text": [
      "package 'minqa' successfully unpacked and MD5 sums checked\n",
      "package 'nloptr' successfully unpacked and MD5 sums checked\n",
      "package 'statmod' successfully unpacked and MD5 sums checked\n",
      "package 'RcppEigen' successfully unpacked and MD5 sums checked\n",
      "package 'lme4' successfully unpacked and MD5 sums checked\n",
      "package 'pbkrtest' successfully unpacked and MD5 sums checked\n",
      "package 'Deriv' successfully unpacked and MD5 sums checked\n",
      "package 'doBy' successfully unpacked and MD5 sums checked\n",
      "\n",
      "The downloaded binary packages are in\n",
      "\tC:\\Users\\knitwill\\AppData\\Local\\Temp\\RtmpWwdHCw\\downloaded_packages\n"
     ]
    }
   ],
   "source": [
    "install.packages(\"doBy\")"
   ]
  },
  {
   "cell_type": "markdown",
   "metadata": {},
   "source": [
    "### ※ 문제16. 이름과 월급을 출력하는데 월급이 높은 사원부터 출력하시오"
   ]
  },
  {
   "cell_type": "code",
   "execution_count": 89,
   "metadata": {
    "ExecuteTime": {
     "end_time": "2020-06-11T03:04:08.129725Z",
     "start_time": "2020-06-11T03:04:08.093Z"
    }
   },
   "outputs": [
    {
     "data": {
      "text/html": [
       "<table>\n",
       "<thead><tr><th></th><th scope=col>ename</th><th scope=col>sal</th></tr></thead>\n",
       "<tbody>\n",
       "\t<tr><th scope=row>1</th><td>KING  </td><td>5000  </td></tr>\n",
       "\t<tr><th scope=row>10</th><td>FORD  </td><td>3000  </td></tr>\n",
       "\t<tr><th scope=row>12</th><td>SCOTT </td><td>3000  </td></tr>\n",
       "\t<tr><th scope=row>4</th><td>JONES </td><td>2975  </td></tr>\n",
       "\t<tr><th scope=row>2</th><td>BLAKE </td><td>2850  </td></tr>\n",
       "\t<tr><th scope=row>3</th><td>CLARK </td><td>2450  </td></tr>\n",
       "\t<tr><th scope=row>6</th><td>ALLEN </td><td>1600  </td></tr>\n",
       "\t<tr><th scope=row>7</th><td>TURNER</td><td>1500  </td></tr>\n",
       "\t<tr><th scope=row>14</th><td>MILLER</td><td>1300  </td></tr>\n",
       "\t<tr><th scope=row>5</th><td>MARTIN</td><td>1250  </td></tr>\n",
       "\t<tr><th scope=row>9</th><td>WARD  </td><td>1250  </td></tr>\n",
       "\t<tr><th scope=row>13</th><td>ADAMS </td><td>1100  </td></tr>\n",
       "\t<tr><th scope=row>8</th><td>JAMES </td><td> 950  </td></tr>\n",
       "\t<tr><th scope=row>11</th><td>SMITH </td><td> 800  </td></tr>\n",
       "</tbody>\n",
       "</table>\n"
      ],
      "text/latex": [
       "\\begin{tabular}{r|ll}\n",
       "  & ename & sal\\\\\n",
       "\\hline\n",
       "\t1 & KING   & 5000  \\\\\n",
       "\t10 & FORD   & 3000  \\\\\n",
       "\t12 & SCOTT  & 3000  \\\\\n",
       "\t4 & JONES  & 2975  \\\\\n",
       "\t2 & BLAKE  & 2850  \\\\\n",
       "\t3 & CLARK  & 2450  \\\\\n",
       "\t6 & ALLEN  & 1600  \\\\\n",
       "\t7 & TURNER & 1500  \\\\\n",
       "\t14 & MILLER & 1300  \\\\\n",
       "\t5 & MARTIN & 1250  \\\\\n",
       "\t9 & WARD   & 1250  \\\\\n",
       "\t13 & ADAMS  & 1100  \\\\\n",
       "\t8 & JAMES  &  950  \\\\\n",
       "\t11 & SMITH  &  800  \\\\\n",
       "\\end{tabular}\n"
      ],
      "text/markdown": [
       "\n",
       "| <!--/--> | ename | sal |\n",
       "|---|---|---|\n",
       "| 1 | KING   | 5000   |\n",
       "| 10 | FORD   | 3000   |\n",
       "| 12 | SCOTT  | 3000   |\n",
       "| 4 | JONES  | 2975   |\n",
       "| 2 | BLAKE  | 2850   |\n",
       "| 3 | CLARK  | 2450   |\n",
       "| 6 | ALLEN  | 1600   |\n",
       "| 7 | TURNER | 1500   |\n",
       "| 14 | MILLER | 1300   |\n",
       "| 5 | MARTIN | 1250   |\n",
       "| 9 | WARD   | 1250   |\n",
       "| 13 | ADAMS  | 1100   |\n",
       "| 8 | JAMES  |  950   |\n",
       "| 11 | SMITH  |  800   |\n",
       "\n"
      ],
      "text/plain": [
       "   ename  sal \n",
       "1  KING   5000\n",
       "10 FORD   3000\n",
       "12 SCOTT  3000\n",
       "4  JONES  2975\n",
       "2  BLAKE  2850\n",
       "3  CLARK  2450\n",
       "6  ALLEN  1600\n",
       "7  TURNER 1500\n",
       "14 MILLER 1300\n",
       "5  MARTIN 1250\n",
       "9  WARD   1250\n",
       "13 ADAMS  1100\n",
       "8  JAMES   950\n",
       "11 SMITH   800"
      ]
     },
     "metadata": {},
     "output_type": "display_data"
    }
   ],
   "source": [
    "emp[order(emp$sal, decreasing = T),c('ename','sal')]"
   ]
  },
  {
   "cell_type": "markdown",
   "metadata": {},
   "source": [
    "### ※ 문제17. 직업이 SALESMAN인 사원들의 이름, 월급, 직업을 출력하는데 월급이 높은 사원부터 출력"
   ]
  },
  {
   "cell_type": "code",
   "execution_count": 96,
   "metadata": {
    "ExecuteTime": {
     "end_time": "2020-06-11T03:10:34.444261Z",
     "start_time": "2020-06-11T03:10:34.407Z"
    }
   },
   "outputs": [
    {
     "data": {
      "text/html": [
       "<table>\n",
       "<thead><tr><th></th><th scope=col>ename</th><th scope=col>sal</th><th scope=col>job</th></tr></thead>\n",
       "<tbody>\n",
       "\t<tr><th scope=row>6</th><td>ALLEN   </td><td>1600    </td><td>SALESMAN</td></tr>\n",
       "\t<tr><th scope=row>7</th><td>TURNER  </td><td>1500    </td><td>SALESMAN</td></tr>\n",
       "\t<tr><th scope=row>5</th><td>MARTIN  </td><td>1250    </td><td>SALESMAN</td></tr>\n",
       "\t<tr><th scope=row>9</th><td>WARD    </td><td>1250    </td><td>SALESMAN</td></tr>\n",
       "</tbody>\n",
       "</table>\n"
      ],
      "text/latex": [
       "\\begin{tabular}{r|lll}\n",
       "  & ename & sal & job\\\\\n",
       "\\hline\n",
       "\t6 & ALLEN    & 1600     & SALESMAN\\\\\n",
       "\t7 & TURNER   & 1500     & SALESMAN\\\\\n",
       "\t5 & MARTIN   & 1250     & SALESMAN\\\\\n",
       "\t9 & WARD     & 1250     & SALESMAN\\\\\n",
       "\\end{tabular}\n"
      ],
      "text/markdown": [
       "\n",
       "| <!--/--> | ename | sal | job |\n",
       "|---|---|---|---|\n",
       "| 6 | ALLEN    | 1600     | SALESMAN |\n",
       "| 7 | TURNER   | 1500     | SALESMAN |\n",
       "| 5 | MARTIN   | 1250     | SALESMAN |\n",
       "| 9 | WARD     | 1250     | SALESMAN |\n",
       "\n"
      ],
      "text/plain": [
       "  ename  sal  job     \n",
       "6 ALLEN  1600 SALESMAN\n",
       "7 TURNER 1500 SALESMAN\n",
       "5 MARTIN 1250 SALESMAN\n",
       "9 WARD   1250 SALESMAN"
      ]
     },
     "metadata": {},
     "output_type": "display_data"
    }
   ],
   "source": [
    "rs=emp[emp$job=='SALESMAN',c('ename','sal','job')]\n",
    "rs[order(rs$sal,decreasing = T),]"
   ]
  },
  {
   "cell_type": "markdown",
   "metadata": {},
   "source": [
    "R에서 모든 변수들을 다 보고싶을 때 ls()"
   ]
  },
  {
   "cell_type": "code",
   "execution_count": 97,
   "metadata": {
    "ExecuteTime": {
     "end_time": "2020-06-11T03:11:14.514690Z",
     "start_time": "2020-06-11T03:11:14.482Z"
    }
   },
   "outputs": [
    {
     "data": {
      "text/html": [
       "<ol class=list-inline>\n",
       "\t<li>'addr'</li>\n",
       "\t<li>'date4'</li>\n",
       "\t<li>'df1'</li>\n",
       "\t<li>'df2'</li>\n",
       "\t<li>'df3'</li>\n",
       "\t<li>'df4'</li>\n",
       "\t<li>'df5'</li>\n",
       "\t<li>'df7'</li>\n",
       "\t<li>'df8'</li>\n",
       "\t<li>'dff'</li>\n",
       "\t<li>'emp'</li>\n",
       "\t<li>'height'</li>\n",
       "\t<li>'hobby'</li>\n",
       "\t<li>'i'</li>\n",
       "\t<li>'iter'</li>\n",
       "\t<li>'mem2'</li>\n",
       "\t<li>'mem3'</li>\n",
       "\t<li>'member'</li>\n",
       "\t<li>'name'</li>\n",
       "\t<li>'new'</li>\n",
       "\t<li>'no'</li>\n",
       "\t<li>'pal1'</li>\n",
       "\t<li>'price'</li>\n",
       "\t<li>'prob'</li>\n",
       "\t<li>'qty'</li>\n",
       "\t<li>'rs'</li>\n",
       "\t<li>'sales'</li>\n",
       "\t<li>'sales2'</li>\n",
       "\t<li>'sum'</li>\n",
       "\t<li>'tel'</li>\n",
       "\t<li>'v1'</li>\n",
       "\t<li>'v2'</li>\n",
       "\t<li>'v3'</li>\n",
       "\t<li>'v4'</li>\n",
       "\t<li>'v5'</li>\n",
       "\t<li>'v6'</li>\n",
       "\t<li>'v7'</li>\n",
       "\t<li>'v8'</li>\n",
       "\t<li>'var_dic_list'</li>\n",
       "\t<li>'vec1'</li>\n",
       "\t<li>'vec2'</li>\n",
       "\t<li>'vec3'</li>\n",
       "\t<li>'x'</li>\n",
       "\t<li>'x2'</li>\n",
       "\t<li>'y'</li>\n",
       "</ol>\n"
      ],
      "text/latex": [
       "\\begin{enumerate*}\n",
       "\\item 'addr'\n",
       "\\item 'date4'\n",
       "\\item 'df1'\n",
       "\\item 'df2'\n",
       "\\item 'df3'\n",
       "\\item 'df4'\n",
       "\\item 'df5'\n",
       "\\item 'df7'\n",
       "\\item 'df8'\n",
       "\\item 'dff'\n",
       "\\item 'emp'\n",
       "\\item 'height'\n",
       "\\item 'hobby'\n",
       "\\item 'i'\n",
       "\\item 'iter'\n",
       "\\item 'mem2'\n",
       "\\item 'mem3'\n",
       "\\item 'member'\n",
       "\\item 'name'\n",
       "\\item 'new'\n",
       "\\item 'no'\n",
       "\\item 'pal1'\n",
       "\\item 'price'\n",
       "\\item 'prob'\n",
       "\\item 'qty'\n",
       "\\item 'rs'\n",
       "\\item 'sales'\n",
       "\\item 'sales2'\n",
       "\\item 'sum'\n",
       "\\item 'tel'\n",
       "\\item 'v1'\n",
       "\\item 'v2'\n",
       "\\item 'v3'\n",
       "\\item 'v4'\n",
       "\\item 'v5'\n",
       "\\item 'v6'\n",
       "\\item 'v7'\n",
       "\\item 'v8'\n",
       "\\item 'var\\_dic\\_list'\n",
       "\\item 'vec1'\n",
       "\\item 'vec2'\n",
       "\\item 'vec3'\n",
       "\\item 'x'\n",
       "\\item 'x2'\n",
       "\\item 'y'\n",
       "\\end{enumerate*}\n"
      ],
      "text/markdown": [
       "1. 'addr'\n",
       "2. 'date4'\n",
       "3. 'df1'\n",
       "4. 'df2'\n",
       "5. 'df3'\n",
       "6. 'df4'\n",
       "7. 'df5'\n",
       "8. 'df7'\n",
       "9. 'df8'\n",
       "10. 'dff'\n",
       "11. 'emp'\n",
       "12. 'height'\n",
       "13. 'hobby'\n",
       "14. 'i'\n",
       "15. 'iter'\n",
       "16. 'mem2'\n",
       "17. 'mem3'\n",
       "18. 'member'\n",
       "19. 'name'\n",
       "20. 'new'\n",
       "21. 'no'\n",
       "22. 'pal1'\n",
       "23. 'price'\n",
       "24. 'prob'\n",
       "25. 'qty'\n",
       "26. 'rs'\n",
       "27. 'sales'\n",
       "28. 'sales2'\n",
       "29. 'sum'\n",
       "30. 'tel'\n",
       "31. 'v1'\n",
       "32. 'v2'\n",
       "33. 'v3'\n",
       "34. 'v4'\n",
       "35. 'v5'\n",
       "36. 'v6'\n",
       "37. 'v7'\n",
       "38. 'v8'\n",
       "39. 'var_dic_list'\n",
       "40. 'vec1'\n",
       "41. 'vec2'\n",
       "42. 'vec3'\n",
       "43. 'x'\n",
       "44. 'x2'\n",
       "45. 'y'\n",
       "\n",
       "\n"
      ],
      "text/plain": [
       " [1] \"addr\"         \"date4\"        \"df1\"          \"df2\"          \"df3\"         \n",
       " [6] \"df4\"          \"df5\"          \"df7\"          \"df8\"          \"dff\"         \n",
       "[11] \"emp\"          \"height\"       \"hobby\"        \"i\"            \"iter\"        \n",
       "[16] \"mem2\"         \"mem3\"         \"member\"       \"name\"         \"new\"         \n",
       "[21] \"no\"           \"pal1\"         \"price\"        \"prob\"         \"qty\"         \n",
       "[26] \"rs\"           \"sales\"        \"sales2\"       \"sum\"          \"tel\"         \n",
       "[31] \"v1\"           \"v2\"           \"v3\"           \"v4\"           \"v5\"          \n",
       "[36] \"v6\"           \"v7\"           \"v8\"           \"var_dic_list\" \"vec1\"        \n",
       "[41] \"vec2\"         \"vec3\"         \"x\"            \"x2\"           \"y\"           "
      ]
     },
     "metadata": {},
     "output_type": "display_data"
    }
   ],
   "source": [
    "ls()"
   ]
  },
  {
   "cell_type": "markdown",
   "metadata": {},
   "source": [
    "x, x2 변수를 지우고 싶다면?"
   ]
  },
  {
   "cell_type": "code",
   "execution_count": 100,
   "metadata": {
    "ExecuteTime": {
     "end_time": "2020-06-11T03:11:54.763450Z",
     "start_time": "2020-06-11T03:11:54.736Z"
    }
   },
   "outputs": [
    {
     "name": "stderr",
     "output_type": "stream",
     "text": [
      "Warning message in rm(x, x2):\n",
      "\"객체 'x'를 찾을 수 없습니다\""
     ]
    }
   ],
   "source": [
    "rm(x, x2)"
   ]
  },
  {
   "cell_type": "code",
   "execution_count": 101,
   "metadata": {
    "ExecuteTime": {
     "end_time": "2020-06-11T03:11:58.177434Z",
     "start_time": "2020-06-11T03:11:58.148Z"
    }
   },
   "outputs": [
    {
     "data": {
      "text/html": [
       "<ol class=list-inline>\n",
       "\t<li>'addr'</li>\n",
       "\t<li>'date4'</li>\n",
       "\t<li>'df1'</li>\n",
       "\t<li>'df2'</li>\n",
       "\t<li>'df3'</li>\n",
       "\t<li>'df4'</li>\n",
       "\t<li>'df5'</li>\n",
       "\t<li>'df7'</li>\n",
       "\t<li>'df8'</li>\n",
       "\t<li>'dff'</li>\n",
       "\t<li>'emp'</li>\n",
       "\t<li>'height'</li>\n",
       "\t<li>'hobby'</li>\n",
       "\t<li>'i'</li>\n",
       "\t<li>'iter'</li>\n",
       "\t<li>'mem2'</li>\n",
       "\t<li>'mem3'</li>\n",
       "\t<li>'member'</li>\n",
       "\t<li>'name'</li>\n",
       "\t<li>'new'</li>\n",
       "\t<li>'no'</li>\n",
       "\t<li>'pal1'</li>\n",
       "\t<li>'price'</li>\n",
       "\t<li>'prob'</li>\n",
       "\t<li>'qty'</li>\n",
       "\t<li>'rs'</li>\n",
       "\t<li>'sales'</li>\n",
       "\t<li>'sales2'</li>\n",
       "\t<li>'sum'</li>\n",
       "\t<li>'tel'</li>\n",
       "\t<li>'v1'</li>\n",
       "\t<li>'v2'</li>\n",
       "\t<li>'v3'</li>\n",
       "\t<li>'v4'</li>\n",
       "\t<li>'v5'</li>\n",
       "\t<li>'v6'</li>\n",
       "\t<li>'v7'</li>\n",
       "\t<li>'v8'</li>\n",
       "\t<li>'var_dic_list'</li>\n",
       "\t<li>'vec1'</li>\n",
       "\t<li>'vec2'</li>\n",
       "\t<li>'vec3'</li>\n",
       "\t<li>'y'</li>\n",
       "</ol>\n"
      ],
      "text/latex": [
       "\\begin{enumerate*}\n",
       "\\item 'addr'\n",
       "\\item 'date4'\n",
       "\\item 'df1'\n",
       "\\item 'df2'\n",
       "\\item 'df3'\n",
       "\\item 'df4'\n",
       "\\item 'df5'\n",
       "\\item 'df7'\n",
       "\\item 'df8'\n",
       "\\item 'dff'\n",
       "\\item 'emp'\n",
       "\\item 'height'\n",
       "\\item 'hobby'\n",
       "\\item 'i'\n",
       "\\item 'iter'\n",
       "\\item 'mem2'\n",
       "\\item 'mem3'\n",
       "\\item 'member'\n",
       "\\item 'name'\n",
       "\\item 'new'\n",
       "\\item 'no'\n",
       "\\item 'pal1'\n",
       "\\item 'price'\n",
       "\\item 'prob'\n",
       "\\item 'qty'\n",
       "\\item 'rs'\n",
       "\\item 'sales'\n",
       "\\item 'sales2'\n",
       "\\item 'sum'\n",
       "\\item 'tel'\n",
       "\\item 'v1'\n",
       "\\item 'v2'\n",
       "\\item 'v3'\n",
       "\\item 'v4'\n",
       "\\item 'v5'\n",
       "\\item 'v6'\n",
       "\\item 'v7'\n",
       "\\item 'v8'\n",
       "\\item 'var\\_dic\\_list'\n",
       "\\item 'vec1'\n",
       "\\item 'vec2'\n",
       "\\item 'vec3'\n",
       "\\item 'y'\n",
       "\\end{enumerate*}\n"
      ],
      "text/markdown": [
       "1. 'addr'\n",
       "2. 'date4'\n",
       "3. 'df1'\n",
       "4. 'df2'\n",
       "5. 'df3'\n",
       "6. 'df4'\n",
       "7. 'df5'\n",
       "8. 'df7'\n",
       "9. 'df8'\n",
       "10. 'dff'\n",
       "11. 'emp'\n",
       "12. 'height'\n",
       "13. 'hobby'\n",
       "14. 'i'\n",
       "15. 'iter'\n",
       "16. 'mem2'\n",
       "17. 'mem3'\n",
       "18. 'member'\n",
       "19. 'name'\n",
       "20. 'new'\n",
       "21. 'no'\n",
       "22. 'pal1'\n",
       "23. 'price'\n",
       "24. 'prob'\n",
       "25. 'qty'\n",
       "26. 'rs'\n",
       "27. 'sales'\n",
       "28. 'sales2'\n",
       "29. 'sum'\n",
       "30. 'tel'\n",
       "31. 'v1'\n",
       "32. 'v2'\n",
       "33. 'v3'\n",
       "34. 'v4'\n",
       "35. 'v5'\n",
       "36. 'v6'\n",
       "37. 'v7'\n",
       "38. 'v8'\n",
       "39. 'var_dic_list'\n",
       "40. 'vec1'\n",
       "41. 'vec2'\n",
       "42. 'vec3'\n",
       "43. 'y'\n",
       "\n",
       "\n"
      ],
      "text/plain": [
       " [1] \"addr\"         \"date4\"        \"df1\"          \"df2\"          \"df3\"         \n",
       " [6] \"df4\"          \"df5\"          \"df7\"          \"df8\"          \"dff\"         \n",
       "[11] \"emp\"          \"height\"       \"hobby\"        \"i\"            \"iter\"        \n",
       "[16] \"mem2\"         \"mem3\"         \"member\"       \"name\"         \"new\"         \n",
       "[21] \"no\"           \"pal1\"         \"price\"        \"prob\"         \"qty\"         \n",
       "[26] \"rs\"           \"sales\"        \"sales2\"       \"sum\"          \"tel\"         \n",
       "[31] \"v1\"           \"v2\"           \"v3\"           \"v4\"           \"v5\"          \n",
       "[36] \"v6\"           \"v7\"           \"v8\"           \"var_dic_list\" \"vec1\"        \n",
       "[41] \"vec2\"         \"vec3\"         \"y\"           "
      ]
     },
     "metadata": {},
     "output_type": "display_data"
    }
   ],
   "source": [
    "ls()"
   ]
  },
  {
   "cell_type": "markdown",
   "metadata": {},
   "source": [
    "### ※ 문제18. (점심시간 문제) 부서번호가 20번인 사원들의 이름과 월급과 부서번호를 출력하는데 월급이 높은 사원부터 출력"
   ]
  },
  {
   "cell_type": "code",
   "execution_count": 103,
   "metadata": {
    "ExecuteTime": {
     "end_time": "2020-06-11T03:14:09.290299Z",
     "start_time": "2020-06-11T03:14:09.255Z"
    }
   },
   "outputs": [
    {
     "data": {
      "text/html": [
       "<table>\n",
       "<thead><tr><th></th><th scope=col>ename</th><th scope=col>sal</th><th scope=col>deptno</th></tr></thead>\n",
       "<tbody>\n",
       "\t<tr><th scope=row>10</th><td>FORD </td><td>3000 </td><td>20   </td></tr>\n",
       "\t<tr><th scope=row>12</th><td>SCOTT</td><td>3000 </td><td>20   </td></tr>\n",
       "\t<tr><th scope=row>4</th><td>JONES</td><td>2975 </td><td>20   </td></tr>\n",
       "\t<tr><th scope=row>13</th><td>ADAMS</td><td>1100 </td><td>20   </td></tr>\n",
       "\t<tr><th scope=row>11</th><td>SMITH</td><td> 800 </td><td>20   </td></tr>\n",
       "</tbody>\n",
       "</table>\n"
      ],
      "text/latex": [
       "\\begin{tabular}{r|lll}\n",
       "  & ename & sal & deptno\\\\\n",
       "\\hline\n",
       "\t10 & FORD  & 3000  & 20   \\\\\n",
       "\t12 & SCOTT & 3000  & 20   \\\\\n",
       "\t4 & JONES & 2975  & 20   \\\\\n",
       "\t13 & ADAMS & 1100  & 20   \\\\\n",
       "\t11 & SMITH &  800  & 20   \\\\\n",
       "\\end{tabular}\n"
      ],
      "text/markdown": [
       "\n",
       "| <!--/--> | ename | sal | deptno |\n",
       "|---|---|---|---|\n",
       "| 10 | FORD  | 3000  | 20    |\n",
       "| 12 | SCOTT | 3000  | 20    |\n",
       "| 4 | JONES | 2975  | 20    |\n",
       "| 13 | ADAMS | 1100  | 20    |\n",
       "| 11 | SMITH |  800  | 20    |\n",
       "\n"
      ],
      "text/plain": [
       "   ename sal  deptno\n",
       "10 FORD  3000 20    \n",
       "12 SCOTT 3000 20    \n",
       "4  JONES 2975 20    \n",
       "13 ADAMS 1100 20    \n",
       "11 SMITH  800 20    "
      ]
     },
     "metadata": {},
     "output_type": "display_data"
    }
   ],
   "source": [
    "rs=emp[emp$deptno==20,c('ename','sal','deptno')]\n",
    "rs[order(rs$sal, decreasing = T),]"
   ]
  },
  {
   "cell_type": "markdown",
   "metadata": {},
   "source": [
    "### ※ 문제19. 위의 문제를 doBy 패키지를 이용해서 수행하시오"
   ]
  },
  {
   "cell_type": "code",
   "execution_count": 2,
   "metadata": {
    "ExecuteTime": {
     "end_time": "2020-06-11T04:53:22.464076Z",
     "start_time": "2020-06-11T04:53:19.581Z"
    }
   },
   "outputs": [
    {
     "name": "stderr",
     "output_type": "stream",
     "text": [
      "Warning message:\n",
      "\"package 'doBy' was built under R version 3.6.3\""
     ]
    }
   ],
   "source": [
    "library(doBy)"
   ]
  },
  {
   "cell_type": "code",
   "execution_count": 3,
   "metadata": {
    "ExecuteTime": {
     "end_time": "2020-06-11T04:53:22.648963Z",
     "start_time": "2020-06-11T04:53:22.537Z"
    }
   },
   "outputs": [
    {
     "data": {
      "text/html": [
       "<table>\n",
       "<thead><tr><th></th><th scope=col>ename</th><th scope=col>sal</th></tr></thead>\n",
       "<tbody>\n",
       "\t<tr><th scope=row>10</th><td>FORD </td><td>3000 </td></tr>\n",
       "\t<tr><th scope=row>12</th><td>SCOTT</td><td>3000 </td></tr>\n",
       "\t<tr><th scope=row>4</th><td>JONES</td><td>2975 </td></tr>\n",
       "\t<tr><th scope=row>13</th><td>ADAMS</td><td>1100 </td></tr>\n",
       "\t<tr><th scope=row>11</th><td>SMITH</td><td> 800 </td></tr>\n",
       "</tbody>\n",
       "</table>\n"
      ],
      "text/latex": [
       "\\begin{tabular}{r|ll}\n",
       "  & ename & sal\\\\\n",
       "\\hline\n",
       "\t10 & FORD  & 3000 \\\\\n",
       "\t12 & SCOTT & 3000 \\\\\n",
       "\t4 & JONES & 2975 \\\\\n",
       "\t13 & ADAMS & 1100 \\\\\n",
       "\t11 & SMITH &  800 \\\\\n",
       "\\end{tabular}\n"
      ],
      "text/markdown": [
       "\n",
       "| <!--/--> | ename | sal |\n",
       "|---|---|---|\n",
       "| 10 | FORD  | 3000  |\n",
       "| 12 | SCOTT | 3000  |\n",
       "| 4 | JONES | 2975  |\n",
       "| 13 | ADAMS | 1100  |\n",
       "| 11 | SMITH |  800  |\n",
       "\n"
      ],
      "text/plain": [
       "   ename sal \n",
       "10 FORD  3000\n",
       "12 SCOTT 3000\n",
       "4  JONES 2975\n",
       "13 ADAMS 1100\n",
       "11 SMITH  800"
      ]
     },
     "metadata": {},
     "output_type": "display_data"
    },
    {
     "data": {
      "text/html": [
       "<table>\n",
       "<thead><tr><th></th><th scope=col>ename</th><th scope=col>sal</th></tr></thead>\n",
       "<tbody>\n",
       "\t<tr><th scope=row>11</th><td>SMITH</td><td> 800 </td></tr>\n",
       "\t<tr><th scope=row>13</th><td>ADAMS</td><td>1100 </td></tr>\n",
       "\t<tr><th scope=row>4</th><td>JONES</td><td>2975 </td></tr>\n",
       "\t<tr><th scope=row>10</th><td>FORD </td><td>3000 </td></tr>\n",
       "\t<tr><th scope=row>12</th><td>SCOTT</td><td>3000 </td></tr>\n",
       "</tbody>\n",
       "</table>\n"
      ],
      "text/latex": [
       "\\begin{tabular}{r|ll}\n",
       "  & ename & sal\\\\\n",
       "\\hline\n",
       "\t11 & SMITH &  800 \\\\\n",
       "\t13 & ADAMS & 1100 \\\\\n",
       "\t4 & JONES & 2975 \\\\\n",
       "\t10 & FORD  & 3000 \\\\\n",
       "\t12 & SCOTT & 3000 \\\\\n",
       "\\end{tabular}\n"
      ],
      "text/markdown": [
       "\n",
       "| <!--/--> | ename | sal |\n",
       "|---|---|---|\n",
       "| 11 | SMITH |  800  |\n",
       "| 13 | ADAMS | 1100  |\n",
       "| 4 | JONES | 2975  |\n",
       "| 10 | FORD  | 3000  |\n",
       "| 12 | SCOTT | 3000  |\n",
       "\n"
      ],
      "text/plain": [
       "   ename sal \n",
       "11 SMITH  800\n",
       "13 ADAMS 1100\n",
       "4  JONES 2975\n",
       "10 FORD  3000\n",
       "12 SCOTT 3000"
      ]
     },
     "metadata": {},
     "output_type": "display_data"
    }
   ],
   "source": [
    "orderBy(~-sal,emp[emp$deptno==20,c('ename','sal')]) # 내림차순\n",
    "orderBy(~sal,emp[emp$deptno==20,c('ename','sal')]) # 오름차순"
   ]
  },
  {
   "cell_type": "markdown",
   "metadata": {},
   "source": [
    "### ※ 문제20. crime_loc.csv를 워킹 디렉토리에 내려받고 R로 로드해서 결과를 출력하는데 살인이 일어나는 장소와 건수를 출력하는데 건수가 높은 것 부터 출력하시오"
   ]
  },
  {
   "cell_type": "code",
   "execution_count": 4,
   "metadata": {
    "ExecuteTime": {
     "end_time": "2020-06-11T04:55:30.198532Z",
     "start_time": "2020-06-11T04:55:30.089Z"
    }
   },
   "outputs": [
    {
     "data": {
      "text/html": [
       "<table>\n",
       "<thead><tr><th scope=col>범죄</th><th scope=col>장소</th><th scope=col>건수</th></tr></thead>\n",
       "<tbody>\n",
       "\t<tr><td>절도        </td><td>아파트      </td><td>25389       </td></tr>\n",
       "\t<tr><td>절도        </td><td>집          </td><td>37787       </td></tr>\n",
       "\t<tr><td>절도        </td><td>고속도로    </td><td>  151       </td></tr>\n",
       "\t<tr><td>절도        </td><td>노상        </td><td>62560       </td></tr>\n",
       "\t<tr><td>절도        </td><td>상점        </td><td>29977       </td></tr>\n",
       "\t<tr><td>절도        </td><td>시장노점    </td><td> 1239       </td></tr>\n",
       "\t<tr><td>절도        </td><td>숙박업소    </td><td> 9203       </td></tr>\n",
       "\t<tr><td>절도        </td><td>병원        </td><td>16053       </td></tr>\n",
       "\t<tr><td>절도        </td><td>사무실      </td><td> 8416       </td></tr>\n",
       "\t<tr><td>절도        </td><td>공장        </td><td> 3540       </td></tr>\n",
       "\t<tr><td>절도        </td><td>공사장      </td><td> 4003       </td></tr>\n",
       "\t<tr><td>절도        </td><td>창고        </td><td> 2329       </td></tr>\n",
       "\t<tr><td>절도        </td><td>역대합실    </td><td>  881       </td></tr>\n",
       "\t<tr><td>절도        </td><td>지하철      </td><td>  737       </td></tr>\n",
       "\t<tr><td>절도        </td><td>교통        </td><td> 2249       </td></tr>\n",
       "\t<tr><td>절도        </td><td>유흥접객업소</td><td>  631       </td></tr>\n",
       "\t<tr><td>절도        </td><td>유원지      </td><td> 1532       </td></tr>\n",
       "\t<tr><td>절도        </td><td>학교        </td><td> 3203       </td></tr>\n",
       "\t<tr><td>절도        </td><td>금융기관    </td><td> 5888       </td></tr>\n",
       "\t<tr><td>절도        </td><td>의료기관    </td><td> 2719       </td></tr>\n",
       "\t<tr><td>절도        </td><td>종교기관    </td><td> 2293       </td></tr>\n",
       "\t<tr><td>절도        </td><td>산야        </td><td> 2393       </td></tr>\n",
       "\t<tr><td>절도        </td><td>해상        </td><td>   50       </td></tr>\n",
       "\t<tr><td>절도        </td><td>부대        </td><td>   81       </td></tr>\n",
       "\t<tr><td>절도        </td><td>구금장소    </td><td>    4       </td></tr>\n",
       "\t<tr><td>절도        </td><td>공지        </td><td>  366       </td></tr>\n",
       "\t<tr><td>절도        </td><td>기타        </td><td>44333       </td></tr>\n",
       "\t<tr><td>장물        </td><td>아파트      </td><td>   88       </td></tr>\n",
       "\t<tr><td>장물        </td><td>집          </td><td>  130       </td></tr>\n",
       "\t<tr><td>장물        </td><td>고속도로    </td><td>    1       </td></tr>\n",
       "\t<tr><td>...</td><td>...</td><td>...</td></tr>\n",
       "\t<tr><td>교통사고처리  </td><td>구금장소      </td><td>    0         </td></tr>\n",
       "\t<tr><td>교통사고처리  </td><td>공지          </td><td>    4         </td></tr>\n",
       "\t<tr><td>교통사고처리  </td><td>기타          </td><td> 1123         </td></tr>\n",
       "\t<tr><td>도로교통법위반</td><td>아파트        </td><td>   65         </td></tr>\n",
       "\t<tr><td>도로교통법위반</td><td>집            </td><td>   15         </td></tr>\n",
       "\t<tr><td>도로교통법위반</td><td>고속도로      </td><td>  211         </td></tr>\n",
       "\t<tr><td>도로교통법위반</td><td>노상          </td><td>42824         </td></tr>\n",
       "\t<tr><td>도로교통법위반</td><td>상점          </td><td>   25         </td></tr>\n",
       "\t<tr><td>도로교통법위반</td><td>시장노점      </td><td>    6         </td></tr>\n",
       "\t<tr><td>도로교통법위반</td><td>숙박업소      </td><td>    2         </td></tr>\n",
       "\t<tr><td>도로교통법위반</td><td>병원          </td><td>    2         </td></tr>\n",
       "\t<tr><td>도로교통법위반</td><td>사무실        </td><td>   76         </td></tr>\n",
       "\t<tr><td>도로교통법위반</td><td>공장          </td><td>    0         </td></tr>\n",
       "\t<tr><td>도로교통법위반</td><td>공사장        </td><td>    7         </td></tr>\n",
       "\t<tr><td>도로교통법위반</td><td>창고          </td><td>    0         </td></tr>\n",
       "\t<tr><td>도로교통법위반</td><td>역대합실      </td><td>    2         </td></tr>\n",
       "\t<tr><td>도로교통법위반</td><td>지하철        </td><td>    0         </td></tr>\n",
       "\t<tr><td>도로교통법위반</td><td>교통          </td><td>   14         </td></tr>\n",
       "\t<tr><td>도로교통법위반</td><td>유흥접객업소  </td><td>    0         </td></tr>\n",
       "\t<tr><td>도로교통법위반</td><td>유원지        </td><td>   21         </td></tr>\n",
       "\t<tr><td>도로교통법위반</td><td>학교          </td><td>    5         </td></tr>\n",
       "\t<tr><td>도로교통법위반</td><td>금융기관      </td><td>    2         </td></tr>\n",
       "\t<tr><td>도로교통법위반</td><td>의료기관      </td><td>    4         </td></tr>\n",
       "\t<tr><td>도로교통법위반</td><td>종교기관      </td><td>    0         </td></tr>\n",
       "\t<tr><td>도로교통법위반</td><td>산야          </td><td>    1         </td></tr>\n",
       "\t<tr><td>도로교통법위반</td><td>해상          </td><td>    0         </td></tr>\n",
       "\t<tr><td>도로교통법위반</td><td>부대          </td><td>    0         </td></tr>\n",
       "\t<tr><td>도로교통법위반</td><td>구금장소      </td><td>    0         </td></tr>\n",
       "\t<tr><td>도로교통법위반</td><td>공지          </td><td>    3         </td></tr>\n",
       "\t<tr><td>도로교통법위반</td><td>기타          </td><td>  704         </td></tr>\n",
       "</tbody>\n",
       "</table>\n"
      ],
      "text/latex": [
       "\\begin{tabular}{r|lll}\n",
       " 범죄 & 장소 & 건수\\\\\n",
       "\\hline\n",
       "\t 절도         & 아파트       & 25389       \\\\\n",
       "\t 절도         & 집           & 37787       \\\\\n",
       "\t 절도         & 고속도로     &   151       \\\\\n",
       "\t 절도         & 노상         & 62560       \\\\\n",
       "\t 절도         & 상점         & 29977       \\\\\n",
       "\t 절도         & 시장노점     &  1239       \\\\\n",
       "\t 절도         & 숙박업소     &  9203       \\\\\n",
       "\t 절도         & 병원         & 16053       \\\\\n",
       "\t 절도         & 사무실       &  8416       \\\\\n",
       "\t 절도         & 공장         &  3540       \\\\\n",
       "\t 절도         & 공사장       &  4003       \\\\\n",
       "\t 절도         & 창고         &  2329       \\\\\n",
       "\t 절도         & 역대합실     &   881       \\\\\n",
       "\t 절도         & 지하철       &   737       \\\\\n",
       "\t 절도         & 교통         &  2249       \\\\\n",
       "\t 절도         & 유흥접객업소 &   631       \\\\\n",
       "\t 절도         & 유원지       &  1532       \\\\\n",
       "\t 절도         & 학교         &  3203       \\\\\n",
       "\t 절도         & 금융기관     &  5888       \\\\\n",
       "\t 절도         & 의료기관     &  2719       \\\\\n",
       "\t 절도         & 종교기관     &  2293       \\\\\n",
       "\t 절도         & 산야         &  2393       \\\\\n",
       "\t 절도         & 해상         &    50       \\\\\n",
       "\t 절도         & 부대         &    81       \\\\\n",
       "\t 절도         & 구금장소     &     4       \\\\\n",
       "\t 절도         & 공지         &   366       \\\\\n",
       "\t 절도         & 기타         & 44333       \\\\\n",
       "\t 장물         & 아파트       &    88       \\\\\n",
       "\t 장물         & 집           &   130       \\\\\n",
       "\t 장물         & 고속도로     &     1       \\\\\n",
       "\t ... & ... & ...\\\\\n",
       "\t 교통사고처리   & 구금장소       &     0         \\\\\n",
       "\t 교통사고처리   & 공지           &     4         \\\\\n",
       "\t 교통사고처리   & 기타           &  1123         \\\\\n",
       "\t 도로교통법위반 & 아파트         &    65         \\\\\n",
       "\t 도로교통법위반 & 집             &    15         \\\\\n",
       "\t 도로교통법위반 & 고속도로       &   211         \\\\\n",
       "\t 도로교통법위반 & 노상           & 42824         \\\\\n",
       "\t 도로교통법위반 & 상점           &    25         \\\\\n",
       "\t 도로교통법위반 & 시장노점       &     6         \\\\\n",
       "\t 도로교통법위반 & 숙박업소       &     2         \\\\\n",
       "\t 도로교통법위반 & 병원           &     2         \\\\\n",
       "\t 도로교통법위반 & 사무실         &    76         \\\\\n",
       "\t 도로교통법위반 & 공장           &     0         \\\\\n",
       "\t 도로교통법위반 & 공사장         &     7         \\\\\n",
       "\t 도로교통법위반 & 창고           &     0         \\\\\n",
       "\t 도로교통법위반 & 역대합실       &     2         \\\\\n",
       "\t 도로교통법위반 & 지하철         &     0         \\\\\n",
       "\t 도로교통법위반 & 교통           &    14         \\\\\n",
       "\t 도로교통법위반 & 유흥접객업소   &     0         \\\\\n",
       "\t 도로교통법위반 & 유원지         &    21         \\\\\n",
       "\t 도로교통법위반 & 학교           &     5         \\\\\n",
       "\t 도로교통법위반 & 금융기관       &     2         \\\\\n",
       "\t 도로교통법위반 & 의료기관       &     4         \\\\\n",
       "\t 도로교통법위반 & 종교기관       &     0         \\\\\n",
       "\t 도로교통법위반 & 산야           &     1         \\\\\n",
       "\t 도로교통법위반 & 해상           &     0         \\\\\n",
       "\t 도로교통법위반 & 부대           &     0         \\\\\n",
       "\t 도로교통법위반 & 구금장소       &     0         \\\\\n",
       "\t 도로교통법위반 & 공지           &     3         \\\\\n",
       "\t 도로교통법위반 & 기타           &   704         \\\\\n",
       "\\end{tabular}\n"
      ],
      "text/markdown": [
       "\n",
       "| 범죄 | 장소 | 건수 |\n",
       "|---|---|---|\n",
       "| 절도         | 아파트       | 25389        |\n",
       "| 절도         | 집           | 37787        |\n",
       "| 절도         | 고속도로     |   151        |\n",
       "| 절도         | 노상         | 62560        |\n",
       "| 절도         | 상점         | 29977        |\n",
       "| 절도         | 시장노점     |  1239        |\n",
       "| 절도         | 숙박업소     |  9203        |\n",
       "| 절도         | 병원         | 16053        |\n",
       "| 절도         | 사무실       |  8416        |\n",
       "| 절도         | 공장         |  3540        |\n",
       "| 절도         | 공사장       |  4003        |\n",
       "| 절도         | 창고         |  2329        |\n",
       "| 절도         | 역대합실     |   881        |\n",
       "| 절도         | 지하철       |   737        |\n",
       "| 절도         | 교통         |  2249        |\n",
       "| 절도         | 유흥접객업소 |   631        |\n",
       "| 절도         | 유원지       |  1532        |\n",
       "| 절도         | 학교         |  3203        |\n",
       "| 절도         | 금융기관     |  5888        |\n",
       "| 절도         | 의료기관     |  2719        |\n",
       "| 절도         | 종교기관     |  2293        |\n",
       "| 절도         | 산야         |  2393        |\n",
       "| 절도         | 해상         |    50        |\n",
       "| 절도         | 부대         |    81        |\n",
       "| 절도         | 구금장소     |     4        |\n",
       "| 절도         | 공지         |   366        |\n",
       "| 절도         | 기타         | 44333        |\n",
       "| 장물         | 아파트       |    88        |\n",
       "| 장물         | 집           |   130        |\n",
       "| 장물         | 고속도로     |     1        |\n",
       "| ... | ... | ... |\n",
       "| 교통사고처리   | 구금장소       |     0          |\n",
       "| 교통사고처리   | 공지           |     4          |\n",
       "| 교통사고처리   | 기타           |  1123          |\n",
       "| 도로교통법위반 | 아파트         |    65          |\n",
       "| 도로교통법위반 | 집             |    15          |\n",
       "| 도로교통법위반 | 고속도로       |   211          |\n",
       "| 도로교통법위반 | 노상           | 42824          |\n",
       "| 도로교통법위반 | 상점           |    25          |\n",
       "| 도로교통법위반 | 시장노점       |     6          |\n",
       "| 도로교통법위반 | 숙박업소       |     2          |\n",
       "| 도로교통법위반 | 병원           |     2          |\n",
       "| 도로교통법위반 | 사무실         |    76          |\n",
       "| 도로교통법위반 | 공장           |     0          |\n",
       "| 도로교통법위반 | 공사장         |     7          |\n",
       "| 도로교통법위반 | 창고           |     0          |\n",
       "| 도로교통법위반 | 역대합실       |     2          |\n",
       "| 도로교통법위반 | 지하철         |     0          |\n",
       "| 도로교통법위반 | 교통           |    14          |\n",
       "| 도로교통법위반 | 유흥접객업소   |     0          |\n",
       "| 도로교통법위반 | 유원지         |    21          |\n",
       "| 도로교통법위반 | 학교           |     5          |\n",
       "| 도로교통법위반 | 금융기관       |     2          |\n",
       "| 도로교통법위반 | 의료기관       |     4          |\n",
       "| 도로교통법위반 | 종교기관       |     0          |\n",
       "| 도로교통법위반 | 산야           |     1          |\n",
       "| 도로교통법위반 | 해상           |     0          |\n",
       "| 도로교통법위반 | 부대           |     0          |\n",
       "| 도로교통법위반 | 구금장소       |     0          |\n",
       "| 도로교통법위반 | 공지           |     3          |\n",
       "| 도로교통법위반 | 기타           |   704          |\n",
       "\n"
      ],
      "text/plain": [
       "    범죄           장소         건수 \n",
       "1   절도           아파트       25389\n",
       "2   절도           집           37787\n",
       "3   절도           고속도로       151\n",
       "4   절도           노상         62560\n",
       "5   절도           상점         29977\n",
       "6   절도           시장노점      1239\n",
       "7   절도           숙박업소      9203\n",
       "8   절도           병원         16053\n",
       "9   절도           사무실        8416\n",
       "10  절도           공장          3540\n",
       "11  절도           공사장        4003\n",
       "12  절도           창고          2329\n",
       "13  절도           역대합실       881\n",
       "14  절도           지하철         737\n",
       "15  절도           교통          2249\n",
       "16  절도           유흥접객업소   631\n",
       "17  절도           유원지        1532\n",
       "18  절도           학교          3203\n",
       "19  절도           금융기관      5888\n",
       "20  절도           의료기관      2719\n",
       "21  절도           종교기관      2293\n",
       "22  절도           산야          2393\n",
       "23  절도           해상            50\n",
       "24  절도           부대            81\n",
       "25  절도           구금장소         4\n",
       "26  절도           공지           366\n",
       "27  절도           기타         44333\n",
       "28  장물           아파트          88\n",
       "29  장물           집             130\n",
       "30  장물           고속도로         1\n",
       "... ...            ...          ...  \n",
       "592 교통사고처리   구금장소         0\n",
       "593 교통사고처리   공지             4\n",
       "594 교통사고처리   기타          1123\n",
       "595 도로교통법위반 아파트          65\n",
       "596 도로교통법위반 집              15\n",
       "597 도로교통법위반 고속도로       211\n",
       "598 도로교통법위반 노상         42824\n",
       "599 도로교통법위반 상점            25\n",
       "600 도로교통법위반 시장노점         6\n",
       "601 도로교통법위반 숙박업소         2\n",
       "602 도로교통법위반 병원             2\n",
       "603 도로교통법위반 사무실          76\n",
       "604 도로교통법위반 공장             0\n",
       "605 도로교통법위반 공사장           7\n",
       "606 도로교통법위반 창고             0\n",
       "607 도로교통법위반 역대합실         2\n",
       "608 도로교통법위반 지하철           0\n",
       "609 도로교통법위반 교통            14\n",
       "610 도로교통법위반 유흥접객업소     0\n",
       "611 도로교통법위반 유원지          21\n",
       "612 도로교통법위반 학교             5\n",
       "613 도로교통법위반 금융기관         2\n",
       "614 도로교통법위반 의료기관         4\n",
       "615 도로교통법위반 종교기관         0\n",
       "616 도로교통법위반 산야             1\n",
       "617 도로교통법위반 해상             0\n",
       "618 도로교통법위반 부대             0\n",
       "619 도로교통법위반 구금장소         0\n",
       "620 도로교통법위반 공지             3\n",
       "621 도로교통법위반 기타           704"
      ]
     },
     "metadata": {},
     "output_type": "display_data"
    }
   ],
   "source": [
    "c_loc=read.csv('crime_loc.csv',header=T)\n",
    "c_loc"
   ]
  },
  {
   "cell_type": "code",
   "execution_count": 6,
   "metadata": {
    "ExecuteTime": {
     "end_time": "2020-06-11T04:57:51.213818Z",
     "start_time": "2020-06-11T04:57:51.136Z"
    }
   },
   "outputs": [
    {
     "data": {
      "text/html": [
       "<table>\n",
       "<thead><tr><th></th><th scope=col>범죄</th><th scope=col>장소</th><th scope=col>건수</th></tr></thead>\n",
       "<tbody>\n",
       "\t<tr><th scope=row>83</th><td>살인        </td><td>집          </td><td>312         </td></tr>\n",
       "\t<tr><th scope=row>85</th><td>살인        </td><td>노상        </td><td>280         </td></tr>\n",
       "\t<tr><th scope=row>82</th><td>살인        </td><td>아파트      </td><td>242         </td></tr>\n",
       "\t<tr><th scope=row>108</th><td>살인        </td><td>기타        </td><td>131         </td></tr>\n",
       "\t<tr><th scope=row>89</th><td>살인        </td><td>병원        </td><td> 87         </td></tr>\n",
       "\t<tr><th scope=row>88</th><td>살인        </td><td>숙박업소    </td><td> 43         </td></tr>\n",
       "\t<tr><th scope=row>90</th><td>살인        </td><td>사무실      </td><td> 40         </td></tr>\n",
       "\t<tr><th scope=row>86</th><td>살인        </td><td>상점        </td><td> 23         </td></tr>\n",
       "\t<tr><th scope=row>101</th><td>살인        </td><td>의료기관    </td><td> 19         </td></tr>\n",
       "\t<tr><th scope=row>91</th><td>살인        </td><td>공장        </td><td> 15         </td></tr>\n",
       "\t<tr><th scope=row>98</th><td>살인        </td><td>유원지      </td><td> 13         </td></tr>\n",
       "\t<tr><th scope=row>96</th><td>살인        </td><td>교통        </td><td>  9         </td></tr>\n",
       "\t<tr><th scope=row>94</th><td>살인        </td><td>역대합실    </td><td>  8         </td></tr>\n",
       "\t<tr><th scope=row>99</th><td>살인        </td><td>학교        </td><td>  8         </td></tr>\n",
       "\t<tr><th scope=row>103</th><td>살인        </td><td>산야        </td><td>  8         </td></tr>\n",
       "\t<tr><th scope=row>87</th><td>살인        </td><td>시장노점    </td><td>  5         </td></tr>\n",
       "\t<tr><th scope=row>92</th><td>살인        </td><td>공사장      </td><td>  4         </td></tr>\n",
       "\t<tr><th scope=row>93</th><td>살인        </td><td>창고        </td><td>  4         </td></tr>\n",
       "\t<tr><th scope=row>107</th><td>살인        </td><td>공지        </td><td>  3         </td></tr>\n",
       "\t<tr><th scope=row>102</th><td>살인        </td><td>종교기관    </td><td>  2         </td></tr>\n",
       "\t<tr><th scope=row>104</th><td>살인        </td><td>해상        </td><td>  2         </td></tr>\n",
       "\t<tr><th scope=row>84</th><td>살인        </td><td>고속도로    </td><td>  1         </td></tr>\n",
       "\t<tr><th scope=row>95</th><td>살인        </td><td>지하철      </td><td>  1         </td></tr>\n",
       "\t<tr><th scope=row>97</th><td>살인        </td><td>유흥접객업소</td><td>  1         </td></tr>\n",
       "\t<tr><th scope=row>105</th><td>살인        </td><td>부대        </td><td>  1         </td></tr>\n",
       "\t<tr><th scope=row>100</th><td>살인        </td><td>금융기관    </td><td>  0         </td></tr>\n",
       "\t<tr><th scope=row>106</th><td>살인        </td><td>구금장소    </td><td>  0         </td></tr>\n",
       "</tbody>\n",
       "</table>\n"
      ],
      "text/latex": [
       "\\begin{tabular}{r|lll}\n",
       "  & 범죄 & 장소 & 건수\\\\\n",
       "\\hline\n",
       "\t83 & 살인         & 집           & 312         \\\\\n",
       "\t85 & 살인         & 노상         & 280         \\\\\n",
       "\t82 & 살인         & 아파트       & 242         \\\\\n",
       "\t108 & 살인         & 기타         & 131         \\\\\n",
       "\t89 & 살인         & 병원         &  87         \\\\\n",
       "\t88 & 살인         & 숙박업소     &  43         \\\\\n",
       "\t90 & 살인         & 사무실       &  40         \\\\\n",
       "\t86 & 살인         & 상점         &  23         \\\\\n",
       "\t101 & 살인         & 의료기관     &  19         \\\\\n",
       "\t91 & 살인         & 공장         &  15         \\\\\n",
       "\t98 & 살인         & 유원지       &  13         \\\\\n",
       "\t96 & 살인         & 교통         &   9         \\\\\n",
       "\t94 & 살인         & 역대합실     &   8         \\\\\n",
       "\t99 & 살인         & 학교         &   8         \\\\\n",
       "\t103 & 살인         & 산야         &   8         \\\\\n",
       "\t87 & 살인         & 시장노점     &   5         \\\\\n",
       "\t92 & 살인         & 공사장       &   4         \\\\\n",
       "\t93 & 살인         & 창고         &   4         \\\\\n",
       "\t107 & 살인         & 공지         &   3         \\\\\n",
       "\t102 & 살인         & 종교기관     &   2         \\\\\n",
       "\t104 & 살인         & 해상         &   2         \\\\\n",
       "\t84 & 살인         & 고속도로     &   1         \\\\\n",
       "\t95 & 살인         & 지하철       &   1         \\\\\n",
       "\t97 & 살인         & 유흥접객업소 &   1         \\\\\n",
       "\t105 & 살인         & 부대         &   1         \\\\\n",
       "\t100 & 살인         & 금융기관     &   0         \\\\\n",
       "\t106 & 살인         & 구금장소     &   0         \\\\\n",
       "\\end{tabular}\n"
      ],
      "text/markdown": [
       "\n",
       "| <!--/--> | 범죄 | 장소 | 건수 |\n",
       "|---|---|---|---|\n",
       "| 83 | 살인         | 집           | 312          |\n",
       "| 85 | 살인         | 노상         | 280          |\n",
       "| 82 | 살인         | 아파트       | 242          |\n",
       "| 108 | 살인         | 기타         | 131          |\n",
       "| 89 | 살인         | 병원         |  87          |\n",
       "| 88 | 살인         | 숙박업소     |  43          |\n",
       "| 90 | 살인         | 사무실       |  40          |\n",
       "| 86 | 살인         | 상점         |  23          |\n",
       "| 101 | 살인         | 의료기관     |  19          |\n",
       "| 91 | 살인         | 공장         |  15          |\n",
       "| 98 | 살인         | 유원지       |  13          |\n",
       "| 96 | 살인         | 교통         |   9          |\n",
       "| 94 | 살인         | 역대합실     |   8          |\n",
       "| 99 | 살인         | 학교         |   8          |\n",
       "| 103 | 살인         | 산야         |   8          |\n",
       "| 87 | 살인         | 시장노점     |   5          |\n",
       "| 92 | 살인         | 공사장       |   4          |\n",
       "| 93 | 살인         | 창고         |   4          |\n",
       "| 107 | 살인         | 공지         |   3          |\n",
       "| 102 | 살인         | 종교기관     |   2          |\n",
       "| 104 | 살인         | 해상         |   2          |\n",
       "| 84 | 살인         | 고속도로     |   1          |\n",
       "| 95 | 살인         | 지하철       |   1          |\n",
       "| 97 | 살인         | 유흥접객업소 |   1          |\n",
       "| 105 | 살인         | 부대         |   1          |\n",
       "| 100 | 살인         | 금융기관     |   0          |\n",
       "| 106 | 살인         | 구금장소     |   0          |\n",
       "\n"
      ],
      "text/plain": [
       "    범죄 장소         건수\n",
       "83  살인 집           312 \n",
       "85  살인 노상         280 \n",
       "82  살인 아파트       242 \n",
       "108 살인 기타         131 \n",
       "89  살인 병원          87 \n",
       "88  살인 숙박업소      43 \n",
       "90  살인 사무실        40 \n",
       "86  살인 상점          23 \n",
       "101 살인 의료기관      19 \n",
       "91  살인 공장          15 \n",
       "98  살인 유원지        13 \n",
       "96  살인 교통           9 \n",
       "94  살인 역대합실       8 \n",
       "99  살인 학교           8 \n",
       "103 살인 산야           8 \n",
       "87  살인 시장노점       5 \n",
       "92  살인 공사장         4 \n",
       "93  살인 창고           4 \n",
       "107 살인 공지           3 \n",
       "102 살인 종교기관       2 \n",
       "104 살인 해상           2 \n",
       "84  살인 고속도로       1 \n",
       "95  살인 지하철         1 \n",
       "97  살인 유흥접객업소   1 \n",
       "105 살인 부대           1 \n",
       "100 살인 금융기관       0 \n",
       "106 살인 구금장소       0 "
      ]
     },
     "metadata": {},
     "output_type": "display_data"
    }
   ],
   "source": [
    "rs=c_loc[c_loc$범죄=='살인',]\n",
    "orderBy(~-건수,rs)"
   ]
  },
  {
   "cell_type": "markdown",
   "metadata": {},
   "source": [
    "### ※ 문제21. c_loc에서 범죄유형을 출력하는데 중복을 제거해서 출력하시오"
   ]
  },
  {
   "cell_type": "code",
   "execution_count": 10,
   "metadata": {
    "ExecuteTime": {
     "end_time": "2020-06-11T04:58:55.570856Z",
     "start_time": "2020-06-11T04:58:55.521Z"
    }
   },
   "outputs": [
    {
     "data": {
      "text/html": [
       "<table>\n",
       "<thead><tr><th scope=col>범죄</th></tr></thead>\n",
       "<tbody>\n",
       "\t<tr><td>절도                        </td></tr>\n",
       "\t<tr><td>장물                        </td></tr>\n",
       "\t<tr><td>손괴                        </td></tr>\n",
       "\t<tr><td>살인                        </td></tr>\n",
       "\t<tr><td>강도                        </td></tr>\n",
       "\t<tr><td>방화                        </td></tr>\n",
       "\t<tr><td>강간                        </td></tr>\n",
       "\t<tr><td>폭행                        </td></tr>\n",
       "\t<tr><td>상해                        </td></tr>\n",
       "\t<tr><td>협박                        </td></tr>\n",
       "\t<tr><td>공갈                        </td></tr>\n",
       "\t<tr><td>약취와유인                  </td></tr>\n",
       "\t<tr><td>체포와감금                  </td></tr>\n",
       "\t<tr><td>폭력행위등처벌에관한법률위반</td></tr>\n",
       "\t<tr><td>간통                        </td></tr>\n",
       "\t<tr><td>도박과복표                  </td></tr>\n",
       "\t<tr><td>과실치사상                  </td></tr>\n",
       "\t<tr><td>업무상과실치사상            </td></tr>\n",
       "\t<tr><td>실화                        </td></tr>\n",
       "\t<tr><td>주거침입                    </td></tr>\n",
       "\t<tr><td>유기                        </td></tr>\n",
       "\t<tr><td>교통사고처리                </td></tr>\n",
       "\t<tr><td>도로교통법위반              </td></tr>\n",
       "</tbody>\n",
       "</table>\n"
      ],
      "text/latex": [
       "\\begin{tabular}{r|l}\n",
       " 범죄\\\\\n",
       "\\hline\n",
       "\t 절도                        \\\\\n",
       "\t 장물                        \\\\\n",
       "\t 손괴                        \\\\\n",
       "\t 살인                        \\\\\n",
       "\t 강도                        \\\\\n",
       "\t 방화                        \\\\\n",
       "\t 강간                        \\\\\n",
       "\t 폭행                        \\\\\n",
       "\t 상해                        \\\\\n",
       "\t 협박                        \\\\\n",
       "\t 공갈                        \\\\\n",
       "\t 약취와유인                  \\\\\n",
       "\t 체포와감금                  \\\\\n",
       "\t 폭력행위등처벌에관한법률위반\\\\\n",
       "\t 간통                        \\\\\n",
       "\t 도박과복표                  \\\\\n",
       "\t 과실치사상                  \\\\\n",
       "\t 업무상과실치사상            \\\\\n",
       "\t 실화                        \\\\\n",
       "\t 주거침입                    \\\\\n",
       "\t 유기                        \\\\\n",
       "\t 교통사고처리                \\\\\n",
       "\t 도로교통법위반              \\\\\n",
       "\\end{tabular}\n"
      ],
      "text/markdown": [
       "\n",
       "| 범죄 |\n",
       "|---|\n",
       "| 절도                         |\n",
       "| 장물                         |\n",
       "| 손괴                         |\n",
       "| 살인                         |\n",
       "| 강도                         |\n",
       "| 방화                         |\n",
       "| 강간                         |\n",
       "| 폭행                         |\n",
       "| 상해                         |\n",
       "| 협박                         |\n",
       "| 공갈                         |\n",
       "| 약취와유인                   |\n",
       "| 체포와감금                   |\n",
       "| 폭력행위등처벌에관한법률위반 |\n",
       "| 간통                         |\n",
       "| 도박과복표                   |\n",
       "| 과실치사상                   |\n",
       "| 업무상과실치사상             |\n",
       "| 실화                         |\n",
       "| 주거침입                     |\n",
       "| 유기                         |\n",
       "| 교통사고처리                 |\n",
       "| 도로교통법위반               |\n",
       "\n"
      ],
      "text/plain": [
       "   범죄                        \n",
       "1  절도                        \n",
       "2  장물                        \n",
       "3  손괴                        \n",
       "4  살인                        \n",
       "5  강도                        \n",
       "6  방화                        \n",
       "7  강간                        \n",
       "8  폭행                        \n",
       "9  상해                        \n",
       "10 협박                        \n",
       "11 공갈                        \n",
       "12 약취와유인                  \n",
       "13 체포와감금                  \n",
       "14 폭력행위등처벌에관한법률위반\n",
       "15 간통                        \n",
       "16 도박과복표                  \n",
       "17 과실치사상                  \n",
       "18 업무상과실치사상            \n",
       "19 실화                        \n",
       "20 주거침입                    \n",
       "21 유기                        \n",
       "22 교통사고처리                \n",
       "23 도로교통법위반              "
      ]
     },
     "metadata": {},
     "output_type": "display_data"
    }
   ],
   "source": [
    "data.frame('범죄'=unique(c_loc$범죄))"
   ]
  },
  {
   "cell_type": "markdown",
   "metadata": {},
   "source": [
    "## ■ SQL과 R 함수 비교\n",
    "### 함수\n",
    "#### 1. 문자함수\n",
    "#### 2. 숫자함수\n",
    "#### 3. 날짜함수\n",
    "#### 4. 변환함수\n",
    "#### 5. 일반함수"
   ]
  },
  {
   "cell_type": "markdown",
   "metadata": {},
   "source": [
    "#### ■ 문자함수\n",
    "```\n",
    "    SQL     vs        R\n",
    "    upper          toupper\n",
    "    lower          tolower\n",
    "    substr         substr\n",
    "    replace        gsub\n",
    "    ```"
   ]
  },
  {
   "cell_type": "markdown",
   "metadata": {},
   "source": [
    "### ※ 문제22.이름과 직업을 출력하는데 소문자로 출력하시오"
   ]
  },
  {
   "cell_type": "code",
   "execution_count": 18,
   "metadata": {
    "ExecuteTime": {
     "end_time": "2020-06-11T05:07:50.562671Z",
     "start_time": "2020-06-11T05:07:50.527Z"
    }
   },
   "outputs": [
    {
     "data": {
      "text/html": [
       "<table>\n",
       "<thead><tr><th scope=col>이름</th><th scope=col>직업</th></tr></thead>\n",
       "<tbody>\n",
       "\t<tr><td>king     </td><td>president</td></tr>\n",
       "\t<tr><td>blake    </td><td>manager  </td></tr>\n",
       "\t<tr><td>clark    </td><td>manager  </td></tr>\n",
       "\t<tr><td>jones    </td><td>manager  </td></tr>\n",
       "\t<tr><td>martin   </td><td>salesman </td></tr>\n",
       "\t<tr><td>allen    </td><td>salesman </td></tr>\n",
       "\t<tr><td>turner   </td><td>salesman </td></tr>\n",
       "\t<tr><td>james    </td><td>clerk    </td></tr>\n",
       "\t<tr><td>ward     </td><td>salesman </td></tr>\n",
       "\t<tr><td>ford     </td><td>analyst  </td></tr>\n",
       "\t<tr><td>smith    </td><td>clerk    </td></tr>\n",
       "\t<tr><td>scott    </td><td>analyst  </td></tr>\n",
       "\t<tr><td>adams    </td><td>clerk    </td></tr>\n",
       "\t<tr><td>miller   </td><td>clerk    </td></tr>\n",
       "</tbody>\n",
       "</table>\n"
      ],
      "text/latex": [
       "\\begin{tabular}{r|ll}\n",
       " 이름 & 직업\\\\\n",
       "\\hline\n",
       "\t king      & president\\\\\n",
       "\t blake     & manager  \\\\\n",
       "\t clark     & manager  \\\\\n",
       "\t jones     & manager  \\\\\n",
       "\t martin    & salesman \\\\\n",
       "\t allen     & salesman \\\\\n",
       "\t turner    & salesman \\\\\n",
       "\t james     & clerk    \\\\\n",
       "\t ward      & salesman \\\\\n",
       "\t ford      & analyst  \\\\\n",
       "\t smith     & clerk    \\\\\n",
       "\t scott     & analyst  \\\\\n",
       "\t adams     & clerk    \\\\\n",
       "\t miller    & clerk    \\\\\n",
       "\\end{tabular}\n"
      ],
      "text/markdown": [
       "\n",
       "| 이름 | 직업 |\n",
       "|---|---|\n",
       "| king      | president |\n",
       "| blake     | manager   |\n",
       "| clark     | manager   |\n",
       "| jones     | manager   |\n",
       "| martin    | salesman  |\n",
       "| allen     | salesman  |\n",
       "| turner    | salesman  |\n",
       "| james     | clerk     |\n",
       "| ward      | salesman  |\n",
       "| ford      | analyst   |\n",
       "| smith     | clerk     |\n",
       "| scott     | analyst   |\n",
       "| adams     | clerk     |\n",
       "| miller    | clerk     |\n",
       "\n"
      ],
      "text/plain": [
       "   이름   직업     \n",
       "1  king   president\n",
       "2  blake  manager  \n",
       "3  clark  manager  \n",
       "4  jones  manager  \n",
       "5  martin salesman \n",
       "6  allen  salesman \n",
       "7  turner salesman \n",
       "8  james  clerk    \n",
       "9  ward   salesman \n",
       "10 ford   analyst  \n",
       "11 smith  clerk    \n",
       "12 scott  analyst  \n",
       "13 adams  clerk    \n",
       "14 miller clerk    "
      ]
     },
     "metadata": {},
     "output_type": "display_data"
    }
   ],
   "source": [
    "# cbind(tolower(emp$ename),tolower(emp$job))\n",
    "data.frame(이름=tolower(emp$ename),직업=tolower(emp$job))"
   ]
  },
  {
   "cell_type": "markdown",
   "metadata": {},
   "source": [
    "##### ■ substr 함수"
   ]
  },
  {
   "cell_type": "markdown",
   "metadata": {},
   "source": [
    "### ※ 문제23. 이름의 두번째 철자가 M인 사원들의 이름과 월급을 출력하는데 substr을 이용해서 수행하시오\n",
    "```sql\n",
    "select ename, sal\n",
    "    from emp\n",
    "    where substr(ename,2,1)='M';\n",
    "    ```"
   ]
  },
  {
   "cell_type": "code",
   "execution_count": 21,
   "metadata": {
    "ExecuteTime": {
     "end_time": "2020-06-11T05:10:38.007767Z",
     "start_time": "2020-06-11T05:10:37.978Z"
    }
   },
   "outputs": [
    {
     "data": {
      "text/html": [
       "<table>\n",
       "<thead><tr><th></th><th scope=col>ename</th><th scope=col>sal</th></tr></thead>\n",
       "<tbody>\n",
       "\t<tr><th scope=row>11</th><td>SMITH</td><td>800  </td></tr>\n",
       "</tbody>\n",
       "</table>\n"
      ],
      "text/latex": [
       "\\begin{tabular}{r|ll}\n",
       "  & ename & sal\\\\\n",
       "\\hline\n",
       "\t11 & SMITH & 800  \\\\\n",
       "\\end{tabular}\n"
      ],
      "text/markdown": [
       "\n",
       "| <!--/--> | ename | sal |\n",
       "|---|---|---|\n",
       "| 11 | SMITH | 800   |\n",
       "\n"
      ],
      "text/plain": [
       "   ename sal\n",
       "11 SMITH 800"
      ]
     },
     "metadata": {},
     "output_type": "display_data"
    }
   ],
   "source": [
    "emp[substr(emp$ename,2,2)=='M',c('ename','sal')]"
   ]
  },
  {
   "cell_type": "markdown",
   "metadata": {},
   "source": [
    "### ※ 문제24. SMITH의 이름을 출력하는데 MIT만 출력하시오"
   ]
  },
  {
   "cell_type": "code",
   "execution_count": 29,
   "metadata": {
    "ExecuteTime": {
     "end_time": "2020-06-11T05:15:03.995696Z",
     "start_time": "2020-06-11T05:15:03.966Z"
    }
   },
   "outputs": [
    {
     "name": "stdout",
     "output_type": "stream",
     "text": [
      "[1] \"MIT\"\n"
     ]
    }
   ],
   "source": [
    "print(substr(emp[emp$ename=='SMITH','ename'],2,4))"
   ]
  },
  {
   "cell_type": "markdown",
   "metadata": {},
   "source": [
    "##### ■ gsub 함수"
   ]
  },
  {
   "cell_type": "markdown",
   "metadata": {
    "ExecuteTime": {
     "end_time": "2020-06-11T05:16:36.644395Z",
     "start_time": "2020-06-11T05:16:36.613Z"
    }
   },
   "source": [
    "     gsub('h','H',text) \n",
    "     특정 text에서 소문자 h를 대문자 H로 변경해라"
   ]
  },
  {
   "cell_type": "markdown",
   "metadata": {},
   "source": [
    "### ※ 문제25. 이름과 월급을 출력하는데 월급을 출력할 때 숫자 0을 별표(*)로 출력하시오\n",
    "```sql\n",
    "select ename, replace(sal,0,'*')\n",
    "    from emp;\n",
    "    ```"
   ]
  },
  {
   "cell_type": "code",
   "execution_count": 35,
   "metadata": {
    "ExecuteTime": {
     "end_time": "2020-06-11T05:19:38.186260Z",
     "start_time": "2020-06-11T05:19:38.147Z"
    }
   },
   "outputs": [
    {
     "data": {
      "text/html": [
       "<table>\n",
       "<thead><tr><th scope=col>emp.ename</th><th scope=col>gsub.0.......emp.sal.</th></tr></thead>\n",
       "<tbody>\n",
       "\t<tr><td>KING  </td><td>5***  </td></tr>\n",
       "\t<tr><td>BLAKE </td><td>285*  </td></tr>\n",
       "\t<tr><td>CLARK </td><td>245*  </td></tr>\n",
       "\t<tr><td>JONES </td><td>2975  </td></tr>\n",
       "\t<tr><td>MARTIN</td><td>125*  </td></tr>\n",
       "\t<tr><td>ALLEN </td><td>16**  </td></tr>\n",
       "\t<tr><td>TURNER</td><td>15**  </td></tr>\n",
       "\t<tr><td>JAMES </td><td>95*   </td></tr>\n",
       "\t<tr><td>WARD  </td><td>125*  </td></tr>\n",
       "\t<tr><td>FORD  </td><td>3***  </td></tr>\n",
       "\t<tr><td>SMITH </td><td>8**   </td></tr>\n",
       "\t<tr><td>SCOTT </td><td>3***  </td></tr>\n",
       "\t<tr><td>ADAMS </td><td>11**  </td></tr>\n",
       "\t<tr><td>MILLER</td><td>13**  </td></tr>\n",
       "</tbody>\n",
       "</table>\n"
      ],
      "text/latex": [
       "\\begin{tabular}{r|ll}\n",
       " emp.ename & gsub.0.......emp.sal.\\\\\n",
       "\\hline\n",
       "\t KING   & 5***  \\\\\n",
       "\t BLAKE  & 285*  \\\\\n",
       "\t CLARK  & 245*  \\\\\n",
       "\t JONES  & 2975  \\\\\n",
       "\t MARTIN & 125*  \\\\\n",
       "\t ALLEN  & 16**  \\\\\n",
       "\t TURNER & 15**  \\\\\n",
       "\t JAMES  & 95*   \\\\\n",
       "\t WARD   & 125*  \\\\\n",
       "\t FORD   & 3***  \\\\\n",
       "\t SMITH  & 8**   \\\\\n",
       "\t SCOTT  & 3***  \\\\\n",
       "\t ADAMS  & 11**  \\\\\n",
       "\t MILLER & 13**  \\\\\n",
       "\\end{tabular}\n"
      ],
      "text/markdown": [
       "\n",
       "| emp.ename | gsub.0.......emp.sal. |\n",
       "|---|---|\n",
       "| KING   | 5***   |\n",
       "| BLAKE  | 285*   |\n",
       "| CLARK  | 245*   |\n",
       "| JONES  | 2975   |\n",
       "| MARTIN | 125*   |\n",
       "| ALLEN  | 16**   |\n",
       "| TURNER | 15**   |\n",
       "| JAMES  | 95*    |\n",
       "| WARD   | 125*   |\n",
       "| FORD   | 3***   |\n",
       "| SMITH  | 8**    |\n",
       "| SCOTT  | 3***   |\n",
       "| ADAMS  | 11**   |\n",
       "| MILLER | 13**   |\n",
       "\n"
      ],
      "text/plain": [
       "   emp.ename gsub.0.......emp.sal.\n",
       "1  KING      5***                 \n",
       "2  BLAKE     285*                 \n",
       "3  CLARK     245*                 \n",
       "4  JONES     2975                 \n",
       "5  MARTIN    125*                 \n",
       "6  ALLEN     16**                 \n",
       "7  TURNER    15**                 \n",
       "8  JAMES     95*                  \n",
       "9  WARD      125*                 \n",
       "10 FORD      3***                 \n",
       "11 SMITH     8**                  \n",
       "12 SCOTT     3***                 \n",
       "13 ADAMS     11**                 \n",
       "14 MILLER    13**                 "
      ]
     },
     "metadata": {},
     "output_type": "display_data"
    }
   ],
   "source": [
    "data.frame(emp$ename,gsub(0,'*',emp$sal))"
   ]
  },
  {
   "cell_type": "markdown",
   "metadata": {},
   "source": [
    "### ※ 문제26. 아래의 SQL을 R로 구현하시오\n",
    "```sql\n",
    "select ename, regexp_replace(sal,'[0-2]','*')\n",
    "    from emp;\n",
    "    ```"
   ]
  },
  {
   "cell_type": "code",
   "execution_count": 39,
   "metadata": {
    "ExecuteTime": {
     "end_time": "2020-06-11T05:21:08.196758Z",
     "start_time": "2020-06-11T05:21:08.162Z"
    }
   },
   "outputs": [
    {
     "data": {
      "text/html": [
       "<table>\n",
       "<thead><tr><th scope=col>이름</th><th scope=col>월급</th></tr></thead>\n",
       "<tbody>\n",
       "\t<tr><td>KING  </td><td>5***  </td></tr>\n",
       "\t<tr><td>BLAKE </td><td>*85*  </td></tr>\n",
       "\t<tr><td>CLARK </td><td>*45*  </td></tr>\n",
       "\t<tr><td>JONES </td><td>*975  </td></tr>\n",
       "\t<tr><td>MARTIN</td><td>**5*  </td></tr>\n",
       "\t<tr><td>ALLEN </td><td>*6**  </td></tr>\n",
       "\t<tr><td>TURNER</td><td>*5**  </td></tr>\n",
       "\t<tr><td>JAMES </td><td>95*   </td></tr>\n",
       "\t<tr><td>WARD  </td><td>**5*  </td></tr>\n",
       "\t<tr><td>FORD  </td><td>3***  </td></tr>\n",
       "\t<tr><td>SMITH </td><td>8**   </td></tr>\n",
       "\t<tr><td>SCOTT </td><td>3***  </td></tr>\n",
       "\t<tr><td>ADAMS </td><td>****  </td></tr>\n",
       "\t<tr><td>MILLER</td><td>*3**  </td></tr>\n",
       "</tbody>\n",
       "</table>\n"
      ],
      "text/latex": [
       "\\begin{tabular}{r|ll}\n",
       " 이름 & 월급\\\\\n",
       "\\hline\n",
       "\t KING   & 5***  \\\\\n",
       "\t BLAKE  & *85*  \\\\\n",
       "\t CLARK  & *45*  \\\\\n",
       "\t JONES  & *975  \\\\\n",
       "\t MARTIN & **5*  \\\\\n",
       "\t ALLEN  & *6**  \\\\\n",
       "\t TURNER & *5**  \\\\\n",
       "\t JAMES  & 95*   \\\\\n",
       "\t WARD   & **5*  \\\\\n",
       "\t FORD   & 3***  \\\\\n",
       "\t SMITH  & 8**   \\\\\n",
       "\t SCOTT  & 3***  \\\\\n",
       "\t ADAMS  & ****  \\\\\n",
       "\t MILLER & *3**  \\\\\n",
       "\\end{tabular}\n"
      ],
      "text/markdown": [
       "\n",
       "| 이름 | 월급 |\n",
       "|---|---|\n",
       "| KING   | 5***   |\n",
       "| BLAKE  | *85*   |\n",
       "| CLARK  | *45*   |\n",
       "| JONES  | *975   |\n",
       "| MARTIN | **5*   |\n",
       "| ALLEN  | *6**   |\n",
       "| TURNER | *5**   |\n",
       "| JAMES  | 95*    |\n",
       "| WARD   | **5*   |\n",
       "| FORD   | 3***   |\n",
       "| SMITH  | 8**    |\n",
       "| SCOTT  | 3***   |\n",
       "| ADAMS  | ****   |\n",
       "| MILLER | *3**   |\n",
       "\n"
      ],
      "text/plain": [
       "   이름   월급\n",
       "1  KING   5***\n",
       "2  BLAKE  *85*\n",
       "3  CLARK  *45*\n",
       "4  JONES  *975\n",
       "5  MARTIN **5*\n",
       "6  ALLEN  *6**\n",
       "7  TURNER *5**\n",
       "8  JAMES  95* \n",
       "9  WARD   **5*\n",
       "10 FORD   3***\n",
       "11 SMITH  8** \n",
       "12 SCOTT  3***\n",
       "13 ADAMS  ****\n",
       "14 MILLER *3**"
      ]
     },
     "metadata": {},
     "output_type": "display_data"
    }
   ],
   "source": [
    "data.frame(이름=emp$ename, 월급=gsub('[0-2]','*',emp$sal))"
   ]
  },
  {
   "cell_type": "markdown",
   "metadata": {},
   "source": [
    "#### ■ 숫자함수\n",
    "```\n",
    "    SQL        vs        R\n",
    "    round              round\n",
    "    trunc              trunc\n",
    "    mod                 %%\n",
    "    power               ^\n",
    "   ```"
   ]
  },
  {
   "cell_type": "markdown",
   "metadata": {},
   "source": [
    "### ※ 문제27. 6의 9승을 출력하시오"
   ]
  },
  {
   "cell_type": "code",
   "execution_count": 40,
   "metadata": {
    "ExecuteTime": {
     "end_time": "2020-06-11T05:44:14.930914Z",
     "start_time": "2020-06-11T05:44:14.900Z"
    }
   },
   "outputs": [
    {
     "data": {
      "text/html": [
       "10077696"
      ],
      "text/latex": [
       "10077696"
      ],
      "text/markdown": [
       "10077696"
      ],
      "text/plain": [
       "[1] 10077696"
      ]
     },
     "metadata": {},
     "output_type": "display_data"
    }
   ],
   "source": [
    "6^9"
   ]
  },
  {
   "cell_type": "markdown",
   "metadata": {},
   "source": [
    "### ※ 문제28. 10을 3으로 나눈 나머지값을 출력하시오"
   ]
  },
  {
   "cell_type": "code",
   "execution_count": 42,
   "metadata": {
    "ExecuteTime": {
     "end_time": "2020-06-11T05:44:41.510969Z",
     "start_time": "2020-06-11T05:44:41.482Z"
    }
   },
   "outputs": [
    {
     "name": "stdout",
     "output_type": "stream",
     "text": [
      "[1] 1\n"
     ]
    }
   ],
   "source": [
    "print(10 %% 3)"
   ]
  },
  {
   "cell_type": "markdown",
   "metadata": {},
   "source": [
    "### ※ 문제29. 이름과 연봉을 출력하시오"
   ]
  },
  {
   "cell_type": "code",
   "execution_count": 48,
   "metadata": {
    "ExecuteTime": {
     "end_time": "2020-06-11T05:48:12.303685Z",
     "start_time": "2020-06-11T05:48:12.265Z"
    }
   },
   "outputs": [
    {
     "data": {
      "text/html": [
       "<table>\n",
       "<thead><tr><th></th><th scope=col>이름</th><th scope=col>연봉</th></tr></thead>\n",
       "<tbody>\n",
       "\t<tr><th scope=row>1</th><td>KING  </td><td>60000 </td></tr>\n",
       "\t<tr><th scope=row>10</th><td>FORD  </td><td>36000 </td></tr>\n",
       "\t<tr><th scope=row>12</th><td>SCOTT </td><td>36000 </td></tr>\n",
       "\t<tr><th scope=row>4</th><td>JONES </td><td>35700 </td></tr>\n",
       "\t<tr><th scope=row>2</th><td>BLAKE </td><td>34200 </td></tr>\n",
       "\t<tr><th scope=row>3</th><td>CLARK </td><td>29400 </td></tr>\n",
       "\t<tr><th scope=row>6</th><td>ALLEN </td><td>19200 </td></tr>\n",
       "\t<tr><th scope=row>7</th><td>TURNER</td><td>18000 </td></tr>\n",
       "\t<tr><th scope=row>14</th><td>MILLER</td><td>15600 </td></tr>\n",
       "\t<tr><th scope=row>5</th><td>MARTIN</td><td>15000 </td></tr>\n",
       "\t<tr><th scope=row>9</th><td>WARD  </td><td>15000 </td></tr>\n",
       "\t<tr><th scope=row>13</th><td>ADAMS </td><td>13200 </td></tr>\n",
       "\t<tr><th scope=row>8</th><td>JAMES </td><td>11400 </td></tr>\n",
       "\t<tr><th scope=row>11</th><td>SMITH </td><td> 9600 </td></tr>\n",
       "</tbody>\n",
       "</table>\n"
      ],
      "text/latex": [
       "\\begin{tabular}{r|ll}\n",
       "  & 이름 & 연봉\\\\\n",
       "\\hline\n",
       "\t1 & KING   & 60000 \\\\\n",
       "\t10 & FORD   & 36000 \\\\\n",
       "\t12 & SCOTT  & 36000 \\\\\n",
       "\t4 & JONES  & 35700 \\\\\n",
       "\t2 & BLAKE  & 34200 \\\\\n",
       "\t3 & CLARK  & 29400 \\\\\n",
       "\t6 & ALLEN  & 19200 \\\\\n",
       "\t7 & TURNER & 18000 \\\\\n",
       "\t14 & MILLER & 15600 \\\\\n",
       "\t5 & MARTIN & 15000 \\\\\n",
       "\t9 & WARD   & 15000 \\\\\n",
       "\t13 & ADAMS  & 13200 \\\\\n",
       "\t8 & JAMES  & 11400 \\\\\n",
       "\t11 & SMITH  &  9600 \\\\\n",
       "\\end{tabular}\n"
      ],
      "text/markdown": [
       "\n",
       "| <!--/--> | 이름 | 연봉 |\n",
       "|---|---|---|\n",
       "| 1 | KING   | 60000  |\n",
       "| 10 | FORD   | 36000  |\n",
       "| 12 | SCOTT  | 36000  |\n",
       "| 4 | JONES  | 35700  |\n",
       "| 2 | BLAKE  | 34200  |\n",
       "| 3 | CLARK  | 29400  |\n",
       "| 6 | ALLEN  | 19200  |\n",
       "| 7 | TURNER | 18000  |\n",
       "| 14 | MILLER | 15600  |\n",
       "| 5 | MARTIN | 15000  |\n",
       "| 9 | WARD   | 15000  |\n",
       "| 13 | ADAMS  | 13200  |\n",
       "| 8 | JAMES  | 11400  |\n",
       "| 11 | SMITH  |  9600  |\n",
       "\n"
      ],
      "text/plain": [
       "   이름   연봉 \n",
       "1  KING   60000\n",
       "10 FORD   36000\n",
       "12 SCOTT  36000\n",
       "4  JONES  35700\n",
       "2  BLAKE  34200\n",
       "3  CLARK  29400\n",
       "6  ALLEN  19200\n",
       "7  TURNER 18000\n",
       "14 MILLER 15600\n",
       "5  MARTIN 15000\n",
       "9  WARD   15000\n",
       "13 ADAMS  13200\n",
       "8  JAMES  11400\n",
       "11 SMITH   9600"
      ]
     },
     "metadata": {},
     "output_type": "display_data"
    }
   ],
   "source": [
    "orderBy(~-연봉, data.frame(이름=emp$ename, 연봉=emp$sal*12))"
   ]
  },
  {
   "cell_type": "code",
   "execution_count": 53,
   "metadata": {
    "ExecuteTime": {
     "end_time": "2020-06-11T05:49:55.126435Z",
     "start_time": "2020-06-11T05:49:55.089Z"
    }
   },
   "outputs": [
    {
     "data": {
      "text/html": [
       "<table>\n",
       "<thead><tr><th></th><th scope=col>이름</th><th scope=col>연봉</th></tr></thead>\n",
       "<tbody>\n",
       "\t<tr><th scope=row>1</th><td>KING  </td><td>60000 </td></tr>\n",
       "\t<tr><th scope=row>4</th><td>JONES </td><td>36000 </td></tr>\n",
       "\t<tr><th scope=row>10</th><td>FORD  </td><td>36000 </td></tr>\n",
       "\t<tr><th scope=row>12</th><td>SCOTT </td><td>36000 </td></tr>\n",
       "\t<tr><th scope=row>2</th><td>BLAKE </td><td>34000 </td></tr>\n",
       "\t<tr><th scope=row>3</th><td>CLARK </td><td>29000 </td></tr>\n",
       "\t<tr><th scope=row>6</th><td>ALLEN </td><td>19000 </td></tr>\n",
       "\t<tr><th scope=row>7</th><td>TURNER</td><td>18000 </td></tr>\n",
       "\t<tr><th scope=row>14</th><td>MILLER</td><td>16000 </td></tr>\n",
       "\t<tr><th scope=row>5</th><td>MARTIN</td><td>15000 </td></tr>\n",
       "\t<tr><th scope=row>9</th><td>WARD  </td><td>15000 </td></tr>\n",
       "\t<tr><th scope=row>13</th><td>ADAMS </td><td>13000 </td></tr>\n",
       "\t<tr><th scope=row>8</th><td>JAMES </td><td>11000 </td></tr>\n",
       "\t<tr><th scope=row>11</th><td>SMITH </td><td>10000 </td></tr>\n",
       "</tbody>\n",
       "</table>\n"
      ],
      "text/latex": [
       "\\begin{tabular}{r|ll}\n",
       "  & 이름 & 연봉\\\\\n",
       "\\hline\n",
       "\t1 & KING   & 60000 \\\\\n",
       "\t4 & JONES  & 36000 \\\\\n",
       "\t10 & FORD   & 36000 \\\\\n",
       "\t12 & SCOTT  & 36000 \\\\\n",
       "\t2 & BLAKE  & 34000 \\\\\n",
       "\t3 & CLARK  & 29000 \\\\\n",
       "\t6 & ALLEN  & 19000 \\\\\n",
       "\t7 & TURNER & 18000 \\\\\n",
       "\t14 & MILLER & 16000 \\\\\n",
       "\t5 & MARTIN & 15000 \\\\\n",
       "\t9 & WARD   & 15000 \\\\\n",
       "\t13 & ADAMS  & 13000 \\\\\n",
       "\t8 & JAMES  & 11000 \\\\\n",
       "\t11 & SMITH  & 10000 \\\\\n",
       "\\end{tabular}\n"
      ],
      "text/markdown": [
       "\n",
       "| <!--/--> | 이름 | 연봉 |\n",
       "|---|---|---|\n",
       "| 1 | KING   | 60000  |\n",
       "| 4 | JONES  | 36000  |\n",
       "| 10 | FORD   | 36000  |\n",
       "| 12 | SCOTT  | 36000  |\n",
       "| 2 | BLAKE  | 34000  |\n",
       "| 3 | CLARK  | 29000  |\n",
       "| 6 | ALLEN  | 19000  |\n",
       "| 7 | TURNER | 18000  |\n",
       "| 14 | MILLER | 16000  |\n",
       "| 5 | MARTIN | 15000  |\n",
       "| 9 | WARD   | 15000  |\n",
       "| 13 | ADAMS  | 13000  |\n",
       "| 8 | JAMES  | 11000  |\n",
       "| 11 | SMITH  | 10000  |\n",
       "\n"
      ],
      "text/plain": [
       "   이름   연봉 \n",
       "1  KING   60000\n",
       "4  JONES  36000\n",
       "10 FORD   36000\n",
       "12 SCOTT  36000\n",
       "2  BLAKE  34000\n",
       "3  CLARK  29000\n",
       "6  ALLEN  19000\n",
       "7  TURNER 18000\n",
       "14 MILLER 16000\n",
       "5  MARTIN 15000\n",
       "9  WARD   15000\n",
       "13 ADAMS  13000\n",
       "8  JAMES  11000\n",
       "11 SMITH  10000"
      ]
     },
     "metadata": {},
     "output_type": "display_data"
    }
   ],
   "source": [
    "orderBy(~-연봉,data.frame(이름=emp$ename,연봉=round(emp$sal*12,-3)))"
   ]
  },
  {
   "cell_type": "markdown",
   "metadata": {},
   "source": [
    "### ※ 문제30. 백단위 자리를 포함해서 다 잘라내고 0으로 출력되게 하시오"
   ]
  },
  {
   "cell_type": "code",
   "execution_count": 58,
   "metadata": {
    "ExecuteTime": {
     "end_time": "2020-06-11T05:54:19.240118Z",
     "start_time": "2020-06-11T05:54:19.190Z"
    }
   },
   "outputs": [
    {
     "data": {
      "text/html": [
       "<table>\n",
       "<thead><tr><th></th><th scope=col>이름</th><th scope=col>연봉</th></tr></thead>\n",
       "<tbody>\n",
       "\t<tr><th scope=row>1</th><td>KING  </td><td>60000 </td></tr>\n",
       "\t<tr><th scope=row>10</th><td>FORD  </td><td>36000 </td></tr>\n",
       "\t<tr><th scope=row>12</th><td>SCOTT </td><td>36000 </td></tr>\n",
       "\t<tr><th scope=row>4</th><td>JONES </td><td>35700 </td></tr>\n",
       "\t<tr><th scope=row>2</th><td>BLAKE </td><td>34200 </td></tr>\n",
       "\t<tr><th scope=row>3</th><td>CLARK </td><td>29400 </td></tr>\n",
       "\t<tr><th scope=row>6</th><td>ALLEN </td><td>19200 </td></tr>\n",
       "\t<tr><th scope=row>7</th><td>TURNER</td><td>18000 </td></tr>\n",
       "\t<tr><th scope=row>14</th><td>MILLER</td><td>15600 </td></tr>\n",
       "\t<tr><th scope=row>5</th><td>MARTIN</td><td>15000 </td></tr>\n",
       "\t<tr><th scope=row>9</th><td>WARD  </td><td>15000 </td></tr>\n",
       "\t<tr><th scope=row>13</th><td>ADAMS </td><td>13200 </td></tr>\n",
       "\t<tr><th scope=row>8</th><td>JAMES </td><td>11400 </td></tr>\n",
       "\t<tr><th scope=row>11</th><td>SMITH </td><td> 9600 </td></tr>\n",
       "</tbody>\n",
       "</table>\n"
      ],
      "text/latex": [
       "\\begin{tabular}{r|ll}\n",
       "  & 이름 & 연봉\\\\\n",
       "\\hline\n",
       "\t1 & KING   & 60000 \\\\\n",
       "\t10 & FORD   & 36000 \\\\\n",
       "\t12 & SCOTT  & 36000 \\\\\n",
       "\t4 & JONES  & 35700 \\\\\n",
       "\t2 & BLAKE  & 34200 \\\\\n",
       "\t3 & CLARK  & 29400 \\\\\n",
       "\t6 & ALLEN  & 19200 \\\\\n",
       "\t7 & TURNER & 18000 \\\\\n",
       "\t14 & MILLER & 15600 \\\\\n",
       "\t5 & MARTIN & 15000 \\\\\n",
       "\t9 & WARD   & 15000 \\\\\n",
       "\t13 & ADAMS  & 13200 \\\\\n",
       "\t8 & JAMES  & 11400 \\\\\n",
       "\t11 & SMITH  &  9600 \\\\\n",
       "\\end{tabular}\n"
      ],
      "text/markdown": [
       "\n",
       "| <!--/--> | 이름 | 연봉 |\n",
       "|---|---|---|\n",
       "| 1 | KING   | 60000  |\n",
       "| 10 | FORD   | 36000  |\n",
       "| 12 | SCOTT  | 36000  |\n",
       "| 4 | JONES  | 35700  |\n",
       "| 2 | BLAKE  | 34200  |\n",
       "| 3 | CLARK  | 29400  |\n",
       "| 6 | ALLEN  | 19200  |\n",
       "| 7 | TURNER | 18000  |\n",
       "| 14 | MILLER | 15600  |\n",
       "| 5 | MARTIN | 15000  |\n",
       "| 9 | WARD   | 15000  |\n",
       "| 13 | ADAMS  | 13200  |\n",
       "| 8 | JAMES  | 11400  |\n",
       "| 11 | SMITH  |  9600  |\n",
       "\n"
      ],
      "text/plain": [
       "   이름   연봉 \n",
       "1  KING   60000\n",
       "10 FORD   36000\n",
       "12 SCOTT  36000\n",
       "4  JONES  35700\n",
       "2  BLAKE  34200\n",
       "3  CLARK  29400\n",
       "6  ALLEN  19200\n",
       "7  TURNER 18000\n",
       "14 MILLER 15600\n",
       "5  MARTIN 15000\n",
       "9  WARD   15000\n",
       "13 ADAMS  13200\n",
       "8  JAMES  11400\n",
       "11 SMITH   9600"
      ]
     },
     "metadata": {},
     "output_type": "display_data"
    },
    {
     "name": "stdout",
     "output_type": "stream",
     "text": [
      " int [1:14] 5000 2850 2450 2975 1250 1600 1500 950 1250 3000 ...\n"
     ]
    }
   ],
   "source": [
    "orderBy(~-연봉, data.frame(이름=emp$ename, 연봉=trunc(emp$sal*12)))"
   ]
  },
  {
   "cell_type": "markdown",
   "metadata": {},
   "source": [
    "※ R에서 trunc 함수는 소숫점 이하만 버리고 정수부분은 버리지 않는다. round는 반올림이 어느 자리에서든 가능"
   ]
  },
  {
   "cell_type": "markdown",
   "metadata": {},
   "source": [
    "#### ■ 날짜함수\n",
    "```\n",
    "    Oracle      vs       R\n",
    "    sysdate           Sys.date()\n",
    "    add_months()\n",
    "    months_between     사용자 정의 함수\n",
    "    last_day\n",
    "    next_day\n",
    "    ```"
   ]
  },
  {
   "cell_type": "markdown",
   "metadata": {},
   "source": [
    "### ※ 문제31. 오늘 날짜를 출력하시오"
   ]
  },
  {
   "cell_type": "code",
   "execution_count": 60,
   "metadata": {
    "ExecuteTime": {
     "end_time": "2020-06-11T05:59:19.065843Z",
     "start_time": "2020-06-11T05:59:19.018Z"
    }
   },
   "outputs": [
    {
     "data": {
      "text/html": [
       "<time datetime=\"2020-06-11\">2020-06-11</time>"
      ],
      "text/latex": [
       "2020-06-11"
      ],
      "text/markdown": [
       "2020-06-11"
      ],
      "text/plain": [
       "[1] \"2020-06-11\""
      ]
     },
     "metadata": {},
     "output_type": "display_data"
    }
   ],
   "source": [
    "Sys.Date()"
   ]
  },
  {
   "cell_type": "markdown",
   "metadata": {},
   "source": [
    "### ※ 문제32. 이름, 입사한 날짜부터 오늘까지 총 몇일 근무했는지 출력하시오"
   ]
  },
  {
   "cell_type": "code",
   "execution_count": 64,
   "metadata": {
    "ExecuteTime": {
     "end_time": "2020-06-11T06:02:56.411849Z",
     "start_time": "2020-06-11T06:02:56.368Z"
    }
   },
   "outputs": [
    {
     "data": {
      "text/html": [
       "<table>\n",
       "<thead><tr><th scope=col>근무일</th></tr></thead>\n",
       "<tbody>\n",
       "\t<tr><td>14086 days</td></tr>\n",
       "\t<tr><td>14286 days</td></tr>\n",
       "\t<tr><td>14278 days</td></tr>\n",
       "\t<tr><td>14316 days</td></tr>\n",
       "\t<tr><td>14154 days</td></tr>\n",
       "\t<tr><td>14365 days</td></tr>\n",
       "\t<tr><td>14174 days</td></tr>\n",
       "\t<tr><td>14062 days</td></tr>\n",
       "\t<tr><td>14353 days</td></tr>\n",
       "\t<tr><td>14062 days</td></tr>\n",
       "\t<tr><td>14429 days</td></tr>\n",
       "\t<tr><td>13686 days</td></tr>\n",
       "\t<tr><td>13662 days</td></tr>\n",
       "\t<tr><td>14031 days</td></tr>\n",
       "</tbody>\n",
       "</table>\n"
      ],
      "text/latex": [
       "\\begin{tabular}{r|l}\n",
       " 근무일\\\\\n",
       "\\hline\n",
       "\t 14086 days\\\\\n",
       "\t 14286 days\\\\\n",
       "\t 14278 days\\\\\n",
       "\t 14316 days\\\\\n",
       "\t 14154 days\\\\\n",
       "\t 14365 days\\\\\n",
       "\t 14174 days\\\\\n",
       "\t 14062 days\\\\\n",
       "\t 14353 days\\\\\n",
       "\t 14062 days\\\\\n",
       "\t 14429 days\\\\\n",
       "\t 13686 days\\\\\n",
       "\t 13662 days\\\\\n",
       "\t 14031 days\\\\\n",
       "\\end{tabular}\n"
      ],
      "text/markdown": [
       "\n",
       "| 근무일 |\n",
       "|---|\n",
       "| 14086 days |\n",
       "| 14286 days |\n",
       "| 14278 days |\n",
       "| 14316 days |\n",
       "| 14154 days |\n",
       "| 14365 days |\n",
       "| 14174 days |\n",
       "| 14062 days |\n",
       "| 14353 days |\n",
       "| 14062 days |\n",
       "| 14429 days |\n",
       "| 13686 days |\n",
       "| 13662 days |\n",
       "| 14031 days |\n",
       "\n"
      ],
      "text/plain": [
       "   근무일    \n",
       "1  14086 days\n",
       "2  14286 days\n",
       "3  14278 days\n",
       "4  14316 days\n",
       "5  14154 days\n",
       "6  14365 days\n",
       "7  14174 days\n",
       "8  14062 days\n",
       "9  14353 days\n",
       "10 14062 days\n",
       "11 14429 days\n",
       "12 13686 days\n",
       "13 13662 days\n",
       "14 14031 days"
      ]
     },
     "metadata": {},
     "output_type": "display_data"
    }
   ],
   "source": [
    "data.frame(근무일=Sys.Date()-as.Date(emp$hiredate))"
   ]
  },
  {
   "cell_type": "markdown",
   "metadata": {},
   "source": [
    "### ※ 문제33. 오늘날짜의 달의 마지막 날짜를 출력하시오\n",
    "```sql\n",
    "select last_day(sysdate)\n",
    "    from dual;\n",
    "    ```"
   ]
  },
  {
   "cell_type": "code",
   "execution_count": 65,
   "metadata": {
    "ExecuteTime": {
     "end_time": "2020-06-11T06:05:54.906405Z",
     "start_time": "2020-06-11T06:05:54.689Z"
    }
   },
   "outputs": [
    {
     "name": "stderr",
     "output_type": "stream",
     "text": [
      "Warning message:\n",
      "\"package 'lubridate' was built under R version 3.6.3\"\n",
      "Attaching package: 'lubridate'\n",
      "\n",
      "The following objects are masked from 'package:base':\n",
      "\n",
      "    date, intersect, setdiff, union\n",
      "\n"
     ]
    }
   ],
   "source": [
    "library(lubridate)"
   ]
  },
  {
   "cell_type": "code",
   "execution_count": 67,
   "metadata": {
    "ExecuteTime": {
     "end_time": "2020-06-11T06:06:23.492706Z",
     "start_time": "2020-06-11T06:06:23.464Z"
    }
   },
   "outputs": [
    {
     "name": "stdout",
     "output_type": "stream",
     "text": [
      "[1] \"2020-07-01\"\n"
     ]
    }
   ],
   "source": [
    "print(ceiling_date(Sys.Date(),'month'))"
   ]
  },
  {
   "cell_type": "code",
   "execution_count": 68,
   "metadata": {
    "ExecuteTime": {
     "end_time": "2020-06-11T06:07:07.657039Z",
     "start_time": "2020-06-11T06:07:07.627Z"
    }
   },
   "outputs": [
    {
     "name": "stdout",
     "output_type": "stream",
     "text": [
      "[1] \"2020-06-01\"\n"
     ]
    }
   ],
   "source": [
    "print(floor_date(Sys.Date(),'month'))"
   ]
  },
  {
   "cell_type": "code",
   "execution_count": 69,
   "metadata": {
    "ExecuteTime": {
     "end_time": "2020-06-11T06:08:04.259595Z",
     "start_time": "2020-06-11T06:08:04.232Z"
    }
   },
   "outputs": [
    {
     "name": "stdout",
     "output_type": "stream",
     "text": [
      "[1] \"2020-06-30\"\n"
     ]
    }
   ],
   "source": [
    "print(ceiling_date(Sys.Date(),'month')-1)"
   ]
  },
  {
   "cell_type": "markdown",
   "metadata": {},
   "source": [
    "#### ※ 함수 생성"
   ]
  },
  {
   "cell_type": "code",
   "execution_count": 73,
   "metadata": {
    "ExecuteTime": {
     "end_time": "2020-06-11T06:10:33.790861Z",
     "start_time": "2020-06-11T06:10:33.764Z"
    }
   },
   "outputs": [],
   "source": [
    "last_day=function(x){\n",
    "    ceiling_date(x,'months')-days(1)\n",
    "}"
   ]
  },
  {
   "cell_type": "code",
   "execution_count": 75,
   "metadata": {
    "ExecuteTime": {
     "end_time": "2020-06-11T06:10:46.056660Z",
     "start_time": "2020-06-11T06:10:46.027Z"
    }
   },
   "outputs": [
    {
     "name": "stdout",
     "output_type": "stream",
     "text": [
      "[1] \"2020-06-30\"\n"
     ]
    }
   ],
   "source": [
    "print(last_day(Sys.Date()))"
   ]
  },
  {
   "cell_type": "code",
   "execution_count": null,
   "metadata": {},
   "outputs": [],
   "source": []
  },
  {
   "cell_type": "code",
   "execution_count": null,
   "metadata": {},
   "outputs": [],
   "source": []
  },
  {
   "cell_type": "code",
   "execution_count": null,
   "metadata": {},
   "outputs": [],
   "source": []
  },
  {
   "cell_type": "code",
   "execution_count": null,
   "metadata": {},
   "outputs": [],
   "source": []
  },
  {
   "cell_type": "code",
   "execution_count": null,
   "metadata": {},
   "outputs": [],
   "source": []
  },
  {
   "cell_type": "code",
   "execution_count": null,
   "metadata": {},
   "outputs": [],
   "source": []
  }
 ],
 "metadata": {
  "kernelspec": {
   "display_name": "R",
   "language": "R",
   "name": "ir"
  },
  "language_info": {
   "codemirror_mode": "r",
   "file_extension": ".r",
   "mimetype": "text/x-r-source",
   "name": "R",
   "pygments_lexer": "r",
   "version": "3.6.1"
  },
  "toc": {
   "base_numbering": 1,
   "nav_menu": {},
   "number_sections": true,
   "sideBar": true,
   "skip_h1_title": false,
   "title_cell": "Table of Contents",
   "title_sidebar": "Contents",
   "toc_cell": false,
   "toc_position": {},
   "toc_section_display": true,
   "toc_window_display": false
  },
  "varInspector": {
   "cols": {
    "lenName": 16,
    "lenType": 16,
    "lenVar": 40
   },
   "kernels_config": {
    "python": {
     "delete_cmd_postfix": "",
     "delete_cmd_prefix": "del ",
     "library": "var_list.py",
     "varRefreshCmd": "print(var_dic_list())"
    },
    "r": {
     "delete_cmd_postfix": ") ",
     "delete_cmd_prefix": "rm(",
     "library": "var_list.r",
     "varRefreshCmd": "cat(var_dic_list()) "
    }
   },
   "position": {
    "height": "364px",
    "left": "1485px",
    "right": "20px",
    "top": "87px",
    "width": "426px"
   },
   "types_to_exclude": [
    "module",
    "function",
    "builtin_function_or_method",
    "instance",
    "_Feature"
   ],
   "window_display": false
  }
 },
 "nbformat": 4,
 "nbformat_minor": 4
}
