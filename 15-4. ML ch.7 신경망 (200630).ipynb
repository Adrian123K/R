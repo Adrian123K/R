{
 "cells": [
  {
   "cell_type": "markdown",
   "metadata": {},
   "source": [
    "# <b>■ 신경망</b>\n",
    "    ML의 종류 3가지\n",
    "        1. 지도학습\n",
    "            분류 - kNN, naiveBayes, decision tree, 신경망\n",
    "            회귀 - 단순/다중회귀\n",
    "        2. 비지도학습\n",
    "        3. 강화학습\n",
    "    \n",
    "    ※ 인공신경망을 만들어서 분류작업 수행\n",
    "        인공신경망을 만들면서부터 육체노동을 대신했던 기계(컴퓨터)에게 지능을 부여하기 시작\n",
    "                    ↓\n",
    "        인공지능 신경망의 시초 : 퍼셉트론\n",
    "        \n",
    "            사람의 뇌 -----------------------------------------------------------------> 컴퓨터를 이용한 지능 처리\n",
    "               ↑반복적인 시그널이 발생할 때 그 시그널을 기억하는 일종의 학습효과가 존재                ↓\n",
    "                                                                                        가중치를 통해 기억의 효과를 대체할 수 있음을 설명\n",
    "        DQN(깊은 보상학습) -> 알파고\n",
    "            알파고에서 쓰인 딥러닝방법은 바둑판을 인식하는 convolution 신경망 기술을 사용\n",
    "            딥러닝 층수가 152층까지 발전. 알파고는 48층 높이의 인공신경망을 사용\n",
    "            \n",
    "        1. 뇌: 신호 ----> 암기\n",
    "                 반복\n",
    "        2. 인공신경망: 신호 ---> 1:신호가 흐른다 / 0: 신호가 흐르지 않는다\n",
    "        \n",
    "            컴퓨터 : 정보를 메모리의 특정 위치에 저장\n",
    "            뇌: 정보를 저장하는 공간이 따로 존재하지 않음 -> 신경세포(뉴런)의 연결관계를 변경하는 방식으로 정보를 저장\n",
    "        \n",
    "        퍼셉트론 : 인공신경 세포들을 적절히 연결시켜주면 논리 연산 규칙을 스스로 인식하게 됨\n",
    "        \n",
    "        "
   ]
  },
  {
   "cell_type": "markdown",
   "metadata": {},
   "source": [
    "### ※ 문제268. (오늘의 마지막 문제) 아래의 행렬을 이용해서 and_pcn 함수를 생성하시오 !"
   ]
  },
  {
   "cell_type": "code",
   "execution_count": null,
   "metadata": {},
   "outputs": [],
   "source": [
    "\n",
    "and_pcn <- function(data,target,r){\n",
    "  cnt <- 1\n",
    "  while(cnt!=4){\n",
    "    for (i in 1:nrow(data)){\n",
    "      error <- target[i]-data[i,]%*%weight\n",
    "      ste <- ifelse(error>0,1,0)\n",
    "      if (ste==1){\n",
    "        for (j in 1:ncol(data)){\n",
    "          weight[j] <- weight[j]+r*data[i,j]*ste\n",
    "        }\n",
    "      } else{\n",
    "        cnt <- cnt+1\n",
    "      }\n",
    "    }\n",
    "  }\n",
    "  print(weight)\n",
    "}\n",
    "\n",
    "inputs<-matrix(c(0,0,1,0,0,1,1,1),nrow=4,byrow=T)\n",
    "target<-matrix(c(0,0,0,1),nrow=4)\n",
    "new_inputs<-cbind(matrix(c(-1,-1,-1,-1),nrow=4),inputs)\n",
    "\n",
    "weight <- matrix(c(0.3,0.4,0.1),nrow=3)\n",
    "\n",
    "l_rate <- 0.05\n",
    "\n",
    "and_pcn(new_inputs,target,l_rate)\n"
   ]
  },
  {
   "cell_type": "code",
   "execution_count": null,
   "metadata": {},
   "outputs": [],
   "source": []
  },
  {
   "cell_type": "code",
   "execution_count": null,
   "metadata": {},
   "outputs": [],
   "source": []
  },
  {
   "cell_type": "code",
   "execution_count": null,
   "metadata": {},
   "outputs": [],
   "source": []
  }
 ],
 "metadata": {
  "kernelspec": {
   "display_name": "R",
   "language": "R",
   "name": "ir"
  },
  "language_info": {
   "codemirror_mode": "r",
   "file_extension": ".r",
   "mimetype": "text/x-r-source",
   "name": "R",
   "pygments_lexer": "r",
   "version": "3.6.1"
  },
  "toc": {
   "base_numbering": 1,
   "nav_menu": {},
   "number_sections": true,
   "sideBar": true,
   "skip_h1_title": false,
   "title_cell": "Table of Contents",
   "title_sidebar": "Contents",
   "toc_cell": false,
   "toc_position": {},
   "toc_section_display": true,
   "toc_window_display": false
  },
  "varInspector": {
   "cols": {
    "lenName": 16,
    "lenType": 16,
    "lenVar": 40
   },
   "kernels_config": {
    "python": {
     "delete_cmd_postfix": "",
     "delete_cmd_prefix": "del ",
     "library": "var_list.py",
     "varRefreshCmd": "print(var_dic_list())"
    },
    "r": {
     "delete_cmd_postfix": ") ",
     "delete_cmd_prefix": "rm(",
     "library": "var_list.r",
     "varRefreshCmd": "cat(var_dic_list()) "
    }
   },
   "types_to_exclude": [
    "module",
    "function",
    "builtin_function_or_method",
    "instance",
    "_Feature"
   ],
   "window_display": false
  }
 },
 "nbformat": 4,
 "nbformat_minor": 4
}
