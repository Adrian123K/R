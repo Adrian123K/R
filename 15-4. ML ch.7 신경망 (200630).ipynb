{
 "cells": [
  {
   "cell_type": "markdown",
   "metadata": {},
   "source": [
    "# <b>■ 신경망</b>\n",
    "    ML의 종류 3가지\n",
    "        1. 지도학습\n",
    "            분류 - kNN, naiveBayes, decision tree, 신경망\n",
    "            회귀 - 단순/다중회귀\n",
    "        2. 비지도학습\n",
    "        3. 강화학습\n",
    "    \n",
    "    ※ 인공신경망을 만들어서 분류작업 수행\n",
    "        인공신경망을 만들면서부터 육체노동을 대신했던 기계(컴퓨터)에게 지능을 부여하기 시작\n",
    "                    ↓\n",
    "        인공지능 신경망의 시초 : 퍼셉트론\n",
    "        \n",
    "            사람의 뇌 ----------------> 컴퓨터를 이용한 지능 처리\n",
    "            \n",
    "        DQN(깊은 보상학습) -> 알파고\n",
    "            알파고에서 쓰인 딥러닝방법은 바둑판을 인식하는 convolution 신경망 기술을 사용\n",
    "            딥러닝 층수가 152층까지 발전. 알파고는 48층 높이의 인공신경망을 사용\n",
    "            \n",
    "        "
   ]
  },
  {
   "cell_type": "code",
   "execution_count": null,
   "metadata": {},
   "outputs": [],
   "source": []
  },
  {
   "cell_type": "code",
   "execution_count": null,
   "metadata": {},
   "outputs": [],
   "source": []
  },
  {
   "cell_type": "code",
   "execution_count": null,
   "metadata": {},
   "outputs": [],
   "source": []
  },
  {
   "cell_type": "code",
   "execution_count": null,
   "metadata": {},
   "outputs": [],
   "source": []
  },
  {
   "cell_type": "code",
   "execution_count": null,
   "metadata": {},
   "outputs": [],
   "source": []
  }
 ],
 "metadata": {
  "kernelspec": {
   "display_name": "R",
   "language": "R",
   "name": "ir"
  },
  "language_info": {
   "codemirror_mode": "r",
   "file_extension": ".r",
   "mimetype": "text/x-r-source",
   "name": "R",
   "pygments_lexer": "r",
   "version": "3.6.1"
  },
  "toc": {
   "base_numbering": 1,
   "nav_menu": {},
   "number_sections": true,
   "sideBar": true,
   "skip_h1_title": false,
   "title_cell": "Table of Contents",
   "title_sidebar": "Contents",
   "toc_cell": false,
   "toc_position": {},
   "toc_section_display": true,
   "toc_window_display": false
  },
  "varInspector": {
   "cols": {
    "lenName": 16,
    "lenType": 16,
    "lenVar": 40
   },
   "kernels_config": {
    "python": {
     "delete_cmd_postfix": "",
     "delete_cmd_prefix": "del ",
     "library": "var_list.py",
     "varRefreshCmd": "print(var_dic_list())"
    },
    "r": {
     "delete_cmd_postfix": ") ",
     "delete_cmd_prefix": "rm(",
     "library": "var_list.r",
     "varRefreshCmd": "cat(var_dic_list()) "
    }
   },
   "types_to_exclude": [
    "module",
    "function",
    "builtin_function_or_method",
    "instance",
    "_Feature"
   ],
   "window_display": false
  }
 },
 "nbformat": 4,
 "nbformat_minor": 4
}
