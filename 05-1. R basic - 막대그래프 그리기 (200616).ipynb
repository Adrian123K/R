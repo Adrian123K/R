{
 "cells": [
  {
   "cell_type": "markdown",
   "metadata": {},
   "source": [
    "## Data 분석 결과를 보고할 때 유용한 툴\n",
    "### 1. R markdown\n",
    "### 2. R shiny\n",
    "#### R의 강력한 그래픽 기능과 통계 분석 능력을 이용하고 사용자 상호작용을 쉽게 만들 수 있는 언어. 샤이니 패키지를 이용해서 편하게 사용자 인터페이스를 이용할 수 있다.\n",
    "```\n",
    "    <R shiny 기본 골격>\n",
    "           UI            &           Server\n",
    "        frontier                  backend tier\n",
    "        화면                      화면에서 요청한 데이터를 처리하는 부분\n",
    "```\n",
    "```\n",
    "    UI     <- (화면 개발에 필요한 코드 작성\n",
    "                ① csv file 불러오기\n",
    "                ② 결과 출력)\n",
    "    Server <- (서버단 코드 작성\n",
    "                ① data를 시각화 코드\n",
    "                    - 막대그래프\n",
    "                    - 원형그래프\n",
    "                    - 라인그래프\n",
    "                    - 히스토그램 그래프\n",
    "                    - 사분위수 그래프\n",
    "                ② ML 알고리즘 구현하는 코드)\n",
    "    실행하는 명령어 <- shinyApp(ui=ui, server=server)\n",
    "    ```"
   ]
  },
  {
   "cell_type": "code",
   "execution_count": 2,
   "metadata": {
    "ExecuteTime": {
     "end_time": "2020-06-16T01:19:51.499128Z",
     "start_time": "2020-06-16T01:19:49.139Z"
    }
   },
   "outputs": [
    {
     "name": "stderr",
     "output_type": "stream",
     "text": [
      "Warning message:\n",
      "\"package 'DT' was built under R version 3.6.3\"\n",
      "Attaching package: 'DT'\n",
      "\n",
      "The following objects are masked from 'package:shiny':\n",
      "\n",
      "    dataTableOutput, renderDataTable\n",
      "\n",
      "Warning message:\n",
      "\"package 'ggplot2' was built under R version 3.6.3\""
     ]
    }
   ],
   "source": [
    "library(shiny)\n",
    "library(DT)\n",
    "library(ggplot2)"
   ]
  },
  {
   "cell_type": "code",
   "execution_count": null,
   "metadata": {
    "ExecuteTime": {
     "start_time": "2020-06-16T01:09:11.587Z"
    }
   },
   "outputs": [
    {
     "name": "stderr",
     "output_type": "stream",
     "text": [
      "\n",
      "Listening on http://127.0.0.1:7208\n"
     ]
    }
   ],
   "source": [
    "ui<-fluidPage()\n",
    "server<-function(input, output){\n",
    "    \n",
    "}\n",
    "shinyApp(ui=ui, server=server)"
   ]
  },
  {
   "cell_type": "code",
   "execution_count": null,
   "metadata": {
    "ExecuteTime": {
     "start_time": "2020-06-16T01:12:24.792Z"
    }
   },
   "outputs": [],
   "source": [
    "ui<-fluidPage(\n",
    "    titlePanel('sidebar panel'),\n",
    "    mainPanel('main panel')\n",
    ")\n",
    "server<-function(input, output){\n",
    "    \n",
    "}\n",
    "shinyApp(ui=ui, server=server)"
   ]
  },
  {
   "cell_type": "markdown",
   "metadata": {},
   "source": [
    "### ※ 문제101. title panel을 데이터 시각화 소프트웨어란 이름으로 변경하시오"
   ]
  },
  {
   "cell_type": "code",
   "execution_count": null,
   "metadata": {},
   "outputs": [],
   "source": [
    "ui<-fluidPage(\n",
    "  titlePanel('Data Visualize Software'),\n",
    "  sidebarLayout(\n",
    "    sidebarPanel('sidebar panel'),\n",
    "    mainPanel('main panel')\n",
    "  )\n",
    ")\n",
    "server<-function(input, output){\n",
    "  \n",
    "}\n",
    "shinyApp(ui=ui, server=server)"
   ]
  },
  {
   "cell_type": "markdown",
   "metadata": {},
   "source": [
    "### ※ 문제102. 아래의 코드를 이용해서 기본 테이블 형태의 데이터 출력하는 화면을 완성하시오\n",
    "```R\n",
    "#install.packages(\"DT\")\n",
    "library(DT)\n",
    "library(shiny)\n",
    "library(ggplot2)\n",
    "emp <- read.csv(\"emp3.csv\",header=T)\n",
    "\n",
    "# Define UI ----\n",
    "ui <- fluidPage(\n",
    "  titlePanel(\"EMP DataTable\"),\n",
    "  # Create a new Row in the UI for selectInputs\n",
    "  # Create a new row for the table.\n",
    "  DT::dataTableOutput(\"table\")\n",
    ")\n",
    "# Define server logic ----\n",
    "server <- function(input, output) {\n",
    "  # Filter data based on selections\n",
    "  output$table <- DT::renderDataTable(DT::datatable({\n",
    "    data <- emp\n",
    "  }))\n",
    "}\n",
    "\n",
    "# Run the app ----\n",
    "shinyApp(ui = ui, server = server)\n",
    "```"
   ]
  },
  {
   "cell_type": "code",
   "execution_count": 6,
   "metadata": {
    "ExecuteTime": {
     "end_time": "2020-06-16T01:21:42.393008Z",
     "start_time": "2020-06-16T01:21:42.365Z"
    }
   },
   "outputs": [],
   "source": [
    "emp <- read.csv(\"emp3.csv\",header=T,stringsAsFactors = F)"
   ]
  },
  {
   "cell_type": "code",
   "execution_count": 7,
   "metadata": {
    "ExecuteTime": {
     "end_time": "2020-06-16T01:21:43.037780Z",
     "start_time": "2020-06-16T01:21:43.003Z"
    }
   },
   "outputs": [
    {
     "name": "stdout",
     "output_type": "stream",
     "text": [
      "'data.frame':\t14 obs. of  9 variables:\n",
      " $ index   : int  1 2 3 4 5 6 7 8 9 10 ...\n",
      " $ empno   : int  7839 7698 7782 7566 7654 7499 7844 7900 7521 7902 ...\n",
      " $ ename   : chr  \"KING\" \"BLAKE\" \"CLARK\" \"JONES\" ...\n",
      " $ job     : chr  \"PRESIDENT\" \"MANAGER\" \"MANAGER\" \"MANAGER\" ...\n",
      " $ mgr     : int  NA 7839 7839 7839 7698 7698 7698 7698 7698 7566 ...\n",
      " $ hiredate: chr  \"1981-11-17 0:00\" \"1981-05-01 0:00\" \"1981-05-09 0:00\" \"1981-04-01 0:00\" ...\n",
      " $ sal     : int  5000 2850 2450 2975 1250 1600 1500 950 1250 3000 ...\n",
      " $ comm    : int  NA NA NA NA 1400 300 0 NA 500 NA ...\n",
      " $ deptno  : int  10 30 10 20 30 30 30 30 30 20 ...\n"
     ]
    }
   ],
   "source": [
    "str(emp)"
   ]
  },
  {
   "cell_type": "code",
   "execution_count": null,
   "metadata": {
    "ExecuteTime": {
     "start_time": "2020-06-16T01:23:46.129Z"
    }
   },
   "outputs": [
    {
     "name": "stderr",
     "output_type": "stream",
     "text": [
      "\n",
      "Listening on http://127.0.0.1:7697\n"
     ]
    }
   ],
   "source": [
    "# Define UI ----\n",
    "ui <- fluidPage(\n",
    "  titlePanel(\"EMP DataTable\"),\n",
    "  # Create a new Row in the UI for selectInputs\n",
    "  # Create a new row for the table.\n",
    "  DT::dataTableOutput(\"table\") # dataTable 만들 수 있도록 설정 (server에서 생성한 데이터를 받도록 동일한 변수명 설정)\n",
    ")\n",
    "\n",
    "# Define server logic ----\n",
    "server <- function(input, output) {\n",
    "  # Filter data based on selections\n",
    "  output$table <- DT::renderDataTable(DT::datatable({ # server에서 생성된 output$table dat를 ui table 변수로 전송\n",
    "    data <- emp # ↑ data를 table화 하는 코드\n",
    "  }))\n",
    "}\n",
    "\n",
    "# Run the app ----\n",
    "shinyApp(ui = ui, server = server)"
   ]
  },
  {
   "cell_type": "markdown",
   "metadata": {},
   "source": [
    "### ※ 문제103. emp테이블의 월급으로 기본적인 막대그래프를 그리시오"
   ]
  },
  {
   "cell_type": "code",
   "execution_count": 2,
   "metadata": {
    "ExecuteTime": {
     "end_time": "2020-06-16T01:46:43.527579Z",
     "start_time": "2020-06-16T01:46:43.455Z"
    }
   },
   "outputs": [
    {
     "data": {
      "image/png": "[encoded data removed]",
      "text/plain": [
       "plot without title"
      ]
     },
     "metadata": {},
     "output_type": "display_data"
    }
   ],
   "source": [
    "emp<-read.csv('emp3.csv',header=T, stringsAsFactors=F)\n",
    "barplot(emp$sal)"
   ]
  },
  {
   "cell_type": "markdown",
   "metadata": {},
   "source": [
    "### ※ 문제104. 위의 그래프의 제목을 Salary Bar Chart라고 이름을 붙이시오"
   ]
  },
  {
   "cell_type": "code",
   "execution_count": 3,
   "metadata": {
    "ExecuteTime": {
     "end_time": "2020-06-16T01:46:44.613626Z",
     "start_time": "2020-06-16T01:46:44.511Z"
    }
   },
   "outputs": [
    {
     "data": {
      "image/png": "[encoded data removed]",
      "text/plain": [
       "Plot with title \"Salary Bar Chart\""
      ]
     },
     "metadata": {},
     "output_type": "display_data"
    }
   ],
   "source": [
    "barplot(emp$sal, main='Salary Bar Chart')"
   ]
  },
  {
   "cell_type": "markdown",
   "metadata": {},
   "source": [
    "### ※ 문제105. 막대 그래프의 x축에 사원 이름을 붙이시오"
   ]
  },
  {
   "cell_type": "code",
   "execution_count": 5,
   "metadata": {
    "ExecuteTime": {
     "end_time": "2020-06-16T01:48:28.992693Z",
     "start_time": "2020-06-16T01:48:28.925Z"
    }
   },
   "outputs": [
    {
     "data": {
      "image/png": "[encoded data removed]",
      "text/plain": [
       "Plot with title \"Salary Bar Chart\""
      ]
     },
     "metadata": {},
     "output_type": "display_data"
    }
   ],
   "source": [
    "barplot(emp$sal, main='Salary Bar Chart',names.arg=emp$ename)"
   ]
  },
  {
   "cell_type": "markdown",
   "metadata": {},
   "source": [
    "### ※ 문제106. 막대 그래프 y축의 이름을 salary라고 지정하시오"
   ]
  },
  {
   "cell_type": "code",
   "execution_count": 12,
   "metadata": {
    "ExecuteTime": {
     "end_time": "2020-06-16T01:51:14.634430Z",
     "start_time": "2020-06-16T01:51:14.569Z"
    }
   },
   "outputs": [
    {
     "data": {
      "image/png": "[encoded data removed]",
      "text/plain": [
       "Plot with title \"Salary Bar Chart\""
      ]
     },
     "metadata": {},
     "output_type": "display_data"
    }
   ],
   "source": [
    "barplot(emp$sal, main='Salary Bar Chart',names.arg=emp$ename, ylab='Salary',cex.names = 0.47)"
   ]
  },
  {
   "cell_type": "code",
   "execution_count": 15,
   "metadata": {
    "ExecuteTime": {
     "end_time": "2020-06-16T01:51:50.631940Z",
     "start_time": "2020-06-16T01:51:50.562Z"
    }
   },
   "outputs": [
    {
     "data": {
      "image/png": "[encoded data removed]",
      "text/plain": [
       "Plot with title \"Salary Bar Chart\""
      ]
     },
     "metadata": {},
     "output_type": "display_data"
    }
   ],
   "source": [
    "barplot(emp$sal, main='Salary Bar Chart',names.arg=emp$ename, ylab='Salary',xlab='Name',cex.names = 0.47)"
   ]
  },
  {
   "cell_type": "markdown",
   "metadata": {},
   "source": [
    "### ※ 문제107. 막대 그래프의 색깔을 파란색으로 출력하시오"
   ]
  },
  {
   "cell_type": "code",
   "execution_count": 21,
   "metadata": {
    "ExecuteTime": {
     "end_time": "2020-06-16T01:56:31.652006Z",
     "start_time": "2020-06-16T01:56:31.584Z"
    }
   },
   "outputs": [
    {
     "data": {
      "image/png": "[encoded data removed]",
      "text/plain": [
       "Plot with title \"Salary Bar Chart\""
      ]
     },
     "metadata": {},
     "output_type": "display_data"
    }
   ],
   "source": [
    "barplot(emp$sal, main='Salary Bar Chart',names.arg=emp$ename, ylab='Salary',xlab='Name',col='blue',cex.axis = 0.8,cex.name=0.47)"
   ]
  },
  {
   "cell_type": "markdown",
   "metadata": {},
   "source": [
    "### ※ 문제108. 창업건수.csv 를 R로 로드하고 치킨집의 창업건수를 막대 그래프로 시각화 하시오 !"
   ]
  },
  {
   "cell_type": "code",
   "execution_count": 35,
   "metadata": {
    "ExecuteTime": {
     "end_time": "2020-06-16T02:07:45.785699Z",
     "start_time": "2020-06-16T02:07:45.748Z"
    }
   },
   "outputs": [
    {
     "data": {
      "text/html": [
       "<table>\n",
       "<thead><tr><th scope=col>년도</th><th scope=col>미용실</th><th scope=col>양식집</th><th scope=col>일식집</th><th scope=col>치킨집</th><th scope=col>커피음료</th><th scope=col>한식음식점</th><th scope=col>호프간이주점</th></tr></thead>\n",
       "<tbody>\n",
       "\t<tr><td>2005</td><td>2196</td><td>1034</td><td> 540</td><td> 530</td><td> 454</td><td>5994</td><td> 635</td></tr>\n",
       "\t<tr><td>2006</td><td>2028</td><td> 950</td><td> 577</td><td> 525</td><td> 483</td><td>5504</td><td> 591</td></tr>\n",
       "\t<tr><td>2007</td><td>1802</td><td>1036</td><td> 620</td><td> 507</td><td> 575</td><td>6148</td><td> 544</td></tr>\n",
       "\t<tr><td>2008</td><td>1691</td><td>1127</td><td> 561</td><td> 543</td><td> 772</td><td>6036</td><td> 525</td></tr>\n",
       "\t<tr><td>2009</td><td>1826</td><td>1086</td><td> 645</td><td> 711</td><td> 845</td><td>6577</td><td> 627</td></tr>\n",
       "\t<tr><td>2010</td><td>1798</td><td>1105</td><td> 669</td><td> 865</td><td>1291</td><td>6689</td><td> 553</td></tr>\n",
       "\t<tr><td>2011</td><td>1688</td><td>1199</td><td> 736</td><td> 837</td><td>1671</td><td>6900</td><td> 638</td></tr>\n",
       "\t<tr><td>2012</td><td>1767</td><td>1183</td><td> 753</td><td> 986</td><td>1847</td><td>7082</td><td> 687</td></tr>\n",
       "\t<tr><td>2013</td><td>1965</td><td>1432</td><td> 839</td><td> 954</td><td>2287</td><td>7708</td><td> 769</td></tr>\n",
       "\t<tr><td>2014</td><td>1980</td><td>1870</td><td>1095</td><td>1193</td><td>3053</td><td>9772</td><td>1272</td></tr>\n",
       "</tbody>\n",
       "</table>\n"
      ],
      "text/latex": [
       "\\begin{tabular}{r|llllllll}\n",
       " 년도 & 미용실 & 양식집 & 일식집 & 치킨집 & 커피음료 & 한식음식점 & 호프간이주점\\\\\n",
       "\\hline\n",
       "\t 2005 & 2196 & 1034 &  540 &  530 &  454 & 5994 &  635\\\\\n",
       "\t 2006 & 2028 &  950 &  577 &  525 &  483 & 5504 &  591\\\\\n",
       "\t 2007 & 1802 & 1036 &  620 &  507 &  575 & 6148 &  544\\\\\n",
       "\t 2008 & 1691 & 1127 &  561 &  543 &  772 & 6036 &  525\\\\\n",
       "\t 2009 & 1826 & 1086 &  645 &  711 &  845 & 6577 &  627\\\\\n",
       "\t 2010 & 1798 & 1105 &  669 &  865 & 1291 & 6689 &  553\\\\\n",
       "\t 2011 & 1688 & 1199 &  736 &  837 & 1671 & 6900 &  638\\\\\n",
       "\t 2012 & 1767 & 1183 &  753 &  986 & 1847 & 7082 &  687\\\\\n",
       "\t 2013 & 1965 & 1432 &  839 &  954 & 2287 & 7708 &  769\\\\\n",
       "\t 2014 & 1980 & 1870 & 1095 & 1193 & 3053 & 9772 & 1272\\\\\n",
       "\\end{tabular}\n"
      ],
      "text/markdown": [
       "\n",
       "| 년도 | 미용실 | 양식집 | 일식집 | 치킨집 | 커피음료 | 한식음식점 | 호프간이주점 |\n",
       "|---|---|---|---|---|---|---|---|\n",
       "| 2005 | 2196 | 1034 |  540 |  530 |  454 | 5994 |  635 |\n",
       "| 2006 | 2028 |  950 |  577 |  525 |  483 | 5504 |  591 |\n",
       "| 2007 | 1802 | 1036 |  620 |  507 |  575 | 6148 |  544 |\n",
       "| 2008 | 1691 | 1127 |  561 |  543 |  772 | 6036 |  525 |\n",
       "| 2009 | 1826 | 1086 |  645 |  711 |  845 | 6577 |  627 |\n",
       "| 2010 | 1798 | 1105 |  669 |  865 | 1291 | 6689 |  553 |\n",
       "| 2011 | 1688 | 1199 |  736 |  837 | 1671 | 6900 |  638 |\n",
       "| 2012 | 1767 | 1183 |  753 |  986 | 1847 | 7082 |  687 |\n",
       "| 2013 | 1965 | 1432 |  839 |  954 | 2287 | 7708 |  769 |\n",
       "| 2014 | 1980 | 1870 | 1095 | 1193 | 3053 | 9772 | 1272 |\n",
       "\n"
      ],
      "text/plain": [
       "   년도 미용실 양식집 일식집 치킨집 커피음료 한식음식점 호프간이주점\n",
       "1  2005 2196   1034    540    530    454     5994        635        \n",
       "2  2006 2028    950    577    525    483     5504        591        \n",
       "3  2007 1802   1036    620    507    575     6148        544        \n",
       "4  2008 1691   1127    561    543    772     6036        525        \n",
       "5  2009 1826   1086    645    711    845     6577        627        \n",
       "6  2010 1798   1105    669    865   1291     6689        553        \n",
       "7  2011 1688   1199    736    837   1671     6900        638        \n",
       "8  2012 1767   1183    753    986   1847     7082        687        \n",
       "9  2013 1965   1432    839    954   2287     7708        769        \n",
       "10 2014 1980   1870   1095   1193   3053     9772       1272        "
      ]
     },
     "metadata": {},
     "output_type": "display_data"
    }
   ],
   "source": [
    "create_cnt<-read.csv('창업건수.csv',header=T)\n",
    "create_cnt"
   ]
  },
  {
   "cell_type": "code",
   "execution_count": 36,
   "metadata": {
    "ExecuteTime": {
     "end_time": "2020-06-16T02:07:47.110881Z",
     "start_time": "2020-06-16T02:07:46.232Z"
    }
   },
   "outputs": [
    {
     "data": {
      "image/png": "[encoded data removed]",
      "text/plain": [
       "Plot with title \"연도별 치킨집 창업건수\""
      ]
     },
     "metadata": {},
     "output_type": "display_data"
    }
   ],
   "source": [
    "barplot(create_cnt$치킨집, main='연도별 치킨집 창업건수',names.arg=createcnt$년도, col='Green Yellow',density=80, ylim=c(0,1600))"
   ]
  },
  {
   "cell_type": "markdown",
   "metadata": {},
   "source": [
    "### ※ 문제109. 폐업건수.csv를 R로 로드하시오"
   ]
  },
  {
   "cell_type": "code",
   "execution_count": 30,
   "metadata": {
    "ExecuteTime": {
     "end_time": "2020-06-16T02:03:23.479378Z",
     "start_time": "2020-06-16T02:03:23.437Z"
    }
   },
   "outputs": [
    {
     "data": {
      "text/html": [
       "<table>\n",
       "<thead><tr><th scope=col>년도</th><th scope=col>미용실</th><th scope=col>양식집</th><th scope=col>일식집</th><th scope=col>치킨집</th><th scope=col>커피음료</th><th scope=col>한식음식점</th><th scope=col>호프간이주점</th></tr></thead>\n",
       "<tbody>\n",
       "\t<tr><td>2005</td><td>2241</td><td>1354</td><td>497 </td><td> 353</td><td>545 </td><td>6604</td><td>599 </td></tr>\n",
       "\t<tr><td>2006</td><td>2118</td><td>1094</td><td>440 </td><td> 405</td><td>494 </td><td>5782</td><td>589 </td></tr>\n",
       "\t<tr><td>2007</td><td>1940</td><td>1126</td><td>458 </td><td>3579</td><td>486 </td><td>5172</td><td>552 </td></tr>\n",
       "\t<tr><td>2008</td><td>1706</td><td> 827</td><td>446 </td><td> 399</td><td>553 </td><td>4987</td><td>555 </td></tr>\n",
       "\t<tr><td>2009</td><td>1518</td><td> 876</td><td>470 </td><td> 308</td><td>493 </td><td>4888</td><td>460 </td></tr>\n",
       "\t<tr><td>2010</td><td>1543</td><td> 834</td><td>489 </td><td> 464</td><td>598 </td><td>4764</td><td>519 </td></tr>\n",
       "\t<tr><td>2011</td><td>1508</td><td> 877</td><td>478 </td><td> 538</td><td>711 </td><td>5200</td><td>450 </td></tr>\n",
       "\t<tr><td>2012</td><td>1325</td><td> 785</td><td>443 </td><td> 510</td><td>786 </td><td>4210</td><td>405 </td></tr>\n",
       "\t<tr><td>2013</td><td>1257</td><td> 801</td><td>433 </td><td> 560</td><td>845 </td><td>4752</td><td>467 </td></tr>\n",
       "\t<tr><td>2014</td><td>1279</td><td> 776</td><td>439 </td><td> 511</td><td>998 </td><td>4010</td><td>378 </td></tr>\n",
       "</tbody>\n",
       "</table>\n"
      ],
      "text/latex": [
       "\\begin{tabular}{r|llllllll}\n",
       " 년도 & 미용실 & 양식집 & 일식집 & 치킨집 & 커피음료 & 한식음식점 & 호프간이주점\\\\\n",
       "\\hline\n",
       "\t 2005 & 2241 & 1354 & 497  &  353 & 545  & 6604 & 599 \\\\\n",
       "\t 2006 & 2118 & 1094 & 440  &  405 & 494  & 5782 & 589 \\\\\n",
       "\t 2007 & 1940 & 1126 & 458  & 3579 & 486  & 5172 & 552 \\\\\n",
       "\t 2008 & 1706 &  827 & 446  &  399 & 553  & 4987 & 555 \\\\\n",
       "\t 2009 & 1518 &  876 & 470  &  308 & 493  & 4888 & 460 \\\\\n",
       "\t 2010 & 1543 &  834 & 489  &  464 & 598  & 4764 & 519 \\\\\n",
       "\t 2011 & 1508 &  877 & 478  &  538 & 711  & 5200 & 450 \\\\\n",
       "\t 2012 & 1325 &  785 & 443  &  510 & 786  & 4210 & 405 \\\\\n",
       "\t 2013 & 1257 &  801 & 433  &  560 & 845  & 4752 & 467 \\\\\n",
       "\t 2014 & 1279 &  776 & 439  &  511 & 998  & 4010 & 378 \\\\\n",
       "\\end{tabular}\n"
      ],
      "text/markdown": [
       "\n",
       "| 년도 | 미용실 | 양식집 | 일식집 | 치킨집 | 커피음료 | 한식음식점 | 호프간이주점 |\n",
       "|---|---|---|---|---|---|---|---|\n",
       "| 2005 | 2241 | 1354 | 497  |  353 | 545  | 6604 | 599  |\n",
       "| 2006 | 2118 | 1094 | 440  |  405 | 494  | 5782 | 589  |\n",
       "| 2007 | 1940 | 1126 | 458  | 3579 | 486  | 5172 | 552  |\n",
       "| 2008 | 1706 |  827 | 446  |  399 | 553  | 4987 | 555  |\n",
       "| 2009 | 1518 |  876 | 470  |  308 | 493  | 4888 | 460  |\n",
       "| 2010 | 1543 |  834 | 489  |  464 | 598  | 4764 | 519  |\n",
       "| 2011 | 1508 |  877 | 478  |  538 | 711  | 5200 | 450  |\n",
       "| 2012 | 1325 |  785 | 443  |  510 | 786  | 4210 | 405  |\n",
       "| 2013 | 1257 |  801 | 433  |  560 | 845  | 4752 | 467  |\n",
       "| 2014 | 1279 |  776 | 439  |  511 | 998  | 4010 | 378  |\n",
       "\n"
      ],
      "text/plain": [
       "   년도 미용실 양식집 일식집 치킨집 커피음료 한식음식점 호프간이주점\n",
       "1  2005 2241   1354   497     353   545      6604       599         \n",
       "2  2006 2118   1094   440     405   494      5782       589         \n",
       "3  2007 1940   1126   458    3579   486      5172       552         \n",
       "4  2008 1706    827   446     399   553      4987       555         \n",
       "5  2009 1518    876   470     308   493      4888       460         \n",
       "6  2010 1543    834   489     464   598      4764       519         \n",
       "7  2011 1508    877   478     538   711      5200       450         \n",
       "8  2012 1325    785   443     510   786      4210       405         \n",
       "9  2013 1257    801   433     560   845      4752       467         \n",
       "10 2014 1279    776   439     511   998      4010       378         "
      ]
     },
     "metadata": {},
     "output_type": "display_data"
    }
   ],
   "source": [
    "drop_cnt<-read.csv('폐업건수.csv',header=T)\n",
    "drop_cnt"
   ]
  },
  {
   "cell_type": "markdown",
   "metadata": {},
   "source": [
    "### ※ 문제110. 치킨집 창업건수의 막대그래프 코드를 이용해서 치킨집 폐업건수를 막대그래프로 시각화 하시오"
   ]
  },
  {
   "cell_type": "code",
   "execution_count": 34,
   "metadata": {
    "ExecuteTime": {
     "end_time": "2020-06-16T02:07:35.115921Z",
     "start_time": "2020-06-16T02:07:35.047Z"
    }
   },
   "outputs": [
    {
     "data": {
      "image/png": "[encoded data removed]",
      "text/plain": [
       "Plot with title \"치킨집 폐업건수\""
      ]
     },
     "metadata": {},
     "output_type": "display_data"
    }
   ],
   "source": [
    "barplot(drop_cnt$치킨집,main='치킨집 폐업건수', names.arg=drop_cnt$년도,col='pink',ylim=c(0,4000))"
   ]
  },
  {
   "cell_type": "markdown",
   "metadata": {},
   "source": [
    "### ※ 문제111. 치킨집 연도별 창업건수, 폐업건수를 같이 막대 그래프로 시각화 하시오"
   ]
  },
  {
   "cell_type": "code",
   "execution_count": 39,
   "metadata": {
    "ExecuteTime": {
     "end_time": "2020-06-16T02:09:33.470520Z",
     "start_time": "2020-06-16T02:09:33.424Z"
    }
   },
   "outputs": [
    {
     "data": {
      "text/html": [
       "<table>\n",
       "<thead><tr><th></th><th scope=col>2005</th><th scope=col>2006</th><th scope=col>2007</th><th scope=col>2008</th><th scope=col>2009</th><th scope=col>2010</th><th scope=col>2011</th><th scope=col>2012</th><th scope=col>2013</th><th scope=col>2014</th></tr></thead>\n",
       "<tbody>\n",
       "\t<tr><th scope=row>창업</th><td>530 </td><td>525 </td><td> 507</td><td>543 </td><td>711 </td><td>865 </td><td>837 </td><td>986 </td><td>954 </td><td>1193</td></tr>\n",
       "\t<tr><th scope=row>폐업</th><td>353 </td><td>405 </td><td>3579</td><td>399 </td><td>308 </td><td>464 </td><td>538 </td><td>510 </td><td>560 </td><td> 511</td></tr>\n",
       "</tbody>\n",
       "</table>\n"
      ],
      "text/latex": [
       "\\begin{tabular}{r|llllllllll}\n",
       "  & 2005 & 2006 & 2007 & 2008 & 2009 & 2010 & 2011 & 2012 & 2013 & 2014\\\\\n",
       "\\hline\n",
       "\t창업 & 530  & 525  &  507 & 543  & 711  & 865  & 837  & 986  & 954  & 1193\\\\\n",
       "\t폐업 & 353  & 405  & 3579 & 399  & 308  & 464  & 538  & 510  & 560  &  511\\\\\n",
       "\\end{tabular}\n"
      ],
      "text/markdown": [
       "\n",
       "| <!--/--> | 2005 | 2006 | 2007 | 2008 | 2009 | 2010 | 2011 | 2012 | 2013 | 2014 |\n",
       "|---|---|---|---|---|---|---|---|---|---|---|\n",
       "| 창업 | 530  | 525  |  507 | 543  | 711  | 865  | 837  | 986  | 954  | 1193 |\n",
       "| 폐업 | 353  | 405  | 3579 | 399  | 308  | 464  | 538  | 510  | 560  |  511 |\n",
       "\n"
      ],
      "text/plain": [
       "     2005 2006 2007 2008 2009 2010 2011 2012 2013 2014\n",
       "창업 530  525   507 543  711  865  837  986  954  1193\n",
       "폐업 353  405  3579 399  308  464  538  510  560   511"
      ]
     },
     "metadata": {},
     "output_type": "display_data"
    }
   ],
   "source": [
    "x<-rbind(create_cnt$치킨집, drop_cnt$치킨집)\n",
    "rownames(x)=c('창업','폐업')\n",
    "colnames(x)=drop_cnt$년도\n",
    "x"
   ]
  },
  {
   "cell_type": "code",
   "execution_count": 45,
   "metadata": {
    "ExecuteTime": {
     "end_time": "2020-06-16T02:14:09.402034Z",
     "start_time": "2020-06-16T02:14:09.332Z"
    }
   },
   "outputs": [
    {
     "data": {
      "image/png": "[encoded data removed]",
      "text/plain": [
       "Plot with title \"연도별 치킨집 창/폐업 건수\""
      ]
     },
     "metadata": {},
     "output_type": "display_data"
    }
   ],
   "source": [
    "barplot(x, main='연도별 치킨집 창/폐업 건수',names.arg=drop_cnt$년도,col=c('blue','red'),beside=T,ylab='Count',xlab='Year',ylim=c(0,4000))"
   ]
  },
  {
   "cell_type": "markdown",
   "metadata": {},
   "source": [
    "### ※ 문제112. 위의 그래프에 legend를 달아서 파란색을 창업이고 빨간색을 폐업이다 라고 하시오"
   ]
  },
  {
   "cell_type": "code",
   "execution_count": 57,
   "metadata": {
    "ExecuteTime": {
     "end_time": "2020-06-16T02:18:23.607592Z",
     "start_time": "2020-06-16T02:18:23.540Z"
    }
   },
   "outputs": [
    {
     "data": {
      "image/png": "[encoded data removed]",
      "text/plain": [
       "Plot with title \"연도별 치킨집 창/폐업 건수\""
      ]
     },
     "metadata": {},
     "output_type": "display_data"
    }
   ],
   "source": [
    "barplot(x, main='연도별 치킨집 창/폐업 건수',names.arg=drop_cnt$년도,col=c('blue','red'),beside=T,ylab='Count',xlab='Year',ylim=c(0,4000),\n",
    "        args.legend=list(x='topright',bty='n',inset=c(-5,-5)))"
   ]
  },
  {
   "cell_type": "markdown",
   "metadata": {},
   "source": [
    "### ※ 문제113. 카페(커피음료)가 얼마나 창업하고 얼마나 폐업하는지 막대그래프로 시각화 하시오"
   ]
  },
  {
   "cell_type": "code",
   "execution_count": 60,
   "metadata": {
    "ExecuteTime": {
     "end_time": "2020-06-16T02:22:16.494369Z",
     "start_time": "2020-06-16T02:22:16.417Z"
    }
   },
   "outputs": [
    {
     "data": {
      "image/png": "[encoded data removed]",
      "text/plain": [
       "Plot with title \"연도별 카페 창/폐업 건수\""
      ]
     },
     "metadata": {},
     "output_type": "display_data"
    }
   ],
   "source": [
    "x<-rbind(create_cnt$커피음료, drop_cnt$커피음료)\n",
    "rownames(x)=c('창업','폐업')\n",
    "colnames(x)=drop_cnt$년도\n",
    "barplot(x,col=c('blue','red'),main='연도별 카페 창/폐업 건수',xlab='Year',ylab='Count',beside=T,ylim=c(0,3500),args.legend=list(x='center',bty='n',inset=c(0,-1)))"
   ]
  },
  {
   "cell_type": "markdown",
   "metadata": {},
   "source": [
    "### ※ 문제114. 위에서 그린 막대 그래프를 R 샤이니로 자동화 시키는 기본 코드를 돌려보시오"
   ]
  },
  {
   "cell_type": "code",
   "execution_count": null,
   "metadata": {
    "ExecuteTime": {
     "start_time": "2020-06-16T02:43:27.420Z"
    }
   },
   "outputs": [
    {
     "name": "stderr",
     "output_type": "stream",
     "text": [
      "\n",
      "Listening on http://127.0.0.1:7999\n"
     ]
    }
   ],
   "source": [
    "library(shiny)\n",
    "setwd(\"d:/R\") \n",
    "create_cnt <- read.csv(\"창업건수.csv\", header=T)\n",
    "# Define UI ----\n",
    "ui <- fluidPage(    \n",
    "  # Give the page a title\n",
    "  titlePanel(\"년도별 업종별 창업현황\"),\n",
    "  # Generate a row with a sidebar \n",
    "  sidebarLayout(      \n",
    "    # Define the sidebar with one input\n",
    "    sidebarPanel(############################################## 데이터 입력에 대한 화면 구현\n",
    "      selectInput(\"region\", \"업종:\",########################### selectInput에서 설정한 변수를 server에서 데이터를 받아온다.\n",
    "                  choices=colnames(create_cnt)[-1]),\n",
    "      helpText(\"업종별 창업과 폐업 현황 보고서\")\n",
    "    ),\n",
    "    # Create a spot for the barplot\n",
    "    mainPanel(\n",
    "      plotOutput(\"typePlot\")  ################################# output$typePlot data를 받아서 main panel에서 출력(plotOutput)\n",
    "    )\n",
    "  )\n",
    ")\n",
    "\n",
    "# Define server logic ----\n",
    "server <-function(input, output) {\n",
    "  # Fill in the spot we created for a plot\n",
    "  output$typePlot <- renderPlot({\n",
    "    # Render a barplot\n",
    "    barplot(create_cnt[,input$region], ####################### input$변수 -> column 데이터 \n",
    "            main=input$region,\n",
    "            col = rainbow(10),\n",
    "            density=50,\n",
    "            names.arg= create_cnt$년도,    \n",
    "            ylab=\"건수\",\n",
    "            xlab=\"년도\")\n",
    "  })\n",
    "}\n",
    "# Run the app ----\n",
    "shinyApp(ui = ui, server = server)"
   ]
  },
  {
   "cell_type": "markdown",
   "metadata": {},
   "source": [
    "### ※ 문제115. 폐업건수.csv를 로드해서 자동으로 업종을 골라서 막대그래프로 시각화 할 수 있도록 하시오"
   ]
  },
  {
   "cell_type": "code",
   "execution_count": null,
   "metadata": {},
   "outputs": [],
   "source": [
    "create_cnt <- read.csv(\"창업건수.csv\", header=T)\n",
    "drop_cnt <- read.csv('폐업건수.csv',header=T)\n",
    "x=rbind(create_cnt,drop_cnt)\n",
    "# Define UI ----\n",
    "ui <- fluidPage(    \n",
    "  # Give the page a title\n",
    "  titlePanel(\"년도별 업종별 폐업현황\"),\n",
    "  # Generate a row with a sidebar\n",
    "  sidebarLayout(      \n",
    "    # Define the sidebar with one input\n",
    "    sidebarPanel(############################################## 데이터 입력에 대한 화면 구현\n",
    "      selectInput(\"region\", \"업종:\",########################### selectInput에서 설정한 변수를 server에서 데이터를 받아온다.\n",
    "                  choices=colnames(create_cnt)[-1]),\n",
    "      helpText(\"업종별 창업과 폐업 현황 보고서\")\n",
    "    ),\n",
    "    # Create a spot for the barplot\n",
    "    mainPanel(\n",
    "      plotOutput(\"typePlot\")  ################################# output$typePlot data를 받아서 main panel에서 출력(plotOutput)\n",
    "    )\n",
    "  )\n",
    ")\n",
    "\n",
    "# Define server logic ----\n",
    "server <-function(input, output) {\n",
    "  # Fill in the spot we created for a plot\n",
    "  output$typePlot <- renderPlot({\n",
    "    # Render a barplot\n",
    "    barplot(drop_cnt[,input$region], ####################### input$변수 -> column 데이터 \n",
    "            main=input$region,\n",
    "            col = rainbow(10),\n",
    "            density=50,\n",
    "            names.arg= drop_cnt$년도,    \n",
    "            ylab=\"건수\",\n",
    "            xlab=\"년도\")\n",
    "  })\n",
    "}\n",
    "# Run the app ----\n",
    "shinyApp(ui = ui, server = server)"
   ]
  },
  {
   "cell_type": "code",
   "execution_count": 17,
   "metadata": {
    "ExecuteTime": {
     "end_time": "2020-06-16T03:01:32.981716Z",
     "start_time": "2020-06-16T03:01:32.900Z"
    }
   },
   "outputs": [
    {
     "data": {
      "text/html": [
       "<table>\n",
       "<thead><tr><th scope=col>년도</th><th scope=col>미용실</th><th scope=col>양식집</th><th scope=col>일식집</th><th scope=col>치킨집</th><th scope=col>커피음료</th><th scope=col>한식음식점</th><th scope=col>호프간이주점</th></tr></thead>\n",
       "<tbody>\n",
       "\t<tr><td>2005</td><td>2196</td><td>1034</td><td> 540</td><td> 530</td><td> 454</td><td>5994</td><td> 635</td></tr>\n",
       "\t<tr><td>2006</td><td>2028</td><td> 950</td><td> 577</td><td> 525</td><td> 483</td><td>5504</td><td> 591</td></tr>\n",
       "\t<tr><td>2007</td><td>1802</td><td>1036</td><td> 620</td><td> 507</td><td> 575</td><td>6148</td><td> 544</td></tr>\n",
       "\t<tr><td>2008</td><td>1691</td><td>1127</td><td> 561</td><td> 543</td><td> 772</td><td>6036</td><td> 525</td></tr>\n",
       "\t<tr><td>2009</td><td>1826</td><td>1086</td><td> 645</td><td> 711</td><td> 845</td><td>6577</td><td> 627</td></tr>\n",
       "\t<tr><td>2010</td><td>1798</td><td>1105</td><td> 669</td><td> 865</td><td>1291</td><td>6689</td><td> 553</td></tr>\n",
       "\t<tr><td>2011</td><td>1688</td><td>1199</td><td> 736</td><td> 837</td><td>1671</td><td>6900</td><td> 638</td></tr>\n",
       "\t<tr><td>2012</td><td>1767</td><td>1183</td><td> 753</td><td> 986</td><td>1847</td><td>7082</td><td> 687</td></tr>\n",
       "\t<tr><td>2013</td><td>1965</td><td>1432</td><td> 839</td><td> 954</td><td>2287</td><td>7708</td><td> 769</td></tr>\n",
       "\t<tr><td>2014</td><td>1980</td><td>1870</td><td>1095</td><td>1193</td><td>3053</td><td>9772</td><td>1272</td></tr>\n",
       "\t<tr><td>2005</td><td>2241</td><td>1354</td><td> 497</td><td> 353</td><td> 545</td><td>6604</td><td> 599</td></tr>\n",
       "\t<tr><td>2006</td><td>2118</td><td>1094</td><td> 440</td><td> 405</td><td> 494</td><td>5782</td><td> 589</td></tr>\n",
       "\t<tr><td>2007</td><td>1940</td><td>1126</td><td> 458</td><td>3579</td><td> 486</td><td>5172</td><td> 552</td></tr>\n",
       "\t<tr><td>2008</td><td>1706</td><td> 827</td><td> 446</td><td> 399</td><td> 553</td><td>4987</td><td> 555</td></tr>\n",
       "\t<tr><td>2009</td><td>1518</td><td> 876</td><td> 470</td><td> 308</td><td> 493</td><td>4888</td><td> 460</td></tr>\n",
       "\t<tr><td>2010</td><td>1543</td><td> 834</td><td> 489</td><td> 464</td><td> 598</td><td>4764</td><td> 519</td></tr>\n",
       "\t<tr><td>2011</td><td>1508</td><td> 877</td><td> 478</td><td> 538</td><td> 711</td><td>5200</td><td> 450</td></tr>\n",
       "\t<tr><td>2012</td><td>1325</td><td> 785</td><td> 443</td><td> 510</td><td> 786</td><td>4210</td><td> 405</td></tr>\n",
       "\t<tr><td>2013</td><td>1257</td><td> 801</td><td> 433</td><td> 560</td><td> 845</td><td>4752</td><td> 467</td></tr>\n",
       "\t<tr><td>2014</td><td>1279</td><td> 776</td><td> 439</td><td> 511</td><td> 998</td><td>4010</td><td> 378</td></tr>\n",
       "</tbody>\n",
       "</table>\n"
      ],
      "text/latex": [
       "\\begin{tabular}{r|llllllll}\n",
       " 년도 & 미용실 & 양식집 & 일식집 & 치킨집 & 커피음료 & 한식음식점 & 호프간이주점\\\\\n",
       "\\hline\n",
       "\t 2005 & 2196 & 1034 &  540 &  530 &  454 & 5994 &  635\\\\\n",
       "\t 2006 & 2028 &  950 &  577 &  525 &  483 & 5504 &  591\\\\\n",
       "\t 2007 & 1802 & 1036 &  620 &  507 &  575 & 6148 &  544\\\\\n",
       "\t 2008 & 1691 & 1127 &  561 &  543 &  772 & 6036 &  525\\\\\n",
       "\t 2009 & 1826 & 1086 &  645 &  711 &  845 & 6577 &  627\\\\\n",
       "\t 2010 & 1798 & 1105 &  669 &  865 & 1291 & 6689 &  553\\\\\n",
       "\t 2011 & 1688 & 1199 &  736 &  837 & 1671 & 6900 &  638\\\\\n",
       "\t 2012 & 1767 & 1183 &  753 &  986 & 1847 & 7082 &  687\\\\\n",
       "\t 2013 & 1965 & 1432 &  839 &  954 & 2287 & 7708 &  769\\\\\n",
       "\t 2014 & 1980 & 1870 & 1095 & 1193 & 3053 & 9772 & 1272\\\\\n",
       "\t 2005 & 2241 & 1354 &  497 &  353 &  545 & 6604 &  599\\\\\n",
       "\t 2006 & 2118 & 1094 &  440 &  405 &  494 & 5782 &  589\\\\\n",
       "\t 2007 & 1940 & 1126 &  458 & 3579 &  486 & 5172 &  552\\\\\n",
       "\t 2008 & 1706 &  827 &  446 &  399 &  553 & 4987 &  555\\\\\n",
       "\t 2009 & 1518 &  876 &  470 &  308 &  493 & 4888 &  460\\\\\n",
       "\t 2010 & 1543 &  834 &  489 &  464 &  598 & 4764 &  519\\\\\n",
       "\t 2011 & 1508 &  877 &  478 &  538 &  711 & 5200 &  450\\\\\n",
       "\t 2012 & 1325 &  785 &  443 &  510 &  786 & 4210 &  405\\\\\n",
       "\t 2013 & 1257 &  801 &  433 &  560 &  845 & 4752 &  467\\\\\n",
       "\t 2014 & 1279 &  776 &  439 &  511 &  998 & 4010 &  378\\\\\n",
       "\\end{tabular}\n"
      ],
      "text/markdown": [
       "\n",
       "| 년도 | 미용실 | 양식집 | 일식집 | 치킨집 | 커피음료 | 한식음식점 | 호프간이주점 |\n",
       "|---|---|---|---|---|---|---|---|\n",
       "| 2005 | 2196 | 1034 |  540 |  530 |  454 | 5994 |  635 |\n",
       "| 2006 | 2028 |  950 |  577 |  525 |  483 | 5504 |  591 |\n",
       "| 2007 | 1802 | 1036 |  620 |  507 |  575 | 6148 |  544 |\n",
       "| 2008 | 1691 | 1127 |  561 |  543 |  772 | 6036 |  525 |\n",
       "| 2009 | 1826 | 1086 |  645 |  711 |  845 | 6577 |  627 |\n",
       "| 2010 | 1798 | 1105 |  669 |  865 | 1291 | 6689 |  553 |\n",
       "| 2011 | 1688 | 1199 |  736 |  837 | 1671 | 6900 |  638 |\n",
       "| 2012 | 1767 | 1183 |  753 |  986 | 1847 | 7082 |  687 |\n",
       "| 2013 | 1965 | 1432 |  839 |  954 | 2287 | 7708 |  769 |\n",
       "| 2014 | 1980 | 1870 | 1095 | 1193 | 3053 | 9772 | 1272 |\n",
       "| 2005 | 2241 | 1354 |  497 |  353 |  545 | 6604 |  599 |\n",
       "| 2006 | 2118 | 1094 |  440 |  405 |  494 | 5782 |  589 |\n",
       "| 2007 | 1940 | 1126 |  458 | 3579 |  486 | 5172 |  552 |\n",
       "| 2008 | 1706 |  827 |  446 |  399 |  553 | 4987 |  555 |\n",
       "| 2009 | 1518 |  876 |  470 |  308 |  493 | 4888 |  460 |\n",
       "| 2010 | 1543 |  834 |  489 |  464 |  598 | 4764 |  519 |\n",
       "| 2011 | 1508 |  877 |  478 |  538 |  711 | 5200 |  450 |\n",
       "| 2012 | 1325 |  785 |  443 |  510 |  786 | 4210 |  405 |\n",
       "| 2013 | 1257 |  801 |  433 |  560 |  845 | 4752 |  467 |\n",
       "| 2014 | 1279 |  776 |  439 |  511 |  998 | 4010 |  378 |\n",
       "\n"
      ],
      "text/plain": [
       "   년도 미용실 양식집 일식집 치킨집 커피음료 한식음식점 호프간이주점\n",
       "1  2005 2196   1034    540    530    454     5994        635        \n",
       "2  2006 2028    950    577    525    483     5504        591        \n",
       "3  2007 1802   1036    620    507    575     6148        544        \n",
       "4  2008 1691   1127    561    543    772     6036        525        \n",
       "5  2009 1826   1086    645    711    845     6577        627        \n",
       "6  2010 1798   1105    669    865   1291     6689        553        \n",
       "7  2011 1688   1199    736    837   1671     6900        638        \n",
       "8  2012 1767   1183    753    986   1847     7082        687        \n",
       "9  2013 1965   1432    839    954   2287     7708        769        \n",
       "10 2014 1980   1870   1095   1193   3053     9772       1272        \n",
       "11 2005 2241   1354    497    353    545     6604        599        \n",
       "12 2006 2118   1094    440    405    494     5782        589        \n",
       "13 2007 1940   1126    458   3579    486     5172        552        \n",
       "14 2008 1706    827    446    399    553     4987        555        \n",
       "15 2009 1518    876    470    308    493     4888        460        \n",
       "16 2010 1543    834    489    464    598     4764        519        \n",
       "17 2011 1508    877    478    538    711     5200        450        \n",
       "18 2012 1325    785    443    510    786     4210        405        \n",
       "19 2013 1257    801    433    560    845     4752        467        \n",
       "20 2014 1279    776    439    511    998     4010        378        "
      ]
     },
     "metadata": {},
     "output_type": "display_data"
    }
   ],
   "source": [
    "create_cnt <- read.csv(\"창업건수.csv\", header=T)\n",
    "drop_cnt <- read.csv('폐업건수.csv',header=T)\n",
    "x=rbind(create_cnt,drop_cnt)\n"
   ]
  },
  {
   "cell_type": "markdown",
   "metadata": {},
   "source": [
    "### ※ 문제116. R shiny로 창업과 폐업을 같이 출력되게 하게끔 코드를 수정하시오"
   ]
  },
  {
   "cell_type": "code",
   "execution_count": null,
   "metadata": {},
   "outputs": [],
   "source": [
    "library(shiny)\n",
    "library(datasets)\n",
    "create_cnt <- read.csv(\"창업건수.csv\", header=T)\n",
    "drop_cnt <- read.csv(\"폐업건수.csv\", header=T) \n",
    "\n",
    "# Define UI ----\n",
    "ui <- fluidPage(    \n",
    "  # Give the page a title\n",
    "  titlePanel(\"연도별 업종별 창/폐업현황\"),\n",
    "  # Generate a row with a sidebar\n",
    "  sidebarLayout(      \n",
    "    # Define the sidebar with one input\n",
    "    sidebarPanel(\n",
    "      selectInput(\"region\", \"업종:\", \n",
    "                  choices=colnames(create_cnt)[-1]),\n",
    "      hr(),\n",
    "      helpText(\"업종별 창업과 폐업 현황 보고서\")\n",
    "    ),\n",
    "    # Create a spot for the barplot\n",
    "    mainPanel(\n",
    "      plotOutput(\"typePlot\")  \n",
    "    )\n",
    "  )\n",
    ")\n",
    "\n",
    "# Define server logic ----\n",
    "server <-function(input, output) {\n",
    "  # Fill in the spot we created for a plot\n",
    "  output$typePlot <- renderPlot({\n",
    "    # Render a barplot\n",
    " barplot( rbind( create_cnt[,input$region], ################ rbind를 이용해서 두 개 이상의 데이터를 묶어서 표현\n",
    "                 drop_cnt[,input$region] ),\n",
    "            main=input$region,\n",
    "            col = c(\"blue\",\"red\"),########################## 데이터의 개수 만큼 color값도 combine해서 부여\n",
    "            beside=T, ###################################### 각각 확인할 수 있도록 beside값 true\n",
    "            density=50,\n",
    "            names.arg= create_cnt$년도,    \n",
    "            ylab=\"Count\",\n",
    "            xlab=\"Year\")\n",
    "  })\n",
    "}\n",
    "\n",
    "# Run the app ----\n",
    "shinyApp(ui = ui, server = server)"
   ]
  },
  {
   "cell_type": "markdown",
   "metadata": {},
   "source": [
    "### ※ 문제117. 위에서 구현한 샤이니 화면에 legend 도 출력되게 하시오!"
   ]
  },
  {
   "cell_type": "code",
   "execution_count": null,
   "metadata": {},
   "outputs": [],
   "source": [
    "library(shiny)\n",
    "library(datasets)\n",
    "create_cnt <- read.csv(\"창업건수.csv\", header=T)\n",
    "drop_cnt <- read.csv(\"폐업건수.csv\", header=T) \n",
    "\n",
    "# Define UI ----\n",
    "ui <- fluidPage(    \n",
    "  # Give the page a title\n",
    "  titlePanel(\"연도별 업종별 창/폐업현황\"),\n",
    "  # Generate a row with a sidebar\n",
    "  sidebarLayout(      \n",
    "    # Define the sidebar with one input\n",
    "    sidebarPanel(\n",
    "      selectInput(\"region\", \"업종:\", \n",
    "                  choices=colnames(create_cnt)[-1]),\n",
    "      hr(),\n",
    "      helpText(\"업종별 창업과 폐업 현황 보고서\")\n",
    "    ),\n",
    "    # Create a spot for the barplot\n",
    "    mainPanel(\n",
    "      plotOutput(\"typePlot\")  \n",
    "    )\n",
    "  )\n",
    ")\n",
    "\n",
    "# Define server logic ----\n",
    "server <-function(input, output) {\n",
    "  # Fill in the spot we created for a plot\n",
    "  output$typePlot <- renderPlot({\n",
    "    # Render a barplot\n",
    " barplot( rbind( create_cnt[,input$region], ################ rbind를 이용해서 두 개 이상의 데이터를 묶어서 표현\n",
    "                 drop_cnt[,input$region] ),\n",
    "            main=input$region,\n",
    "            col = c(\"blue\",\"red\"),########################## 데이터의 개수 만큼 color값도 combine해서 부여\n",
    "            beside=T, ###################################### 각각 확인할 수 있도록 beside값 true\n",
    "            density=50,\n",
    "            names.arg= create_cnt$년도,    \n",
    "            ylab=\"Count\",\n",
    "            xlab=\"Year\")\n",
    "  })\n",
    "}\n",
    "\n",
    "# Run the app ----\n",
    "shinyApp(ui = ui, server = server)"
   ]
  },
  {
   "cell_type": "code",
   "execution_count": null,
   "metadata": {},
   "outputs": [],
   "source": []
  },
  {
   "cell_type": "code",
   "execution_count": null,
   "metadata": {},
   "outputs": [],
   "source": []
  },
  {
   "cell_type": "code",
   "execution_count": null,
   "metadata": {},
   "outputs": [],
   "source": []
  },
  {
   "cell_type": "code",
   "execution_count": null,
   "metadata": {},
   "outputs": [],
   "source": []
  },
  {
   "cell_type": "code",
   "execution_count": null,
   "metadata": {},
   "outputs": [],
   "source": []
  }
 ],
 "metadata": {
  "kernelspec": {
   "display_name": "R",
   "language": "R",
   "name": "ir"
  },
  "language_info": {
   "codemirror_mode": "r",
   "file_extension": ".r",
   "mimetype": "text/x-r-source",
   "name": "R",
   "pygments_lexer": "r",
   "version": "3.6.1"
  },
  "toc": {
   "base_numbering": 1,
   "nav_menu": {},
   "number_sections": true,
   "sideBar": true,
   "skip_h1_title": false,
   "title_cell": "Table of Contents",
   "title_sidebar": "Contents",
   "toc_cell": false,
   "toc_position": {},
   "toc_section_display": true,
   "toc_window_display": false
  },
  "varInspector": {
   "cols": {
    "lenName": 16,
    "lenType": 16,
    "lenVar": 40
   },
   "kernels_config": {
    "python": {
     "delete_cmd_postfix": "",
     "delete_cmd_prefix": "del ",
     "library": "var_list.py",
     "varRefreshCmd": "print(var_dic_list())"
    },
    "r": {
     "delete_cmd_postfix": ") ",
     "delete_cmd_prefix": "rm(",
     "library": "var_list.r",
     "varRefreshCmd": "cat(var_dic_list()) "
    }
   },
   "types_to_exclude": [
    "module",
    "function",
    "builtin_function_or_method",
    "instance",
    "_Feature"
   ],
   "window_display": false
  }
 },
 "nbformat": 4,
 "nbformat_minor": 4
}
